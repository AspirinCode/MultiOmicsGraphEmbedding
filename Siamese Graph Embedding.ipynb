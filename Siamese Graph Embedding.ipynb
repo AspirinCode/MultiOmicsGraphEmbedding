{
 "cells": [
  {
   "cell_type": "code",
   "execution_count": 1,
   "metadata": {
    "scrolled": true
   },
   "outputs": [],
   "source": [
    "# Necessary imports\n",
    "%load_ext autoreload\n",
    "%autoreload 2\n",
    "\n",
    "import networkx as nx\n",
    "import numpy as np\n",
    "import pandas as pd\n",
    "\n",
    "from TCGAMultiOmics.multiomics import MultiOmicsData\n",
    "from moge.network.heterogeneous_network import HeterogeneousNetwork\n",
    "\n",
    "from moge.visualization.plot_data import matrix_heatmap, bar_chart"
   ]
  },
  {
   "cell_type": "markdown",
   "metadata": {},
   "source": [
    "#  Import network from file"
   ]
  },
  {
   "cell_type": "code",
   "execution_count": 2,
   "metadata": {
    "scrolled": true
   },
   "outputs": [],
   "source": [
    "import pickle\n",
    "\n",
    "# READ\n",
    "with open('moge/data/LMN_future_recall/TRAIN/Interactions_Affinity/LMN_mirtarbase_biogrid_starbase_lncrna2target_lncrinter.train.pickle', 'rb') as file:\n",
    "    network = pickle.load(file)\n",
    "    network.G.remove_edges_from(network.G.selfloop_edges(data=True))"
   ]
  },
  {
   "cell_type": "code",
   "execution_count": 3,
   "metadata": {
    "scrolled": true
   },
   "outputs": [],
   "source": [
    "# READ edgelists\n",
    "with open('moge/data/LMN_future_recall/TEST/Interactions_Affinity/LMN_mirtarbase_biogrid_starbase_lncrna2target_lncrinter.test.pickle', 'rb') as file:\n",
    "    network_val = pickle.load(file)\n",
    "    network_val.G.remove_edges_from(network_val.G.selfloop_edges(data=True))"
   ]
  },
  {
   "cell_type": "code",
   "execution_count": 4,
   "metadata": {},
   "outputs": [],
   "source": [
    "# with open('moge/data/luad_data_shortest.pickle', 'rb') as file:\n",
    "#     luad_data = pickle.load(file)\n",
    "#     network.multi_omics_data = luad_data\n",
    "#     network.process_genes_info()"
   ]
  },
  {
   "cell_type": "code",
   "execution_count": 5,
   "metadata": {},
   "outputs": [
    {
     "name": "stdout",
     "output_type": "stream",
     "text": [
      "Genes info columns: ['Disease association', 'locus_type', 'Transcript sequence', 'Chromosome', 'GO Terms', 'Family']\n",
      "Number of nodes without seq removed: -9088\n",
      "Total nodes (filtered): 23653\n",
      "Genes info columns: ['Disease association', 'locus_type', 'Transcript sequence', 'Chromosome', 'GO Terms', 'Family']\n",
      "Number of nodes without seq removed: -10093\n",
      "Total nodes (filtered): 22648\n"
     ]
    }
   ],
   "source": [
    "import pickle\n",
    "with open('moge/data/luad_data_multi_U-T.pickle', 'rb') as file:\n",
    "    luad_data = pickle.load(file)\n",
    "    network.multi_omics_data = luad_data\n",
    "    network.process_genes_info()\n",
    "    network_val.multi_omics_data = luad_data\n",
    "    network_val.process_genes_info()"
   ]
  },
  {
   "cell_type": "code",
   "execution_count": 6,
   "metadata": {},
   "outputs": [
    {
     "data": {
      "text/plain": [
       "count     0\n",
       "unique    0\n",
       "Name: Transcript length, dtype: int64"
      ]
     },
     "execution_count": 6,
     "metadata": {},
     "output_type": "execute_result"
    }
   ],
   "source": [
    "network.genes_info[\"Transcript length\"] = network.genes_info[\"Transcript sequence\"].apply(lambda x: len(x) if type(x) == str else None)\n",
    "network.genes_info[\"Transcript length\"].describe(percentiles=[.50, .75, .85, .90, .95, .99])"
   ]
  },
  {
   "cell_type": "code",
   "execution_count": 7,
   "metadata": {},
   "outputs": [],
   "source": [
    "# import yaml\n",
    "# with open(\"logs/SiameseGraphEmbeddin_03-29_11-50PM/params.txt\", \"r\") as file:\n",
    "#     params = yaml.load(str(file.read()))\n",
    "#     params[\"subsample\"] = False\n",
    "#     siamese.set_params(**params)\n",
    "#     file.close()\n",
    "    \n",
    "# siamese.load_model(\"logs/SiameseGraphEmbeddin_03-29_11-50PM/lstm_model.e5.h5\", network)"
   ]
  },
  {
   "cell_type": "markdown",
   "metadata": {},
   "source": [
    "# Data Visualization"
   ]
  },
  {
   "cell_type": "code",
   "execution_count": 8,
   "metadata": {},
   "outputs": [],
   "source": [
    "# matrix_heatmap(network.get_adjacency_matrix(edge_types=[\"d\"], node_list=network.node_list).todense())"
   ]
  },
  {
   "cell_type": "code",
   "execution_count": 9,
   "metadata": {},
   "outputs": [],
   "source": [
    "# matrix_heatmap(network.get_adjacency_matrix(edge_types=[\"u\"], node_list=network.node_list).todense())"
   ]
  },
  {
   "cell_type": "code",
   "execution_count": 10,
   "metadata": {},
   "outputs": [],
   "source": [
    "# matrix_heatmap(network.get_adjacency_matrix(edge_types=[\"u_n\"], node_list=network.node_list).todense())"
   ]
  },
  {
   "cell_type": "code",
   "execution_count": 11,
   "metadata": {},
   "outputs": [],
   "source": [
    "# The test data to recall\n",
    "# matrix_heatmap(network_val.get_adjacency_matrix(edge_types=[\"d\"], node_list=network_val.node_list).todense())"
   ]
  },
  {
   "cell_type": "markdown",
   "metadata": {},
   "source": [
    "# Train"
   ]
  },
  {
   "cell_type": "code",
   "execution_count": 4,
   "metadata": {},
   "outputs": [],
   "source": [
    "params = {\n",
    "    'd': 128, \n",
    "    'lr': 0.001, \n",
    "    'margin': 0.5,\n",
    "    'weighted': True,\n",
    "    # 'subsample': True,\n",
    "    'directed_proba': 0.5,\n",
    "    'compression_func': 'sqrt',\n",
    "    'negative_sampling_ratio': 20.0,\n",
    "    'max_length': 2000, \n",
    "    'truncating': 'random', \n",
    "    \n",
    "    'conv1_kernel_size': 18, \n",
    "    'conv1_batch_norm': True,\n",
    "    'max1_pool_size': 9, \n",
    "    'conv2_kernel_size': 6,\n",
    "    'conv2_batch_norm': True,\n",
    "    'max2_pool_size': 4, \n",
    "    'lstm_unit_size': 320, \n",
    "    'dense1_unit_size': 1024, \n",
    "    'dense2_unit_size': None, \n",
    "    'directed_distance': \"euclidean\",\n",
    "    'undirected_distance': \"euclidean\",\n",
    "    'source_target_dense_layers': False,\n",
    "    'embedding_normalization': False\n",
    "}"
   ]
  },
  {
   "cell_type": "code",
   "execution_count": null,
   "metadata": {
    "scrolled": false
   },
   "outputs": [
    {
     "name": "stdout",
     "output_type": "stream",
     "text": [
      "directed_margin 0.2 , undirected_margin 0.1\n"
     ]
    },
    {
     "name": "stderr",
     "output_type": "stream",
     "text": [
      "Using TensorFlow backend.\n"
     ]
    },
    {
     "data": {
      "text/plain": [
       "SiameseOnlineTripletGraphEmbedding(batch_size=550, compression_func='sqrt',\n",
       "                  conv1_batch_norm=True, conv1_kernel_size=18,\n",
       "                  conv2_batch_norm=True, conv2_kernel_size=6, d=128,\n",
       "                  dense1_unit_size=1024, dense2_unit_size=None,\n",
       "                  directed_distance='euclidean', directed_proba=0.5,\n",
       "                  embedding_normalization=False, epochs=30, lr=0.001,\n",
       "                  lstm_unit_size=320, margin=0.5, max1_pool_size=9,\n",
       "                  max2_pool_size=4, max_length=2000,\n",
       "                  negative_sampling_ratio=20.0, seed=0,\n",
       "                  source_target_dense_layers=False, truncating='random',\n",
       "                  undirected_distance='euclidean', verbose=True,\n",
       "                  weighted=True)"
      ]
     },
     "execution_count": 5,
     "metadata": {},
     "output_type": "execute_result"
    }
   ],
   "source": [
    "from moge.embedding.siamese_graph_embedding import SiameseGraphEmbedding\n",
    "from moge.embedding.siamese_triplet_online_embedding import SiameseOnlineTripletGraphEmbedding\n",
    "\n",
    "siamese = SiameseOnlineTripletGraphEmbedding(batch_size=550, epochs=30, verbose=True)\n",
    "# siamese = SiameseGraphEmbedding(batch_size=400, epochs=10, verbose=True)\n",
    "\n",
    "# siamese = SiameseTripletGraphEmbedding(d=128, batch_size=256, margin=0.2, lr=0.001, epochs=30, \n",
    "#     negative_sampling_ratio=2.0, directed_proba=0.8, compression_func=\"sqrt3\",\n",
    "#     max_length=2000, truncating=\"post\", verbose=True)\n",
    "\n",
    "siamese.set_params(**params)"
   ]
  },
  {
   "cell_type": "code",
   "execution_count": null,
   "metadata": {
    "scrolled": false
   },
   "outputs": [
    {
     "name": "stdout",
     "output_type": "stream",
     "text": [
      "word index: {'A': 1, 'G': 2, 'C': 3, 'T': 4}\n",
      "# of nodes to sample from (non-zero degree): 22810\n",
      "# of nodes to sample from (non-zero degree): 3786\n",
      "labels_directed SparseTensor(indices=Tensor(\"labels_directed/indices:0\", shape=(?, 2), dtype=int64, device=/device:GPU:0), values=Tensor(\"labels_directed/values:0\", shape=(?,), dtype=float32, device=/device:GPU:0), dense_shape=Tensor(\"labels_directed/shape:0\", shape=(2,), dtype=int64, device=/device:GPU:0))\n",
      "labels_undirected SparseTensor(indices=Tensor(\"labels_undirected/indices:0\", shape=(?, 2), dtype=int64, device=/device:GPU:0), values=Tensor(\"labels_undirected/values:0\", shape=(?,), dtype=float32, device=/device:GPU:0), dense_shape=Tensor(\"labels_undirected/shape:0\", shape=(2,), dtype=int64, device=/device:GPU:0))\n",
      "Embedding Tensor(\"embedding_1/embedding_lookup/Identity:0\", shape=(?, ?, 4), dtype=float32, device=/device:GPU:0)\n",
      "conv2D Tensor(\"lstm_lambda_2/Squeeze:0\", shape=(?, ?, 320), dtype=float32, device=/device:GPU:0)\n",
      "conv1d_2 Tensor(\"lstm_conv_2/Relu:0\", shape=(?, ?, 192), dtype=float32, device=/device:GPU:0)\n",
      "max pooling_2 Tensor(\"max_pooling1d_2/Squeeze:0\", shape=(?, ?, 192), dtype=float32, device=/device:GPU:0)\n"
     ]
    }
   ],
   "source": [
    "siamese.learn_embedding(network, network_val=network_val, \n",
    "                        multi_gpu=False, rebuild_model=False,\n",
    "                        n_steps=500, \n",
    "                        tensorboard=True,\n",
    "                        early_stopping=True,\n",
    "                        seed=0),"
   ]
  },
  {
   "cell_type": "markdown",
   "metadata": {},
   "source": [
    "# Visualize Embeddings"
   ]
  },
  {
   "cell_type": "code",
   "execution_count": null,
   "metadata": {},
   "outputs": [],
   "source": [
    "matrix_heatmap(siamese.get_embedding(), cmap=\"bwr\", aspect='auto', figsize=(7,10))"
   ]
  },
  {
   "cell_type": "code",
   "execution_count": null,
   "metadata": {},
   "outputs": [],
   "source": [
    "delattr(siamese, \"reconstructed_adj\") if hasattr(siamese, \"reconstructed_adj\") else None\n",
    "matrix_heatmap(siamese.get_reconstructed_adj(edge_type=\"d\", \n",
    "#                                              node_l=siamese.generator_train.get_nonzero_nodelist(),\n",
    "                                            ), figsize=(10, 10))"
   ]
  },
  {
   "cell_type": "code",
   "execution_count": null,
   "metadata": {},
   "outputs": [],
   "source": [
    "matrix_heatmap(siamese.get_reconstructed_adj(edge_type=\"u\", \n",
    "#                                              node_l=siamese.generator_train.get_nonzero_nodelist(), \n",
    "                                             ), figsize=(10,10))"
   ]
  },
  {
   "cell_type": "markdown",
   "metadata": {},
   "source": [
    "# Save Model & Embedding"
   ]
  },
  {
   "cell_type": "code",
   "execution_count": null,
   "metadata": {},
   "outputs": [],
   "source": [
    "# siamese.save_model(\"lstm_model.e30.h5\", model=\"lstm\", logdir=True)"
   ]
  },
  {
   "cell_type": "code",
   "execution_count": null,
   "metadata": {},
   "outputs": [],
   "source": [
    "# siamese.truncating = \"post\"\n",
    "# siamese.save_embeddings(\"lmn_train.triplet.shortest.biogrid.full.euclidean.trunc.emb\", \n",
    "#                         variable_length=False, recompute=False, minlen=100)"
   ]
  },
  {
   "cell_type": "markdown",
   "metadata": {},
   "source": [
    "# Import different models"
   ]
  },
  {
   "cell_type": "code",
   "execution_count": null,
   "metadata": {},
   "outputs": [],
   "source": [
    "from moge.embedding.static_graph_embedding import ImportedGraphEmbedding\n",
    "from moge.embedding.sequence_based_embedding import BioVecEmbedding, iDeepVEmbedding, LncTarInteraction\n",
    "\n",
    "# biovec_emb = BioVecEmbedding(network, {\"MIR\": \"moge/data/biovec/miRNA_protvec.model\",\n",
    "#                          \"GE\": \"moge/data/biovec/mRNA_protvec.model\",\n",
    "#                          \"LNC\": \"moge/data/biovec/lncRNA_protvec.model\"})\n",
    "\n",
    "node2vec_emb = ImportedGraphEmbedding(d=128, method_name=\"node2vec\")\n",
    "node2vec_emb.import_embedding(\"moge/data/LMN_future_recall/TRAIN/Interactions_Only/lmn_train.all.node2vec.emb\", \n",
    "                          node_list=network.node_list)\n",
    "\n",
    "\n",
    "biovec_emb = ImportedGraphEmbedding(d=100, method_name=\"BioVec\")\n",
    "biovec_emb.import_embedding(\"moge/data/LMN_future_recall/TRAIN/Interactions_Only/lmn_train.all.biovec.emb\", \n",
    "                          node_list=network.node_list)\n",
    "\n",
    "line_emb = ImportedGraphEmbedding(d=128, method_name=\"LINE\")\n",
    "line_emb.import_embedding(\"moge/data/LMN_future_recall/TRAIN/Interactions_Only/lmn_train.all.line.emb\", \n",
    "                          node_list=network.node_list)\n",
    "\n",
    "hope_emb = ImportedGraphEmbedding(d=128, method_name=\"HOPE\")\n",
    "hope_emb.import_embedding(\"moge/data/LMN_future_recall/TRAIN/Interactions_Only/lmn_train.all.hope.emb\", \n",
    "                          node_list=network.node_list)\n",
    "\n",
    "sdne_emb = ImportedGraphEmbedding(d=128, method_name=\"SDNE\")\n",
    "sdne_emb.import_embedding(\"moge/data/LMN_future_recall/TRAIN/Interactions_Only/lmn_train.all.sdne.emb\", \n",
    "                          node_list=network.node_list)\n",
    "\n",
    "\n",
    "rna2rna_emb = ImportedGraphEmbedding(d=128, method_name=\"rna2rna\")\n",
    "rna2rna_emb.import_embedding(\"moge/data/LMN_future_recall/TRAIN/Interactions_Affinity/lmn_train.siamese.multi_seq_UT.biogrid.full.euclidean.trunc.emb\", \n",
    "                         node_list=network.node_list)\n",
    "\n",
    "\n",
    "print()"
   ]
  },
  {
   "cell_type": "code",
   "execution_count": null,
   "metadata": {},
   "outputs": [],
   "source": [
    "methods = {}\n",
    "methods[\"node2vec\"] = node2vec_emb\n",
    "methods[\"LINE\"] = line_emb\n",
    "methods[\"HOPE\"] = hope_emb\n",
    "methods[\"SDNE\"] = sdne_emb\n",
    "methods[\"BioVec\"] = biovec_emb\n",
    "# methods[\"rna2rna\"] = rna2rna_emb\n",
    "methods[\"rna2rna\"] = siamese"
   ]
  },
  {
   "cell_type": "markdown",
   "metadata": {},
   "source": [
    "# Prepare Validation Set"
   ]
  },
  {
   "cell_type": "code",
   "execution_count": null,
   "metadata": {},
   "outputs": [],
   "source": [
    "from moge.network.edge_generator import DataGenerator\n",
    "\n",
    "negative_sampling_ratio = 1.0\n",
    "generator_val = DataGenerator(network=network_val, \n",
    "                             negative_sampling_ratio=negative_sampling_ratio,\n",
    "                             batch_size=1,\n",
    "#                              maxlen=siamese.max_length,\n",
    "                             truncating=\"post\",\n",
    "                             shuffle=True, seed=1,\n",
    "                             training_adj=network.get_adjacency_matrix(edge_types=[\"d\"], \n",
    "                                                                       node_list=network_val.node_list))\n",
    "generator_val.on_epoch_end()"
   ]
  },
  {
   "cell_type": "code",
   "execution_count": null,
   "metadata": {
    "scrolled": true
   },
   "outputs": [],
   "source": [
    "from moge.evaluation.link_prediction import evaluate_pr_curve_link_pred, evaluate_pr_curve_link_pred_by_database\n",
    "# evaluate_pr_curve_link_pred(methods, X, y_true)\n",
    "evaluate_pr_curve_link_pred_by_database(methods, generator_val, \n",
    "                                        tests=[\n",
    "                                            (\"LNC\", \"GE\", \"lncrna2target\"),\n",
    "                                            (\"MIR\", \"LNC\", \"lncBase\"),\n",
    "                                            (\"MIR\", \"GE\", \"miRTarBase\"), \n",
    "                                            (\"GE\", \"GE\", \"BioGRID\"), \n",
    "#                                             (\"LNC\", \"GE\", \"lncRInter\"),\n",
    "#                                             (\"LNC\", \"GE\", \"LncReg\"),\n",
    "                                              ])"
   ]
  },
  {
   "cell_type": "markdown",
   "metadata": {},
   "source": [
    "# Prepare Training set (for graph reconstruction)"
   ]
  },
  {
   "cell_type": "code",
   "execution_count": null,
   "metadata": {},
   "outputs": [],
   "source": [
    "from moge.network.edge_generator import DataGenerator\n",
    "\n",
    "negative_sampling_ratio = 1.0\n",
    "generator_train = DataGenerator(network=network, \n",
    "                             negative_sampling_ratio=negative_sampling_ratio,\n",
    "                             batch_size=1,\n",
    "                             maxlen=siamese.max_length,\n",
    "                             truncating=\"post\",\n",
    "                             shuffle=True, seed=1)\n",
    "generator_train.Eu_count = 0\n",
    "generator_train.En_count = 0\n",
    "generator_train.on_epoch_end()"
   ]
  },
  {
   "cell_type": "code",
   "execution_count": null,
   "metadata": {},
   "outputs": [],
   "source": [
    "from moge.evaluation.link_prediction import evaluate_pr_curve_link_pred, evaluate_pr_curve_link_pred_by_database\n",
    "# evaluate_pr_curve_link_pred(methods, X, y_true)\n",
    "evaluate_pr_curve_link_pred_by_database(methods, generator_train, \n",
    "                                        tests=[(\"LNC\", \"GE\", \"lncrna2target\"),\n",
    "                                               (\"MIR\", \"LNC\", \"lncBase\"),\n",
    "                                               (\"MIR\", \"GE\", \"miRTarBase\"), \n",
    "                                               (\"GE\", \"GE\", \"BioGRID\"), \n",
    "                                              ])"
   ]
  },
  {
   "cell_type": "markdown",
   "metadata": {},
   "source": [
    "# Experimental Results"
   ]
  },
  {
   "cell_type": "code",
   "execution_count": null,
   "metadata": {},
   "outputs": [],
   "source": [
    "from moge.evaluation.link_prediction import evaluate_top_k_link_pred\n",
    "\n",
    "database_tests = [\n",
    "    (\"LNC\", \"GE\", \"lncrna2target\"),\n",
    "    (\"MIR\", \"LNC\", \"lncBase\"),\n",
    "    (\"MIR\", \"GE\", \"miRTarBase\"), \n",
    "    (\"GE\", \"GE\", \"BioGRID\"), \n",
    "    (\"LNC\", \"GE\", \"lncRInter\"),\n",
    "    (\"LNC\", \"GE\", \"LncReg\"),\n",
    "]\n",
    "top_k = 10000\n",
    "\n",
    "for source, target, database in database_tests:\n",
    "    print(database)\n",
    "    results = {}\n",
    "    for method in methods.keys():\n",
    "        results[method] = \\\n",
    "              evaluate_top_k_link_pred(methods[method], network_train=network, network_test=network_val, \n",
    "                                       node_list=network.nodes[source], node_list_B=network.nodes[target], \n",
    "                                       edge_type=\"d\", databases=[database], top_k=top_k)\n",
    "        \n",
    "    bar_chart(results, measures=['Precision', 'Recall'], \n",
    "              title=\"Top-k (k={}) Predictions on {}\".format(top_k, database))"
   ]
  },
  {
   "cell_type": "code",
   "execution_count": null,
   "metadata": {},
   "outputs": [],
   "source": [
    "from moge.evaluation.node_clustering import evaluate_clustering\n",
    "\n",
    "results = {}\n",
    "for method in methods.keys():\n",
    "    results[method] = evaluate_clustering(methods[method], network=network, node_label=\"locus_type\", \n",
    "                                          max_clusters=500, n_clusters=None)\n",
    "\n",
    "bar_chart(results, measures=['homogeneity', 'completeness', 'nmi'],\n",
    "         title=\"Clustering Evaluation to {}\".format(\"RNA Type\"))"
   ]
  },
  {
   "cell_type": "code",
   "execution_count": null,
   "metadata": {},
   "outputs": [],
   "source": [
    "from moge.evaluation.node_clustering import evaluate_clustering\n",
    "\n",
    "results = {}\n",
    "for method in methods.keys():\n",
    "    results[method] = evaluate_clustering(methods[method], network=network, node_label=\"Family\", \n",
    "                                          max_clusters=500, n_clusters=None)\n",
    "    \n",
    "bar_chart(results, measures=['homogeneity', 'completeness', 'nmi'], \n",
    "          title=\"Clustering Evaluation to {}\".format(\"RNA Family\"))"
   ]
  },
  {
   "cell_type": "code",
   "execution_count": null,
   "metadata": {},
   "outputs": [],
   "source": [
    "from moge.evaluation.node_classification import evaluate_classification\n",
    "\n",
    "results = {}\n",
    "for method in methods.keys():\n",
    "    result = {k: np.average(v) for k,v in evaluate_classification(methods[method], network, cv=10,\n",
    "                                  node_label=\"Family\", multilabel=True,\n",
    "                                  scoring=['precision_macro', 'recall_macro', \"f1_macro\"],\n",
    "                                                                verbose=True).items()}\n",
    "    results[method] = result\n",
    "    \n",
    "bar_chart(results, measures=['test_precision_macro', 'test_recall_macro', 'test_f1_macro'])"
   ]
  },
  {
   "cell_type": "code",
   "execution_count": null,
   "metadata": {},
   "outputs": [],
   "source": [
    "from moge.evaluation.node_classification import evaluate_classification\n",
    "\n",
    "results = {}\n",
    "for method in methods.keys():\n",
    "    result = {k: np.average(v) for k,v in evaluate_classification(methods[method], network, cv=10,\n",
    "                                  node_label=\"Disease association\", multilabel=True,\n",
    "                                  scoring=['precision_macro', 'recall_macro', \"f1_macro\"],\n",
    "                                                                verbose=True).items()}\n",
    "    results[method] = result\n",
    "    \n",
    "bar_chart(results, measures=['test_precision_macro', 'test_recall_macro', 'test_f1_macro'])"
   ]
  },
  {
   "cell_type": "code",
   "execution_count": null,
   "metadata": {},
   "outputs": [],
   "source": [
    "from moge.evaluation.utils import get_scalefree_fit_score\n",
    "\n",
    "results = {}\n",
    "modalities = [(\"MIR\", \"LNC\"), (\"LNC\", \"MIR\"), (\"LNC\", \"GE\"), (\"MIR\", \"GE\"), (\"GE\", \"GE\")]\n",
    "labels = [\"miRNA-lncRNA\", \"lncRNA-miRNA\", \"lncRNA-mRNA\", \"miRNA-mRNA\", \"mRNA-mRNA\"]\n",
    "databases = [\"lncBase\", \"lncBase\", \"lncrna2target\", \"miRTarBase\", \"BioGRID\"]\n",
    "\n",
    "for method in [\"Databases\"]+list(methods.keys()):\n",
    "    if method == \"BioVec\":\n",
    "        continue\n",
    "    elif method == \"Databases\":\n",
    "        sub_result = {}\n",
    "        for (A, B), label, database in zip(modalities, labels, databases):\n",
    "            adj = network.get_adjacency_matrix(edge_types=[\"d\"], \n",
    "                                               node_list=network.node_list,\n",
    "                                               databases=[database,])\n",
    "            network_degrees = np.sum(adj, axis=1)\n",
    "            sub_result[label] = get_scalefree_fit_score(network_degrees, plot=False)\n",
    "        results[method] = sub_result\n",
    "    else:\n",
    "        sub_result = {}\n",
    "        for (A, B), label in zip(modalities, labels):\n",
    "           sub_result[label] = methods[method].get_scalefree_fit_score(network.nodes[A], network.nodes[B])\n",
    "        results[method] = sub_result\n",
    "    \n",
    "bar_chart(results, measures=labels, title=\"Scale-free fit scores\")"
   ]
  },
  {
   "cell_type": "markdown",
   "metadata": {},
   "source": [
    "# Visualization"
   ]
  },
  {
   "cell_type": "code",
   "execution_count": null,
   "metadata": {
    "scrolled": false
   },
   "outputs": [],
   "source": [
    "from moge.visualization.visualize_embedding import visualize_embedding\n",
    "# siamese.process_embeddings(variable_length=False)\n",
    "# delattr(siamese, \"node_pos\")\n",
    "# nodes_to_visualize = list(set(siamese.generator_train.get_nonzero_nodelist()) | set(siamese.generator_val.get_nonzero_nodelist()))\n",
    "# nodes_test = list(set(siamese.generator_val.get_nonzero_nodelist()) - set(siamese.generator_train.get_nonzero_nodelist()))\n",
    "# print(len(nodes_test))\n",
    "visualize_embedding(siamese, network=network, node_label=\"locus_type\", top_k=0,\n",
    "#                     edgelist=network_val.get_edgelist(node_list=nodes_to_visualize, \n",
    "#                                                       edge_types=[\"d\"])[:500],\n",
    "#                     test_nodes=siamese.generator_val.get_nonzero_nodelist(),\n",
    "                    cmap=\"gist_ncar\",\n",
    "                    file_name=\"moge/data/Results/siamese_online_triplet_euclidean\",\n",
    "                   )"
   ]
  },
  {
   "cell_type": "code",
   "execution_count": null,
   "metadata": {},
   "outputs": [],
   "source": [
    "siamese.process_embeddings(variable_length=True, minlen=200)\n",
    "delattr(siamese, \"node_pos\")\n",
    "visualize_embedding(siamese, network=network, node_label=\"locus_type\", \n",
    "#                     edgelist=network_val.get_edgelist(node_list=nodes_to_visualize, \n",
    "#                                                       edge_types=[\"d\"])[:500],\n",
    "#                     test_nodes=nodes_test,\n",
    "                    cmap=\"gist_ncar\",)"
   ]
  },
  {
   "cell_type": "markdown",
   "metadata": {},
   "source": [
    "# AUC Rate"
   ]
  },
  {
   "cell_type": "markdown",
   "metadata": {
    "scrolled": true
   },
   "source": [
    "%%javascript\n",
    "Jupyter.notebook.session.delete();"
   ]
  },
  {
   "cell_type": "code",
   "execution_count": null,
   "metadata": {
    "scrolled": true
   },
   "outputs": [],
   "source": []
  },
  {
   "cell_type": "code",
   "execution_count": null,
   "metadata": {},
   "outputs": [],
   "source": []
  }
 ],
 "metadata": {
  "kernelspec": {
   "display_name": "Python 3",
   "language": "python",
   "name": "python3"
  },
  "language_info": {
   "codemirror_mode": {
    "name": "ipython",
    "version": 3
   },
   "file_extension": ".py",
   "mimetype": "text/x-python",
   "name": "python",
   "nbconvert_exporter": "python",
   "pygments_lexer": "ipython3",
   "version": "3.6.8"
  }
 },
 "nbformat": 4,
 "nbformat_minor": 2
}
