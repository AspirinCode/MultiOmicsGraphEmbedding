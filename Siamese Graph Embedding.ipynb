{
 "cells": [
  {
   "cell_type": "code",
   "execution_count": 1,
   "metadata": {},
   "outputs": [
    {
     "name": "stderr",
     "output_type": "stream",
     "text": [
      "Using TensorFlow backend.\n"
     ]
    }
   ],
   "source": [
    "# Necessary imports\n",
    "%load_ext autoreload\n",
    "%autoreload 2\\\n",
    "\n",
    "import networkx as nx\n",
    "import numpy as np\n",
    "import tensorflow as tf\n",
    "\n",
    "from keras import backend as K\n",
    "from keras.layers import Dense\n",
    "from keras.models import Model, Sequential\n",
    "\n",
    "\n",
    "from TCGAMultiOmics.multiomics import MultiOmicsData\n",
    "from moge.network.heterogeneous_network import HeterogeneousNetwork\n"
   ]
  },
  {
   "cell_type": "markdown",
   "metadata": {},
   "source": [
    "#  Import network from file"
   ]
  },
  {
   "cell_type": "code",
   "execution_count": 2,
   "metadata": {},
   "outputs": [
    {
     "data": {
      "text/plain": [
       "1936450"
      ]
     },
     "execution_count": 2,
     "metadata": {},
     "output_type": "execute_result"
    }
   ],
   "source": [
    "import pickle\n",
    "\n",
    "# WRITE\n",
    "# with open('moge/data/lncRNA_miRNA_mRNA/miRNA-mRNA_network_test_05_val_01_seed_0.pickle', 'wb') as file:\n",
    "#     pickle.dump(network, file)\n",
    "\n",
    "# READ\n",
    "with open('moge/data/lncRNA_miRNA_mRNA/lncRNA-miRNA-mRNA_network_disease_train.pickle', 'rb') as file:\n",
    "# with open('moge/data/lncRNA_miRNA_mRNA/miRNA-mRNA_network_biogrid.pickle', 'rb') as file:\n",
    "    network = pickle.load(file)\n",
    "#     network.remove_extra_nodes()\n",
    "#     network.node_list = network.all_nodes\n",
    "#     node_list = network.node_list\n",
    "network.G.number_of_edges()"
   ]
  },
  {
   "cell_type": "code",
   "execution_count": 3,
   "metadata": {},
   "outputs": [
    {
     "name": "stdout",
     "output_type": "stream",
     "text": [
      "network_test 124486\n",
      "network_val 24897\n"
     ]
    }
   ],
   "source": [
    "# READ edgelists\n",
    "with open('moge/data/lncRNA_miRNA_mRNA/lncRNA-miRNA-mRNA_network_disease_test.pickle', 'rb') as file:\n",
    "    network_test = pickle.load(file)\n",
    "    \n",
    "with open('moge/data/lncRNA_miRNA_mRNA/lncRNA-miRNA-mRNA_network_disease_val.pickle', 'rb') as file:\n",
    "    network_val = pickle.load(file)\n",
    "\n",
    "print(\"network_test\", network_test.G.number_of_edges())\n",
    "print(\"network_val\", network_val.G.number_of_edges())"
   ]
  },
  {
   "cell_type": "markdown",
   "metadata": {},
   "source": [
    "# Training Source Target Graph Embedding"
   ]
  },
  {
   "cell_type": "code",
   "execution_count": 4,
   "metadata": {},
   "outputs": [],
   "source": [
    "from keras.layers import Input, Conv1D, Lambda, Dot, Dense, Flatten, MaxPooling1D, Lambda, Convolution1D, Layer\n",
    "from keras.models import Model, Sequential\n",
    "from keras.regularizers import l2\n",
    "from keras import backend as K\n",
    "from keras.utils import multi_gpu_model\n",
    "import keras\n",
    "\n",
    "from keras.optimizers import SGD, Adam, RMSprop\n",
    "from keras.losses import binary_crossentropy\n",
    "from keras.metrics import kullback_leibler_divergence, binary_crossentropy, binary_accuracy\n",
    "\n",
    "from keras.utils import to_categorical\n",
    "\n",
    "from keras.callbacks import TensorBoard\n",
    "\n",
    "def W_init(shape, name=None):\n",
    "    \"\"\"Initialize weights as in paper\"\"\"\n",
    "    values = np.random.normal(loc=0,scale=1e-2,size=shape)\n",
    "    return K.variable(values,name=name)\n",
    "#//TODO: figure out how to initialize layer biases in keras.\n",
    "def b_init(shape, name=None):\n",
    "    \"\"\"Initialize bias as in paper\"\"\"\n",
    "    values=np.random.normal(loc=0.5,scale=1e-2,size=shape)\n",
    "    return K.variable(values,name=name)"
   ]
  },
  {
   "cell_type": "code",
   "execution_count": 5,
   "metadata": {},
   "outputs": [],
   "source": [
    "K.clear_session()\n",
    "tf.reset_default_graph()\n",
    "# sess.close()\n",
    "# sess = tf.InteractiveSession(config=tf.ConfigProto(allow_soft_placement=True))\n",
    "sess = tf.InteractiveSession()"
   ]
  },
  {
   "cell_type": "code",
   "execution_count": 6,
   "metadata": {},
   "outputs": [],
   "source": [
    "# INPUT PARAMETERS\n",
    "max_length = 700\n",
    "input_shape = (None, 6)\n",
    "batch_size = 1024\n",
    "\n",
    "_d = 512"
   ]
  },
  {
   "cell_type": "code",
   "execution_count": 7,
   "metadata": {},
   "outputs": [],
   "source": [
    "# Inputs\n",
    "E_ij = Input(batch_shape=(batch_size, 1), name=\"E_ij\")\n",
    "input_seq_i = Input(batch_shape=(batch_size, *input_shape), name=\"input_seq_i\")\n",
    "input_seq_j = Input(batch_shape=(batch_size, *input_shape), name=\"input_seq_j\")\n",
    "is_directed = Input(batch_shape=(batch_size, 1), dtype=tf.bool, name=\"is_directed\")\n"
   ]
  },
  {
   "cell_type": "code",
   "execution_count": 8,
   "metadata": {},
   "outputs": [],
   "source": [
    "# Distance functions\n",
    "def euclidean_distance(inputs):\n",
    "    x, y = inputs\n",
    "    return K.sqrt(K.maximum(K.sum(K.square(x - y), axis=1, keepdims=True), K.epsilon()))\n",
    "\n",
    "def switch_emb(inputs):\n",
    "    emb_i, emb_j, is_directed = inputs\n",
    "    return K.switch(is_directed, \n",
    "                    [emb_i[:, 0:int(_d/2)] - emb_j[:, int(_d/2):_d]], [emb_i, emb_j]) \n",
    "\n",
    "def st_euclidean_distance(inputs):\n",
    "    emb_i, emb_j, is_directed = inputs\n",
    "    sum_directed = K.sum(K.square(emb_i[:, 0:int(_d/2)] - emb_j[:, int(_d/2):_d]), axis=1, keepdims=True)\n",
    "    sum_undirected = K.sum(K.square(emb_i - emb_j), axis=1, keepdims=True)\n",
    "    sum_switch = K.switch(is_directed, sum_directed, sum_undirected)\n",
    "    return K.sqrt(K.maximum(sum_switch, K.epsilon()))\n",
    "\n",
    "def st_embedding_probability(inputs):\n",
    "    emb_i, emb_j, is_directed = inputs\n",
    "    dot_directed = Dot(axes=1)([emb_i[:, 0:int(_d/2)], emb_j[:, int(_d/2):_d]])\n",
    "    dot_undirected = Dot(axes=1)([emb_i, emb_j])\n",
    "    return K.switch(is_directed, K.sigmoid(dot_directed), K.sigmoid(dot_undirected))\n",
    "\n",
    "def st_embedding_probability_w_dense(inputs):\n",
    "    emb_i, emb_j, is_directed = inputs\n",
    "    directed = Dense(1, activation='sigmoid')(Dot(axes=1)([emb_i[:, 0:int(_d/2)], emb_j[:, int(_d/2):_d]]))\n",
    "    undirected = Dense(1, activation='sigmoid')(Dot(axes=1)([emb_i, emb_j]))\n",
    "    return K.switch(is_directed, directed, undirected)\n",
    "\n",
    "def st_l1_distance(inputs):\n",
    "    emb_i, emb_j, is_directed = inputs\n",
    "    L1_layer = Lambda(lambda tensors: K.abs(tensors[0] - tensors[1]))\n",
    "    directed_distance = Dense(1, activation='sigmoid')(L1_layer([emb_i[:, 0:int(_d/2)], emb_j[:, int(_d/2):_d]]))\n",
    "    undirected_distance = Dense(1, activation='sigmoid')(L1_layer([emb_i, emb_j]))\n",
    "    \n",
    "    return K.switch(is_directed, directed_distance, undirected_distance)"
   ]
  },
  {
   "cell_type": "code",
   "execution_count": 9,
   "metadata": {},
   "outputs": [],
   "source": [
    "from keras.layers import LSTM, Dense, Dropout, Bidirectional, GlobalAveragePooling1D, GlobalMaxPooling1D\n",
    "\n",
    "def create_base_network(input_shape):\n",
    "    \"\"\" Base network to be shared (eq. to feature extraction).\n",
    "    \"\"\"\n",
    "    input = Input(shape=input_shape)\n",
    "#     x = Flatten()(input)\n",
    "    x = Convolution1D(filters=320, kernel_size=20, input_shape=input_shape, activation='relu')(input)\n",
    "    print(\"conv1d_1\", x)\n",
    "    x = MaxPooling1D(pool_size=10, padding=\"same\")(x)\n",
    "    print(\"max pooling_1\", x)\n",
    "    \n",
    "#     x = Convolution1D(filters=320, kernel_size=4, activation='relu')(x)\n",
    "#     print(\"conv1d_2\", x)\n",
    "#     x = MaxPooling1D(pool_size=13, padding=\"same\")(x)\n",
    "#     print(\"max pooling_2\", x)\n",
    "    \n",
    "    x = Dropout(0.2)(x)\n",
    "    x = Bidirectional(LSTM(320, return_sequences=False, return_state=False))(x)\n",
    "    print(\"brnn\", x)\n",
    "    x = Dropout(0.5)(x)\n",
    "    \n",
    "    x = Dense(75*640, activation='relu')(x)\n",
    "    x = Dropout(0.1)(x)\n",
    "    x = Dense(925, activation='relu')(x)\n",
    "    x = Dropout(0.1)(x)\n",
    "    x = Dense(_d, activation='linear')(x) # Embedding space\n",
    "    print(\"embedding\", x)\n",
    "    return Model(input, x)"
   ]
  },
  {
   "cell_type": "code",
   "execution_count": 10,
   "metadata": {},
   "outputs": [],
   "source": [
    "# Loss function\n",
    "def contrastive_loss(y_true, y_pred):\n",
    "    ''' Contrastive loss from Hadsell-et-al.'06 \n",
    "    http://yann.lecun.com/exdb/publis/pdf/hadsell-chopra-lecun-06.pdf\n",
    "    '''\n",
    "    margin = 1.0\n",
    "    return K.mean(y_true * K.square(y_pred) +\n",
    "                  (1 - y_true) * K.square(K.maximum(margin - y_pred, 0)))\n",
    "\n",
    "def regularized_cross_entropy(y_true, y_pred):\n",
    "    return K.mean(y_true * K.log(y_pred) + (1 - y_true) * K.log(1 - y_pred))\n",
    "\n",
    "def kl_loss(y_true, y_pred):\n",
    "    return -K.mean(y_true * K.log(y_pred))\n",
    "\n",
    "# Metrics\n",
    "def accuracy(y_true, y_pred):\n",
    "    ''' Compute classification accuracy with a fixed threshold on distances.\n",
    "    '''\n",
    "    return K.mean(K.equal(y_true, K.cast(y_pred < 0.5, y_true.dtype)))"
   ]
  },
  {
   "cell_type": "code",
   "execution_count": 11,
   "metadata": {},
   "outputs": [
    {
     "name": "stdout",
     "output_type": "stream",
     "text": [
      "conv1d_1 Tensor(\"conv1d_1/Relu:0\", shape=(?, ?, 320), dtype=float32, device=/device:CPU:0)\n",
      "max pooling_1 Tensor(\"max_pooling1d_1/Squeeze:0\", shape=(?, ?, 320), dtype=float32, device=/device:CPU:0)\n",
      "brnn Tensor(\"bidirectional_1/concat:0\", shape=(?, 640), dtype=float32, device=/device:CPU:0)\n",
      "embedding Tensor(\"dense_3/BiasAdd:0\", shape=(?, 512), dtype=float32, device=/device:CPU:0)\n",
      "lstm_network.input Tensor(\"input_1:0\", shape=(?, ?, 6), dtype=float32, device=/device:CPU:0)\n",
      "lstm_network.output Tensor(\"dense_3/BiasAdd:0\", shape=(?, 512), dtype=float32, device=/device:CPU:0)\n",
      "input_seq_i Tensor(\"input_seq_i:0\", shape=(1024, ?, 6), dtype=float32)\n",
      "input_seq_j Tensor(\"input_seq_j:0\", shape=(1024, ?, 6), dtype=float32)\n",
      "encoded_i Tensor(\"model_1/dense_3/BiasAdd:0\", shape=(1024, 512), dtype=float32, device=/device:CPU:0) \n",
      "encoded_j Tensor(\"model_1_1/dense_3/BiasAdd:0\", shape=(1024, 512), dtype=float32, device=/device:CPU:0)\n",
      "distance Tensor(\"lambda_1/Sqrt:0\", shape=(1024, 1), dtype=float32, device=/device:CPU:0)\n"
     ]
    }
   ],
   "source": [
    "# build create_base_network to use in each siamese 'leg'\n",
    "\n",
    "with tf.device(\"/cpu:0\"):\n",
    "    lstm_network = create_base_network(input_shape=input_shape)\n",
    "\n",
    "    print(\"lstm_network.input\", lstm_network.input)\n",
    "    print(\"lstm_network.output\", lstm_network.output)\n",
    "    print(\"input_seq_i\", input_seq_i)\n",
    "    print(\"input_seq_j\", input_seq_j)\n",
    "\n",
    "    # encode each of the two inputs into a vector with the convnet\n",
    "    encoded_i = lstm_network(input_seq_i)\n",
    "    encoded_j = lstm_network(input_seq_j)\n",
    "    print(\"encoded_i\", encoded_i, \"\\nencoded_j\", encoded_j)\n",
    "\n",
    "    distance = Lambda(st_euclidean_distance)([encoded_i, encoded_j, is_directed])\n",
    "    print(\"distance\", distance)\n",
    "\n",
    "    siamese_net = Model(inputs=[input_seq_i, input_seq_j, is_directed], outputs=distance)"
   ]
  },
  {
   "cell_type": "code",
   "execution_count": 12,
   "metadata": {},
   "outputs": [],
   "source": [
    "siamese_net = multi_gpu_model(siamese_net, gpus=4, cpu_merge=True, cpu_relocation=False)"
   ]
  },
  {
   "cell_type": "code",
   "execution_count": 13,
   "metadata": {
    "scrolled": true
   },
   "outputs": [
    {
     "data": {
      "text/plain": [
       "77322717"
      ]
     },
     "execution_count": 13,
     "metadata": {},
     "output_type": "execute_result"
    }
   ],
   "source": [
    "#//TODO: get layerwise learning rates and momentum annealing scheme described in paperworking\n",
    "siamese_net.compile(loss=contrastive_loss, \n",
    "                    optimizer=RMSprop(),\n",
    "                    metrics=[accuracy])\n",
    "\n",
    "siamese_net.count_params()\n"
   ]
  },
  {
   "cell_type": "code",
   "execution_count": 14,
   "metadata": {},
   "outputs": [],
   "source": [
    "# Tensorboard\n",
    "# tbCallBack = keras.callbacks.TensorBoard(log_dir='./Graph', histogram_freq=0, write_graph=True, write_images=True)"
   ]
  },
  {
   "cell_type": "markdown",
   "metadata": {},
   "source": [
    "# Data Generator"
   ]
  },
  {
   "cell_type": "code",
   "execution_count": 15,
   "metadata": {},
   "outputs": [
    {
     "name": "stdout",
     "output_type": "stream",
     "text": [
      "Genes info columns: ['locus_type', 'location', 'Family', 'Transcript sequence', 'Disease association', 'Transcript length']\n",
      "Number of nodes without seq removed: 2572\n",
      "num_words: None {'A': 1, 'T': 2, 'G': 3, 'C': 4, 'U': 5}\n",
      "Ed_count: 419905 , Eu_count: 425377 , En_count: 688212\n",
      "Ens_count: 839810\n",
      "Genes info columns: ['locus_type', 'location', 'Family', 'Transcript sequence', 'Disease association', 'Transcript length']\n",
      "Number of nodes without seq removed: 2572\n",
      "num_words: None {'A': 1, 'T': 2, 'G': 3, 'C': 4, 'U': 5}\n",
      "Ed_count: 22332 , Eu_count: 49716 , En_count: 36895\n",
      "Ens_count: 44664\n",
      "X: [('input_seq_j', (1024, 700, 6)), ('input_seq_i', (1024, 700, 6)), ('is_directed', (1024, 1))] \n",
      "y: (1024, 1)\n",
      "X: [('input_seq_j', (1024, 700, 6)), ('input_seq_i', (1024, 700, 6)), ('is_directed', (1024, 1))] \n",
      "y: (1024, 1)\n"
     ]
    }
   ],
   "source": [
    "from moge.network.data_generator import DataGenerator\n",
    "\n",
    "generator_train = DataGenerator(network=network, get_training_data=False, negative_sampling_ratio=2.0,\n",
    "                          maxlen=max_length, padding='post', truncating=\"post\",\n",
    "                          batch_size=batch_size, dim=input_shape, \n",
    "                          shuffle=True, seed=0)\n",
    "\n",
    "generator_test = DataGenerator(network=network_test, get_training_data=False, negative_sampling_ratio=2.0,\n",
    "                          maxlen=max_length, padding='post', truncating=\"post\",\n",
    "                          batch_size=batch_size, dim=input_shape, \n",
    "                          shuffle=True, seed=0)\n",
    "\n",
    "X, y = generator_train.__getitem__(0)\n",
    "print(\"X:\", [(k, v.shape) for k, v in X.items()], \"\\ny:\", y.shape)\n",
    "X, y = generator_test.__getitem__(0)\n",
    "print(\"X:\", [(k, v.shape) for k, v in X.items()], \"\\ny:\", y.shape)"
   ]
  },
  {
   "cell_type": "markdown",
   "metadata": {},
   "source": [
    "# Train"
   ]
  },
  {
   "cell_type": "code",
   "execution_count": null,
   "metadata": {},
   "outputs": [],
   "source": [
    "history = siamese_net.fit_generator(generator_train, epochs=10, validation_data=generator_test,\n",
    "                          use_multiprocessing=True, workers=8)"
   ]
  },
  {
   "cell_type": "code",
   "execution_count": null,
   "metadata": {},
   "outputs": [],
   "source": [
    "# summarize history for accuracy\n",
    "plt.figure(figsize=(15,15))\n",
    "plt.plot(history.history['acc'])\n",
    "plt.plot(history.history['val_acc'])\n",
    "plt.title('model accuracy')\n",
    "plt.ylabel('accuracy')\n",
    "plt.xlabel('epoch')\n",
    "plt.legend(['train', 'test'], loc='upper left')\n",
    "plt.show()"
   ]
  },
  {
   "cell_type": "code",
   "execution_count": null,
   "metadata": {},
   "outputs": [],
   "source": [
    "# summarize history for accuracy\n",
    "plt.figure(figsize=(15,15))\n",
    "plt.plot(history.history['acc'])\n",
    "plt.plot(history.history['val_acc'])\n",
    "plt.title('model accuracy')\n",
    "plt.ylabel('accuracy')\n",
    "plt.xlabel('epoch')\n",
    "plt.legend(['train', 'test'], loc='upper left')\n",
    "plt.show()"
   ]
  },
  {
   "cell_type": "markdown",
   "metadata": {},
   "source": [
    "# Save Model"
   ]
  },
  {
   "cell_type": "code",
   "execution_count": null,
   "metadata": {},
   "outputs": [],
   "source": [
    "lstm_network.save(\"lstm_network_contrastive_eucl_512_linear_varlen_disease.h5\")"
   ]
  },
  {
   "cell_type": "code",
   "execution_count": null,
   "metadata": {},
   "outputs": [],
   "source": [
    "siamese_net.summary()"
   ]
  },
  {
   "cell_type": "code",
   "execution_count": null,
   "metadata": {},
   "outputs": [],
   "source": [
    "lstm_network.summary()"
   ]
  },
  {
   "cell_type": "markdown",
   "metadata": {},
   "source": [
    "# Evaluate on test data"
   ]
  },
  {
   "cell_type": "code",
   "execution_count": null,
   "metadata": {},
   "outputs": [],
   "source": [
    "generator_val = DataGenerator(network=network_val, get_training_data=False, negative_sampling_ratio=2.0,\n",
    "                          maxlen=max_length, padding='post', truncating=\"post\",\n",
    "                          batch_size=batch_size, dim=input_shape, \n",
    "                          shuffle=True, seed=0)"
   ]
  },
  {
   "cell_type": "code",
   "execution_count": null,
   "metadata": {},
   "outputs": [],
   "source": [
    "siamese_net.evaluate_generator(generator_val, use_multiprocessing=True, workers=8)"
   ]
  },
  {
   "cell_type": "code",
   "execution_count": null,
   "metadata": {},
   "outputs": [],
   "source": [
    "%%javascript\n",
    "Jupyter.notebook.session.delete();"
   ]
  },
  {
   "cell_type": "markdown",
   "metadata": {},
   "source": [
    "# Inference"
   ]
  },
  {
   "cell_type": "code",
   "execution_count": null,
   "metadata": {},
   "outputs": [],
   "source": [
    "np.set_printoptions(precision=2, suppress=True)"
   ]
  },
  {
   "cell_type": "code",
   "execution_count": null,
   "metadata": {},
   "outputs": [],
   "source": [
    "i = 0\n",
    "# i += 1\n",
    "X, y = generator.__getitem__(i)\n",
    "print(\"X:\", [(k, v.shape) for k, v in X.items()], \"\\ny:\", y.shape)\n",
    "list(zip(siamese_net.predict_on_batch(X).flatten().tolist(), \n",
    "         y.flatten().tolist(), \n",
    "         X[\"is_directed\"].tolist()))"
   ]
  },
  {
   "cell_type": "code",
   "execution_count": null,
   "metadata": {},
   "outputs": [],
   "source": [
    "seqs = generator.get_sequence_data(range(len(generator.node_list)))"
   ]
  },
  {
   "cell_type": "code",
   "execution_count": null,
   "metadata": {},
   "outputs": [],
   "source": [
    "embs = lstm_network.predict(seqs)"
   ]
  },
  {
   "cell_type": "code",
   "execution_count": null,
   "metadata": {},
   "outputs": [],
   "source": [
    "embs.shape"
   ]
  }
 ],
 "metadata": {
  "kernelspec": {
   "display_name": "Python 3",
   "language": "python",
   "name": "python3"
  },
  "language_info": {
   "codemirror_mode": {
    "name": "ipython",
    "version": 3
   },
   "file_extension": ".py",
   "mimetype": "text/x-python",
   "name": "python",
   "nbconvert_exporter": "python",
   "pygments_lexer": "ipython3",
   "version": "3.6.6"
  }
 },
 "nbformat": 4,
 "nbformat_minor": 2
}
