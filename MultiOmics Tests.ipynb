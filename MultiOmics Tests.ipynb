{
 "cells": [
  {
   "cell_type": "code",
   "execution_count": 1,
   "metadata": {},
   "outputs": [],
   "source": [
    "# Necessary imports\n",
    "%load_ext autoreload\n",
    "%autoreload 2\\\n",
    "\n",
    "import networkx as nx\n",
    "import numpy as np\n",
    "import pandas as pd"
   ]
  },
  {
   "cell_type": "code",
   "execution_count": 2,
   "metadata": {},
   "outputs": [
    {
     "name": "stderr",
     "output_type": "stream",
     "text": [
      "/opt/anaconda3/lib/python3.6/site-packages/pandas/core/frame.py:3778: SettingWithCopyWarning: \n",
      "A value is trying to be set on a copy of a slice from a DataFrame\n",
      "\n",
      "See the caveats in the documentation: http://pandas.pydata.org/pandas-docs/stable/indexing.html#indexing-view-versus-copy\n",
      "  return super(DataFrame, self).rename(**kwargs)\n",
      "/opt/anaconda3/lib/python3.6/site-packages/IPython/core/interactiveshell.py:2963: DtypeWarning: Columns (1,3) have mixed types. Specify dtype option on import or set low_memory=False.\n",
      "  exec(code_obj, self.user_global_ns, self.user_ns)\n"
     ]
    },
    {
     "name": "stdout",
     "output_type": "stream",
     "text": [
      "PATIENTS (522, 5)\n",
      "DRUGS (461, 4)\n",
      "GE (576, 20472)\n",
      "MIR (494, 1870)\n",
      "LNC (546, 12727)\n",
      "SAMPLES (599, 6)\n"
     ]
    }
   ],
   "source": [
    "from TCGAMultiOmics.multiomics import MultiOmicsData\n",
    "from TCGAMultiOmics.network import HeterogeneousNetwork\n",
    "\n",
    "folder_path = \"/home/jonny_admin/PycharmProjects/nuclei-segmentation/data/tcga-assembler/LUAD\"\n",
    "external_data_path = \"/home/jonny_admin/PycharmProjects/Bioinformatics_ExternalData/\"\n",
    "luad_data = MultiOmicsData(cancer_type=\"LUAD\", tcga_data_path=folder_path, external_data_path=external_data_path,\n",
    "                           modalities=[\"GE\",\n",
    "                                       \"MIR\",\n",
    "                                       \"LNC\",\n",
    "                                       # \"CNV\",\n",
    "                                       # \"SNP\",\n",
    "                                       # \"PRO\"\n",
    "                                       ])\n",
    "\n"
   ]
  },
  {
   "cell_type": "code",
   "execution_count": 3,
   "metadata": {},
   "outputs": [],
   "source": [
    "network = HeterogeneousNetwork(modalities=[\"MIR\", \"GE\"], multi_omics=luad_data)"
   ]
  },
  {
   "cell_type": "code",
   "execution_count": 4,
   "metadata": {},
   "outputs": [],
   "source": [
    "# Adds miRNA-target interaction network\n",
    "network.add_edges_from_edgelist(edgelist=luad_data.MIR.get_miRNA_target_interaction_edgelist())"
   ]
  },
  {
   "cell_type": "code",
   "execution_count": 5,
   "metadata": {},
   "outputs": [],
   "source": [
    "# Adds Gene Regulatory Network edges\n",
    "network.add_edges_from_edgelist(edgelist=luad_data.GE.get_network_edgelist())"
   ]
  },
  {
   "cell_type": "code",
   "execution_count": 6,
   "metadata": {},
   "outputs": [
    {
     "name": "stdout",
     "output_type": "stream",
     "text": [
      "27968\n",
      "525988\n"
     ]
    }
   ],
   "source": [
    "print(len(network.G.nodes()))\n",
    "print(len(network.G.edges()))\n",
    "# print(luad_data.LNC.get_genes_list())"
   ]
  },
  {
   "cell_type": "markdown",
   "metadata": {},
   "source": [
    "# Import Graph Embedding Methods"
   ]
  },
  {
   "cell_type": "code",
   "execution_count": 7,
   "metadata": {},
   "outputs": [
    {
     "name": "stderr",
     "output_type": "stream",
     "text": [
      "Using TensorFlow backend.\n",
      "/opt/anaconda3/lib/python3.6/site-packages/h5py/__init__.py:36: FutureWarning: Conversion of the second argument of issubdtype from `float` to `np.floating` is deprecated. In future, it will be treated as `np.float64 == np.dtype(float).type`.\n",
      "  from ._conv import register_converters as _register_converters\n",
      "Can not use cuDNN on context None: cannot compile with cuDNN. We got this error:\n",
      "b'In file included from /usr/local/cuda-9.0/include/channel_descriptor.h:62:0,\\n                 from /usr/local/cuda-9.0/include/cuda_runtime.h:90,\\n                 from /usr/include/cudnn.h:64,\\n                 from /tmp/try_flags_j5y6t3ya.c:4:\\n/usr/local/cuda-9.0/include/cuda_runtime_api.h:2930:102: error: use of enum \\xe2\\x80\\x98cudaFuncAttribute\\xe2\\x80\\x99 without previous declaration\\n extern __host__ __cudart_builtin__ cudaError_t CUDARTAPI cudaFuncSetAttribute(const void *func, enum cudaFuncAttribute attr, int value);\\n                                                                                                      ^~~~~~~~~~~~~~~~~\\n'\n",
      "Mapped name None to device cuda: GeForce GTX 1080 Ti (0000:01:00.0)\n"
     ]
    }
   ],
   "source": [
    "import matplotlib.pyplot as plt\n",
    "import networkx as nx\n",
    "\n",
    "from gem.utils import graph_util, plot_util\n",
    "from gem.evaluation import visualize_embedding as viz\n",
    "from gem.evaluation import evaluate_graph_reconstruction as gr\n",
    "from gem.evaluation.evaluate_link_prediction import evaluateStaticLinkPrediction\n",
    "\n",
    "from time import time\n",
    "\n",
    "from gem.embedding.gf       import GraphFactorization\n",
    "from gem.embedding.hope     import HOPE\n",
    "from gem.embedding.lap      import LaplacianEigenmaps\n",
    "from gem.embedding.lle      import LocallyLinearEmbedding\n",
    "from gem.embedding.node2vec import node2vec\n",
    "from gem.embedding.sdne     import SDNE\n",
    "from moge.embedding.dual_graph_embedding import DualGraphEmbedding\n",
    "\n",
    "\n",
    "# File that contains the edges. Format: source target\n",
    "# Optionally, you can add weights as third column: source target weight\n",
    "\n",
    "# Specify whether the edges are directed\n",
    "isDirected = True\n",
    "\n",
    "# Load graph\n",
    "# G = graph_util.loadGraphFromEdgeListTxt(edge_f, directed=isDirected)\n",
    "# G = G.to_directed()\n",
    "\n",
    "# G = nx.read_edgelist('../nuclei-segmentation/notebooks/gem/data/ppi.edgelist', create_using=nx.DiGraph())\n",
    "G = nx.read_edgelist('moge/data/karate.edgelist', create_using=nx.DiGraph())\n",
    "\n",
    "# G = network.G"
   ]
  },
  {
   "cell_type": "code",
   "execution_count": 8,
   "metadata": {},
   "outputs": [],
   "source": [
    "G = nx.convert_node_labels_to_integers(G)"
   ]
  },
  {
   "cell_type": "code",
   "execution_count": 9,
   "metadata": {},
   "outputs": [],
   "source": [
    "models = []\n",
    "# You can comment out the methods you don't want to run\n",
    "models.append(GraphFactorization(d=100, max_iter=100, eta=1*10**-4, regu=1.0))\n",
    "models.append(HOPE(d=100, beta=0.1))\n",
    "# models.append(LaplacianEigenmaps(d=2))\n",
    "# models.append(LocallyLinearEmbedding(d=100))\n",
    "# models.append(node2vec(d=100, max_iter=1, walk_len=80, num_walks=10, con_size=10, ret_p=1, inout_p=1))\n",
    "# models.append(SDNE(d=2, beta=5, alpha=1e-5, nu1=1e-6, nu2=1e-6, \n",
    "#                    K=3, n_units=[50, 15,], rho=0.3, \n",
    "#                    n_iter=50, xeta=0.01, n_batch=500))\n",
    "\n",
    "models.append(DualGraphEmbedding(d=50, reg=1.0, lr=0.05, iterations=1000))\n",
    "                   "
   ]
  },
  {
   "cell_type": "code",
   "execution_count": null,
   "metadata": {},
   "outputs": [
    {
     "name": "stdout",
     "output_type": "stream",
     "text": [
      "Num nodes: 34, num edges: 77\n",
      "\n",
      " graph_factor_sgd graph_factor_sgd_100\n",
      "Could not import C++ module for Graph Factorization. Reverting to python implementation. Please recompile graphFac_ext from graphFac.cpp using bjam\n",
      "\t\tIter id: 0, Objective: 77.3322, f1: 76.9868, f2: 0.34546\n",
      "Graph Reconstruction. MAP: 0.11117059877564078 . Prec_curv [0.0, 0.0, 0.0, 0.0, 0.0, 0.0, 0.0, 0.0, 0.0, 0.0, 0.0, 0.0, 0.0, 0.0, 0.0, 0.0, 0.0, 0.0, 0.0, 0.0, 0.0, 0.0, 0.0, 0.0, 0.0, 0.0, 0.0, 0.0, 0.034482758620689655, 0.03333333333333333, 0.03225806451612903, 0.03125, 0.030303030303030304, 0.029411764705882353, 0.02857142857142857, 0.027777777777777776, 0.02702702702702703, 0.02631578947368421, 0.02564102564102564, 0.025, 0.024390243902439025, 0.023809523809523808, 0.023255813953488372, 0.022727272727272728, 0.022222222222222223, 0.043478260869565216, 0.0425531914893617, 0.041666666666666664, 0.04081632653061224, 0.04, 0.0392156862745098, 0.038461538461538464, 0.03773584905660377, 0.037037037037037035, 0.03636363636363636, 0.03571428571428571, 0.03508771929824561, 0.034482758620689655, 0.05084745762711865, 0.05, 0.04918032786885246, 0.04838709677419355, 0.047619047619047616, 0.046875, 0.046153846153846156, 0.045454545454545456, 0.04477611940298507, 0.04411764705882353, 0.043478260869565216, 0.04285714285714286, 0.04225352112676056, 0.041666666666666664, 0.0410958904109589, 0.04054054054054054, 0.04, 0.039473684210526314, 0.03896103896103896, 0.038461538461538464, 0.0379746835443038, 0.0375, 0.037037037037037035, 0.036585365853658534, 0.03614457831325301, 0.03571428571428571, 0.03529411764705882, 0.03488372093023256, 0.034482758620689655, 0.03409090909090909, 0.033707865168539325, 0.03333333333333333, 0.03296703296703297, 0.03260869565217391, 0.03225806451612903, 0.031914893617021274, 0.031578947368421054, 0.041666666666666664, 0.041237113402061855, 0.04081632653061224, 0.04040404040404041, 0.04, 0.039603960396039604, 0.0392156862745098, 0.038834951456310676, 0.038461538461538464, 0.0380952380952381, 0.03773584905660377, 0.037383177570093455, 0.037037037037037035, 0.03669724770642202, 0.03636363636363636, 0.036036036036036036, 0.03571428571428571, 0.035398230088495575, 0.03508771929824561, 0.034782608695652174, 0.034482758620689655, 0.03418803418803419, 0.03389830508474576, 0.03361344537815126, 0.03333333333333333, 0.03305785123966942, 0.03278688524590164, 0.032520325203252036, 0.03225806451612903, 0.032, 0.031746031746031744, 0.031496062992125984, 0.03125, 0.031007751937984496, 0.03076923076923077, 0.030534351145038167, 0.030303030303030304, 0.03007518796992481, 0.029850746268656716, 0.037037037037037035, 0.04411764705882353, 0.043795620437956206, 0.050724637681159424, 0.050359712230215826, 0.05, 0.04964539007092199, 0.04929577464788732, 0.055944055944055944, 0.05555555555555555, 0.05517241379310345, 0.0547945205479452, 0.05442176870748299, 0.05405405405405406, 0.053691275167785234, 0.05333333333333334, 0.052980132450331126, 0.05263157894736842, 0.05228758169934641, 0.05194805194805195, 0.05161290322580645, 0.05128205128205128, 0.050955414012738856, 0.056962025316455694, 0.05660377358490566, 0.05625, 0.055900621118012424, 0.05555555555555555, 0.05521472392638037, 0.054878048780487805, 0.05454545454545454, 0.060240963855421686, 0.059880239520958084, 0.05952380952380952, 0.05917159763313609, 0.058823529411764705, 0.05847953216374269, 0.05813953488372093, 0.057803468208092484, 0.05747126436781609, 0.05714285714285714, 0.056818181818181816, 0.05649717514124294, 0.056179775280898875, 0.055865921787709494, 0.05555555555555555, 0.055248618784530384, 0.054945054945054944, 0.0546448087431694, 0.05434782608695652, 0.05405405405405406, 0.053763440860215055, 0.053475935828877004, 0.05319148936170213, 0.05291005291005291, 0.05263157894736842, 0.05235602094240838, 0.052083333333333336, 0.05181347150259067, 0.05154639175257732, 0.05128205128205128, 0.05102040816326531, 0.050761421319796954, 0.05555555555555555, 0.05527638190954774, 0.055, 0.05472636815920398, 0.054455445544554455, 0.059113300492610835, 0.058823529411764705, 0.05853658536585366, 0.05825242718446602, 0.057971014492753624, 0.057692307692307696, 0.05741626794258373, 0.05714285714285714, 0.05687203791469194, 0.05660377358490566, 0.056338028169014086, 0.056074766355140186, 0.05581395348837209, 0.05555555555555555, 0.055299539170506916, 0.05504587155963303, 0.0547945205479452, 0.05454545454545454, 0.05429864253393665, 0.05405405405405406, 0.053811659192825115, 0.05357142857142857, 0.05333333333333334, 0.05309734513274336, 0.05286343612334802, 0.05701754385964912, 0.056768558951965066, 0.05652173913043478, 0.05627705627705628, 0.05603448275862069, 0.060085836909871244, 0.05982905982905983, 0.059574468085106386, 0.059322033898305086, 0.05907172995780591, 0.058823529411764705, 0.058577405857740586, 0.058333333333333334, 0.058091286307053944, 0.05785123966942149, 0.05761316872427984, 0.05737704918032787, 0.05714285714285714, 0.056910569105691054, 0.05668016194331984, 0.056451612903225805, 0.05622489959839357, 0.056, 0.055776892430278883, 0.05555555555555555, 0.05533596837944664, 0.05511811023622047, 0.054901960784313725, 0.0546875, 0.054474708171206226, 0.05426356589147287, 0.05405405405405406, 0.05384615384615385, 0.05363984674329502, 0.05343511450381679, 0.053231939163498096, 0.05303030303030303, 0.052830188679245285, 0.05263157894736842, 0.052434456928838954, 0.05223880597014925, 0.05204460966542751, 0.05185185185185185, 0.05166051660516605, 0.051470588235294115, 0.05128205128205128, 0.051094890510948905, 0.05090909090909091, 0.050724637681159424, 0.05054151624548736, 0.050359712230215826, 0.05017921146953405, 0.05357142857142857, 0.05338078291814947, 0.05319148936170213, 0.053003533568904596, 0.0528169014084507, 0.05263157894736842, 0.05244755244755245, 0.05226480836236934, 0.052083333333333336, 0.05190311418685121, 0.05172413793103448, 0.05154639175257732, 0.05136986301369863, 0.051194539249146756, 0.05102040816326531, 0.05084745762711865, 0.05067567567567568]\n",
      "\n",
      " hope_gsvd hope_gsvd_100\n",
      "could not run <gem.embedding.hope.HOPE object at 0x7fbea126add8> k must be between 1 and min(A.shape), k=50\n",
      "\n",
      "  \n",
      "iteration 0\n",
      "iteration: 0 loss 93.91032916726544\n",
      "iteration 1\n",
      "iteration 2\n",
      "iteration 3\n",
      "iteration 4\n",
      "iteration 5\n",
      "iteration 6\n",
      "iteration 7\n",
      "iteration 8\n",
      "iteration 9\n",
      "iteration 10\n",
      "iteration 11\n",
      "iteration 12\n",
      "iteration 13\n",
      "iteration 14\n",
      "iteration 15\n",
      "iteration 16\n",
      "iteration 17\n"
     ]
    }
   ],
   "source": [
    "print ('Num nodes: %d, num edges: %d' % (G.number_of_nodes(), G.number_of_edges()))\n",
    "for embedding in models:\n",
    "    try:\n",
    "        print(\"\\n\", embedding.get_method_name(), embedding.get_method_summary())\n",
    "        t1 = time()\n",
    "        \n",
    "    #     Learn embedding - accepts a networkx graph or file with edge list\n",
    "        embedding.learn_embedding(graph=G, edge_f=None, is_weighted=True, no_python=True)\n",
    "#         print (embedding._method_name+':\\n\\tTraining time: %f' % (time() - t1))\n",
    "\n",
    "        Y = embedding.get_embedding()\n",
    "\n",
    "#         # Evaluate on graph reconstruction\n",
    "        MAP, prec_curv, err, err_baseline = gr.evaluateStaticGraphReconstruction(G, embedding, Y, None)\n",
    "        print (\"Graph Reconstruction. MAP:\", MAP, \". Prec_curv\", prec_curv)\n",
    "\n",
    "        \n",
    "        # Evaluate on link prediction\n",
    "#         MAP, prec_curv = evaluateStaticLinkPrediction(G, embedding,\n",
    "#                                      train_ratio=0.8,\n",
    "#                                      sample_ratio_e=0.3,\n",
    "#                                      is_undirected=False)\n",
    "#         print (\"Link Prediction. MAP:\", MAP)\n",
    "#         print (embedding._method_name+':\\n\\tTraining time: %f' % (time() - t1))\n",
    "        \n",
    "        # Visualize\n",
    "#         viz.plot_embedding2D(embedding.get_embedding(), di_graph=G, node_colors=None)\n",
    "#         plt.show()\n",
    "    except Exception as e:\n",
    "        print(\"could not run\", embedding, e)"
   ]
  },
  {
   "cell_type": "code",
   "execution_count": null,
   "metadata": {},
   "outputs": [],
   "source": [
    "viz.plot_embedding2D(models[0].embedding_t, di_graph=G, node_colors=None)\n",
    "plt.show()"
   ]
  },
  {
   "cell_type": "code",
   "execution_count": null,
   "metadata": {},
   "outputs": [],
   "source": [
    "from sklearn.manifold import TSNE\n",
    "\n",
    "model = TSNE(n_components=2)\n",
    "node_pos = model.fit_transform(models[0].get_embedding())\n",
    "pos = {}\n",
    "for i in range(len(G.nodes())):\n",
    "    pos[i] = node_pos[i, :]\n",
    "nx.draw_networkx(G, pos, width=0.1, node_size=300, arrows=False,\n",
    "                             alpha=0.8, font_size=12)"
   ]
  },
  {
   "cell_type": "code",
   "execution_count": null,
   "metadata": {},
   "outputs": [],
   "source": []
  }
 ],
 "metadata": {
  "kernelspec": {
   "display_name": "Python 3",
   "language": "python",
   "name": "python3"
  },
  "language_info": {
   "codemirror_mode": {
    "name": "ipython",
    "version": 3
   },
   "file_extension": ".py",
   "mimetype": "text/x-python",
   "name": "python",
   "nbconvert_exporter": "python",
   "pygments_lexer": "ipython3",
   "version": "3.6.5"
  }
 },
 "nbformat": 4,
 "nbformat_minor": 1
}
