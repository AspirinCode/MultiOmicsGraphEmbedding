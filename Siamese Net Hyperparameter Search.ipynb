{
 "cells": [
  {
   "cell_type": "code",
   "execution_count": 1,
   "metadata": {},
   "outputs": [],
   "source": [
    "# Necessary imports\n",
    "%load_ext autoreload\n",
    "%autoreload 2\n",
    "\n",
    "import networkx as nx\n",
    "import numpy as np\n",
    "import pandas as pd\n",
    "\n",
    "from moge.network.heterogeneous_network import HeterogeneousNetwork\n",
    "\n",
    "from sklearn.model_selection import ParameterGrid"
   ]
  },
  {
   "cell_type": "code",
   "execution_count": 3,
   "metadata": {},
   "outputs": [],
   "source": [
    "import pickle\n",
    "\n",
    "# READ\n",
    "with open('moge/data/LMN_future_recall/TRAIN/Interactions_Affinity/LMN_mirtarbase_biogrid_starbase_lncrna2target_lncrinter.train.pickle', 'rb') as file:\n",
    "    network = pickle.load(file)\n",
    "    \n",
    "with open('moge/data/LMN_future_recall/TEST/Interactions_Affinity/LMN_mirtarbase_biogrid_starbase_lncrna2target_lncrinter.test.pickle', 'rb') as file:\n",
    "    network_val = pickle.load(file)"
   ]
  },
  {
   "cell_type": "markdown",
   "metadata": {},
   "source": [
    "# Set parameter space"
   ]
  },
  {
   "cell_type": "code",
   "execution_count": 2,
   "metadata": {},
   "outputs": [],
   "source": [
    "parameters = {\n",
    "    \"d\": [128, 512],\n",
    "    \"margin\": [0.2, 0.5],\n",
    "    \"d\": [128, 512],\n",
    "    \"d\": [128, 512],\n",
    "    \"directed_proba\": [0.3, 0.5, 0.8],\n",
    "    \"max_length\": [1400, 2000],\n",
    "    \"truncating\": [\"pre\", \"post\"],\n",
    "}"
   ]
  },
  {
   "cell_type": "markdown",
   "metadata": {},
   "source": [
    "# Train Model"
   ]
  },
  {
   "cell_type": "code",
   "execution_count": 8,
   "metadata": {},
   "outputs": [],
   "source": [
    "from moge.embedding.siamese_graph_embedding import SiameseGraphEmbedding, SiameseTripletGraphEmbedding\n",
    "\n",
    "# siamese = SiameseGraphEmbedding(d=128, batch_size=1024, lr=0.001, epochs=50, negative_sampling_ratio=2.0,\n",
    "#                                  max_length=2000, truncating=\"post\", verbose=True)\n",
    "\n",
    "siamese = SiameseTripletGraphEmbedding(d=128, batch_size=256, margin=0.2, lr=0.001, epochs=30, \n",
    "    compression_func=\"sqrt3\", negative_sampling_ratio=2.0, directed_proba=0.8,\n",
    "    max_length=2000, truncating=\"post\", verbose=True)\n"
   ]
  },
  {
   "cell_type": "code",
   "execution_count": 9,
   "metadata": {},
   "outputs": [
    {
     "data": {
      "text/plain": [
       "{'batch_size': 256,\n",
       " 'compression_func': 'sqrt3',\n",
       " 'd': None,\n",
       " 'directed_proba': 0.8,\n",
       " 'epochs': 30,\n",
       " 'lr': 0.001,\n",
       " 'margin': 0.2,\n",
       " 'max_length': 2000,\n",
       " 'negative_sampling_ratio': 2.0,\n",
       " 'seed': 0,\n",
       " 'truncating': 'post',\n",
       " 'verbose': True}"
      ]
     },
     "execution_count": 9,
     "metadata": {},
     "output_type": "execute_result"
    }
   ],
   "source": [
    "siamese.get_params()"
   ]
  },
  {
   "cell_type": "code",
   "execution_count": 10,
   "metadata": {},
   "outputs": [
    {
     "name": "stdout",
     "output_type": "stream",
     "text": [
      "{'d': 128, 'directed_proba': 0.3, 'margin': 0.2, 'max_length': 1400, 'truncating': 'pre'}\n",
      "{'d': 128, 'directed_proba': 0.3, 'margin': 0.2, 'max_length': 1400, 'truncating': 'post'}\n",
      "{'d': 128, 'directed_proba': 0.3, 'margin': 0.2, 'max_length': 2000, 'truncating': 'pre'}\n",
      "{'d': 128, 'directed_proba': 0.3, 'margin': 0.2, 'max_length': 2000, 'truncating': 'post'}\n",
      "{'d': 128, 'directed_proba': 0.3, 'margin': 0.5, 'max_length': 1400, 'truncating': 'pre'}\n",
      "{'d': 128, 'directed_proba': 0.3, 'margin': 0.5, 'max_length': 1400, 'truncating': 'post'}\n",
      "{'d': 128, 'directed_proba': 0.3, 'margin': 0.5, 'max_length': 2000, 'truncating': 'pre'}\n",
      "{'d': 128, 'directed_proba': 0.3, 'margin': 0.5, 'max_length': 2000, 'truncating': 'post'}\n",
      "{'d': 128, 'directed_proba': 0.5, 'margin': 0.2, 'max_length': 1400, 'truncating': 'pre'}\n",
      "{'d': 128, 'directed_proba': 0.5, 'margin': 0.2, 'max_length': 1400, 'truncating': 'post'}\n",
      "{'d': 128, 'directed_proba': 0.5, 'margin': 0.2, 'max_length': 2000, 'truncating': 'pre'}\n",
      "{'d': 128, 'directed_proba': 0.5, 'margin': 0.2, 'max_length': 2000, 'truncating': 'post'}\n",
      "{'d': 128, 'directed_proba': 0.5, 'margin': 0.5, 'max_length': 1400, 'truncating': 'pre'}\n",
      "{'d': 128, 'directed_proba': 0.5, 'margin': 0.5, 'max_length': 1400, 'truncating': 'post'}\n",
      "{'d': 128, 'directed_proba': 0.5, 'margin': 0.5, 'max_length': 2000, 'truncating': 'pre'}\n",
      "{'d': 128, 'directed_proba': 0.5, 'margin': 0.5, 'max_length': 2000, 'truncating': 'post'}\n",
      "{'d': 128, 'directed_proba': 0.8, 'margin': 0.2, 'max_length': 1400, 'truncating': 'pre'}\n",
      "{'d': 128, 'directed_proba': 0.8, 'margin': 0.2, 'max_length': 1400, 'truncating': 'post'}\n",
      "{'d': 128, 'directed_proba': 0.8, 'margin': 0.2, 'max_length': 2000, 'truncating': 'pre'}\n",
      "{'d': 128, 'directed_proba': 0.8, 'margin': 0.2, 'max_length': 2000, 'truncating': 'post'}\n",
      "{'d': 128, 'directed_proba': 0.8, 'margin': 0.5, 'max_length': 1400, 'truncating': 'pre'}\n",
      "{'d': 128, 'directed_proba': 0.8, 'margin': 0.5, 'max_length': 1400, 'truncating': 'post'}\n",
      "{'d': 128, 'directed_proba': 0.8, 'margin': 0.5, 'max_length': 2000, 'truncating': 'pre'}\n",
      "{'d': 128, 'directed_proba': 0.8, 'margin': 0.5, 'max_length': 2000, 'truncating': 'post'}\n",
      "{'d': 512, 'directed_proba': 0.3, 'margin': 0.2, 'max_length': 1400, 'truncating': 'pre'}\n",
      "{'d': 512, 'directed_proba': 0.3, 'margin': 0.2, 'max_length': 1400, 'truncating': 'post'}\n",
      "{'d': 512, 'directed_proba': 0.3, 'margin': 0.2, 'max_length': 2000, 'truncating': 'pre'}\n",
      "{'d': 512, 'directed_proba': 0.3, 'margin': 0.2, 'max_length': 2000, 'truncating': 'post'}\n",
      "{'d': 512, 'directed_proba': 0.3, 'margin': 0.5, 'max_length': 1400, 'truncating': 'pre'}\n",
      "{'d': 512, 'directed_proba': 0.3, 'margin': 0.5, 'max_length': 1400, 'truncating': 'post'}\n",
      "{'d': 512, 'directed_proba': 0.3, 'margin': 0.5, 'max_length': 2000, 'truncating': 'pre'}\n",
      "{'d': 512, 'directed_proba': 0.3, 'margin': 0.5, 'max_length': 2000, 'truncating': 'post'}\n",
      "{'d': 512, 'directed_proba': 0.5, 'margin': 0.2, 'max_length': 1400, 'truncating': 'pre'}\n",
      "{'d': 512, 'directed_proba': 0.5, 'margin': 0.2, 'max_length': 1400, 'truncating': 'post'}\n",
      "{'d': 512, 'directed_proba': 0.5, 'margin': 0.2, 'max_length': 2000, 'truncating': 'pre'}\n",
      "{'d': 512, 'directed_proba': 0.5, 'margin': 0.2, 'max_length': 2000, 'truncating': 'post'}\n",
      "{'d': 512, 'directed_proba': 0.5, 'margin': 0.5, 'max_length': 1400, 'truncating': 'pre'}\n",
      "{'d': 512, 'directed_proba': 0.5, 'margin': 0.5, 'max_length': 1400, 'truncating': 'post'}\n",
      "{'d': 512, 'directed_proba': 0.5, 'margin': 0.5, 'max_length': 2000, 'truncating': 'pre'}\n",
      "{'d': 512, 'directed_proba': 0.5, 'margin': 0.5, 'max_length': 2000, 'truncating': 'post'}\n",
      "{'d': 512, 'directed_proba': 0.8, 'margin': 0.2, 'max_length': 1400, 'truncating': 'pre'}\n",
      "{'d': 512, 'directed_proba': 0.8, 'margin': 0.2, 'max_length': 1400, 'truncating': 'post'}\n",
      "{'d': 512, 'directed_proba': 0.8, 'margin': 0.2, 'max_length': 2000, 'truncating': 'pre'}\n",
      "{'d': 512, 'directed_proba': 0.8, 'margin': 0.2, 'max_length': 2000, 'truncating': 'post'}\n",
      "{'d': 512, 'directed_proba': 0.8, 'margin': 0.5, 'max_length': 1400, 'truncating': 'pre'}\n",
      "{'d': 512, 'directed_proba': 0.8, 'margin': 0.5, 'max_length': 1400, 'truncating': 'post'}\n",
      "{'d': 512, 'directed_proba': 0.8, 'margin': 0.5, 'max_length': 2000, 'truncating': 'pre'}\n",
      "{'d': 512, 'directed_proba': 0.8, 'margin': 0.5, 'max_length': 2000, 'truncating': 'post'}\n"
     ]
    }
   ],
   "source": [
    "for g in ParameterGrid(parameters):\n",
    "#     print(g)\n",
    "#     siamese.set_params(**g)\n",
    "    siamese.get_params()"
   ]
  },
  {
   "cell_type": "code",
   "execution_count": null,
   "metadata": {},
   "outputs": [],
   "source": []
  },
  {
   "cell_type": "code",
   "execution_count": null,
   "metadata": {},
   "outputs": [],
   "source": [
    "siamese.learn_embedding(network, network_val=network_val, multi_gpu=False, \n",
    "    subsample=True, n_steps=1000, validation_steps=None, \n",
    "    \n",
    "    validation_make_data=False,\n",
    "    seed=3)"
   ]
  },
  {
   "cell_type": "code",
   "execution_count": null,
   "metadata": {},
   "outputs": [],
   "source": []
  }
 ],
 "metadata": {
  "kernelspec": {
   "display_name": "Python 3",
   "language": "python",
   "name": "python3"
  },
  "language_info": {
   "codemirror_mode": {
    "name": "ipython",
    "version": 3
   },
   "file_extension": ".py",
   "mimetype": "text/x-python",
   "name": "python",
   "nbconvert_exporter": "python",
   "pygments_lexer": "ipython3",
   "version": "3.6.8"
  }
 },
 "nbformat": 4,
 "nbformat_minor": 2
}
