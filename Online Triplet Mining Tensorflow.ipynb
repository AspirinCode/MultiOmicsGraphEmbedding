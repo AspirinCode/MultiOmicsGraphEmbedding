{
 "cells": [
  {
   "cell_type": "code",
   "execution_count": 1,
   "metadata": {},
   "outputs": [
    {
     "name": "stderr",
     "output_type": "stream",
     "text": [
      "Using TensorFlow backend.\n"
     ]
    }
   ],
   "source": [
    "# Necessary imports\n",
    "%load_ext autoreload\n",
    "%autoreload 2\n",
    "\n",
    "import networkx as nx\n",
    "import numpy as np\n",
    "import pandas as pd\n",
    "import tensorflow as tf\n",
    "import keras.backend as K\n",
    "\n",
    "from TCGAMultiOmics.multiomics import MultiOmicsData\n",
    "from moge.network.heterogeneous_network import HeterogeneousNetwork\n",
    "\n",
    "from moge.visualization.plot_data import matrix_heatmap"
   ]
  },
  {
   "cell_type": "code",
   "execution_count": 4,
   "metadata": {},
   "outputs": [],
   "source": [
    "tf.enable_eager_execution()"
   ]
  },
  {
   "cell_type": "code",
   "execution_count": 8,
   "metadata": {},
   "outputs": [],
   "source": [
    "import pickle\n",
    "\n",
    "# READ\n",
    "with open('moge/data/LMN_future_recall/TRAIN/Interactions_Affinity/LMN_mirtarbase_biogrid_starbase_lncrna2target_lncrinter.train.pickle', 'rb') as file:\n",
    "    network = pickle.load(file)"
   ]
  },
  {
   "cell_type": "code",
   "execution_count": 9,
   "metadata": {},
   "outputs": [
    {
     "name": "stdout",
     "output_type": "stream",
     "text": [
      "Using SampledDataGenerator\n",
      "Ed_count: 596408 , Eu_count: 151513 , En_count: 755561\n"
     ]
    },
    {
     "name": "stderr",
     "output_type": "stream",
     "text": [
      "/home/jonny/PycharmProjects/MultiOmicsGraphEmbedding/moge/network/edge_generator.py:63: SparseEfficiencyWarning: Comparing a sparse matrix with 0 using == is inefficient, try using != instead.\n",
      "  self.process_negative_sampling_edges()\n"
     ]
    },
    {
     "name": "stdout",
     "output_type": "stream",
     "text": [
      "Ens_count: 1789224\n",
      "word index: {'A': 1, 'T': 2, 'G': 3, 'C': 4}\n",
      "# of nodes to sample from (non-zero degree): 28597\n"
     ]
    }
   ],
   "source": [
    "from moge.network.triplet_generator import OnlineTripletGenerator\n",
    "\n",
    "generator_train = OnlineTripletGenerator(network, batch_size=256)"
   ]
  },
  {
   "cell_type": "code",
   "execution_count": 8,
   "metadata": {
    "scrolled": false
   },
   "outputs": [
    {
     "name": "stdout",
     "output_type": "stream",
     "text": [
      "labels_directed SparseTensor(indices=Tensor(\"labels_directed/indices:0\", shape=(?, 2), dtype=int64, device=/device:GPU:0), values=Tensor(\"labels_directed/values:0\", shape=(?,), dtype=float32, device=/device:GPU:0), dense_shape=Tensor(\"labels_directed/shape:0\", shape=(2,), dtype=int64, device=/device:GPU:0))\n",
      "labels_undirected SparseTensor(indices=Tensor(\"labels_undirected/indices:0\", shape=(?, 2), dtype=int64, device=/device:GPU:0), values=Tensor(\"labels_undirected/values:0\", shape=(?,), dtype=float32, device=/device:GPU:0), dense_shape=Tensor(\"labels_undirected/shape:0\", shape=(2,), dtype=int64, device=/device:GPU:0))\n",
      "Embedding Tensor(\"embedding_1/embedding_lookup/Identity:0\", shape=(?, ?, 4), dtype=float32, device=/device:GPU:0)\n",
      "conv2D Tensor(\"lstm_lambda_2/Squeeze:0\", shape=(?, ?, 192), dtype=float32, device=/device:GPU:0)\n",
      "max pooling_1 Tensor(\"max_pooling1d_1/Squeeze:0\", shape=(?, ?, 192), dtype=float32, device=/device:GPU:0)\n",
      "conv1d_2 Tensor(\"lstm_conv_2/Relu:0\", shape=(?, ?, 192), dtype=float32, device=/device:GPU:0)\n",
      "max pooling_2 Tensor(\"max_pooling1d_2/Squeeze:0\", shape=(?, ?, 192), dtype=float32, device=/device:GPU:0)\n",
      "brnn Tensor(\"bidirectional_1/concat_2:0\", shape=(?, 640), dtype=float32, device=/device:GPU:0)\n",
      "embedding Tensor(\"embedding_output/BiasAdd:0\", shape=(?, 128), dtype=float32, device=/device:GPU:0)\n",
      "embeddings Tensor(\"lstm_network/embedding_output/BiasAdd:0\", shape=(256, 128), dtype=float32, device=/device:GPU:0)\n",
      "directed_loss Tensor(\"online_triplet_loss_1/Mean_2:0\", shape=(), dtype=float32, device=/device:GPU:0)\n",
      "undirected_loss Tensor(\"online_triplet_loss_1/mul_10:0\", shape=(), dtype=float32, device=/device:GPU:0)\n",
      "output Tensor(\"online_triplet_loss_1/Add_8:0\", shape=(), dtype=float32, device=/device:GPU:0)\n",
      "Network total weights: 2793492\n"
     ]
    }
   ],
   "source": [
    "from moge.embedding.siamese_triplet_online_embedding import SiameseOnlineTripletGraphEmbedding, OnlineTripletLoss\n",
    "\n",
    "siamese = SiameseOnlineTripletGraphEmbedding(verbose=True)\n",
    "siamese.build_keras_model(multi_gpu=False)"
   ]
  },
  {
   "cell_type": "code",
   "execution_count": 19,
   "metadata": {},
   "outputs": [
    {
     "name": "stderr",
     "output_type": "stream",
     "text": [
      "/home/jonny/PycharmProjects/MultiOmicsGraphEmbedding/moge/network/triplet_generator.py:121: SparseEfficiencyWarning: Changing the sparsity structure of a csr_matrix is expensive. lil_matrix is more efficient.\n",
      "  adj[neg_rows[sample_indices], neg_cols[sample_indices]] = EPSILON\n"
     ]
    }
   ],
   "source": [
    "X, y = generator_train.__getitem__(1)"
   ]
  },
  {
   "cell_type": "code",
   "execution_count": 20,
   "metadata": {
    "collapsed": true
   },
   "outputs": [
    {
     "data": {
      "text/plain": [
       "(matrix([[  2, 101],\n",
       "         [  2, 110],\n",
       "         [  3,  19],\n",
       "         [  3,  77],\n",
       "         [  3, 166],\n",
       "         [  6,  24],\n",
       "         [  7, 199],\n",
       "         [  8, 160],\n",
       "         [  9,  45],\n",
       "         [  9, 198],\n",
       "         [ 11, 254],\n",
       "         [ 13,  13],\n",
       "         [ 14, 222],\n",
       "         [ 14, 235],\n",
       "         [ 15,  50],\n",
       "         [ 15, 160],\n",
       "         [ 15, 238],\n",
       "         [ 18,   3],\n",
       "         [ 20, 114],\n",
       "         [ 21,  58],\n",
       "         [ 21, 169],\n",
       "         [ 32,   0],\n",
       "         [ 34,  75],\n",
       "         [ 35, 130],\n",
       "         [ 38, 235],\n",
       "         [ 39, 222],\n",
       "         [ 41,  46],\n",
       "         [ 41,  91],\n",
       "         [ 41, 136],\n",
       "         [ 41, 183],\n",
       "         [ 43, 213],\n",
       "         [ 43, 226],\n",
       "         [ 45,  74],\n",
       "         [ 48, 226],\n",
       "         [ 52, 195],\n",
       "         [ 57,  30],\n",
       "         [ 57, 210],\n",
       "         [ 59, 124],\n",
       "         [ 60, 191],\n",
       "         [ 63,  37],\n",
       "         [ 63,  61],\n",
       "         [ 63,  83],\n",
       "         [ 63, 176],\n",
       "         [ 65, 213],\n",
       "         [ 68,  80],\n",
       "         [ 71, 137],\n",
       "         [ 71, 184],\n",
       "         [ 72,  68],\n",
       "         [ 75, 178],\n",
       "         [ 76,  40],\n",
       "         [ 76,  61],\n",
       "         [ 76,  86],\n",
       "         [ 76, 207],\n",
       "         [ 77, 235],\n",
       "         [ 78, 227],\n",
       "         [ 80,  77],\n",
       "         [ 81, 118],\n",
       "         [ 82, 222],\n",
       "         [ 83, 207],\n",
       "         [ 85, 200],\n",
       "         [ 85, 240],\n",
       "         [ 88, 238],\n",
       "         [ 91, 199],\n",
       "         [ 92,  33],\n",
       "         [ 92,  79],\n",
       "         [ 93,  78],\n",
       "         [ 93, 144],\n",
       "         [ 93, 183],\n",
       "         [ 93, 223],\n",
       "         [ 94,  52],\n",
       "         [ 95, 252],\n",
       "         [ 96, 208],\n",
       "         [ 97,  74],\n",
       "         [ 97, 234],\n",
       "         [ 98, 198],\n",
       "         [101, 178],\n",
       "         [101, 185],\n",
       "         [102, 164],\n",
       "         [103, 102],\n",
       "         [105, 108],\n",
       "         [107, 150],\n",
       "         [109,  31],\n",
       "         [109, 245],\n",
       "         [110, 239],\n",
       "         [110, 245],\n",
       "         [112,   3],\n",
       "         [117, 135],\n",
       "         [117, 153],\n",
       "         [117, 182],\n",
       "         [121,   1],\n",
       "         [121,   6],\n",
       "         [121, 216],\n",
       "         [121, 224],\n",
       "         [123,  68],\n",
       "         [123, 162],\n",
       "         [123, 241],\n",
       "         [125,  40],\n",
       "         [125, 172],\n",
       "         [128, 124],\n",
       "         [128, 138],\n",
       "         [130,  35],\n",
       "         [132, 134],\n",
       "         [133, 130],\n",
       "         [133, 216],\n",
       "         [135, 153],\n",
       "         [138,  90],\n",
       "         [139,  71],\n",
       "         [141,   1],\n",
       "         [143,  98],\n",
       "         [144, 220],\n",
       "         [148, 246],\n",
       "         [150, 219],\n",
       "         [151, 209],\n",
       "         [154,   2],\n",
       "         [154,  12],\n",
       "         [154, 255],\n",
       "         [159,  39],\n",
       "         [159, 248],\n",
       "         [162, 152],\n",
       "         [166,  29],\n",
       "         [166, 240],\n",
       "         [166, 253],\n",
       "         [167, 174],\n",
       "         [168,  15],\n",
       "         [168, 253],\n",
       "         [171,  18],\n",
       "         [171, 144],\n",
       "         [172,  83],\n",
       "         [172, 237],\n",
       "         [175,  85],\n",
       "         [176, 135],\n",
       "         [177, 221],\n",
       "         [178, 203],\n",
       "         [178, 205],\n",
       "         [179, 255],\n",
       "         [180,   3],\n",
       "         [180,   8],\n",
       "         [182,  88],\n",
       "         [183,  93],\n",
       "         [185,  35],\n",
       "         [188,  54],\n",
       "         [189, 211],\n",
       "         [197,  15],\n",
       "         [198, 108],\n",
       "         [198, 115],\n",
       "         [199,  12],\n",
       "         [199, 117],\n",
       "         [202,  34],\n",
       "         [203, 110],\n",
       "         [204,  48],\n",
       "         [204, 141],\n",
       "         [205, 149],\n",
       "         [205, 234],\n",
       "         [211,  91],\n",
       "         [212, 242],\n",
       "         [217, 115],\n",
       "         [218, 208],\n",
       "         [223, 222],\n",
       "         [224,  53],\n",
       "         [227, 172],\n",
       "         [230,  98],\n",
       "         [233,  59],\n",
       "         [233,  92],\n",
       "         [233, 187],\n",
       "         [233, 251],\n",
       "         [235,  42],\n",
       "         [237, 104],\n",
       "         [238,  88],\n",
       "         [238, 178],\n",
       "         [238, 181],\n",
       "         [238, 230],\n",
       "         [239,  56],\n",
       "         [239, 118],\n",
       "         [242, 139],\n",
       "         [243,  33],\n",
       "         [244, 127],\n",
       "         [244, 132],\n",
       "         [244, 146],\n",
       "         [245, 114],\n",
       "         [247, 232],\n",
       "         [248, 221],\n",
       "         [249,  86],\n",
       "         [251,  74],\n",
       "         [253, 178]], dtype=int32),\n",
       " array([0., 0., 0., 0., 0., 0., 0., 0., 0., 0., 0., 0., 1., 1., 1., 0., 1.,\n",
       "        1., 0., 0., 0., 0., 0., 1., 0., 0., 0., 0., 0., 0., 0., 1., 1., 0.,\n",
       "        0., 0., 0., 0., 0., 0., 0., 0., 0., 0., 0., 0., 0., 0., 0., 1., 0.,\n",
       "        1., 1., 0., 0., 1., 0., 1., 1., 0., 0., 1., 0., 1., 0., 0., 0., 1.,\n",
       "        0., 0., 0., 0., 0., 1., 0., 1., 0., 0., 0., 0., 0., 0., 0., 0., 0.,\n",
       "        1., 0., 0., 0., 1., 1., 0., 1., 0., 0., 0., 0., 0., 1., 1., 1., 0.,\n",
       "        1., 0., 0., 0., 0., 0., 0., 0., 0., 0., 0., 0., 0., 0., 0., 1., 0.,\n",
       "        0., 0., 1., 0., 0., 0., 1., 1., 0., 0., 0., 0., 0., 0., 0., 0., 0.,\n",
       "        0., 0., 1., 0., 0., 0., 1., 0., 1., 0., 0., 0., 0., 1., 1., 0., 0.,\n",
       "        0., 0., 0., 0., 0., 0., 0., 0., 1., 1., 1., 0., 0., 0., 1., 1., 0.,\n",
       "        1., 0., 0., 0., 1., 0., 1., 1., 0., 0., 0., 0., 0., 1.]),\n",
       " (256, 256))"
      ]
     },
     "execution_count": 20,
     "metadata": {},
     "output_type": "execute_result"
    }
   ],
   "source": [
    "X[\"labels_directed\"]"
   ]
  },
  {
   "cell_type": "code",
   "execution_count": 76,
   "metadata": {},
   "outputs": [],
   "source": [
    "a = tf.SparseTensor(*X[\"labels_directed\"])"
   ]
  },
  {
   "cell_type": "code",
   "execution_count": 77,
   "metadata": {},
   "outputs": [
    {
     "data": {
      "text/plain": [
       "<tf.Tensor: id=131, shape=(50, 50), dtype=float64, numpy=\n",
       "array([[0., 0., 0., ..., 0., 0., 0.],\n",
       "       [0., 0., 0., ..., 0., 0., 0.],\n",
       "       [0., 0., 0., ..., 0., 0., 0.],\n",
       "       ...,\n",
       "       [0., 0., 0., ..., 0., 0., 0.],\n",
       "       [0., 0., 0., ..., 0., 0., 0.],\n",
       "       [0., 0., 0., ..., 0., 0., 0.]])>"
      ]
     },
     "execution_count": 77,
     "metadata": {},
     "output_type": "execute_result"
    }
   ],
   "source": [
    "tf.sparse_tensor_to_dense( a, default_value = False )"
   ]
  },
  {
   "cell_type": "code",
   "execution_count": 81,
   "metadata": {},
   "outputs": [
    {
     "data": {
      "text/plain": [
       "<tensorflow.python.framework.sparse_tensor.SparseTensor at 0x7efcb9ceb8d0>"
      ]
     },
     "execution_count": 81,
     "metadata": {},
     "output_type": "execute_result"
    }
   ],
   "source": [
    "e = sparse_greater_than(a, c=0.5)\n",
    "e"
   ]
  },
  {
   "cell_type": "code",
   "execution_count": 82,
   "metadata": {},
   "outputs": [
    {
     "data": {
      "text/plain": [
       "<tf.Tensor: id=141, shape=(7, 2), dtype=int64, numpy=\n",
       "array([[ 8, 16],\n",
       "       [14, 39],\n",
       "       [18, 47],\n",
       "       [33,  8],\n",
       "       [33, 16],\n",
       "       [33, 41],\n",
       "       [33, 48]])>"
      ]
     },
     "execution_count": 82,
     "metadata": {},
     "output_type": "execute_result"
    }
   ],
   "source": [
    "e.indices"
   ]
  },
  {
   "cell_type": "code",
   "execution_count": 83,
   "metadata": {},
   "outputs": [
    {
     "data": {
      "text/plain": [
       "<tf.Tensor: id=149, shape=(50, 50), dtype=bool, numpy=\n",
       "array([[False, False, False, ..., False, False, False],\n",
       "       [False, False, False, ..., False, False, False],\n",
       "       [False, False, False, ..., False, False, False],\n",
       "       ...,\n",
       "       [False, False, False, ..., False, False, False],\n",
       "       [False, False, False, ..., False, False, False],\n",
       "       [False, False, False, ..., False, False, False]])>"
      ]
     },
     "execution_count": 83,
     "metadata": {},
     "output_type": "execute_result"
    }
   ],
   "source": [
    "tf.sparse_tensor_to_dense( e, default_value = False )"
   ]
  },
  {
   "cell_type": "code",
   "execution_count": 80,
   "metadata": {},
   "outputs": [],
   "source": [
    "def sparse_greater_than(s, c=0.5):\n",
    "    a = tf.sparse_retain(s, tf.greater(s.values, c))\n",
    "    return tf.SparseTensor(a.indices, \n",
    "                           tf.ones_like(a.values, dtype=tf.bool), \n",
    "                           s.dense_shape)\n",
    "\n",
    "def sparse_not_equal(a, b):\n",
    "    neg_b = tf.SparseTensor( b.indices, -b.values, dense_shape = b.dense_shape )\n",
    "    difference = tf.sparse_add( a, neg_b )\n",
    "    return sparse_not_equal_to_constant( difference, 0.0 )\n",
    "\n",
    "# # test data\n",
    "# a = tf.SparseTensor( [ [ 0, 0 ], [ 1, 4 ], [ 2, 3 ] ], [ 5.0, 6, 7 ], \n",
    "#                     dense_shape = ( 5, 5 ) )\n",
    "# b = tf.SparseTensor( [ [ 0, 0 ], [ 0, 2 ], [ 2, 3 ] ], [ 5.0, 6, 2 ], \n",
    "#                     dense_shape = ( 5, 5 ) )\n",
    "# e = sparse_not_equal( a, b )\n",
    "# f = tf.sparse_tensor_to_dense( e, default_value = False )\n",
    "# f"
   ]
  },
  {
   "cell_type": "code",
   "execution_count": null,
   "metadata": {},
   "outputs": [],
   "source": []
  },
  {
   "cell_type": "code",
   "execution_count": null,
   "metadata": {},
   "outputs": [],
   "source": []
  },
  {
   "cell_type": "code",
   "execution_count": null,
   "metadata": {},
   "outputs": [],
   "source": [
    "tf.random.learned_unigram_candidate_sampler()"
   ]
  },
  {
   "cell_type": "code",
   "execution_count": null,
   "metadata": {},
   "outputs": [],
   "source": [
    "tf.nn.learned_unigram_candidate_sampler(true_classes=,\n",
    "    num_true=,\n",
    "    num_sampled=1,\n",
    "    unique=False,\n",
    "    range_max=)"
   ]
  }
 ],
 "metadata": {
  "kernelspec": {
   "display_name": "Python 3",
   "language": "python",
   "name": "python3"
  },
  "language_info": {
   "codemirror_mode": {
    "name": "ipython",
    "version": 3
   },
   "file_extension": ".py",
   "mimetype": "text/x-python",
   "name": "python",
   "nbconvert_exporter": "python",
   "pygments_lexer": "ipython3",
   "version": "3.6.8"
  }
 },
 "nbformat": 4,
 "nbformat_minor": 2
}
