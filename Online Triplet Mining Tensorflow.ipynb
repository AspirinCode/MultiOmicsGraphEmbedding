{
 "cells": [
  {
   "cell_type": "code",
   "execution_count": 1,
   "metadata": {},
   "outputs": [
    {
     "name": "stderr",
     "output_type": "stream",
     "text": [
      "Using TensorFlow backend.\n"
     ]
    }
   ],
   "source": [
    "# Necessary imports\n",
    "%load_ext autoreload\n",
    "%autoreload 2\n",
    "\n",
    "import networkx as nx\n",
    "import numpy as np\n",
    "import pandas as pd\n",
    "import tensorflow as tf\n",
    "import keras.backend as K\n",
    "\n",
    "from TCGAMultiOmics.multiomics import MultiOmicsData\n",
    "from moge.network.heterogeneous_network import HeterogeneousNetwork\n",
    "\n",
    "from moge.visualization.plot_data import matrix_heatmap"
   ]
  },
  {
   "cell_type": "code",
   "execution_count": 6,
   "metadata": {},
   "outputs": [],
   "source": [
    "import pickle\n",
    "\n",
    "# READ\n",
    "with open('moge/data/LMN_future_recall/TRAIN/Interactions_Affinity/LMN_mirtarbase_biogrid_starbase_lncrna2target_lncrinter.train.pickle', 'rb') as file:\n",
    "    network = pickle.load(file)\n",
    "    \n",
    "with open('moge/data/LMN_future_recall/TEST/Interactions_Affinity/LMN_mirtarbase_biogrid_starbase_lncrna2target_lncrinter.test.pickle', 'rb') as file:\n",
    "    network_val = pickle.load(file)"
   ]
  },
  {
   "cell_type": "code",
   "execution_count": 3,
   "metadata": {},
   "outputs": [],
   "source": [
    "from moge.embedding.siamese_triplet_online_embedding import SiameseOnlineTripletGraphEmbedding, OnlineTripletLoss\n",
    "\n",
    "siamese = SiameseOnlineTripletGraphEmbedding(batch_size=256, verbose=True)"
   ]
  },
  {
   "cell_type": "code",
   "execution_count": 7,
   "metadata": {
    "scrolled": false
   },
   "outputs": [
    {
     "name": "stdout",
     "output_type": "stream",
     "text": [
      "Epoch 1/10\n",
      "500/500 [==============================] - 869s 2s/step - loss: 0.0163\n",
      "Epoch 2/10\n",
      "132/500 [======>.......................] - ETA: 10:55 - loss: 0.0200Stop training\n"
     ]
    },
    {
     "name": "stderr",
     "output_type": "stream",
     "text": [
      "Process ForkPoolWorker-33:\n",
      "Traceback (most recent call last):\n",
      "  File \"/opt/anaconda3/lib/python3.6/multiprocessing/process.py\", line 258, in _bootstrap\n",
      "    self.run()\n",
      "  File \"/opt/anaconda3/lib/python3.6/multiprocessing/process.py\", line 93, in run\n",
      "    self._target(*self._args, **self._kwargs)\n",
      "  File \"/opt/anaconda3/lib/python3.6/multiprocessing/pool.py\", line 119, in worker\n",
      "    result = (True, func(*args, **kwds))\n",
      "  File \"/opt/anaconda3/lib/python3.6/site-packages/keras/utils/data_utils.py\", line 401, in get_index\n",
      "    return _SHARED_SEQUENCES[uid][i]\n",
      "  File \"/home/jonny/PycharmProjects/MultiOmicsGraphEmbedding/moge/network/triplet_generator.py\", line 106, in __getitem__\n",
      "    X, y = self.__data_generation(sampled_nodes)\n",
      "  File \"/home/jonny/PycharmProjects/MultiOmicsGraphEmbedding/moge/network/triplet_generator.py\", line 113, in __data_generation\n",
      "    sampled_directed_adj = self.sample_directed_negative_edges(self.network.get_adjacency_matrix(edge_types=[\"d\"], node_list=sampled_nodes))\n",
      "  File \"/home/jonny/PycharmProjects/MultiOmicsGraphEmbedding/moge/network/heterogeneous_network.py\", line 150, in get_adjacency_matrix\n",
      "    edge_list = [(u, v, d) for u, v, d in self.G.edges(data=True) if d['type'] in edge_types]\n",
      "Process ForkPoolWorker-36:\n",
      "  File \"/home/jonny/PycharmProjects/MultiOmicsGraphEmbedding/moge/network/heterogeneous_network.py\", line 150, in <listcomp>\n",
      "    edge_list = [(u, v, d) for u, v, d in self.G.edges(data=True) if d['type'] in edge_types]\n",
      "Traceback (most recent call last):\n",
      "  File \"/opt/anaconda3/lib/python3.6/site-packages/networkx/classes/reportviews.py\", line 667, in <genexpr>\n",
      "    for nbr, dd in nbrs.items())\n",
      "  File \"/opt/anaconda3/lib/python3.6/multiprocessing/process.py\", line 258, in _bootstrap\n",
      "    self.run()\n",
      "KeyboardInterrupt\n",
      "  File \"/opt/anaconda3/lib/python3.6/multiprocessing/process.py\", line 93, in run\n",
      "    self._target(*self._args, **self._kwargs)\n",
      "  File \"/opt/anaconda3/lib/python3.6/multiprocessing/pool.py\", line 119, in worker\n",
      "    result = (True, func(*args, **kwds))\n",
      "  File \"/opt/anaconda3/lib/python3.6/site-packages/keras/utils/data_utils.py\", line 401, in get_index\n",
      "    return _SHARED_SEQUENCES[uid][i]\n",
      "  File \"/home/jonny/PycharmProjects/MultiOmicsGraphEmbedding/moge/network/triplet_generator.py\", line 106, in __getitem__\n",
      "    X, y = self.__data_generation(sampled_nodes)\n",
      "  File \"/home/jonny/PycharmProjects/MultiOmicsGraphEmbedding/moge/network/triplet_generator.py\", line 115, in __data_generation\n",
      "    X[\"labels_undirected\"] = self.network.get_adjacency_matrix(edge_types=[\"u\", \"u_n\"], node_list=sampled_nodes)\n",
      "KeyboardInterrupt\n",
      "Process ForkPoolWorker-37:\n",
      "Traceback (most recent call last):\n",
      "  File \"/opt/anaconda3/lib/python3.6/multiprocessing/process.py\", line 258, in _bootstrap\n",
      "    self.run()\n",
      "  File \"/opt/anaconda3/lib/python3.6/multiprocessing/process.py\", line 93, in run\n",
      "    self._target(*self._args, **self._kwargs)\n",
      "  File \"/opt/anaconda3/lib/python3.6/multiprocessing/pool.py\", line 119, in worker\n",
      "    result = (True, func(*args, **kwds))\n",
      "  File \"/opt/anaconda3/lib/python3.6/site-packages/keras/utils/data_utils.py\", line 401, in get_index\n",
      "    return _SHARED_SEQUENCES[uid][i]\n",
      "  File \"/home/jonny/PycharmProjects/MultiOmicsGraphEmbedding/moge/network/triplet_generator.py\", line 106, in __getitem__\n",
      "    X, y = self.__data_generation(sampled_nodes)\n",
      "  File \"/home/jonny/PycharmProjects/MultiOmicsGraphEmbedding/moge/network/triplet_generator.py\", line 113, in __data_generation\n",
      "    sampled_directed_adj = self.sample_directed_negative_edges(self.network.get_adjacency_matrix(edge_types=[\"d\"], node_list=sampled_nodes))\n",
      "  File \"/home/jonny/PycharmProjects/MultiOmicsGraphEmbedding/moge/network/heterogeneous_network.py\", line 150, in get_adjacency_matrix\n",
      "    edge_list = [(u, v, d) for u, v, d in self.G.edges(data=True) if d['type'] in edge_types]\n",
      "  File \"/home/jonny/PycharmProjects/MultiOmicsGraphEmbedding/moge/network/heterogeneous_network.py\", line 150, in <listcomp>\n",
      "    edge_list = [(u, v, d) for u, v, d in self.G.edges(data=True) if d['type'] in edge_types]\n",
      "KeyboardInterrupt\n",
      "Process ForkPoolWorker-39:\n",
      "Traceback (most recent call last):\n",
      "  File \"/opt/anaconda3/lib/python3.6/multiprocessing/process.py\", line 258, in _bootstrap\n",
      "    self.run()\n",
      "  File \"/opt/anaconda3/lib/python3.6/multiprocessing/process.py\", line 93, in run\n",
      "    self._target(*self._args, **self._kwargs)\n",
      "  File \"/opt/anaconda3/lib/python3.6/multiprocessing/pool.py\", line 119, in worker\n",
      "    result = (True, func(*args, **kwds))\n",
      "  File \"/opt/anaconda3/lib/python3.6/site-packages/keras/utils/data_utils.py\", line 401, in get_index\n",
      "    return _SHARED_SEQUENCES[uid][i]\n",
      "  File \"/home/jonny/PycharmProjects/MultiOmicsGraphEmbedding/moge/network/triplet_generator.py\", line 106, in __getitem__\n",
      "    X, y = self.__data_generation(sampled_nodes)\n",
      "  File \"/home/jonny/PycharmProjects/MultiOmicsGraphEmbedding/moge/network/triplet_generator.py\", line 113, in __data_generation\n",
      "    sampled_directed_adj = self.sample_directed_negative_edges(self.network.get_adjacency_matrix(edge_types=[\"d\"], node_list=sampled_nodes))\n",
      "  File \"/home/jonny/PycharmProjects/MultiOmicsGraphEmbedding/moge/network/heterogeneous_network.py\", line 150, in get_adjacency_matrix\n",
      "    edge_list = [(u, v, d) for u, v, d in self.G.edges(data=True) if d['type'] in edge_types]\n",
      "  File \"/home/jonny/PycharmProjects/MultiOmicsGraphEmbedding/moge/network/heterogeneous_network.py\", line 150, in <listcomp>\n",
      "    edge_list = [(u, v, d) for u, v, d in self.G.edges(data=True) if d['type'] in edge_types]\n",
      "  File \"/opt/anaconda3/lib/python3.6/site-packages/networkx/classes/reportviews.py\", line 667, in <genexpr>\n",
      "    for nbr, dd in nbrs.items())\n",
      "  File \"/opt/anaconda3/lib/python3.6/site-packages/networkx/classes/reportviews.py\", line 655, in <lambda>\n",
      "    self._report = lambda n, nbr, dd: (n, nbr, dd)\n",
      "KeyboardInterrupt\n",
      "Process ForkPoolWorker-35:\n",
      "Process ForkPoolWorker-38:\n",
      "Traceback (most recent call last):\n",
      "Traceback (most recent call last):\n",
      "  File \"/opt/anaconda3/lib/python3.6/multiprocessing/process.py\", line 258, in _bootstrap\n",
      "    self.run()\n",
      "  File \"/opt/anaconda3/lib/python3.6/multiprocessing/process.py\", line 93, in run\n",
      "    self._target(*self._args, **self._kwargs)\n",
      "  File \"/opt/anaconda3/lib/python3.6/multiprocessing/process.py\", line 258, in _bootstrap\n",
      "    self.run()\n",
      "  File \"/opt/anaconda3/lib/python3.6/multiprocessing/pool.py\", line 119, in worker\n",
      "    result = (True, func(*args, **kwds))\n",
      "  File \"/opt/anaconda3/lib/python3.6/multiprocessing/process.py\", line 93, in run\n",
      "    self._target(*self._args, **self._kwargs)\n",
      "  File \"/opt/anaconda3/lib/python3.6/site-packages/keras/utils/data_utils.py\", line 401, in get_index\n",
      "    return _SHARED_SEQUENCES[uid][i]\n",
      "  File \"/home/jonny/PycharmProjects/MultiOmicsGraphEmbedding/moge/network/triplet_generator.py\", line 106, in __getitem__\n",
      "    X, y = self.__data_generation(sampled_nodes)\n",
      "  File \"/opt/anaconda3/lib/python3.6/multiprocessing/pool.py\", line 119, in worker\n",
      "    result = (True, func(*args, **kwds))\n",
      "  File \"/home/jonny/PycharmProjects/MultiOmicsGraphEmbedding/moge/network/triplet_generator.py\", line 115, in __data_generation\n",
      "    X[\"labels_undirected\"] = self.network.get_adjacency_matrix(edge_types=[\"u\", \"u_n\"], node_list=sampled_nodes)\n",
      "  File \"/home/jonny/PycharmProjects/MultiOmicsGraphEmbedding/moge/network/heterogeneous_network.py\", line 161, in get_adjacency_matrix\n",
      "    adj = nx.adjacency_matrix(nx.DiGraph(incoming_graph_data=edge_list), nodelist=node_list)\n",
      "  File \"/opt/anaconda3/lib/python3.6/site-packages/keras/utils/data_utils.py\", line 401, in get_index\n",
      "    return _SHARED_SEQUENCES[uid][i]\n",
      "KeyboardInterrupt\n",
      "  File \"/home/jonny/PycharmProjects/MultiOmicsGraphEmbedding/moge/network/triplet_generator.py\", line 106, in __getitem__\n",
      "    X, y = self.__data_generation(sampled_nodes)\n",
      "  File \"/home/jonny/PycharmProjects/MultiOmicsGraphEmbedding/moge/network/triplet_generator.py\", line 113, in __data_generation\n",
      "    sampled_directed_adj = self.sample_directed_negative_edges(self.network.get_adjacency_matrix(edge_types=[\"d\"], node_list=sampled_nodes))\n",
      "  File \"/home/jonny/PycharmProjects/MultiOmicsGraphEmbedding/moge/network/heterogeneous_network.py\", line 150, in get_adjacency_matrix\n",
      "    edge_list = [(u, v, d) for u, v, d in self.G.edges(data=True) if d['type'] in edge_types]\n"
     ]
    },
    {
     "name": "stderr",
     "output_type": "stream",
     "text": [
      "  File \"/home/jonny/PycharmProjects/MultiOmicsGraphEmbedding/moge/network/heterogeneous_network.py\", line 150, in <listcomp>\n",
      "    edge_list = [(u, v, d) for u, v, d in self.G.edges(data=True) if d['type'] in edge_types]\n",
      "  File \"/opt/anaconda3/lib/python3.6/site-packages/networkx/classes/reportviews.py\", line 667, in <genexpr>\n",
      "    for nbr, dd in nbrs.items())\n",
      "  File \"/opt/anaconda3/lib/python3.6/site-packages/networkx/classes/reportviews.py\", line 655, in <lambda>\n",
      "    self._report = lambda n, nbr, dd: (n, nbr, dd)\n",
      "KeyboardInterrupt\n"
     ]
    }
   ],
   "source": [
    "siamese.learn_embedding(network=network, network_val=network_val, multi_gpu=False)"
   ]
  },
  {
   "cell_type": "code",
   "execution_count": 9,
   "metadata": {},
   "outputs": [],
   "source": [
    "X, y = siamese.generator_train.__getitem__(1)\n",
    "X[\"labels_directed\"]"
   ]
  },
  {
   "cell_type": "code",
   "execution_count": 10,
   "metadata": {},
   "outputs": [
    {
     "data": {
      "text/plain": [
       "(matrix([[  0, 285],\n",
       "         [  0, 288],\n",
       "         [  0, 399],\n",
       "         ...,\n",
       "         [999, 310],\n",
       "         [999, 509],\n",
       "         [999, 792]], dtype=int32),\n",
       " array([1.e-16, 1.e-16, 1.e-16, ..., 1.e-16, 1.e-16, 1.e-16]),\n",
       " (1000, 1000))"
      ]
     },
     "execution_count": 10,
     "metadata": {},
     "output_type": "execute_result"
    }
   ],
   "source": []
  },
  {
   "cell_type": "code",
   "execution_count": 76,
   "metadata": {},
   "outputs": [],
   "source": [
    "a = tf.SparseTensor(*X[\"labels_directed\"])"
   ]
  },
  {
   "cell_type": "code",
   "execution_count": 77,
   "metadata": {},
   "outputs": [
    {
     "data": {
      "text/plain": [
       "<tf.Tensor: id=131, shape=(50, 50), dtype=float64, numpy=\n",
       "array([[0., 0., 0., ..., 0., 0., 0.],\n",
       "       [0., 0., 0., ..., 0., 0., 0.],\n",
       "       [0., 0., 0., ..., 0., 0., 0.],\n",
       "       ...,\n",
       "       [0., 0., 0., ..., 0., 0., 0.],\n",
       "       [0., 0., 0., ..., 0., 0., 0.],\n",
       "       [0., 0., 0., ..., 0., 0., 0.]])>"
      ]
     },
     "execution_count": 77,
     "metadata": {},
     "output_type": "execute_result"
    }
   ],
   "source": [
    "tf.sparse_tensor_to_dense( a, default_value = False )"
   ]
  },
  {
   "cell_type": "code",
   "execution_count": 81,
   "metadata": {},
   "outputs": [
    {
     "data": {
      "text/plain": [
       "<tensorflow.python.framework.sparse_tensor.SparseTensor at 0x7efcb9ceb8d0>"
      ]
     },
     "execution_count": 81,
     "metadata": {},
     "output_type": "execute_result"
    }
   ],
   "source": [
    "e = sparse_greater_than(a, c=0.5)\n",
    "e"
   ]
  },
  {
   "cell_type": "code",
   "execution_count": 82,
   "metadata": {},
   "outputs": [
    {
     "data": {
      "text/plain": [
       "<tf.Tensor: id=141, shape=(7, 2), dtype=int64, numpy=\n",
       "array([[ 8, 16],\n",
       "       [14, 39],\n",
       "       [18, 47],\n",
       "       [33,  8],\n",
       "       [33, 16],\n",
       "       [33, 41],\n",
       "       [33, 48]])>"
      ]
     },
     "execution_count": 82,
     "metadata": {},
     "output_type": "execute_result"
    }
   ],
   "source": [
    "e.indices"
   ]
  },
  {
   "cell_type": "code",
   "execution_count": 83,
   "metadata": {},
   "outputs": [
    {
     "data": {
      "text/plain": [
       "<tf.Tensor: id=149, shape=(50, 50), dtype=bool, numpy=\n",
       "array([[False, False, False, ..., False, False, False],\n",
       "       [False, False, False, ..., False, False, False],\n",
       "       [False, False, False, ..., False, False, False],\n",
       "       ...,\n",
       "       [False, False, False, ..., False, False, False],\n",
       "       [False, False, False, ..., False, False, False],\n",
       "       [False, False, False, ..., False, False, False]])>"
      ]
     },
     "execution_count": 83,
     "metadata": {},
     "output_type": "execute_result"
    }
   ],
   "source": [
    "tf.sparse_tensor_to_dense( e, default_value = False )"
   ]
  },
  {
   "cell_type": "code",
   "execution_count": 80,
   "metadata": {},
   "outputs": [],
   "source": [
    "def sparse_greater_than(s, c=0.5):\n",
    "    a = tf.sparse_retain(s, tf.greater(s.values, c))\n",
    "    return tf.SparseTensor(a.indices, \n",
    "                           tf.ones_like(a.values, dtype=tf.bool), \n",
    "                           s.dense_shape)\n",
    "\n",
    "def sparse_not_equal(a, b):\n",
    "    neg_b = tf.SparseTensor( b.indices, -b.values, dense_shape = b.dense_shape )\n",
    "    difference = tf.sparse_add( a, neg_b )\n",
    "    return sparse_not_equal_to_constant( difference, 0.0 )\n",
    "\n",
    "# # test data\n",
    "# a = tf.SparseTensor( [ [ 0, 0 ], [ 1, 4 ], [ 2, 3 ] ], [ 5.0, 6, 7 ], \n",
    "#                     dense_shape = ( 5, 5 ) )\n",
    "# b = tf.SparseTensor( [ [ 0, 0 ], [ 0, 2 ], [ 2, 3 ] ], [ 5.0, 6, 2 ], \n",
    "#                     dense_shape = ( 5, 5 ) )\n",
    "# e = sparse_not_equal( a, b )\n",
    "# f = tf.sparse_tensor_to_dense( e, default_value = False )\n",
    "# f"
   ]
  },
  {
   "cell_type": "code",
   "execution_count": null,
   "metadata": {},
   "outputs": [],
   "source": []
  },
  {
   "cell_type": "code",
   "execution_count": null,
   "metadata": {},
   "outputs": [],
   "source": []
  },
  {
   "cell_type": "code",
   "execution_count": null,
   "metadata": {},
   "outputs": [],
   "source": [
    "tf.random.learned_unigram_candidate_sampler()"
   ]
  },
  {
   "cell_type": "code",
   "execution_count": null,
   "metadata": {},
   "outputs": [],
   "source": [
    "tf.nn.learned_unigram_candidate_sampler(true_classes=,\n",
    "    num_true=,\n",
    "    num_sampled=1,\n",
    "    unique=False,\n",
    "    range_max=)"
   ]
  }
 ],
 "metadata": {
  "kernelspec": {
   "display_name": "Python 3",
   "language": "python",
   "name": "python3"
  },
  "language_info": {
   "codemirror_mode": {
    "name": "ipython",
    "version": 3
   },
   "file_extension": ".py",
   "mimetype": "text/x-python",
   "name": "python",
   "nbconvert_exporter": "python",
   "pygments_lexer": "ipython3",
   "version": "3.6.8"
  }
 },
 "nbformat": 4,
 "nbformat_minor": 2
}
