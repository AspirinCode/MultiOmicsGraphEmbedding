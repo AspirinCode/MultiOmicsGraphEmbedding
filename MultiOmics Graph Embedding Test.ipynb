{
 "cells": [
  {
   "cell_type": "code",
   "execution_count": 1,
   "metadata": {},
   "outputs": [],
   "source": [
    "# Necessary imports\n",
    "%load_ext autoreload\n",
    "%autoreload 2\\\n",
    "\n",
    "import networkx as nx\n",
    "import numpy as np\n",
    "import pandas as pd\n",
    "\n",
    "from TCGAMultiOmics.multiomics import MultiOmicsData\n"
   ]
  },
  {
   "cell_type": "markdown",
   "metadata": {},
   "source": [
    "# Import the TCGA cancer data"
   ]
  },
  {
   "cell_type": "code",
   "execution_count": 2,
   "metadata": {
    "scrolled": false
   },
   "outputs": [
    {
     "name": "stderr",
     "output_type": "stream",
     "text": [
      "/opt/anaconda3/lib/python3.6/site-packages/pandas/core/frame.py:3781: SettingWithCopyWarning: \n",
      "A value is trying to be set on a copy of a slice from a DataFrame\n",
      "\n",
      "See the caveats in the documentation: http://pandas.pydata.org/pandas-docs/stable/indexing.html#indexing-view-versus-copy\n",
      "  return super(DataFrame, self).rename(**kwargs)\n",
      "/opt/anaconda3/lib/python3.6/site-packages/IPython/core/interactiveshell.py:2963: DtypeWarning: Columns (1,3) have mixed types. Specify dtype option on import or set low_memory=False.\n",
      "  exec(code_obj, self.user_global_ns, self.user_ns)\n"
     ]
    },
    {
     "name": "stdout",
     "output_type": "stream",
     "text": [
      "PATIENTS (522, 5)\n",
      "DRUGS (461, 4)\n",
      "GE (576, 20472)\n",
      "MIR (494, 1870)\n",
      "LNC (546, 12727)\n",
      "SAMPLES (599, 6)\n"
     ]
    }
   ],
   "source": [
    "folder_path = \"/home/jonny_admin/PycharmProjects/Bioinformatics_ExternalData/tcga-assembler/LUAD\"\n",
    "external_data_path = \"/home/jonny_admin/PycharmProjects/Bioinformatics_ExternalData/\"\n",
    "luad_data = MultiOmicsData(cancer_type=\"LUAD\", tcga_data_path=folder_path, external_data_path=external_data_path,\n",
    "                           modalities=[\\\n",
    "                                       \"GE\",\n",
    "                                       \"MIR\",\n",
    "                                       \"LNC\",\n",
    "                                       # \"CNV\",\n",
    "                                       # \"SNP\",\n",
    "#                                        \"PRO\"\n",
    "                                       ])\n",
    "\n"
   ]
  },
  {
   "cell_type": "markdown",
   "metadata": {},
   "source": [
    "# Heterogeneous Network"
   ]
  },
  {
   "cell_type": "code",
   "execution_count": 3,
   "metadata": {},
   "outputs": [
    {
     "name": "stdout",
     "output_type": "stream",
     "text": [
      "MIR  nodes: 1870\n",
      "LNC  nodes: 12727\n",
      "GE  nodes: 20472\n",
      "Total nodes: 35069\n"
     ]
    }
   ],
   "source": [
    "from moge.network.heterogeneous_network import HeterogeneousNetwork\n",
    "from moge.utils.omics_distance import compute_expression_correlations, compute_annotation_similarity\n",
    "network = HeterogeneousNetwork(modalities=[\"MIR\", \"LNC\", \"GE\"], multi_omics_data=luad_data)\n"
   ]
  },
  {
   "cell_type": "code",
   "execution_count": null,
   "metadata": {},
   "outputs": [],
   "source": [
    "network.G.add_edges_from(nx.read_edgelist(\"moge/data/lncRNA_miRNA_mRNA/node_similarity-0.7.edgelist\", create_using=nx.Graph()).edges(data=True))"
   ]
  },
  {
   "cell_type": "code",
   "execution_count": 124,
   "metadata": {},
   "outputs": [],
   "source": [
    "nx.write_edgelist(network.G, \"moge/data/lncRNA_miRNA_mRNA/node_similarity-0.7.edgelist\", data=True)"
   ]
  },
  {
   "cell_type": "code",
   "execution_count": null,
   "metadata": {},
   "outputs": [],
   "source": [
    "from moge.utils.file_io import write_node_labels_to_file\n",
    "# write_node_labels_to_file(\"moge/data/lncRNA_miRNA_mRNA/node_labels.tsv\", network, luad_data)\n"
   ]
  },
  {
   "cell_type": "markdown",
   "metadata": {},
   "source": [
    "# Add Node Similarity Edges"
   ]
  },
  {
   "cell_type": "code",
   "execution_count": 121,
   "metadata": {
    "scrolled": true
   },
   "outputs": [
    {
     "name": "stdout",
     "output_type": "stream",
     "text": [
      "Gower's dissimilarity: Computing gene_family_id\n"
     ]
    },
    {
     "name": "stderr",
     "output_type": "stream",
     "text": [
      "/home/jonny_admin/PycharmProjects/MultiOmicsGraphEmbedding/moge/utils/omics_distance.py:85: RuntimeWarning: Mean of empty slice\n",
      "  pdists_mean = np.nanmean(np.array(individual_variable_distances), axis=0)\n"
     ]
    },
    {
     "name": "stdout",
     "output_type": "stream",
     "text": [
      "700212 edges added.\n"
     ]
    }
   ],
   "source": [
    "network.add_edges_from_nodes_similarity(modality=\"GE\", similarity_threshold=0.7)"
   ]
  },
  {
   "cell_type": "code",
   "execution_count": 49,
   "metadata": {},
   "outputs": [
    {
     "name": "stderr",
     "output_type": "stream",
     "text": [
      "/opt/anaconda3/lib/python3.6/site-packages/TCGAMultiOmics/genomic.py:450: FutureWarning: 'MiRBase ID' is both an index level and a column label.\n",
      "Defaulting to column, but this will raise an ambiguity error in a future version\n",
      "  gene_info.index.name = \"MiRBase ID\"\n"
     ]
    },
    {
     "name": "stdout",
     "output_type": "stream",
     "text": [
      "Gower's dissimilarity: Computing miR family\n",
      "Gower's dissimilarity: Computing Mature sequence\n",
      "1012 edges added.\n"
     ]
    },
    {
     "name": "stderr",
     "output_type": "stream",
     "text": [
      "/home/jonny_admin/PycharmProjects/MultiOmicsGraphEmbedding/moge/utils/omics_distance.py:85: RuntimeWarning: Mean of empty slice\n",
      "  pdists_mean = np.nanmean(np.array(individual_variable_distances), axis=0)\n"
     ]
    }
   ],
   "source": [
    "network.add_edges_from_nodes_similarity(modality=\"MIR\", similarity_threshold=0.7)"
   ]
  },
  {
   "cell_type": "code",
   "execution_count": 123,
   "metadata": {},
   "outputs": [
    {
     "name": "stdout",
     "output_type": "stream",
     "text": [
      "Gower's dissimilarity: Computing Transcript Type\n",
      "Gower's dissimilarity: Computing GO terms\n"
     ]
    },
    {
     "name": "stderr",
     "output_type": "stream",
     "text": [
      "/home/jonny_admin/PycharmProjects/MultiOmicsGraphEmbedding/moge/utils/omics_distance.py:85: RuntimeWarning: Mean of empty slice\n",
      "  pdists_mean = np.nanmean(np.array(individual_variable_distances), axis=0)\n"
     ]
    },
    {
     "name": "stdout",
     "output_type": "stream",
     "text": [
      "26998330 edges added.\n"
     ]
    }
   ],
   "source": [
    "network.add_edges_from_nodes_similarity(modality=\"LNC\", similarity_threshold=0.7)"
   ]
  },
  {
   "cell_type": "markdown",
   "metadata": {},
   "source": [
    "# Add Regulatory Interaction edges"
   ]
  },
  {
   "cell_type": "code",
   "execution_count": 50,
   "metadata": {},
   "outputs": [
    {
     "name": "stdout",
     "output_type": "stream",
     "text": [
      "Adding edgelist with 284 total unique MIR genes (source), but only matching 247 nodes\n",
      "Adding edgelist with 13035 total unique GE genes (target), but only matching 12234 nodes\n"
     ]
    }
   ],
   "source": [
    "# Adds miRNA-target interaction network\n",
    "network.add_edges_from_edgelist(edgelist=luad_data.MIR.get_miRNA_target_interaction_edgelist(), \n",
    "                                modalities=[\"MIR\", \"GE\"])"
   ]
  },
  {
   "cell_type": "code",
   "execution_count": 51,
   "metadata": {},
   "outputs": [
    {
     "name": "stdout",
     "output_type": "stream",
     "text": [
      "Adding edgelist with 2072 total unique GE genes (source), but only matching 1426 nodes\n",
      "Adding edgelist with 23158 total unique GE genes (target), but only matching 17694 nodes\n"
     ]
    }
   ],
   "source": [
    "# Adds Gene Regulatory Network edges\n",
    "network.add_edges_from_edgelist(edgelist=luad_data.GE.get_RegNet_GRN_edgelist(),\n",
    "                               modalities=[\"GE\", \"GE\"])"
   ]
  },
  {
   "cell_type": "code",
   "execution_count": 52,
   "metadata": {},
   "outputs": [
    {
     "name": "stdout",
     "output_type": "stream",
     "text": [
      "Adding edgelist with 1127 total unique LNC genes (source), but only matching 589 nodes\n",
      "Adding edgelist with 275 total unique MIR genes (target), but only matching 238 nodes\n",
      "Adding edgelist with 66 total unique LNC genes (source), but only matching 31 nodes\n",
      "Adding edgelist with 978 total unique MIR genes (target), but only matching 893 nodes\n"
     ]
    }
   ],
   "source": [
    "# Adds miRNA-lncRNA interaction network\n",
    "network.add_edges_from_edgelist(edgelist=luad_data.LNC.get_starBase_lncRNA_miRNA_interactions_edgelist(),\n",
    "                               modalities=[\"LNC\", \"MIR\"])\n",
    "network.add_edges_from_edgelist(edgelist=luad_data.LNC.get_lncRNome_miRNA_binding_sites_edgelist(),\n",
    "                               modalities=[\"LNC\", \"MIR\"])"
   ]
  },
  {
   "cell_type": "markdown",
   "metadata": {},
   "source": [
    "# Add Correlation edges"
   ]
  },
  {
   "cell_type": "code",
   "execution_count": null,
   "metadata": {},
   "outputs": [],
   "source": [
    "mir_ge_corr = network.compute_multiomics_correlations(modalities=[\"MIR\", \"GE\"])"
   ]
  },
  {
   "cell_type": "markdown",
   "metadata": {},
   "source": [
    "## Network Info & Visualizations"
   ]
  },
  {
   "cell_type": "code",
   "execution_count": 42,
   "metadata": {},
   "outputs": [
    {
     "name": "stdout",
     "output_type": "stream",
     "text": [
      "isolated nodes:  15293 , out of total nodes: 35069\n",
      "edges:  363895\n"
     ]
    }
   ],
   "source": [
    "print(\"isolated nodes:\", len(nx.isolates(network.get_subgraph(modalities=[\"MIR\", \"GE\", \"LNC\"]))),\n",
    "      \", out of total nodes:\", network.all_nodes.__len__())\n",
    "print(\"edges: \", network.get_subgraph(modalities=[\"MIR\", \"GE\", \"LNC\"]).number_of_edges())"
   ]
  },
  {
   "cell_type": "code",
   "execution_count": 76,
   "metadata": {},
   "outputs": [
    {
     "name": "stdout",
     "output_type": "stream",
     "text": [
      "41338\n",
      "519546\n"
     ]
    }
   ],
   "source": [
    "print(len(network.G.nodes()))\n",
    "print(len(network.G.edges()))\n",
    "# print(luad_data.LNC.get_genes_list())"
   ]
  },
  {
   "cell_type": "code",
   "execution_count": 47,
   "metadata": {
    "scrolled": true
   },
   "outputs": [
    {
     "name": "stderr",
     "output_type": "stream",
     "text": [
      "/opt/anaconda3/lib/python3.6/site-packages/TCGAMultiOmics/genomic.py:262: FutureWarning: 'symbol' is both an index level and a column label.\n",
      "Defaulting to column, but this will raise an ambiguity error in a future version\n",
      "  self.gene_info = self.gene_info.join(self.HGNC_lncrna_info.groupby(\"symbol\").first(), on=\"symbol\",\n"
     ]
    },
    {
     "ename": "ValueError",
     "evalue": "columns overlap but no suffix specified: Index(['name', 'location', 'ensembl_gene_id'], dtype='object')",
     "output_type": "error",
     "traceback": [
      "\u001b[0;31m---------------------------------------------------------------------------\u001b[0m",
      "\u001b[0;31mValueError\u001b[0m                                Traceback (most recent call last)",
      "\u001b[0;32m<ipython-input-47-b5b37c466214>\u001b[0m in \u001b[0;36m<module>\u001b[0;34m()\u001b[0m\n\u001b[1;32m      2\u001b[0m \u001b[0;32mimport\u001b[0m \u001b[0mmatplotlib\u001b[0m\u001b[0;34m.\u001b[0m\u001b[0mpyplot\u001b[0m \u001b[0;32mas\u001b[0m \u001b[0mplt\u001b[0m\u001b[0;34m\u001b[0m\u001b[0m\n\u001b[1;32m      3\u001b[0m \u001b[0mplt\u001b[0m\u001b[0;34m.\u001b[0m\u001b[0mfigure\u001b[0m\u001b[0;34m(\u001b[0m\u001b[0mfigsize\u001b[0m\u001b[0;34m=\u001b[0m\u001b[0;34m(\u001b[0m\u001b[0;36m15\u001b[0m\u001b[0;34m,\u001b[0m \u001b[0;36m15\u001b[0m\u001b[0;34m)\u001b[0m\u001b[0;34m)\u001b[0m\u001b[0;34m\u001b[0m\u001b[0m\n\u001b[0;32m----> 4\u001b[0;31m \u001b[0mplt\u001b[0m\u001b[0;34m.\u001b[0m\u001b[0mimshow\u001b[0m\u001b[0;34m(\u001b[0m\u001b[0mcompute_annotation_similarity\u001b[0m\u001b[0;34m(\u001b[0m\u001b[0mluad_data\u001b[0m\u001b[0;34m.\u001b[0m\u001b[0mLNC\u001b[0m\u001b[0;34m.\u001b[0m\u001b[0mget_genes_info\u001b[0m\u001b[0;34m(\u001b[0m\u001b[0;34m)\u001b[0m\u001b[0;34m,\u001b[0m \u001b[0;34m\"LNC\"\u001b[0m\u001b[0;34m)\u001b[0m\u001b[0;34m,\u001b[0m \u001b[0minterpolation\u001b[0m\u001b[0;34m=\u001b[0m\u001b[0;34m'nearest'\u001b[0m\u001b[0;34m,\u001b[0m \u001b[0mcmap\u001b[0m\u001b[0;34m=\u001b[0m\u001b[0mplt\u001b[0m\u001b[0;34m.\u001b[0m\u001b[0mcm\u001b[0m\u001b[0;34m.\u001b[0m\u001b[0mbwr\u001b[0m\u001b[0;34m)\u001b[0m\u001b[0;34m\u001b[0m\u001b[0m\n\u001b[0m\u001b[1;32m      5\u001b[0m \u001b[0mplt\u001b[0m\u001b[0;34m.\u001b[0m\u001b[0mcolorbar\u001b[0m\u001b[0;34m(\u001b[0m\u001b[0;34m)\u001b[0m\u001b[0;34m\u001b[0m\u001b[0m\n\u001b[1;32m      6\u001b[0m \u001b[0mplt\u001b[0m\u001b[0;34m.\u001b[0m\u001b[0mshow\u001b[0m\u001b[0;34m(\u001b[0m\u001b[0;34m)\u001b[0m\u001b[0;34m\u001b[0m\u001b[0m\n",
      "\u001b[0;32m/opt/anaconda3/lib/python3.6/site-packages/TCGAMultiOmics/genomic.py\u001b[0m in \u001b[0;36mget_genes_info\u001b[0;34m(self)\u001b[0m\n\u001b[1;32m    261\u001b[0m             \u001b[0mself\u001b[0m\u001b[0;34m.\u001b[0m\u001b[0mgene_info\u001b[0m\u001b[0;34m.\u001b[0m\u001b[0mindex\u001b[0m\u001b[0;34m.\u001b[0m\u001b[0mname\u001b[0m \u001b[0;34m=\u001b[0m \u001b[0;34m\"symbol\"\u001b[0m\u001b[0;34m\u001b[0m\u001b[0m\n\u001b[1;32m    262\u001b[0m             self.gene_info = self.gene_info.join(self.HGNC_lncrna_info.groupby(\"symbol\").first(), on=\"symbol\",\n\u001b[0;32m--> 263\u001b[0;31m                                                  how=\"left\")\n\u001b[0m\u001b[1;32m    264\u001b[0m \u001b[0;34m\u001b[0m\u001b[0m\n\u001b[1;32m    265\u001b[0m             \u001b[0;31m# self.gene_info = pd.merge(self.gene_info, self.lnRNome_genes_info.groupby(\"Gene Name\").first(), how=\"left\", left_on=\"Gene Name\", right_on=\"Gene Name\")\u001b[0m\u001b[0;34m\u001b[0m\u001b[0;34m\u001b[0m\u001b[0m\n",
      "\u001b[0;32m/opt/anaconda3/lib/python3.6/site-packages/pandas/core/frame.py\u001b[0m in \u001b[0;36mjoin\u001b[0;34m(self, other, on, how, lsuffix, rsuffix, sort)\u001b[0m\n\u001b[1;32m   6334\u001b[0m         \u001b[0;31m# For SparseDataFrame's benefit\u001b[0m\u001b[0;34m\u001b[0m\u001b[0;34m\u001b[0m\u001b[0m\n\u001b[1;32m   6335\u001b[0m         return self._join_compat(other, on=on, how=how, lsuffix=lsuffix,\n\u001b[0;32m-> 6336\u001b[0;31m                                  rsuffix=rsuffix, sort=sort)\n\u001b[0m\u001b[1;32m   6337\u001b[0m \u001b[0;34m\u001b[0m\u001b[0m\n\u001b[1;32m   6338\u001b[0m     def _join_compat(self, other, on=None, how='left', lsuffix='', rsuffix='',\n",
      "\u001b[0;32m/opt/anaconda3/lib/python3.6/site-packages/pandas/core/frame.py\u001b[0m in \u001b[0;36m_join_compat\u001b[0;34m(self, other, on, how, lsuffix, rsuffix, sort)\u001b[0m\n\u001b[1;32m   6349\u001b[0m             return merge(self, other, left_on=on, how=how,\n\u001b[1;32m   6350\u001b[0m                          \u001b[0mleft_index\u001b[0m\u001b[0;34m=\u001b[0m\u001b[0mon\u001b[0m \u001b[0;32mis\u001b[0m \u001b[0;32mNone\u001b[0m\u001b[0;34m,\u001b[0m \u001b[0mright_index\u001b[0m\u001b[0;34m=\u001b[0m\u001b[0;32mTrue\u001b[0m\u001b[0;34m,\u001b[0m\u001b[0;34m\u001b[0m\u001b[0m\n\u001b[0;32m-> 6351\u001b[0;31m                          suffixes=(lsuffix, rsuffix), sort=sort)\n\u001b[0m\u001b[1;32m   6352\u001b[0m         \u001b[0;32melse\u001b[0m\u001b[0;34m:\u001b[0m\u001b[0;34m\u001b[0m\u001b[0m\n\u001b[1;32m   6353\u001b[0m             \u001b[0;32mif\u001b[0m \u001b[0mon\u001b[0m \u001b[0;32mis\u001b[0m \u001b[0;32mnot\u001b[0m \u001b[0;32mNone\u001b[0m\u001b[0;34m:\u001b[0m\u001b[0;34m\u001b[0m\u001b[0m\n",
      "\u001b[0;32m/opt/anaconda3/lib/python3.6/site-packages/pandas/core/reshape/merge.py\u001b[0m in \u001b[0;36mmerge\u001b[0;34m(left, right, how, on, left_on, right_on, left_index, right_index, sort, suffixes, copy, indicator, validate)\u001b[0m\n\u001b[1;32m     60\u001b[0m                          \u001b[0mcopy\u001b[0m\u001b[0;34m=\u001b[0m\u001b[0mcopy\u001b[0m\u001b[0;34m,\u001b[0m \u001b[0mindicator\u001b[0m\u001b[0;34m=\u001b[0m\u001b[0mindicator\u001b[0m\u001b[0;34m,\u001b[0m\u001b[0;34m\u001b[0m\u001b[0m\n\u001b[1;32m     61\u001b[0m                          validate=validate)\n\u001b[0;32m---> 62\u001b[0;31m     \u001b[0;32mreturn\u001b[0m \u001b[0mop\u001b[0m\u001b[0;34m.\u001b[0m\u001b[0mget_result\u001b[0m\u001b[0;34m(\u001b[0m\u001b[0;34m)\u001b[0m\u001b[0;34m\u001b[0m\u001b[0m\n\u001b[0m\u001b[1;32m     63\u001b[0m \u001b[0;34m\u001b[0m\u001b[0m\n\u001b[1;32m     64\u001b[0m \u001b[0;34m\u001b[0m\u001b[0m\n",
      "\u001b[0;32m/opt/anaconda3/lib/python3.6/site-packages/pandas/core/reshape/merge.py\u001b[0m in \u001b[0;36mget_result\u001b[0;34m(self)\u001b[0m\n\u001b[1;32m    572\u001b[0m \u001b[0;34m\u001b[0m\u001b[0m\n\u001b[1;32m    573\u001b[0m         llabels, rlabels = items_overlap_with_suffix(ldata.items, lsuf,\n\u001b[0;32m--> 574\u001b[0;31m                                                      rdata.items, rsuf)\n\u001b[0m\u001b[1;32m    575\u001b[0m \u001b[0;34m\u001b[0m\u001b[0m\n\u001b[1;32m    576\u001b[0m         \u001b[0mlindexers\u001b[0m \u001b[0;34m=\u001b[0m \u001b[0;34m{\u001b[0m\u001b[0;36m1\u001b[0m\u001b[0;34m:\u001b[0m \u001b[0mleft_indexer\u001b[0m\u001b[0;34m}\u001b[0m \u001b[0;32mif\u001b[0m \u001b[0mleft_indexer\u001b[0m \u001b[0;32mis\u001b[0m \u001b[0;32mnot\u001b[0m \u001b[0;32mNone\u001b[0m \u001b[0;32melse\u001b[0m \u001b[0;34m{\u001b[0m\u001b[0;34m}\u001b[0m\u001b[0;34m\u001b[0m\u001b[0m\n",
      "\u001b[0;32m/opt/anaconda3/lib/python3.6/site-packages/pandas/core/internals.py\u001b[0m in \u001b[0;36mitems_overlap_with_suffix\u001b[0;34m(left, lsuffix, right, rsuffix)\u001b[0m\n\u001b[1;32m   5242\u001b[0m         \u001b[0;32mif\u001b[0m \u001b[0;32mnot\u001b[0m \u001b[0mlsuffix\u001b[0m \u001b[0;32mand\u001b[0m \u001b[0;32mnot\u001b[0m \u001b[0mrsuffix\u001b[0m\u001b[0;34m:\u001b[0m\u001b[0;34m\u001b[0m\u001b[0m\n\u001b[1;32m   5243\u001b[0m             raise ValueError('columns overlap but no suffix specified: '\n\u001b[0;32m-> 5244\u001b[0;31m                              '{rename}'.format(rename=to_rename))\n\u001b[0m\u001b[1;32m   5245\u001b[0m \u001b[0;34m\u001b[0m\u001b[0m\n\u001b[1;32m   5246\u001b[0m         \u001b[0;32mdef\u001b[0m \u001b[0mlrenamer\u001b[0m\u001b[0;34m(\u001b[0m\u001b[0mx\u001b[0m\u001b[0;34m)\u001b[0m\u001b[0;34m:\u001b[0m\u001b[0;34m\u001b[0m\u001b[0m\n",
      "\u001b[0;31mValueError\u001b[0m: columns overlap but no suffix specified: Index(['name', 'location', 'ensembl_gene_id'], dtype='object')"
     ]
    },
    {
     "data": {
      "text/plain": [
       "<Figure size 1080x1080 with 0 Axes>"
      ]
     },
     "metadata": {},
     "output_type": "display_data"
    }
   ],
   "source": [
    "# Scatter plot of original graph adjacency matrix\n",
    "import matplotlib.pyplot as plt\n",
    "plt.figure(figsize=(15, 15))\n",
    "plt.imshow(compute_annotation_similarity(luad_data.LNC.get_genes_info(), \"LNC\"), interpolation='nearest', cmap=plt.cm.bwr)\n",
    "plt.colorbar()\n",
    "plt.show()"
   ]
  },
  {
   "cell_type": "markdown",
   "metadata": {},
   "source": [
    "# Laplacian Matrix"
   ]
  },
  {
   "cell_type": "code",
   "execution_count": null,
   "metadata": {},
   "outputs": [],
   "source": [
    "import community\n",
    "G = nx.read_edgelist('moge/data/karate.edgelist', create_using=nx.Graph())\n"
   ]
  },
  {
   "cell_type": "code",
   "execution_count": null,
   "metadata": {},
   "outputs": [],
   "source": [
    "A = nx.adjacency_matrix(G)\n",
    "A.setdiag(A.diagonal()*2)\n",
    "A = A.todense()"
   ]
  },
  {
   "cell_type": "code",
   "execution_count": null,
   "metadata": {},
   "outputs": [],
   "source": [
    "# -np.sqrt(np.sum(A, axis=1).A1)\n",
    "# D = np.diag(-np.sqrt(np.sum(A, axis=1).A1))\n",
    "D = np.diag(np.sum(A, axis=1).A1)"
   ]
  },
  {
   "cell_type": "code",
   "execution_count": null,
   "metadata": {
    "scrolled": true
   },
   "outputs": [],
   "source": [
    "L = D-A"
   ]
  },
  {
   "cell_type": "code",
   "execution_count": null,
   "metadata": {
    "scrolled": true
   },
   "outputs": [],
   "source": [
    "print(nx.incidence_matrix(G, oriented=True).shape)\n",
    "pd.DataFrame(nx.incidence_matrix(G, oriented=True)*nx.incidence_matrix(G, oriented=True).todense().T)"
   ]
  },
  {
   "cell_type": "code",
   "execution_count": null,
   "metadata": {
    "scrolled": true
   },
   "outputs": [],
   "source": [
    "pd.DataFrame(nx.laplacian_matrix(G).todense())"
   ]
  },
  {
   "cell_type": "code",
   "execution_count": null,
   "metadata": {},
   "outputs": [],
   "source": [
    "from scipy.linalg import decomp_svd\n",
    "U, s, Vh = decomp_svd.svd(nx.laplacian_matrix(G).todense())"
   ]
  },
  {
   "cell_type": "code",
   "execution_count": null,
   "metadata": {},
   "outputs": [],
   "source": [
    "U[0,:].shape"
   ]
  },
  {
   "cell_type": "code",
   "execution_count": null,
   "metadata": {},
   "outputs": [],
   "source": [
    "partition = community.best_partition(G)\n",
    "size = float(len(set(partition.values())))\n",
    "pos = nx.spring_layout(G)\n",
    "count = 0.\n",
    "for com in set(partition.values()) :\n",
    "    count = count + 1.\n",
    "    list_nodes = [nodes for nodes in partition.keys()\n",
    "                                if partition[nodes] == com]\n",
    "    nx.draw_networkx_nodes(G, pos, list_nodes, node_size = 20,\n",
    "                                node_color = str(count / size))\n",
    "\n",
    "\n",
    "nx.draw_networkx_edges(G, pos, alpha=0.5)\n",
    "plt.show()"
   ]
  },
  {
   "cell_type": "code",
   "execution_count": null,
   "metadata": {},
   "outputs": [],
   "source": [
    "# Scatter plot of original graph adjacency matrix\n",
    "import matplotlib.pyplot as plt\n",
    "plt.figure(figsize=(15, 15))\n",
    "plt.imshow(U, interpolation='nearest', cmap=plt.cm.bwr)\n",
    "plt.colorbar()\n",
    "plt.show()"
   ]
  },
  {
   "cell_type": "markdown",
   "metadata": {},
   "source": [
    "# Import Graph Embedding Methods"
   ]
  },
  {
   "cell_type": "code",
   "execution_count": 53,
   "metadata": {},
   "outputs": [
    {
     "name": "stderr",
     "output_type": "stream",
     "text": [
      "Using TensorFlow backend.\n",
      "Can not use cuDNN on context None: cannot compile with cuDNN. We got this error:\n",
      "b'In file included from /usr/local/cuda-9.0/include/channel_descriptor.h:62:0,\\n                 from /usr/local/cuda-9.0/include/cuda_runtime.h:90,\\n                 from /usr/include/cudnn.h:64,\\n                 from /tmp/try_flags_12zplnhc.c:4:\\n/usr/local/cuda-9.0/include/cuda_runtime_api.h:2930:102: error: use of enum \\xe2\\x80\\x98cudaFuncAttribute\\xe2\\x80\\x99 without previous declaration\\n extern __host__ __cudart_builtin__ cudaError_t CUDARTAPI cudaFuncSetAttribute(const void *func, enum cudaFuncAttribute attr, int value);\\n                                                                                                      ^~~~~~~~~~~~~~~~~\\n'\n",
      "Mapped name None to device cuda: GeForce GTX 1080 Ti (0000:01:00.0)\n"
     ]
    }
   ],
   "source": [
    "import matplotlib.pyplot as plt\n",
    "import networkx as nx\n",
    "\n",
    "from gem.utils import graph_util, plot_util\n",
    "from gem.evaluation import visualize_embedding as viz\n",
    "from gem.evaluation import evaluate_graph_reconstruction as gr\n",
    "from gem.evaluation.metrics import getPrecisionReport\n",
    "from gem.evaluation.evaluate_link_prediction import evaluateStaticLinkPrediction\n",
    "\n",
    "from time import time\n",
    "\n",
    "from gem.embedding.gf       import GraphFactorization\n",
    "from gem.embedding.hope     import HOPE\n",
    "from gem.embedding.lap      import LaplacianEigenmaps\n",
    "from gem.embedding.lle      import LocallyLinearEmbedding\n",
    "from gem.embedding.node2vec import node2vec\n",
    "from gem.embedding.sdne     import SDNE\n",
    "from moge.embedding.dual_graph_embedding import DualGraphEmbedding\n",
    "\n",
    "\n",
    "# File that contains the edges. Format: source target\n",
    "# Optionally, you can add weights as third column: source target weight\n",
    "\n",
    "# Specify whether the edges are directed\n",
    "isDirected = True\n",
    "\n",
    "# Load graph\n",
    "# G = graph_util.loadGraphFromEdgeListTxt(edge_f, directed=isDirected)\n",
    "# G = G.to_directed()\n",
    "\n",
    "# G = nx.read_edgelist('../nuclei-segmentation/notebooks/gem/data/ppi.edgelist', create_using=nx.DiGraph())\n",
    "# G = nx.read_edgelist('moge/data/karate.edgelist', create_using=nx.DiGraph())\n",
    "\n",
    "G = network.G\n",
    "\n",
    "G = nx.convert_node_labels_to_integers(G)"
   ]
  },
  {
   "cell_type": "code",
   "execution_count": 55,
   "metadata": {},
   "outputs": [],
   "source": [
    "models = []\n",
    "# You can comment out the methods you don't want to run\n",
    "# models.append(HOPE(d=100, beta=0.1))\n",
    "models.append(GraphFactorization(d=200, max_iter=100, eta=1*10**-4, regu=1.0))\n",
    "# models.append(LaplacianEigenmaps(d=2))\n",
    "# models.append(LocallyLinearEmbedding(d=100))\n",
    "models.append(node2vec(d=200, max_iter=10, walk_len=80, num_walks=10, con_size=10, ret_p=1, inout_p=1))\n",
    "models.append(SDNE(d=200, beta=5, alpha=1e-5, nu1=1e-6, nu2=1e-6, \n",
    "                   K=3, n_units=[50, 15,], rho=0.3, \n",
    "                   n_iter=100, xeta=0.01, n_batch=500))\n",
    "\n",
    "models.append(DualGraphEmbedding(d=100, reg=1.0, lr=0.05, iterations=100))\n",
    "                   "
   ]
  },
  {
   "cell_type": "code",
   "execution_count": null,
   "metadata": {},
   "outputs": [
    {
     "name": "stdout",
     "output_type": "stream",
     "text": [
      "Num nodes: 41338, num edges: 520558\n",
      "\n",
      " graph_factor_sgd graph_factor_sgd_200\n",
      "\t\tIter id: 0, Objective: 366638, f1: 366121, f2: 516.69\n"
     ]
    }
   ],
   "source": [
    "print ('Num nodes: %d, num edges: %d' % (G.number_of_nodes(), G.number_of_edges()))\n",
    "for embedding in models:\n",
    "    try:\n",
    "        print(\"\\n\", embedding.get_method_name(), embedding.get_method_summary())\n",
    "        t1 = time()\n",
    "        \n",
    "    #     Learn embedding - accepts a networkx graph or file with edge list\n",
    "#         embedding.learn_embedding(graph=G, edge_f=None, is_weighted=True, no_python=True)\n",
    "#         print (embedding._method_name+':\\n\\tTraining time: %f' % (time() - t1))\n",
    "\n",
    "#         Y = embedding.get_embedding()\n",
    "\n",
    "#         # Evaluate on graph reconstruction\n",
    "#         MAP, prec_curv, err, err_baseline = gr.evaluateStaticGraphReconstruction(G, embedding, Y, None)\n",
    "#         print (\"Graph Reconstruction. MAP:\", MAP)\n",
    "\n",
    "        \n",
    "        # Evaluate on link prediction\n",
    "        MAP, prec_curv = evaluateStaticLinkPrediction(G, embedding,\n",
    "                                     train_ratio=0.8,\n",
    "                                     is_undirected=False)\n",
    "        print (\"Link Prediction. MAP:\", MAP)\n",
    "        print (embedding._method_name+':\\n\\tTraining time: %f' % (time() - t1))\n",
    "        \n",
    "        # Visualize\n",
    "#         viz.plot_embedding2D(embedding.get_embedding(), di_graph=G, node_colors=None)\n",
    "#         plt.show()\n",
    "    except Exception as e:\n",
    "        print(\"could not run\", embedding, e)"
   ]
  },
  {
   "cell_type": "markdown",
   "metadata": {},
   "source": [
    "# Plot Adjacency Matrix"
   ]
  },
  {
   "cell_type": "code",
   "execution_count": null,
   "metadata": {},
   "outputs": [],
   "source": [
    "# Scatter plot of original graph adjacency matrix\n",
    "graph_adj = nx.laplacian_matrix(G.to_undirected()).todense()\n",
    "plt.figure(figsize=(9,9))\n",
    "plt.imshow(graph_adj, interpolation='nearest', cmap=plt.cm.gray)\n",
    "plt.colorbar()\n",
    "plt.show()"
   ]
  },
  {
   "cell_type": "code",
   "execution_count": null,
   "metadata": {},
   "outputs": [],
   "source": [
    "# Scatter plot of reconstructed adjacency matrix\n",
    "plt.figure(figsize=(9,9))\n",
    "plt.imshow(models[0].get_reconstructed_adj(), interpolation='nearest', cmap=plt.cm.gray)\n",
    "plt.colorbar()\n",
    "plt.show()"
   ]
  },
  {
   "cell_type": "code",
   "execution_count": null,
   "metadata": {},
   "outputs": [],
   "source": [
    "from sklearn.manifold import TSNE\n",
    "\n",
    "model = TSNE(n_components=2)\n",
    "node_pos = model.fit_transform(models[0].get_embedding())\n",
    "pos = {}\n",
    "for i in range(len(G.nodes())):\n",
    "    pos[i] = node_pos[i, :]\n",
    "nx.draw_networkx(G, pos, width=0.1, node_size=300, arrows=False,\n",
    "                             alpha=0.8, font_size=12)"
   ]
  },
  {
   "cell_type": "code",
   "execution_count": null,
   "metadata": {},
   "outputs": [],
   "source": []
  }
 ],
 "metadata": {
  "kernelspec": {
   "display_name": "Python 3",
   "language": "python",
   "name": "python3"
  },
  "language_info": {
   "codemirror_mode": {
    "name": "ipython",
    "version": 3
   },
   "file_extension": ".py",
   "mimetype": "text/x-python",
   "name": "python",
   "nbconvert_exporter": "python",
   "pygments_lexer": "ipython3",
   "version": "3.6.5"
  }
 },
 "nbformat": 4,
 "nbformat_minor": 1
}
