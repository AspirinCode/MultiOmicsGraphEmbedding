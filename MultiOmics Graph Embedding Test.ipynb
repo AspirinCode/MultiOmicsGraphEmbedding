{
 "cells": [
  {
   "cell_type": "code",
   "execution_count": 33,
   "metadata": {},
   "outputs": [
    {
     "name": "stdout",
     "output_type": "stream",
     "text": [
      "The autoreload extension is already loaded. To reload it, use:\n",
      "  %reload_ext autoreload\n"
     ]
    }
   ],
   "source": [
    "# Necessary imports\n",
    "%load_ext autoreload\n",
    "%autoreload 2\\\n",
    "\n",
    "import networkx as nx\n",
    "import numpy as np\n",
    "import pandas as pd"
   ]
  },
  {
   "cell_type": "code",
   "execution_count": 34,
   "metadata": {
    "scrolled": false
   },
   "outputs": [
    {
     "name": "stderr",
     "output_type": "stream",
     "text": [
      "/opt/anaconda3/lib/python3.6/site-packages/pandas/core/frame.py:3781: SettingWithCopyWarning: \n",
      "A value is trying to be set on a copy of a slice from a DataFrame\n",
      "\n",
      "See the caveats in the documentation: http://pandas.pydata.org/pandas-docs/stable/indexing.html#indexing-view-versus-copy\n",
      "  return super(DataFrame, self).rename(**kwargs)\n",
      "/opt/anaconda3/lib/python3.6/site-packages/IPython/core/interactiveshell.py:2963: DtypeWarning: Columns (1,3) have mixed types. Specify dtype option on import or set low_memory=False.\n",
      "  exec(code_obj, self.user_global_ns, self.user_ns)\n"
     ]
    },
    {
     "name": "stdout",
     "output_type": "stream",
     "text": [
      "PATIENTS (522, 5)\n",
      "DRUGS (461, 4)\n",
      "GE (576, 20472)\n",
      "MIR (494, 1870)\n",
      "LNC (546, 12727)\n",
      "SAMPLES (599, 6)\n"
     ]
    }
   ],
   "source": [
    "from TCGAMultiOmics.multiomics import MultiOmicsData\n",
    "\n",
    "folder_path = \"/home/jonny_admin/PycharmProjects/Bioinformatics_ExternalData/tcga-assembler/LUAD\"\n",
    "external_data_path = \"/home/jonny_admin/PycharmProjects/Bioinformatics_ExternalData/\"\n",
    "luad_data = MultiOmicsData(cancer_type=\"LUAD\", tcga_data_path=folder_path, external_data_path=external_data_path,\n",
    "                           modalities=[\\\n",
    "                                       \"GE\",\n",
    "                                       \"MIR\",\n",
    "                                       \"LNC\",\n",
    "                                       # \"CNV\",\n",
    "                                       # \"SNP\",\n",
    "#                                        \"PRO\"\n",
    "                                       ])\n",
    "\n"
   ]
  },
  {
   "cell_type": "markdown",
   "metadata": {},
   "source": [
    "# Heterogeneous Network"
   ]
  },
  {
   "cell_type": "code",
   "execution_count": 3,
   "metadata": {},
   "outputs": [
    {
     "name": "stdout",
     "output_type": "stream",
     "text": [
      "MIR  nodes: 1870\n",
      "LNC  nodes: 12727\n",
      "GE  nodes: 20472\n",
      "Total nodes: 35069\n"
     ]
    }
   ],
   "source": [
    "from moge.network.heterogeneous_network import HeterogeneousNetwork\n",
    "network = HeterogeneousNetwork(modalities=[\"MIR\", \"LNC\", \"GE\"], multi_omics_data=luad_data)"
   ]
  },
  {
   "cell_type": "code",
   "execution_count": 4,
   "metadata": {},
   "outputs": [
    {
     "name": "stdout",
     "output_type": "stream",
     "text": [
      "Adding edgelist with 247 total unique MIR genes (source), but only matching 247 nodes\n",
      "Adding edgelist with 12014 total unique GE genes (target), but only matching 12014 nodes\n"
     ]
    }
   ],
   "source": [
    "# Adds miRNA-target interaction network\n",
    "network.add_edges_from_edgelist(edgelist=luad_data.MIR.get_miRNA_target_interaction_edgelist(), \n",
    "                                modalities=[\"MIR\", \"GE\"])"
   ]
  },
  {
   "cell_type": "code",
   "execution_count": 5,
   "metadata": {},
   "outputs": [
    {
     "name": "stdout",
     "output_type": "stream",
     "text": [
      "Adding edgelist with 2072 total unique GE genes (source), but only matching 1426 nodes\n",
      "Adding edgelist with 23158 total unique GE genes (target), but only matching 17694 nodes\n"
     ]
    }
   ],
   "source": [
    "# Adds Gene Regulatory Network edges\n",
    "network.add_edges_from_edgelist(edgelist=luad_data.GE.get_RegNet_GRN_edgelist(),\n",
    "                               modalities=[\"GE\", \"GE\"])"
   ]
  },
  {
   "cell_type": "code",
   "execution_count": 9,
   "metadata": {},
   "outputs": [
    {
     "name": "stdout",
     "output_type": "stream",
     "text": [
      "Adding edgelist with 275 total unique MIR genes (source), but only matching 238 nodes\n",
      "Adding edgelist with 1127 total unique LNC genes (target), but only matching 582 nodes\n"
     ]
    }
   ],
   "source": [
    "# Adds miRNA-lncRNA interaction network\n",
    "network.add_edges_from_edgelist(edgelist=luad_data.LNC.get_starBase_lncRNA_miRNA_interactions_edgelist(),\n",
    "                               modalities=[\"MIR\", \"LNC\"])"
   ]
  },
  {
   "cell_type": "code",
   "execution_count": null,
   "metadata": {},
   "outputs": [],
   "source": [
    "print(len(network.G.nodes()))\n",
    "print(len(network.G.edges()))\n",
    "# print(luad_data.LNC.get_genes_list())"
   ]
  },
  {
   "cell_type": "code",
   "execution_count": null,
   "metadata": {},
   "outputs": [],
   "source": [
    "mir_ge_corr = network.compute_multiomics_correlations(modalities=[\"MIR\", \"GE\"])"
   ]
  },
  {
   "cell_type": "code",
   "execution_count": 62,
   "metadata": {},
   "outputs": [
    {
     "data": {
      "image/png": "[encoded data removed]",
      "text/plain": [
       "<Figure size 1080x1080 with 2 Axes>"
      ]
     },
     "metadata": {},
     "output_type": "display_data"
    }
   ],
   "source": [
    "# Scatter plot of original graph adjacency matrix\n",
    "import matplotlib.pyplot as plt\n",
    "plt.figure(figsize=(15, 15))\n",
    "plt.imshow(anno_dist, interpolation='nearest', cmap=plt.cm.bwr)\n",
    "plt.colorbar()\n",
    "plt.show()"
   ]
  },
  {
   "cell_type": "markdown",
   "metadata": {},
   "source": [
    "# Laplacian Matrix"
   ]
  },
  {
   "cell_type": "code",
   "execution_count": null,
   "metadata": {},
   "outputs": [],
   "source": [
    "import community\n",
    "G = nx.read_edgelist('moge/data/karate.edgelist', create_using=nx.Graph())\n"
   ]
  },
  {
   "cell_type": "code",
   "execution_count": null,
   "metadata": {},
   "outputs": [],
   "source": [
    "A = nx.adjacency_matrix(G)\n",
    "A.setdiag(A.diagonal()*2)\n",
    "A = A.todense()"
   ]
  },
  {
   "cell_type": "code",
   "execution_count": null,
   "metadata": {},
   "outputs": [],
   "source": [
    "# -np.sqrt(np.sum(A, axis=1).A1)\n",
    "# D = np.diag(-np.sqrt(np.sum(A, axis=1).A1))\n",
    "D = np.diag(np.sum(A, axis=1).A1)"
   ]
  },
  {
   "cell_type": "code",
   "execution_count": null,
   "metadata": {
    "scrolled": true
   },
   "outputs": [],
   "source": [
    "L = D-A"
   ]
  },
  {
   "cell_type": "code",
   "execution_count": null,
   "metadata": {
    "scrolled": true
   },
   "outputs": [],
   "source": [
    "print(nx.incidence_matrix(G, oriented=True).shape)\n",
    "pd.DataFrame(nx.incidence_matrix(G, oriented=True)*nx.incidence_matrix(G, oriented=True).todense().T)"
   ]
  },
  {
   "cell_type": "code",
   "execution_count": null,
   "metadata": {
    "scrolled": true
   },
   "outputs": [],
   "source": [
    "pd.DataFrame(nx.laplacian_matrix(G).todense())"
   ]
  },
  {
   "cell_type": "code",
   "execution_count": null,
   "metadata": {},
   "outputs": [],
   "source": [
    "from scipy.linalg import decomp_svd\n",
    "U, s, Vh = decomp_svd.svd(nx.laplacian_matrix(G).todense())"
   ]
  },
  {
   "cell_type": "code",
   "execution_count": null,
   "metadata": {},
   "outputs": [],
   "source": [
    "U[0,:].shape"
   ]
  },
  {
   "cell_type": "code",
   "execution_count": null,
   "metadata": {},
   "outputs": [],
   "source": [
    "partition = community.best_partition(G)\n",
    "size = float(len(set(partition.values())))\n",
    "pos = nx.spring_layout(G)\n",
    "count = 0.\n",
    "for com in set(partition.values()) :\n",
    "    count = count + 1.\n",
    "    list_nodes = [nodes for nodes in partition.keys()\n",
    "                                if partition[nodes] == com]\n",
    "    nx.draw_networkx_nodes(G, pos, list_nodes, node_size = 20,\n",
    "                                node_color = str(count / size))\n",
    "\n",
    "\n",
    "nx.draw_networkx_edges(G, pos, alpha=0.5)\n",
    "plt.show()"
   ]
  },
  {
   "cell_type": "code",
   "execution_count": null,
   "metadata": {},
   "outputs": [],
   "source": [
    "# Scatter plot of original graph adjacency matrix\n",
    "import matplotlib.pyplot as plt\n",
    "plt.figure(figsize=(15, 15))\n",
    "plt.imshow(U, interpolation='nearest', cmap=plt.cm.bwr)\n",
    "plt.colorbar()\n",
    "plt.show()"
   ]
  },
  {
   "cell_type": "markdown",
   "metadata": {},
   "source": [
    "# Import Graph Embedding Methods"
   ]
  },
  {
   "cell_type": "code",
   "execution_count": null,
   "metadata": {},
   "outputs": [],
   "source": [
    "import matplotlib.pyplot as plt\n",
    "import networkx as nx\n",
    "\n",
    "from gem.utils import graph_util, plot_util\n",
    "from gem.evaluation import visualize_embedding as viz\n",
    "from gem.evaluation import evaluate_graph_reconstruction as gr\n",
    "from gem.evaluation.metrics import getPrecisionReport\n",
    "from gem.evaluation.evaluate_link_prediction import evaluateStaticLinkPrediction\n",
    "\n",
    "from time import time\n",
    "\n",
    "from gem.embedding.gf       import GraphFactorization\n",
    "from gem.embedding.hope     import HOPE\n",
    "from gem.embedding.lap      import LaplacianEigenmaps\n",
    "from gem.embedding.lle      import LocallyLinearEmbedding\n",
    "from gem.embedding.node2vec import node2vec\n",
    "from gem.embedding.sdne     import SDNE\n",
    "from moge.embedding.dual_graph_embedding import DualGraphEmbedding\n",
    "\n",
    "\n",
    "# File that contains the edges. Format: source target\n",
    "# Optionally, you can add weights as third column: source target weight\n",
    "\n",
    "# Specify whether the edges are directed\n",
    "isDirected = True\n",
    "\n",
    "# Load graph\n",
    "# G = graph_util.loadGraphFromEdgeListTxt(edge_f, directed=isDirected)\n",
    "# G = G.to_directed()\n",
    "\n",
    "# G = nx.read_edgelist('../nuclei-segmentation/notebooks/gem/data/ppi.edgelist', create_using=nx.DiGraph())\n",
    "G = nx.read_edgelist('moge/data/karate.edgelist', create_using=nx.DiGraph())\n",
    "\n",
    "# G = network.G\n",
    "\n",
    "# G = nx.convert_node_labels_to_integers(G)"
   ]
  },
  {
   "cell_type": "code",
   "execution_count": null,
   "metadata": {},
   "outputs": [],
   "source": [
    "models = []\n",
    "# You can comment out the methods you don't want to run\n",
    "# models.append(HOPE(d=100, beta=0.1))\n",
    "models.append(GraphFactorization(d=200, max_iter=100, eta=1*10**-4, regu=1.0))\n",
    "# models.append(LaplacianEigenmaps(d=2))\n",
    "# models.append(LocallyLinearEmbedding(d=100))\n",
    "# models.append(node2vec(d=100, max_iter=1, walk_len=80, num_walks=10, con_size=10, ret_p=1, inout_p=1))\n",
    "models.append(SDNE(d=200, beta=5, alpha=1e-5, nu1=1e-6, nu2=1e-6, \n",
    "                   K=3, n_units=[50, 15,], rho=0.3, \n",
    "                   n_iter=100, xeta=0.01, n_batch=500))\n",
    "\n",
    "models.append(DualGraphEmbedding(d=100, reg=1.0, lr=0.05, iterations=100))\n",
    "                   "
   ]
  },
  {
   "cell_type": "code",
   "execution_count": null,
   "metadata": {},
   "outputs": [],
   "source": [
    "print ('Num nodes: %d, num edges: %d' % (G.number_of_nodes(), G.number_of_edges()))\n",
    "for embedding in models:\n",
    "    try:\n",
    "        print(\"\\n\", embedding.get_method_name(), embedding.get_method_summary())\n",
    "        t1 = time()\n",
    "        \n",
    "    #     Learn embedding - accepts a networkx graph or file with edge list\n",
    "#         embedding.learn_embedding(graph=G, edge_f=None, is_weighted=True, no_python=True)\n",
    "#         print (embedding._method_name+':\\n\\tTraining time: %f' % (time() - t1))\n",
    "\n",
    "#         Y = embedding.get_embedding()\n",
    "\n",
    "#         # Evaluate on graph reconstruction\n",
    "#         MAP, prec_curv, err, err_baseline = gr.evaluateStaticGraphReconstruction(G, embedding, Y, None)\n",
    "#         print (\"Graph Reconstruction. MAP:\", MAP)\n",
    "\n",
    "        \n",
    "        # Evaluate on link prediction\n",
    "        MAP, prec_curv = evaluateStaticLinkPrediction(G, embedding,\n",
    "                                     train_ratio=0.8,\n",
    "                                     is_undirected=False)\n",
    "        print (\"Link Prediction. MAP:\", MAP)\n",
    "        print (embedding._method_name+':\\n\\tTraining time: %f' % (time() - t1))\n",
    "        \n",
    "        # Visualize\n",
    "#         viz.plot_embedding2D(embedding.get_embedding(), di_graph=G, node_colors=None)\n",
    "#         plt.show()\n",
    "    except Exception as e:\n",
    "        print(\"could not run\", embedding, e)"
   ]
  },
  {
   "cell_type": "markdown",
   "metadata": {},
   "source": [
    "# Plot Adjacency Matrix"
   ]
  },
  {
   "cell_type": "code",
   "execution_count": null,
   "metadata": {},
   "outputs": [],
   "source": [
    "# Scatter plot of original graph adjacency matrix\n",
    "graph_adj = nx.laplacian_matrix(G.to_undirected()).todense()\n",
    "plt.figure(figsize=(9,9))\n",
    "plt.imshow(graph_adj, interpolation='nearest', cmap=plt.cm.gray)\n",
    "plt.colorbar()\n",
    "plt.show()"
   ]
  },
  {
   "cell_type": "code",
   "execution_count": null,
   "metadata": {},
   "outputs": [],
   "source": [
    "# Scatter plot of reconstructed adjacency matrix\n",
    "plt.figure(figsize=(9,9))\n",
    "plt.imshow(models[0].get_reconstructed_adj(), interpolation='nearest', cmap=plt.cm.gray)\n",
    "plt.colorbar()\n",
    "plt.show()"
   ]
  },
  {
   "cell_type": "code",
   "execution_count": null,
   "metadata": {},
   "outputs": [],
   "source": [
    "from sklearn.manifold import TSNE\n",
    "\n",
    "model = TSNE(n_components=2)\n",
    "node_pos = model.fit_transform(models[0].get_embedding())\n",
    "pos = {}\n",
    "for i in range(len(G.nodes())):\n",
    "    pos[i] = node_pos[i, :]\n",
    "nx.draw_networkx(G, pos, width=0.1, node_size=300, arrows=False,\n",
    "                             alpha=0.8, font_size=12)"
   ]
  },
  {
   "cell_type": "code",
   "execution_count": null,
   "metadata": {},
   "outputs": [],
   "source": []
  }
 ],
 "metadata": {
  "kernelspec": {
   "display_name": "Python 3",
   "language": "python",
   "name": "python3"
  },
  "language_info": {
   "codemirror_mode": {
    "name": "ipython",
    "version": 3
   },
   "file_extension": ".py",
   "mimetype": "text/x-python",
   "name": "python",
   "nbconvert_exporter": "python",
   "pygments_lexer": "ipython3",
   "version": "3.6.5"
  }
 },
 "nbformat": 4,
 "nbformat_minor": 1
}
