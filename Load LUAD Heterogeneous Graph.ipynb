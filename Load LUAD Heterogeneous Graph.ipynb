{
 "cells": [
  {
   "cell_type": "code",
   "execution_count": 1,
   "metadata": {},
   "outputs": [],
   "source": [
    "%load_ext autoreload\n",
    "%autoreload 2\n",
    "\n",
    "import sys\n",
    "sys.path.insert(0, \"../openTCGA/\")\n",
    "\n",
    "import os\n",
    "import networkx as nx\n",
    "import numpy as np\n",
    "import pandas as pd\n",
    "import scipy.sparse as sps\n",
    "import pickle\n",
    "import matplotlib.pyplot as plt\n",
    "\n",
    "from openomics import MultiOmics, Protein, MessengerRNA, MicroRNA, LncRNA\n",
    "from openomics.database import *\n",
    "from openomics.genomics import *\n",
    "\n",
    "from moge.visualization.data_viz import matrix_heatmap, plot_coo_matrix\n",
    "from moge.visualization.embedding_viz import visualize_embedding, plot_bokeh_graph\n",
    "from moge.visualization.network_viz import graph_viz\n",
    "from moge.network.semantic_similarity import *"
   ]
  },
  {
   "cell_type": "markdown",
   "metadata": {},
   "source": [
    "# Import the TCGA cancer data"
   ]
  },
  {
   "cell_type": "code",
   "execution_count": 2,
   "metadata": {},
   "outputs": [],
   "source": [
    "pd.set_option('mode.chained_assignment', 'raise')"
   ]
  },
  {
   "cell_type": "code",
   "execution_count": 3,
   "metadata": {},
   "outputs": [
    {
     "name": "stderr",
     "output_type": "stream",
     "text": [
      "../openTCGA/openomics/transcriptomics.py:52: ParserWarning:\n",
      "\n",
      "Falling back to the 'python' engine because the 'c' engine does not support sep=None with delim_whitespace=False; you can avoid this warning by specifying engine='python'.\n",
      "\n"
     ]
    },
    {
     "name": "stdout",
     "output_type": "stream",
     "text": [
      "Protein (364, 154) , indexed by: protein_name\n",
      "MessengerRNA (576, 20472) , indexed by: gene_name\n",
      "MicroRNA (494, 1870) , indexed by: gene_name\n",
      "LncRNA (546, 12727) , indexed by: gene_id\n"
     ]
    }
   ],
   "source": [
    "cohort_folder = \"/data/datasets/Bioinformatics_ExternalData/tcga-assembler/LUAD/\"\n",
    "cohort_name = \"LUAD\"\n",
    "luad_data = MultiOmics(cohort_name)\n",
    "luad_data.add_clinical_data(\n",
    "    clinical_data=os.path.join(cohort_folder,\"clinical/nationwidechildrens.org_clinical_patient.txt\"))\n",
    "\n",
    "luad_data.add_omic(Protein(cohort_name, file_path=os.path.join(cohort_folder, \"protein_rppa/protein_RPPA.txt\"),\n",
    "                                     gene_index_by=\"protein_name\",\n",
    "                                     columns=\"GeneSymbol|TCGA\", genes_col_name=\"GeneSymbol\"))\n",
    "\n",
    "luad_data.add_omic(MessengerRNA(cohort_name, file_path=os.path.join(cohort_folder, \"gene_exp\", \"geneExp.txt\"), \n",
    "                                gene_index_by=\"gene_name\",\n",
    "                                columns=\"GeneSymbol|TCGA\", genes_col_name=\"GeneSymbol\"))\n",
    "\n",
    "luad_data.add_omic(MicroRNA(cohort_name, file_path=os.path.join(cohort_folder, \"mirna/\", \"miRNAExp__RPM.txt\"), \n",
    "                            gene_index_by=\"gene_name\",\n",
    "                            columns=\"GeneSymbol|TCGA\", genes_col_name=\"GeneSymbol\"))\n",
    "\n",
    "luad_data.add_omic(LncRNA(cohort_name, file_path=os.path.join(cohort_folder, \"lncrna\", \"TCGA-rnaexpr.tsv\"), \n",
    "                          gene_index_by=\"gene_id\",\n",
    "                          columns=\"Gene_ID|TCGA\", genes_col_name=\"Gene_ID\"))\n",
    "luad_data.build_samples()"
   ]
  },
  {
   "cell_type": "code",
   "execution_count": 7,
   "metadata": {
    "scrolled": true
   },
   "outputs": [
    {
     "name": "stdout",
     "output_type": "stream",
     "text": [
      "Fetching file from: ftp://ftp.ebi.ac.uk/pub/databases/gencode/Gencode_human/release_32/ gencode.v32.long_noncoding_RNAs.gtf.gz\n",
      "Fetching file from: ftp://ftp.ebi.ac.uk/pub/databases/gencode/Gencode_human/release_32/ gencode.v32.basic.annotation.gtf.gz\n",
      "Fetching file from: ftp://ftp.ebi.ac.uk/pub/databases/gencode/Gencode_human/release_32/ gencode.v32.lncRNA_transcripts.fa.gz\n",
      "Fetching file from: ftp://ftp.ebi.ac.uk/pub/databases/gencode/Gencode_human/release_32/ gencode.v32.transcripts.fa.gz\n"
     ]
    },
    {
     "name": "stderr",
     "output_type": "stream",
     "text": [
      "INFO:root:Extracted GTF attributes: ['gene_id', 'gene_type', 'gene_name', 'level', 'hgnc_id', 'tag', 'havana_gene', 'transcript_id', 'transcript_type', 'transcript_name', 'transcript_support_level', 'havana_transcript', 'exon_number', 'exon_id', 'ont']\n",
      "INFO:root:Extracted GTF attributes: ['gene_id', 'gene_type', 'gene_name', 'level', 'hgnc_id', 'havana_gene', 'transcript_id', 'transcript_type', 'transcript_name', 'transcript_support_level', 'tag', 'havana_transcript', 'exon_number', 'exon_id', 'ont', 'protein_id', 'ccdsid']\n"
     ]
    },
    {
     "name": "stdout",
     "output_type": "stream",
     "text": [
      "GENCODE: ['index', 'seqname', 'source', 'feature', 'start', 'end', 'score', 'strand', 'frame', 'gene_id', 'gene_type', 'gene_name', 'level', 'hgnc_id', 'tag', 'havana_gene', 'transcript_id', 'transcript_type', 'transcript_name', 'transcript_support_level', 'havana_transcript', 'exon_number', 'exon_id', 'ont', 'protein_id', 'ccdsid']\n",
      "Fetching file from: ftp://ftp.ebi.ac.uk/pub/databases/RNAcentral/current_release/ go_annotations/rnacentral_rfam_annotations.tsv.gz\n",
      "Fetching file from: ftp://ftp.ebi.ac.uk/pub/databases/RNAcentral/current_release/ id_mapping/database_mappings/gencode.tsv\n",
      "RNAcentral: ['index', 'RNAcentral id', 'database', 'transcript_id', 'species', 'RNA type', 'gene_name', 'go_id', 'Rfams']\n",
      "Fetching file from: ftp://mirbase.org/pub/mirbase/CURRENT/ aliases.txt.gz\n",
      "Fetching file from: ftp://mirbase.org/pub/mirbase/CURRENT/ mature.fa.gz\n",
      "Fetching file from: ftp://mirbase.org/pub/mirbase/CURRENT/ hairpin.fa.gz\n",
      "Fetching file from: ftp://ftp.ebi.ac.uk/pub/databases/RNAcentral/current_release/id_mapping/database_mappings/ mirbase.tsv\n",
      "MirBase: ['mirbase id', 'RNAcentral id', 'database', 'species', 'RNA type', 'gene name', 'gene_name']\n"
     ]
    },
    {
     "name": "stderr",
     "output_type": "stream",
     "text": [
      "/opt/anaconda3/lib/python3.6/site-packages/ipykernel_launcher.py:16: DtypeWarning:\n",
      "\n",
      "Columns (10) have mixed types.Specify dtype option on import or set low_memory=False.\n",
      "\n"
     ]
    },
    {
     "name": "stdout",
     "output_type": "stream",
     "text": [
      "EnsemblGenes ['gene_id', 'gene_name', 'transcript_id', 'transcript_name', 'chromosome_name', 'transcript_start', 'transcript_end', 'transcript_length', 'gene_biotype', 'transcript_biotype', 'Rfams', 'go_id']\n",
      "Fetching file from: http://geneontology.org/gene-associations/ goa_human.gaf.gz\n",
      "Fetching file from: http://purl.obolibrary.org/obo/go/ go-basic.obo\n",
      "Fetching file from: http://geneontology.org/gene-associations/ goa_human_rna.gaf.gz\n",
      "Fetching file from: http://geneontology.org/gene-associations/ goa_human_isoform.gaf.gz\n",
      "GeneOntology: ['index', 'DB', 'gene_id', 'gene_name', 'Qualifier', 'go_id', 'DB:Reference', 'Evidence', 'With', 'Aspect', 'DB_Object_Name', 'Synonym', 'DB_Object_Type', 'Taxon_ID', 'Date', 'Assigned_By', 'Annotation_Extension', 'Gene_Product_Form_ID']\n",
      "Fetching file from: https://storage.googleapis.com/gtex_analysis_v8/rna_seq_data/ GTEx_Analysis_2017-06-05_v8_RNASeQCv1.1.9_gene_median_tpm.gct.gz\n",
      "Fetching file from: https://storage.googleapis.com/gtex_analysis_v8/annotations/ GTEx_Analysis_v8_Annotations_SampleAttributesDS.txt\n",
      "Fetching file from: https://storage.googleapis.com/gtex_analysis_v8/rna_seq_data/ GTEx_Analysis_2017-06-05_v8_RSEMv1.3.0_transcript_tpm.gct.gz\n",
      "GTEx: ['gene_id', 'gene_name', 'Adipose - Subcutaneous', 'Adipose - Visceral (Omentum)', 'Adrenal Gland', 'Artery - Aorta', 'Artery - Coronary', 'Artery - Tibial', 'Bladder', 'Brain - Amygdala', 'Brain - Anterior cingulate cortex (BA24)', 'Brain - Caudate (basal ganglia)', 'Brain - Cerebellar Hemisphere', 'Brain - Cerebellum', 'Brain - Cortex', 'Brain - Frontal Cortex (BA9)', 'Brain - Hippocampus', 'Brain - Hypothalamus', 'Brain - Nucleus accumbens (basal ganglia)', 'Brain - Putamen (basal ganglia)', 'Brain - Spinal cord (cervical c-1)', 'Brain - Substantia nigra', 'Breast - Mammary Tissue', 'Cells - Cultured fibroblasts', 'Cells - EBV-transformed lymphocytes', 'Cervix - Ectocervix', 'Cervix - Endocervix', 'Colon - Sigmoid', 'Colon - Transverse', 'Esophagus - Gastroesophageal Junction', 'Esophagus - Mucosa', 'Esophagus - Muscularis', 'Fallopian Tube', 'Heart - Atrial Appendage', 'Heart - Left Ventricle', 'Kidney - Cortex', 'Kidney - Medulla', 'Liver', 'Lung', 'Minor Salivary Gland', 'Muscle - Skeletal', 'Nerve - Tibial', 'Ovary', 'Pancreas', 'Pituitary', 'Prostate', 'Skin - Not Sun Exposed (Suprapubic)', 'Skin - Sun Exposed (Lower leg)', 'Small Intestine - Terminal Ileum', 'Spleen', 'Stomach', 'Testis', 'Thyroid', 'Uterus', 'Vagina', 'Whole Blood']\n"
     ]
    }
   ],
   "source": [
    "gencode = GENCODE(path=\"ftp://ftp.ebi.ac.uk/pub/databases/gencode/Gencode_human/release_32/\",\n",
    "                  file_resources={\"long_noncoding_RNAs.gtf\": \"gencode.v32.long_noncoding_RNAs.gtf.gz\",\n",
    "                                  \"basic.annotation.gtf\": \"gencode.v32.basic.annotation.gtf.gz\",\n",
    "                                  \"lncRNA_transcripts.fa\": \"gencode.v32.lncRNA_transcripts.fa.gz\",\n",
    "                                  \"transcripts.fa\": \"gencode.v32.transcripts.fa.gz\"},\n",
    "                  remove_version_num=True, replace_U2T=True)\n",
    "\n",
    "rnacentral = RNAcentral(path=\"ftp://ftp.ebi.ac.uk/pub/databases/RNAcentral/current_release/\",\n",
    "                       file_resources={\"rnacentral_rfam_annotations.tsv\":\"go_annotations/rnacentral_rfam_annotations.tsv.gz\",\n",
    "                                      \"gencode.tsv\":\"id_mapping/database_mappings/gencode.tsv\"},\n",
    "                       )\n",
    "\n",
    "mirbase = MirBase(path=\"ftp://mirbase.org/pub/mirbase/CURRENT/\", sequence=\"hairpin\", species=\"Homo sapiens\", \n",
    "                  species_id=9606, replace_U2T=True)\n",
    "\n",
    "ensembl = EnsemblGenes()\n",
    "\n",
    "go = GeneOntology()\n",
    "\n",
    "gtex = GTEx(path=\"https://storage.googleapis.com/gtex_analysis_v8/rna_seq_data/\")"
   ]
  },
  {
   "cell_type": "code",
   "execution_count": 3,
   "metadata": {},
   "outputs": [
    {
     "name": "stderr",
     "output_type": "stream",
     "text": [
      "../openTCGA/openomics/database/interaction.py:372: DtypeWarning:\n",
      "\n",
      "Columns (6) have mixed types.Specify dtype option on import or set low_memory=False.\n",
      "\n"
     ]
    },
    {
     "name": "stdout",
     "output_type": "stream",
     "text": [
      "Name: LncRNA2Target\n",
      "Type: DiGraph\n",
      "Number of nodes: 28911\n",
      "Number of edges: 65655\n",
      "Average in degree:   2.2709\n",
      "Average out degree:   2.2709\n"
     ]
    }
   ],
   "source": [
    "# interaction datasets\n",
    "lncbase = LncBase(\"/data/datasets/Bioinformatics_ExternalData/lncBase/\", strip_mirna_name=True)\n",
    "mirtarbase = MiRTarBase(path=\"/data/datasets/Bioinformatics_ExternalData/miRTarBase/\",strip_mirna_name=True)\n",
    "string = STRING()\n",
    "lncrna2target = LncRNA2Target(path=\"/data/datasets/Bioinformatics_ExternalData/lncrna2target/\",\n",
    "     file_resources={\"lncRNA_target_from_high_throughput_experiments.txt\":\n",
    "                     \"/data/datasets/Bioinformatics_ExternalData/lncrna2target/lncRNA_target_from_high_throughput_experiments.txt\"}, \n",
    "                              version=\"high_throughput\")\n",
    "# biogrid = BioGRID()"
   ]
  },
  {
   "cell_type": "code",
   "execution_count": 9,
   "metadata": {},
   "outputs": [
    {
     "name": "stdout",
     "output_type": "stream",
     "text": [
      "Fetching file from: https://www.disgenet.org/static/disgenet_ap1/files/downloads/ curated_gene_disease_associations.tsv.gz\n",
      "Fetching file from: https://www.disgenet.org/static/disgenet_ap1/files/downloads/ all_gene_disease_associations.tsv.gz\n",
      "DisGeNet: ['index', 'gene_name', 'disease_associations', 'score']\n",
      "Fetching file from: http://www.cuilab.cn/static/hmdd3/data/ alldata.txt\n",
      "HMDD: ['index', 'category', 'gene_name', 'disease_associations', 'pmid', 'description']\n",
      "Fetching file from: http://www.cuilab.cn/files/images/ldd/ data_v2017.txt\n",
      "LncRNADisease: ['index', 'gene_name', 'disease_associations', 'Dysfunction type', 'Description', 'Chr', 'Start', 'End', 'Strand', 'Species', 'Alias', 'Sequence', 'Reference']\n",
      "Fetching file from: http://zdzlab.einstein.yu.edu/1/hedd/ download.action.php?filename=DataDownload/MalaCards.csv\n",
      "MalaCards: ['index', 'id', 'gene_name', 'maladySymbol', 'maladySlug', 'disease_associations', 'score']\n"
     ]
    }
   ],
   "source": [
    "# Disease association datasets\n",
    "disgenet = DisGeNet(path=\"https://www.disgenet.org/static/disgenet_ap1/files/downloads/\", curated=True)\n",
    "hmdd = HMDD(path=\"http://www.cuilab.cn/static/hmdd3/data/\")\n",
    "lncrnadisease = LncRNADisease(path=\"http://www.cuilab.cn/files/images/ldd/\", species=\"Human\")\n",
    "# malacards = MalaCards()"
   ]
  },
  {
   "cell_type": "code",
   "execution_count": 10,
   "metadata": {
    "scrolled": true
   },
   "outputs": [
    {
     "name": "stdout",
     "output_type": "stream",
     "text": [
      "INFO: You can pass in a list of transcript biotypes to filter using the argument 'biotypes'.\n",
      "<class 'pandas.core.frame.DataFrame'>\n",
      "Index: 12727 entries, ENSG00000005206 to ENSGR0000270726\n",
      "Data columns (total 19 columns):\n",
      " #   Column                Non-Null Count  Dtype \n",
      "---  ------                --------------  ----- \n",
      " 0   gene_name             11848 non-null  object\n",
      " 1   feature               11840 non-null  object\n",
      " 2   start                 11840 non-null  object\n",
      " 3   end                   11840 non-null  object\n",
      " 4   strand                11840 non-null  object\n",
      " 5   tag                   11840 non-null  object\n",
      " 6   havana_gene           11840 non-null  object\n",
      " 7   transcript_id         11848 non-null  object\n",
      " 8   transcript_name       11848 non-null  object\n",
      " 9   chromosome_name       11848 non-null  object\n",
      " 10  transcript_start      11848 non-null  object\n",
      " 11  transcript_end        11848 non-null  object\n",
      " 12  transcript_length     11848 non-null  object\n",
      " 13  Rfams                 71 non-null     object\n",
      " 14  go_id                 127 non-null    object\n",
      " 15  gene_biotype          11848 non-null  object\n",
      " 16  transcript_biotype    11848 non-null  object\n",
      " 17  disease_associations  13 non-null     object\n",
      " 18  Transcript sequence   11586 non-null  object\n",
      "dtypes: object(19)\n",
      "memory usage: 1.9+ MB\n"
     ]
    }
   ],
   "source": [
    "# LncRNA\n",
    "luad_data.LncRNA.annotate_genomics(gencode, index=\"gene_id\", \n",
    "                                   columns=['feature', 'start', 'end', 'strand', 'tag', 'havana_gene'])\n",
    "luad_data.LncRNA.annotate_genomics(database=ensembl, index='gene_id', \n",
    "                                   columns=['gene_name', 'transcript_id', 'transcript_name', \n",
    "                                         'chromosome_name', 'transcript_start', 'transcript_end', 'transcript_length',\n",
    "                                         'Rfams', 'go_id', 'gene_biotype', 'transcript_biotype'])\n",
    "luad_data.LncRNA.annotate_genomics(database=rnacentral, index='gene_name',\n",
    "                                   columns=['Rfams', 'go_id', 'gene_name'])\n",
    "luad_data.LncRNA.annotate_diseases(lncrnadisease, index=\"gene_name\", )\n",
    "luad_data.LncRNA.annotate_sequences(gencode, index=\"gene_id\", omic=\"LncRNA\", agg_sequences=\"longest\")\n",
    "luad_data.LncRNA.annotations.info()"
   ]
  },
  {
   "cell_type": "code",
   "execution_count": 11,
   "metadata": {
    "scrolled": true
   },
   "outputs": [
    {
     "name": "stdout",
     "output_type": "stream",
     "text": [
      "<class 'pandas.core.frame.DataFrame'>\n",
      "Index: 1870 entries, hsa-let-7a-1 to hsa-mir-99b\n",
      "Data columns (total 16 columns):\n",
      " #   Column                Non-Null Count  Dtype \n",
      "---  ------                --------------  ----- \n",
      " 0   RNAcentral id         1839 non-null   object\n",
      " 1   mirbase id            1839 non-null   object\n",
      " 2   database              1839 non-null   object\n",
      " 3   transcript_id         487 non-null    object\n",
      " 4   RNA type              487 non-null    object\n",
      " 5   go_id                 487 non-null    object\n",
      " 6   Rfams                 487 non-null    object\n",
      " 7   transcript_name       2 non-null      object\n",
      " 8   chromosome_name       2 non-null      object\n",
      " 9   transcript_start      2 non-null      object\n",
      " 10  transcript_end        2 non-null      object\n",
      " 11  transcript_length     2 non-null      object\n",
      " 12  gene_biotype          2 non-null      object\n",
      " 13  transcript_biotype    2 non-null      object\n",
      " 14  disease_associations  934 non-null    object\n",
      " 15  Transcript sequence   1829 non-null   object\n",
      "dtypes: object(16)\n",
      "memory usage: 248.4+ KB\n"
     ]
    }
   ],
   "source": [
    "# MicroRNA\n",
    "luad_data.MicroRNA.annotate_genomics(\n",
    "    database=mirbase, index=\"gene_name\", \n",
    "    columns=['mirbase id', 'RNAcentral id', 'database'],)\n",
    "luad_data.MicroRNA.annotate_genomics(\n",
    "    database=rnacentral, index=\"RNAcentral id\",\n",
    "    columns=['transcript_id', 'RNA type', 'go_id', 'Rfams']\n",
    ")\n",
    "luad_data.MicroRNA.annotate_genomics(\n",
    "    database=ensembl, index='gene_name',\n",
    "    columns=['gene_name', 'transcript_id', 'transcript_name', \n",
    "             'chromosome_name', 'transcript_start', 'transcript_end', 'transcript_length',\n",
    "             'Rfams', 'go_id', 'gene_biotype', 'transcript_biotype'])\n",
    "luad_data.MicroRNA.annotate_diseases(hmdd, index=\"gene_name\", )\n",
    "luad_data.MicroRNA.annotate_sequences(mirbase, index=\"gene_name\", omic=\"MicroRNA\", agg_sequences=\"all\")\n",
    "luad_data.MicroRNA.annotations.info()"
   ]
  },
  {
   "cell_type": "code",
   "execution_count": 12,
   "metadata": {},
   "outputs": [
    {
     "name": "stdout",
     "output_type": "stream",
     "text": [
      "<class 'pandas.core.frame.DataFrame'>\n",
      "Index: 20472 entries, A1BG to tAKR\n",
      "Data columns (total 14 columns):\n",
      " #   Column                Non-Null Count  Dtype \n",
      "---  ------                --------------  ----- \n",
      " 0   transcript_id         19443 non-null  object\n",
      " 1   RNA type              374 non-null    object\n",
      " 2   go_id                 18242 non-null  object\n",
      " 3   Rfams                 386 non-null    object\n",
      " 4   gene_id               19443 non-null  object\n",
      " 5   transcript_name       19443 non-null  object\n",
      " 6   chromosome_name       19443 non-null  object\n",
      " 7   transcript_start      19443 non-null  object\n",
      " 8   transcript_end        19443 non-null  object\n",
      " 9   transcript_length     19443 non-null  object\n",
      " 10  gene_biotype          19443 non-null  object\n",
      " 11  transcript_biotype    19443 non-null  object\n",
      " 12  Transcript sequence   18260 non-null  object\n",
      " 13  disease_associations  8883 non-null   object\n",
      "dtypes: object(14)\n",
      "memory usage: 2.3+ MB\n"
     ]
    }
   ],
   "source": [
    "# MessengerRNA\n",
    "luad_data.MessengerRNA.annotate_genomics(database=rnacentral, index=\"gene_name\",\n",
    "                                columns=['gene_name', 'transcript_id', 'RNA type', 'go_id', 'Rfams'])\n",
    "luad_data.MessengerRNA.annotate_genomics(database=ensembl, index='gene_name',\n",
    "                                columns=['gene_id', 'transcript_id', 'transcript_name', \n",
    "                                         'chromosome_name', 'transcript_start', 'transcript_end', 'transcript_length',\n",
    "                                         'Rfams', 'go_id', 'gene_biotype', 'transcript_biotype'])\n",
    "luad_data.MessengerRNA.annotate_sequences(gencode, index=\"gene_name\", omic=\"MessengerRNA\", \n",
    "                                          agg_sequences=\"longest\", biotypes=[\"protein_coding\"])\n",
    "luad_data.MessengerRNA.annotate_diseases(disgenet, index=\"gene_name\", )\n",
    "luad_data.MessengerRNA.annotations.info()"
   ]
  },
  {
   "cell_type": "code",
   "execution_count": 13,
   "metadata": {},
   "outputs": [
    {
     "name": "stdout",
     "output_type": "stream",
     "text": [
      "<class 'pandas.core.frame.DataFrame'>\n",
      "Index: 154 entries, ABL1 to YWHAZ\n",
      "Data columns (total 7 columns):\n",
      " #   Column                Non-Null Count  Dtype \n",
      "---  ------                --------------  ----- \n",
      " 0   gene_name             154 non-null    object\n",
      " 1   Transcript sequence   150 non-null    object\n",
      " 2   protein_size          150 non-null    object\n",
      " 3   protein_id            150 non-null    object\n",
      " 4   annotation            150 non-null    object\n",
      " 5   go_id                 152 non-null    object\n",
      " 6   disease_associations  132 non-null    object\n",
      "dtypes: object(7)\n",
      "memory usage: 9.6+ KB\n"
     ]
    }
   ],
   "source": [
    "# Protein\n",
    "luad_data.Protein.annotate_sequences(string, index=\"protein_name\")\n",
    "luad_data.Protein.annotate_genomics(string, index=\"protein_name\", \n",
    "                                    columns=['protein_size', 'protein_id', 'annotation'])\n",
    "luad_data.Protein.annotations[\"gene_name\"] = luad_data.Protein.annotations.index.get_level_values(\"protein_name\")\n",
    "luad_data.Protein.annotate_genomics(database=go, index=\"gene_name\", columns=['go_id'])\n",
    "luad_data.Protein.annotate_diseases(malacards, index=\"gene_name\", )\n",
    "luad_data.Protein.annotations.info()"
   ]
  },
  {
   "cell_type": "code",
   "execution_count": 14,
   "metadata": {},
   "outputs": [],
   "source": [
    "# luad_data.LncRNA.annotate_diseases(malacards, index=\"gene_name\", )\n",
    "# luad_data.MicroRNA.annotate_diseases(malacards, index=\"gene_name\", )\n",
    "# luad_data.MessengerRNA.annotate_diseases(malacards, index=\"gene_name\", )\n",
    "# luad_data.Protein.annotate_diseases(malacards, index=\"gene_name\", )"
   ]
  },
  {
   "cell_type": "code",
   "execution_count": 15,
   "metadata": {},
   "outputs": [],
   "source": [
    "luad_data.MessengerRNA.annotate_expressions(database=gtex, index=\"gene_name\")\n",
    "luad_data.LncRNA.annotate_expressions(database=gtex, index=\"gene_id\")\n",
    "luad_data.MicroRNA.annotate_expressions(database=gtex, index=\"gene_name\")\n",
    "# luad_data.Protein.annotate_expressions(database=gtex, index=\"gene_name\")"
   ]
  },
  {
   "cell_type": "code",
   "execution_count": 16,
   "metadata": {
    "scrolled": true
   },
   "outputs": [
    {
     "name": "stdout",
     "output_type": "stream",
     "text": [
      "<class 'pandas.core.frame.DataFrame'>\n",
      "Index: 20472 entries, A1BG to tAKR\n",
      "Data columns (total 14 columns):\n",
      " #   Column                Non-Null Count  Dtype \n",
      "---  ------                --------------  ----- \n",
      " 0   transcript_id         19443 non-null  object\n",
      " 1   RNA type              374 non-null    object\n",
      " 2   go_id                 18242 non-null  object\n",
      " 3   Rfams                 386 non-null    object\n",
      " 4   gene_id               19443 non-null  object\n",
      " 5   transcript_name       19443 non-null  object\n",
      " 6   chromosome_name       19443 non-null  object\n",
      " 7   transcript_start      19443 non-null  object\n",
      " 8   transcript_end        19443 non-null  object\n",
      " 9   transcript_length     19443 non-null  object\n",
      " 10  gene_biotype          19443 non-null  object\n",
      " 11  transcript_biotype    19443 non-null  object\n",
      " 12  Transcript sequence   18260 non-null  object\n",
      " 13  disease_associations  8883 non-null   object\n",
      "dtypes: object(14)\n",
      "memory usage: 3.0+ MB\n",
      "None\n",
      "<class 'pandas.core.frame.DataFrame'>\n",
      "Index: 1870 entries, hsa-let-7a-1 to hsa-mir-99b\n",
      "Data columns (total 16 columns):\n",
      " #   Column                Non-Null Count  Dtype \n",
      "---  ------                --------------  ----- \n",
      " 0   RNAcentral id         1839 non-null   object\n",
      " 1   mirbase id            1839 non-null   object\n",
      " 2   database              1839 non-null   object\n",
      " 3   transcript_id         487 non-null    object\n",
      " 4   RNA type              487 non-null    object\n",
      " 5   go_id                 487 non-null    object\n",
      " 6   Rfams                 487 non-null    object\n",
      " 7   transcript_name       2 non-null      object\n",
      " 8   chromosome_name       2 non-null      object\n",
      " 9   transcript_start      2 non-null      object\n",
      " 10  transcript_end        2 non-null      object\n",
      " 11  transcript_length     2 non-null      object\n",
      " 12  gene_biotype          2 non-null      object\n",
      " 13  transcript_biotype    2 non-null      object\n",
      " 14  disease_associations  934 non-null    object\n",
      " 15  Transcript sequence   1829 non-null   object\n",
      "dtypes: object(16)\n",
      "memory usage: 328.4+ KB\n",
      "None\n",
      "<class 'pandas.core.frame.DataFrame'>\n",
      "Index: 12727 entries, ENSG00000005206 to ENSGR0000270726\n",
      "Data columns (total 19 columns):\n",
      " #   Column                Non-Null Count  Dtype \n",
      "---  ------                --------------  ----- \n",
      " 0   gene_name             11848 non-null  object\n",
      " 1   feature               11840 non-null  object\n",
      " 2   start                 11840 non-null  object\n",
      " 3   end                   11840 non-null  object\n",
      " 4   strand                11840 non-null  object\n",
      " 5   tag                   11840 non-null  object\n",
      " 6   havana_gene           11840 non-null  object\n",
      " 7   transcript_id         11848 non-null  object\n",
      " 8   transcript_name       11848 non-null  object\n",
      " 9   chromosome_name       11848 non-null  object\n",
      " 10  transcript_start      11848 non-null  object\n",
      " 11  transcript_end        11848 non-null  object\n",
      " 12  transcript_length     11848 non-null  object\n",
      " 13  Rfams                 71 non-null     object\n",
      " 14  go_id                 127 non-null    object\n",
      " 15  gene_biotype          11848 non-null  object\n",
      " 16  transcript_biotype    11848 non-null  object\n",
      " 17  disease_associations  13 non-null     object\n",
      " 18  Transcript sequence   11586 non-null  object\n",
      "dtypes: object(19)\n",
      "memory usage: 2.6+ MB\n",
      "None\n",
      "<class 'pandas.core.frame.DataFrame'>\n",
      "Index: 154 entries, ABL1 to YWHAZ\n",
      "Data columns (total 7 columns):\n",
      " #   Column                Non-Null Count  Dtype \n",
      "---  ------                --------------  ----- \n",
      " 0   gene_name             154 non-null    object\n",
      " 1   Transcript sequence   150 non-null    object\n",
      " 2   protein_size          150 non-null    object\n",
      " 3   protein_id            150 non-null    object\n",
      " 4   annotation            150 non-null    object\n",
      " 5   go_id                 152 non-null    object\n",
      " 6   disease_associations  132 non-null    object\n",
      "dtypes: object(7)\n",
      "memory usage: 9.6+ KB\n",
      "None\n"
     ]
    }
   ],
   "source": [
    "LNC = luad_data.LncRNA.get_annotations()\n",
    "MIR = luad_data.MicroRNA.get_annotations()\n",
    "GE = luad_data.MessengerRNA.get_annotations()\n",
    "PRO = luad_data.Protein.get_annotations()\n",
    "print(GE.info())\n",
    "print(MIR.info())\n",
    "print(LNC.info())\n",
    "print(PRO.info())"
   ]
  },
  {
   "cell_type": "code",
   "execution_count": 29,
   "metadata": {},
   "outputs": [],
   "source": [
    "assert not luad_data.LncRNA.annotations[\"Transcript sequence\"].str.contains(\"U\").any()\n",
    "assert not luad_data.MicroRNA.annotations[\"Transcript sequence\"].str.contains(\"U\").any()\n",
    "assert not luad_data.MessengerRNA.annotations[\"Transcript sequence\"].str.contains(\"U\").any()"
   ]
  },
  {
   "cell_type": "code",
   "execution_count": 30,
   "metadata": {},
   "outputs": [],
   "source": [
    "# # # import pickle\n",
    "# with open('moge/data/luad_rna_ppi_data.pickle', 'wb') as file:\n",
    "# #     luad_data = pickle.load(file)\n",
    "#     pickle.dump(luad_data, file)"
   ]
  },
  {
   "cell_type": "markdown",
   "metadata": {},
   "source": [
    "# Build Heterogeneous Network"
   ]
  },
  {
   "cell_type": "code",
   "execution_count": 2,
   "metadata": {},
   "outputs": [],
   "source": [
    "import pickle\n",
    "with open('moge/data/luad_rna_ppi_data.pickle', 'rb') as file:\n",
    "    luad_data = pickle.load(file)\n",
    "#     pickle.dump(luad_data, file)"
   ]
  },
  {
   "cell_type": "code",
   "execution_count": 5,
   "metadata": {},
   "outputs": [],
   "source": [
    "# luad_data.Protein.annotations[\"gene_biotype\"] = \"protein\"\n",
    "# luad_data.Protein.annotations[\"Rfams\"] = luad_data.Protein.annotations[\"annotation\"].str.split(\";\", expand=True)[0]"
   ]
  },
  {
   "cell_type": "code",
   "execution_count": 3,
   "metadata": {},
   "outputs": [
    {
     "name": "stdout",
     "output_type": "stream",
     "text": [
      "MicroRNA  nodes: 1870\n",
      "MessengerRNA  nodes: 20472\n",
      "LncRNA  nodes: 12727\n",
      "Protein  nodes: 154\n",
      "Total nodes: 35071\n",
      "All annotation columns (union): {'transcript_start', 'annotation', 'Rfams', 'gene_biotype', 'transcript_length', 'feature', 'RNAcentral id', 'chromosome_name', 'transcript_end', 'start', 'havana_gene', 'tag', 'disease_associations', 'go_id', 'gene_id', 'transcript_name', 'RNA type', 'end', 'Transcript sequence', 'gene_name', 'protein_size', 'strand', 'mirbase id', 'protein_id', 'transcript_id', 'database', 'transcript_biotype'}\n",
      "Annotation columns: ['go_id', 'disease_associations', 'Transcript sequence', 'omic']\n",
      "INFO: Label go_id is split by delim '\\||;' transformed by MultiLabelBinarizer\n",
      "INFO: Label disease_associations is split by delim '\\||;' transformed by MultiLabelBinarizer\n",
      "INFO: Label omic is split by delim '\\||;' transformed by MultiLabelBinarizer\n"
     ]
    }
   ],
   "source": [
    "from moge.network import HeterogeneousNetwork, MultiplexAttributedNetwork\n",
    "from networkx import Graph, DiGraph\n",
    "\n",
    "# network = HeterogeneousNetwork(multiomics=luad_data,\n",
    "#                                modalities=[\"MicroRNA\", \"MessengerRNA\", \"LncRNA\", \"Protein\"], )\n",
    "network = MultiplexAttributedNetwork(multiomics=luad_data,\n",
    "                                     modalities=[\"MicroRNA\", \"MessengerRNA\", \"LncRNA\", \"Protein\"], \n",
    "                                     layers={\n",
    "                                         (MicroRNA.name(), MessengerRNA.name()): DiGraph,\n",
    "                                         (MicroRNA.name(), LncRNA.name()): DiGraph,\n",
    "                                         (LncRNA.name(), MessengerRNA.name()): DiGraph,\n",
    "                                         (Protein.name(), Protein.name()): Graph,\n",
    "                                     })\n",
    "# network.annotations.groupby(\"omic\").count()"
   ]
  },
  {
   "cell_type": "code",
   "execution_count": 7,
   "metadata": {},
   "outputs": [
    {
     "name": "stdout",
     "output_type": "stream",
     "text": [
      "335989 edges added to self.networks[(MicroRNA, MessengerRNA)]\n",
      "19040 edges added to self.networks[(MicroRNA, LncRNA)]\n",
      "7613 edges added to self.networks[(LncRNA, MessengerRNA)]\n",
      "5412501 edges added to self.networks[(Protein, Protein)]\n"
     ]
    }
   ],
   "source": [
    "network.add_edges(mirtarbase.get_interactions(nodelist=network.node_list, data=True), \n",
    "                  database=mirtarbase.name(), directed=True,\n",
    "                  source=MicroRNA.name(), target=MessengerRNA.name()\n",
    "                 )\n",
    "network.add_edges(lncbase.get_interactions(nodelist=network.node_list, data=True), \n",
    "                  database=lncbase.name(), directed=True,\n",
    "                  source=MicroRNA.name(), target=LncRNA.name()\n",
    "                 )\n",
    "network.add_edges(lncrna2target.get_interactions(nodelist=network.node_list, data=True), \n",
    "                  database=lncrna2target.name(), directed=True,\n",
    "                  source=LncRNA.name(), target=MessengerRNA.name()\n",
    "                 )\n",
    "network.add_edges(string.get_interactions(network.node_list, data=True, inclusive=True), \n",
    "                  database=string.name(), directed=True,\n",
    "                  source=Protein.name(), target=Protein.name()\n",
    "                 )"
   ]
  },
  {
   "cell_type": "code",
   "execution_count": 9,
   "metadata": {},
   "outputs": [
    {
     "data": {
      "text/plain": [
       "19040"
      ]
     },
     "execution_count": 9,
     "metadata": {},
     "output_type": "execute_result"
    }
   ],
   "source": [
    "assert network.networks[('MicroRNA', 'LncRNA')].number_of_edges() > 0"
   ]
  },
  {
   "cell_type": "code",
   "execution_count": 8,
   "metadata": {},
   "outputs": [
    {
     "data": {
      "text/plain": [
       "<35071x35071 sparse matrix of type '<class 'numpy.float64'>'\n",
       "\twith 7610 stored elements in Compressed Sparse Row format>"
      ]
     },
     "execution_count": 8,
     "metadata": {},
     "output_type": "execute_result"
    }
   ],
   "source": [
    "network.get_adjacency_matrix(edge_types=(\"LncRNA\", \"MessengerRNA\"), node_list=None)"
   ]
  },
  {
   "cell_type": "code",
   "execution_count": 47,
   "metadata": {
    "scrolled": true
   },
   "outputs": [
    {
     "data": {
      "text/plain": [
       "0          HMGA2\n",
       "1            APP\n",
       "2         DICER1\n",
       "3        SLC11A2\n",
       "4          PDGFA\n",
       "          ...   \n",
       "5506      MMADHC\n",
       "5507    IRAK1BP1\n",
       "5508      ARMCX2\n",
       "5509       NELFE\n",
       "5510       TAF10\n",
       "Name: 1, Length: 5511, dtype: object"
      ]
     },
     "execution_count": 47,
     "metadata": {},
     "output_type": "execute_result"
    }
   ],
   "source": [
    "sampled_nodes = pd.DataFrame([node for node in nx.algorithms.bfs_beam_edges(network.G, \"hsa-let-7d\", lambda x: 1, width=10)])[1]\n",
    "sampled_nodes"
   ]
  },
  {
   "cell_type": "code",
   "execution_count": 18,
   "metadata": {},
   "outputs": [],
   "source": [
    "with open('moge/data/luad_rna_ppi_multiplex_network.pickle', \"wb\") as file:\n",
    "#     network = pickle.load(file)\n",
    "    pickle.dump(network, file)"
   ]
  },
  {
   "cell_type": "code",
   "execution_count": 23,
   "metadata": {},
   "outputs": [
    {
     "name": "stdout",
     "output_type": "stream",
     "text": [
      "labels_filtered: 6921\n"
     ]
    },
    {
     "name": "stderr",
     "output_type": "stream",
     "text": [
      "/opt/anaconda3/lib/python3.6/site-packages/sklearn/model_selection/_split.py:296: FutureWarning:\n",
      "\n",
      "Setting a random_state has no effect since shuffle is False. This will raise an error in 0.24. You should leave random_state to its default (None), or set shuffle=True.\n",
      "\n"
     ]
    },
    {
     "name": "stdout",
     "output_type": "stream",
     "text": [
      "test nodes 2576 , edges 8636\n",
      "train nodes 12895 , edges 228235\n",
      "removed 107754 edges, and  2931 nodes.\n",
      "('MicroRNA', 'MessengerRNA') layer train_network 12895 228235\n",
      "('MicroRNA', 'MessengerRNA') layer test_network 2576 8636\n",
      "test nodes 439 , edges 405\n",
      "train nodes 2350 , edges 11669\n",
      "removed 7371 edges, and  690 nodes.\n",
      "('MicroRNA', 'LncRNA') layer train_network 2350 11669\n",
      "('MicroRNA', 'LncRNA') layer test_network 439 405\n",
      "test nodes 1005 , edges 22\n",
      "train nodes 5154 , edges 0\n",
      "removed 7613 edges, and  1201 nodes.\n",
      "('LncRNA', 'MessengerRNA') layer train_network 5154 0\n",
      "('LncRNA', 'MessengerRNA') layer test_network 1005 22\n",
      "test nodes 2927 , edges 140162\n",
      "train nodes 14712 , edges 3727804\n",
      "removed 1684697 edges, and  3233 nodes.\n",
      "('Protein', 'Protein') layer train_network 14712 3727804\n",
      "('Protein', 'Protein') layer test_network 2927 140162\n"
     ]
    }
   ],
   "source": [
    "network.split_stratified(stratify_label=\"go_id\", stratify_omic=True, n_splits=6, \n",
    "                         dropna=False, verbose=True)"
   ]
  },
  {
   "cell_type": "markdown",
   "metadata": {},
   "source": [
    "# Visualize Network"
   ]
  },
  {
   "cell_type": "code",
   "execution_count": 53,
   "metadata": {},
   "outputs": [
    {
     "data": {
      "text/plain": [
       "3040"
      ]
     },
     "execution_count": 53,
     "metadata": {},
     "output_type": "execute_result"
    }
   ],
   "source": [
    "nodelist = network.annotations[network.annotations[\"omic\"].str.contains(\"MicroRNA|LncRNA\")].index\n",
    "nodelist = [k for k, v in network.G.subgraph(nodelist).degree() if v > 0 and k in nodelist]\n",
    "len(nodelist)"
   ]
  },
  {
   "cell_type": "code",
   "execution_count": null,
   "metadata": {},
   "outputs": [],
   "source": [
    "graph_viz(network.G, nodelist=nodelist, \n",
    "#           node_symbol=network.annotations.loc[nodelist, \"disease_associations\"], \n",
    "          node_color=network.annotations.loc[nodelist, \"omic\"], \n",
    "          edge_label=\"database\",\n",
    "          iterations=100,\n",
    "          max_edges=3000)"
   ]
  },
  {
   "cell_type": "markdown",
   "metadata": {},
   "source": [
    "# Add Attribute Affinity Positive Edges"
   ]
  },
  {
   "cell_type": "code",
   "execution_count": null,
   "metadata": {
    "scrolled": true
   },
   "outputs": [],
   "source": [
    "affinities_GE = network.add_edges_from_nodes_similarity(modality=\"GE\", node_list=network.nodes[\"GE\"], \n",
    "    similarity_threshold=0.80, dissimilarity_threshold=0.01,\n",
    "    negative_sampling_ratio=5.0, nanmean=True,\n",
    "    features=[\"GO Terms\", \"Disease association\"],\n",
    "    weights=[1, 1],\n",
    "    compute_correlation=False)"
   ]
  },
  {
   "cell_type": "code",
   "execution_count": null,
   "metadata": {
    "scrolled": true
   },
   "outputs": [],
   "source": [
    "affinities_GE = network.add_edges_from_nodes_similarity(modality=\"GE\", node_list=network.nodes[\"GE\"], \n",
    "    similarity_threshold=0.85, dissimilarity_threshold=0.01,\n",
    "    negative_sampling_ratio=5.0, nanmean=False,\n",
    "    features=[\"locus_type\", \"gene_family_id\", \"location\"], \n",
    "    weights=[0.5, 1, 0.5, 1],\n",
    "    compute_correlation=True, tissue_expression=GE_tissue_exp)"
   ]
  },
  {
   "cell_type": "code",
   "execution_count": null,
   "metadata": {
    "scrolled": true
   },
   "outputs": [],
   "source": [
    "affinities_MIR = network.add_edges_from_nodes_similarity(modality=\"MIR\", node_list=network.nodes[\"MIR\"], \n",
    "    similarity_threshold=0.70, dissimilarity_threshold=0.01,\n",
    "    negative_sampling_ratio=5.0, nanmean=True,\n",
    "    features=[\"GO Terms\", \"Disease association\"], \n",
    "    compute_correlation=False)"
   ]
  },
  {
   "cell_type": "code",
   "execution_count": null,
   "metadata": {
    "scrolled": true
   },
   "outputs": [],
   "source": [
    "affinities_MIR = network.add_edges_from_nodes_similarity(modality=\"MIR\", node_list=network.nodes[\"MIR\"], \n",
    "    similarity_threshold=0.70, dissimilarity_threshold=0.01,\n",
    "    negative_sampling_ratio=5.0, nanmean=True,\n",
    "    features=[\"Family\", \"Rfams\"], \n",
    "    compute_correlation=True, tissue_expression=MIR_tissue_exp)"
   ]
  },
  {
   "cell_type": "code",
   "execution_count": null,
   "metadata": {
    "scrolled": true
   },
   "outputs": [],
   "source": [
    "affinities_LNC = network.add_edges_from_nodes_similarity(modality=\"LNC\", node_list=network.nodes[\"LNC\"], \n",
    "    similarity_threshold=0.90, dissimilarity_threshold=0.1,\n",
    "    negative_sampling_ratio=5.0, \n",
    "    nanmean=False,\n",
    "    features=[\"locus_type\", \"Transcript type\", \"tag\", \"Strand\", \"Chromosome\"],\n",
    "    weights=[1, 1, 0.5, 0.5, 1, 1],\n",
    "    compute_correlation=True, tissue_expression=LNC_tissue_exp)"
   ]
  },
  {
   "cell_type": "code",
   "execution_count": null,
   "metadata": {},
   "outputs": [],
   "source": [
    "affinities_LNC = network.add_edges_from_nodes_similarity(modality=\"LNC\", node_list=network.nodes[\"LNC\"], \n",
    "    similarity_threshold=0.70, dissimilarity_threshold=0.01,\n",
    "    negative_sampling_ratio=5.0, nanmean=True,\n",
    "    features=[\"GO Terms\", \"Family\", \"Disease association\"], \n",
    "    compute_correlation=False)"
   ]
  },
  {
   "cell_type": "code",
   "execution_count": null,
   "metadata": {},
   "outputs": [],
   "source": [
    "matrix_heatmap(network.get_adjacency_matrix(edge_types=[\"u\"], node_list=network.nodes[\"GE\"]).todense(),\n",
    "              figsize=(7,7))"
   ]
  },
  {
   "cell_type": "code",
   "execution_count": null,
   "metadata": {},
   "outputs": [],
   "source": [
    "matrix_heatmap(network.get_adjacency_matrix(edge_types=[\"u\"], node_list=network.nodes[\"MIR\"]).todense(),\n",
    "              figsize=(5,5))"
   ]
  },
  {
   "cell_type": "code",
   "execution_count": null,
   "metadata": {},
   "outputs": [],
   "source": [
    "matrix_heatmap(network.get_adjacency_matrix(edge_types=[\"u\"], node_list=network.nodes[\"LNC\"]).todense(),\n",
    "              figsize=(7,7))"
   ]
  },
  {
   "cell_type": "code",
   "execution_count": null,
   "metadata": {},
   "outputs": [],
   "source": [
    "# # IMPORT Affinity Edgelist\n",
    "# network.import_edgelist_file(\n",
    "# #     file=\"moge/data/LMN_future_recall/TRAIN/Interactions_Affinity/lmn_n70_m70_l70-70_TissueExp_GO_Rfams_Disease_Family_GO_affinity.edgelist\", \n",
    "#     file=\"moge/data/LMN_future_recall/TRAIN/Interactions_Only/GE/lmn_train.BioGRID.interactions.edgelist\", \n",
    "#     is_directed=True)\n",
    "\n",
    "# network.import_edgelist_file(\n",
    "#     file=\"moge/data/LMN_future_recall/TRAIN/Interactions_Only/MIR/lmn_train.miRTarBase.interactions.edgelist\", \n",
    "#     is_directed=True)\n",
    "\n",
    "# network.import_edgelist_file(\n",
    "#     file=\"moge/data/LMN_future_recall/TRAIN/Interactions_Only/LNC/lmn_train.lncBase.interactions.edgelist\", \n",
    "#     is_directed=True)\n",
    "\n",
    "# network.import_edgelist_file(\n",
    "#     file=\"moge/data/LMN_future_recall/TRAIN/Interactions_Only/LNC/lmn_train.lncrna2target.interactions.edgelist\", \n",
    "#     is_directed=True)"
   ]
  },
  {
   "cell_type": "code",
   "execution_count": null,
   "metadata": {},
   "outputs": [],
   "source": [
    "# WRITE Affinity Edgelist\n",
    "# nx.write_edgelist(network.get_subgraph([\"MIR\", \"GE\", \"LNC\"], edge_type=\"u\"), \n",
    "#                   \"moge/data/LMN_future_recall/TRAIN/Interactions_Affinity/lmn_n70_m70_l70-70_TissueExp_GO_Rfams_Disease_Family_GO_affinity.edgelist\", \n",
    "#                   data=True)"
   ]
  },
  {
   "cell_type": "markdown",
   "metadata": {},
   "source": [
    "# Add Attribute Affinity NEGATIVE Edges between cross-modals"
   ]
  },
  {
   "cell_type": "code",
   "execution_count": null,
   "metadata": {},
   "outputs": [],
   "source": [
    "u_n_size = 10000\n",
    "network.add_sampled_negative_edges(u_n_size, modalities=[\"GE\", \"MIR\"])\n",
    "network.add_sampled_negative_edges(u_n_size*2, modalities=[\"GE\", \"LNC\"])\n",
    "network.add_sampled_negative_edges(u_n_size, modalities=[\"LNC\", \"MIR\"])"
   ]
  },
  {
   "cell_type": "markdown",
   "metadata": {},
   "source": [
    "# miRTarBase"
   ]
  },
  {
   "cell_type": "code",
   "execution_count": null,
   "metadata": {},
   "outputs": [],
   "source": [
    "mirtarbase_new = luad_data.MIR.get_miRTarBase_miRNA_target_interaction(use_latest=True, data=False, rename_dict=case_relabel)\n",
    "mirtarbase_old = luad_data.MIR.get_miRTarBase_miRNA_target_interaction(use_latest=False, data=False, rename_dict=case_relabel)\n",
    "mirtarbase_diff = list(set(mirtarbase_new) - set(mirtarbase_old))\n",
    "len(mirtarbase_diff)"
   ]
  },
  {
   "cell_type": "code",
   "execution_count": null,
   "metadata": {},
   "outputs": [],
   "source": [
    "# Adds miRNA-target interaction network\n",
    "network.add_directed_edges_from_edgelist(edgelist=luad_data.MIR.get_miRTarBase_miRNA_target_interaction(use_latest=False),\n",
    "#                                                                                                        rename_dict=case_relabel), \n",
    "                                        modalities=[\"MIR\", \"GE\"], correlation_weights=False, threshold=0.20,\n",
    "                                        database=\"miRTarBase\")"
   ]
  },
  {
   "cell_type": "markdown",
   "metadata": {},
   "source": [
    "# StarBase mRNA-RNA"
   ]
  },
  {
   "cell_type": "code",
   "execution_count": null,
   "metadata": {},
   "outputs": [],
   "source": [
    "starbase_new = luad_data.GE.get_starBase_RNA_RNA_interactions(min_expNum=1, data=False)\n",
    "starbase_old = luad_data.GE.get_starBase_RNA_RNA_interactions(min_expNum=2, data=False)\n",
    "starbase_diff = list(set(starbase_new) - set(starbase_old))\n",
    "len(starbase_diff)"
   ]
  },
  {
   "cell_type": "code",
   "execution_count": null,
   "metadata": {},
   "outputs": [],
   "source": [
    "# Adds Gene Regulatory Network edges\n",
    "network.add_directed_edges_from_edgelist(edgelist=luad_data.LNC.get_starBase_lncRNA_RNA_interactions(),\n",
    "                                        modalities=[\"LNC\", \"GE\"], correlation_weights=False, threshold=0.2,\n",
    "                                        database=\"starBase\")"
   ]
  },
  {
   "cell_type": "markdown",
   "metadata": {},
   "source": [
    "# BioGRID"
   ]
  },
  {
   "cell_type": "code",
   "execution_count": null,
   "metadata": {},
   "outputs": [],
   "source": [
    "biogrid_new = luad_data.GE.get_BioGRID_GRN_edgelist(data=False, rename_dict=case_relabel,\n",
    "                biogrid_interactions_file_path='/data/datasets/Bioinformatics_ExternalData/BioGRID/BIOGRID-ALL-3.5.169.tab2.txt')\n",
    "biogrid_old = luad_data.GE.get_BioGRID_GRN_edgelist(data=False, rename_dict=case_relabel,\n",
    "                biogrid_interactions_file_path='/data/datasets/Bioinformatics_ExternalData/BioGRID/BIOGRID-ALL-3.4.162.tab2.txt')\n",
    "biogrid_diff = list(set(biogrid_new) - set(biogrid_old))\n",
    "len(biogrid_diff)"
   ]
  },
  {
   "cell_type": "code",
   "execution_count": null,
   "metadata": {},
   "outputs": [],
   "source": [
    "# Adds Gene Regulatory Network edges\n",
    "network.add_directed_edges_from_edgelist(edgelist=luad_data.GE.get_BioGRID_GRN_edgelist(biogrid_interactions_file_path='/data/datasets/Bioinformatics_ExternalData/BioGRID/BIOGRID-ALL-3.4.162.tab2.txt'),\n",
    "#                                                                                        rename_dict=case_relabel),\n",
    "                                        modalities=[\"GE\", \"GE\"], correlation_weights=False, threshold=0.2,\n",
    "                                        database=\"BioGRID\")"
   ]
  },
  {
   "cell_type": "markdown",
   "metadata": {},
   "source": [
    "# NPInter"
   ]
  },
  {
   "cell_type": "code",
   "execution_count": null,
   "metadata": {},
   "outputs": [],
   "source": [
    "from moge.network.heterogeneous_network import get_rename_dict\n",
    "noncode_rename_dict = pd.Series(luad_data.LNC.noncode_func_df[\"Gene Name\"].values,\n",
    "     index=luad_data.LNC.noncode_func_df[\"NONCODE Gene ID\"].str.split(\".\", expand=True)[0]).to_dict()\n",
    "noncode_rename_dict = {k: noncode_rename_dict[k] for k in noncode_rename_dict if type(noncode_rename_dict[k])!=float}\n",
    "\n",
    "lncbase_rename_dict = get_rename_dict(luad_data.LNC.get_genes_info(), \"Gene ID\")\n",
    "lncbase_rename_dict.update(noncode_rename_dict)"
   ]
  },
  {
   "cell_type": "code",
   "execution_count": null,
   "metadata": {},
   "outputs": [],
   "source": [
    "# lncbase_rename_dict.update(case_relabel)"
   ]
  },
  {
   "cell_type": "code",
   "execution_count": null,
   "metadata": {},
   "outputs": [],
   "source": [
    "npinter_new = luad_data.LNC.get_NPInter_ncRNA_RNA_regulatory_interaction_edgelist(use_latest=True, data=False,\n",
    "                                                                                 rename_dict=lncbase_rename_dict)\n",
    "npinter_old = luad_data.LNC.get_NPInter_ncRNA_RNA_regulatory_interaction_edgelist(use_latest=False, data=False,\n",
    "                                                                                 rename_dict=lncbase_rename_dict)\n",
    "npinter_diff = list(set(npinter_new) - set(npinter_old))\n",
    "len(npinter_diff)"
   ]
  },
  {
   "cell_type": "code",
   "execution_count": null,
   "metadata": {},
   "outputs": [],
   "source": [
    "network.add_directed_edges_from_edgelist(edgelist=luad_data.LNC.get_NPInter_ncRNA_RNA_regulatory_interaction_edgelist(use_latest=False), \n",
    "#                                                                                                                       rename_dict=lncbase_rename_dict),\n",
    "                                         modalities=[\"LNC\", \"GE\"], correlation_weights=False, threshold=0.20,\n",
    "                                        database=\"NPInter\")"
   ]
  },
  {
   "cell_type": "markdown",
   "metadata": {},
   "source": [
    "# lncBase"
   ]
  },
  {
   "cell_type": "code",
   "execution_count": null,
   "metadata": {},
   "outputs": [],
   "source": [
    "lncbase_new = luad_data.LNC.get_lncBase_miRNA_lncRNA_predicted_interactions_edgelist(rename_dict=lncbase_rename_dict,\n",
    "                                                                                     data=False)\n",
    "lncbase_old = luad_data.LNC.get_lncBase_miRNA_lncRNA_interactions_edgelist(rename_dict=lncbase_rename_dict, \n",
    "                                                                           data=False)\n",
    "lncbase_diff = list(set(lncbase_new) - set(lncbase_old))\n",
    "print(len(lncbase_diff))"
   ]
  },
  {
   "cell_type": "code",
   "execution_count": null,
   "metadata": {},
   "outputs": [],
   "source": [
    "# Adds miRNA-lncRNA interaction network\n",
    "# network.add_directed_edges_from_edgelist(edgelist=luad_data.LNC.get_starBase_lncRNA_miRNA_interactions_edgelist(),\n",
    "#                                         )\n",
    "# network.add_directed_edges_from_edgelist(edgelist=luad_data.LNC.get_lncRNome_miRNA_binding_sites_edgelist(),\n",
    "#                                          modalities=[\"LNC\", \"MIR\"], correlation_weights=False, threshold=0.20,\n",
    "#                                         database=\"lncRNome\")\n",
    "\n",
    "network.add_directed_edges_from_edgelist(edgelist=luad_data.LNC.get_lncBase_miRNA_lncRNA_interactions_edgelist(rename_dict=lncbase_rename_dict),\n",
    "                                         modalities=[\"MIR\", \"LNC\"], correlation_weights=False, threshold=0.20,\n",
    "                                        database=\"lncBase\")\n",
    "\n",
    "\n",
    "# network.add_directed_edges_from_edgelist(edgelist=luad_data.LNC.get_LncReg_lncRNA_RNA_regulatory_interactions(),\n",
    "#                                          modalities=[\"LNC\", \"GE\"], correlation_weights=False, threshold=0.20,\n",
    "#                                         database=\"LncReg\")"
   ]
  },
  {
   "cell_type": "markdown",
   "metadata": {},
   "source": [
    "# lncrna2target"
   ]
  },
  {
   "cell_type": "code",
   "execution_count": null,
   "metadata": {},
   "outputs": [],
   "source": [
    "lnc2tar_low = luad_data.LNC.get_lncrna2target_low_throughput_interactions(data=False, rename_dict=lncbase_rename_dict)\n",
    "lnc2tar_high = luad_data.LNC.get_lncrna2target_high_throughput_interactions(data=False, rename_dict=lncbase_rename_dict)\n",
    "lnc2tar_diff = list(set(lnc2tar_high) - set(lnc2tar_low))\n",
    "len(lnc2tar_diff)"
   ]
  },
  {
   "cell_type": "code",
   "execution_count": null,
   "metadata": {},
   "outputs": [],
   "source": [
    "network.add_directed_edges_from_edgelist(edgelist=luad_data.LNC.get_lncrna2target_high_throughput_interactions(rename_dict=lncbase_rename_dict),\n",
    "                                         modalities=[\"LNC\", \"GE\"], correlation_weights=False, threshold=0.20,\n",
    "                                        database=\"lncrna2target\")\n",
    "\n",
    "# network.add_directed_edges_from_edgelist(edgelist=luad_data.LNC.get_lncrna2target_low_throughput_interactions(rename_dict=lncbase_rename_dict),\n",
    "#                                          modalities=[\"LNC\", \"GE\"], correlation_weights=False, threshold=0.20,\n",
    "#                                         database=\"lncrna2target\")\n",
    "\n",
    "# network.add_directed_edges_from_edgelist(edgelist=luad_data.LNC.get_lncRInter_interactions(),\n",
    "#                                          modalities=[\"LNC\", \"GE\"], correlation_weights=False, threshold=0.20,\n",
    "#                                         database=\"lncRInter\")"
   ]
  },
  {
   "cell_type": "code",
   "execution_count": null,
   "metadata": {},
   "outputs": [],
   "source": [
    "npinter_val = {(u,v) for u,v,d in network.G.edges(data=True) if \"database\" in d and d[\"database\"]==\"NPInter\"}\n",
    "len(npinter_val)\n",
    "npinter_train = {(u,v) for u,v,d in network.G.edges(data=True) if \"database\" in d and d[\"database\"]==\"NPInter\"}\n",
    "len(npinter_train)\n",
    "len(lncbase_train & l2t_val)"
   ]
  },
  {
   "cell_type": "markdown",
   "metadata": {},
   "source": [
    "# Filter the node_list"
   ]
  },
  {
   "cell_type": "code",
   "execution_count": null,
   "metadata": {},
   "outputs": [],
   "source": [
    "node_pairs = {(node1, node2) for node1 in network.G.nodes for node2 in network.G.nodes if\\\n",
    "              node1!=node2 and node2.lower()==node1.lower()}\n",
    "len(node_pairs)"
   ]
  },
  {
   "cell_type": "code",
   "execution_count": null,
   "metadata": {},
   "outputs": [],
   "source": [
    "case_relabel = {}\n",
    "for u,v in node_pairs:\n",
    "    if v in network.genes_info.index:\n",
    "        case_relabel[u] = v\n",
    "    elif u in network.genes_info.index:\n",
    "        case_relabel[v] = u\n",
    "len(case_relabel)"
   ]
  },
  {
   "cell_type": "code",
   "execution_count": null,
   "metadata": {},
   "outputs": [],
   "source": [
    "len([node for node in network.G.nodes if node not in network.genes_info.index])"
   ]
  },
  {
   "cell_type": "code",
   "execution_count": null,
   "metadata": {},
   "outputs": [],
   "source": [
    "isolates = list(nx.isolates(network.G))\n",
    "len(isolates)"
   ]
  },
  {
   "cell_type": "code",
   "execution_count": null,
   "metadata": {},
   "outputs": [],
   "source": [
    "network.G.remove_nodes_from(isolates)"
   ]
  },
  {
   "cell_type": "code",
   "execution_count": null,
   "metadata": {},
   "outputs": [],
   "source": [
    "network.nodes[\"MessengerRNA\"] = [node for node in network.nodes[\"MessengerRNA\"] if node in network.G.nodes()]\n",
    "network.nodes[\"LncRNA\"] = [node for node in network.nodes[\"LncRNA\"] if node in network.G.nodes()]\n",
    "network.nodes[\"MicroRNA\"] = [node for node in network.nodes[\"MicroRNA\"] if node in network.G.nodes()]"
   ]
  },
  {
   "cell_type": "code",
   "execution_count": null,
   "metadata": {},
   "outputs": [],
   "source": [
    "network.G.number_of_nodes(), network.G.number_of_edges()"
   ]
  },
  {
   "cell_type": "code",
   "execution_count": null,
   "metadata": {},
   "outputs": [],
   "source": [
    "len(network.node_list)"
   ]
  },
  {
   "cell_type": "code",
   "execution_count": null,
   "metadata": {},
   "outputs": [],
   "source": [
    "# WRITE/READ FULL network\n",
    "import pickle\n",
    "with open('moge/data/LMN_future_recall/TRAIN/Interactions_Only/LMN_lncbase_mirtarbase_biogrid_lncrna2target_openomics.train.pickle', \n",
    "          'wb') as file:\n",
    "    pickle.dump(network, file)\n",
    "#     network = pickle.load(file)"
   ]
  },
  {
   "cell_type": "markdown",
   "metadata": {},
   "source": [
    "# Train test split"
   ]
  },
  {
   "cell_type": "code",
   "execution_count": null,
   "metadata": {},
   "outputs": [],
   "source": [
    "network.split_train_test_nodes(node_list=network.node_list, verbose=True,)"
   ]
  },
  {
   "cell_type": "code",
   "execution_count": null,
   "metadata": {},
   "outputs": [],
   "source": [
    "train_generator = network.get_train_generator()"
   ]
  },
  {
   "cell_type": "code",
   "execution_count": null,
   "metadata": {},
   "outputs": [],
   "source": [
    "test_generator = network.get_test_generator()"
   ]
  },
  {
   "cell_type": "markdown",
   "metadata": {},
   "source": [
    "## Network Info & Visualizations"
   ]
  },
  {
   "cell_type": "code",
   "execution_count": null,
   "metadata": {},
   "outputs": [],
   "source": [
    "print(len(network.G.nodes()))\n",
    "print(len(network.G.edges()))"
   ]
  },
  {
   "cell_type": "code",
   "execution_count": null,
   "metadata": {},
   "outputs": [],
   "source": [
    "csr_un = network.get_adjacency_matrix(edge_types=[\"u_n\"], node_list=network.node_list)\n",
    "csr_u = network.get_adjacency_matrix(edge_types=[\"u\"], node_list=network.node_list)\n",
    "csr_d = network.get_adjacency_matrix(edge_types=[\"d\"], node_list=network.node_list)"
   ]
  },
  {
   "cell_type": "code",
   "execution_count": null,
   "metadata": {},
   "outputs": [],
   "source": [
    "matrix_heatmap(csr_un.toarray())"
   ]
  },
  {
   "cell_type": "code",
   "execution_count": null,
   "metadata": {},
   "outputs": [],
   "source": [
    "matrix_heatmap(csr_u.toarray())"
   ]
  },
  {
   "cell_type": "code",
   "execution_count": null,
   "metadata": {},
   "outputs": [],
   "source": [
    "matrix_heatmap(csr_d.toarray())"
   ]
  }
 ],
 "metadata": {
  "kernelspec": {
   "display_name": "Python 3",
   "language": "python",
   "name": "python3"
  },
  "language_info": {
   "codemirror_mode": {
    "name": "ipython",
    "version": 3
   },
   "file_extension": ".py",
   "mimetype": "text/x-python",
   "name": "python",
   "nbconvert_exporter": "python",
   "pygments_lexer": "ipython3",
   "version": "3.6.10"
  }
 },
 "nbformat": 4,
 "nbformat_minor": 4
}
