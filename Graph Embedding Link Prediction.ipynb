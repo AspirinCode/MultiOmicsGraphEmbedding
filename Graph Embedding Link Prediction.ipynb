{
 "cells": [
  {
   "cell_type": "code",
   "execution_count": 1,
   "metadata": {},
   "outputs": [],
   "source": [
    "# Necessary imports\n",
    "%load_ext autoreload\n",
    "%autoreload 2\\\n",
    "\n",
    "import networkx as nx\n",
    "import numpy as np\n",
    "np.set_printoptions(precision=3)\n",
    "\n",
    "import pandas as pd\n",
    "\n",
    "from TCGAMultiOmics.multiomics import MultiOmicsData\n",
    "\n",
    "from moge.network.heterogeneous_network import HeterogeneousNetwork\n",
    "from moge.visualization.plot_data import matrix_heatmap\n",
    "\n",
    "np.set_printoptions(precision=2)"
   ]
  },
  {
   "cell_type": "markdown",
   "metadata": {},
   "source": [
    "# Heterogeneous Network"
   ]
  },
  {
   "cell_type": "code",
   "execution_count": 2,
   "metadata": {},
   "outputs": [],
   "source": [
    "# READ Edgeslist\n",
    "# network.import_edgelist_file(file=\"moge/data/lncRNA_miRNA_mRNA/miRNA-mRNA_node_similarity_99_50.edgelist\", \n",
    "#                              directed=False)\n",
    "# network.import_edgelist_file(file=\"moge/data/lncRNA_miRNA_mRNA/miRNA-mRNA_regulatory_interactions.edgelist\", \n",
    "#                              directed=True)\n",
    "# network.remove_extra_nodes()"
   ]
  },
  {
   "cell_type": "code",
   "execution_count": 3,
   "metadata": {},
   "outputs": [],
   "source": [
    "# WRITE Edgelist\n",
    "# nx.write_edgelist(network.get_subgraph([\"MIR\", \"GE\"]), \n",
    "#                   \"moge/data/lncRNA_miRNA_mRNA/miRNA-mRNA_network_test_05_val_01_seed_0.edgelist\", \n",
    "#                   data=False)"
   ]
  },
  {
   "cell_type": "code",
   "execution_count": 4,
   "metadata": {},
   "outputs": [],
   "source": [
    "import pickle\n",
    "\n",
    "\n",
    "\n",
    "# READ\n",
    "with open('moge/data/mirtarbase_lnc-mi/lmn_n07_m07_l08_full.pickle', 'rb') as file:\n",
    "    network = pickle.load(file)\n"
   ]
  },
  {
   "cell_type": "markdown",
   "metadata": {},
   "source": [
    "#  Split Network to train test and write to file"
   ]
  },
  {
   "cell_type": "code",
   "execution_count": 6,
   "metadata": {},
   "outputs": [
    {
     "name": "stdout",
     "output_type": "stream",
     "text": [
      "preprocessing...\n",
      "creating true edges...\n",
      "edges in MST: 33830\n",
      "Num WCC:  17913\n",
      "Largest WCC num nodes:  2623\n",
      "Largest WCC num edges:  24398\n",
      "Fraction of train edges with both endpoints in L-WCC:  0.1499165911766779\n",
      "Fraction of test edges with both endpoints in L-WCC:  0.15104220601505983\n",
      "Fraction of val edges with both endpoints in L-WCC:  N/A\n",
      "final checks for disjointness...\n",
      "creating adj_train...\n",
      "Done with train-test split!\n",
      "Num train edges (true, ): ( 383053 , \n",
      "Num test edges (true, ): ( 67597 , \n",
      "Num val edges (true, ): ( 0 , \n",
      "Removed 67597 test, and 0 val, type u edges\n",
      "preprocessing...\n",
      "creating true edges...\n",
      "edges in MST: 21092\n",
      "Num WCC:  13886\n",
      "Largest WCC num nodes:  20937\n",
      "Largest WCC num edges:  543446\n",
      "Fraction of train edges with both endpoints in L-WCC:  0.9999889594665214\n",
      "Fraction of test edges with both endpoints in L-WCC:  1.0\n",
      "Fraction of val edges with both endpoints in L-WCC:  N/A\n",
      "final checks for disjointness...\n",
      "creating adj_train...\n",
      "Done with train-test split!\n",
      "Num train edges (true, ): ( 543452 , \n",
      "Num test edges (true, ): ( 95903 , \n",
      "Num val edges (true, ): ( 0 , \n",
      "Removed 95903 test, and 0 val, type d edges\n",
      "preprocessing...\n",
      "creating true edges...\n",
      "edges in MST: 68248\n",
      "Num WCC:  704\n",
      "Largest WCC num nodes:  20284\n",
      "Largest WCC num edges:  344199\n",
      "Fraction of train edges with both endpoints in L-WCC:  0.4247642746271674\n",
      "Fraction of test edges with both endpoints in L-WCC:  0.41811373672275925\n",
      "Fraction of val edges with both endpoints in L-WCC:  N/A\n",
      "final checks for disjointness...\n",
      "creating adj_train...\n",
      "Done with train-test split!\n",
      "Num train edges (true, ): ( 1899244 , \n",
      "Num test edges (true, ): ( 335160 , \n",
      "Num val edges (true, ): ( 0 , \n",
      "Removed 335160 test, and 0 val, type u_n edges\n"
     ]
    }
   ],
   "source": [
    "from moge.evaluation.utils import split_train_test_edges\n",
    "\n",
    "network_train, val_edges_dict, test_edges_dict = split_train_test_edges(network, network.node_list, \n",
    "                                                          test_frac=.15, val_frac=.0, edge_types=[\"u\", \"d\", \"u_n\"], \n",
    "                                                          seed=0)"
   ]
  },
  {
   "cell_type": "code",
   "execution_count": 7,
   "metadata": {},
   "outputs": [],
   "source": [
    "network_train.remove_extra_nodes()"
   ]
  },
  {
   "cell_type": "code",
   "execution_count": 8,
   "metadata": {},
   "outputs": [
    {
     "data": {
      "text/plain": [
       "20950"
      ]
     },
     "execution_count": 8,
     "metadata": {},
     "output_type": "execute_result"
    }
   ],
   "source": [
    "network_train_d = nx.DiGraph(((source, target, attr) for source, target, attr in network_train.G.edges(data=True) if attr[\"type\"] == \"d\"))\n",
    "network_train_d.number_of_nodes()"
   ]
  },
  {
   "cell_type": "code",
   "execution_count": 9,
   "metadata": {},
   "outputs": [
    {
     "data": {
      "text/plain": [
       "18032"
      ]
     },
     "execution_count": 9,
     "metadata": {},
     "output_type": "execute_result"
    }
   ],
   "source": [
    "network_train_u = nx.Graph(((source, target, attr) for source, target, attr in network_train.G.edges(data=True) if attr[\"type\"] == \"u\"))\n",
    "network_train_u.number_of_nodes()"
   ]
  },
  {
   "cell_type": "code",
   "execution_count": 9,
   "metadata": {},
   "outputs": [],
   "source": [
    "# WRITE Edgelist\n",
    "nx.write_edgelist(network_train_u.subgraph(network_train.node_list), \n",
    "                  \"moge/data/lncRNA_miRNA_mRNA/lmn_network_filtered_undirected.edgelist\", \n",
    "                  data=False)\n",
    "nx.write_edgelist(network_train_d.subgraph(network_train.node_list), \n",
    "                  \"moge/data/lncRNA_miRNA_mRNA/lmn_network_filtered_directed.edgelist\", \n",
    "                  data=False)"
   ]
  },
  {
   "cell_type": "markdown",
   "metadata": {},
   "source": [
    "# Siamese Network Embedding"
   ]
  },
  {
   "cell_type": "code",
   "execution_count": 15,
   "metadata": {},
   "outputs": [
    {
     "name": "stdout",
     "output_type": "stream",
     "text": [
      "Genes info columns: ['locus_type', 'location', 'Family', 'Transcript sequence', 'Disease association', 'Transcript length']\n",
      "Number of nodes without seq removed: 2521\n",
      "num_words: None {'A': 1, 'T': 2, 'G': 3, 'C': 4, 'U': 5}\n",
      "Ed_count: 536508 , Eu_count: 191303 , En_count: 769972\n",
      "Ens_count: 1073016\n"
     ]
    }
   ],
   "source": [
    "from moge.network.data_generator import DataGenerator\n",
    "\n",
    "generator = DataGenerator(network=network, negative_sampling_ratio=2.0,\n",
    "                          maxlen=700, padding='post', truncating=\"post\",\n",
    "                          batch_size=1, \n",
    "                          shuffle=True, seed=0)\n",
    "generator.genes_info = generator.genes_info[generator.genes_info[\"Transcript sequence\"].notna()]"
   ]
  },
  {
   "cell_type": "code",
   "execution_count": 22,
   "metadata": {
    "collapsed": true
   },
   "outputs": [
    {
     "ename": "AssertionError",
     "evalue": "",
     "output_type": "error",
     "traceback": [
      "\u001b[0;31m---------------------------------------------------------------------------\u001b[0m",
      "\u001b[0;31mAssertionError\u001b[0m                            Traceback (most recent call last)",
      "\u001b[0;32m<ipython-input-22-760d77962347>\u001b[0m in \u001b[0;36m<module>\u001b[0;34m\u001b[0m\n\u001b[1;32m      4\u001b[0m                                  max_length=700, truncating=\"post\", verbose=True)\n\u001b[1;32m      5\u001b[0m siamese.import_embedding(\"moge/data/mirtarbase_lnc-mi/embeddings/node_train_512.emb\", \n\u001b[0;32m----> 6\u001b[0;31m                          node_list=generator.node_list)\n\u001b[0m",
      "\u001b[0;32m~/PycharmProjects/MultiOmicsGraphEmbedding/moge/embedding/static_graph_embedding.py\u001b[0m in \u001b[0;36mimport_embedding\u001b[0;34m(self, file, node_list)\u001b[0m\n\u001b[1;32m    138\u001b[0m                     \u001b[0;32mbreak\u001b[0m\u001b[0;34m\u001b[0m\u001b[0m\n\u001b[1;32m    139\u001b[0m                 \u001b[0mvec\u001b[0m \u001b[0;34m=\u001b[0m \u001b[0ml\u001b[0m\u001b[0;34m.\u001b[0m\u001b[0mstrip\u001b[0m\u001b[0;34m(\u001b[0m\u001b[0;34m)\u001b[0m\u001b[0;34m.\u001b[0m\u001b[0msplit\u001b[0m\u001b[0;34m(\u001b[0m\u001b[0;34m' '\u001b[0m\u001b[0;34m)\u001b[0m\u001b[0;34m\u001b[0m\u001b[0m\n\u001b[0;32m--> 140\u001b[0;31m                 \u001b[0;32massert\u001b[0m \u001b[0mlen\u001b[0m\u001b[0;34m(\u001b[0m\u001b[0mvec\u001b[0m\u001b[0;34m)\u001b[0m \u001b[0;34m==\u001b[0m \u001b[0msize\u001b[0m \u001b[0;34m+\u001b[0m \u001b[0;36m1\u001b[0m\u001b[0;34m\u001b[0m\u001b[0m\n\u001b[0m\u001b[1;32m    141\u001b[0m                 \u001b[0mvectors\u001b[0m\u001b[0;34m[\u001b[0m\u001b[0mvec\u001b[0m\u001b[0;34m[\u001b[0m\u001b[0;36m0\u001b[0m\u001b[0;34m]\u001b[0m\u001b[0;34m]\u001b[0m \u001b[0;34m=\u001b[0m \u001b[0;34m[\u001b[0m\u001b[0mfloat\u001b[0m\u001b[0;34m(\u001b[0m\u001b[0mx\u001b[0m\u001b[0;34m)\u001b[0m \u001b[0;32mfor\u001b[0m \u001b[0mx\u001b[0m \u001b[0;32min\u001b[0m \u001b[0mvec\u001b[0m\u001b[0;34m[\u001b[0m\u001b[0;36m1\u001b[0m\u001b[0;34m:\u001b[0m\u001b[0;34m]\u001b[0m\u001b[0;34m]\u001b[0m\u001b[0;34m\u001b[0m\u001b[0m\n\u001b[1;32m    142\u001b[0m             \u001b[0mfin\u001b[0m\u001b[0;34m.\u001b[0m\u001b[0mclose\u001b[0m\u001b[0;34m(\u001b[0m\u001b[0;34m)\u001b[0m\u001b[0;34m\u001b[0m\u001b[0m\n",
      "\u001b[0;31mAssertionError\u001b[0m: "
     ]
    }
   ],
   "source": [
    "from moge.embedding.siamese_graph_embedding import SiameseGraphEmbedding\n",
    "\n",
    "siamese = SiameseGraphEmbedding(d=512, batch_size=4096, lr=0.05, epochs=20, negative_sampling_ratio=5.0,\n",
    "                                 max_length=700, truncating=\"post\", verbose=True)\n",
    "siamese.import_embedding(\"moge/data/mirtarbase_lnc-mi/embeddings/node_train_512.emb\", \n",
    "                         node_list=generator.node_list)"
   ]
  },
  {
   "cell_type": "code",
   "execution_count": 21,
   "metadata": {
    "collapsed": true
   },
   "outputs": [
    {
     "ename": "AssertionError",
     "evalue": "",
     "output_type": "error",
     "traceback": [
      "\u001b[0;31m---------------------------------------------------------------------------\u001b[0m",
      "\u001b[0;31mAssertionError\u001b[0m                            Traceback (most recent call last)",
      "\u001b[0;32m<ipython-input-21-508b3b94eda8>\u001b[0m in \u001b[0;36m<module>\u001b[0;34m\u001b[0m\n\u001b[1;32m      2\u001b[0m \u001b[0mgraph_emb\u001b[0m \u001b[0;34m=\u001b[0m \u001b[0mImportedGraphEmbedding\u001b[0m\u001b[0;34m(\u001b[0m\u001b[0md\u001b[0m\u001b[0;34m=\u001b[0m\u001b[0;36m512\u001b[0m\u001b[0;34m,\u001b[0m \u001b[0mmethod_name\u001b[0m\u001b[0;34m=\u001b[0m\u001b[0;34m\"siamese_switch\"\u001b[0m\u001b[0;34m)\u001b[0m\u001b[0;34m\u001b[0m\u001b[0m\n\u001b[1;32m      3\u001b[0m graph_emb.import_embedding(\"moge/data/mirtarbase_lnc-mi/embeddings/node_train_512.emb\", \n\u001b[0;32m----> 4\u001b[0;31m                            node_list=generator.node_list)\n\u001b[0m\u001b[1;32m      5\u001b[0m \u001b[0membs\u001b[0m \u001b[0;34m=\u001b[0m \u001b[0mgraph_emb\u001b[0m\u001b[0;34m.\u001b[0m\u001b[0m_X\u001b[0m\u001b[0;34m\u001b[0m\u001b[0m\n\u001b[1;32m      6\u001b[0m \u001b[0membs\u001b[0m\u001b[0;34m.\u001b[0m\u001b[0mshape\u001b[0m\u001b[0;34m\u001b[0m\u001b[0m\n",
      "\u001b[0;32m~/PycharmProjects/MultiOmicsGraphEmbedding/moge/embedding/static_graph_embedding.py\u001b[0m in \u001b[0;36mimport_embedding\u001b[0;34m(self, file, node_list)\u001b[0m\n\u001b[1;32m    138\u001b[0m                     \u001b[0;32mbreak\u001b[0m\u001b[0;34m\u001b[0m\u001b[0m\n\u001b[1;32m    139\u001b[0m                 \u001b[0mvec\u001b[0m \u001b[0;34m=\u001b[0m \u001b[0ml\u001b[0m\u001b[0;34m.\u001b[0m\u001b[0mstrip\u001b[0m\u001b[0;34m(\u001b[0m\u001b[0;34m)\u001b[0m\u001b[0;34m.\u001b[0m\u001b[0msplit\u001b[0m\u001b[0;34m(\u001b[0m\u001b[0;34m' '\u001b[0m\u001b[0;34m)\u001b[0m\u001b[0;34m\u001b[0m\u001b[0m\n\u001b[0;32m--> 140\u001b[0;31m                 \u001b[0;32massert\u001b[0m \u001b[0mlen\u001b[0m\u001b[0;34m(\u001b[0m\u001b[0mvec\u001b[0m\u001b[0;34m)\u001b[0m \u001b[0;34m==\u001b[0m \u001b[0msize\u001b[0m \u001b[0;34m+\u001b[0m \u001b[0;36m1\u001b[0m\u001b[0;34m\u001b[0m\u001b[0m\n\u001b[0m\u001b[1;32m    141\u001b[0m                 \u001b[0mvectors\u001b[0m\u001b[0;34m[\u001b[0m\u001b[0mvec\u001b[0m\u001b[0;34m[\u001b[0m\u001b[0;36m0\u001b[0m\u001b[0;34m]\u001b[0m\u001b[0;34m]\u001b[0m \u001b[0;34m=\u001b[0m \u001b[0;34m[\u001b[0m\u001b[0mfloat\u001b[0m\u001b[0;34m(\u001b[0m\u001b[0mx\u001b[0m\u001b[0;34m)\u001b[0m \u001b[0;32mfor\u001b[0m \u001b[0mx\u001b[0m \u001b[0;32min\u001b[0m \u001b[0mvec\u001b[0m\u001b[0;34m[\u001b[0m\u001b[0;36m1\u001b[0m\u001b[0;34m:\u001b[0m\u001b[0;34m]\u001b[0m\u001b[0;34m]\u001b[0m\u001b[0;34m\u001b[0m\u001b[0m\n\u001b[1;32m    142\u001b[0m             \u001b[0mfin\u001b[0m\u001b[0;34m.\u001b[0m\u001b[0mclose\u001b[0m\u001b[0;34m(\u001b[0m\u001b[0;34m)\u001b[0m\u001b[0;34m\u001b[0m\u001b[0m\n",
      "\u001b[0;31mAssertionError\u001b[0m: "
     ]
    }
   ],
   "source": [
    "from moge.embedding.static_graph_embedding import ImportedGraphEmbedding\n",
    "graph_emb = ImportedGraphEmbedding(d=512, method_name=\"siamese_switch\")\n",
    "graph_emb.import_embedding(\"moge/data/mirtarbase_lnc-mi/embeddings/node_train_512.emb\", \n",
    "                           node_list=generator.node_list)\n",
    "embs = graph_emb._X\n",
    "embs.shape"
   ]
  },
  {
   "cell_type": "markdown",
   "metadata": {},
   "source": [
    "# Import different models"
   ]
  },
  {
   "cell_type": "code",
   "execution_count": null,
   "metadata": {},
   "outputs": [],
   "source": [
    "from moge.embedding.static_graph_embedding import ImportedGraphEmbedding\n",
    "\n",
    "line_emb_d = ImportedGraphEmbedding(d=128, method_name=\"LINE\")\n",
    "line_emb_d.import_embedding(\"/home/jonny/PycharmProjects/OpenNE/lmn_filtered_train_line_d.emb\", \n",
    "                          node_list=network.node_list)\n",
    "\n",
    "line_emb_u = ImportedGraphEmbedding(d=128, method_name=\"LINE\")\n",
    "line_emb_u.import_embedding(\"/home/jonny/PycharmProjects/OpenNE/lmn_filtered_train_line_u.emb\", \n",
    "                          node_list=network.node_list)\n",
    "\n",
    "node2vec_emb = ImportedGraphEmbedding(d=128, method_name=\"node2vec\")\n",
    "node2vec_emb.import_embedding(\"/home/jonny/PycharmProjects/OpenNE/vec_all_node2vec.txt\", \n",
    "                          node_list=network.node_list)\n",
    "\n",
    "node_list = list(set(line_emb_d.node_list) & set(line_emb_u.node_list))\n",
    "print(len(node_list))"
   ]
  },
  {
   "cell_type": "code",
   "execution_count": 29,
   "metadata": {},
   "outputs": [],
   "source": [
    "models = []\n",
    "models.append(line_emb_d)\n",
    "models.append(line_emb_u)\n",
    "# models.append(node2vec_emb)\n",
    "# models.append(siamese_emb)"
   ]
  },
  {
   "cell_type": "markdown",
   "metadata": {},
   "source": [
    "# Evaluate Graph Reconstruction"
   ]
  },
  {
   "cell_type": "code",
   "execution_count": 9,
   "metadata": {},
   "outputs": [
    {
     "name": "stdout",
     "output_type": "stream",
     "text": [
      "\n",
      " siamese_graph_embedding\n",
      "Sampling 386720 edges to be evaluated.\n",
      "577.6855184299358 0.9045182015184343\n"
     ]
    }
   ],
   "source": [
    "from moge.evaluation.graph_reconstruction import evaluateStaticGraphReconstruction\n",
    "# Directed edges\n",
    "for model in models:\n",
    "    print(\"\\n\",model.get_method_name())\n",
    "    norm, avg = evaluateStaticGraphReconstruction(network, model, edge_type=\"d\", train_embedding=False,\n",
    "                                                  sample_ratio=1.0, node_list=model.node_list)\n",
    "\n",
    "    print(norm, avg)"
   ]
  },
  {
   "cell_type": "code",
   "execution_count": 10,
   "metadata": {},
   "outputs": [
    {
     "name": "stdout",
     "output_type": "stream",
     "text": [
      "\n",
      " siamese_graph_embedding\n",
      "Sampling 865830 edges to be evaluated.\n",
      "287.0505497323289 0.13390040519234594\n"
     ]
    }
   ],
   "source": [
    "# Undirected edges\n",
    "for model in models:\n",
    "    print(\"\\n\",model.get_method_name())\n",
    "    norm, avg = evaluateStaticGraphReconstruction(network, model, edge_type=\"u\", train_embedding=False,\n",
    "                                                  sample_ratio=1.0, node_list=model.node_list)\n",
    "    print(norm, avg)"
   ]
  },
  {
   "cell_type": "markdown",
   "metadata": {},
   "source": [
    "# Evaluate Link Prediction"
   ]
  },
  {
   "cell_type": "code",
   "execution_count": 28,
   "metadata": {},
   "outputs": [],
   "source": [
    "models[0]._node_num = G.number_of_nodes()"
   ]
  },
  {
   "cell_type": "code",
   "execution_count": 29,
   "metadata": {},
   "outputs": [
    {
     "name": "stdout",
     "output_type": "stream",
     "text": [
      "\n",
      " hope_gsvd\n",
      "test_edges: 73373\n"
     ]
    },
    {
     "ename": "IndexError",
     "evalue": "index 19855 is out of bounds for axis 0 with size 19825",
     "output_type": "error",
     "traceback": [
      "\u001b[0;31m---------------------------------------------------------------------------\u001b[0m",
      "\u001b[0;31mIndexError\u001b[0m                                Traceback (most recent call last)",
      "\u001b[0;32m<ipython-input-29-0660f1f97ea0>\u001b[0m in \u001b[0;36m<module>\u001b[0;34m()\u001b[0m\n\u001b[1;32m      7\u001b[0m     scores = evaluate_top_k_link_prediction(top_k=1000000, network=network_train, node_list=network.node_list,\n\u001b[1;32m      8\u001b[0m                                  \u001b[0mgraph_emb\u001b[0m\u001b[0;34m=\u001b[0m\u001b[0mmodel\u001b[0m\u001b[0;34m,\u001b[0m \u001b[0msaved_test_edges\u001b[0m\u001b[0;34m=\u001b[0m\u001b[0mtest_edges_dict\u001b[0m\u001b[0;34m[\u001b[0m\u001b[0;34m\"d\"\u001b[0m\u001b[0;34m]\u001b[0m\u001b[0;34m,\u001b[0m \u001b[0mtrain_embedding\u001b[0m\u001b[0;34m=\u001b[0m\u001b[0;32mFalse\u001b[0m\u001b[0;34m,\u001b[0m\u001b[0;34m\u001b[0m\u001b[0m\n\u001b[0;32m----> 9\u001b[0;31m                                  edge_type=\"d\", test_frac=0.001, seed=0)\n\u001b[0m\u001b[1;32m     10\u001b[0m     \u001b[0mprint\u001b[0m\u001b[0;34m(\u001b[0m\u001b[0mscores\u001b[0m\u001b[0;34m)\u001b[0m\u001b[0;34m\u001b[0m\u001b[0m\n",
      "\u001b[0;32m~/PycharmProjects/MultiOmicsGraphEmbedding/moge/evaluation/link_prediction.py\u001b[0m in \u001b[0;36mevaluate_top_k_link_prediction\u001b[0;34m(top_k, network, graph_emb, edge_type, node_list, saved_test_edges, test_frac, val_frac, seed, train_embedding, metrics)\u001b[0m\n\u001b[1;32m     58\u001b[0m \u001b[0;34m\u001b[0m\u001b[0m\n\u001b[1;32m     59\u001b[0m     \u001b[0;31m# evaluate precision/recall at top k predictions, excluding training edges\u001b[0m\u001b[0;34m\u001b[0m\u001b[0;34m\u001b[0m\u001b[0m\n\u001b[0;32m---> 60\u001b[0;31m     \u001b[0mtop_k_pred_edges_ind\u001b[0m \u001b[0;34m=\u001b[0m \u001b[0mselect_top_k_link_predictions\u001b[0m\u001b[0;34m(\u001b[0m\u001b[0mtop_k\u001b[0m\u001b[0;34m,\u001b[0m \u001b[0mestimated_adj\u001b[0m\u001b[0;34m,\u001b[0m \u001b[0mtrain_edges\u001b[0m\u001b[0;34m)\u001b[0m\u001b[0;34m\u001b[0m\u001b[0m\n\u001b[0m\u001b[1;32m     61\u001b[0m     \u001b[0;31m# print(\"top k predicted edges:\", estimated_adj[top_k_pred_edges_ind[0]])\u001b[0m\u001b[0;34m\u001b[0m\u001b[0;34m\u001b[0m\u001b[0m\n\u001b[1;32m     62\u001b[0m     \u001b[0mtop_k_pred_edges\u001b[0m \u001b[0;34m=\u001b[0m \u001b[0;34m[\u001b[0m\u001b[0mx\u001b[0m \u001b[0;32mfor\u001b[0m \u001b[0mx\u001b[0m \u001b[0;32min\u001b[0m \u001b[0mzip\u001b[0m\u001b[0;34m(\u001b[0m\u001b[0;34m*\u001b[0m\u001b[0mtop_k_pred_edges_ind\u001b[0m\u001b[0;34m)\u001b[0m\u001b[0;34m]\u001b[0m\u001b[0;34m\u001b[0m\u001b[0m\n",
      "\u001b[0;32m~/PycharmProjects/MultiOmicsGraphEmbedding/moge/evaluation/link_prediction.py\u001b[0m in \u001b[0;36mselect_top_k_link_predictions\u001b[0;34m(top_k, estimated_adj, excluding_edges, smallest)\u001b[0m\n\u001b[1;32m     70\u001b[0m \u001b[0;32mdef\u001b[0m \u001b[0mselect_top_k_link_predictions\u001b[0m\u001b[0;34m(\u001b[0m\u001b[0mtop_k\u001b[0m\u001b[0;34m,\u001b[0m \u001b[0mestimated_adj\u001b[0m\u001b[0;34m,\u001b[0m \u001b[0mexcluding_edges\u001b[0m\u001b[0;34m,\u001b[0m \u001b[0msmallest\u001b[0m\u001b[0;34m=\u001b[0m\u001b[0;32mFalse\u001b[0m\u001b[0;34m)\u001b[0m\u001b[0;34m:\u001b[0m\u001b[0;34m\u001b[0m\u001b[0m\n\u001b[1;32m     71\u001b[0m     \u001b[0;31m# Exclude edges already seen at training time\u001b[0m\u001b[0;34m\u001b[0m\u001b[0;34m\u001b[0m\u001b[0m\n\u001b[0;32m---> 72\u001b[0;31m     \u001b[0mestimated_adj\u001b[0m\u001b[0;34m[\u001b[0m\u001b[0mexcluding_edges\u001b[0m\u001b[0;34m[\u001b[0m\u001b[0;34m:\u001b[0m\u001b[0;34m,\u001b[0m \u001b[0;36m0\u001b[0m\u001b[0;34m]\u001b[0m\u001b[0;34m,\u001b[0m \u001b[0mexcluding_edges\u001b[0m\u001b[0;34m[\u001b[0m\u001b[0;34m:\u001b[0m\u001b[0;34m,\u001b[0m \u001b[0;36m1\u001b[0m\u001b[0;34m]\u001b[0m\u001b[0;34m]\u001b[0m \u001b[0;34m=\u001b[0m \u001b[0;36m0\u001b[0m\u001b[0;34m\u001b[0m\u001b[0m\n\u001b[0m\u001b[1;32m     73\u001b[0m \u001b[0;34m\u001b[0m\u001b[0m\n\u001b[1;32m     74\u001b[0m     \u001b[0mtop_k_indices\u001b[0m \u001b[0;34m=\u001b[0m \u001b[0mlargest_indices\u001b[0m\u001b[0;34m(\u001b[0m\u001b[0mestimated_adj\u001b[0m\u001b[0;34m,\u001b[0m \u001b[0mtop_k\u001b[0m\u001b[0;34m,\u001b[0m \u001b[0msmallest\u001b[0m\u001b[0;34m=\u001b[0m\u001b[0msmallest\u001b[0m\u001b[0;34m)\u001b[0m\u001b[0;34m\u001b[0m\u001b[0m\n",
      "\u001b[0;31mIndexError\u001b[0m: index 19855 is out of bounds for axis 0 with size 19825"
     ]
    }
   ],
   "source": [
    "from moge.evaluation.link_prediction import evaluate_top_k_link_prediction, evaluate_random_link_prediction\n",
    "from moge.embedding.dual_graph_embedding import SourceTargetGraphEmbedding\n",
    "\n",
    "# Directed edges\n",
    "for model in models:\n",
    "    print(\"\\n\",model.get_method_name())\n",
    "    scores = evaluate_top_k_link_prediction(top_k=10000, network=network_train, node_list=network.node_list,\n",
    "                                 graph_emb=model, saved_test_edges=test_edges_dict[\"d\"], train_embedding=False,\n",
    "                                 edge_type=\"d\", test_frac=0.001, seed=0)\n",
    "    print(scores)"
   ]
  },
  {
   "cell_type": "code",
   "execution_count": null,
   "metadata": {},
   "outputs": [],
   "source": [
    "from moge.evaluation.link_prediction import evaluate_top_k_link_prediction, evaluate_random_link_prediction\n",
    "\n",
    "# Undirected edges\n",
    "for model in models:\n",
    "    print(\"\\n\",model.get_method_name())\n",
    "    scores = evaluate_top_k_link_prediction(top_k=10000, network=network_train, node_list=model.node_list,\n",
    "                             graph_emb=model, saved_test_edges=test_edges_dict[\"u\"], train_embedding=False,\n",
    "                             edge_type=\"u\", test_frac=0.001, seed=0)\n",
    "    print(scores)"
   ]
  },
  {
   "cell_type": "code",
   "execution_count": 17,
   "metadata": {},
   "outputs": [
    {
     "name": "stdout",
     "output_type": "stream",
     "text": [
      "{'precision': 0.0, 'recall': 0.0}\n",
      "{'precision': 0.0, 'recall': 0.0}\n"
     ]
    }
   ],
   "source": [
    "# Evaluate random directed edge prediction\n",
    "print(evaluate_random_link_prediction(top_k=10000, network=network, edge_type=\"d\", node_list=siamese_emb.node_list,\n",
    "                                      test_frac=0.001, seed=0))\n",
    "print(evaluate_random_link_prediction(top_k=100000, network=network, edge_type=\"u\", node_list=siamese_emb.node_list,\n",
    "                                      test_frac=0.00001, seed=0))"
   ]
  },
  {
   "cell_type": "markdown",
   "metadata": {},
   "source": [
    "# Import GEM Graph Embedding Methods"
   ]
  },
  {
   "cell_type": "code",
   "execution_count": 16,
   "metadata": {},
   "outputs": [
    {
     "name": "stderr",
     "output_type": "stream",
     "text": [
      "Using TensorFlow backend.\n"
     ]
    }
   ],
   "source": [
    "from gem.utils import graph_util, plot_util\n",
    "from gem.evaluation import visualize_embedding as viz\n",
    "from gem.evaluation import evaluate_graph_reconstruction as gr\n",
    "from gem.evaluation.metrics import getPrecisionReport\n",
    "from gem.evaluation.evaluate_link_prediction import evaluateStaticLinkPrediction\n",
    "\n",
    "from time import time\n",
    "\n",
    "from gem.embedding.gf       import GraphFactorization\n",
    "from gem.embedding.hope     import HOPE\n",
    "from gem.embedding.lap      import LaplacianEigenmaps\n",
    "from gem.embedding.lle      import LocallyLinearEmbedding\n",
    "from gem.embedding.node2vec import node2vec\n",
    "from gem.embedding.sdne     import SDNE"
   ]
  },
  {
   "cell_type": "code",
   "execution_count": 17,
   "metadata": {},
   "outputs": [],
   "source": [
    "models = []\n",
    "# You can comment out the methods you don't want to run\n",
    "models.append(HOPE(d=256, beta=0.1))\n",
    "# models.append(GraphFactorization(d=256, max_iter=100, eta=1*10**-4, regu=1.0))\n",
    "# models.append(LaplacianEigenmaps(d=200))\n",
    "# models.append(LocallyLinearEmbedding(d=256))\n",
    "models.append(node2vec(d=256, max_iter=10, walk_len=5, num_walks=10, con_size=10, ret_p=1, inout_p=1))\n",
    "models.append(SDNE(d=256, beta=5, alpha=1e-5, nu1=1e-6, nu2=1e-6, \n",
    "                   K=3, n_units=[50, 15,], rho=0.3, \n",
    "                   n_iter=100, xeta=0.01, n_batch=500))\n",
    "\n",
    "# models.append(DualGraphEmbedding(d=100, reg=1.0, lr=0.05, iterations=100))\n",
    "                   "
   ]
  },
  {
   "cell_type": "code",
   "execution_count": 18,
   "metadata": {},
   "outputs": [],
   "source": [
    "G = nx.convert_node_labels_to_integers(network_train_d)"
   ]
  },
  {
   "cell_type": "code",
   "execution_count": 19,
   "metadata": {},
   "outputs": [
    {
     "name": "stdout",
     "output_type": "stream",
     "text": [
      "Num nodes: 19825, num edges: 418147\n",
      "\n",
      " hope_gsvd hope_gsvd_256\n",
      "SVD error (low rank): 64.040331\n",
      "hope_gsvd:\n",
      "\tTraining time: 141.285477\n",
      "could not run <gem.embedding.hope.HOPE object at 0x7fec90b2b588> SubGraph Views are readonly. Mutations not allowed\n",
      "\n",
      " node2vec_rw node2vec_rw_256\n",
      "[Errno 2] No such file or directory: 'gem/c_exe/node2vec': 'gem/c_exe/node2vec'\n",
      "could not run <gem.embedding.node2vec.node2vec object at 0x7fece5ad3c88> ./node2vec not found. Please compile snap, place node2vec in the path and grant executable permission\n"
     ]
    }
   ],
   "source": [
    "print ('Num nodes: %d, num edges: %d' % (G.number_of_nodes(), G.number_of_edges()))\n",
    "for embedding in models:\n",
    "    try:\n",
    "        print(\"\\n\", embedding.get_method_name(), embedding.get_method_summary())\n",
    "        t1 = time()\n",
    "        \n",
    "    #     Learn embedding - accepts a networkx graph or file with edge list\n",
    "        embedding.learn_embedding(graph=G, edge_f=None, is_weighted=False, no_python=True)\n",
    "        print (embedding._method_name+':\\n\\tTraining time: %f' % (time() - t1))\n",
    "\n",
    "#         Y = embedding.get_embedding()\n",
    "\n",
    "#         # Evaluate on graph reconstruction\n",
    "#         MAP, prec_curv, err, err_baseline = gr.evaluateStaticGraphReconstruction(G, embedding, Y, \n",
    "#                                                                                  sample_ratio_e=0.0001, k=500000)\n",
    "#         print (\"Graph Reconstruction. MAP:\", MAP)\n",
    "\n",
    "        \n",
    "        # Evaluate on link prediction\n",
    "        MAP, prec_curv = evaluateStaticLinkPrediction(G, embedding,\n",
    "                                     train_ratio=0.8,\n",
    "                                     is_undirected=False)\n",
    "        print (\"Link Prediction. MAP:\", MAP)\n",
    "        print (embedding._method_name+':\\n\\tTraining time: %f' % (time() - t1))\n",
    "        \n",
    "        # Visualize\n",
    "#         viz.plot_embedding2D(embedding.get_embedding(), di_graph=G, node_colors=None)\n",
    "#         plt.show()\n",
    "    except Exception as e:\n",
    "        print(\"could not run\", embedding, e)"
   ]
  },
  {
   "cell_type": "code",
   "execution_count": 22,
   "metadata": {},
   "outputs": [],
   "source": [
    "hope = models[0]"
   ]
  },
  {
   "cell_type": "markdown",
   "metadata": {},
   "source": [
    "# Node Visualization"
   ]
  },
  {
   "cell_type": "code",
   "execution_count": null,
   "metadata": {},
   "outputs": [],
   "source": [
    "from sklearn.manifold import TSNE\n",
    "\n",
    "model = TSNE(n_components=2)\n",
    "node_pos = model.fit_transform(models[0].get_embedding())\n",
    "pos = {}\n",
    "for i in range(len(G.nodes())):\n",
    "    pos[i] = node_pos[i, :]\n",
    "nx.draw_networkx(G, pos, width=0.1, node_size=300, arrows=False,\n",
    "                             alpha=0.8, font_size=12)"
   ]
  },
  {
   "cell_type": "code",
   "execution_count": null,
   "metadata": {},
   "outputs": [],
   "source": []
  }
 ],
 "metadata": {
  "kernelspec": {
   "display_name": "Python 3",
   "language": "python",
   "name": "python3"
  },
  "language_info": {
   "codemirror_mode": {
    "name": "ipython",
    "version": 3
   },
   "file_extension": ".py",
   "mimetype": "text/x-python",
   "name": "python",
   "nbconvert_exporter": "python",
   "pygments_lexer": "ipython3",
   "version": "3.6.6"
  }
 },
 "nbformat": 4,
 "nbformat_minor": 1
}
