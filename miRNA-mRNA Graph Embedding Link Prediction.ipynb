{
 "cells": [
  {
   "cell_type": "code",
   "execution_count": 1,
   "metadata": {},
   "outputs": [],
   "source": [
    "# Necessary imports\n",
    "%load_ext autoreload\n",
    "%autoreload 2\\\n",
    "\n",
    "import networkx as nx\n",
    "import numpy as np\n",
    "np.set_printoptions(precision=3)\n",
    "\n",
    "import pandas as pd\n",
    "\n",
    "from TCGAMultiOmics.multiomics import MultiOmicsData\n",
    "\n",
    "from moge.network.heterogeneous_network import HeterogeneousNetwork\n",
    "from moge.network.omics_distance import compute_expression_correlations, compute_annotation_similarity\n",
    "from moge.visualization.plot import plot_matrix"
   ]
  },
  {
   "cell_type": "markdown",
   "metadata": {},
   "source": [
    "# Heterogeneous Network"
   ]
  },
  {
   "cell_type": "code",
   "execution_count": 2,
   "metadata": {},
   "outputs": [],
   "source": [
    "# READ Edgeslist\n",
    "# network.import_edgelist_file(file=\"moge/data/lncRNA_miRNA_mRNA/miRNA-mRNA_node_similarity_99_50.edgelist\", \n",
    "#                              directed=False)\n",
    "# network.import_edgelist_file(file=\"moge/data/lncRNA_miRNA_mRNA/miRNA-mRNA_regulatory_interactions.edgelist\", \n",
    "#                              directed=True)\n",
    "# network.remove_extra_nodes()"
   ]
  },
  {
   "cell_type": "code",
   "execution_count": 3,
   "metadata": {},
   "outputs": [],
   "source": [
    "# WRITE Edgelist\n",
    "# nx.write_edgelist(network.get_subgraph([\"MIR\", \"GE\"]), \n",
    "#                   \"moge/data/lncRNA_miRNA_mRNA/miRNA-mRNA_node_similarity_99_50.edgelist\", \n",
    "#                   data=True)\n",
    "\n",
    "# nx.write_edgelist(network.get_subgraph([\"MIR\", \"GE\"]), \n",
    "#                   \"moge/data/lncRNA_miRNA_mRNA/miRNA-mRNA_regulatory_interactions.edgelist\", \n",
    "#                   data=True)"
   ]
  },
  {
   "cell_type": "code",
   "execution_count": 4,
   "metadata": {},
   "outputs": [],
   "source": [
    "import pickle\n",
    "\n",
    "# with open('moge/data/lncRNA_miRNA_mRNA/miRNA-mRNA_network.pickle', 'wb') as file:\n",
    "#     pickle.dump(network, file)\n",
    "\n",
    "with open('moge/data/lncRNA_miRNA_mRNA/miRNA-mRNA_network.pickle', 'rb') as file:\n",
    "    network = pickle.load(file)\n",
    "#     network.remove_extra_nodes()\n",
    "    network.node_list = network.all_nodes"
   ]
  },
  {
   "cell_type": "code",
   "execution_count": 5,
   "metadata": {},
   "outputs": [],
   "source": [
    "node_list = network.node_list"
   ]
  },
  {
   "cell_type": "markdown",
   "metadata": {},
   "source": [
    "#  Split Network to train test and write to file"
   ]
  },
  {
   "cell_type": "code",
   "execution_count": 46,
   "metadata": {},
   "outputs": [
    {
     "name": "stdout",
     "output_type": "stream",
     "text": [
      "preprocessing...\n",
      "creating true edges...\n",
      "edges in MST: 18383\n",
      "Num WCC:  3790\n",
      "Largest WCC num nodes:  18365\n",
      "Largest WCC num edges:  354795\n",
      "Fraction of train edges with both endpoints in L-WCC:  1.0\n",
      "Fraction of test edges with both endpoints in L-WCC:  N/A\n",
      "Fraction of val edges with both endpoints in L-WCC:  N/A\n",
      "final checks for disjointness...\n",
      "creating adj_train...\n",
      "Done with train-test split!\n",
      "Num train edges (true, ): ( 354795 , \n",
      "Num test edges (true, ): ( 0 , \n",
      "Num val edges (true, ): ( 0 , \n"
     ]
    }
   ],
   "source": [
    "from moge.evaluation.utils import mask_test_edges\n",
    "adj_train, train_edges, \\\n",
    "val_edges, test_edges = mask_test_edges(network.get_adjacency_matrix(edge_type='d', node_list=node_list), \n",
    "                                                 is_directed=True,\n",
    "                                                 test_frac=.1, val_frac=.05,\n",
    "                                                 prevent_disconnect=True, verbose=True)"
   ]
  },
  {
   "cell_type": "code",
   "execution_count": 6,
   "metadata": {},
   "outputs": [],
   "source": [
    "from moge.evaluation.utils import split_train_test_network\n",
    "\n",
    "network_train, val_edges_dict, test_edges_dict = split_train_test_network(network, node_list, \n",
    "                                                          test_frac=.05, val_frac=.01, edge_type=[\"u\", \"d\"], \n",
    "                                                          seed=0)"
   ]
  },
  {
   "cell_type": "code",
   "execution_count": 7,
   "metadata": {},
   "outputs": [
    {
     "name": "stdout",
     "output_type": "stream",
     "text": [
      "edges:  375524\n"
     ]
    }
   ],
   "source": [
    "print(\"edges: \", network_train.get_subgraph(modalities=[\"MIR\", \"GE\"]).number_of_edges())"
   ]
  },
  {
   "cell_type": "code",
   "execution_count": 8,
   "metadata": {},
   "outputs": [
    {
     "name": "stdout",
     "output_type": "stream",
     "text": [
      "edges:  375524\n"
     ]
    }
   ],
   "source": [
    "print(\"edges: \", network.get_subgraph(modalities=[\"MIR\", \"GE\"]).number_of_edges())"
   ]
  },
  {
   "cell_type": "code",
   "execution_count": 14,
   "metadata": {},
   "outputs": [
    {
     "data": {
      "text/plain": [
       "22337"
      ]
     },
     "execution_count": 14,
     "metadata": {},
     "output_type": "execute_result"
    }
   ],
   "source": [
    "network_train.G.number_of_nodes()"
   ]
  },
  {
   "cell_type": "markdown",
   "metadata": {},
   "source": [
    "# Add Correlation edges"
   ]
  },
  {
   "cell_type": "code",
   "execution_count": null,
   "metadata": {},
   "outputs": [],
   "source": [
    "mir_ge_corr = network.compute_multiomics_correlations(modalities=[\"MIR\", \"GE\"])"
   ]
  },
  {
   "cell_type": "markdown",
   "metadata": {},
   "source": [
    "## Network Info & Visualizations"
   ]
  },
  {
   "cell_type": "code",
   "execution_count": 23,
   "metadata": {},
   "outputs": [
    {
     "name": "stdout",
     "output_type": "stream",
     "text": [
      "isolated nodes: 1988 , out of total nodes: 22342\n",
      "edges:  12171466\n"
     ]
    }
   ],
   "source": [
    "print(\"isolated nodes:\", len(nx.isolates(network.get_subgraph(modalities=[\"MIR\", \"GE\"]))),\n",
    "      \", out of total nodes:\", network.all_nodes.__len__())\n",
    "print(\"edges: \", network.get_subgraph(modalities=[\"MIR\", \"GE\"]).number_of_edges())"
   ]
  },
  {
   "cell_type": "code",
   "execution_count": null,
   "metadata": {},
   "outputs": [],
   "source": [
    "print(len(network.G.nodes()))\n",
    "print(len(network.G.edges()))\n",
    "# print(luad_data.LNC.get_genes_list())"
   ]
  },
  {
   "cell_type": "code",
   "execution_count": 40,
   "metadata": {
    "collapsed": true
   },
   "outputs": [
    {
     "data": {
      "image/png": "[encoded data removed]",
      "text/plain": [
       "<Figure size 1080x1080 with 2 Axes>"
      ]
     },
     "metadata": {},
     "output_type": "display_data"
    }
   ],
   "source": [
    "# Scatter plot of original graph adjacency matrix\n",
    "plt.figure(figsize=(15, 15))\n",
    "plt.imshow(graph_emb.get_reconstructed_adj(edge_type=\"u\"), interpolation='none', cmap=plt.cm.gray)\n",
    "plt.colorbar()\n",
    "plt.show()"
   ]
  },
  {
   "cell_type": "markdown",
   "metadata": {},
   "source": [
    "# Training Source Target Graph Embedding"
   ]
  },
  {
   "cell_type": "code",
   "execution_count": 92,
   "metadata": {
    "scrolled": true
   },
   "outputs": [],
   "source": [
    "import tensorflow as tf\n",
    "tf.reset_default_graph()\n",
    "sess.close()\n",
    "sess = tf.InteractiveSession()"
   ]
  },
  {
   "cell_type": "code",
   "execution_count": 93,
   "metadata": {},
   "outputs": [],
   "source": [
    "with tf.name_scope('inputs'):\n",
    "    E_i_ = tf.sparse_placeholder(tf.float32, name=\"E_i_\")\n",
    "    is_directed = tf.placeholder(tf.bool, name=\"is_directed\")\n",
    "    i = tf.Variable(int, name=\"i\", trainable=False)\n",
    "\n",
    "\n",
    "emb_s = tf.Variable(initial_value=tf.random_uniform([len(network.all_nodes), 64], -1, 1),\n",
    "                         validate_shape=True, dtype=tf.float32,\n",
    "                         name=\"emb_s\", trainable=True)\n",
    "\n",
    "emb_t = tf.Variable(initial_value=tf.random_uniform([len(network.all_nodes), 64], -1, 1),\n",
    "                         validate_shape=True, dtype=tf.float32,\n",
    "                         name=\"emb_s\", trainable=True)\n",
    "\n",
    "emb_c = tf.concat([emb_s, emb_t], axis=1, name=\"emb_concat\")\n",
    "\n",
    "# 1st order (directed proximity)\n",
    "p_1 = tf.sigmoid(tf.matmul(tf.slice(emb_s, [i, 0], [1, emb_s.get_shape()[1]]),\n",
    "                           emb_t,\n",
    "                           transpose_b=True, name=\"p_1_inner_prod\"), name=\"p_1\")\n",
    "# print(\"E_i_:\", E_i_)\n",
    "# print(\"p_1:\", p_1)\n",
    "# print(\"tf.sparse_tensor_dense_matmul(E_i_, tf.log(p_1)):\", tf.sparse_tensor_dense_matmul(E_i_, tf.transpose(tf.log(p_1)), ))\n",
    "\n",
    "loss_f1 = tf.reduce_sum(-tf.sparse_tensor_dense_matmul(E_i_, tf.transpose(tf.log(p_1))), name=\"loss_f1\")\n",
    "\n",
    "# 2nd order proximity\n",
    "p_2_exps = tf.matmul(tf.slice(emb_c, [i, 0], [1, emb_c.get_shape()[1]], name=\"p_2_exps_i\"),\n",
    "                    emb_c,\n",
    "                    transpose_b=True) # dim (1, n_nodes)\n",
    "p_2 = tf.nn.softmax(p_2_exps - tf.reduce_max(p_2_exps, axis=1),\n",
    "                             axis=1, name=\"p_2_softmax\")\n",
    "# print(\"p_2:\", p_2)\n",
    "# print(\"tf.sparse_tensor_dense_matmul(E_i_, tf.log(p_2)):\", tf.sparse_tensor_dense_matmul(E_i_, tf.transpose(tf.log(p_2))))\n",
    "loss_f2 = tf.reduce_sum(-tf.sparse_tensor_dense_matmul(E_i_, tf.transpose(tf.log(p_2))), name=\"loss_f2\")\n",
    "\n",
    "loss = tf.cond(is_directed, true_fn=lambda: loss_f1, false_fn=lambda: loss_f2)\n",
    "\n",
    "# Add the loss value as a scalar to summary.\n",
    "tf.summary.scalar('loss', loss)\n",
    "# tf.summary.scalar(\"E_i_.dense_shape\", E_i_.dense_shape)\n",
    "merged = tf.summary.merge_all()\n",
    "\n",
    "# Initialize variables\n",
    "init_op = tf.global_variables_initializer()\n",
    "\n",
    "# SGD Optimizer\n",
    "optimizer = tf.train.GradientDescentOptimizer(0.1)\\\n",
    "    .minimize(loss, var_list=[emb_s, emb_t])\n",
    "\n",
    "sess.run(init_op)"
   ]
  },
  {
   "cell_type": "code",
   "execution_count": 83,
   "metadata": {},
   "outputs": [],
   "source": [
    "def convert_sparse_matrix_to_sparse_tensor(X):\n",
    "    coo = X.tocoo()\n",
    "    indices = np.mat([coo.row, coo.col]).transpose()\n",
    "    return indices, coo.data, coo.shape\n"
   ]
  },
  {
   "cell_type": "code",
   "execution_count": 17,
   "metadata": {},
   "outputs": [],
   "source": [
    "adj = network.get_regulatory_edges_adjacency()"
   ]
  },
  {
   "cell_type": "code",
   "execution_count": 58,
   "metadata": {},
   "outputs": [],
   "source": [
    "Ed_rows, Ed_cols = adj.nonzero()\n",
    "Ed_random_idx = list(np.unique(Ed_rows))"
   ]
  },
  {
   "cell_type": "code",
   "execution_count": 94,
   "metadata": {},
   "outputs": [
    {
     "data": {
      "text/plain": [
       "{<tensorflow.python.framework.sparse_tensor.SparseTensor at 0x7fcdc32aa828>: (matrix([[    0,  1871],\n",
       "          [    0,  1886],\n",
       "          [    0,  1894],\n",
       "          ...,\n",
       "          [    0, 22136],\n",
       "          [    0, 22141],\n",
       "          [    0, 22151]], dtype=int32),\n",
       "  array([0.49, 0.59, 1.  , ..., 0.57, 1.  , 1.  ]),\n",
       "  (1, 22154)),\n",
       " <tf.Tensor 'inputs/is_directed:0' shape=<unknown> dtype=bool>: True,\n",
       " <tf.Variable 'inputs/i:0' shape=() dtype=int32_ref>: 3}"
      ]
     },
     "execution_count": 94,
     "metadata": {},
     "output_type": "execute_result"
    }
   ],
   "source": [
    "idx=3\n",
    "Ed_i_sparse = convert_sparse_matrix_to_sparse_tensor(adj[idx, :])\n",
    "feed_dict = {E_i_: Ed_i_sparse, is_directed: True, i: idx}\n",
    "feed_dict"
   ]
  },
  {
   "cell_type": "code",
   "execution_count": 95,
   "metadata": {},
   "outputs": [],
   "source": [
    "sparse_matmul_1 = tf.sparse_tensor_dense_matmul(E_i_, tf.transpose(tf.log(p_1)))"
   ]
  },
  {
   "cell_type": "code",
   "execution_count": 96,
   "metadata": {},
   "outputs": [
    {
     "name": "stdout",
     "output_type": "stream",
     "text": [
      "1493.6848 (1, 22154) (1, 22154) (1, 1)\n"
     ]
    }
   ],
   "source": [
    "_, summary, loss_val, a1, a2, a3 = sess.run([optimizer, merged, loss, p_1, p_2, sparse_matmul_1], feed_dict=feed_dict)\n",
    "print(loss_val, a1.shape, a2.shape, a3.shape)"
   ]
  },
  {
   "cell_type": "markdown",
   "metadata": {},
   "source": [
    "# Training SourceTargetGraphEmbedding"
   ]
  },
  {
   "cell_type": "code",
   "execution_count": 57,
   "metadata": {
    "scrolled": true
   },
   "outputs": [
    {
     "ename": "KeyboardInterrupt",
     "evalue": "",
     "output_type": "error",
     "traceback": [
      "\u001b[0;31m---------------------------------------------------------------------------\u001b[0m",
      "\u001b[0;31mKeyboardInterrupt\u001b[0m                         Traceback (most recent call last)",
      "\u001b[0;32m<ipython-input-57-ae1d5de7a1a6>\u001b[0m in \u001b[0;36m<module>\u001b[0;34m()\u001b[0m\n\u001b[1;32m      2\u001b[0m \u001b[0;34m\u001b[0m\u001b[0m\n\u001b[1;32m      3\u001b[0m \u001b[0mgraph_emb\u001b[0m \u001b[0;34m=\u001b[0m \u001b[0mSiameseGraphEmbedding\u001b[0m\u001b[0;34m(\u001b[0m\u001b[0md\u001b[0m\u001b[0;34m=\u001b[0m\u001b[0;36m64\u001b[0m\u001b[0;34m,\u001b[0m \u001b[0mlr\u001b[0m\u001b[0;34m=\u001b[0m\u001b[0;36m0.1\u001b[0m\u001b[0;34m,\u001b[0m \u001b[0mEd_Eu_ratio\u001b[0m\u001b[0;34m=\u001b[0m\u001b[0;36m0.1\u001b[0m\u001b[0;34m,\u001b[0m \u001b[0mepochs\u001b[0m\u001b[0;34m=\u001b[0m\u001b[0;36m50\u001b[0m\u001b[0;34m,\u001b[0m \u001b[0mbatch_size\u001b[0m\u001b[0;34m=\u001b[0m\u001b[0;36m5000\u001b[0m\u001b[0;34m)\u001b[0m\u001b[0;34m\u001b[0m\u001b[0m\n\u001b[0;32m----> 4\u001b[0;31m \u001b[0mgraph_emb\u001b[0m\u001b[0;34m.\u001b[0m\u001b[0mlearn_embedding\u001b[0m\u001b[0;34m(\u001b[0m\u001b[0mnetwork\u001b[0m\u001b[0;34m,\u001b[0m \u001b[0mseed\u001b[0m\u001b[0;34m=\u001b[0m\u001b[0;36m0\u001b[0m\u001b[0;34m)\u001b[0m\u001b[0;34m\u001b[0m\u001b[0m\n\u001b[0m",
      "\u001b[0;32m~/PycharmProjects/MultiOmicsGraphEmbedding/moge/embedding/siamese_dual_embedding.py\u001b[0m in \u001b[0;36mlearn_embedding\u001b[0;34m(self, network, edge_f, get_training_data, is_weighted, no_python, seed)\u001b[0m\n\u001b[1;32m     38\u001b[0m         \u001b[0mself\u001b[0m\u001b[0;34m.\u001b[0m\u001b[0mall_nodes\u001b[0m \u001b[0;34m=\u001b[0m \u001b[0mnetwork\u001b[0m\u001b[0;34m.\u001b[0m\u001b[0mall_nodes\u001b[0m\u001b[0;34m\u001b[0m\u001b[0m\n\u001b[1;32m     39\u001b[0m \u001b[0;34m\u001b[0m\u001b[0m\n\u001b[0;32m---> 40\u001b[0;31m         \u001b[0madj_undirected\u001b[0m \u001b[0;34m=\u001b[0m \u001b[0mnetwork\u001b[0m\u001b[0;34m.\u001b[0m\u001b[0mget_adjacency_matrix\u001b[0m\u001b[0;34m(\u001b[0m\u001b[0medge_type\u001b[0m\u001b[0;34m=\u001b[0m\u001b[0;34m\"u\"\u001b[0m\u001b[0;34m,\u001b[0m \u001b[0mget_training_data\u001b[0m\u001b[0;34m=\u001b[0m\u001b[0mget_training_data\u001b[0m\u001b[0;34m)\u001b[0m\u001b[0;34m\u001b[0m\u001b[0m\n\u001b[0m\u001b[1;32m     41\u001b[0m         \u001b[0madj_directed\u001b[0m \u001b[0;34m=\u001b[0m \u001b[0mnetwork\u001b[0m\u001b[0;34m.\u001b[0m\u001b[0mget_adjacency_matrix\u001b[0m\u001b[0;34m(\u001b[0m\u001b[0medge_type\u001b[0m\u001b[0;34m=\u001b[0m\u001b[0;34m'd'\u001b[0m\u001b[0;34m,\u001b[0m \u001b[0mget_training_data\u001b[0m\u001b[0;34m=\u001b[0m\u001b[0mget_training_data\u001b[0m\u001b[0;34m)\u001b[0m\u001b[0;34m\u001b[0m\u001b[0m\n\u001b[1;32m     42\u001b[0m \u001b[0;34m\u001b[0m\u001b[0m\n",
      "\u001b[0;32m~/PycharmProjects/MultiOmicsGraphEmbedding/moge/network/heterogeneous_network.py\u001b[0m in \u001b[0;36mget_adjacency_matrix\u001b[0;34m(self, edge_type, node_list, get_training_data)\u001b[0m\n\u001b[1;32m     67\u001b[0m \u001b[0;34m\u001b[0m\u001b[0m\n\u001b[1;32m     68\u001b[0m         \u001b[0;32mif\u001b[0m \u001b[0;34m'u'\u001b[0m \u001b[0;32min\u001b[0m \u001b[0medge_type\u001b[0m\u001b[0;34m:\u001b[0m\u001b[0;34m\u001b[0m\u001b[0m\n\u001b[0;32m---> 69\u001b[0;31m             \u001b[0mundirected_edge_list\u001b[0m \u001b[0;34m=\u001b[0m \u001b[0;34m[\u001b[0m\u001b[0;34m(\u001b[0m\u001b[0mv\u001b[0m\u001b[0;34m,\u001b[0m \u001b[0mu\u001b[0m\u001b[0;34m,\u001b[0m \u001b[0md\u001b[0m\u001b[0;34m)\u001b[0m \u001b[0;32mfor\u001b[0m \u001b[0mu\u001b[0m\u001b[0;34m,\u001b[0m \u001b[0mv\u001b[0m\u001b[0;34m,\u001b[0m \u001b[0md\u001b[0m \u001b[0;32min\u001b[0m \u001b[0medge_list\u001b[0m \u001b[0;32mif\u001b[0m \u001b[0md\u001b[0m\u001b[0;34m[\u001b[0m\u001b[0;34m'type'\u001b[0m\u001b[0;34m]\u001b[0m \u001b[0;34m==\u001b[0m \u001b[0;34m'u'\u001b[0m\u001b[0;34m]\u001b[0m\u001b[0;34m\u001b[0m\u001b[0m\n\u001b[0m\u001b[1;32m     70\u001b[0m             \u001b[0medge_list\u001b[0m\u001b[0;34m.\u001b[0m\u001b[0mextend\u001b[0m\u001b[0;34m(\u001b[0m\u001b[0mundirected_edge_list\u001b[0m\u001b[0;34m)\u001b[0m\u001b[0;34m\u001b[0m\u001b[0m\n\u001b[1;32m     71\u001b[0m \u001b[0;34m\u001b[0m\u001b[0m\n",
      "\u001b[0;32m~/PycharmProjects/MultiOmicsGraphEmbedding/moge/network/heterogeneous_network.py\u001b[0m in \u001b[0;36m<listcomp>\u001b[0;34m(.0)\u001b[0m\n\u001b[1;32m     67\u001b[0m \u001b[0;34m\u001b[0m\u001b[0m\n\u001b[1;32m     68\u001b[0m         \u001b[0;32mif\u001b[0m \u001b[0;34m'u'\u001b[0m \u001b[0;32min\u001b[0m \u001b[0medge_type\u001b[0m\u001b[0;34m:\u001b[0m\u001b[0;34m\u001b[0m\u001b[0m\n\u001b[0;32m---> 69\u001b[0;31m             \u001b[0mundirected_edge_list\u001b[0m \u001b[0;34m=\u001b[0m \u001b[0;34m[\u001b[0m\u001b[0;34m(\u001b[0m\u001b[0mv\u001b[0m\u001b[0;34m,\u001b[0m \u001b[0mu\u001b[0m\u001b[0;34m,\u001b[0m \u001b[0md\u001b[0m\u001b[0;34m)\u001b[0m \u001b[0;32mfor\u001b[0m \u001b[0mu\u001b[0m\u001b[0;34m,\u001b[0m \u001b[0mv\u001b[0m\u001b[0;34m,\u001b[0m \u001b[0md\u001b[0m \u001b[0;32min\u001b[0m \u001b[0medge_list\u001b[0m \u001b[0;32mif\u001b[0m \u001b[0md\u001b[0m\u001b[0;34m[\u001b[0m\u001b[0;34m'type'\u001b[0m\u001b[0;34m]\u001b[0m \u001b[0;34m==\u001b[0m \u001b[0;34m'u'\u001b[0m\u001b[0;34m]\u001b[0m\u001b[0;34m\u001b[0m\u001b[0m\n\u001b[0m\u001b[1;32m     70\u001b[0m             \u001b[0medge_list\u001b[0m\u001b[0;34m.\u001b[0m\u001b[0mextend\u001b[0m\u001b[0;34m(\u001b[0m\u001b[0mundirected_edge_list\u001b[0m\u001b[0;34m)\u001b[0m\u001b[0;34m\u001b[0m\u001b[0m\n\u001b[1;32m     71\u001b[0m \u001b[0;34m\u001b[0m\u001b[0m\n",
      "\u001b[0;31mKeyboardInterrupt\u001b[0m: "
     ]
    }
   ],
   "source": [
    "from moge.embedding.siamese_dual_embedding import SiameseGraphEmbedding\n",
    "\n",
    "graph_emb = SiameseGraphEmbedding(d=64, lr=0.1, Ed_Eu_ratio=0.1, epochs=5, batch_size=5000)\n",
    "graph_emb.learn_embedding(network, seed=0)\n"
   ]
  },
  {
   "cell_type": "code",
   "execution_count": 11,
   "metadata": {},
   "outputs": [],
   "source": [
    "graph_emb.import_embedding(\"/home/jonny_admin/PycharmProjects/MultiOmicsGraphEmbedding/moge/data/lncRNA_miRNA_mRNA/miRNA-mRNA_source_target_embeddings_128.embeddings\",\n",
    "                          node_list=network.all_nodes)\n",
    "# graph_emb.save_embeddings(\"miRNA-mRNA_source_target_embeddings_128.embeddings\")"
   ]
  },
  {
   "cell_type": "code",
   "execution_count": 47,
   "metadata": {},
   "outputs": [],
   "source": [
    "adj = graph_emb.get_reconstructed_adj(edge_type='d')"
   ]
  },
  {
   "cell_type": "code",
   "execution_count": 49,
   "metadata": {},
   "outputs": [
    {
     "data": {
      "text/plain": [
       "array([1.   , 1.   , 1.   , ..., 0.999, 0.999, 0.999], dtype=float32)"
      ]
     },
     "execution_count": 49,
     "metadata": {},
     "output_type": "execute_result"
    }
   ],
   "source": [
    "from moge.evaluation.link_prediction import largest_indices, select_top_k_link_predictions\n",
    "adj[select_top_k_link_predictions(100000, adj, train_edges)]"
   ]
  },
  {
   "cell_type": "code",
   "execution_count": 53,
   "metadata": {},
   "outputs": [
    {
     "data": {
      "image/png": "[encoded data removed]",
      "text/plain": [
       "<Figure size 720x720 with 2 Axes>"
      ]
     },
     "metadata": {},
     "output_type": "display_data"
    }
   ],
   "source": [
    "plot_matrix(graph_emb.get_reconstructed_adj(edge_type='u'), colorbar=True)\n",
    "# plot_matrix(adj, colorbar=True)"
   ]
  },
  {
   "cell_type": "markdown",
   "metadata": {},
   "source": [
    "# Import different models"
   ]
  },
  {
   "cell_type": "code",
   "execution_count": 21,
   "metadata": {},
   "outputs": [],
   "source": [
    "from moge.embedding.static_graph_embedding import ImportedGraphEmbedding\n",
    "\n",
    "line_emb = ImportedGraphEmbedding(d=128, method_name=\"LINE\")\n",
    "line_emb.import_embedding(\"/home/jonny_admin/PycharmProjects/OpenNE/miRNA-mRNA_LINE.txt\", \n",
    "                          node_list=network.all_nodes)\n",
    "\n",
    "# node2vec_emb = ImportedGraphEmbedding(d=128, method_name=\"node2vec\")\n",
    "# node2vec_emb.import_embedding(\"/home/jonny_admin/PycharmProjects/OpenNE/vec_all_node2vec.txt\", \n",
    "#                           node_list=network.all_nodes)\n",
    "\n",
    "# node_list = list(set(line_emb.node_list) & set(node2vec_emb.node_list))"
   ]
  },
  {
   "cell_type": "code",
   "execution_count": 9,
   "metadata": {},
   "outputs": [],
   "source": [
    "models = []\n",
    "models.append(graph_emb)\n",
    "# models.append(line_emb)\n",
    "# models.append(node2vec_emb)"
   ]
  },
  {
   "cell_type": "code",
   "execution_count": 23,
   "metadata": {},
   "outputs": [],
   "source": [
    "from gem.embedding.gf       import GraphFactorization\n",
    "from gem.embedding.hope     import HOPE\n",
    "from gem.embedding.lap      import LaplacianEigenmaps\n",
    "from gem.embedding.lle      import LocallyLinearEmbedding\n",
    "from gem.embedding.node2vec import node2vec\n",
    "from gem.embedding.sdne     import SDNE\n",
    "\n",
    "# You can comment out the methods you don't want to run\n",
    "# models.append(HOPE(d=100, beta=0.1))\n",
    "models.append(GraphFactorization(d=128, max_iter=100, eta=1*10**-4, regu=1.0))\n",
    "# models.append(LaplacianEigenmaps(d=200))\n",
    "models.append(LocallyLinearEmbedding(d=128))\n",
    "models.append(node2vec(d=128, max_iter=10, walk_len=5, num_walks=10, con_size=10, ret_p=1, inout_p=1))\n",
    "# models.append(SDNE(d=200, beta=5, alpha=1e-5, nu1=1e-6, nu2=1e-6, \n",
    "#                    K=3, n_units=[50, 15,], rho=0.3, \n",
    "#                    n_iter=100, xeta=0.01, n_batch=500))\n",
    "\n",
    "# models.append(DualGraphEmbedding(d=100, reg=1.0, lr=0.05, iterations=100))\n",
    "                   "
   ]
  },
  {
   "cell_type": "markdown",
   "metadata": {},
   "source": [
    "# Evaluate Graph Reconstruction"
   ]
  },
  {
   "cell_type": "code",
   "execution_count": 11,
   "metadata": {},
   "outputs": [
    {
     "name": "stdout",
     "output_type": "stream",
     "text": [
      "22154\n"
     ]
    }
   ],
   "source": [
    "# node_list = list(set(line_emb.node_list) & set(graph_emb.node_list))\n",
    "node_list = network.node_list\n",
    "print(len(node_list))"
   ]
  },
  {
   "cell_type": "code",
   "execution_count": 12,
   "metadata": {},
   "outputs": [
    {
     "name": "stdout",
     "output_type": "stream",
     "text": [
      "\n",
      " source_target_graph_embedding\n",
      "Sampling 354795 edges to be evaluated.\n"
     ]
    },
    {
     "ename": "AttributeError",
     "evalue": "'SubDiGraph' object has no attribute 'node_list'",
     "output_type": "error",
     "traceback": [
      "\u001b[0;31m---------------------------------------------------------------------------\u001b[0m",
      "\u001b[0;31mAttributeError\u001b[0m                            Traceback (most recent call last)",
      "\u001b[0;32m<ipython-input-12-4c0e20d4d47f>\u001b[0m in \u001b[0;36m<module>\u001b[0;34m()\u001b[0m\n\u001b[1;32m      4\u001b[0m     \u001b[0mprint\u001b[0m\u001b[0;34m(\u001b[0m\u001b[0;34m\"\\n\"\u001b[0m\u001b[0;34m,\u001b[0m\u001b[0mmodel\u001b[0m\u001b[0;34m.\u001b[0m\u001b[0mget_method_name\u001b[0m\u001b[0;34m(\u001b[0m\u001b[0;34m)\u001b[0m\u001b[0;34m)\u001b[0m\u001b[0;34m\u001b[0m\u001b[0m\n\u001b[1;32m      5\u001b[0m     norm, avg = evaluateStaticGraphReconstruction(network, model, edge_type=\"d\", sample_ratio=1.0, \n\u001b[0;32m----> 6\u001b[0;31m                                              node_list=node_list)\n\u001b[0m\u001b[1;32m      7\u001b[0m \u001b[0;34m\u001b[0m\u001b[0m\n\u001b[1;32m      8\u001b[0m     \u001b[0mprint\u001b[0m\u001b[0;34m(\u001b[0m\u001b[0mnorm\u001b[0m\u001b[0;34m,\u001b[0m \u001b[0mavg\u001b[0m\u001b[0;34m)\u001b[0m\u001b[0;34m\u001b[0m\u001b[0m\n",
      "\u001b[0;32m~/PycharmProjects/MultiOmicsGraphEmbedding/moge/evaluation/graph_reconstruction.py\u001b[0m in \u001b[0;36mevaluateStaticGraphReconstruction\u001b[0;34m(network, graph_emb, edge_type, modalities, node_list, sample_ratio, seed)\u001b[0m\n\u001b[1;32m     31\u001b[0m \u001b[0;34m\u001b[0m\u001b[0m\n\u001b[1;32m     32\u001b[0m     \u001b[0;32mif\u001b[0m \u001b[0;34m~\u001b[0m\u001b[0mhasattr\u001b[0m\u001b[0;34m(\u001b[0m\u001b[0mgraph_emb\u001b[0m\u001b[0;34m,\u001b[0m \u001b[0;34m\"_X\"\u001b[0m\u001b[0;34m)\u001b[0m\u001b[0;34m:\u001b[0m \u001b[0;31m# If graph embedding isn't trained\u001b[0m\u001b[0;34m\u001b[0m\u001b[0m\n\u001b[0;32m---> 33\u001b[0;31m         \u001b[0mgraph_emb\u001b[0m\u001b[0;34m.\u001b[0m\u001b[0mlearn_embedding\u001b[0m\u001b[0;34m(\u001b[0m\u001b[0mnetwork\u001b[0m\u001b[0;34m.\u001b[0m\u001b[0mG\u001b[0m\u001b[0;34m)\u001b[0m\u001b[0;34m\u001b[0m\u001b[0m\n\u001b[0m\u001b[1;32m     34\u001b[0m \u001b[0;34m\u001b[0m\u001b[0m\n\u001b[1;32m     35\u001b[0m     \u001b[0mestimated_edges\u001b[0m \u001b[0;34m=\u001b[0m \u001b[0mgraph_emb\u001b[0m\u001b[0;34m.\u001b[0m\u001b[0mget_reconstructed_adj\u001b[0m\u001b[0;34m(\u001b[0m\u001b[0medge_type\u001b[0m\u001b[0;34m=\u001b[0m\u001b[0medge_type\u001b[0m\u001b[0;34m)\u001b[0m\u001b[0;34m[\u001b[0m\u001b[0meval_edge_rows\u001b[0m\u001b[0;34m,\u001b[0m \u001b[0meval_edge_cols\u001b[0m\u001b[0;34m]\u001b[0m\u001b[0;34m\u001b[0m\u001b[0m\n",
      "\u001b[0;32m~/PycharmProjects/MultiOmicsGraphEmbedding/moge/embedding/dual_graph_embedding.py\u001b[0m in \u001b[0;36mlearn_embedding\u001b[0;34m(self, network, edge_f, is_weighted, no_python, seed)\u001b[0m\n\u001b[1;32m     38\u001b[0m     def learn_embedding(self, network:HeterogeneousNetwork, edge_f=None,\n\u001b[1;32m     39\u001b[0m                         is_weighted=False, no_python=False, seed=0):\n\u001b[0;32m---> 40\u001b[0;31m         \u001b[0mself\u001b[0m\u001b[0;34m.\u001b[0m\u001b[0mn_nodes\u001b[0m \u001b[0;34m=\u001b[0m \u001b[0mlen\u001b[0m\u001b[0;34m(\u001b[0m\u001b[0mnetwork\u001b[0m\u001b[0;34m.\u001b[0m\u001b[0mnode_list\u001b[0m\u001b[0;34m)\u001b[0m\u001b[0;34m\u001b[0m\u001b[0m\n\u001b[0m\u001b[1;32m     41\u001b[0m         \u001b[0mself\u001b[0m\u001b[0;34m.\u001b[0m\u001b[0mnode_list\u001b[0m \u001b[0;34m=\u001b[0m \u001b[0mnetwork\u001b[0m\u001b[0;34m.\u001b[0m\u001b[0mnode_list\u001b[0m\u001b[0;34m\u001b[0m\u001b[0m\n\u001b[1;32m     42\u001b[0m \u001b[0;34m\u001b[0m\u001b[0m\n",
      "\u001b[0;31mAttributeError\u001b[0m: 'SubDiGraph' object has no attribute 'node_list'"
     ]
    }
   ],
   "source": [
    "from moge.evaluation.graph_reconstruction import evaluateStaticGraphReconstruction\n",
    "# Directed edges\n",
    "for model in models:\n",
    "    print(\"\\n\",model.get_method_name())\n",
    "    norm, avg = evaluateStaticGraphReconstruction(network, model, edge_type=\"d\", sample_ratio=1.0, \n",
    "                                             node_list=node_list)\n",
    "\n",
    "    print(norm, avg)"
   ]
  },
  {
   "cell_type": "code",
   "execution_count": 105,
   "metadata": {
    "collapsed": true
   },
   "outputs": [
    {
     "name": "stdout",
     "output_type": "stream",
     "text": [
      "\n",
      " source_target_graph_embedding\n",
      "Sampling 355150 edges to be evaluated.\n",
      "312.87635394572385 0.41637715777956286\n",
      "\n",
      " LINE\n",
      "Sampling 355150 edges to be evaluated.\n",
      "218.32465358288118 0.13672804522245333\n",
      "\n",
      " node2vec\n",
      "Sampling 355150 edges to be evaluated.\n"
     ]
    },
    {
     "ename": "IndexError",
     "evalue": "index 18765 is out of bounds for axis 0 with size 18755",
     "output_type": "error",
     "traceback": [
      "\u001b[0;31m---------------------------------------------------------------------------\u001b[0m",
      "\u001b[0;31mIndexError\u001b[0m                                Traceback (most recent call last)",
      "\u001b[0;32m<ipython-input-105-d2cd6b0d32c0>\u001b[0m in \u001b[0;36m<module>\u001b[0;34m()\u001b[0m\n\u001b[1;32m      3\u001b[0m     \u001b[0mprint\u001b[0m\u001b[0;34m(\u001b[0m\u001b[0;34m\"\\n\"\u001b[0m\u001b[0;34m,\u001b[0m\u001b[0mmodel\u001b[0m\u001b[0;34m.\u001b[0m\u001b[0mget_method_name\u001b[0m\u001b[0;34m(\u001b[0m\u001b[0;34m)\u001b[0m\u001b[0;34m)\u001b[0m\u001b[0;34m\u001b[0m\u001b[0m\n\u001b[1;32m      4\u001b[0m     norm, avg = evaluateStaticGraphReconstruction(network, model, edge_type=\"d\", sample_ratio=1.0, \n\u001b[0;32m----> 5\u001b[0;31m                                              node_list=node_list)\n\u001b[0m\u001b[1;32m      6\u001b[0m     \u001b[0mprint\u001b[0m\u001b[0;34m(\u001b[0m\u001b[0mnorm\u001b[0m\u001b[0;34m,\u001b[0m \u001b[0mavg\u001b[0m\u001b[0;34m)\u001b[0m\u001b[0;34m\u001b[0m\u001b[0m\n",
      "\u001b[0;32m~/PycharmProjects/MultiOmicsGraphEmbedding/moge/evaluation/graph_reconstruction.py\u001b[0m in \u001b[0;36mevaluateStaticGraphReconstruction\u001b[0;34m(network, graph_emb, edge_type, modalities, node_list, sample_ratio)\u001b[0m\n\u001b[1;32m     32\u001b[0m \u001b[0;34m\u001b[0m\u001b[0m\n\u001b[1;32m     33\u001b[0m     \u001b[0mtrue_edges\u001b[0m \u001b[0;34m=\u001b[0m \u001b[0mtrue_adj_matrix\u001b[0m\u001b[0;34m[\u001b[0m\u001b[0meval_edge_rows\u001b[0m\u001b[0;34m,\u001b[0m \u001b[0meval_edge_cols\u001b[0m\u001b[0;34m]\u001b[0m\u001b[0;34m\u001b[0m\u001b[0m\n\u001b[0;32m---> 34\u001b[0;31m     \u001b[0mestimated_edges\u001b[0m \u001b[0;34m=\u001b[0m \u001b[0mgraph_emb\u001b[0m\u001b[0;34m.\u001b[0m\u001b[0mget_reconstructed_adj\u001b[0m\u001b[0;34m(\u001b[0m\u001b[0medge_type\u001b[0m\u001b[0;34m=\u001b[0m\u001b[0medge_type\u001b[0m\u001b[0;34m)\u001b[0m\u001b[0;34m[\u001b[0m\u001b[0meval_edge_rows\u001b[0m\u001b[0;34m,\u001b[0m \u001b[0meval_edge_cols\u001b[0m\u001b[0;34m]\u001b[0m\u001b[0;34m\u001b[0m\u001b[0m\n\u001b[0m\u001b[1;32m     35\u001b[0m \u001b[0;34m\u001b[0m\u001b[0m\n\u001b[1;32m     36\u001b[0m     \u001b[0mnorm\u001b[0m \u001b[0;34m=\u001b[0m \u001b[0mnp\u001b[0m\u001b[0;34m.\u001b[0m\u001b[0mlinalg\u001b[0m\u001b[0;34m.\u001b[0m\u001b[0mnorm\u001b[0m\u001b[0;34m(\u001b[0m\u001b[0mtrue_edges\u001b[0m\u001b[0;34m-\u001b[0m\u001b[0mestimated_edges\u001b[0m\u001b[0;34m)\u001b[0m\u001b[0;34m\u001b[0m\u001b[0m\n",
      "\u001b[0;31mIndexError\u001b[0m: index 18765 is out of bounds for axis 0 with size 18755"
     ]
    }
   ],
   "source": [
    "# Undirected edges\n",
    "for model in models:\n",
    "    print(\"\\n\",model.get_method_name())\n",
    "    norm, avg = evaluateStaticGraphReconstruction(network, model, edge_type=\"u\", sample_ratio=1.0, \n",
    "                                             node_list=node_list)\n",
    "    print(norm, avg)"
   ]
  },
  {
   "cell_type": "markdown",
   "metadata": {},
   "source": [
    "# Evaluate Link Prediction"
   ]
  },
  {
   "cell_type": "code",
   "execution_count": 26,
   "metadata": {},
   "outputs": [
    {
     "name": "stdout",
     "output_type": "stream",
     "text": [
      "\n",
      " source_target_graph_embedding\n",
      "test_edges: 354\n",
      "{'precision': 0.0, 'recall': 0.0}\n",
      "\n",
      " LINE\n",
      "test_edges: 354\n"
     ]
    },
    {
     "ename": "IndexError",
     "evalue": "index 20238 is out of bounds for axis 0 with size 20171",
     "output_type": "error",
     "traceback": [
      "\u001b[0;31m---------------------------------------------------------------------------\u001b[0m",
      "\u001b[0;31mIndexError\u001b[0m                                Traceback (most recent call last)",
      "\u001b[0;32m<ipython-input-26-2162ff1ec3e7>\u001b[0m in \u001b[0;36m<module>\u001b[0;34m()\u001b[0m\n\u001b[1;32m      7\u001b[0m     scores = evaluate_top_k_link_prediction(top_k=1000, network=network, node_list=node_list,\n\u001b[1;32m      8\u001b[0m                                  \u001b[0mgraph_emb\u001b[0m\u001b[0;34m=\u001b[0m\u001b[0mmodel\u001b[0m\u001b[0;34m,\u001b[0m \u001b[0mtrain_embedding\u001b[0m\u001b[0;34m=\u001b[0m\u001b[0;32mFalse\u001b[0m\u001b[0;34m,\u001b[0m\u001b[0;34m\u001b[0m\u001b[0m\n\u001b[0;32m----> 9\u001b[0;31m                                  edge_type=\"d\", test_frac=0.001, seed=0)\n\u001b[0m\u001b[1;32m     10\u001b[0m     \u001b[0mprint\u001b[0m\u001b[0;34m(\u001b[0m\u001b[0mscores\u001b[0m\u001b[0;34m)\u001b[0m\u001b[0;34m\u001b[0m\u001b[0m\n",
      "\u001b[0;32m~/PycharmProjects/MultiOmicsGraphEmbedding/moge/evaluation/link_prediction.py\u001b[0m in \u001b[0;36mevaluate_top_k_link_prediction\u001b[0;34m(top_k, network, graph_emb, edge_type, node_list, test_frac, val_frac, seed, train_embedding, metrics)\u001b[0m\n\u001b[1;32m     39\u001b[0m \u001b[0;34m\u001b[0m\u001b[0m\n\u001b[1;32m     40\u001b[0m     \u001b[0;31m# evaluate precision/recall at top k predictions, excluding training edges\u001b[0m\u001b[0;34m\u001b[0m\u001b[0;34m\u001b[0m\u001b[0m\n\u001b[0;32m---> 41\u001b[0;31m     \u001b[0mtop_k_pred_edges_ind\u001b[0m \u001b[0;34m=\u001b[0m \u001b[0mselect_top_k_link_predictions\u001b[0m\u001b[0;34m(\u001b[0m\u001b[0mtop_k\u001b[0m\u001b[0;34m,\u001b[0m \u001b[0mestimated_adj\u001b[0m\u001b[0;34m,\u001b[0m \u001b[0mtrain_edges\u001b[0m\u001b[0;34m)\u001b[0m\u001b[0;34m\u001b[0m\u001b[0m\n\u001b[0m\u001b[1;32m     42\u001b[0m     \u001b[0;31m# print(\"top k predicted edges:\", estimated_adj[top_k_pred_edges_ind])\u001b[0m\u001b[0;34m\u001b[0m\u001b[0;34m\u001b[0m\u001b[0m\n\u001b[1;32m     43\u001b[0m     \u001b[0mtop_k_pred_edges\u001b[0m \u001b[0;34m=\u001b[0m \u001b[0;34m[\u001b[0m\u001b[0mx\u001b[0m \u001b[0;32mfor\u001b[0m \u001b[0mx\u001b[0m \u001b[0;32min\u001b[0m \u001b[0mzip\u001b[0m\u001b[0;34m(\u001b[0m\u001b[0;34m*\u001b[0m\u001b[0mtop_k_pred_edges_ind\u001b[0m\u001b[0;34m)\u001b[0m\u001b[0;34m]\u001b[0m\u001b[0;34m\u001b[0m\u001b[0m\n",
      "\u001b[0;32m~/PycharmProjects/MultiOmicsGraphEmbedding/moge/evaluation/link_prediction.py\u001b[0m in \u001b[0;36mselect_top_k_link_predictions\u001b[0;34m(top_k, estimated_adj, excluding_edges)\u001b[0m\n\u001b[1;32m     51\u001b[0m \u001b[0;32mdef\u001b[0m \u001b[0mselect_top_k_link_predictions\u001b[0m\u001b[0;34m(\u001b[0m\u001b[0mtop_k\u001b[0m\u001b[0;34m,\u001b[0m \u001b[0mestimated_adj\u001b[0m\u001b[0;34m,\u001b[0m \u001b[0mexcluding_edges\u001b[0m\u001b[0;34m)\u001b[0m\u001b[0;34m:\u001b[0m\u001b[0;34m\u001b[0m\u001b[0m\n\u001b[1;32m     52\u001b[0m     \u001b[0;31m# Exclude edges already seen at training time\u001b[0m\u001b[0;34m\u001b[0m\u001b[0;34m\u001b[0m\u001b[0m\n\u001b[0;32m---> 53\u001b[0;31m     \u001b[0mestimated_adj\u001b[0m\u001b[0;34m[\u001b[0m\u001b[0mexcluding_edges\u001b[0m\u001b[0;34m[\u001b[0m\u001b[0;34m:\u001b[0m\u001b[0;34m,\u001b[0m \u001b[0;36m0\u001b[0m\u001b[0;34m]\u001b[0m\u001b[0;34m,\u001b[0m \u001b[0mexcluding_edges\u001b[0m\u001b[0;34m[\u001b[0m\u001b[0;34m:\u001b[0m\u001b[0;34m,\u001b[0m \u001b[0;36m1\u001b[0m\u001b[0;34m]\u001b[0m\u001b[0;34m]\u001b[0m \u001b[0;34m=\u001b[0m \u001b[0;36m0\u001b[0m\u001b[0;34m\u001b[0m\u001b[0m\n\u001b[0m\u001b[1;32m     54\u001b[0m \u001b[0;34m\u001b[0m\u001b[0m\n\u001b[1;32m     55\u001b[0m     \u001b[0mtop_k_indices\u001b[0m \u001b[0;34m=\u001b[0m \u001b[0mlargest_indices\u001b[0m\u001b[0;34m(\u001b[0m\u001b[0mestimated_adj\u001b[0m\u001b[0;34m,\u001b[0m \u001b[0mtop_k\u001b[0m\u001b[0;34m)\u001b[0m\u001b[0;34m\u001b[0m\u001b[0m\n",
      "\u001b[0;31mIndexError\u001b[0m: index 20238 is out of bounds for axis 0 with size 20171"
     ]
    }
   ],
   "source": [
    "from moge.evaluation.link_prediction import evaluate_top_k_link_prediction, evaluate_random_link_prediction\n",
    "from moge.embedding.dual_graph_embedding import SourceTargetGraphEmbedding\n",
    "\n",
    "# Directed edges\n",
    "for model in models:\n",
    "    print(\"\\n\",model.get_method_name())\n",
    "    scores = evaluate_top_k_link_prediction(top_k=1000, network=network, node_list=node_list,\n",
    "                                 graph_emb=model, train_embedding=False,\n",
    "                                 edge_type=\"d\", test_frac=0.001, seed=0)\n",
    "    print(scores)"
   ]
  },
  {
   "cell_type": "code",
   "execution_count": 13,
   "metadata": {},
   "outputs": [
    {
     "name": "stdout",
     "output_type": "stream",
     "text": [
      "test_edges: 11755\n",
      "top k predicted edges: [0.204 0.152 0.15  ... 0.001 0.001 0.001]\n"
     ]
    },
    {
     "data": {
      "text/plain": [
       "{'precision': 0.010771615742361355, 'recall': 0.09167517875383044}"
      ]
     },
     "execution_count": 13,
     "metadata": {},
     "output_type": "execute_result"
    }
   ],
   "source": [
    "# Undirected edges\n",
    "for model in models:\n",
    "    evaluate_top_k_link_prediction(top_k=100000, network=network, \n",
    "                             graph_emb=model, train_embedding=False,\n",
    "                             edge_type=\"u\", test_frac=0.001, seed=0)\n",
    "    print(scores)"
   ]
  },
  {
   "cell_type": "code",
   "execution_count": 41,
   "metadata": {},
   "outputs": [
    {
     "name": "stdout",
     "output_type": "stream",
     "text": [
      "{'precision': 0.0, 'recall': 0.0}\n",
      "{'precision': 0.0, 'recall': 0.0}\n"
     ]
    }
   ],
   "source": [
    "# Evaluate random directed edge prediction\n",
    "print(evaluate_random_link_prediction(top_k=10000, network=network, edge_type=\"d\", test_frac=0.001, seed=0))\n",
    "print(evaluate_random_link_prediction(top_k=100000, network=network, edge_type=\"u\", test_frac=0.00001, seed=0))"
   ]
  },
  {
   "cell_type": "markdown",
   "metadata": {},
   "source": [
    "# Import GEM Graph Embedding Methods"
   ]
  },
  {
   "cell_type": "code",
   "execution_count": 42,
   "metadata": {},
   "outputs": [
    {
     "name": "stderr",
     "output_type": "stream",
     "text": [
      "Using TensorFlow backend.\n",
      "Can not use cuDNN on context None: cannot compile with cuDNN. We got this error:\n",
      "b'In file included from /usr/local/cuda-9.0/include/channel_descriptor.h:62:0,\\n                 from /usr/local/cuda-9.0/include/cuda_runtime.h:90,\\n                 from /usr/include/cudnn.h:64,\\n                 from /tmp/try_flags_sy4bbgau.c:4:\\n/usr/local/cuda-9.0/include/cuda_runtime_api.h:2930:102: error: use of enum \\xe2\\x80\\x98cudaFuncAttribute\\xe2\\x80\\x99 without previous declaration\\n extern __host__ __cudart_builtin__ cudaError_t CUDARTAPI cudaFuncSetAttribute(const void *func, enum cudaFuncAttribute attr, int value);\\n                                                                                                      ^~~~~~~~~~~~~~~~~\\n'\n",
      "Mapped name None to device cuda: GeForce GTX 1080 Ti (0000:01:00.0)\n"
     ]
    }
   ],
   "source": [
    "from gem.utils import graph_util, plot_util\n",
    "from gem.evaluation import visualize_embedding as viz\n",
    "from gem.evaluation import evaluate_graph_reconstruction as gr\n",
    "from gem.evaluation.metrics import getPrecisionReport\n",
    "from gem.evaluation.evaluate_link_prediction import evaluateStaticLinkPrediction\n",
    "\n",
    "from time import time\n",
    "\n",
    "from gem.embedding.gf       import GraphFactorization\n",
    "from gem.embedding.hope     import HOPE\n",
    "from gem.embedding.lap      import LaplacianEigenmaps\n",
    "from gem.embedding.lle      import LocallyLinearEmbedding\n",
    "from gem.embedding.node2vec import node2vec\n",
    "from gem.embedding.sdne     import SDNE\n",
    "from moge.embedding.dual_graph_embedding import DualGraphEmbedding\n"
   ]
  },
  {
   "cell_type": "code",
   "execution_count": 55,
   "metadata": {
    "collapsed": true
   },
   "outputs": [
    {
     "name": "stdout",
     "output_type": "stream",
     "text": [
      "Num nodes: 23179, num edges: 199324\n",
      "\n",
      " lap_eigmap_svd lap_eigmap_svd_200\n",
      "Laplacian matrix recon. error (low rank): 118.058668\n",
      "lap_eigmap_svd:\n",
      "\tTraining time: 156.647702\n"
     ]
    },
    {
     "ename": "KeyboardInterrupt",
     "evalue": "",
     "output_type": "error",
     "traceback": [
      "\u001b[0;31m---------------------------------------------------------------------------\u001b[0m",
      "\u001b[0;31mKeyboardInterrupt\u001b[0m                         Traceback (most recent call last)",
      "\u001b[0;32m<ipython-input-55-173359e19da1>\u001b[0m in \u001b[0;36m<module>\u001b[0;34m()\u001b[0m\n\u001b[1;32m     12\u001b[0m \u001b[0;34m\u001b[0m\u001b[0m\n\u001b[1;32m     13\u001b[0m \u001b[0;31m#         # Evaluate on graph reconstruction\u001b[0m\u001b[0;34m\u001b[0m\u001b[0;34m\u001b[0m\u001b[0m\n\u001b[0;32m---> 14\u001b[0;31m         \u001b[0mMAP\u001b[0m\u001b[0;34m,\u001b[0m \u001b[0mprec_curv\u001b[0m\u001b[0;34m,\u001b[0m \u001b[0merr\u001b[0m\u001b[0;34m,\u001b[0m \u001b[0merr_baseline\u001b[0m \u001b[0;34m=\u001b[0m \u001b[0mgr\u001b[0m\u001b[0;34m.\u001b[0m\u001b[0mevaluateStaticGraphReconstruction\u001b[0m\u001b[0;34m(\u001b[0m\u001b[0mG\u001b[0m\u001b[0;34m,\u001b[0m \u001b[0membedding\u001b[0m\u001b[0;34m,\u001b[0m \u001b[0mY\u001b[0m\u001b[0;34m,\u001b[0m \u001b[0;32mNone\u001b[0m\u001b[0;34m)\u001b[0m\u001b[0;34m\u001b[0m\u001b[0m\n\u001b[0m\u001b[1;32m     15\u001b[0m         \u001b[0mprint\u001b[0m \u001b[0;34m(\u001b[0m\u001b[0;34m\"Graph Reconstruction. MAP:\"\u001b[0m\u001b[0;34m,\u001b[0m \u001b[0mMAP\u001b[0m\u001b[0;34m)\u001b[0m\u001b[0;34m\u001b[0m\u001b[0m\n\u001b[1;32m     16\u001b[0m \u001b[0;34m\u001b[0m\u001b[0m\n",
      "\u001b[0;32m/opt/anaconda3/lib/python3.6/site-packages/gem/evaluation/evaluate_graph_reconstruction.py\u001b[0m in \u001b[0;36mevaluateStaticGraphReconstruction\u001b[0;34m(digraph, graph_embedding, X_stat, node_l, file_suffix, sample_ratio_e, is_undirected, is_weighted)\u001b[0m\n\u001b[1;32m     22\u001b[0m         \u001b[0meval_edge_pairs\u001b[0m \u001b[0;34m=\u001b[0m \u001b[0;32mNone\u001b[0m\u001b[0;34m\u001b[0m\u001b[0m\n\u001b[1;32m     23\u001b[0m     \u001b[0;32mif\u001b[0m \u001b[0mfile_suffix\u001b[0m \u001b[0;32mis\u001b[0m \u001b[0;32mNone\u001b[0m\u001b[0;34m:\u001b[0m\u001b[0;34m\u001b[0m\u001b[0m\n\u001b[0;32m---> 24\u001b[0;31m         \u001b[0mestimated_adj\u001b[0m \u001b[0;34m=\u001b[0m \u001b[0mgraph_embedding\u001b[0m\u001b[0;34m.\u001b[0m\u001b[0mget_reconstructed_adj\u001b[0m\u001b[0;34m(\u001b[0m\u001b[0mX_stat\u001b[0m\u001b[0;34m,\u001b[0m \u001b[0mnode_l\u001b[0m\u001b[0;34m)\u001b[0m\u001b[0;34m\u001b[0m\u001b[0m\n\u001b[0m\u001b[1;32m     25\u001b[0m     \u001b[0;32melse\u001b[0m\u001b[0;34m:\u001b[0m\u001b[0;34m\u001b[0m\u001b[0m\n\u001b[1;32m     26\u001b[0m         estimated_adj = graph_embedding.get_reconstructed_adj(\n",
      "\u001b[0;32m/opt/anaconda3/lib/python3.6/site-packages/gem/embedding/lap.py\u001b[0m in \u001b[0;36mget_reconstructed_adj\u001b[0;34m(self, X, node_l)\u001b[0m\n\u001b[1;32m     86\u001b[0m                 \u001b[0;32mif\u001b[0m \u001b[0mv_i\u001b[0m \u001b[0;34m==\u001b[0m \u001b[0mv_j\u001b[0m\u001b[0;34m:\u001b[0m\u001b[0;34m\u001b[0m\u001b[0m\n\u001b[1;32m     87\u001b[0m                     \u001b[0;32mcontinue\u001b[0m\u001b[0;34m\u001b[0m\u001b[0m\n\u001b[0;32m---> 88\u001b[0;31m                 \u001b[0madj_mtx_r\u001b[0m\u001b[0;34m[\u001b[0m\u001b[0mv_i\u001b[0m\u001b[0;34m,\u001b[0m \u001b[0mv_j\u001b[0m\u001b[0;34m]\u001b[0m \u001b[0;34m=\u001b[0m \u001b[0mself\u001b[0m\u001b[0;34m.\u001b[0m\u001b[0mget_edge_weight\u001b[0m\u001b[0;34m(\u001b[0m\u001b[0mv_i\u001b[0m\u001b[0;34m,\u001b[0m \u001b[0mv_j\u001b[0m\u001b[0;34m)\u001b[0m\u001b[0;34m\u001b[0m\u001b[0m\n\u001b[0m\u001b[1;32m     89\u001b[0m         \u001b[0;32mreturn\u001b[0m \u001b[0madj_mtx_r\u001b[0m\u001b[0;34m\u001b[0m\u001b[0m\n\u001b[1;32m     90\u001b[0m \u001b[0;34m\u001b[0m\u001b[0m\n",
      "\u001b[0;32m/opt/anaconda3/lib/python3.6/site-packages/gem/embedding/lap.py\u001b[0m in \u001b[0;36mget_edge_weight\u001b[0;34m(self, i, j)\u001b[0m\n\u001b[1;32m     72\u001b[0m     \u001b[0;32mdef\u001b[0m \u001b[0mget_edge_weight\u001b[0m\u001b[0;34m(\u001b[0m\u001b[0mself\u001b[0m\u001b[0;34m,\u001b[0m \u001b[0mi\u001b[0m\u001b[0;34m,\u001b[0m \u001b[0mj\u001b[0m\u001b[0;34m)\u001b[0m\u001b[0;34m:\u001b[0m\u001b[0;34m\u001b[0m\u001b[0m\n\u001b[1;32m     73\u001b[0m         return np.exp(\n\u001b[0;32m---> 74\u001b[0;31m             \u001b[0;34m-\u001b[0m\u001b[0mnp\u001b[0m\u001b[0;34m.\u001b[0m\u001b[0mpower\u001b[0m\u001b[0;34m(\u001b[0m\u001b[0mnp\u001b[0m\u001b[0;34m.\u001b[0m\u001b[0mlinalg\u001b[0m\u001b[0;34m.\u001b[0m\u001b[0mnorm\u001b[0m\u001b[0;34m(\u001b[0m\u001b[0mself\u001b[0m\u001b[0;34m.\u001b[0m\u001b[0m_X\u001b[0m\u001b[0;34m[\u001b[0m\u001b[0mi\u001b[0m\u001b[0;34m,\u001b[0m \u001b[0;34m:\u001b[0m\u001b[0;34m]\u001b[0m \u001b[0;34m-\u001b[0m \u001b[0mself\u001b[0m\u001b[0;34m.\u001b[0m\u001b[0m_X\u001b[0m\u001b[0;34m[\u001b[0m\u001b[0mj\u001b[0m\u001b[0;34m,\u001b[0m \u001b[0;34m:\u001b[0m\u001b[0;34m]\u001b[0m\u001b[0;34m)\u001b[0m\u001b[0;34m,\u001b[0m \u001b[0;36m2\u001b[0m\u001b[0;34m)\u001b[0m\u001b[0;34m\u001b[0m\u001b[0m\n\u001b[0m\u001b[1;32m     75\u001b[0m         )\n\u001b[1;32m     76\u001b[0m \u001b[0;34m\u001b[0m\u001b[0m\n",
      "\u001b[0;31mKeyboardInterrupt\u001b[0m: "
     ]
    }
   ],
   "source": [
    "print ('Num nodes: %d, num edges: %d' % (G.number_of_nodes(), G.number_of_edges()))\n",
    "for embedding in models:\n",
    "    try:\n",
    "        print(\"\\n\", embedding.get_method_name(), embedding.get_method_summary())\n",
    "        t1 = time()\n",
    "        \n",
    "    #     Learn embedding - accepts a networkx graph or file with edge list\n",
    "        embedding.learn_embedding(graph=G, edge_f=None, is_weighted=True, no_python=True)\n",
    "        print (embedding._method_name+':\\n\\tTraining time: %f' % (time() - t1))\n",
    "\n",
    "        Y = embedding.get_embedding()\n",
    "\n",
    "#         # Evaluate on graph reconstruction\n",
    "        MAP, prec_curv, err, err_baseline = gr.evaluateStaticGraphReconstruction(G, embedding, Y, \n",
    "                                                                                 sample_ratio_e=0.0001, k=500000)\n",
    "        print (\"Graph Reconstruction. MAP:\", MAP)\n",
    "\n",
    "        \n",
    "        # Evaluate on link prediction\n",
    "#         MAP, prec_curv = evaluateStaticLinkPrediction(G, embedding,\n",
    "#                                      train_ratio=0.8,\n",
    "#                                      is_undirected=False)\n",
    "#         print (\"Link Prediction. MAP:\", MAP)\n",
    "#         print (embedding._method_name+':\\n\\tTraining time: %f' % (time() - t1))\n",
    "        \n",
    "        # Visualize\n",
    "#         viz.plot_embedding2D(embedding.get_embedding(), di_graph=G, node_colors=None)\n",
    "#         plt.show()\n",
    "    except Exception as e:\n",
    "        print(\"could not run\", embedding, e)"
   ]
  },
  {
   "cell_type": "markdown",
   "metadata": {},
   "source": [
    "# Node Visualization"
   ]
  },
  {
   "cell_type": "code",
   "execution_count": null,
   "metadata": {},
   "outputs": [],
   "source": [
    "from sklearn.manifold import TSNE\n",
    "\n",
    "model = TSNE(n_components=2)\n",
    "node_pos = model.fit_transform(models[0].get_embedding())\n",
    "pos = {}\n",
    "for i in range(len(G.nodes())):\n",
    "    pos[i] = node_pos[i, :]\n",
    "nx.draw_networkx(G, pos, width=0.1, node_size=300, arrows=False,\n",
    "                             alpha=0.8, font_size=12)"
   ]
  },
  {
   "cell_type": "code",
   "execution_count": null,
   "metadata": {},
   "outputs": [],
   "source": []
  }
 ],
 "metadata": {
  "kernelspec": {
   "display_name": "Python 3",
   "language": "python",
   "name": "python3"
  },
  "language_info": {
   "codemirror_mode": {
    "name": "ipython",
    "version": 3
   },
   "file_extension": ".py",
   "mimetype": "text/x-python",
   "name": "python",
   "nbconvert_exporter": "python",
   "pygments_lexer": "ipython3",
   "version": "3.6.6"
  }
 },
 "nbformat": 4,
 "nbformat_minor": 1
}
