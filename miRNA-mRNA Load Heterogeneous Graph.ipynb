{
 "cells": [
  {
   "cell_type": "code",
   "execution_count": 1,
   "metadata": {},
   "outputs": [],
   "source": [
    "# Necessary imports\n",
    "%load_ext autoreload\n",
    "%autoreload 1\n",
    "\n",
    "import networkx as nx\n",
    "import numpy as np\n",
    "import pandas as pd\n",
    "import scipy.sparse as sps\n",
    "import pickle\n",
    "import seaborn\n",
    "import matplotlib.pyplot as plt\n",
    "\n",
    "from openomics.multiomics import MultiOmics\n",
    "from openomics.database import *\n",
    "from openomics.transcriptomics import *\n",
    "from openomics.genomics import *\n",
    "\n",
    "from moge.visualization.plot_data import matrix_heatmap, plot_coo_matrix\n",
    "from moge.visualization.visualize_embedding import visualize_embedding, plot_bokeh_graph\n",
    "from moge.network.omics_distance import *"
   ]
  },
  {
   "cell_type": "markdown",
   "metadata": {},
   "source": [
    "# Import the TCGA cancer data"
   ]
  },
  {
   "cell_type": "code",
   "execution_count": 2,
   "metadata": {},
   "outputs": [],
   "source": [
    "import pickle\n",
    "with open('moge/data/luad_data_openomics.pickle', 'rb') as file:\n",
    "    luad_data = pickle.load(file)\n",
    "#     pickle.dump(luad_data, file)"
   ]
  },
  {
   "cell_type": "code",
   "execution_count": 2,
   "metadata": {},
   "outputs": [],
   "source": [
    "pd.set_option('mode.chained_assignment','raise')"
   ]
  },
  {
   "cell_type": "code",
   "execution_count": 3,
   "metadata": {},
   "outputs": [
    {
     "name": "stderr",
     "output_type": "stream",
     "text": [
      "/opt/anaconda3/lib/python3.6/site-packages/openomics/transcriptomics.py:53: ParserWarning:\n",
      "\n",
      "Falling back to the 'python' engine because the 'c' engine does not support sep=None with delim_whitespace=False; you can avoid this warning by specifying engine='python'.\n",
      "\n"
     ]
    },
    {
     "name": "stdout",
     "output_type": "stream",
     "text": [
      "MessengerRNA (576, 20472)\n",
      "MicroRNA (494, 1870)\n",
      "LncRNA (546, 12727)\n"
     ]
    }
   ],
   "source": [
    "cohort_folder = \"/data/datasets/Bioinformatics_ExternalData/tcga-assembler/LUAD/\"\n",
    "cohort_name = \"LUAD\"\n",
    "luad_data = MultiOmics(cohort_name)\n",
    "luad_data.add_clinical_data(clinical_data=\"/data/datasets/Bioinformatics_ExternalData/tcga-assembler/LUAD/clinical/nationwidechildrens.org_clinical_patient.txt\")\n",
    "\n",
    "luad_data.add_omic(MessengerRNA(cohort_name, file_path=os.path.join(cohort_folder, \"gene_exp\", \"geneExp.txt\"), \n",
    "                                gene_index_by=\"gene_name\",\n",
    "                                columns=\"GeneSymbol|TCGA\", genes_col_name=\"GeneSymbol\"))\n",
    "\n",
    "luad_data.add_omic(MicroRNA(cohort_name, file_path=os.path.join(cohort_folder, \"mirna/\", \"miRNAExp__RPM.txt\"), \n",
    "                            gene_index_by=\"gene_name\",\n",
    "                            columns=\"GeneSymbol|TCGA\", genes_col_name=\"GeneSymbol\"))\n",
    "\n",
    "luad_data.add_omic(LncRNA(cohort_name, file_path=os.path.join(cohort_folder, \"lncrna\", \"TCGA-rnaexpr.tsv\"), \n",
    "                          gene_index_by=\"gene_id\",\n",
    "                          columns=\"Gene_ID|TCGA\", genes_col_name=\"Gene_ID\"))\n",
    "\n",
    "luad_data.build_samples()"
   ]
  },
  {
   "cell_type": "code",
   "execution_count": 4,
   "metadata": {},
   "outputs": [
    {
     "name": "stdout",
     "output_type": "stream",
     "text": [
      "Fetching file from URL: ftp://ftp.ebi.ac.uk/pub/databases/RNAcentral/current_release/ go_annotations/rnacentral_rfam_annotations.tsv.gz\n",
      "Fetching file from URL: ftp://ftp.ebi.ac.uk/pub/databases/RNAcentral/current_release/ id_mapping/database_mappings/gencode.tsv\n",
      "RNAcentral: ['index', 'RNAcentral id', 'database', 'transcript_id', 'species', 'RNA type', 'gene_name', 'go_id', 'Rfams']\n",
      "Fetching file from URL: ftp://mirbase.org/pub/mirbase/CURRENT/ aliases.txt.gz\n",
      "Fetching file from URL: ftp://mirbase.org/pub/mirbase/CURRENT/ mature.fa.gz\n",
      "Fetching file from URL: ftp://ftp.ebi.ac.uk/pub/databases/RNAcentral/current_release/id_mapping/database_mappings/ mirbase.tsv\n",
      "MirBase: ['mirbase id', 'RNAcentral id', 'database', 'species', 'RNA type', 'gene name', 'gene_name']\n"
     ]
    },
    {
     "name": "stderr",
     "output_type": "stream",
     "text": [
      "/opt/anaconda3/lib/python3.6/site-packages/ipykernel_launcher.py:7: DtypeWarning:\n",
      "\n",
      "Columns (10) have mixed types. Specify dtype option on import or set low_memory=False.\n",
      "\n"
     ]
    },
    {
     "name": "stdout",
     "output_type": "stream",
     "text": [
      "EnsemblGenes ['gene_id', 'gene_name', 'transcript_id', 'transcript_name', 'chromosome_name', 'transcript_start', 'transcript_end', 'transcript_length', 'gene_biotype', 'transcript_biotype', 'Rfams', 'go_id']\n",
      "Fetching file from URL: ftp://ftp.ebi.ac.uk/pub/databases/gencode/Gencode_human/release_32/ gencode.v32.long_noncoding_RNAs.gtf.gz\n",
      "Fetching file from URL: ftp://ftp.ebi.ac.uk/pub/databases/gencode/Gencode_human/release_32/ gencode.v32.lncRNA_transcripts.fa.gz\n",
      "Fetching file from URL: ftp://ftp.ebi.ac.uk/pub/databases/gencode/Gencode_human/release_32/ gencode.v32.transcripts.fa.gz\n"
     ]
    },
    {
     "name": "stderr",
     "output_type": "stream",
     "text": [
      "INFO:root:Extracted GTF attributes: ['gene_id', 'gene_type', 'gene_name', 'level', 'hgnc_id', 'tag', 'havana_gene', 'transcript_id', 'transcript_type', 'transcript_name', 'transcript_support_level', 'havana_transcript', 'exon_number', 'exon_id', 'ont']\n"
     ]
    },
    {
     "name": "stdout",
     "output_type": "stream",
     "text": [
      "GENCODE: ['index', 'seqname', 'source', 'feature', 'start', 'end', 'score', 'strand', 'frame', 'gene_id', 'gene_type', 'gene_name', 'level', 'hgnc_id', 'tag', 'havana_gene', 'transcript_id', 'transcript_type', 'transcript_name', 'transcript_support_level', 'havana_transcript', 'exon_number', 'exon_id', 'ont']\n",
      "LncBase ['geneId', 'geneName', 'mirna', 'species', 'cell_line', 'tissue', 'category', 'method', 'positive_negative', 'direct_indirect', 'condition']\n",
      "Name: LncBase\n",
      "Type: DiGraph\n",
      "Number of nodes: 8212\n",
      "Number of edges: 62321\n",
      "Average in degree:   7.5890\n",
      "Average out degree:   7.5890\n",
      "Name: MiRTarBase\n",
      "Type: DiGraph\n",
      "Number of nodes: 17663\n",
      "Number of edges: 380639\n",
      "Average in degree:  21.5501\n",
      "Average out degree:  21.5501\n"
     ]
    }
   ],
   "source": [
    "rnacentral = RNAcentral(path=\"ftp://ftp.ebi.ac.uk/pub/databases/RNAcentral/current_release/\",\n",
    "                       file_resources={\"rnacentral_rfam_annotations.tsv\":\"go_annotations/rnacentral_rfam_annotations.tsv.gz\",\n",
    "                                      \"gencode.tsv\":\"id_mapping/database_mappings/gencode.tsv\"},\n",
    "                       )\n",
    "\n",
    "mirbase = MirBase(path=\"ftp://mirbase.org/pub/mirbase/CURRENT/\")\n",
    "ensembl = EnsemblGenes()\n",
    "gencode = GENCODE(path=\"ftp://ftp.ebi.ac.uk/pub/databases/gencode/Gencode_human/release_32/\",\n",
    "                  file_resources={\"long_noncoding_RNAs.gtf\": \"gencode.v32.long_noncoding_RNAs.gtf.gz\",\n",
    "                                  \"lncRNA_transcripts.fa\": \"gencode.v32.lncRNA_transcripts.fa.gz\",\n",
    "                                  \"transcripts.fa\": \"gencode.v32.transcripts.fa.gz\"},\n",
    "                  import_sequences=\"shortest\")\n",
    "\n",
    "# interaction datasets\n",
    "lncbase = LncBase(\"/data/datasets/Bioinformatics_ExternalData/lncBase/\", )\n",
    "# targetscan = TargetScan(\"/data/datasets/Bioinformatics_ExternalData/TargetScan/\", )\n",
    "mirtarbase = MiRTarBase(\"/data/datasets/Bioinformatics_ExternalData/miRTarBase/\", target_index=\"Target Gene\")"
   ]
  },
  {
   "cell_type": "code",
   "execution_count": 5,
   "metadata": {},
   "outputs": [
    {
     "name": "stdout",
     "output_type": "stream",
     "text": [
      "<class 'pandas.core.frame.DataFrame'>\n",
      "Index: 12727 entries, ENSG00000005206 to ENSGR0000270726\n",
      "Data columns (total 18 columns):\n",
      "gene_name              11848 non-null object\n",
      "feature                11586 non-null object\n",
      "start                  11586 non-null object\n",
      "end                    11586 non-null object\n",
      "strand                 11586 non-null object\n",
      "tag                    11586 non-null object\n",
      "havana_gene            11586 non-null object\n",
      "transcript_id          11848 non-null object\n",
      "transcript_name        11848 non-null object\n",
      "chromosome_name        11848 non-null object\n",
      "transcript_start       11848 non-null object\n",
      "transcript_end         11848 non-null object\n",
      "transcript_length      11848 non-null object\n",
      "Rfams                  150 non-null object\n",
      "go_id                  216 non-null object\n",
      "gene_biotype           11848 non-null object\n",
      "transcript_biotype     11848 non-null object\n",
      "Transcript sequence    11586 non-null object\n",
      "dtypes: object(18)\n",
      "memory usage: 1.8+ MB\n",
      "<class 'pandas.core.frame.DataFrame'>\n",
      "Index: 1870 entries, hsa-let-7a-1 to hsa-mir-99b\n",
      "Data columns (total 15 columns):\n",
      "RNAcentral id          1839 non-null object\n",
      "mirbase id             1839 non-null object\n",
      "database               1839 non-null object\n",
      "transcript_id          488 non-null object\n",
      "RNA type               488 non-null object\n",
      "go_id                  488 non-null object\n",
      "Rfams                  488 non-null object\n",
      "transcript_name        2 non-null object\n",
      "chromosome_name        2 non-null object\n",
      "transcript_start       2 non-null object\n",
      "transcript_end         2 non-null object\n",
      "transcript_length      2 non-null object\n",
      "gene_biotype           2 non-null object\n",
      "transcript_biotype     2 non-null object\n",
      "Transcript sequence    0 non-null float64\n",
      "dtypes: float64(1), object(14)\n",
      "memory usage: 233.8+ KB\n",
      "<class 'pandas.core.frame.DataFrame'>\n",
      "Index: 20472 entries, A1BG to tAKR\n",
      "Data columns (total 13 columns):\n",
      "transcript_id          19443 non-null object\n",
      "RNA type               374 non-null object\n",
      "go_id                  18242 non-null object\n",
      "Rfams                  386 non-null object\n",
      "gene_id                19443 non-null object\n",
      "transcript_name        19443 non-null object\n",
      "chromosome_name        19443 non-null object\n",
      "transcript_start       19443 non-null object\n",
      "transcript_end         19443 non-null object\n",
      "transcript_length      19443 non-null object\n",
      "gene_biotype           19443 non-null object\n",
      "transcript_biotype     19443 non-null object\n",
      "Transcript sequence    19443 non-null object\n",
      "dtypes: object(13)\n",
      "memory usage: 2.2+ MB\n"
     ]
    }
   ],
   "source": [
    "luad_data.LncRNA.annotate_genomics(gencode, index=\"gene_id\", \n",
    "                                columns=['feature', 'start', 'end', 'strand', 'tag', 'havana_gene'])\n",
    "luad_data.LncRNA.annotate_genomics(database=ensembl, index='gene_id', \n",
    "                                columns=['gene_name', 'transcript_id', 'transcript_name', \n",
    "                                         'chromosome_name', 'transcript_start', 'transcript_end', 'transcript_length',\n",
    "                                         'Rfams', 'go_id', 'gene_biotype', 'transcript_biotype'])\n",
    "luad_data.LncRNA.annotate_genomics(database=rnacentral, index='gene_name',\n",
    "                                columns=['Rfams', 'go_id', 'gene_name'])\n",
    "luad_data.LncRNA.annotate_sequences(gencode, index=\"gene_id\", omic=\"LncRNA\")\n",
    "\n",
    "luad_data.LncRNA.annotations.info()\n",
    "\n",
    "luad_data.MicroRNA.annotate_genomics(database=mirbase, index=\"gene_name\", \n",
    "                                columns=['mirbase id', 'RNAcentral id', 'database'])\n",
    "luad_data.MicroRNA.annotate_genomics(database=rnacentral, index=\"RNAcentral id\",\n",
    "                                columns=['transcript_id', 'RNA type', 'go_id', 'Rfams'])\n",
    "luad_data.MicroRNA.annotate_genomics(database=ensembl, index='gene_name',\n",
    "                                columns=['gene_name', 'transcript_id', 'transcript_name', \n",
    "                                         'chromosome_name', 'transcript_start', 'transcript_end', 'transcript_length',\n",
    "                                         'Rfams', 'go_id', 'gene_biotype', 'transcript_biotype'])\n",
    "luad_data.MicroRNA.annotate_sequences(mirbase, index=\"gene_name\", omic=\"MicroRNA\")\n",
    "luad_data.MicroRNA.annotations.info()\n",
    "\n",
    "luad_data.MessengerRNA.annotate_genomics(database=rnacentral, index=\"gene_name\",\n",
    "                                columns=['gene_name', 'transcript_id', 'RNA type', 'go_id', 'Rfams'])\n",
    "luad_data.MessengerRNA.annotate_genomics(database=ensembl, index='gene_name',\n",
    "                                columns=['gene_id', 'transcript_id', 'transcript_name', \n",
    "                                         'chromosome_name', 'transcript_start', 'transcript_end', 'transcript_length',\n",
    "                                         'Rfams', 'go_id', 'gene_biotype', 'transcript_biotype'])\n",
    "luad_data.MessengerRNA.annotate_sequences(gencode, index=\"gene_name\", omic=\"MessengerRNA\")\n",
    "luad_data.MessengerRNA.annotations.info()"
   ]
  },
  {
   "cell_type": "code",
   "execution_count": 6,
   "metadata": {},
   "outputs": [
    {
     "name": "stdout",
     "output_type": "stream",
     "text": [
      "Index(['transcript_id', 'RNA type', 'go_id', 'Rfams', 'gene_id',\n",
      "       'transcript_name', 'chromosome_name', 'transcript_start',\n",
      "       'transcript_end', 'transcript_length', 'gene_biotype',\n",
      "       'transcript_biotype', 'Transcript sequence'],\n",
      "      dtype='object')\n",
      "Index(['RNAcentral id', 'mirbase id', 'database', 'transcript_id', 'RNA type',\n",
      "       'go_id', 'Rfams', 'transcript_name', 'chromosome_name',\n",
      "       'transcript_start', 'transcript_end', 'transcript_length',\n",
      "       'gene_biotype', 'transcript_biotype', 'Transcript sequence'],\n",
      "      dtype='object')\n",
      "Index(['gene_name', 'feature', 'start', 'end', 'strand', 'tag', 'havana_gene',\n",
      "       'transcript_id', 'transcript_name', 'chromosome_name',\n",
      "       'transcript_start', 'transcript_end', 'transcript_length', 'Rfams',\n",
      "       'go_id', 'gene_biotype', 'transcript_biotype', 'Transcript sequence'],\n",
      "      dtype='object')\n"
     ]
    }
   ],
   "source": [
    "LNC = luad_data.LncRNA.get_annotations()\n",
    "MIR = luad_data.MicroRNA.get_annotations()\n",
    "GE = luad_data.MessengerRNA.get_annotations()\n",
    "print(GE.columns)\n",
    "print(MIR.columns)\n",
    "print(LNC.columns)"
   ]
  },
  {
   "cell_type": "code",
   "execution_count": 10,
   "metadata": {
    "scrolled": true
   },
   "outputs": [],
   "source": [
    "gene_exp_medians = pd.read_csv(\"/data/datasets/Bioinformatics_ExternalData/GTEx/GTEx_Analysis_2016-01-15_v7_RNASeQCv1.1.8_gene_median_tpm.gct\", sep='\\t', header=1, skiprows=1)\n",
    "gene_exp_medians.index = gene_exp_medians[\"Description\"]\n",
    "gene_exp_medians.drop(\"gene_id\", axis=1, inplace=True)\n",
    "gene_exp_medians.drop(\"Description\", axis=1, inplace=True)\n",
    "gene_exp_medians.index.rename(\"gene_id\", inplace=True)"
   ]
  },
  {
   "cell_type": "code",
   "execution_count": 11,
   "metadata": {
    "scrolled": true
   },
   "outputs": [],
   "source": [
    "transcript_exp_medians = pd.read_csv(\"/data/datasets/Bioinformatics_ExternalData/GTEx/GTEx_Analysis_2016-01-15_v7_RSEMv1.2.22_transcript_max_tpm.tsv\", sep='\\t')\n",
    "transcript_exp_medians.index = transcript_exp_medians[\"gene_id\"]\n",
    "transcript_exp_medians.drop(\"gene_id\", axis=1, inplace=True)\n",
    "# transcript_exp_medians = transcript_exp_medians.T\n",
    "transcript_exp_medians.index = transcript_exp_medians.index.str.replace(\"[.].*\", \"\")"
   ]
  },
  {
   "cell_type": "code",
   "execution_count": 17,
   "metadata": {},
   "outputs": [],
   "source": [
    "mir_gene_id_to_name = pd.Series(MIR[\"mirbase id\"].values, index=MIR[\"transcript_id\"]).to_dict()\n",
    "lnc_gene_id_to_name = pd.Series(LNC.index.values, index=LNC.index).to_dict()"
   ]
  },
  {
   "cell_type": "code",
   "execution_count": 18,
   "metadata": {
    "scrolled": true
   },
   "outputs": [
    {
     "data": {
      "text/plain": [
       "(18939, 53)"
      ]
     },
     "execution_count": 18,
     "metadata": {},
     "output_type": "execute_result"
    }
   ],
   "source": [
    "GE_tissue_exp = gene_exp_medians[gene_exp_medians.index.isin(GE.index)]\n",
    "GE_tissue_exp = GE_tissue_exp[~GE_tissue_exp.index.duplicated(keep=\"first\")]\n",
    "GE_tissue_exp.shape"
   ]
  },
  {
   "cell_type": "code",
   "execution_count": 19,
   "metadata": {
    "scrolled": true
   },
   "outputs": [
    {
     "data": {
      "text/plain": [
       "(12727, 53)"
      ]
     },
     "execution_count": 19,
     "metadata": {},
     "output_type": "execute_result"
    }
   ],
   "source": [
    "LNC_tissue_exp = transcript_exp_medians[transcript_exp_medians.index.isin(lnc_gene_id_to_name.keys())]\n",
    "LNC_tissue_exp.index = LNC_tissue_exp.index.map(lnc_gene_id_to_name)\n",
    "LNC_tissue_exp.shape"
   ]
  },
  {
   "cell_type": "code",
   "execution_count": 24,
   "metadata": {
    "scrolled": true
   },
   "outputs": [
    {
     "data": {
      "text/plain": [
       "(0, 53)"
      ]
     },
     "execution_count": 24,
     "metadata": {},
     "output_type": "execute_result"
    }
   ],
   "source": [
    "MIR_tissue_exp = transcript_exp_medians[transcript_exp_medians.index.isin(mir_gene_id_to_name.keys())]\n",
    "MIR_tissue_exp[\"transcript_id\"] = MIR_tissue_exp.index\n",
    "MIR_tissue_exp[\"transcript_id\"].replace(mir_gene_id_to_name, inplace=True)\n",
    "MIR_tissue_exp.set_index(\"transcript_id\", inplace=True)\n",
    "# MIR_tissue_exp.drop(\"transcript_id\", axis=1, inplace=True)\n",
    "MIR_tissue_exp.shape"
   ]
  },
  {
   "cell_type": "markdown",
   "metadata": {},
   "source": [
    "# Test nodes affinities features"
   ]
  },
  {
   "cell_type": "code",
   "execution_count": 26,
   "metadata": {},
   "outputs": [
    {
     "ename": "TypeError",
     "evalue": "load_data() got an unexpected keyword argument 'modalities'",
     "output_type": "error",
     "traceback": [
      "\u001b[0;31m---------------------------------------------------------------------------\u001b[0m",
      "\u001b[0;31mTypeError\u001b[0m                                 Traceback (most recent call last)",
      "\u001b[0;32m<ipython-input-26-ceb3e2532369>\u001b[0m in \u001b[0;36m<module>\u001b[0;34m\u001b[0m\n\u001b[1;32m      3\u001b[0m correlation_dist = compute_expression_correlation_dists(luad_data, modalities=[\"LncRNA\"],\n\u001b[1;32m      4\u001b[0m                                                         \u001b[0mnode_list\u001b[0m\u001b[0;34m=\u001b[0m\u001b[0mnode_list\u001b[0m\u001b[0;34m,\u001b[0m \u001b[0mabsolute_corr\u001b[0m\u001b[0;34m=\u001b[0m\u001b[0;32mTrue\u001b[0m\u001b[0;34m,\u001b[0m\u001b[0;34m\u001b[0m\u001b[0;34m\u001b[0m\u001b[0m\n\u001b[0;32m----> 5\u001b[0;31m                                                         squareform=False, tissue_expression=LNC_tissue_exp)\n\u001b[0m\u001b[1;32m      6\u001b[0m affinity = compute_annotation_affinities(LNC, node_list=node_list,\n\u001b[1;32m      7\u001b[0m                 \u001b[0mfeatures\u001b[0m\u001b[0;34m=\u001b[0m\u001b[0;34m[\u001b[0m\u001b[0;34m\"locus_type\"\u001b[0m\u001b[0;34m]\u001b[0m\u001b[0;34m,\u001b[0m\u001b[0;34m\u001b[0m\u001b[0;34m\u001b[0m\u001b[0m\n",
      "\u001b[0;32m~/PycharmProjects/MultiOmicsGraphEmbedding/moge/network/omics_distance.py\u001b[0m in \u001b[0;36mcompute_expression_correlation_dists\u001b[0;34m(multi_omics_data, modalities, node_list, absolute_corr, return_distance, pathologic_stages, histological_subtypes, squareform, tissue_expression)\u001b[0m\n\u001b[1;32m     15\u001b[0m     \u001b[0;31m# Only works with TCGA expression data\u001b[0m\u001b[0;34m\u001b[0m\u001b[0;34m\u001b[0m\u001b[0;34m\u001b[0m\u001b[0m\n\u001b[1;32m     16\u001b[0m     X_multiomics, y = multi_omics_data.load_data(omics=modalities, pathologic_stages=pathologic_stages,\n\u001b[0;32m---> 17\u001b[0;31m                                                  histological_subtypes=histological_subtypes)\n\u001b[0m\u001b[1;32m     18\u001b[0m \u001b[0;34m\u001b[0m\u001b[0m\n\u001b[1;32m     19\u001b[0m     \u001b[0;31m# Remove duplicate index and columns\u001b[0m\u001b[0;34m\u001b[0m\u001b[0;34m\u001b[0m\u001b[0;34m\u001b[0m\u001b[0m\n",
      "\u001b[0;31mTypeError\u001b[0m: load_data() got an unexpected keyword argument 'modalities'"
     ]
    }
   ],
   "source": [
    "# node_list = GE[GE[\"gene_family\"].notnull()].index[0:1000]\n",
    "node_list = LNC.index\n",
    "correlation_dist = compute_expression_correlation_dists(luad_data, modalities=[\"LncRNA\"],\n",
    "                                                        node_list=node_list, absolute_corr=True,\n",
    "                                                        squareform=False, tissue_expression=LNC_tissue_exp)\n",
    "affinity = compute_annotation_affinities(LNC, node_list=node_list,\n",
    "                features=[\"locus_type\"], \n",
    "#                features=[\"Family\", \"tag\", \"Strand\", \"Chromosome\"], \n",
    "                                         correlation_dist=correlation_dist,\n",
    "                                        nanmean=False, \n",
    "#                                          weights=[1, 1, 0.5, 0.5, 5],\n",
    "                                        )\n"
   ]
  },
  {
   "cell_type": "code",
   "execution_count": 32,
   "metadata": {
    "collapsed": true,
    "jupyter": {
     "outputs_hidden": true
    }
   },
   "outputs": [
    {
     "name": "stdout",
     "output_type": "stream",
     "text": [
      "(80714865,)\n"
     ]
    },
    {
     "name": "stderr",
     "output_type": "stream",
     "text": [
      "/home/jonny/PycharmProjects/MultiOmicsGraphEmbedding/moge/evaluation/utils.py:17: RuntimeWarning: divide by zero encountered in log10\n",
      "  c = np.log10(np.power(degrees, k_power))\n",
      "/home/jonny/PycharmProjects/MultiOmicsGraphEmbedding/moge/evaluation/utils.py:18: RuntimeWarning: divide by zero encountered in log10\n",
      "  d = np.log10(cosine_adj_hist_dist.pdf(np.power(degrees, k_power)))\n"
     ]
    },
    {
     "data": {
      "image/png": "[encoded data removed]",
      "text/plain": [
       "<Figure size 432x288 with 1 Axes>"
      ]
     },
     "metadata": {
      "needs_background": "light"
     },
     "output_type": "display_data"
    },
    {
     "data": {
      "text/plain": [
       "0.32519149692118055"
      ]
     },
     "execution_count": 32,
     "metadata": {},
     "output_type": "execute_result"
    }
   ],
   "source": [
    "from moge.evaluation.utils import get_scalefree_fit_score\n",
    "from scipy.sparse import triu\n",
    "from scipy.spatial.distance import squareform\n",
    "\n",
    "affinities = squareform(affinity, checks=False)\n",
    "print(affinities.shape)\n",
    "adj_list = np.nansum(affinity, axis=1)\n",
    "# adj_list = affinities[np.where(~np.isnan(affinities.data))].reshape((-1))\n",
    "\n",
    "get_scalefree_fit_score(adj_list, plot=True)"
   ]
  },
  {
   "cell_type": "code",
   "execution_count": 33,
   "metadata": {
    "collapsed": true,
    "jupyter": {
     "outputs_hidden": true
    }
   },
   "outputs": [
    {
     "data": {
      "image/png": "[encoded data removed]",
      "text/plain": [
       "<Figure size 432x288 with 1 Axes>"
      ]
     },
     "metadata": {
      "needs_background": "light"
     },
     "output_type": "display_data"
    }
   ],
   "source": [
    "plt.hist(affinity[np.where(~np.isnan(affinity))].reshape((-1)), bins=500)\n",
    "plt.ylim(top=5000)\n",
    "plt.show()"
   ]
  },
  {
   "cell_type": "code",
   "execution_count": 34,
   "metadata": {
    "collapsed": true,
    "jupyter": {
     "outputs_hidden": true
    }
   },
   "outputs": [
    {
     "name": "stdout",
     "output_type": "stream",
     "text": [
      "threshold at 0.99 : 772160\n"
     ]
    },
    {
     "name": "stderr",
     "output_type": "stream",
     "text": [
      "/opt/anaconda3/lib/python3.6/site-packages/ipykernel_launcher.py:2: RuntimeWarning: invalid value encountered in greater\n",
      "  \n"
     ]
    }
   ],
   "source": [
    "threshold=0.99\n",
    "print(\"threshold at\", threshold,\":\",(affinity > threshold).sum())\n",
    "# print(\"threshold at\", threshold,\":\",(affinity < 0.01).sum())"
   ]
  },
  {
   "cell_type": "code",
   "execution_count": null,
   "metadata": {},
   "outputs": [],
   "source": [
    "# matrix_heatmap(np.array(affinity>threshold, dtype=float))\n",
    "matrix_heatmap(affinity)"
   ]
  },
  {
   "cell_type": "code",
   "execution_count": 25,
   "metadata": {
    "collapsed": true,
    "jupyter": {
     "outputs_hidden": true
    }
   },
   "outputs": [
    {
     "name": "stderr",
     "output_type": "stream",
     "text": [
      "/opt/anaconda3/lib/python3.6/site-packages/ipykernel_launcher.py:1: RuntimeWarning: invalid value encountered in less\n",
      "  \"\"\"Entry point for launching an IPython kernel.\n"
     ]
    },
    {
     "data": {
      "image/png": "[encoded data removed]",
      "text/plain": [
       "<Figure size 864x864 with 2 Axes>"
      ]
     },
     "metadata": {
      "needs_background": "light"
     },
     "output_type": "display_data"
    }
   ],
   "source": [
    "matrix_heatmap(np.array(affinity<0.01, dtype=float))"
   ]
  },
  {
   "cell_type": "markdown",
   "metadata": {},
   "source": [
    "# Heterogeneous Network"
   ]
  },
  {
   "cell_type": "code",
   "execution_count": 2,
   "metadata": {},
   "outputs": [],
   "source": [
    "import pickle\n",
    "with open('moge/data/luad_data_shortest.pickle', 'rb') as file:\n",
    "    luad_data = pickle.load(file)\n",
    "#     pickle.dump(luad_data, file)"
   ]
  },
  {
   "cell_type": "code",
   "execution_count": 3,
   "metadata": {},
   "outputs": [
    {
     "name": "stdout",
     "output_type": "stream",
     "text": [
      "MicroRNA  nodes: 1870\n",
      "MessengerRNA  nodes: 20472\n",
      "LncRNA  nodes: 12727\n",
      "Total nodes: 35069\n",
      "Genes info columns: ['transcript_id', 'go_id', 'Rfams', 'transcript_name', 'chromosome_name', 'transcript_start', 'transcript_end', 'transcript_length', 'gene_biotype', 'transcript_biotype', 'Transcript sequence']\n"
     ]
    }
   ],
   "source": [
    "from moge.network.heterogeneous_network import HeterogeneousNetwork\n",
    "\n",
    "network = HeterogeneousNetwork(modalities=[\"MicroRNA\", \"MessengerRNA\", \"LncRNA\"], multi_omics_data=luad_data)"
   ]
  },
  {
   "cell_type": "markdown",
   "metadata": {},
   "source": [
    "## Write node labels to file"
   ]
  },
  {
   "cell_type": "code",
   "execution_count": 4,
   "metadata": {
    "scrolled": true
   },
   "outputs": [],
   "source": [
    "from moge.network.file_io import write_node_labels_to_file\n",
    "\n",
    "# write_node_labels_to_file(\"moge/data/lncRNA_miRNA_mRNA/lncRNA-miRNA-mRNA_node_labels_family.tsv\", luad_data, \n",
    "#                           label_cols=[\"family\"],\n",
    "#                           modalities=[\"MIR\", \"GE\", \"LNC\"], \n",
    "#                           get_dummies=False)\n",
    "\n",
    "# write_node_labels_to_file(\"moge/data/lncRNA_miRNA_mRNA/lncRNA-miRNA-mRNA_node_labels_disease_dummies.tsv\", luad_data, \n",
    "#                           label_cols=[\"Disease association\"],\n",
    "#                           modalities=[\"MIR\", \"GE\", \"LNC\"], remove_na=True, sep=\"\\t\",\n",
    "#                           get_dummies=True)"
   ]
  },
  {
   "cell_type": "markdown",
   "metadata": {},
   "source": [
    "# Add Attribute Affinity Positive Edges"
   ]
  },
  {
   "cell_type": "code",
   "execution_count": null,
   "metadata": {
    "scrolled": true
   },
   "outputs": [
    {
     "name": "stdout",
     "output_type": "stream",
     "text": [
      "Gower's dissimilarity: Computing GO Terms , dtype: object , shape: (20157,)\n",
      "Dice distance\n"
     ]
    }
   ],
   "source": [
    "affinities_GE = network.add_edges_from_nodes_similarity(modality=\"GE\", node_list=network.nodes[\"GE\"], \n",
    "    similarity_threshold=0.80, dissimilarity_threshold=0.01,\n",
    "    negative_sampling_ratio=5.0, nanmean=True,\n",
    "    features=[\"GO Terms\", \"Disease association\"],\n",
    "    weights=[1, 1],\n",
    "    compute_correlation=False)"
   ]
  },
  {
   "cell_type": "code",
   "execution_count": null,
   "metadata": {
    "scrolled": true
   },
   "outputs": [],
   "source": [
    "affinities_GE = network.add_edges_from_nodes_similarity(modality=\"GE\", node_list=network.nodes[\"GE\"], \n",
    "    similarity_threshold=0.85, dissimilarity_threshold=0.01,\n",
    "    negative_sampling_ratio=5.0, nanmean=False,\n",
    "    features=[\"locus_type\", \"gene_family_id\", \"location\"], \n",
    "    weights=[0.5, 1, 0.5, 1],\n",
    "    compute_correlation=True, tissue_expression=GE_tissue_exp)"
   ]
  },
  {
   "cell_type": "code",
   "execution_count": null,
   "metadata": {
    "scrolled": true
   },
   "outputs": [],
   "source": [
    "affinities_MIR = network.add_edges_from_nodes_similarity(modality=\"MIR\", node_list=network.nodes[\"MIR\"], \n",
    "    similarity_threshold=0.70, dissimilarity_threshold=0.01,\n",
    "    negative_sampling_ratio=5.0, nanmean=True,\n",
    "    features=[\"GO Terms\", \"Disease association\"], \n",
    "    compute_correlation=False)"
   ]
  },
  {
   "cell_type": "code",
   "execution_count": null,
   "metadata": {
    "scrolled": true
   },
   "outputs": [],
   "source": [
    "affinities_MIR = network.add_edges_from_nodes_similarity(modality=\"MIR\", node_list=network.nodes[\"MIR\"], \n",
    "    similarity_threshold=0.70, dissimilarity_threshold=0.01,\n",
    "    negative_sampling_ratio=5.0, nanmean=True,\n",
    "    features=[\"Family\", \"Rfams\"], \n",
    "    compute_correlation=True, tissue_expression=MIR_tissue_exp)"
   ]
  },
  {
   "cell_type": "code",
   "execution_count": null,
   "metadata": {
    "scrolled": true
   },
   "outputs": [],
   "source": [
    "affinities_LNC = network.add_edges_from_nodes_similarity(modality=\"LNC\", node_list=network.nodes[\"LNC\"], \n",
    "    similarity_threshold=0.90, dissimilarity_threshold=0.1,\n",
    "    negative_sampling_ratio=5.0, \n",
    "    nanmean=False,\n",
    "    features=[\"locus_type\", \"Transcript type\", \"tag\", \"Strand\", \"Chromosome\"],\n",
    "    weights=[1, 1, 0.5, 0.5, 1, 1],\n",
    "    compute_correlation=True, tissue_expression=LNC_tissue_exp)"
   ]
  },
  {
   "cell_type": "code",
   "execution_count": null,
   "metadata": {},
   "outputs": [],
   "source": [
    "affinities_LNC = network.add_edges_from_nodes_similarity(modality=\"LNC\", node_list=network.nodes[\"LNC\"], \n",
    "    similarity_threshold=0.70, dissimilarity_threshold=0.01,\n",
    "    negative_sampling_ratio=5.0, nanmean=True,\n",
    "    features=[\"GO Terms\", \"Family\", \"Disease association\"], \n",
    "    compute_correlation=False)"
   ]
  },
  {
   "cell_type": "code",
   "execution_count": 5,
   "metadata": {},
   "outputs": [
    {
     "data": {
      "image/png": "[encoded data removed]",
      "text/plain": [
       "<Figure size 504x504 with 2 Axes>"
      ]
     },
     "metadata": {
      "needs_background": "light"
     },
     "output_type": "display_data"
    }
   ],
   "source": [
    "matrix_heatmap(network.get_adjacency_matrix(edge_types=[\"u\"], node_list=network.nodes[\"GE\"]).todense(),\n",
    "              figsize=(7,7))"
   ]
  },
  {
   "cell_type": "code",
   "execution_count": 6,
   "metadata": {},
   "outputs": [
    {
     "data": {
      "image/png": "[encoded data removed]",
      "text/plain": [
       "<Figure size 360x360 with 2 Axes>"
      ]
     },
     "metadata": {
      "needs_background": "light"
     },
     "output_type": "display_data"
    }
   ],
   "source": [
    "matrix_heatmap(network.get_adjacency_matrix(edge_types=[\"u\"], node_list=network.nodes[\"MIR\"]).todense(),\n",
    "              figsize=(5,5))"
   ]
  },
  {
   "cell_type": "code",
   "execution_count": 7,
   "metadata": {},
   "outputs": [
    {
     "data": {
      "image/png": "[encoded data removed]",
      "text/plain": [
       "<Figure size 504x504 with 2 Axes>"
      ]
     },
     "metadata": {
      "needs_background": "light"
     },
     "output_type": "display_data"
    }
   ],
   "source": [
    "matrix_heatmap(network.get_adjacency_matrix(edge_types=[\"u\"], node_list=network.nodes[\"LNC\"]).todense(),\n",
    "              figsize=(7,7))"
   ]
  },
  {
   "cell_type": "code",
   "execution_count": 4,
   "metadata": {},
   "outputs": [],
   "source": [
    "# IMPORT Affinity Edgelist\n",
    "network.import_edgelist_file(\n",
    "    file=\"moge/data/LMN_future_recall/TRAIN/Interactions_Affinity/lmn_n70_m70_l70-70_TissueExp_GO_Rfams_Disease_Family_GO_affinity.edgelist\", \n",
    "#     file=\"moge/data/LMN_future_recall/TRAIN/Interactions_Affinity/lmn_n70_m70_l70-70_GO_Rfams_Disease_Family_GO_affinity.edgelist\", \n",
    "    is_directed=False)"
   ]
  },
  {
   "cell_type": "code",
   "execution_count": null,
   "metadata": {},
   "outputs": [],
   "source": [
    "# WRITE Affinity Edgelist\n",
    "# nx.write_edgelist(network.get_subgraph([\"MIR\", \"GE\", \"LNC\"], edge_type=\"u\"), \n",
    "#                   \"moge/data/LMN_future_recall/TRAIN/Interactions_Affinity/lmn_n70_m70_l70-70_TissueExp_GO_Rfams_Disease_Family_GO_affinity.edgelist\", \n",
    "#                   data=True)"
   ]
  },
  {
   "cell_type": "markdown",
   "metadata": {},
   "source": [
    "# Add Attribute Affinity NEGATIVE Edges between cross-modals"
   ]
  },
  {
   "cell_type": "code",
   "execution_count": 11,
   "metadata": {},
   "outputs": [
    {
     "name": "stdout",
     "output_type": "stream",
     "text": [
      "Number of negative sampled edges between ['GE', 'MIR'] added: 10000\n",
      "Number of negative sampled edges between ['GE', 'LNC'] added: 20000\n",
      "Number of negative sampled edges between ['LNC', 'MIR'] added: 10000\n"
     ]
    }
   ],
   "source": [
    "u_n_size = 10000\n",
    "network.add_sampled_negative_edges(u_n_size, modalities=[\"GE\", \"MIR\"])\n",
    "network.add_sampled_negative_edges(u_n_size*2, modalities=[\"GE\", \"LNC\"])\n",
    "network.add_sampled_negative_edges(u_n_size, modalities=[\"LNC\", \"MIR\"])"
   ]
  },
  {
   "cell_type": "markdown",
   "metadata": {},
   "source": [
    "# miRTarBase"
   ]
  },
  {
   "cell_type": "code",
   "execution_count": 7,
   "metadata": {},
   "outputs": [
    {
     "data": {
      "text/plain": [
       "64749"
      ]
     },
     "execution_count": 7,
     "metadata": {},
     "output_type": "execute_result"
    }
   ],
   "source": [
    "mirtarbase_new = luad_data.MIR.get_miRTarBase_miRNA_target_interaction(use_latest=True, data=False, rename_dict=case_relabel)\n",
    "mirtarbase_old = luad_data.MIR.get_miRTarBase_miRNA_target_interaction(use_latest=False, data=False, rename_dict=case_relabel)\n",
    "mirtarbase_diff = list(set(mirtarbase_new) - set(mirtarbase_old))\n",
    "len(mirtarbase_diff)"
   ]
  },
  {
   "cell_type": "code",
   "execution_count": 8,
   "metadata": {},
   "outputs": [
    {
     "name": "stdout",
     "output_type": "stream",
     "text": [
      "Adding edgelist with 1807 total unique MIR genes (source), but only matching 1618 nodes\n",
      "Adding edgelist with 14894 total unique GE genes (target), but only matching 14014 nodes\n",
      "319943 edges added.\n"
     ]
    }
   ],
   "source": [
    "# Adds miRNA-target interaction network\n",
    "network.add_directed_edges_from_edgelist(edgelist=luad_data.MIR.get_miRTarBase_miRNA_target_interaction(use_latest=False),\n",
    "#                                                                                                        rename_dict=case_relabel), \n",
    "                                        modalities=[\"MIR\", \"GE\"], correlation_weights=False, threshold=0.20,\n",
    "                                        database=\"miRTarBase\")"
   ]
  },
  {
   "cell_type": "markdown",
   "metadata": {},
   "source": [
    "# StarBase mRNA-RNA"
   ]
  },
  {
   "cell_type": "code",
   "execution_count": 13,
   "metadata": {},
   "outputs": [
    {
     "data": {
      "text/plain": [
       "1516287"
      ]
     },
     "execution_count": 13,
     "metadata": {},
     "output_type": "execute_result"
    }
   ],
   "source": [
    "starbase_new = luad_data.GE.get_starBase_RNA_RNA_interactions(min_expNum=1, data=False)\n",
    "starbase_old = luad_data.GE.get_starBase_RNA_RNA_interactions(min_expNum=2, data=False)\n",
    "starbase_diff = list(set(starbase_new) - set(starbase_old))\n",
    "len(starbase_diff)"
   ]
  },
  {
   "cell_type": "code",
   "execution_count": 8,
   "metadata": {},
   "outputs": [
    {
     "name": "stdout",
     "output_type": "stream",
     "text": [
      "Adding edgelist with 359 total unique LNC genes (source), but only matching 295 nodes\n",
      "Adding edgelist with 10016 total unique GE genes (target), but only matching 6470 nodes\n",
      "20600 edges added.\n"
     ]
    },
    {
     "name": "stderr",
     "output_type": "stream",
     "text": [
      "/opt/anaconda3/lib/python3.6/site-packages/TCGAMultiOmics/genomic.py:301: FutureWarning: read_table is deprecated, use read_csv instead.\n",
      "  \"pairGeneType\", \"interactionNum\", 'expNum', \"FreeEnergy\"])\n"
     ]
    }
   ],
   "source": [
    "# Adds Gene Regulatory Network edges\n",
    "network.add_directed_edges_from_edgelist(edgelist=luad_data.LNC.get_starBase_lncRNA_RNA_interactions(),\n",
    "                                        modalities=[\"LNC\", \"GE\"], correlation_weights=False, threshold=0.2,\n",
    "                                        database=\"starBase\")"
   ]
  },
  {
   "cell_type": "markdown",
   "metadata": {},
   "source": [
    "# BioGRID"
   ]
  },
  {
   "cell_type": "code",
   "execution_count": 9,
   "metadata": {},
   "outputs": [
    {
     "name": "stderr",
     "output_type": "stream",
     "text": [
      "/opt/anaconda3/lib/python3.6/site-packages/IPython/core/interactiveshell.py:3249: DtypeWarning: Columns (19,20) have mixed types. Specify dtype option on import or set low_memory=False.\n",
      "  if (await self.run_code(code, result,  async_=asy)):\n"
     ]
    },
    {
     "data": {
      "text/plain": [
       "33522"
      ]
     },
     "execution_count": 9,
     "metadata": {},
     "output_type": "execute_result"
    }
   ],
   "source": [
    "biogrid_new = luad_data.GE.get_BioGRID_GRN_edgelist(data=False, rename_dict=case_relabel,\n",
    "                biogrid_interactions_file_path='/data/datasets/Bioinformatics_ExternalData/BioGRID/BIOGRID-ALL-3.5.169.tab2.txt')\n",
    "biogrid_old = luad_data.GE.get_BioGRID_GRN_edgelist(data=False, rename_dict=case_relabel,\n",
    "                biogrid_interactions_file_path='/data/datasets/Bioinformatics_ExternalData/BioGRID/BIOGRID-ALL-3.4.162.tab2.txt')\n",
    "biogrid_diff = list(set(biogrid_new) - set(biogrid_old))\n",
    "len(biogrid_diff)"
   ]
  },
  {
   "cell_type": "code",
   "execution_count": 9,
   "metadata": {},
   "outputs": [
    {
     "name": "stderr",
     "output_type": "stream",
     "text": [
      "/opt/anaconda3/lib/python3.6/site-packages/IPython/core/interactiveshell.py:3249: DtypeWarning: Columns (19,20) have mixed types. Specify dtype option on import or set low_memory=False.\n",
      "  if (await self.run_code(code, result,  async_=asy)):\n"
     ]
    },
    {
     "name": "stdout",
     "output_type": "stream",
     "text": [
      "Adding edgelist with 13318 total unique GE genes (source), but only matching 12768 nodes\n",
      "Adding edgelist with 19429 total unique GE genes (target), but only matching 14972 nodes\n",
      "313724 edges added.\n"
     ]
    }
   ],
   "source": [
    "# Adds Gene Regulatory Network edges\n",
    "network.add_directed_edges_from_edgelist(edgelist=luad_data.GE.get_BioGRID_GRN_edgelist(biogrid_interactions_file_path='/data/datasets/Bioinformatics_ExternalData/BioGRID/BIOGRID-ALL-3.4.162.tab2.txt'),\n",
    "#                                                                                        rename_dict=case_relabel),\n",
    "                                        modalities=[\"GE\", \"GE\"], correlation_weights=False, threshold=0.2,\n",
    "                                        database=\"BioGRID\")"
   ]
  },
  {
   "cell_type": "markdown",
   "metadata": {},
   "source": [
    "# NPInter"
   ]
  },
  {
   "cell_type": "code",
   "execution_count": 11,
   "metadata": {},
   "outputs": [],
   "source": [
    "from moge.network.heterogeneous_network import get_rename_dict\n",
    "noncode_rename_dict = pd.Series(luad_data.LNC.noncode_func_df[\"Gene Name\"].values,\n",
    "     index=luad_data.LNC.noncode_func_df[\"NONCODE Gene ID\"].str.split(\".\", expand=True)[0]).to_dict()\n",
    "noncode_rename_dict = {k: noncode_rename_dict[k] for k in noncode_rename_dict if type(noncode_rename_dict[k])!=float}\n",
    "\n",
    "lncbase_rename_dict = get_rename_dict(luad_data.LNC.get_genes_info(), \"Gene ID\")\n",
    "lncbase_rename_dict.update(noncode_rename_dict)"
   ]
  },
  {
   "cell_type": "code",
   "execution_count": 12,
   "metadata": {
    "collapsed": true,
    "jupyter": {
     "outputs_hidden": true
    }
   },
   "outputs": [
    {
     "ename": "NameError",
     "evalue": "name 'case_relabel' is not defined",
     "output_type": "error",
     "traceback": [
      "\u001b[0;31m---------------------------------------------------------------------------\u001b[0m",
      "\u001b[0;31mNameError\u001b[0m                                 Traceback (most recent call last)",
      "\u001b[0;32m<ipython-input-12-a1481678e368>\u001b[0m in \u001b[0;36m<module>\u001b[0;34m\u001b[0m\n\u001b[0;32m----> 1\u001b[0;31m \u001b[0mlncbase_rename_dict\u001b[0m\u001b[0;34m.\u001b[0m\u001b[0mupdate\u001b[0m\u001b[0;34m(\u001b[0m\u001b[0mcase_relabel\u001b[0m\u001b[0;34m)\u001b[0m\u001b[0;34m\u001b[0m\u001b[0;34m\u001b[0m\u001b[0m\n\u001b[0m",
      "\u001b[0;31mNameError\u001b[0m: name 'case_relabel' is not defined"
     ]
    }
   ],
   "source": [
    "# lncbase_rename_dict.update(case_relabel)"
   ]
  },
  {
   "cell_type": "code",
   "execution_count": 13,
   "metadata": {},
   "outputs": [
    {
     "data": {
      "text/plain": [
       "123439"
      ]
     },
     "execution_count": 13,
     "metadata": {},
     "output_type": "execute_result"
    }
   ],
   "source": [
    "npinter_new = luad_data.LNC.get_NPInter_ncRNA_RNA_regulatory_interaction_edgelist(use_latest=True, data=False,\n",
    "                                                                                 rename_dict=lncbase_rename_dict)\n",
    "npinter_old = luad_data.LNC.get_NPInter_ncRNA_RNA_regulatory_interaction_edgelist(use_latest=False, data=False,\n",
    "                                                                                 rename_dict=lncbase_rename_dict)\n",
    "npinter_diff = list(set(npinter_new) - set(npinter_old))\n",
    "len(npinter_diff)"
   ]
  },
  {
   "cell_type": "code",
   "execution_count": 10,
   "metadata": {},
   "outputs": [
    {
     "name": "stdout",
     "output_type": "stream",
     "text": [
      "Adding edgelist with 727 total unique LNC genes (source), but only matching 12 nodes\n",
      "Adding edgelist with 5659 total unique GE genes (target), but only matching 5023 nodes\n",
      "85335 edges added.\n"
     ]
    }
   ],
   "source": [
    "network.add_directed_edges_from_edgelist(edgelist=luad_data.LNC.get_NPInter_ncRNA_RNA_regulatory_interaction_edgelist(use_latest=False), \n",
    "#                                                                                                                       rename_dict=lncbase_rename_dict),\n",
    "                                         modalities=[\"LNC\", \"GE\"], correlation_weights=False, threshold=0.20,\n",
    "                                        database=\"NPInter\")"
   ]
  },
  {
   "cell_type": "markdown",
   "metadata": {},
   "source": [
    "# lncBase"
   ]
  },
  {
   "cell_type": "code",
   "execution_count": 15,
   "metadata": {},
   "outputs": [
    {
     "name": "stdout",
     "output_type": "stream",
     "text": [
      "337031\n"
     ]
    }
   ],
   "source": [
    "lncbase_new = luad_data.LNC.get_lncBase_miRNA_lncRNA_predicted_interactions_edgelist(rename_dict=lncbase_rename_dict,\n",
    "                                                                                     data=False)\n",
    "lncbase_old = luad_data.LNC.get_lncBase_miRNA_lncRNA_interactions_edgelist(rename_dict=lncbase_rename_dict, \n",
    "                                                                           data=False)\n",
    "lncbase_diff = list(set(lncbase_new) - set(lncbase_old))\n",
    "print(len(lncbase_diff))"
   ]
  },
  {
   "cell_type": "code",
   "execution_count": 14,
   "metadata": {},
   "outputs": [
    {
     "name": "stdout",
     "output_type": "stream",
     "text": [
      "Adding edgelist with 702 total unique MIR genes (source), but only matching 631 nodes\n",
      "Adding edgelist with 7235 total unique LNC genes (target), but only matching 2535 nodes\n",
      "60186 edges added.\n"
     ]
    }
   ],
   "source": [
    "# Adds miRNA-lncRNA interaction network\n",
    "# network.add_directed_edges_from_edgelist(edgelist=luad_data.LNC.get_starBase_lncRNA_miRNA_interactions_edgelist(),\n",
    "#                                         )\n",
    "# network.add_directed_edges_from_edgelist(edgelist=luad_data.LNC.get_lncRNome_miRNA_binding_sites_edgelist(),\n",
    "#                                          modalities=[\"LNC\", \"MIR\"], correlation_weights=False, threshold=0.20,\n",
    "#                                         database=\"lncRNome\")\n",
    "\n",
    "network.add_directed_edges_from_edgelist(edgelist=luad_data.LNC.get_lncBase_miRNA_lncRNA_interactions_edgelist(rename_dict=lncbase_rename_dict),\n",
    "                                         modalities=[\"MIR\", \"LNC\"], correlation_weights=False, threshold=0.20,\n",
    "                                        database=\"lncBase\")\n",
    "\n",
    "\n",
    "# network.add_directed_edges_from_edgelist(edgelist=luad_data.LNC.get_LncReg_lncRNA_RNA_regulatory_interactions(),\n",
    "#                                          modalities=[\"LNC\", \"GE\"], correlation_weights=False, threshold=0.20,\n",
    "#                                         database=\"LncReg\")"
   ]
  },
  {
   "cell_type": "markdown",
   "metadata": {},
   "source": [
    "# lncrna2target"
   ]
  },
  {
   "cell_type": "code",
   "execution_count": 17,
   "metadata": {},
   "outputs": [
    {
     "name": "stderr",
     "output_type": "stream",
     "text": [
      "/opt/anaconda3/lib/python3.6/site-packages/IPython/core/interactiveshell.py:3249: DtypeWarning: Columns (6) have mixed types. Specify dtype option on import or set low_memory=False.\n",
      "  if (await self.run_code(code, result,  async_=asy)):\n"
     ]
    },
    {
     "data": {
      "text/plain": [
       "65624"
      ]
     },
     "execution_count": 17,
     "metadata": {},
     "output_type": "execute_result"
    }
   ],
   "source": [
    "lnc2tar_low = luad_data.LNC.get_lncrna2target_low_throughput_interactions(data=False, rename_dict=lncbase_rename_dict)\n",
    "lnc2tar_high = luad_data.LNC.get_lncrna2target_high_throughput_interactions(data=False, rename_dict=lncbase_rename_dict)\n",
    "lnc2tar_diff = list(set(lnc2tar_high) - set(lnc2tar_low))\n",
    "len(lnc2tar_diff)"
   ]
  },
  {
   "cell_type": "code",
   "execution_count": 15,
   "metadata": {},
   "outputs": [
    {
     "name": "stderr",
     "output_type": "stream",
     "text": [
      "/opt/anaconda3/lib/python3.6/site-packages/IPython/core/interactiveshell.py:3249: DtypeWarning: Columns (6) have mixed types. Specify dtype option on import or set low_memory=False.\n",
      "  if (await self.run_code(code, result,  async_=asy)):\n"
     ]
    },
    {
     "name": "stdout",
     "output_type": "stream",
     "text": [
      "Adding edgelist with 61 total unique LNC genes (source), but only matching 17 nodes\n",
      "Adding edgelist with 28866 total unique GE genes (target), but only matching 16337 nodes\n",
      "65655 edges added.\n"
     ]
    }
   ],
   "source": [
    "network.add_directed_edges_from_edgelist(edgelist=luad_data.LNC.get_lncrna2target_high_throughput_interactions(rename_dict=lncbase_rename_dict),\n",
    "                                         modalities=[\"LNC\", \"GE\"], correlation_weights=False, threshold=0.20,\n",
    "                                        database=\"lncrna2target\")\n",
    "\n",
    "# network.add_directed_edges_from_edgelist(edgelist=luad_data.LNC.get_lncrna2target_low_throughput_interactions(rename_dict=lncbase_rename_dict),\n",
    "#                                          modalities=[\"LNC\", \"GE\"], correlation_weights=False, threshold=0.20,\n",
    "#                                         database=\"lncrna2target\")\n",
    "\n",
    "# network.add_directed_edges_from_edgelist(edgelist=luad_data.LNC.get_lncRInter_interactions(),\n",
    "#                                          modalities=[\"LNC\", \"GE\"], correlation_weights=False, threshold=0.20,\n",
    "#                                         database=\"lncRInter\")"
   ]
  },
  {
   "cell_type": "code",
   "execution_count": null,
   "metadata": {},
   "outputs": [],
   "source": [
    "npinter_val = {(u,v) for u,v,d in network.G.edges(data=True) if \"database\" in d and d[\"database\"]==\"NPInter\"}\n",
    "len(npinter_val)\n",
    "npinter_train = {(u,v) for u,v,d in network.G.edges(data=True) if \"database\" in d and d[\"database\"]==\"NPInter\"}\n",
    "len(npinter_train)\n",
    "len(lncbase_train & l2t_val)"
   ]
  },
  {
   "cell_type": "markdown",
   "metadata": {},
   "source": [
    "# Filter the edges"
   ]
  },
  {
   "cell_type": "code",
   "execution_count": 3,
   "metadata": {},
   "outputs": [],
   "source": [
    "with open('moge/data/LMN_future_recall/TRAIN/Interactions_Affinity/LMN_lncbase_mirtarbase_biogrid_npinter_lncrna2target.train_v2.pickle', \n",
    "          'rb') as file:\n",
    "    network = pickle.load(file)"
   ]
  },
  {
   "cell_type": "code",
   "execution_count": 36,
   "metadata": {},
   "outputs": [
    {
     "name": "stdout",
     "output_type": "stream",
     "text": [
      "319246\n"
     ]
    }
   ],
   "source": [
    "edges_bunch = [(u,v,d) for u,v,d in network.G.edges(data=True) if (\"database\" in d and \n",
    "                                                                   d[\"database\"]==\"miRTarBase\")]\n",
    "print(len(edges_bunch))"
   ]
  },
  {
   "cell_type": "code",
   "execution_count": 37,
   "metadata": {},
   "outputs": [
    {
     "data": {
      "text/plain": [
       "16695"
      ]
     },
     "execution_count": 37,
     "metadata": {},
     "output_type": "execute_result"
    }
   ],
   "source": [
    "database_nodes = nx.DiGraph(incoming_graph_data=edges_bunch).nodes()\n",
    "database_nodes = list(database_nodes)\n",
    "len(database_nodes)"
   ]
  },
  {
   "cell_type": "code",
   "execution_count": 38,
   "metadata": {},
   "outputs": [
    {
     "name": "stdout",
     "output_type": "stream",
     "text": [
      "664279\n"
     ]
    }
   ],
   "source": [
    "edges_bunch = [(u,v,d) for u,v,d in network.G.edges(nbunch=database_nodes, data=True) \\\n",
    "               if d[\"type\"] == 'u' or d[\"type\"] == \"u_n\" or (\"database\" in d and d[\"database\"]==\"miRTarBase\")]\n",
    "print(len(edges_bunch))"
   ]
  },
  {
   "cell_type": "code",
   "execution_count": 39,
   "metadata": {},
   "outputs": [],
   "source": [
    "network.G.clear()\n",
    "network.G.add_edges_from(edges_bunch)"
   ]
  },
  {
   "cell_type": "markdown",
   "metadata": {},
   "source": [
    "# Filter the node_list"
   ]
  },
  {
   "cell_type": "code",
   "execution_count": 32,
   "metadata": {},
   "outputs": [
    {
     "data": {
      "text/plain": [
       "5746"
      ]
     },
     "execution_count": 32,
     "metadata": {},
     "output_type": "execute_result"
    }
   ],
   "source": [
    "node_pairs = {(node1, node2) for node1 in network.G.node for node2 in network.G.node if\\\n",
    "              node1!=node2 and node2.lower()==node1.lower()}\n",
    "len(node_pairs)"
   ]
  },
  {
   "cell_type": "code",
   "execution_count": 6,
   "metadata": {
    "collapsed": true,
    "jupyter": {
     "outputs_hidden": true
    }
   },
   "outputs": [
    {
     "ename": "NameError",
     "evalue": "name 'node_pairs' is not defined",
     "output_type": "error",
     "traceback": [
      "\u001b[0;31m---------------------------------------------------------------------------\u001b[0m",
      "\u001b[0;31mNameError\u001b[0m                                 Traceback (most recent call last)",
      "\u001b[0;32m<ipython-input-6-1ed57bee4f8f>\u001b[0m in \u001b[0;36m<module>\u001b[0;34m\u001b[0m\n\u001b[1;32m      1\u001b[0m \u001b[0mcase_relabel\u001b[0m \u001b[0;34m=\u001b[0m \u001b[0;34m{\u001b[0m\u001b[0;34m}\u001b[0m\u001b[0;34m\u001b[0m\u001b[0;34m\u001b[0m\u001b[0m\n\u001b[0;32m----> 2\u001b[0;31m \u001b[0;32mfor\u001b[0m \u001b[0mu\u001b[0m\u001b[0;34m,\u001b[0m\u001b[0mv\u001b[0m \u001b[0;32min\u001b[0m \u001b[0mnode_pairs\u001b[0m\u001b[0;34m:\u001b[0m\u001b[0;34m\u001b[0m\u001b[0;34m\u001b[0m\u001b[0m\n\u001b[0m\u001b[1;32m      3\u001b[0m     \u001b[0;32mif\u001b[0m \u001b[0mv\u001b[0m \u001b[0;32min\u001b[0m \u001b[0mnetwork\u001b[0m\u001b[0;34m.\u001b[0m\u001b[0mgenes_info\u001b[0m\u001b[0;34m.\u001b[0m\u001b[0mindex\u001b[0m\u001b[0;34m:\u001b[0m\u001b[0;34m\u001b[0m\u001b[0;34m\u001b[0m\u001b[0m\n\u001b[1;32m      4\u001b[0m         \u001b[0mcase_relabel\u001b[0m\u001b[0;34m[\u001b[0m\u001b[0mu\u001b[0m\u001b[0;34m]\u001b[0m \u001b[0;34m=\u001b[0m \u001b[0mv\u001b[0m\u001b[0;34m\u001b[0m\u001b[0;34m\u001b[0m\u001b[0m\n\u001b[1;32m      5\u001b[0m     \u001b[0;32melif\u001b[0m \u001b[0mu\u001b[0m \u001b[0;32min\u001b[0m \u001b[0mnetwork\u001b[0m\u001b[0;34m.\u001b[0m\u001b[0mgenes_info\u001b[0m\u001b[0;34m.\u001b[0m\u001b[0mindex\u001b[0m\u001b[0;34m:\u001b[0m\u001b[0;34m\u001b[0m\u001b[0;34m\u001b[0m\u001b[0m\n",
      "\u001b[0;31mNameError\u001b[0m: name 'node_pairs' is not defined"
     ]
    }
   ],
   "source": [
    "case_relabel = {}\n",
    "for u,v in node_pairs:\n",
    "    if v in network.genes_info.index:\n",
    "        case_relabel[u] = v\n",
    "    elif u in network.genes_info.index:\n",
    "        case_relabel[v] = u\n",
    "len(case_relabel)"
   ]
  },
  {
   "cell_type": "code",
   "execution_count": 19,
   "metadata": {},
   "outputs": [
    {
     "data": {
      "text/plain": [
       "24271"
      ]
     },
     "execution_count": 19,
     "metadata": {},
     "output_type": "execute_result"
    }
   ],
   "source": [
    "len([node for node in network.G.nodes if node not in network.genes_info.index])"
   ]
  },
  {
   "cell_type": "code",
   "execution_count": 16,
   "metadata": {},
   "outputs": [
    {
     "data": {
      "text/plain": [
       "10499"
      ]
     },
     "execution_count": 16,
     "metadata": {},
     "output_type": "execute_result"
    }
   ],
   "source": [
    "isolates = list(nx.isolates(network.G))\n",
    "len(isolates)"
   ]
  },
  {
   "cell_type": "code",
   "execution_count": 17,
   "metadata": {},
   "outputs": [
    {
     "data": {
      "text/plain": [
       "2"
      ]
     },
     "execution_count": 17,
     "metadata": {},
     "output_type": "execute_result"
    }
   ],
   "source": [
    "bad_nodes = [node for node in network.get_node_list() if node is None or \\\n",
    "             type(node) != str or \\\n",
    "             node == \"\" or \\\n",
    "             \" \" in node\n",
    "            ]\n",
    "len(bad_nodes)"
   ]
  },
  {
   "cell_type": "code",
   "execution_count": 18,
   "metadata": {},
   "outputs": [],
   "source": [
    "network.G.remove_nodes_from(isolates)\n",
    "network.G.remove_nodes_from(bad_nodes)\n",
    "network.G_u.remove_nodes_from(bad_nodes)"
   ]
  },
  {
   "cell_type": "code",
   "execution_count": 19,
   "metadata": {},
   "outputs": [],
   "source": [
    "network.nodes[\"GE\"] = [node for node in network.nodes[\"GE\"] if node in network.G.nodes()]\n",
    "network.nodes[\"LNC\"] = [node for node in network.nodes[\"LNC\"] if node in network.G.nodes()]\n",
    "network.nodes[\"MIR\"] = [node for node in network.nodes[\"MIR\"] if node in network.G.nodes()]"
   ]
  },
  {
   "cell_type": "code",
   "execution_count": 20,
   "metadata": {},
   "outputs": [
    {
     "data": {
      "text/plain": [
       "(45179, 844144)"
      ]
     },
     "execution_count": 20,
     "metadata": {},
     "output_type": "execute_result"
    }
   ],
   "source": [
    "network.G.number_of_nodes(), network.G.number_of_edges()"
   ]
  },
  {
   "cell_type": "code",
   "execution_count": 21,
   "metadata": {},
   "outputs": [
    {
     "data": {
      "text/plain": [
       "55678"
      ]
     },
     "execution_count": 21,
     "metadata": {},
     "output_type": "execute_result"
    }
   ],
   "source": [
    "len(network.node_list)"
   ]
  },
  {
   "cell_type": "code",
   "execution_count": 22,
   "metadata": {},
   "outputs": [],
   "source": [
    "# WRITE/READ FULL network\n",
    "import pickle\n",
    "with open('moge/data/LMN_future_recall/TRAIN/Interactions_Affinity/LMN_lncbase_mirtarbase_biogrid_npinter_lncrna2target_cotissexp.train.pickle', \n",
    "          'wb') as file:\n",
    "    pickle.dump(network, file)\n",
    "#     network = pickle.load(file)"
   ]
  },
  {
   "cell_type": "markdown",
   "metadata": {},
   "source": [
    "# Split train-test by edges"
   ]
  },
  {
   "cell_type": "code",
   "execution_count": 45,
   "metadata": {},
   "outputs": [],
   "source": [
    "import pickle\n",
    "# WRITE READ network\n",
    "with open('moge/data/LMN_future_recall/Predict/Interactions_Affinity/LMN_mirtarbase_starbase_lncbase_npinter_lncrna2target.test.pickle', 'rb') as file:\n",
    "    network = pickle.load(file)"
   ]
  },
  {
   "cell_type": "code",
   "execution_count": 27,
   "metadata": {},
   "outputs": [
    {
     "name": "stdout",
     "output_type": "stream",
     "text": [
      "preprocessing...\n",
      "edges_to_remove 345875\n",
      "edges_to_remove (after MST) 345875\n",
      "test_edges_size 0\n",
      "val_edges_size 69175\n",
      "Removed 0 test, and 69175 val, type ['d'] edges\n"
     ]
    }
   ],
   "source": [
    "from moge.evaluation.utils import split_train_test_edges\n",
    "\n",
    "network_train, test_edges, val_edges = split_train_test_edges(network, network.node_list, \n",
    "#                                                                            databases=,\n",
    "                                                          test_frac=.00, val_frac=.20, edge_types=[\"d\"], \n",
    "                                                          seed=0, verbose=True)"
   ]
  },
  {
   "cell_type": "code",
   "execution_count": 28,
   "metadata": {},
   "outputs": [
    {
     "name": "stdout",
     "output_type": "stream",
     "text": [
      "MIR  nodes: 1870\n",
      "GE  nodes: 20157\n",
      "LNC  nodes: 12706\n",
      "Total nodes: 34733\n",
      "Genes info columns: ['Transcript sequence', 'Disease association', 'locus_type', 'GO Terms', 'Family']\n",
      "Number of nodes without seq removed: 2153\n",
      "Total nodes (filtered): 32581\n",
      "MIR  nodes: 1870\n",
      "GE  nodes: 20157\n",
      "LNC  nodes: 12706\n",
      "Total nodes: 34733\n",
      "Genes info columns: ['Transcript sequence', 'Disease association', 'locus_type', 'GO Terms', 'Family']\n",
      "Number of nodes without seq removed: 2153\n",
      "Total nodes (filtered): 32581\n"
     ]
    }
   ],
   "source": [
    "from moge.network.heterogeneous_network import HeterogeneousNetwork\n",
    "\n",
    "network_test = HeterogeneousNetwork(modalities=[\"MIR\", \"GE\", \"LNC\"], multi_omics_data=network.multi_omics_data)\n",
    "network_val = HeterogeneousNetwork(modalities=[\"MIR\", \"GE\", \"LNC\"], multi_omics_data=network.multi_omics_data)\n",
    "network_test.G.add_edges_from(test_edges)\n",
    "network_val.G.add_edges_from(val_edges)"
   ]
  },
  {
   "cell_type": "markdown",
   "metadata": {},
   "source": [
    "# Split train-test by nodes"
   ]
  },
  {
   "cell_type": "code",
   "execution_count": null,
   "metadata": {},
   "outputs": [],
   "source": [
    "from moge.evaluation.utils import split_train_test_nodes\n",
    "\n",
    "network_train, test_edges, val_edges, test_nodes, val_nodes = split_train_test_nodes(network, network.nodes[\"LNC\"],\n",
    "                                                          test_frac=.00, val_frac=.10, edge_types=[\"d\"], \n",
    "                                                          seed=0, verbose=True)"
   ]
  },
  {
   "cell_type": "code",
   "execution_count": null,
   "metadata": {},
   "outputs": [],
   "source": [
    "from moge.network.heterogeneous_network import HeterogeneousNetwork\n",
    "\n",
    "network_test = HeterogeneousNetwork(modalities=[\"MIR\", \"GE\", \"LNC\"], multi_omics_data=network.multi_omics_data)\n",
    "network_val = HeterogeneousNetwork(modalities=[\"MIR\", \"GE\", \"LNC\"], multi_omics_data=network.multi_omics_data)\n",
    "network_test.val_node_list = test_nodes\n",
    "network_val.val_node_list = val_nodes\n",
    "network_test.G.add_edges_from(test_edges)\n",
    "network_val.G.add_edges_from(val_edges)\n",
    "len(network_test.node_list), len(network_val.node_list)"
   ]
  },
  {
   "cell_type": "code",
   "execution_count": null,
   "metadata": {},
   "outputs": [],
   "source": [
    "network_train.G.number_of_edges()"
   ]
  },
  {
   "cell_type": "markdown",
   "metadata": {},
   "source": [
    "# Write Network Data to Files"
   ]
  },
  {
   "cell_type": "code",
   "execution_count": 29,
   "metadata": {},
   "outputs": [],
   "source": [
    "# WRITE\n",
    "import pickle\n",
    "with open('moge/data/LMN_only_directed/lmn_edges20/lmn_edges20_train.pickle', 'wb') as file:\n",
    "    pickle.dump(network_train, file)\n",
    "    \n",
    "with open('moge/data/LMN_only_directed/lmn_edges20/lmn_edges20_test.pickle', 'wb') as file:\n",
    "    pickle.dump(network_test, file)\n",
    "    \n",
    "with open('moge/data/LMN_only_directed/lmn_edges20/lmn_edges20_val.pickle', 'wb') as file:\n",
    "    pickle.dump(network_val, file)"
   ]
  },
  {
   "cell_type": "code",
   "execution_count": 30,
   "metadata": {},
   "outputs": [],
   "source": [
    "# WRITE Edgelist\n",
    "nx.write_edgelist(network_train.get_subgraph([\"MIR\", \"GE\", \"LNC\"]), \n",
    "                  \"moge/data/LMN_only_directed/lmn_edges20/lmn_edges20_train.full.edgelist\", \n",
    "                  data=False)"
   ]
  },
  {
   "cell_type": "code",
   "execution_count": 25,
   "metadata": {},
   "outputs": [],
   "source": [
    "# Write edgelist interactions only\n",
    "nx.write_edgelist(nx.Graph(incoming_graph_data=network.get_edgelist(node_list=network.node_list)),\n",
    "                  \"moge/data/LMN_future_recall/TRAIN/Interactions_Only/lmn_train.interactions.latest.edgelist\",\n",
    "                  data=False)"
   ]
  },
  {
   "cell_type": "code",
   "execution_count": 11,
   "metadata": {},
   "outputs": [],
   "source": [
    "# Write edgelist interactions only, database specific\n",
    "nx.write_edgelist(nx.Graph(incoming_graph_data=network.get_edgelist(edge_types=[\"d\"], \n",
    "                                                                    databases=[\"BioGRID\"], \n",
    "                                                                    node_list=network.node_list)),\n",
    "                  \"moge/data/LMN_future_recall/TRAIN/Interactions_Only/LNC/lmn_train.BioGRID.interactions.edgelist\",\n",
    "                  data=False)"
   ]
  },
  {
   "cell_type": "markdown",
   "metadata": {},
   "source": [
    "## Network Info & Visualizations"
   ]
  },
  {
   "cell_type": "code",
   "execution_count": null,
   "metadata": {},
   "outputs": [],
   "source": [
    "print(len(network.G.nodes()))\n",
    "print(len(network.G.edges()))"
   ]
  },
  {
   "cell_type": "code",
   "execution_count": null,
   "metadata": {},
   "outputs": [],
   "source": [
    "csr_un = network.get_adjacency_matrix(edge_types=[\"u_n\"], node_list=network.node_list)\n",
    "csr_u = network.get_adjacency_matrix(edge_types=[\"u\"], node_list=network.node_list)\n",
    "csr_d = network.get_adjacency_matrix(edge_types=[\"d\"], node_list=network.node_list)"
   ]
  },
  {
   "cell_type": "code",
   "execution_count": null,
   "metadata": {},
   "outputs": [],
   "source": [
    "matrix_heatmap(csr_un.toarray())"
   ]
  },
  {
   "cell_type": "code",
   "execution_count": null,
   "metadata": {},
   "outputs": [],
   "source": [
    "matrix_heatmap(csr_u.toarray())"
   ]
  },
  {
   "cell_type": "code",
   "execution_count": null,
   "metadata": {},
   "outputs": [],
   "source": [
    "matrix_heatmap(csr_d.toarray())"
   ]
  }
 ],
 "metadata": {
  "kernelspec": {
   "display_name": "Python 3",
   "language": "python",
   "name": "python3"
  },
  "language_info": {
   "codemirror_mode": {
    "name": "ipython",
    "version": 3
   },
   "file_extension": ".py",
   "mimetype": "text/x-python",
   "name": "python",
   "nbconvert_exporter": "python",
   "pygments_lexer": "ipython3",
   "version": "3.6.9"
  }
 },
 "nbformat": 4,
 "nbformat_minor": 4
}
