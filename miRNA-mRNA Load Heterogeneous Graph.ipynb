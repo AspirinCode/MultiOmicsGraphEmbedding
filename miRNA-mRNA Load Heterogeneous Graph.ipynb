{
 "cells": [
  {
   "cell_type": "code",
   "execution_count": 1,
   "metadata": {},
   "outputs": [],
   "source": [
    "# Necessary imports\n",
    "%load_ext autoreload\n",
    "%autoreload 2\\\n",
    "\n",
    "import networkx as nx\n",
    "import numpy as np\n",
    "import pandas as pd\n",
    "import scipy.sparse as sps\n",
    "\n",
    "from TCGAMultiOmics.multiomics import MultiOmicsData\n",
    "from moge.visualization.plot_data import matrix_heatmap, plot_coo_matrix\n",
    "\n",
    "import seaborn\n",
    "import matplotlib.pyplot as plt"
   ]
  },
  {
   "cell_type": "markdown",
   "metadata": {},
   "source": [
    "# Import the TCGA cancer data"
   ]
  },
  {
   "cell_type": "code",
   "execution_count": 2,
   "metadata": {},
   "outputs": [
    {
     "name": "stderr",
     "output_type": "stream",
     "text": [
      "/home/jonny/.conda/envs/jonny_conda3/lib/python3.6/site-packages/pandas/core/frame.py:3781: SettingWithCopyWarning: \n",
      "A value is trying to be set on a copy of a slice from a DataFrame\n",
      "\n",
      "See the caveats in the documentation: http://pandas.pydata.org/pandas-docs/stable/indexing.html#indexing-view-versus-copy\n",
      "  return super(DataFrame, self).rename(**kwargs)\n"
     ]
    },
    {
     "name": "stdout",
     "output_type": "stream",
     "text": [
      "PATIENTS (522, 110)\n",
      "DRUGS (461, 4)\n",
      "GE (576, 20284)\n",
      "MIR (494, 1870)\n",
      "LNC (546, 12727)\n",
      "SAMPLES (599, 111)\n",
      "Processed genes info for  GE\n",
      "Processed genes info for  MIR\n"
     ]
    },
    {
     "name": "stderr",
     "output_type": "stream",
     "text": [
      "/home/jonny/.conda/envs/jonny_conda3/lib/python3.6/site-packages/TCGAMultiOmics/genomic.py:615: FutureWarning: 'MiRBase ID' is both an index level and a column label.\n",
      "Defaulting to column, but this will raise an ambiguity error in a future version\n",
      "  self.gene_info = self.gene_info.join(self.targetScan_family_df.groupby(\"MiRBase ID\").first(), on=\"MiRBase ID\",how=\"left\")\n",
      "/home/jonny/.conda/envs/jonny_conda3/lib/python3.6/site-packages/TCGAMultiOmics/genomic.py:309: FutureWarning: 'symbol' is both an index level and a column label.\n",
      "Defaulting to column, but this will raise an ambiguity error in a future version\n",
      "  self.gene_info = self.gene_info.join(self.HGNC_lncrna_info.groupby(\"symbol\").first(), on=\"symbol\",\n",
      "/home/jonny/.conda/envs/jonny_conda3/lib/python3.6/site-packages/pandas/core/frame.py:6336: FutureWarning: 'Gene Name' is both an index level and a column label.\n",
      "Defaulting to column, but this will raise an ambiguity error in a future version\n",
      "  rsuffix=rsuffix, sort=sort)\n"
     ]
    },
    {
     "name": "stdout",
     "output_type": "stream",
     "text": [
      "Processed genes info for  LNC\n"
     ]
    }
   ],
   "source": [
    "folder_path = \"/home/jonny/PycharmProjects/Bioinformatics_ExternalData/tcga-assembler/LUAD/\"\n",
    "external_data_path = \"/home/jonny/PycharmProjects/Bioinformatics_ExternalData/\"\n",
    "luad_data = MultiOmicsData(cancer_type=\"LUAD\", tcga_data_path=folder_path, external_data_path=external_data_path,\n",
    "                           modalities=[\\\n",
    "                                       \"GE\",\n",
    "                                       \"MIR\",\n",
    "                                       \"LNC\",\n",
    "                                       # \"CNV\",\n",
    "                                       # \"SNP\",\n",
    "#                                        \"PRO\",\n",
    "                                       # \"DNA\"\n",
    "                                       ])"
   ]
  },
  {
   "cell_type": "markdown",
   "metadata": {},
   "source": [
    "# Heterogeneous Network"
   ]
  },
  {
   "cell_type": "code",
   "execution_count": 3,
   "metadata": {},
   "outputs": [
    {
     "name": "stdout",
     "output_type": "stream",
     "text": [
      "MIR  nodes: 1870\n",
      "GE  nodes: 20284\n",
      "LNC  nodes: 12725\n",
      "Total nodes: 34879\n"
     ]
    }
   ],
   "source": [
    "from moge.network.heterogeneous_network import HeterogeneousNetwork\n",
    "\n",
    "network = HeterogeneousNetwork(modalities=[\"MIR\", \"GE\", \"LNC\"], multi_omics_data=luad_data)"
   ]
  },
  {
   "cell_type": "markdown",
   "metadata": {},
   "source": [
    "## Write node labels to file"
   ]
  },
  {
   "cell_type": "code",
   "execution_count": 7,
   "metadata": {},
   "outputs": [],
   "source": [
    "# READ Edgeslist\n",
    "network.import_edgelist_file(file=\"lncRNA-miRNA-mRNA_new-08-14.edgelist\", \n",
    "                             is_directed=True)"
   ]
  },
  {
   "cell_type": "code",
   "execution_count": 16,
   "metadata": {},
   "outputs": [],
   "source": [
    "# WRITE Edgelist\n",
    "nx.write_edgelist(network_train.get_subgraph([\"MIR\", \"GE\", \"LNC\"]), \n",
    "                  \"moge/data/lncRNA_miRNA_mRNA/lmn_network_filtered_directed.edgelist\", \n",
    "                  data=False)"
   ]
  },
  {
   "cell_type": "code",
   "execution_count": 4,
   "metadata": {
    "scrolled": true
   },
   "outputs": [],
   "source": [
    "from moge.network.file_io import write_node_labels_to_file\n",
    "\n",
    "# write_node_labels_to_file(\"moge/data/lncRNA_miRNA_mRNA/lncRNA-miRNA-mRNA_node_labels_family.tsv\", luad_data, \n",
    "#                           label_cols=[\"family\"],\n",
    "#                           modalities=[\"MIR\", \"GE\", \"LNC\"], \n",
    "#                           get_dummies=False)\n",
    "\n",
    "# write_node_labels_to_file(\"moge/data/lncRNA_miRNA_mRNA/lncRNA-miRNA-mRNA_node_labels_disease_dummies.tsv\", luad_data, \n",
    "#                           label_cols=[\"Disease association\"],\n",
    "#                           modalities=[\"MIR\", \"GE\", \"LNC\"], remove_na=True, sep=\"\\t\",\n",
    "#                           get_dummies=True)"
   ]
  },
  {
   "cell_type": "markdown",
   "metadata": {},
   "source": [
    "# Compute Correlations"
   ]
  },
  {
   "cell_type": "code",
   "execution_count": 11,
   "metadata": {
    "scrolled": true
   },
   "outputs": [
    {
     "name": "stdout",
     "output_type": "stream",
     "text": [
      "(20284, 20284)\n",
      "(100, 100)\n"
     ]
    },
    {
     "data": {
      "text/plain": [
       "array([1.09191938, 1.03888832, 1.12990872, ..., 0.86209461, 1.05402262,\n",
       "       1.17710952])"
      ]
     },
     "execution_count": 11,
     "metadata": {},
     "output_type": "execute_result"
    }
   ],
   "source": [
    "from moge.network.omics_distance import compute_expression_correlation_dists\n",
    "\n",
    "compute_expression_correlation_dists(network.multi_omics_data, node_list=network.nodes[\"GE\"][0:100], \n",
    "                                     modalities=[\"GE\"], squareform=False)"
   ]
  },
  {
   "cell_type": "markdown",
   "metadata": {},
   "source": [
    "# Add Node Similarity Edges"
   ]
  },
  {
   "cell_type": "code",
   "execution_count": 4,
   "metadata": {
    "scrolled": true
   },
   "outputs": [
    {
     "name": "stdout",
     "output_type": "stream",
     "text": [
      "Gower's dissimilarity: Computing locus_type , dtype: object , shape: (20284,)\n",
      "Dice distance\n"
     ]
    },
    {
     "name": "stderr",
     "output_type": "stream",
     "text": [
      "/home/jonny/.conda/envs/jonny_conda3/lib/python3.6/site-packages/sklearn/utils/validation.py:475: DataConversionWarning: Data with input dtype int64 was converted to bool by check_pairwise_arrays.\n",
      "  warnings.warn(msg, DataConversionWarning)\n"
     ]
    },
    {
     "name": "stdout",
     "output_type": "stream",
     "text": [
      "Gower's dissimilarity: Computing gene_family_id , dtype: object , shape: (20284,)\n",
      "Dice distance\n"
     ]
    },
    {
     "name": "stderr",
     "output_type": "stream",
     "text": [
      "/home/jonny/.conda/envs/jonny_conda3/lib/python3.6/site-packages/sklearn/utils/validation.py:475: DataConversionWarning: Data with input dtype int64 was converted to bool by check_pairwise_arrays.\n",
      "  warnings.warn(msg, DataConversionWarning)\n"
     ]
    },
    {
     "name": "stdout",
     "output_type": "stream",
     "text": [
      "Gower's dissimilarity: Computing location , dtype: object , shape: (20284,)\n",
      "Location split to Chromosome, arm, region\n",
      "Gower's dissimilarity: Computing Chromosome , dtype: object , shape: (20284,)\n",
      "Dice distance\n"
     ]
    },
    {
     "name": "stderr",
     "output_type": "stream",
     "text": [
      "/home/jonny/.conda/envs/jonny_conda3/lib/python3.6/site-packages/sklearn/utils/validation.py:475: DataConversionWarning: Data with input dtype uint8 was converted to bool by check_pairwise_arrays.\n",
      "  warnings.warn(msg, DataConversionWarning)\n"
     ]
    },
    {
     "name": "stdout",
     "output_type": "stream",
     "text": [
      "Gower's dissimilarity: Computing arm , dtype: object , shape: (20284,)\n",
      "Dice distance\n"
     ]
    },
    {
     "name": "stderr",
     "output_type": "stream",
     "text": [
      "/home/jonny/.conda/envs/jonny_conda3/lib/python3.6/site-packages/sklearn/utils/validation.py:475: DataConversionWarning: Data with input dtype uint8 was converted to bool by check_pairwise_arrays.\n",
      "  warnings.warn(msg, DataConversionWarning)\n"
     ]
    },
    {
     "name": "stdout",
     "output_type": "stream",
     "text": [
      "Gower's dissimilarity: Computing region , dtype: object , shape: (20284,)\n",
      "Dice distance\n"
     ]
    },
    {
     "name": "stderr",
     "output_type": "stream",
     "text": [
      "/home/jonny/.conda/envs/jonny_conda3/lib/python3.6/site-packages/sklearn/utils/validation.py:475: DataConversionWarning: Data with input dtype uint8 was converted to bool by check_pairwise_arrays.\n",
      "  warnings.warn(msg, DataConversionWarning)\n",
      "/home/jonny/PycharmProjects/MultiOmicsGraphEmbedding/moge/network/omics_distance.py:146: RuntimeWarning: invalid value encountered in greater_equal\n",
      "  X[i][np.where(X[i-1] >= X[i])] = X[i-1][np.where(X[i-1] >= X[i])] # the distance of child feature is only as great as distance of parent features\n",
      "/home/jonny/PycharmProjects/MultiOmicsGraphEmbedding/moge/network/omics_distance.py:148: RuntimeWarning: Mean of empty slice\n",
      "  return np.nanmean(X, axis=0)\n"
     ]
    },
    {
     "name": "stdout",
     "output_type": "stream",
     "text": [
      "Correlation distance (205710186,)\n"
     ]
    },
    {
     "name": "stderr",
     "output_type": "stream",
     "text": [
      "/home/jonny/PycharmProjects/MultiOmicsGraphEmbedding/moge/network/omics_distance.py:135: RuntimeWarning: Mean of empty slice\n",
      "  agg_func = lambda x: np.nanmean(x, axis=0)\n"
     ]
    },
    {
     "name": "stdout",
     "output_type": "stream",
     "text": [
      "84870 undirected positive edges (type='u') added.\n",
      "254610 undirected negative edges (type='u_n') added.\n"
     ]
    }
   ],
   "source": [
    "network.add_edges_from_nodes_similarity(modality=\"GE\", node_list=network.nodes[\"GE\"], \n",
    "                                        similarity_threshold=0.70, dissimilarity_threshold=0.01,\n",
    "                                        negative_sampling_ratio=3.0,\n",
    "                                       features=[\"locus_type\", \"gene_family_id\", \"location\"], compute_correlation=True)"
   ]
  },
  {
   "cell_type": "code",
   "execution_count": 5,
   "metadata": {
    "scrolled": true
   },
   "outputs": [
    {
     "name": "stdout",
     "output_type": "stream",
     "text": [
      "Gower's dissimilarity: Computing miR family , dtype: object , shape: (1870,)\n",
      "Dice distance\n"
     ]
    },
    {
     "name": "stderr",
     "output_type": "stream",
     "text": [
      "/home/jonny/.conda/envs/jonny_conda3/lib/python3.6/site-packages/sklearn/utils/validation.py:475: DataConversionWarning: Data with input dtype int64 was converted to bool by check_pairwise_arrays.\n",
      "  warnings.warn(msg, DataConversionWarning)\n"
     ]
    },
    {
     "name": "stdout",
     "output_type": "stream",
     "text": [
      "Correlation distance (1747515,)\n",
      "308 undirected positive edges (type='u') added.\n"
     ]
    },
    {
     "name": "stderr",
     "output_type": "stream",
     "text": [
      "/home/jonny/PycharmProjects/MultiOmicsGraphEmbedding/moge/network/omics_distance.py:135: RuntimeWarning: Mean of empty slice\n",
      "  agg_func = lambda x: np.nanmean(x, axis=0)\n"
     ]
    },
    {
     "name": "stdout",
     "output_type": "stream",
     "text": [
      "1540 undirected negative edges (type='u_n') added.\n"
     ]
    }
   ],
   "source": [
    "network.add_edges_from_nodes_similarity(modality=\"MIR\", node_list=network.nodes[\"MIR\"], \n",
    "                                        similarity_threshold=0.70, dissimilarity_threshold=0.1,\n",
    "                                        negative_sampling_ratio=5.0,\n",
    "                                        features=[\"miR family\"], compute_correlation=True)"
   ]
  },
  {
   "cell_type": "code",
   "execution_count": 6,
   "metadata": {},
   "outputs": [
    {
     "name": "stdout",
     "output_type": "stream",
     "text": [
      "Gower's dissimilarity: Computing Transcript Type , dtype: object , shape: (12725,)\n",
      "Dice distance\n"
     ]
    },
    {
     "name": "stderr",
     "output_type": "stream",
     "text": [
      "/home/jonny/.conda/envs/jonny_conda3/lib/python3.6/site-packages/sklearn/utils/validation.py:475: DataConversionWarning: Data with input dtype uint8 was converted to bool by check_pairwise_arrays.\n",
      "  warnings.warn(msg, DataConversionWarning)\n"
     ]
    },
    {
     "name": "stdout",
     "output_type": "stream",
     "text": [
      "Gower's dissimilarity: Computing Location , dtype: object , shape: (12725,)\n",
      "Location split to Chromosome, start, end\n",
      "Gower's dissimilarity: Computing Chromosome , dtype: object , shape: (12725,)\n",
      "Dice distance\n"
     ]
    },
    {
     "name": "stderr",
     "output_type": "stream",
     "text": [
      "/home/jonny/.conda/envs/jonny_conda3/lib/python3.6/site-packages/sklearn/utils/validation.py:475: DataConversionWarning: Data with input dtype uint8 was converted to bool by check_pairwise_arrays.\n",
      "  warnings.warn(msg, DataConversionWarning)\n"
     ]
    },
    {
     "name": "stdout",
     "output_type": "stream",
     "text": [
      "Gower's dissimilarity: Computing start , dtype: float64 , shape: (12725,)\n",
      "Euclidean distance (normalized ptp)\n"
     ]
    },
    {
     "name": "stderr",
     "output_type": "stream",
     "text": [
      "/home/jonny/PycharmProjects/MultiOmicsGraphEmbedding/moge/network/omics_distance.py:146: RuntimeWarning: invalid value encountered in greater_equal\n",
      "  X[i][np.where(X[i-1] >= X[i])] = X[i-1][np.where(X[i-1] >= X[i])] # the distance of child feature is only as great as distance of parent features\n",
      "/home/jonny/PycharmProjects/MultiOmicsGraphEmbedding/moge/network/omics_distance.py:148: RuntimeWarning: Mean of empty slice\n",
      "  return np.nanmean(X, axis=0)\n",
      "/home/jonny/.conda/envs/jonny_conda3/lib/python3.6/site-packages/sklearn/utils/validation.py:475: DataConversionWarning: Data with input dtype uint8 was converted to bool by check_pairwise_arrays.\n",
      "  warnings.warn(msg, DataConversionWarning)\n"
     ]
    },
    {
     "name": "stdout",
     "output_type": "stream",
     "text": [
      "Gower's dissimilarity: Computing Strand , dtype: object , shape: (12725,)\n",
      "Dice distance\n",
      "Correlation distance (80956450,)\n"
     ]
    },
    {
     "name": "stderr",
     "output_type": "stream",
     "text": [
      "/home/jonny/PycharmProjects/MultiOmicsGraphEmbedding/moge/network/omics_distance.py:135: RuntimeWarning: Mean of empty slice\n",
      "  agg_func = lambda x: np.nanmean(x, axis=0)\n"
     ]
    },
    {
     "name": "stdout",
     "output_type": "stream",
     "text": [
      "77522 undirected positive edges (type='u') added.\n",
      "232566 undirected negative edges (type='u_n') added.\n"
     ]
    }
   ],
   "source": [
    "network.add_edges_from_nodes_similarity(modality=\"LNC\", node_list=network.nodes[\"LNC\"], \n",
    "                                        similarity_threshold=0.75, dissimilarity_threshold=0.01,\n",
    "                                        negative_sampling_ratio=3.0,\n",
    "                                        features=[\"Transcript Type\", \"Location\", \"Strand\"], compute_correlation=True)"
   ]
  },
  {
   "cell_type": "code",
   "execution_count": 7,
   "metadata": {},
   "outputs": [
    {
     "data": {
      "text/plain": [
       "651416"
      ]
     },
     "execution_count": 7,
     "metadata": {},
     "output_type": "execute_result"
    }
   ],
   "source": [
    "network.G.number_of_edges()"
   ]
  },
  {
   "cell_type": "markdown",
   "metadata": {},
   "source": [
    "# Add Regulatory Interaction edges"
   ]
  },
  {
   "cell_type": "code",
   "execution_count": 8,
   "metadata": {},
   "outputs": [
    {
     "name": "stdout",
     "output_type": "stream",
     "text": [
      "Adding edgelist with 331 total unique MIR genes (source), but only matching 292 nodes\n",
      "Adding edgelist with 13035 total unique GE genes (target), but only matching 12234 nodes\n",
      "228767 edges added.\n"
     ]
    }
   ],
   "source": [
    "# Adds miRNA-target interaction network\n",
    "network.add_directed_edges_from_edgelist(edgelist=luad_data.MIR.get_miRNA_target_interaction(), \n",
    "                                        modalities=[\"MIR\", \"GE\"],\n",
    "                                        )"
   ]
  },
  {
   "cell_type": "code",
   "execution_count": 9,
   "metadata": {},
   "outputs": [
    {
     "name": "stderr",
     "output_type": "stream",
     "text": [
      "/home/jonny/.conda/envs/jonny_conda3/lib/python3.6/site-packages/IPython/core/interactiveshell.py:2907: DtypeWarning: Columns (19,20) have mixed types. Specify dtype option on import or set low_memory=False.\n",
      "  if self.run_code(code, result):\n"
     ]
    },
    {
     "name": "stdout",
     "output_type": "stream",
     "text": [
      "Adding edgelist with 13318 total unique GE genes (source), but only matching 12775 nodes\n",
      "Adding edgelist with 19429 total unique GE genes (target), but only matching 14995 nodes\n",
      "313724 edges added.\n"
     ]
    }
   ],
   "source": [
    "# Adds Gene Regulatory Network edges\n",
    "network.add_directed_edges_from_edgelist(edgelist=luad_data.GE.get_BioGRID_GRN_edgelist(), # unweighted edges\n",
    "                                         modalities=[\"GE\", \"GE\"],\n",
    "                                        )"
   ]
  },
  {
   "cell_type": "code",
   "execution_count": 10,
   "metadata": {},
   "outputs": [
    {
     "name": "stdout",
     "output_type": "stream",
     "text": [
      "Adding edgelist with 978 total unique MIR genes (source), but only matching 893 nodes\n",
      "Adding edgelist with 66 total unique LNC genes (target), but only matching 31 nodes\n",
      "2375 edges added.\n",
      "Adding edgelist with 702 total unique MIR genes (source), but only matching 631 nodes\n",
      "Adding edgelist with 6185 total unique LNC genes (target), but only matching 1760 nodes\n",
      "53926 edges added.\n"
     ]
    }
   ],
   "source": [
    "# Adds miRNA-lncRNA interaction network\n",
    "# network.add_directed_edges_from_edgelist(edgelist=luad_data.LNC.get_starBase_lncRNA_miRNA_interactions_edgelist(),\n",
    "#                                         )\n",
    "network.add_directed_edges_from_edgelist(edgelist=luad_data.LNC.get_lncRNome_miRNA_binding_sites_edgelist(),\n",
    "                                         modalities=[\"MIR\", \"LNC\"]\n",
    "                                        )\n",
    "\n",
    "network.add_directed_edges_from_edgelist(edgelist=luad_data.LNC.get_lncBase_lncRNA_miRNA_interactions_edgelist(),\n",
    "                                         modalities=[\"MIR\", \"LNC\"])"
   ]
  },
  {
   "cell_type": "code",
   "execution_count": 11,
   "metadata": {},
   "outputs": [
    {
     "data": {
      "text/plain": [
       "1249463"
      ]
     },
     "execution_count": 11,
     "metadata": {},
     "output_type": "execute_result"
    }
   ],
   "source": [
    "network.G.number_of_edges()"
   ]
  },
  {
   "cell_type": "markdown",
   "metadata": {},
   "source": [
    "# Filter the node_list"
   ]
  },
  {
   "cell_type": "code",
   "execution_count": 12,
   "metadata": {},
   "outputs": [],
   "source": [
    "isolates = list(nx.isolates(network.G))"
   ]
  },
  {
   "cell_type": "code",
   "execution_count": 14,
   "metadata": {},
   "outputs": [],
   "source": [
    "network.nodes[\"GE\"] = [node for node in network.nodes[\"GE\"] if node not in isolates]\n",
    "network.nodes[\"LNC\"] = [node for node in network.nodes[\"LNC\"] if node not in isolates]\n",
    "network.nodes[\"MIR\"] = [node for node in network.nodes[\"MIR\"] if node not in isolates]\n",
    "network.node_list = [node for node in network.node_list if node not in isolates]"
   ]
  },
  {
   "cell_type": "code",
   "execution_count": 10,
   "metadata": {},
   "outputs": [],
   "source": [
    "# network.remove_extra_nodes() # Also makes network unmutable"
   ]
  },
  {
   "cell_type": "code",
   "execution_count": 15,
   "metadata": {},
   "outputs": [
    {
     "data": {
      "text/plain": [
       "43887"
      ]
     },
     "execution_count": 15,
     "metadata": {},
     "output_type": "execute_result"
    }
   ],
   "source": [
    "network.G.number_of_nodes()"
   ]
  },
  {
   "cell_type": "code",
   "execution_count": 16,
   "metadata": {},
   "outputs": [
    {
     "data": {
      "text/plain": [
       "34679"
      ]
     },
     "execution_count": 16,
     "metadata": {},
     "output_type": "execute_result"
    }
   ],
   "source": [
    "len(network.node_list)"
   ]
  },
  {
   "cell_type": "markdown",
   "metadata": {},
   "source": [
    "# Split train-test"
   ]
  },
  {
   "cell_type": "code",
   "execution_count": 17,
   "metadata": {},
   "outputs": [
    {
     "name": "stdout",
     "output_type": "stream",
     "text": [
      "Removed 3247 test, and 97417 val, type u edges\n",
      "Removed 4897 test, and 146935 val, type d edges\n",
      "Removed 9772 test, and 293170 val, type u_n edges\n"
     ]
    }
   ],
   "source": [
    "from moge.evaluation.utils import split_train_test_edges\n",
    "\n",
    "network_train, val_edges_dict, test_edges_dict = split_train_test_edges(network, network.node_list, \n",
    "                                                          test_frac=.01, val_frac=.30, edge_types=[\"u\", \"d\", \"u_n\"], \n",
    "                                                          seed=0, verbose=False)"
   ]
  },
  {
   "cell_type": "code",
   "execution_count": 18,
   "metadata": {},
   "outputs": [
    {
     "name": "stdout",
     "output_type": "stream",
     "text": [
      "MIR  nodes: 1870\n",
      "GE  nodes: 20284\n",
      "LNC  nodes: 12725\n",
      "Total nodes: 34879\n",
      "MIR  nodes: 1870\n",
      "GE  nodes: 20284\n",
      "LNC  nodes: 12725\n",
      "Total nodes: 34879\n"
     ]
    }
   ],
   "source": [
    "network_test = HeterogeneousNetwork(modalities=[\"MIR\", \"GE\", \"LNC\"], multi_omics_data=network.multi_omics_data)\n",
    "network_val = HeterogeneousNetwork(modalities=[\"MIR\", \"GE\", \"LNC\"], multi_omics_data=network.multi_omics_data)\n",
    "node_list = network_train.node_list"
   ]
  },
  {
   "cell_type": "code",
   "execution_count": 19,
   "metadata": {},
   "outputs": [
    {
     "name": "stdout",
     "output_type": "stream",
     "text": [
      "17916\n",
      "537515\n"
     ]
    }
   ],
   "source": [
    "for edge_type, edges in test_edges_dict.items():\n",
    "    for edge in edges:\n",
    "        network_test.G.add_edge(node_list[edge[0]], node_list[edge[1]], type=edge_type) # for split edges\n",
    "#         network_test.G.add_edge(edge[0], edge[1], type=edge_type) # for split nodes\n",
    "print(network_test.G.number_of_edges())\n",
    "\n",
    "for edge_type, edges in val_edges_dict.items():\n",
    "    for edge in edges:\n",
    "        network_val.G.add_edge(node_list[edge[0]], node_list[edge[1]], type=edge_type) # for split edges\n",
    "#         network_val.G.add_edge(edge[0], edge[1], type=edge_type) # For split nodes\n",
    "print(network_val.G.number_of_edges())"
   ]
  },
  {
   "cell_type": "code",
   "execution_count": 20,
   "metadata": {},
   "outputs": [],
   "source": [
    "# WRITE\n",
    "import pickle\n",
    "with open('moge/data/correlation_affinity/l75_m70_n70_30_edges_train.pickle', 'wb') as file:\n",
    "    pickle.dump(network_train, file)\n",
    "    \n",
    "with open('moge/data/correlation_affinity/l75_m70_n70_30_edges_test.pickle', 'wb') as file:\n",
    "    pickle.dump(network_test, file)\n",
    "    \n",
    "with open('moge/data/correlation_affinity/l75_m70_n70_30_edges_val.pickle', 'wb') as file:\n",
    "    pickle.dump(network_val, file)"
   ]
  },
  {
   "cell_type": "markdown",
   "metadata": {},
   "source": [
    "## Network Info & Visualizations"
   ]
  },
  {
   "cell_type": "code",
   "execution_count": 22,
   "metadata": {},
   "outputs": [
    {
     "name": "stdout",
     "output_type": "stream",
     "text": [
      "43887\n",
      "895874\n"
     ]
    }
   ],
   "source": [
    "print(len(network.G.nodes()))\n",
    "print(len(network.G.edges()))"
   ]
  },
  {
   "cell_type": "code",
   "execution_count": 31,
   "metadata": {},
   "outputs": [],
   "source": [
    "csr_un = network.get_adjacency_matrix(edge_types=[\"u_n\"], node_list=network.node_list)\n",
    "csr_u = network.get_adjacency_matrix(edge_types=[\"u\"], node_list=network.node_list)\n",
    "csr_d = network.get_adjacency_matrix(edge_types=[\"d\"], node_list=network.node_list)"
   ]
  },
  {
   "cell_type": "code",
   "execution_count": 27,
   "metadata": {
    "collapsed": true
   },
   "outputs": [
    {
     "data": {
      "image/png": "[encoded data removed]",
      "text/plain": [
       "<Figure size 1080x1080 with 2 Axes>"
      ]
     },
     "metadata": {
      "needs_background": "light"
     },
     "output_type": "display_data"
    }
   ],
   "source": [
    "matrix_heatmap(csr_un.toarray())"
   ]
  },
  {
   "cell_type": "code",
   "execution_count": 32,
   "metadata": {
    "collapsed": true
   },
   "outputs": [
    {
     "data": {
      "image/png": "[encoded data removed]",
      "text/plain": [
       "<Figure size 1080x1080 with 2 Axes>"
      ]
     },
     "metadata": {
      "needs_background": "light"
     },
     "output_type": "display_data"
    }
   ],
   "source": [
    "matrix_heatmap(csr_u.toarray())"
   ]
  },
  {
   "cell_type": "code",
   "execution_count": 33,
   "metadata": {
    "collapsed": true
   },
   "outputs": [
    {
     "data": {
      "image/png": "[encoded data removed]",
      "text/plain": [
       "<Figure size 1080x1080 with 2 Axes>"
      ]
     },
     "metadata": {
      "needs_background": "light"
     },
     "output_type": "display_data"
    }
   ],
   "source": [
    "matrix_heatmap(csr_d.toarray())"
   ]
  },
  {
   "cell_type": "code",
   "execution_count": null,
   "metadata": {},
   "outputs": [],
   "source": []
  }
 ],
 "metadata": {
  "kernelspec": {
   "display_name": "Python 3",
   "language": "python",
   "name": "python3"
  },
  "language_info": {
   "codemirror_mode": {
    "name": "ipython",
    "version": 3
   },
   "file_extension": ".py",
   "mimetype": "text/x-python",
   "name": "python",
   "nbconvert_exporter": "python",
   "pygments_lexer": "ipython3",
   "version": "3.6.6"
  }
 },
 "nbformat": 4,
 "nbformat_minor": 1
}
