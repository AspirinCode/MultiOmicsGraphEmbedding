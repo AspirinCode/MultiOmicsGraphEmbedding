{
 "cells": [
  {
   "cell_type": "code",
   "execution_count": 1,
   "metadata": {},
   "outputs": [],
   "source": [
    "# Necessary imports\n",
    "%load_ext autoreload\n",
    "%autoreload 2\n",
    "\n",
    "import networkx as nx\n",
    "import numpy as np\n",
    "import pandas as pd\n",
    "import scipy.sparse as sps\n",
    "\n",
    "from TCGAMultiOmics.multiomics import MultiOmicsData\n",
    "from moge.visualization.plot_data import matrix_heatmap, plot_coo_matrix\n",
    "\n",
    "import seaborn\n",
    "import matplotlib.pyplot as plt\n",
    "from moge.network.omics_distance import *\n"
   ]
  },
  {
   "cell_type": "markdown",
   "metadata": {},
   "source": [
    "# Import the TCGA cancer data"
   ]
  },
  {
   "cell_type": "code",
   "execution_count": 7,
   "metadata": {},
   "outputs": [],
   "source": [
    "import pickle\n",
    "with open('moge/data/luad_data_longest.pickle', 'rb') as file:\n",
    "    luad_data = pickle.load(file)"
   ]
  },
  {
   "cell_type": "code",
   "execution_count": 3,
   "metadata": {},
   "outputs": [
    {
     "name": "stderr",
     "output_type": "stream",
     "text": [
      "/opt/anaconda3/lib/python3.6/site-packages/pandas/core/frame.py:3781: SettingWithCopyWarning: \n",
      "A value is trying to be set on a copy of a slice from a DataFrame\n",
      "\n",
      "See the caveats in the documentation: http://pandas.pydata.org/pandas-docs/stable/indexing.html#indexing-view-versus-copy\n",
      "  return super(DataFrame, self).rename(**kwargs)\n"
     ]
    },
    {
     "name": "stdout",
     "output_type": "stream",
     "text": [
      "Unmatched lncRNAs 12727\n",
      "Unmatched lncRNAs after gencode: 1033\n",
      "Unmatched lncRNAs after lncBase: 812\n",
      "Unmatched lncRNAs after HGNC: 758\n",
      "Unmatched lncRNAs after lncipedia: 622\n",
      "PATIENTS (522, 110)\n",
      "DRUGS (461, 4)\n",
      "GE (576, 20157)\n",
      "MIR (494, 1870)\n",
      "LNC (546, 12727)\n",
      "SAMPLES (599, 111)\n",
      "Processed genes info for  GE\n",
      "Processed genes info for  MIR\n",
      "Processed genes info for  LNC\n"
     ]
    },
    {
     "name": "stderr",
     "output_type": "stream",
     "text": [
      "/opt/anaconda3/lib/python3.6/site-packages/TCGAMultiOmics/genomic.py:920: FutureWarning: 'MiRBase ID' is both an index level and a column label.\n",
      "Defaulting to column, but this will raise an ambiguity error in a future version\n",
      "  self.gene_info = self.gene_info.join(self.targetScan_family_df.groupby(\"MiRBase ID\").first(), on=\"MiRBase ID\", how=\"left\")\n"
     ]
    }
   ],
   "source": [
    "folder_path = \"/data/datasets/Bioinformatics_ExternalData/tcga-assembler/LUAD/\"\n",
    "external_data_path = \"/data/datasets/Bioinformatics_ExternalData/\"\n",
    "luad_data = MultiOmicsData(cancer_type=\"LUAD\", tcga_data_path=folder_path, external_data_path=external_data_path,\n",
    "                           modalities=[\\\n",
    "                                       \"GE\",\n",
    "                                       \"MIR\",\n",
    "                                       \"LNC\",\n",
    "                                       # \"CNV\",\n",
    "                                       # \"SNP\",\n",
    "#                                        \"PRO\",\n",
    "                                       # \"DNA\"\n",
    "                                       ])"
   ]
  },
  {
   "cell_type": "code",
   "execution_count": 27,
   "metadata": {
    "collapsed": true
   },
   "outputs": [
    {
     "name": "stdout",
     "output_type": "stream",
     "text": [
      "\n",
      "\t=== w e l c o m e   t o   p y s e m s i m ! ===&\n",
      "\n",
      "\tPlease go for a tea while preprocessing...\n"
     ]
    },
    {
     "name": "stderr",
     "output_type": "stream",
     "text": [
      "        Looking up ancestors -- finished: : 991kit [00:09, 109kit/s]                                         \n"
     ]
    },
    {
     "name": "stdout",
     "output_type": "stream",
     "text": [
      "\n",
      "\tHurray! Preprocessing is ready!\n",
      "\tYou can start to calculate semantic similarities:\n",
      "\n",
      "\tThis class calculates a graph based semantic similarity\n",
      "\tas it was described in Alvarez & Yan, J. Bioinform. Comput. Biol.\n",
      "\t9:6 (2011) 681-695.\n",
      "\n",
      "\tTo calculate semantic similarity between 2 GO terms:\n",
      "\n",
      "\t\t>>> go.semSim('GO:0048311', 'GO:0000019', aspect = 'P')\n",
      "\n",
      "\tAbove, `go` is a <class pysemsim.GraphBased> instance, and aspect\n",
      "\tthe ontology tree by default `P` for `biological_process`, or you\n",
      "\t might use `C` for `cellular_component` or `F` for `molecular_function`.\n",
      "\n",
      "\tTo calculate BMA (best match average) of the semantic similarities\n",
      "\tbetween 2 sets of GO terms, call like this:\n",
      "\n",
      "\t\t>>> go.setSemSimBMA(goSet1, goSet2, aspect = 'P')\n",
      "\n",
      "\tWhere `goSet1` and `goSet2` are lists of GO terms.\n",
      "\n",
      "\tDon`t forget, PyGO caches the result, causing speedup\n",
      "\tas you do more calculations. So keep the same instance.\n",
      "\n",
      "\tGood luck!\n",
      "\n"
     ]
    }
   ],
   "source": [
    "import pysemsim\n",
    "\n",
    "go = pysemsim.GraphBased('/home/jonny/PycharmProjects/Bioinformatics_ExternalData/GeneOntology/go.obo')\n",
    "\n"
   ]
  },
  {
   "cell_type": "code",
   "execution_count": 45,
   "metadata": {},
   "outputs": [],
   "source": [
    "goSet1 = GE.loc[\"A1BG\", \"GO Terms\"].split(\"|\")\n",
    "goSet2 = GE.loc[\"A2M\", \"GO Terms\"].split(\"|\")"
   ]
  },
  {
   "cell_type": "code",
   "execution_count": 51,
   "metadata": {},
   "outputs": [
    {
     "data": {
      "text/plain": [
       "0.3147326002322246"
      ]
     },
     "execution_count": 51,
     "metadata": {},
     "output_type": "execute_result"
    }
   ],
   "source": [
    "go.semSim('GO:0048311', 'GO:0000019', aspect = 'P')"
   ]
  },
  {
   "cell_type": "code",
   "execution_count": 52,
   "metadata": {
    "collapsed": true
   },
   "outputs": [
    {
     "ename": "ValueError",
     "evalue": "no such vertex: 'GO:0002020'",
     "output_type": "error",
     "traceback": [
      "\u001b[0;31m---------------------------------------------------------------------------\u001b[0m",
      "\u001b[0;31mValueError\u001b[0m                                Traceback (most recent call last)",
      "\u001b[0;32m<ipython-input-52-fd5725ba23d1>\u001b[0m in \u001b[0;36m<module>\u001b[0;34m\u001b[0m\n\u001b[0;32m----> 1\u001b[0;31m \u001b[0mgo\u001b[0m\u001b[0;34m.\u001b[0m\u001b[0msetSemSimBMA\u001b[0m\u001b[0;34m(\u001b[0m\u001b[0mgoSet1\u001b[0m\u001b[0;34m,\u001b[0m \u001b[0mgoSet2\u001b[0m\u001b[0;34m,\u001b[0m \u001b[0maspect\u001b[0m\u001b[0;34m=\u001b[0m\u001b[0;34m'P'\u001b[0m\u001b[0;34m)\u001b[0m\u001b[0;34m\u001b[0m\u001b[0m\n\u001b[0m",
      "\u001b[0;32m~/.conda/envs/jonny_conda3/lib/python3.6/site-packages/pysemsim/main.py\u001b[0m in \u001b[0;36msetSemSimBMA\u001b[0;34m(self, goSet1, goSet2, aspect)\u001b[0m\n\u001b[1;32m    280\u001b[0m \u001b[0;34m\u001b[0m\u001b[0m\n\u001b[1;32m    281\u001b[0m     \u001b[0;32mdef\u001b[0m \u001b[0msetSemSimBMA\u001b[0m\u001b[0;34m(\u001b[0m\u001b[0mself\u001b[0m\u001b[0;34m,\u001b[0m \u001b[0mgoSet1\u001b[0m\u001b[0;34m,\u001b[0m \u001b[0mgoSet2\u001b[0m\u001b[0;34m,\u001b[0m \u001b[0maspect\u001b[0m \u001b[0;34m=\u001b[0m \u001b[0;34m'P'\u001b[0m\u001b[0;34m)\u001b[0m\u001b[0;34m:\u001b[0m\u001b[0;34m\u001b[0m\u001b[0m\n\u001b[0;32m--> 282\u001b[0;31m         \u001b[0;32mreturn\u001b[0m \u001b[0mself\u001b[0m\u001b[0;34m.\u001b[0m\u001b[0msetSemSim\u001b[0m\u001b[0;34m(\u001b[0m\u001b[0mgoSet1\u001b[0m\u001b[0;34m,\u001b[0m \u001b[0mgoSet2\u001b[0m\u001b[0;34m,\u001b[0m \u001b[0maspect\u001b[0m\u001b[0;34m,\u001b[0m \u001b[0;34m'BMA'\u001b[0m\u001b[0;34m)\u001b[0m\u001b[0;34m\u001b[0m\u001b[0m\n\u001b[0m\u001b[1;32m    283\u001b[0m \u001b[0;34m\u001b[0m\u001b[0m\n\u001b[1;32m    284\u001b[0m     \u001b[0;32mdef\u001b[0m \u001b[0msetSemSimMAX\u001b[0m\u001b[0;34m(\u001b[0m\u001b[0mself\u001b[0m\u001b[0;34m,\u001b[0m \u001b[0mgoSet1\u001b[0m\u001b[0;34m,\u001b[0m \u001b[0mgoSet2\u001b[0m\u001b[0;34m,\u001b[0m \u001b[0maspect\u001b[0m \u001b[0;34m=\u001b[0m \u001b[0;34m'P'\u001b[0m\u001b[0;34m)\u001b[0m\u001b[0;34m:\u001b[0m\u001b[0;34m\u001b[0m\u001b[0m\n",
      "\u001b[0;32m~/.conda/envs/jonny_conda3/lib/python3.6/site-packages/pysemsim/main.py\u001b[0m in \u001b[0;36msetSemSim\u001b[0;34m(self, goSet1, goSet2, aspect, method)\u001b[0m\n\u001b[1;32m    270\u001b[0m         \u001b[0;32mfor\u001b[0m \u001b[0mi\u001b[0m\u001b[0;34m,\u001b[0m \u001b[0mgo1\u001b[0m \u001b[0;32min\u001b[0m \u001b[0menumerate\u001b[0m\u001b[0;34m(\u001b[0m\u001b[0mgoSet1\u001b[0m\u001b[0;34m)\u001b[0m\u001b[0;34m:\u001b[0m\u001b[0;34m\u001b[0m\u001b[0m\n\u001b[1;32m    271\u001b[0m             \u001b[0;32mfor\u001b[0m \u001b[0mj\u001b[0m\u001b[0;34m,\u001b[0m \u001b[0mgo2\u001b[0m \u001b[0;32min\u001b[0m \u001b[0menumerate\u001b[0m\u001b[0;34m(\u001b[0m\u001b[0mgoSet2\u001b[0m\u001b[0;34m)\u001b[0m\u001b[0;34m:\u001b[0m\u001b[0;34m\u001b[0m\u001b[0m\n\u001b[0;32m--> 272\u001b[0;31m                 \u001b[0maSs\u001b[0m\u001b[0;34m[\u001b[0m\u001b[0mi\u001b[0m\u001b[0;34m,\u001b[0m\u001b[0mj\u001b[0m\u001b[0;34m]\u001b[0m \u001b[0;34m=\u001b[0m \u001b[0mself\u001b[0m\u001b[0;34m.\u001b[0m\u001b[0msemSim\u001b[0m\u001b[0;34m(\u001b[0m\u001b[0mgo1\u001b[0m\u001b[0;34m,\u001b[0m \u001b[0mgo2\u001b[0m\u001b[0;34m,\u001b[0m \u001b[0maspect\u001b[0m\u001b[0;34m)\u001b[0m\u001b[0;34m\u001b[0m\u001b[0m\n\u001b[0m\u001b[1;32m    273\u001b[0m         \u001b[0;32mif\u001b[0m \u001b[0mmethod\u001b[0m \u001b[0;34m==\u001b[0m \u001b[0;34m'MAX'\u001b[0m\u001b[0;34m:\u001b[0m\u001b[0;34m\u001b[0m\u001b[0m\n\u001b[1;32m    274\u001b[0m             \u001b[0;32mreturn\u001b[0m \u001b[0mnp\u001b[0m\u001b[0;34m.\u001b[0m\u001b[0mamax\u001b[0m\u001b[0;34m(\u001b[0m\u001b[0maSs\u001b[0m\u001b[0;34m)\u001b[0m\u001b[0;34m\u001b[0m\u001b[0m\n",
      "\u001b[0;32m~/.conda/envs/jonny_conda3/lib/python3.6/site-packages/pysemsim/main.py\u001b[0m in \u001b[0;36msemSim\u001b[0;34m(self, go1, go2, aspect)\u001b[0m\n\u001b[1;32m    248\u001b[0m             \u001b[0;32mreturn\u001b[0m \u001b[0mself\u001b[0m\u001b[0;34m.\u001b[0m\u001b[0mtGodCache\u001b[0m\u001b[0;34m[\u001b[0m\u001b[0mtGo\u001b[0m\u001b[0;34m]\u001b[0m\u001b[0;34m\u001b[0m\u001b[0m\n\u001b[1;32m    249\u001b[0m         \u001b[0mv1\u001b[0m \u001b[0;34m=\u001b[0m \u001b[0mig\u001b[0m\u001b[0;34m.\u001b[0m\u001b[0mvs\u001b[0m\u001b[0;34m.\u001b[0m\u001b[0mfind\u001b[0m\u001b[0;34m(\u001b[0m\u001b[0mname\u001b[0m \u001b[0;34m=\u001b[0m \u001b[0mgo1\u001b[0m\u001b[0;34m)\u001b[0m\u001b[0;34m\u001b[0m\u001b[0m\n\u001b[0;32m--> 250\u001b[0;31m         \u001b[0mv2\u001b[0m \u001b[0;34m=\u001b[0m \u001b[0mig\u001b[0m\u001b[0;34m.\u001b[0m\u001b[0mvs\u001b[0m\u001b[0;34m.\u001b[0m\u001b[0mfind\u001b[0m\u001b[0;34m(\u001b[0m\u001b[0mname\u001b[0m \u001b[0;34m=\u001b[0m \u001b[0mgo2\u001b[0m\u001b[0;34m)\u001b[0m\u001b[0;34m\u001b[0m\u001b[0m\n\u001b[0m\u001b[1;32m    251\u001b[0m         \u001b[0;32mif\u001b[0m \u001b[0mv1\u001b[0m \u001b[0;34m==\u001b[0m \u001b[0mself\u001b[0m\u001b[0;34m.\u001b[0m\u001b[0mdiRoots\u001b[0m\u001b[0;34m[\u001b[0m\u001b[0maspect\u001b[0m\u001b[0;34m]\u001b[0m \u001b[0;32mor\u001b[0m \u001b[0mv2\u001b[0m \u001b[0;34m==\u001b[0m \u001b[0mself\u001b[0m\u001b[0;34m.\u001b[0m\u001b[0mdiRoots\u001b[0m\u001b[0;34m[\u001b[0m\u001b[0maspect\u001b[0m\u001b[0;34m]\u001b[0m\u001b[0;34m:\u001b[0m\u001b[0;34m\u001b[0m\u001b[0m\n\u001b[1;32m    252\u001b[0m             \u001b[0;31m# return 0.0\u001b[0m\u001b[0;34m\u001b[0m\u001b[0;34m\u001b[0m\u001b[0m\n",
      "\u001b[0;32m~/.conda/envs/jonny_conda3/lib/python3.6/site-packages/igraph/__init__.py\u001b[0m in \u001b[0;36mfind\u001b[0;34m(self, *args, **kwds)\u001b[0m\n\u001b[1;32m   3359\u001b[0m             \u001b[0;31m# Selecting first based on positional arguments, then checking\u001b[0m\u001b[0;34m\u001b[0m\u001b[0;34m\u001b[0m\u001b[0m\n\u001b[1;32m   3360\u001b[0m             \u001b[0;31m# the criteria specified by the (remaining) keyword arguments\u001b[0m\u001b[0;34m\u001b[0m\u001b[0;34m\u001b[0m\u001b[0m\n\u001b[0;32m-> 3361\u001b[0;31m             \u001b[0mvertex\u001b[0m \u001b[0;34m=\u001b[0m \u001b[0m_igraph\u001b[0m\u001b[0;34m.\u001b[0m\u001b[0mVertexSeq\u001b[0m\u001b[0;34m.\u001b[0m\u001b[0mfind\u001b[0m\u001b[0;34m(\u001b[0m\u001b[0mself\u001b[0m\u001b[0;34m,\u001b[0m \u001b[0;34m*\u001b[0m\u001b[0margs\u001b[0m\u001b[0;34m)\u001b[0m\u001b[0;34m\u001b[0m\u001b[0m\n\u001b[0m\u001b[1;32m   3362\u001b[0m             \u001b[0;32mif\u001b[0m \u001b[0;32mnot\u001b[0m \u001b[0mkwds\u001b[0m\u001b[0;34m:\u001b[0m\u001b[0;34m\u001b[0m\u001b[0m\n\u001b[1;32m   3363\u001b[0m                 \u001b[0;32mreturn\u001b[0m \u001b[0mvertex\u001b[0m\u001b[0;34m\u001b[0m\u001b[0m\n",
      "\u001b[0;31mValueError\u001b[0m: no such vertex: 'GO:0002020'"
     ]
    }
   ],
   "source": [
    "go.setSemSimBMA(goSet1, goSet2, aspect='P')"
   ]
  },
  {
   "cell_type": "code",
   "execution_count": 5,
   "metadata": {},
   "outputs": [
    {
     "name": "stdout",
     "output_type": "stream",
     "text": [
      "Index(['Transcript ID', 'Gene ID', 'Gene description', '3P-seq tags',\n",
      "       'locus_type', 'location', 'gene_family', 'gene_family_id',\n",
      "       'Transcript sequence', 'GO Terms', 'Disease association', 'Chromosome',\n",
      "       'Chromosome arm', 'Chromosome region', 'Transcript length'],\n",
      "      dtype='object')\n",
      "Index(['miR family', 'Seed+m8', 'Transcript sequence', 'Family Conservation?',\n",
      "       'MiRBase Accession', 'MiRBase ID', 'location', 'ensembl_gene_id',\n",
      "       'Disease association', 'locus_type', 'Transcript length', 'GO Terms',\n",
      "       'Rfams'],\n",
      "      dtype='object')\n",
      "Index(['Gene ID', 'Gene Name', 'HGNC Gene Name', 'Transcript id',\n",
      "       'Transcript name', 'Transcript type', 'tag', 'Chromosome', 'start',\n",
      "       'end', 'Strand', 'locus_type', 'Transcript sequence',\n",
      "       'Disease association', 'GO Terms', 'Rfams'],\n",
      "      dtype='object')\n"
     ]
    }
   ],
   "source": [
    "LNC = luad_data.LNC.get_genes_info()\n",
    "MIR = luad_data.MIR.get_genes_info()\n",
    "GE = luad_data.GE.get_genes_info()\n",
    "print(GE.columns)\n",
    "print(MIR.columns)\n",
    "print(LNC.columns)"
   ]
  },
  {
   "cell_type": "code",
   "execution_count": 8,
   "metadata": {
    "collapsed": true
   },
   "outputs": [
    {
     "data": {
      "text/plain": [
       "symbol\n",
       "A1BG         5\n",
       "A1CF        10\n",
       "A2M         13\n",
       "A2ML1        9\n",
       "A4GALT       7\n",
       "A4GNT        1\n",
       "AAAS        20\n",
       "AACS        12\n",
       "AACSP1       2\n",
       "AADAC        2\n",
       "AADACL2      2\n",
       "AADACL3      2\n",
       "AADACL4      1\n",
       "AADAT        8\n",
       "AAGAB        7\n",
       "AAK1        13\n",
       "AAMDC       12\n",
       "AAMP        10\n",
       "AANAT        4\n",
       "AAR2         3\n",
       "AARD         2\n",
       "AARS         7\n",
       "AARS2        2\n",
       "AARSD1      19\n",
       "AASDH       10\n",
       "AASDHPPT     5\n",
       "AASS         7\n",
       "AATF         9\n",
       "AATK        11\n",
       "ABAT        16\n",
       "            ..\n",
       "ZSCAN22      1\n",
       "ZSCAN23      3\n",
       "ZSCAN25     10\n",
       "ZSCAN26      7\n",
       "ZSCAN29      8\n",
       "ZSCAN30     12\n",
       "ZSCAN31     19\n",
       "ZSCAN32     15\n",
       "ZSCAN4       2\n",
       "ZSCAN5A     17\n",
       "ZSCAN5B      4\n",
       "ZSCAN9       9\n",
       "ZSWIM1       2\n",
       "ZSWIM2       2\n",
       "ZSWIM3       1\n",
       "ZSWIM4       3\n",
       "ZSWIM5       2\n",
       "ZSWIM6       1\n",
       "ZSWIM7      18\n",
       "ZSWIM8      23\n",
       "ZW10         3\n",
       "ZWILCH      14\n",
       "ZWINT        9\n",
       "ZXDA         1\n",
       "ZXDB         1\n",
       "ZXDC         4\n",
       "ZYG11A       3\n",
       "ZYG11B       2\n",
       "ZYX         10\n",
       "ZZEF1       11\n",
       "Name: Transcript sequence, Length: 19283, dtype: int64"
      ]
     },
     "execution_count": 8,
     "metadata": {},
     "output_type": "execute_result"
    }
   ],
   "source": [
    "GE[GE[\"Transcript sequence\"].notnull()][\"Transcript sequence\"].apply(lambda x: len(x))"
   ]
  },
  {
   "cell_type": "code",
   "execution_count": 21,
   "metadata": {},
   "outputs": [
    {
     "name": "stdout",
     "output_type": "stream",
     "text": [
      "Gower's dissimilarity: Computing GO Terms , dtype: object , shape: (20157,)\n",
      "Dice distance\n"
     ]
    },
    {
     "name": "stderr",
     "output_type": "stream",
     "text": [
      "/home/jonny/.conda/envs/jonny_conda3/lib/python3.6/site-packages/sklearn/utils/validation.py:590: DataConversionWarning: Data with input dtype uint8 was converted to bool by check_pairwise_arrays.\n",
      "  warnings.warn(msg, DataConversionWarning)\n"
     ]
    },
    {
     "name": "stdout",
     "output_type": "stream",
     "text": [
      "Gower's dissimilarity: Computing Disease association , dtype: object , shape: (20157,)\n",
      "Dice distance\n"
     ]
    },
    {
     "name": "stderr",
     "output_type": "stream",
     "text": [
      "/home/jonny/.conda/envs/jonny_conda3/lib/python3.6/site-packages/sklearn/utils/validation.py:590: DataConversionWarning: Data with input dtype int64 was converted to bool by check_pairwise_arrays.\n",
      "  warnings.warn(msg, DataConversionWarning)\n",
      "/home/jonny/PycharmProjects/MultiOmicsGraphEmbedding/moge/network/omics_distance.py:53: RuntimeWarning: Mean of empty slice\n",
      "  agg_func = lambda x: np.nanmean(x, axis=0)\n"
     ]
    }
   ],
   "source": [
    "# node_list = GE[GE[\"gene_family\"].notnull()].index[0:1000]\n",
    "node_list = GE.index\n",
    "# correlation_dist = compute_expression_correlation_dists(luad_data, modalities=[\"GE\"],\n",
    "#                                                         node_list=node_list, absolute_corr=True,\n",
    "#                                                         squareform=False)\n",
    "affinity = compute_annotation_affinities(GE, node_list=node_list,\n",
    "                features=[\"GO Terms\", \"Disease association\"], \n",
    "#                features=[\"Family\", \"tag\", \"Strand\", \"Chromosome\"], \n",
    "#                                          correlation_dist=correlation_dist,\n",
    "                                        nanmean=True, \n",
    "#                                          weights=[1, 1, 0.5, 0.5, 5],\n",
    "                                        )\n"
   ]
  },
  {
   "cell_type": "code",
   "execution_count": 22,
   "metadata": {},
   "outputs": [
    {
     "data": {
      "image/png": "[encoded data removed]",
      "text/plain": [
       "<Figure size 432x288 with 1 Axes>"
      ]
     },
     "metadata": {
      "needs_background": "light"
     },
     "output_type": "display_data"
    }
   ],
   "source": [
    "plt.hist(affinity[np.where(~np.isnan(affinity))].reshape((-1)), bins=500)\n",
    "plt.ylim(top=5000)\n",
    "plt.show()"
   ]
  },
  {
   "cell_type": "code",
   "execution_count": 23,
   "metadata": {},
   "outputs": [
    {
     "name": "stderr",
     "output_type": "stream",
     "text": [
      "/home/jonny/.conda/envs/jonny_conda3/lib/python3.6/site-packages/ipykernel_launcher.py:2: RuntimeWarning: invalid value encountered in greater\n",
      "  \n"
     ]
    },
    {
     "name": "stdout",
     "output_type": "stream",
     "text": [
      "threshold at 0.6 : 119652\n"
     ]
    }
   ],
   "source": [
    "threshold=0.6\n",
    "print(\"threshold at\", threshold,\":\",(affinity > threshold).sum())\n",
    "# print(\"threshold at\", threshold,\":\",(affinity < 0.01).sum())"
   ]
  },
  {
   "cell_type": "code",
   "execution_count": 24,
   "metadata": {
    "scrolled": true
   },
   "outputs": [
    {
     "name": "stderr",
     "output_type": "stream",
     "text": [
      "/home/jonny/.conda/envs/jonny_conda3/lib/python3.6/site-packages/ipykernel_launcher.py:1: RuntimeWarning: invalid value encountered in greater\n",
      "  \"\"\"Entry point for launching an IPython kernel.\n"
     ]
    },
    {
     "data": {
      "image/png": "[encoded data removed]",
      "text/plain": [
       "<Figure size 864x864 with 2 Axes>"
      ]
     },
     "metadata": {
      "needs_background": "light"
     },
     "output_type": "display_data"
    }
   ],
   "source": [
    "matrix_heatmap(np.array(affinity>threshold, dtype=float))"
   ]
  },
  {
   "cell_type": "code",
   "execution_count": null,
   "metadata": {},
   "outputs": [],
   "source": []
  },
  {
   "cell_type": "code",
   "execution_count": 18,
   "metadata": {},
   "outputs": [],
   "source": [
    "import wget\n",
    "for gene in luad_data.LNC.get_genes_list():\n",
    "    wget.download(\"http://starbase.sysu.edu.cn/moduleDownload.php?source=rnaRNA&type=xls&value=hg19;\"+gene+\";1;1\", \n",
    "              out=\"/home/jonny/PycharmProjects/Bioinformatics_ExternalData/StarBase v2.0/lncrna_rna_interactions\")\n",
    "    "
   ]
  },
  {
   "cell_type": "code",
   "execution_count": 19,
   "metadata": {
    "collapsed": true
   },
   "outputs": [
    {
     "data": {
      "text/html": [
       "<div>\n",
       "<style scoped>\n",
       "    .dataframe tbody tr th:only-of-type {\n",
       "        vertical-align: middle;\n",
       "    }\n",
       "\n",
       "    .dataframe tbody tr th {\n",
       "        vertical-align: top;\n",
       "    }\n",
       "\n",
       "    .dataframe thead th {\n",
       "        text-align: right;\n",
       "    }\n",
       "</style>\n",
       "<table border=\"1\" class=\"dataframe\">\n",
       "  <thead>\n",
       "    <tr style=\"text-align: right;\">\n",
       "      <th></th>\n",
       "      <th>geneID</th>\n",
       "      <th>geneName</th>\n",
       "      <th>geneType</th>\n",
       "      <th>pairGeneID</th>\n",
       "      <th>pairGeneName</th>\n",
       "      <th>pairGeneType</th>\n",
       "      <th>interactionNum</th>\n",
       "      <th>expNum</th>\n",
       "      <th>seqTypeNum</th>\n",
       "      <th>totalReadsNum</th>\n",
       "      <th>FreeEnergy</th>\n",
       "      <th>AlignScore(Smith-Waterman)</th>\n",
       "    </tr>\n",
       "  </thead>\n",
       "  <tbody>\n",
       "    <tr>\n",
       "      <th>0</th>\n",
       "      <td>ENSG00000237604</td>\n",
       "      <td>AP001056.1</td>\n",
       "      <td>lincRNA</td>\n",
       "      <td>ENSG00000173674</td>\n",
       "      <td>EIF1AX</td>\n",
       "      <td>protein_coding</td>\n",
       "      <td>1</td>\n",
       "      <td>1</td>\n",
       "      <td>1</td>\n",
       "      <td>1</td>\n",
       "      <td>-21.80</td>\n",
       "      <td>19.0</td>\n",
       "    </tr>\n",
       "    <tr>\n",
       "      <th>1</th>\n",
       "      <td>ENSG00000237604</td>\n",
       "      <td>AP001056.1</td>\n",
       "      <td>lincRNA</td>\n",
       "      <td>ENSG00000272060.1</td>\n",
       "      <td>RNA18S5</td>\n",
       "      <td>rRNA</td>\n",
       "      <td>1</td>\n",
       "      <td>1</td>\n",
       "      <td>1</td>\n",
       "      <td>2</td>\n",
       "      <td>-26.60</td>\n",
       "      <td>13.5</td>\n",
       "    </tr>\n",
       "    <tr>\n",
       "      <th>2</th>\n",
       "      <td>ENSG00000237604</td>\n",
       "      <td>AP001056.1</td>\n",
       "      <td>lincRNA</td>\n",
       "      <td>Entrez100008588</td>\n",
       "      <td>RNA18N5</td>\n",
       "      <td>rRNA</td>\n",
       "      <td>4</td>\n",
       "      <td>1</td>\n",
       "      <td>1</td>\n",
       "      <td>5</td>\n",
       "      <td>-61.90</td>\n",
       "      <td>19.5</td>\n",
       "    </tr>\n",
       "    <tr>\n",
       "      <th>0</th>\n",
       "      <td>ENSG00000213468</td>\n",
       "      <td>FIRRE</td>\n",
       "      <td>lincRNA</td>\n",
       "      <td>ENSG00000014641</td>\n",
       "      <td>MDH1</td>\n",
       "      <td>protein_coding</td>\n",
       "      <td>1</td>\n",
       "      <td>1</td>\n",
       "      <td>1</td>\n",
       "      <td>3</td>\n",
       "      <td>-37.90</td>\n",
       "      <td>32.0</td>\n",
       "    </tr>\n",
       "    <tr>\n",
       "      <th>1</th>\n",
       "      <td>ENSG00000213468</td>\n",
       "      <td>FIRRE</td>\n",
       "      <td>lincRNA</td>\n",
       "      <td>ENSG00000015479</td>\n",
       "      <td>MATR3</td>\n",
       "      <td>protein_coding</td>\n",
       "      <td>1</td>\n",
       "      <td>1</td>\n",
       "      <td>1</td>\n",
       "      <td>2</td>\n",
       "      <td>-15.90</td>\n",
       "      <td>20.0</td>\n",
       "    </tr>\n",
       "    <tr>\n",
       "      <th>2</th>\n",
       "      <td>ENSG00000213468</td>\n",
       "      <td>FIRRE</td>\n",
       "      <td>lincRNA</td>\n",
       "      <td>ENSG00000026559</td>\n",
       "      <td>KCNG1</td>\n",
       "      <td>protein_coding</td>\n",
       "      <td>1</td>\n",
       "      <td>1</td>\n",
       "      <td>1</td>\n",
       "      <td>1</td>\n",
       "      <td>-10.90</td>\n",
       "      <td>14.0</td>\n",
       "    </tr>\n",
       "    <tr>\n",
       "      <th>3</th>\n",
       "      <td>ENSG00000213468</td>\n",
       "      <td>FIRRE</td>\n",
       "      <td>lincRNA</td>\n",
       "      <td>ENSG00000083937</td>\n",
       "      <td>CHMP2B</td>\n",
       "      <td>protein_coding</td>\n",
       "      <td>1</td>\n",
       "      <td>1</td>\n",
       "      <td>1</td>\n",
       "      <td>1</td>\n",
       "      <td>-22.30</td>\n",
       "      <td>19.0</td>\n",
       "    </tr>\n",
       "    <tr>\n",
       "      <th>4</th>\n",
       "      <td>ENSG00000213468</td>\n",
       "      <td>FIRRE</td>\n",
       "      <td>lincRNA</td>\n",
       "      <td>ENSG00000089597</td>\n",
       "      <td>GANAB</td>\n",
       "      <td>protein_coding</td>\n",
       "      <td>1</td>\n",
       "      <td>1</td>\n",
       "      <td>1</td>\n",
       "      <td>1</td>\n",
       "      <td>-31.00</td>\n",
       "      <td>23.5</td>\n",
       "    </tr>\n",
       "    <tr>\n",
       "      <th>5</th>\n",
       "      <td>ENSG00000213468</td>\n",
       "      <td>FIRRE</td>\n",
       "      <td>lincRNA</td>\n",
       "      <td>ENSG00000100426</td>\n",
       "      <td>ZBED4</td>\n",
       "      <td>protein_coding</td>\n",
       "      <td>1</td>\n",
       "      <td>1</td>\n",
       "      <td>1</td>\n",
       "      <td>1</td>\n",
       "      <td>-21.10</td>\n",
       "      <td>20.0</td>\n",
       "    </tr>\n",
       "    <tr>\n",
       "      <th>6</th>\n",
       "      <td>ENSG00000213468</td>\n",
       "      <td>FIRRE</td>\n",
       "      <td>lincRNA</td>\n",
       "      <td>ENSG00000104687</td>\n",
       "      <td>GSR</td>\n",
       "      <td>protein_coding</td>\n",
       "      <td>1</td>\n",
       "      <td>1</td>\n",
       "      <td>1</td>\n",
       "      <td>1</td>\n",
       "      <td>-11.80</td>\n",
       "      <td>11.5</td>\n",
       "    </tr>\n",
       "    <tr>\n",
       "      <th>7</th>\n",
       "      <td>ENSG00000213468</td>\n",
       "      <td>FIRRE</td>\n",
       "      <td>lincRNA</td>\n",
       "      <td>ENSG00000109046</td>\n",
       "      <td>WSB1</td>\n",
       "      <td>protein_coding</td>\n",
       "      <td>1</td>\n",
       "      <td>1</td>\n",
       "      <td>1</td>\n",
       "      <td>1</td>\n",
       "      <td>-22.60</td>\n",
       "      <td>22.0</td>\n",
       "    </tr>\n",
       "    <tr>\n",
       "      <th>8</th>\n",
       "      <td>ENSG00000213468</td>\n",
       "      <td>FIRRE</td>\n",
       "      <td>lincRNA</td>\n",
       "      <td>ENSG00000120896</td>\n",
       "      <td>SORBS3</td>\n",
       "      <td>protein_coding</td>\n",
       "      <td>1</td>\n",
       "      <td>1</td>\n",
       "      <td>1</td>\n",
       "      <td>1</td>\n",
       "      <td>-34.20</td>\n",
       "      <td>20.0</td>\n",
       "    </tr>\n",
       "    <tr>\n",
       "      <th>9</th>\n",
       "      <td>ENSG00000213468</td>\n",
       "      <td>FIRRE</td>\n",
       "      <td>lincRNA</td>\n",
       "      <td>ENSG00000123607</td>\n",
       "      <td>TTC21B</td>\n",
       "      <td>protein_coding</td>\n",
       "      <td>3</td>\n",
       "      <td>2</td>\n",
       "      <td>1</td>\n",
       "      <td>3</td>\n",
       "      <td>-24.20</td>\n",
       "      <td>16.0</td>\n",
       "    </tr>\n",
       "    <tr>\n",
       "      <th>10</th>\n",
       "      <td>ENSG00000213468</td>\n",
       "      <td>FIRRE</td>\n",
       "      <td>lincRNA</td>\n",
       "      <td>ENSG00000125991</td>\n",
       "      <td>ERGIC3</td>\n",
       "      <td>protein_coding</td>\n",
       "      <td>1</td>\n",
       "      <td>1</td>\n",
       "      <td>1</td>\n",
       "      <td>1</td>\n",
       "      <td>-32.70</td>\n",
       "      <td>27.5</td>\n",
       "    </tr>\n",
       "    <tr>\n",
       "      <th>11</th>\n",
       "      <td>ENSG00000213468</td>\n",
       "      <td>FIRRE</td>\n",
       "      <td>lincRNA</td>\n",
       "      <td>ENSG00000127423</td>\n",
       "      <td>AUNIP</td>\n",
       "      <td>protein_coding</td>\n",
       "      <td>2</td>\n",
       "      <td>2</td>\n",
       "      <td>2</td>\n",
       "      <td>24</td>\n",
       "      <td>-27.20</td>\n",
       "      <td>16.0</td>\n",
       "    </tr>\n",
       "    <tr>\n",
       "      <th>12</th>\n",
       "      <td>ENSG00000213468</td>\n",
       "      <td>FIRRE</td>\n",
       "      <td>lincRNA</td>\n",
       "      <td>ENSG00000131759</td>\n",
       "      <td>RARA</td>\n",
       "      <td>protein_coding</td>\n",
       "      <td>1</td>\n",
       "      <td>1</td>\n",
       "      <td>1</td>\n",
       "      <td>1</td>\n",
       "      <td>-28.50</td>\n",
       "      <td>14.0</td>\n",
       "    </tr>\n",
       "    <tr>\n",
       "      <th>13</th>\n",
       "      <td>ENSG00000213468</td>\n",
       "      <td>FIRRE</td>\n",
       "      <td>lincRNA</td>\n",
       "      <td>ENSG00000134014</td>\n",
       "      <td>ELP3</td>\n",
       "      <td>protein_coding</td>\n",
       "      <td>1</td>\n",
       "      <td>1</td>\n",
       "      <td>1</td>\n",
       "      <td>3</td>\n",
       "      <td>-28.20</td>\n",
       "      <td>15.5</td>\n",
       "    </tr>\n",
       "    <tr>\n",
       "      <th>14</th>\n",
       "      <td>ENSG00000213468</td>\n",
       "      <td>FIRRE</td>\n",
       "      <td>lincRNA</td>\n",
       "      <td>ENSG00000152086</td>\n",
       "      <td>TUBA3E</td>\n",
       "      <td>protein_coding</td>\n",
       "      <td>1</td>\n",
       "      <td>1</td>\n",
       "      <td>1</td>\n",
       "      <td>1</td>\n",
       "      <td>-16.90</td>\n",
       "      <td>13.5</td>\n",
       "    </tr>\n",
       "    <tr>\n",
       "      <th>15</th>\n",
       "      <td>ENSG00000213468</td>\n",
       "      <td>FIRRE</td>\n",
       "      <td>lincRNA</td>\n",
       "      <td>ENSG00000164615</td>\n",
       "      <td>CAMLG</td>\n",
       "      <td>protein_coding</td>\n",
       "      <td>1</td>\n",
       "      <td>1</td>\n",
       "      <td>1</td>\n",
       "      <td>1</td>\n",
       "      <td>-28.20</td>\n",
       "      <td>20.0</td>\n",
       "    </tr>\n",
       "    <tr>\n",
       "      <th>16</th>\n",
       "      <td>ENSG00000213468</td>\n",
       "      <td>FIRRE</td>\n",
       "      <td>lincRNA</td>\n",
       "      <td>ENSG00000172366</td>\n",
       "      <td>MCRIP2</td>\n",
       "      <td>protein_coding</td>\n",
       "      <td>30</td>\n",
       "      <td>6</td>\n",
       "      <td>1</td>\n",
       "      <td>36</td>\n",
       "      <td>-48.27</td>\n",
       "      <td>31.5</td>\n",
       "    </tr>\n",
       "    <tr>\n",
       "      <th>17</th>\n",
       "      <td>ENSG00000213468</td>\n",
       "      <td>FIRRE</td>\n",
       "      <td>lincRNA</td>\n",
       "      <td>ENSG00000175344</td>\n",
       "      <td>CHRNA7</td>\n",
       "      <td>protein_coding</td>\n",
       "      <td>1</td>\n",
       "      <td>1</td>\n",
       "      <td>1</td>\n",
       "      <td>1</td>\n",
       "      <td>-19.00</td>\n",
       "      <td>21.0</td>\n",
       "    </tr>\n",
       "    <tr>\n",
       "      <th>18</th>\n",
       "      <td>ENSG00000213468</td>\n",
       "      <td>FIRRE</td>\n",
       "      <td>lincRNA</td>\n",
       "      <td>ENSG00000179933</td>\n",
       "      <td>C14orf119</td>\n",
       "      <td>protein_coding</td>\n",
       "      <td>1</td>\n",
       "      <td>1</td>\n",
       "      <td>1</td>\n",
       "      <td>1</td>\n",
       "      <td>-26.50</td>\n",
       "      <td>14.0</td>\n",
       "    </tr>\n",
       "    <tr>\n",
       "      <th>19</th>\n",
       "      <td>ENSG00000213468</td>\n",
       "      <td>FIRRE</td>\n",
       "      <td>lincRNA</td>\n",
       "      <td>ENSG00000182979</td>\n",
       "      <td>MTA1</td>\n",
       "      <td>protein_coding</td>\n",
       "      <td>1</td>\n",
       "      <td>1</td>\n",
       "      <td>1</td>\n",
       "      <td>4</td>\n",
       "      <td>-5.10</td>\n",
       "      <td>15.5</td>\n",
       "    </tr>\n",
       "    <tr>\n",
       "      <th>20</th>\n",
       "      <td>ENSG00000213468</td>\n",
       "      <td>FIRRE</td>\n",
       "      <td>lincRNA</td>\n",
       "      <td>ENSG00000184613</td>\n",
       "      <td>NELL2</td>\n",
       "      <td>protein_coding</td>\n",
       "      <td>1</td>\n",
       "      <td>1</td>\n",
       "      <td>1</td>\n",
       "      <td>1</td>\n",
       "      <td>-20.30</td>\n",
       "      <td>18.0</td>\n",
       "    </tr>\n",
       "    <tr>\n",
       "      <th>21</th>\n",
       "      <td>ENSG00000213468</td>\n",
       "      <td>FIRRE</td>\n",
       "      <td>lincRNA</td>\n",
       "      <td>ENSG00000187239</td>\n",
       "      <td>FNBP1</td>\n",
       "      <td>protein_coding</td>\n",
       "      <td>1</td>\n",
       "      <td>1</td>\n",
       "      <td>1</td>\n",
       "      <td>2</td>\n",
       "      <td>-14.40</td>\n",
       "      <td>14.0</td>\n",
       "    </tr>\n",
       "    <tr>\n",
       "      <th>22</th>\n",
       "      <td>ENSG00000213468</td>\n",
       "      <td>FIRRE</td>\n",
       "      <td>lincRNA</td>\n",
       "      <td>ENSG00000196655</td>\n",
       "      <td>TRAPPC4</td>\n",
       "      <td>protein_coding</td>\n",
       "      <td>1</td>\n",
       "      <td>1</td>\n",
       "      <td>1</td>\n",
       "      <td>1</td>\n",
       "      <td>-18.30</td>\n",
       "      <td>21.5</td>\n",
       "    </tr>\n",
       "    <tr>\n",
       "      <th>23</th>\n",
       "      <td>ENSG00000213468</td>\n",
       "      <td>FIRRE</td>\n",
       "      <td>lincRNA</td>\n",
       "      <td>ENSG00000197774</td>\n",
       "      <td>EME2</td>\n",
       "      <td>protein_coding</td>\n",
       "      <td>1</td>\n",
       "      <td>1</td>\n",
       "      <td>1</td>\n",
       "      <td>1</td>\n",
       "      <td>-13.70</td>\n",
       "      <td>13.5</td>\n",
       "    </tr>\n",
       "    <tr>\n",
       "      <th>24</th>\n",
       "      <td>ENSG00000213468</td>\n",
       "      <td>FIRRE</td>\n",
       "      <td>lincRNA</td>\n",
       "      <td>ENSG00000201271</td>\n",
       "      <td>RNU1-112P</td>\n",
       "      <td>snRNA</td>\n",
       "      <td>1</td>\n",
       "      <td>1</td>\n",
       "      <td>1</td>\n",
       "      <td>10</td>\n",
       "      <td>-6.90</td>\n",
       "      <td>12.0</td>\n",
       "    </tr>\n",
       "    <tr>\n",
       "      <th>25</th>\n",
       "      <td>ENSG00000213468</td>\n",
       "      <td>FIRRE</td>\n",
       "      <td>lincRNA</td>\n",
       "      <td>ENSG00000202058</td>\n",
       "      <td>RN7SKP80</td>\n",
       "      <td>misc_RNA</td>\n",
       "      <td>1</td>\n",
       "      <td>1</td>\n",
       "      <td>1</td>\n",
       "      <td>15</td>\n",
       "      <td>-7.40</td>\n",
       "      <td>11.5</td>\n",
       "    </tr>\n",
       "    <tr>\n",
       "      <th>26</th>\n",
       "      <td>ENSG00000213468</td>\n",
       "      <td>FIRRE</td>\n",
       "      <td>lincRNA</td>\n",
       "      <td>ENSG00000213235</td>\n",
       "      <td>EEF1A1P16</td>\n",
       "      <td>processed_pseudogene</td>\n",
       "      <td>1</td>\n",
       "      <td>1</td>\n",
       "      <td>1</td>\n",
       "      <td>1</td>\n",
       "      <td>-43.30</td>\n",
       "      <td>37.0</td>\n",
       "    </tr>\n",
       "    <tr>\n",
       "      <th>...</th>\n",
       "      <td>...</td>\n",
       "      <td>...</td>\n",
       "      <td>...</td>\n",
       "      <td>...</td>\n",
       "      <td>...</td>\n",
       "      <td>...</td>\n",
       "      <td>...</td>\n",
       "      <td>...</td>\n",
       "      <td>...</td>\n",
       "      <td>...</td>\n",
       "      <td>...</td>\n",
       "      <td>...</td>\n",
       "    </tr>\n",
       "    <tr>\n",
       "      <th>165</th>\n",
       "      <td>ENSG00000225470</td>\n",
       "      <td>JPX</td>\n",
       "      <td>lincRNA</td>\n",
       "      <td>ENSG00000237506</td>\n",
       "      <td>RPSAP15</td>\n",
       "      <td>processed_pseudogene</td>\n",
       "      <td>46</td>\n",
       "      <td>11</td>\n",
       "      <td>3</td>\n",
       "      <td>68</td>\n",
       "      <td>-54.70</td>\n",
       "      <td>32.0</td>\n",
       "    </tr>\n",
       "    <tr>\n",
       "      <th>166</th>\n",
       "      <td>ENSG00000225470</td>\n",
       "      <td>JPX</td>\n",
       "      <td>lincRNA</td>\n",
       "      <td>ENSG00000237757</td>\n",
       "      <td>EEF1A1P30</td>\n",
       "      <td>processed_pseudogene</td>\n",
       "      <td>1</td>\n",
       "      <td>1</td>\n",
       "      <td>1</td>\n",
       "      <td>1</td>\n",
       "      <td>-23.10</td>\n",
       "      <td>18.5</td>\n",
       "    </tr>\n",
       "    <tr>\n",
       "      <th>167</th>\n",
       "      <td>ENSG00000225470</td>\n",
       "      <td>JPX</td>\n",
       "      <td>lincRNA</td>\n",
       "      <td>ENSG00000240652</td>\n",
       "      <td>AP001024.1</td>\n",
       "      <td>processed_pseudogene</td>\n",
       "      <td>1</td>\n",
       "      <td>1</td>\n",
       "      <td>1</td>\n",
       "      <td>1</td>\n",
       "      <td>-41.90</td>\n",
       "      <td>23.0</td>\n",
       "    </tr>\n",
       "    <tr>\n",
       "      <th>168</th>\n",
       "      <td>ENSG00000225470</td>\n",
       "      <td>JPX</td>\n",
       "      <td>lincRNA</td>\n",
       "      <td>ENSG00000241061</td>\n",
       "      <td>RPL5P1</td>\n",
       "      <td>processed_pseudogene</td>\n",
       "      <td>1</td>\n",
       "      <td>1</td>\n",
       "      <td>1</td>\n",
       "      <td>1</td>\n",
       "      <td>-40.70</td>\n",
       "      <td>23.0</td>\n",
       "    </tr>\n",
       "    <tr>\n",
       "      <th>169</th>\n",
       "      <td>ENSG00000225470</td>\n",
       "      <td>JPX</td>\n",
       "      <td>lincRNA</td>\n",
       "      <td>ENSG00000241335.1</td>\n",
       "      <td>RNA5-8S5</td>\n",
       "      <td>rRNA</td>\n",
       "      <td>1</td>\n",
       "      <td>1</td>\n",
       "      <td>1</td>\n",
       "      <td>1</td>\n",
       "      <td>-8.30</td>\n",
       "      <td>13.0</td>\n",
       "    </tr>\n",
       "    <tr>\n",
       "      <th>170</th>\n",
       "      <td>ENSG00000225470</td>\n",
       "      <td>JPX</td>\n",
       "      <td>lincRNA</td>\n",
       "      <td>ENSG00000242265</td>\n",
       "      <td>PEG10</td>\n",
       "      <td>protein_coding</td>\n",
       "      <td>1</td>\n",
       "      <td>1</td>\n",
       "      <td>1</td>\n",
       "      <td>1</td>\n",
       "      <td>-28.30</td>\n",
       "      <td>19.0</td>\n",
       "    </tr>\n",
       "    <tr>\n",
       "      <th>171</th>\n",
       "      <td>ENSG00000225470</td>\n",
       "      <td>JPX</td>\n",
       "      <td>lincRNA</td>\n",
       "      <td>ENSG00000242735</td>\n",
       "      <td>RPSAP26</td>\n",
       "      <td>processed_pseudogene</td>\n",
       "      <td>1</td>\n",
       "      <td>1</td>\n",
       "      <td>1</td>\n",
       "      <td>1</td>\n",
       "      <td>-18.90</td>\n",
       "      <td>12.0</td>\n",
       "    </tr>\n",
       "    <tr>\n",
       "      <th>172</th>\n",
       "      <td>ENSG00000225470</td>\n",
       "      <td>JPX</td>\n",
       "      <td>lincRNA</td>\n",
       "      <td>ENSG00000242952</td>\n",
       "      <td>RPSAP3</td>\n",
       "      <td>transcribed_processed_pseudogene</td>\n",
       "      <td>1</td>\n",
       "      <td>1</td>\n",
       "      <td>1</td>\n",
       "      <td>4</td>\n",
       "      <td>-15.00</td>\n",
       "      <td>10.0</td>\n",
       "    </tr>\n",
       "    <tr>\n",
       "      <th>173</th>\n",
       "      <td>ENSG00000225470</td>\n",
       "      <td>JPX</td>\n",
       "      <td>lincRNA</td>\n",
       "      <td>ENSG00000243700</td>\n",
       "      <td>RN7SL598P</td>\n",
       "      <td>misc_RNA</td>\n",
       "      <td>1</td>\n",
       "      <td>1</td>\n",
       "      <td>1</td>\n",
       "      <td>2</td>\n",
       "      <td>-51.10</td>\n",
       "      <td>42.5</td>\n",
       "    </tr>\n",
       "    <tr>\n",
       "      <th>174</th>\n",
       "      <td>ENSG00000225470</td>\n",
       "      <td>JPX</td>\n",
       "      <td>lincRNA</td>\n",
       "      <td>ENSG00000244002</td>\n",
       "      <td>RPSAP39</td>\n",
       "      <td>processed_pseudogene</td>\n",
       "      <td>2</td>\n",
       "      <td>2</td>\n",
       "      <td>1</td>\n",
       "      <td>2</td>\n",
       "      <td>-18.70</td>\n",
       "      <td>13.5</td>\n",
       "    </tr>\n",
       "    <tr>\n",
       "      <th>175</th>\n",
       "      <td>ENSG00000225470</td>\n",
       "      <td>JPX</td>\n",
       "      <td>lincRNA</td>\n",
       "      <td>ENSG00000250182</td>\n",
       "      <td>EEF1A1P13</td>\n",
       "      <td>processed_pseudogene</td>\n",
       "      <td>1</td>\n",
       "      <td>1</td>\n",
       "      <td>1</td>\n",
       "      <td>1</td>\n",
       "      <td>-14.10</td>\n",
       "      <td>10.0</td>\n",
       "    </tr>\n",
       "    <tr>\n",
       "      <th>176</th>\n",
       "      <td>ENSG00000225470</td>\n",
       "      <td>JPX</td>\n",
       "      <td>lincRNA</td>\n",
       "      <td>ENSG00000250366</td>\n",
       "      <td>TUNAR</td>\n",
       "      <td>protein_coding</td>\n",
       "      <td>1</td>\n",
       "      <td>1</td>\n",
       "      <td>1</td>\n",
       "      <td>3</td>\n",
       "      <td>-30.20</td>\n",
       "      <td>25.5</td>\n",
       "    </tr>\n",
       "    <tr>\n",
       "      <th>177</th>\n",
       "      <td>ENSG00000225470</td>\n",
       "      <td>JPX</td>\n",
       "      <td>lincRNA</td>\n",
       "      <td>ENSG00000250526</td>\n",
       "      <td>CCT6P2</td>\n",
       "      <td>processed_pseudogene</td>\n",
       "      <td>1</td>\n",
       "      <td>1</td>\n",
       "      <td>1</td>\n",
       "      <td>1</td>\n",
       "      <td>-30.80</td>\n",
       "      <td>26.5</td>\n",
       "    </tr>\n",
       "    <tr>\n",
       "      <th>178</th>\n",
       "      <td>ENSG00000225470</td>\n",
       "      <td>JPX</td>\n",
       "      <td>lincRNA</td>\n",
       "      <td>ENSG00000254277</td>\n",
       "      <td>AC009446.1</td>\n",
       "      <td>lincRNA</td>\n",
       "      <td>5</td>\n",
       "      <td>1</td>\n",
       "      <td>1</td>\n",
       "      <td>10</td>\n",
       "      <td>-17.80</td>\n",
       "      <td>19.0</td>\n",
       "    </tr>\n",
       "    <tr>\n",
       "      <th>179</th>\n",
       "      <td>ENSG00000225470</td>\n",
       "      <td>JPX</td>\n",
       "      <td>lincRNA</td>\n",
       "      <td>ENSG00000258300</td>\n",
       "      <td>NUTF2P2</td>\n",
       "      <td>processed_pseudogene</td>\n",
       "      <td>1</td>\n",
       "      <td>1</td>\n",
       "      <td>1</td>\n",
       "      <td>1</td>\n",
       "      <td>-42.60</td>\n",
       "      <td>36.5</td>\n",
       "    </tr>\n",
       "    <tr>\n",
       "      <th>180</th>\n",
       "      <td>ENSG00000225470</td>\n",
       "      <td>JPX</td>\n",
       "      <td>lincRNA</td>\n",
       "      <td>ENSG00000263426</td>\n",
       "      <td>RN7SL471P</td>\n",
       "      <td>misc_RNA</td>\n",
       "      <td>1</td>\n",
       "      <td>1</td>\n",
       "      <td>1</td>\n",
       "      <td>2</td>\n",
       "      <td>-51.20</td>\n",
       "      <td>34.0</td>\n",
       "    </tr>\n",
       "    <tr>\n",
       "      <th>181</th>\n",
       "      <td>ENSG00000225470</td>\n",
       "      <td>JPX</td>\n",
       "      <td>lincRNA</td>\n",
       "      <td>ENSG00000266828</td>\n",
       "      <td>RN7SL712P</td>\n",
       "      <td>misc_RNA</td>\n",
       "      <td>1</td>\n",
       "      <td>1</td>\n",
       "      <td>1</td>\n",
       "      <td>1</td>\n",
       "      <td>-45.70</td>\n",
       "      <td>47.5</td>\n",
       "    </tr>\n",
       "    <tr>\n",
       "      <th>182</th>\n",
       "      <td>ENSG00000225470</td>\n",
       "      <td>JPX</td>\n",
       "      <td>lincRNA</td>\n",
       "      <td>ENSG00000267524</td>\n",
       "      <td>RPSAP57</td>\n",
       "      <td>processed_pseudogene</td>\n",
       "      <td>1</td>\n",
       "      <td>1</td>\n",
       "      <td>1</td>\n",
       "      <td>1</td>\n",
       "      <td>-19.50</td>\n",
       "      <td>12.0</td>\n",
       "    </tr>\n",
       "    <tr>\n",
       "      <th>183</th>\n",
       "      <td>ENSG00000225470</td>\n",
       "      <td>JPX</td>\n",
       "      <td>lincRNA</td>\n",
       "      <td>ENSG00000268975</td>\n",
       "      <td>MIA-RAB4B</td>\n",
       "      <td>protein_coding</td>\n",
       "      <td>1</td>\n",
       "      <td>1</td>\n",
       "      <td>1</td>\n",
       "      <td>2</td>\n",
       "      <td>-37.20</td>\n",
       "      <td>29.5</td>\n",
       "    </tr>\n",
       "    <tr>\n",
       "      <th>184</th>\n",
       "      <td>ENSG00000225470</td>\n",
       "      <td>JPX</td>\n",
       "      <td>lincRNA</td>\n",
       "      <td>Entrez100008588</td>\n",
       "      <td>RNA18N5</td>\n",
       "      <td>rRNA</td>\n",
       "      <td>8</td>\n",
       "      <td>5</td>\n",
       "      <td>2</td>\n",
       "      <td>14</td>\n",
       "      <td>-38.60</td>\n",
       "      <td>31.5</td>\n",
       "    </tr>\n",
       "    <tr>\n",
       "      <th>185</th>\n",
       "      <td>ENSG00000225470</td>\n",
       "      <td>JPX</td>\n",
       "      <td>lincRNA</td>\n",
       "      <td>MIMAT0023712</td>\n",
       "      <td>hsa-miR-6087</td>\n",
       "      <td>miRNA</td>\n",
       "      <td>1</td>\n",
       "      <td>1</td>\n",
       "      <td>1</td>\n",
       "      <td>1</td>\n",
       "      <td>-48.40</td>\n",
       "      <td>36.0</td>\n",
       "    </tr>\n",
       "    <tr>\n",
       "      <th>186</th>\n",
       "      <td>ENSG00000225470</td>\n",
       "      <td>JPX</td>\n",
       "      <td>lincRNA</td>\n",
       "      <td>24173</td>\n",
       "      <td>Pseudo_tRNA</td>\n",
       "      <td>tRNA</td>\n",
       "      <td>1</td>\n",
       "      <td>1</td>\n",
       "      <td>1</td>\n",
       "      <td>1</td>\n",
       "      <td>-15.10</td>\n",
       "      <td>12.0</td>\n",
       "    </tr>\n",
       "    <tr>\n",
       "      <th>0</th>\n",
       "      <td>ENSG00000231865</td>\n",
       "      <td>SIK3-IT1</td>\n",
       "      <td>sense_intronic</td>\n",
       "      <td>ENSG00000106278</td>\n",
       "      <td>PTPRZ1</td>\n",
       "      <td>protein_coding</td>\n",
       "      <td>1</td>\n",
       "      <td>1</td>\n",
       "      <td>1</td>\n",
       "      <td>1</td>\n",
       "      <td>-19.20</td>\n",
       "      <td>18.0</td>\n",
       "    </tr>\n",
       "    <tr>\n",
       "      <th>1</th>\n",
       "      <td>ENSG00000231865</td>\n",
       "      <td>SIK3-IT1</td>\n",
       "      <td>sense_intronic</td>\n",
       "      <td>ENSG00000266658.2</td>\n",
       "      <td>RNA28S5</td>\n",
       "      <td>rRNA</td>\n",
       "      <td>1</td>\n",
       "      <td>1</td>\n",
       "      <td>1</td>\n",
       "      <td>2</td>\n",
       "      <td>-17.40</td>\n",
       "      <td>11.5</td>\n",
       "    </tr>\n",
       "    <tr>\n",
       "      <th>0</th>\n",
       "      <td>ENSG00000249101</td>\n",
       "      <td>AC008834.1</td>\n",
       "      <td>processed_pseudogene</td>\n",
       "      <td>ENSG00000078369</td>\n",
       "      <td>GNB1</td>\n",
       "      <td>protein_coding</td>\n",
       "      <td>1</td>\n",
       "      <td>1</td>\n",
       "      <td>1</td>\n",
       "      <td>1</td>\n",
       "      <td>-27.80</td>\n",
       "      <td>34.5</td>\n",
       "    </tr>\n",
       "    <tr>\n",
       "      <th>1</th>\n",
       "      <td>ENSG00000249101</td>\n",
       "      <td>AC008834.1</td>\n",
       "      <td>processed_pseudogene</td>\n",
       "      <td>ENSG00000130741</td>\n",
       "      <td>EIF2S3</td>\n",
       "      <td>protein_coding</td>\n",
       "      <td>1</td>\n",
       "      <td>1</td>\n",
       "      <td>1</td>\n",
       "      <td>3</td>\n",
       "      <td>-30.50</td>\n",
       "      <td>31.5</td>\n",
       "    </tr>\n",
       "    <tr>\n",
       "      <th>2</th>\n",
       "      <td>ENSG00000249101</td>\n",
       "      <td>AC008834.1</td>\n",
       "      <td>processed_pseudogene</td>\n",
       "      <td>ENSG00000182383</td>\n",
       "      <td>RPL27AP5</td>\n",
       "      <td>processed_pseudogene</td>\n",
       "      <td>1</td>\n",
       "      <td>1</td>\n",
       "      <td>1</td>\n",
       "      <td>1</td>\n",
       "      <td>-26.80</td>\n",
       "      <td>27.0</td>\n",
       "    </tr>\n",
       "    <tr>\n",
       "      <th>3</th>\n",
       "      <td>ENSG00000249101</td>\n",
       "      <td>AC008834.1</td>\n",
       "      <td>processed_pseudogene</td>\n",
       "      <td>ENSG00000231926</td>\n",
       "      <td>SEPHS1P7</td>\n",
       "      <td>processed_pseudogene</td>\n",
       "      <td>1</td>\n",
       "      <td>1</td>\n",
       "      <td>1</td>\n",
       "      <td>1</td>\n",
       "      <td>-19.40</td>\n",
       "      <td>15.5</td>\n",
       "    </tr>\n",
       "    <tr>\n",
       "      <th>4</th>\n",
       "      <td>ENSG00000249101</td>\n",
       "      <td>AC008834.1</td>\n",
       "      <td>processed_pseudogene</td>\n",
       "      <td>ENSG00000005810</td>\n",
       "      <td>MYCBP2</td>\n",
       "      <td>protein_coding</td>\n",
       "      <td>1</td>\n",
       "      <td>1</td>\n",
       "      <td>1</td>\n",
       "      <td>1</td>\n",
       "      <td>-24.30</td>\n",
       "      <td>26.0</td>\n",
       "    </tr>\n",
       "    <tr>\n",
       "      <th>5</th>\n",
       "      <td>ENSG00000249101</td>\n",
       "      <td>AC008834.1</td>\n",
       "      <td>processed_pseudogene</td>\n",
       "      <td>ENSG00000145386</td>\n",
       "      <td>CCNA2</td>\n",
       "      <td>protein_coding</td>\n",
       "      <td>1</td>\n",
       "      <td>1</td>\n",
       "      <td>1</td>\n",
       "      <td>1</td>\n",
       "      <td>-22.50</td>\n",
       "      <td>23.0</td>\n",
       "    </tr>\n",
       "  </tbody>\n",
       "</table>\n",
       "<p>21097 rows × 12 columns</p>\n",
       "</div>"
      ],
      "text/plain": [
       "              geneID    geneName              geneType         pairGeneID  \\\n",
       "0    ENSG00000237604  AP001056.1               lincRNA    ENSG00000173674   \n",
       "1    ENSG00000237604  AP001056.1               lincRNA  ENSG00000272060.1   \n",
       "2    ENSG00000237604  AP001056.1               lincRNA    Entrez100008588   \n",
       "0    ENSG00000213468       FIRRE               lincRNA    ENSG00000014641   \n",
       "1    ENSG00000213468       FIRRE               lincRNA    ENSG00000015479   \n",
       "2    ENSG00000213468       FIRRE               lincRNA    ENSG00000026559   \n",
       "3    ENSG00000213468       FIRRE               lincRNA    ENSG00000083937   \n",
       "4    ENSG00000213468       FIRRE               lincRNA    ENSG00000089597   \n",
       "5    ENSG00000213468       FIRRE               lincRNA    ENSG00000100426   \n",
       "6    ENSG00000213468       FIRRE               lincRNA    ENSG00000104687   \n",
       "7    ENSG00000213468       FIRRE               lincRNA    ENSG00000109046   \n",
       "8    ENSG00000213468       FIRRE               lincRNA    ENSG00000120896   \n",
       "9    ENSG00000213468       FIRRE               lincRNA    ENSG00000123607   \n",
       "10   ENSG00000213468       FIRRE               lincRNA    ENSG00000125991   \n",
       "11   ENSG00000213468       FIRRE               lincRNA    ENSG00000127423   \n",
       "12   ENSG00000213468       FIRRE               lincRNA    ENSG00000131759   \n",
       "13   ENSG00000213468       FIRRE               lincRNA    ENSG00000134014   \n",
       "14   ENSG00000213468       FIRRE               lincRNA    ENSG00000152086   \n",
       "15   ENSG00000213468       FIRRE               lincRNA    ENSG00000164615   \n",
       "16   ENSG00000213468       FIRRE               lincRNA    ENSG00000172366   \n",
       "17   ENSG00000213468       FIRRE               lincRNA    ENSG00000175344   \n",
       "18   ENSG00000213468       FIRRE               lincRNA    ENSG00000179933   \n",
       "19   ENSG00000213468       FIRRE               lincRNA    ENSG00000182979   \n",
       "20   ENSG00000213468       FIRRE               lincRNA    ENSG00000184613   \n",
       "21   ENSG00000213468       FIRRE               lincRNA    ENSG00000187239   \n",
       "22   ENSG00000213468       FIRRE               lincRNA    ENSG00000196655   \n",
       "23   ENSG00000213468       FIRRE               lincRNA    ENSG00000197774   \n",
       "24   ENSG00000213468       FIRRE               lincRNA    ENSG00000201271   \n",
       "25   ENSG00000213468       FIRRE               lincRNA    ENSG00000202058   \n",
       "26   ENSG00000213468       FIRRE               lincRNA    ENSG00000213235   \n",
       "..               ...         ...                   ...                ...   \n",
       "165  ENSG00000225470         JPX               lincRNA    ENSG00000237506   \n",
       "166  ENSG00000225470         JPX               lincRNA    ENSG00000237757   \n",
       "167  ENSG00000225470         JPX               lincRNA    ENSG00000240652   \n",
       "168  ENSG00000225470         JPX               lincRNA    ENSG00000241061   \n",
       "169  ENSG00000225470         JPX               lincRNA  ENSG00000241335.1   \n",
       "170  ENSG00000225470         JPX               lincRNA    ENSG00000242265   \n",
       "171  ENSG00000225470         JPX               lincRNA    ENSG00000242735   \n",
       "172  ENSG00000225470         JPX               lincRNA    ENSG00000242952   \n",
       "173  ENSG00000225470         JPX               lincRNA    ENSG00000243700   \n",
       "174  ENSG00000225470         JPX               lincRNA    ENSG00000244002   \n",
       "175  ENSG00000225470         JPX               lincRNA    ENSG00000250182   \n",
       "176  ENSG00000225470         JPX               lincRNA    ENSG00000250366   \n",
       "177  ENSG00000225470         JPX               lincRNA    ENSG00000250526   \n",
       "178  ENSG00000225470         JPX               lincRNA    ENSG00000254277   \n",
       "179  ENSG00000225470         JPX               lincRNA    ENSG00000258300   \n",
       "180  ENSG00000225470         JPX               lincRNA    ENSG00000263426   \n",
       "181  ENSG00000225470         JPX               lincRNA    ENSG00000266828   \n",
       "182  ENSG00000225470         JPX               lincRNA    ENSG00000267524   \n",
       "183  ENSG00000225470         JPX               lincRNA    ENSG00000268975   \n",
       "184  ENSG00000225470         JPX               lincRNA    Entrez100008588   \n",
       "185  ENSG00000225470         JPX               lincRNA       MIMAT0023712   \n",
       "186  ENSG00000225470         JPX               lincRNA              24173   \n",
       "0    ENSG00000231865    SIK3-IT1        sense_intronic    ENSG00000106278   \n",
       "1    ENSG00000231865    SIK3-IT1        sense_intronic  ENSG00000266658.2   \n",
       "0    ENSG00000249101  AC008834.1  processed_pseudogene    ENSG00000078369   \n",
       "1    ENSG00000249101  AC008834.1  processed_pseudogene    ENSG00000130741   \n",
       "2    ENSG00000249101  AC008834.1  processed_pseudogene    ENSG00000182383   \n",
       "3    ENSG00000249101  AC008834.1  processed_pseudogene    ENSG00000231926   \n",
       "4    ENSG00000249101  AC008834.1  processed_pseudogene    ENSG00000005810   \n",
       "5    ENSG00000249101  AC008834.1  processed_pseudogene    ENSG00000145386   \n",
       "\n",
       "     pairGeneName                      pairGeneType  interactionNum  expNum  \\\n",
       "0          EIF1AX                    protein_coding               1       1   \n",
       "1         RNA18S5                              rRNA               1       1   \n",
       "2         RNA18N5                              rRNA               4       1   \n",
       "0            MDH1                    protein_coding               1       1   \n",
       "1           MATR3                    protein_coding               1       1   \n",
       "2           KCNG1                    protein_coding               1       1   \n",
       "3          CHMP2B                    protein_coding               1       1   \n",
       "4           GANAB                    protein_coding               1       1   \n",
       "5           ZBED4                    protein_coding               1       1   \n",
       "6             GSR                    protein_coding               1       1   \n",
       "7            WSB1                    protein_coding               1       1   \n",
       "8          SORBS3                    protein_coding               1       1   \n",
       "9          TTC21B                    protein_coding               3       2   \n",
       "10         ERGIC3                    protein_coding               1       1   \n",
       "11          AUNIP                    protein_coding               2       2   \n",
       "12           RARA                    protein_coding               1       1   \n",
       "13           ELP3                    protein_coding               1       1   \n",
       "14         TUBA3E                    protein_coding               1       1   \n",
       "15          CAMLG                    protein_coding               1       1   \n",
       "16         MCRIP2                    protein_coding              30       6   \n",
       "17         CHRNA7                    protein_coding               1       1   \n",
       "18      C14orf119                    protein_coding               1       1   \n",
       "19           MTA1                    protein_coding               1       1   \n",
       "20          NELL2                    protein_coding               1       1   \n",
       "21          FNBP1                    protein_coding               1       1   \n",
       "22        TRAPPC4                    protein_coding               1       1   \n",
       "23           EME2                    protein_coding               1       1   \n",
       "24      RNU1-112P                             snRNA               1       1   \n",
       "25       RN7SKP80                          misc_RNA               1       1   \n",
       "26      EEF1A1P16              processed_pseudogene               1       1   \n",
       "..            ...                               ...             ...     ...   \n",
       "165       RPSAP15              processed_pseudogene              46      11   \n",
       "166     EEF1A1P30              processed_pseudogene               1       1   \n",
       "167    AP001024.1              processed_pseudogene               1       1   \n",
       "168        RPL5P1              processed_pseudogene               1       1   \n",
       "169      RNA5-8S5                              rRNA               1       1   \n",
       "170         PEG10                    protein_coding               1       1   \n",
       "171       RPSAP26              processed_pseudogene               1       1   \n",
       "172        RPSAP3  transcribed_processed_pseudogene               1       1   \n",
       "173     RN7SL598P                          misc_RNA               1       1   \n",
       "174       RPSAP39              processed_pseudogene               2       2   \n",
       "175     EEF1A1P13              processed_pseudogene               1       1   \n",
       "176         TUNAR                    protein_coding               1       1   \n",
       "177        CCT6P2              processed_pseudogene               1       1   \n",
       "178    AC009446.1                           lincRNA               5       1   \n",
       "179       NUTF2P2              processed_pseudogene               1       1   \n",
       "180     RN7SL471P                          misc_RNA               1       1   \n",
       "181     RN7SL712P                          misc_RNA               1       1   \n",
       "182       RPSAP57              processed_pseudogene               1       1   \n",
       "183     MIA-RAB4B                    protein_coding               1       1   \n",
       "184       RNA18N5                              rRNA               8       5   \n",
       "185  hsa-miR-6087                             miRNA               1       1   \n",
       "186   Pseudo_tRNA                              tRNA               1       1   \n",
       "0          PTPRZ1                    protein_coding               1       1   \n",
       "1         RNA28S5                              rRNA               1       1   \n",
       "0            GNB1                    protein_coding               1       1   \n",
       "1          EIF2S3                    protein_coding               1       1   \n",
       "2        RPL27AP5              processed_pseudogene               1       1   \n",
       "3        SEPHS1P7              processed_pseudogene               1       1   \n",
       "4          MYCBP2                    protein_coding               1       1   \n",
       "5           CCNA2                    protein_coding               1       1   \n",
       "\n",
       "     seqTypeNum  totalReadsNum  FreeEnergy  AlignScore(Smith-Waterman)  \n",
       "0             1              1      -21.80                        19.0  \n",
       "1             1              2      -26.60                        13.5  \n",
       "2             1              5      -61.90                        19.5  \n",
       "0             1              3      -37.90                        32.0  \n",
       "1             1              2      -15.90                        20.0  \n",
       "2             1              1      -10.90                        14.0  \n",
       "3             1              1      -22.30                        19.0  \n",
       "4             1              1      -31.00                        23.5  \n",
       "5             1              1      -21.10                        20.0  \n",
       "6             1              1      -11.80                        11.5  \n",
       "7             1              1      -22.60                        22.0  \n",
       "8             1              1      -34.20                        20.0  \n",
       "9             1              3      -24.20                        16.0  \n",
       "10            1              1      -32.70                        27.5  \n",
       "11            2             24      -27.20                        16.0  \n",
       "12            1              1      -28.50                        14.0  \n",
       "13            1              3      -28.20                        15.5  \n",
       "14            1              1      -16.90                        13.5  \n",
       "15            1              1      -28.20                        20.0  \n",
       "16            1             36      -48.27                        31.5  \n",
       "17            1              1      -19.00                        21.0  \n",
       "18            1              1      -26.50                        14.0  \n",
       "19            1              4       -5.10                        15.5  \n",
       "20            1              1      -20.30                        18.0  \n",
       "21            1              2      -14.40                        14.0  \n",
       "22            1              1      -18.30                        21.5  \n",
       "23            1              1      -13.70                        13.5  \n",
       "24            1             10       -6.90                        12.0  \n",
       "25            1             15       -7.40                        11.5  \n",
       "26            1              1      -43.30                        37.0  \n",
       "..          ...            ...         ...                         ...  \n",
       "165           3             68      -54.70                        32.0  \n",
       "166           1              1      -23.10                        18.5  \n",
       "167           1              1      -41.90                        23.0  \n",
       "168           1              1      -40.70                        23.0  \n",
       "169           1              1       -8.30                        13.0  \n",
       "170           1              1      -28.30                        19.0  \n",
       "171           1              1      -18.90                        12.0  \n",
       "172           1              4      -15.00                        10.0  \n",
       "173           1              2      -51.10                        42.5  \n",
       "174           1              2      -18.70                        13.5  \n",
       "175           1              1      -14.10                        10.0  \n",
       "176           1              3      -30.20                        25.5  \n",
       "177           1              1      -30.80                        26.5  \n",
       "178           1             10      -17.80                        19.0  \n",
       "179           1              1      -42.60                        36.5  \n",
       "180           1              2      -51.20                        34.0  \n",
       "181           1              1      -45.70                        47.5  \n",
       "182           1              1      -19.50                        12.0  \n",
       "183           1              2      -37.20                        29.5  \n",
       "184           2             14      -38.60                        31.5  \n",
       "185           1              1      -48.40                        36.0  \n",
       "186           1              1      -15.10                        12.0  \n",
       "0             1              1      -19.20                        18.0  \n",
       "1             1              2      -17.40                        11.5  \n",
       "0             1              1      -27.80                        34.5  \n",
       "1             1              3      -30.50                        31.5  \n",
       "2             1              1      -26.80                        27.0  \n",
       "3             1              1      -19.40                        15.5  \n",
       "4             1              1      -24.30                        26.0  \n",
       "5             1              1      -22.50                        23.0  \n",
       "\n",
       "[21097 rows x 12 columns]"
      ]
     },
     "execution_count": 19,
     "metadata": {},
     "output_type": "execute_result"
    }
   ],
   "source": [
    "import os\n",
    "tables = []\n",
    "starbase_rna_rna_interaction_folder_path = \"/home/jonny/PycharmProjects/Bioinformatics_ExternalData/StarBase v2.0/lncrna_rna_interactions/\"\n",
    "for filename in os.listdir(starbase_rna_rna_interaction_folder_path):\n",
    "    if filename.endswith(\".xls\"):\n",
    "        table_i = pd.read_table(os.path.join(starbase_rna_rna_interaction_folder_path, filename), comment=\"#\")\n",
    "        if table_i.loc[0, \"geneID\"] != 'No Available results.':\n",
    "            tables.append(table_i)\n",
    "\n",
    "table = pd.concat(tables, join=\"inner\")\n",
    "print(table[\"geneName\"].unique().shape)\n",
    "table"
   ]
  },
  {
   "cell_type": "code",
   "execution_count": 20,
   "metadata": {},
   "outputs": [],
   "source": [
    "# table.to_csv(\"/home/jonny/PycharmProjects/Bioinformatics_ExternalData/StarBase v2.0/starbase_3.0_lncrna_rna_interactions.csv\")"
   ]
  },
  {
   "cell_type": "markdown",
   "metadata": {},
   "source": [
    "# Heterogeneous Network"
   ]
  },
  {
   "cell_type": "code",
   "execution_count": 4,
   "metadata": {},
   "outputs": [
    {
     "name": "stdout",
     "output_type": "stream",
     "text": [
      "MIR  nodes: 1870\n",
      "GE  nodes: 20157\n",
      "LNC  nodes: 12706\n",
      "Total nodes: 34733\n",
      "Genes info columns: ['Transcript sequence', 'Disease association', 'locus_type', 'GO Terms', 'Family']\n",
      "Number of nodes without seq removed: 2153\n",
      "Total nodes (filtered): 32581\n"
     ]
    }
   ],
   "source": [
    "from moge.network.heterogeneous_network import HeterogeneousNetwork\n",
    "\n",
    "network = HeterogeneousNetwork(modalities=[\"MIR\", \"GE\", \"LNC\"], multi_omics_data=luad_data)"
   ]
  },
  {
   "cell_type": "markdown",
   "metadata": {},
   "source": [
    "## Write node labels to file"
   ]
  },
  {
   "cell_type": "code",
   "execution_count": 4,
   "metadata": {
    "scrolled": true
   },
   "outputs": [],
   "source": [
    "from moge.network.file_io import write_node_labels_to_file\n",
    "\n",
    "# write_node_labels_to_file(\"moge/data/lncRNA_miRNA_mRNA/lncRNA-miRNA-mRNA_node_labels_family.tsv\", luad_data, \n",
    "#                           label_cols=[\"family\"],\n",
    "#                           modalities=[\"MIR\", \"GE\", \"LNC\"], \n",
    "#                           get_dummies=False)\n",
    "\n",
    "# write_node_labels_to_file(\"moge/data/lncRNA_miRNA_mRNA/lncRNA-miRNA-mRNA_node_labels_disease_dummies.tsv\", luad_data, \n",
    "#                           label_cols=[\"Disease association\"],\n",
    "#                           modalities=[\"MIR\", \"GE\", \"LNC\"], remove_na=True, sep=\"\\t\",\n",
    "#                           get_dummies=True)"
   ]
  },
  {
   "cell_type": "markdown",
   "metadata": {},
   "source": [
    "# Add Attribute Affinity Positive Edges"
   ]
  },
  {
   "cell_type": "code",
   "execution_count": 5,
   "metadata": {},
   "outputs": [
    {
     "name": "stdout",
     "output_type": "stream",
     "text": [
      "Gower's dissimilarity: Computing GO Terms , dtype: object , shape: (20157,)\n",
      "Dice distance\n"
     ]
    },
    {
     "name": "stderr",
     "output_type": "stream",
     "text": [
      "/opt/anaconda3/lib/python3.6/site-packages/sklearn/utils/validation.py:595: DataConversionWarning: Data with input dtype uint8 was converted to bool by check_pairwise_arrays.\n",
      "  warnings.warn(msg, DataConversionWarning)\n"
     ]
    },
    {
     "name": "stdout",
     "output_type": "stream",
     "text": [
      "Gower's dissimilarity: Computing Disease association , dtype: object , shape: (20157,)\n",
      "Dice distance\n"
     ]
    },
    {
     "name": "stderr",
     "output_type": "stream",
     "text": [
      "/opt/anaconda3/lib/python3.6/site-packages/sklearn/utils/validation.py:595: DataConversionWarning: Data with input dtype int64 was converted to bool by check_pairwise_arrays.\n",
      "  warnings.warn(msg, DataConversionWarning)\n",
      "/home/jonny/PycharmProjects/MultiOmicsGraphEmbedding/moge/network/omics_distance.py:53: RuntimeWarning: Mean of empty slice\n",
      "  agg_func = lambda x: np.nanmean(x, axis=0)\n"
     ]
    },
    {
     "name": "stdout",
     "output_type": "stream",
     "text": [
      "59821 undirected positive edges (type='u') added.\n",
      "299105 undirected negative edges (type='u_n') added.\n"
     ]
    }
   ],
   "source": [
    "affinities_GE = network.add_edges_from_nodes_similarity(modality=\"GE\", node_list=network.nodes[\"GE\"], \n",
    "                                        similarity_threshold=0.70, dissimilarity_threshold=0.01,\n",
    "                                        negative_sampling_ratio=5.0, nanmean=True,\n",
    "                                        features=[\"GO Terms\", \"Disease association\"], \n",
    "                                        compute_correlation=False)"
   ]
  },
  {
   "cell_type": "code",
   "execution_count": 6,
   "metadata": {},
   "outputs": [
    {
     "name": "stdout",
     "output_type": "stream",
     "text": [
      "Gower's dissimilarity: Computing locus_type , dtype: object , shape: (20157,)\n",
      "Dice distance\n"
     ]
    },
    {
     "name": "stderr",
     "output_type": "stream",
     "text": [
      "/opt/anaconda3/lib/python3.6/site-packages/sklearn/utils/validation.py:595: DataConversionWarning: Data with input dtype int64 was converted to bool by check_pairwise_arrays.\n",
      "  warnings.warn(msg, DataConversionWarning)\n"
     ]
    },
    {
     "name": "stdout",
     "output_type": "stream",
     "text": [
      "Gower's dissimilarity: Computing gene_family_id , dtype: object , shape: (20157,)\n",
      "Dice distance\n"
     ]
    },
    {
     "name": "stderr",
     "output_type": "stream",
     "text": [
      "/opt/anaconda3/lib/python3.6/site-packages/sklearn/utils/validation.py:595: DataConversionWarning: Data with input dtype int64 was converted to bool by check_pairwise_arrays.\n",
      "  warnings.warn(msg, DataConversionWarning)\n"
     ]
    },
    {
     "name": "stdout",
     "output_type": "stream",
     "text": [
      "281421 undirected positive edges (type='u') added.\n",
      "1407105 undirected negative edges (type='u_n') added.\n"
     ]
    }
   ],
   "source": [
    "affinities_GE = network.add_edges_from_nodes_similarity(modality=\"GE\", node_list=network.nodes[\"GE\"], \n",
    "                                        similarity_threshold=0.70, dissimilarity_threshold=0.01,\n",
    "                                        negative_sampling_ratio=5.0, nanmean=False,\n",
    "                                        features=[\"locus_type\", \"gene_family_id\"], \n",
    "                                        compute_correlation=False)"
   ]
  },
  {
   "cell_type": "code",
   "execution_count": 7,
   "metadata": {
    "scrolled": true
   },
   "outputs": [
    {
     "name": "stdout",
     "output_type": "stream",
     "text": [
      "Gower's dissimilarity: Computing GO Terms , dtype: object , shape: (1870,)\n",
      "Dice distance\n",
      "Gower's dissimilarity: Computing Disease association , dtype: object , shape: (1870,)\n",
      "Dice distance\n"
     ]
    },
    {
     "name": "stderr",
     "output_type": "stream",
     "text": [
      "/opt/anaconda3/lib/python3.6/site-packages/sklearn/utils/validation.py:595: DataConversionWarning: Data with input dtype uint8 was converted to bool by check_pairwise_arrays.\n",
      "  warnings.warn(msg, DataConversionWarning)\n",
      "/opt/anaconda3/lib/python3.6/site-packages/sklearn/utils/validation.py:595: DataConversionWarning: Data with input dtype int64 was converted to bool by check_pairwise_arrays.\n",
      "  warnings.warn(msg, DataConversionWarning)\n",
      "/home/jonny/PycharmProjects/MultiOmicsGraphEmbedding/moge/network/omics_distance.py:53: RuntimeWarning: Mean of empty slice\n",
      "  agg_func = lambda x: np.nanmean(x, axis=0)\n"
     ]
    },
    {
     "name": "stdout",
     "output_type": "stream",
     "text": [
      "701 undirected positive edges (type='u') added.\n",
      "3505 undirected negative edges (type='u_n') added.\n"
     ]
    }
   ],
   "source": [
    "affinities_MIR = network.add_edges_from_nodes_similarity(modality=\"MIR\", node_list=network.nodes[\"MIR\"], \n",
    "                                        similarity_threshold=0.70, dissimilarity_threshold=0.01,\n",
    "                                        negative_sampling_ratio=5.0, nanmean=True,\n",
    "                                        features=[\"GO Terms\", \"Disease association\"], \n",
    "                                        compute_correlation=False)"
   ]
  },
  {
   "cell_type": "code",
   "execution_count": 8,
   "metadata": {
    "scrolled": true
   },
   "outputs": [
    {
     "name": "stdout",
     "output_type": "stream",
     "text": [
      "Gower's dissimilarity: Computing Family , dtype: object , shape: (1870,)\n",
      "Dice distance\n"
     ]
    },
    {
     "name": "stderr",
     "output_type": "stream",
     "text": [
      "/opt/anaconda3/lib/python3.6/site-packages/sklearn/utils/validation.py:595: DataConversionWarning: Data with input dtype int64 was converted to bool by check_pairwise_arrays.\n",
      "  warnings.warn(msg, DataConversionWarning)\n"
     ]
    },
    {
     "name": "stdout",
     "output_type": "stream",
     "text": [
      "Gower's dissimilarity: Computing Rfams , dtype: object , shape: (1870,)\n",
      "Dice distance\n"
     ]
    },
    {
     "name": "stderr",
     "output_type": "stream",
     "text": [
      "/opt/anaconda3/lib/python3.6/site-packages/sklearn/utils/validation.py:595: DataConversionWarning: Data with input dtype int64 was converted to bool by check_pairwise_arrays.\n",
      "  warnings.warn(msg, DataConversionWarning)\n",
      "/home/jonny/PycharmProjects/MultiOmicsGraphEmbedding/moge/network/omics_distance.py:53: RuntimeWarning: Mean of empty slice\n",
      "  agg_func = lambda x: np.nanmean(x, axis=0)\n"
     ]
    },
    {
     "name": "stdout",
     "output_type": "stream",
     "text": [
      "683 undirected positive edges (type='u') added.\n",
      "3415 undirected negative edges (type='u_n') added.\n"
     ]
    }
   ],
   "source": [
    "affinities_MIR = network.add_edges_from_nodes_similarity(modality=\"MIR\", node_list=network.nodes[\"MIR\"], \n",
    "                                        similarity_threshold=0.70, dissimilarity_threshold=0.01,\n",
    "                                        negative_sampling_ratio=5.0, nanmean=True,\n",
    "                                        features=[\"Family\", \"Rfams\"], \n",
    "                                        compute_correlation=False)"
   ]
  },
  {
   "cell_type": "code",
   "execution_count": 9,
   "metadata": {
    "scrolled": true
   },
   "outputs": [
    {
     "name": "stdout",
     "output_type": "stream",
     "text": [
      "Gower's dissimilarity: Computing locus_type , dtype: object , shape: (12706,)\n",
      "Dice distance\n"
     ]
    },
    {
     "name": "stderr",
     "output_type": "stream",
     "text": [
      "/opt/anaconda3/lib/python3.6/site-packages/sklearn/utils/validation.py:595: DataConversionWarning: Data with input dtype int64 was converted to bool by check_pairwise_arrays.\n",
      "  warnings.warn(msg, DataConversionWarning)\n"
     ]
    },
    {
     "name": "stdout",
     "output_type": "stream",
     "text": [
      "Gower's dissimilarity: Computing Transcript type , dtype: object , shape: (12706,)\n",
      "Dice distance\n"
     ]
    },
    {
     "name": "stderr",
     "output_type": "stream",
     "text": [
      "/opt/anaconda3/lib/python3.6/site-packages/sklearn/utils/validation.py:595: DataConversionWarning: Data with input dtype int64 was converted to bool by check_pairwise_arrays.\n",
      "  warnings.warn(msg, DataConversionWarning)\n"
     ]
    },
    {
     "name": "stdout",
     "output_type": "stream",
     "text": [
      "Gower's dissimilarity: Computing tag , dtype: object , shape: (12706,)\n",
      "Dice distance\n"
     ]
    },
    {
     "name": "stderr",
     "output_type": "stream",
     "text": [
      "/opt/anaconda3/lib/python3.6/site-packages/sklearn/utils/validation.py:595: DataConversionWarning: Data with input dtype int64 was converted to bool by check_pairwise_arrays.\n",
      "  warnings.warn(msg, DataConversionWarning)\n"
     ]
    },
    {
     "name": "stdout",
     "output_type": "stream",
     "text": [
      "Gower's dissimilarity: Computing Strand , dtype: object , shape: (12706,)\n",
      "Dice distance\n"
     ]
    },
    {
     "name": "stderr",
     "output_type": "stream",
     "text": [
      "/opt/anaconda3/lib/python3.6/site-packages/sklearn/utils/validation.py:595: DataConversionWarning: Data with input dtype uint8 was converted to bool by check_pairwise_arrays.\n",
      "  warnings.warn(msg, DataConversionWarning)\n"
     ]
    },
    {
     "name": "stdout",
     "output_type": "stream",
     "text": [
      "Gower's dissimilarity: Computing Chromosome , dtype: object , shape: (12706,)\n",
      "Dice distance\n"
     ]
    },
    {
     "name": "stderr",
     "output_type": "stream",
     "text": [
      "/opt/anaconda3/lib/python3.6/site-packages/sklearn/utils/validation.py:595: DataConversionWarning: Data with input dtype uint8 was converted to bool by check_pairwise_arrays.\n",
      "  warnings.warn(msg, DataConversionWarning)\n"
     ]
    },
    {
     "name": "stdout",
     "output_type": "stream",
     "text": [
      "Correlation distance (80714865,)\n",
      "13759 undirected positive edges (type='u') added.\n",
      "68795 undirected negative edges (type='u_n') added.\n"
     ]
    }
   ],
   "source": [
    "affinities_LNC = network.add_edges_from_nodes_similarity(modality=\"LNC\", node_list=network.nodes[\"LNC\"], \n",
    "                                        similarity_threshold=0.70, dissimilarity_threshold=0.3,\n",
    "                                        negative_sampling_ratio=5.0, \n",
    "                                        nanmean=False,\n",
    "                                        features=[\"locus_type\", \"Transcript type\", \"tag\", \"Strand\", \"Chromosome\"],\n",
    "                                        weights=[1, 1, 1, 0.5, 0.5, 5],\n",
    "                                        compute_correlation=True)"
   ]
  },
  {
   "cell_type": "code",
   "execution_count": 10,
   "metadata": {},
   "outputs": [
    {
     "name": "stdout",
     "output_type": "stream",
     "text": [
      "Gower's dissimilarity: Computing GO Terms , dtype: object , shape: (12706,)\n",
      "Dice distance\n"
     ]
    },
    {
     "name": "stderr",
     "output_type": "stream",
     "text": [
      "/opt/anaconda3/lib/python3.6/site-packages/sklearn/utils/validation.py:595: DataConversionWarning: Data with input dtype uint8 was converted to bool by check_pairwise_arrays.\n",
      "  warnings.warn(msg, DataConversionWarning)\n"
     ]
    },
    {
     "name": "stdout",
     "output_type": "stream",
     "text": [
      "Gower's dissimilarity: Computing Family , dtype: object , shape: (12706,)\n",
      "Dice distance\n"
     ]
    },
    {
     "name": "stderr",
     "output_type": "stream",
     "text": [
      "/opt/anaconda3/lib/python3.6/site-packages/sklearn/utils/validation.py:595: DataConversionWarning: Data with input dtype int64 was converted to bool by check_pairwise_arrays.\n",
      "  warnings.warn(msg, DataConversionWarning)\n"
     ]
    },
    {
     "name": "stdout",
     "output_type": "stream",
     "text": [
      "Gower's dissimilarity: Computing Disease association , dtype: object , shape: (12706,)\n",
      "Dice distance\n"
     ]
    },
    {
     "name": "stderr",
     "output_type": "stream",
     "text": [
      "/opt/anaconda3/lib/python3.6/site-packages/sklearn/utils/validation.py:595: DataConversionWarning: Data with input dtype int64 was converted to bool by check_pairwise_arrays.\n",
      "  warnings.warn(msg, DataConversionWarning)\n",
      "/home/jonny/PycharmProjects/MultiOmicsGraphEmbedding/moge/network/omics_distance.py:53: RuntimeWarning: Mean of empty slice\n",
      "  agg_func = lambda x: np.nanmean(x, axis=0)\n"
     ]
    },
    {
     "name": "stdout",
     "output_type": "stream",
     "text": [
      "463 undirected positive edges (type='u') added.\n",
      "2315 undirected negative edges (type='u_n') added.\n"
     ]
    }
   ],
   "source": [
    "affinities_LNC = network.add_edges_from_nodes_similarity(modality=\"LNC\", node_list=network.nodes[\"LNC\"], \n",
    "                                        similarity_threshold=0.70, dissimilarity_threshold=0.01,\n",
    "                                        negative_sampling_ratio=5.0, nanmean=True,\n",
    "                                        features=[\"GO Terms\", \"Family\", \"Disease association\"], \n",
    "                                        compute_correlation=False)"
   ]
  },
  {
   "cell_type": "code",
   "execution_count": 7,
   "metadata": {
    "collapsed": true
   },
   "outputs": [
    {
     "data": {
      "image/png": "[encoded data removed]",
      "text/plain": [
       "<Figure size 504x504 with 2 Axes>"
      ]
     },
     "metadata": {
      "needs_background": "light"
     },
     "output_type": "display_data"
    }
   ],
   "source": [
    "matrix_heatmap(network.get_adjacency_matrix(edge_types=[\"u\"], node_list=network.nodes[\"GE\"]).todense(),\n",
    "              figsize=(7,7))"
   ]
  },
  {
   "cell_type": "code",
   "execution_count": 8,
   "metadata": {
    "collapsed": true
   },
   "outputs": [
    {
     "data": {
      "image/png": "[encoded data removed]",
      "text/plain": [
       "<Figure size 360x360 with 2 Axes>"
      ]
     },
     "metadata": {
      "needs_background": "light"
     },
     "output_type": "display_data"
    }
   ],
   "source": [
    "matrix_heatmap(network.get_adjacency_matrix(edge_types=[\"u\"], node_list=network.nodes[\"MIR\"]).todense(),\n",
    "              figsize=(5,5))"
   ]
  },
  {
   "cell_type": "code",
   "execution_count": 9,
   "metadata": {},
   "outputs": [
    {
     "data": {
      "image/png": "[encoded data removed]",
      "text/plain": [
       "<Figure size 504x504 with 2 Axes>"
      ]
     },
     "metadata": {
      "needs_background": "light"
     },
     "output_type": "display_data"
    }
   ],
   "source": [
    "matrix_heatmap(network.get_adjacency_matrix(edge_types=[\"u\"], node_list=network.nodes[\"LNC\"]).todense(),\n",
    "              figsize=(7,7))"
   ]
  },
  {
   "cell_type": "code",
   "execution_count": 10,
   "metadata": {},
   "outputs": [
    {
     "data": {
      "text/plain": [
       "2131285"
      ]
     },
     "execution_count": 10,
     "metadata": {},
     "output_type": "execute_result"
    }
   ],
   "source": [
    "network.G.number_of_edges()"
   ]
  },
  {
   "cell_type": "code",
   "execution_count": 6,
   "metadata": {},
   "outputs": [],
   "source": [
    "network.G.add_edges_from(nx.read_edgelist(\"moge/data/LMN_only_directed/affinity/lmn_n70_m70_l70-70_GO_Rfams_Disease_Family_NoExpression_affinity.edgelist\", \n",
    "                                          data=True).edges(data=True))"
   ]
  },
  {
   "cell_type": "code",
   "execution_count": 18,
   "metadata": {},
   "outputs": [],
   "source": [
    "# WRITE Edgelist\n",
    "nx.write_edgelist(network.get_subgraph([\"MIR\", \"GE\", \"LNC\"]), \n",
    "                  \"moge/data/LMN_only_directed/affinity/lmn_n70_m70_l70-70_GO_Rfams_Disease_Family_GO_affinity.edgelist\", \n",
    "                  data=True)"
   ]
  },
  {
   "cell_type": "markdown",
   "metadata": {},
   "source": [
    "# Add Attribute Affinity NEGATIVE Edges between cross-modals"
   ]
  },
  {
   "cell_type": "code",
   "execution_count": 11,
   "metadata": {},
   "outputs": [
    {
     "name": "stdout",
     "output_type": "stream",
     "text": [
      "Number of negative sampled edges between ['GE', 'MIR'] added: 10000\n",
      "Number of negative sampled edges between ['GE', 'LNC'] added: 20000\n",
      "Number of negative sampled edges between ['LNC', 'MIR'] added: 10000\n"
     ]
    }
   ],
   "source": [
    "u_n_size = 10000\n",
    "network.add_sampled_negative_edges(u_n_size, modalities=[\"GE\", \"MIR\"])\n",
    "network.add_sampled_negative_edges(u_n_size*2, modalities=[\"GE\", \"LNC\"])\n",
    "network.add_sampled_negative_edges(u_n_size, modalities=[\"LNC\", \"MIR\"])"
   ]
  },
  {
   "cell_type": "markdown",
   "metadata": {},
   "source": [
    "# Add Regulatory Interaction edges"
   ]
  },
  {
   "cell_type": "code",
   "execution_count": 11,
   "metadata": {},
   "outputs": [
    {
     "name": "stdout",
     "output_type": "stream",
     "text": [
      "Adding edgelist with 1759 total unique MIR genes (source), but only matching 1618 nodes\n",
      "Adding edgelist with 15064 total unique GE genes (target), but only matching 14659 nodes\n",
      "377318 edges added.\n"
     ]
    }
   ],
   "source": [
    "# Adds miRNA-target interaction network\n",
    "network.add_directed_edges_from_edgelist(edgelist=luad_data.MIR.get_miRTarBase_miRNA_target_interaction(), \n",
    "                                        modalities=[\"MIR\", \"GE\"], correlation_weights=False, threshold=0.20,\n",
    "                                        database=\"miRTarBase\")"
   ]
  },
  {
   "cell_type": "code",
   "execution_count": 12,
   "metadata": {},
   "outputs": [
    {
     "name": "stderr",
     "output_type": "stream",
     "text": [
      "/opt/anaconda3/lib/python3.6/site-packages/IPython/core/interactiveshell.py:3191: DtypeWarning: Columns (19,20) have mixed types. Specify dtype option on import or set low_memory=False.\n",
      "  if (yield from self.run_code(code, result)):\n"
     ]
    },
    {
     "name": "stdout",
     "output_type": "stream",
     "text": [
      "Adding edgelist with 13318 total unique GE genes (source), but only matching 12768 nodes\n",
      "Adding edgelist with 19429 total unique GE genes (target), but only matching 14972 nodes\n",
      "313724 edges added.\n"
     ]
    }
   ],
   "source": [
    "# Adds Gene Regulatory Network edges\n",
    "network.add_directed_edges_from_edgelist(edgelist=luad_data.GE.get_BioGRID_GRN_edgelist(), # unweighted edges\n",
    "                                        modalities=[\"GE\", \"GE\"], correlation_weights=False, threshold=0.2,\n",
    "                                        database=\"biogrid\")"
   ]
  },
  {
   "cell_type": "code",
   "execution_count": 13,
   "metadata": {},
   "outputs": [
    {
     "name": "stdout",
     "output_type": "stream",
     "text": [
      "Adding edgelist with 66 total unique LNC genes (source), but only matching 18 nodes\n",
      "Adding edgelist with 978 total unique MIR genes (target), but only matching 893 nodes\n",
      "2375 edges added.\n",
      "Adding edgelist with 702 total unique MIR genes (source), but only matching 631 nodes\n",
      "Adding edgelist with 6185 total unique LNC genes (target), but only matching 1009 nodes\n",
      "53926 edges added.\n",
      "Adding edgelist with 137 total unique LNC genes (source), but only matching 22 nodes\n",
      "Adding edgelist with 373 total unique GE genes (target), but only matching 172 nodes\n",
      "554 edges added.\n"
     ]
    }
   ],
   "source": [
    "# Adds miRNA-lncRNA interaction network\n",
    "# network.add_directed_edges_from_edgelist(edgelist=luad_data.LNC.get_starBase_lncRNA_miRNA_interactions_edgelist(),\n",
    "#                                         )\n",
    "network.add_directed_edges_from_edgelist(edgelist=luad_data.LNC.get_lncRNome_miRNA_binding_sites_edgelist(),\n",
    "                                         modalities=[\"LNC\", \"MIR\"], correlation_weights=False, threshold=0.20,\n",
    "                                        database=\"lncRNome\")\n",
    "\n",
    "network.add_directed_edges_from_edgelist(edgelist=luad_data.LNC.get_lncBase_miRNA_lncRNA_interactions_edgelist(),\n",
    "                                         modalities=[\"MIR\", \"LNC\"], correlation_weights=False, threshold=0.20,\n",
    "                                        database=\"lncBase\")\n",
    "\n",
    "network.add_directed_edges_from_edgelist(edgelist=luad_data.LNC.get_LncReg_lncRNA_RNA_regulatory_interactions(),\n",
    "                                         modalities=[\"LNC\", \"GE\"], correlation_weights=False, threshold=0.20,\n",
    "                                        database=\"LncReg\")"
   ]
  },
  {
   "cell_type": "code",
   "execution_count": 14,
   "metadata": {},
   "outputs": [
    {
     "name": "stderr",
     "output_type": "stream",
     "text": [
      "/opt/anaconda3/lib/python3.6/site-packages/IPython/core/interactiveshell.py:3185: DtypeWarning: Columns (6) have mixed types. Specify dtype option on import or set low_memory=False.\n",
      "  if (yield from self.run_code(code, result)):\n"
     ]
    },
    {
     "name": "stdout",
     "output_type": "stream",
     "text": [
      "Adding edgelist with 61 total unique LNC genes (source), but only matching 16 nodes\n",
      "Adding edgelist with 28866 total unique GE genes (target), but only matching 16601 nodes\n",
      "65655 edges added.\n",
      "Adding edgelist with 170 total unique LNC genes (source), but only matching 83 nodes\n",
      "Adding edgelist with 315 total unique GE genes (target), but only matching 252 nodes\n",
      "522 edges added.\n"
     ]
    },
    {
     "name": "stderr",
     "output_type": "stream",
     "text": [
      "/opt/anaconda3/lib/python3.6/site-packages/TCGAMultiOmics/genomic.py:420: SettingWithCopyWarning: \n",
      "A value is trying to be set on a copy of a slice from a DataFrame\n",
      "\n",
      "See the caveats in the documentation: http://pandas.pydata.org/pandas-docs/stable/indexing.html#indexing-view-versus-copy\n",
      "  lambda x: x[:-1] + \"-\" + x[-1])\n"
     ]
    }
   ],
   "source": [
    "network.add_directed_edges_from_edgelist(edgelist=luad_data.LNC.get_lncrna2target_interactions(),\n",
    "                                         modalities=[\"LNC\", \"GE\"], correlation_weights=False, threshold=0.20,\n",
    "                                        database=\"lncrna2target\")\n",
    "\n",
    "network.add_directed_edges_from_edgelist(edgelist=luad_data.LNC.get_lncRInter_interactions(),\n",
    "                                         modalities=[\"LNC\", \"GE\"], correlation_weights=False, threshold=0.20,\n",
    "                                        database=\"lncRInter\")"
   ]
  },
  {
   "cell_type": "code",
   "execution_count": 15,
   "metadata": {},
   "outputs": [
    {
     "data": {
      "text/plain": [
       "12649"
      ]
     },
     "execution_count": 15,
     "metadata": {},
     "output_type": "execute_result"
    }
   ],
   "source": [
    "lnc_with_interactions = [node for node, d in network.G.degree(nbunch=network.nodes[\"LNC\"]) if d > 0]\n",
    "len(lnc_with_interactions)"
   ]
  },
  {
   "cell_type": "code",
   "execution_count": 16,
   "metadata": {},
   "outputs": [
    {
     "data": {
      "text/plain": [
       "20157"
      ]
     },
     "execution_count": 16,
     "metadata": {},
     "output_type": "execute_result"
    }
   ],
   "source": [
    "mrna_with_interactions = [node for node, d in network.G.degree(nbunch=network.nodes[\"GE\"]) if d > 0]\n",
    "len(mrna_with_interactions)"
   ]
  },
  {
   "cell_type": "code",
   "execution_count": 14,
   "metadata": {},
   "outputs": [],
   "source": [
    "nodes_w_seq = network.genes_info[network.genes_info[\"Transcript sequence\"].notnull()].index\n",
    "lnc_with_interactions = [node for node in lnc_with_interactions if node in nodes_w_seq]\n",
    "mrna_with_interactions = [node for node in mrna_with_interactions if node in nodes_w_seq]"
   ]
  },
  {
   "cell_type": "code",
   "execution_count": 16,
   "metadata": {},
   "outputs": [],
   "source": [
    "ofile = open(\"/home/jonny/PycharmProjects/MultiOmicsGraphEmbedding/moge/data/SequenceFiles/mRNA_ints.fa\", \"w\")\n",
    "for node in mrna_with_interactions:\n",
    "    ofile.write(\">\" + node + \"\\n\" +network.genes_info.loc[node, \"Transcript sequence\"] + \"\\n\")\n",
    "ofile.close()"
   ]
  },
  {
   "cell_type": "code",
   "execution_count": 50,
   "metadata": {},
   "outputs": [
    {
     "data": {
      "text/plain": [
       "518"
      ]
     },
     "execution_count": 50,
     "metadata": {},
     "output_type": "execute_result"
    }
   ],
   "source": [
    "lnc_with_interactions.index(\"FOXP1-AS1\")"
   ]
  },
  {
   "cell_type": "code",
   "execution_count": 17,
   "metadata": {},
   "outputs": [
    {
     "data": {
      "text/plain": [
       "12649"
      ]
     },
     "execution_count": 17,
     "metadata": {},
     "output_type": "execute_result"
    }
   ],
   "source": [
    "len(lnc_with_interactions)"
   ]
  },
  {
   "cell_type": "markdown",
   "metadata": {},
   "source": [
    "# Filter the node_list"
   ]
  },
  {
   "cell_type": "code",
   "execution_count": 18,
   "metadata": {},
   "outputs": [],
   "source": [
    "isolates = list(nx.isolates(network.G))"
   ]
  },
  {
   "cell_type": "code",
   "execution_count": 19,
   "metadata": {},
   "outputs": [],
   "source": [
    "network.nodes[\"GE\"] = [node for node in network.nodes[\"GE\"] if node not in isolates]\n",
    "network.nodes[\"LNC\"] = [node for node in network.nodes[\"LNC\"] if node not in isolates]\n",
    "network.nodes[\"MIR\"] = [node for node in network.nodes[\"MIR\"] if node not in isolates]\n",
    "network.node_list = [node for node in network.node_list if node not in isolates]"
   ]
  },
  {
   "cell_type": "code",
   "execution_count": 20,
   "metadata": {},
   "outputs": [],
   "source": [
    "# network.remove_extra_nodes() # Also makes network unmutable"
   ]
  },
  {
   "cell_type": "code",
   "execution_count": 21,
   "metadata": {},
   "outputs": [
    {
     "data": {
      "text/plain": [
       "53045"
      ]
     },
     "execution_count": 21,
     "metadata": {},
     "output_type": "execute_result"
    }
   ],
   "source": [
    "network.G.number_of_nodes()"
   ]
  },
  {
   "cell_type": "code",
   "execution_count": 22,
   "metadata": {},
   "outputs": [
    {
     "data": {
      "text/plain": [
       "32528"
      ]
     },
     "execution_count": 22,
     "metadata": {},
     "output_type": "execute_result"
    }
   ],
   "source": [
    "len(network.node_list)"
   ]
  },
  {
   "cell_type": "code",
   "execution_count": 23,
   "metadata": {},
   "outputs": [],
   "source": [
    "# WRITE FULL network\n",
    "import pickle\n",
    "with open('moge/data/LMN_only_directed/full_affinity_interactions/lmn_Affinity_bioGRID_lncrna2target_lncRInter_lncBase_miRTarBase_LncReg_lncRNome_full.pickle', 'wb') as file:\n",
    "    pickle.dump(network, file)"
   ]
  },
  {
   "cell_type": "markdown",
   "metadata": {},
   "source": [
    "# Split train-test by edges"
   ]
  },
  {
   "cell_type": "code",
   "execution_count": 26,
   "metadata": {},
   "outputs": [],
   "source": [
    "import pickle\n",
    "with open('moge/data/LMN_only_directed/full_affinity_interactions/lmn_Affinity_bioGRID_lncrna2target_lncRInter_lncBase_miRTarBase_LncReg_lncRNome_full.pickle', 'rb') as file:\n",
    "    network = pickle.load(file)"
   ]
  },
  {
   "cell_type": "code",
   "execution_count": 27,
   "metadata": {},
   "outputs": [
    {
     "name": "stdout",
     "output_type": "stream",
     "text": [
      "preprocessing...\n",
      "edges_to_remove 345875\n",
      "edges_to_remove (after MST) 345875\n",
      "test_edges_size 0\n",
      "val_edges_size 69175\n",
      "Removed 0 test, and 69175 val, type ['d'] edges\n"
     ]
    }
   ],
   "source": [
    "from moge.evaluation.utils import split_train_test_edges\n",
    "\n",
    "network_train, test_edges, val_edges = split_train_test_edges(network, network.node_list, \n",
    "#                                                                            databases=,\n",
    "                                                          test_frac=.00, val_frac=.20, edge_types=[\"d\"], \n",
    "                                                          seed=0, verbose=True)"
   ]
  },
  {
   "cell_type": "code",
   "execution_count": 28,
   "metadata": {},
   "outputs": [
    {
     "name": "stdout",
     "output_type": "stream",
     "text": [
      "MIR  nodes: 1870\n",
      "GE  nodes: 20157\n",
      "LNC  nodes: 12706\n",
      "Total nodes: 34733\n",
      "Genes info columns: ['Transcript sequence', 'Disease association', 'locus_type', 'GO Terms', 'Family']\n",
      "Number of nodes without seq removed: 2153\n",
      "Total nodes (filtered): 32581\n",
      "MIR  nodes: 1870\n",
      "GE  nodes: 20157\n",
      "LNC  nodes: 12706\n",
      "Total nodes: 34733\n",
      "Genes info columns: ['Transcript sequence', 'Disease association', 'locus_type', 'GO Terms', 'Family']\n",
      "Number of nodes without seq removed: 2153\n",
      "Total nodes (filtered): 32581\n"
     ]
    }
   ],
   "source": [
    "from moge.network.heterogeneous_network import HeterogeneousNetwork\n",
    "\n",
    "network_test = HeterogeneousNetwork(modalities=[\"MIR\", \"GE\", \"LNC\"], multi_omics_data=network.multi_omics_data)\n",
    "network_val = HeterogeneousNetwork(modalities=[\"MIR\", \"GE\", \"LNC\"], multi_omics_data=network.multi_omics_data)\n",
    "network_test.G.add_edges_from(test_edges)\n",
    "network_val.G.add_edges_from(val_edges)"
   ]
  },
  {
   "cell_type": "markdown",
   "metadata": {},
   "source": [
    "# Split train-test by nodes"
   ]
  },
  {
   "cell_type": "code",
   "execution_count": null,
   "metadata": {},
   "outputs": [],
   "source": [
    "from moge.evaluation.utils import split_train_test_nodes\n",
    "\n",
    "network_train, test_edges, val_edges, test_nodes, val_nodes = split_train_test_nodes(network, network.nodes[\"LNC\"],\n",
    "                                                          test_frac=.00, val_frac=.10, edge_types=[\"d\"], \n",
    "                                                          seed=0, verbose=True)"
   ]
  },
  {
   "cell_type": "code",
   "execution_count": null,
   "metadata": {},
   "outputs": [],
   "source": [
    "from moge.network.heterogeneous_network import HeterogeneousNetwork\n",
    "\n",
    "network_test = HeterogeneousNetwork(modalities=[\"MIR\", \"GE\", \"LNC\"], multi_omics_data=network.multi_omics_data)\n",
    "network_val = HeterogeneousNetwork(modalities=[\"MIR\", \"GE\", \"LNC\"], multi_omics_data=network.multi_omics_data)\n",
    "network_test.val_node_list = test_nodes\n",
    "network_val.val_node_list = val_nodes\n",
    "network_test.G.add_edges_from(test_edges)\n",
    "network_val.G.add_edges_from(val_edges)\n",
    "len(network_test.node_list), len(network_val.node_list)"
   ]
  },
  {
   "cell_type": "code",
   "execution_count": null,
   "metadata": {},
   "outputs": [],
   "source": [
    "network_train.G.number_of_edges()"
   ]
  },
  {
   "cell_type": "markdown",
   "metadata": {},
   "source": [
    "# Write train-test-val split as separate networks"
   ]
  },
  {
   "cell_type": "code",
   "execution_count": 29,
   "metadata": {},
   "outputs": [],
   "source": [
    "# WRITE\n",
    "import pickle\n",
    "with open('moge/data/LMN_only_directed/lmn_edges20/lmn_edges20_train.pickle', 'wb') as file:\n",
    "    pickle.dump(network_train, file)\n",
    "    \n",
    "with open('moge/data/LMN_only_directed/lmn_edges20/lmn_edges20_test.pickle', 'wb') as file:\n",
    "    pickle.dump(network_test, file)\n",
    "    \n",
    "with open('moge/data/LMN_only_directed/lmn_edges20/lmn_edges20_val.pickle', 'wb') as file:\n",
    "    pickle.dump(network_val, file)"
   ]
  },
  {
   "cell_type": "code",
   "execution_count": 30,
   "metadata": {},
   "outputs": [],
   "source": [
    "# WRITE Edgelist\n",
    "nx.write_edgelist(network_train.get_subgraph([\"MIR\", \"GE\", \"LNC\"]), \n",
    "                  \"moge/data/LMN_only_directed/lmn_edges20/lmn_edges20_train.full.edgelist\", \n",
    "                  data=False)"
   ]
  },
  {
   "cell_type": "code",
   "execution_count": 31,
   "metadata": {},
   "outputs": [],
   "source": [
    "nx.write_edgelist(nx.Graph(incoming_graph_data=network_train.get_edgelist(edge_types=[\"d\"], node_list=network_train.node_list)),\n",
    "                  \"moge/data/LMN_only_directed/lmn_edges20/lmn_edges20_train.interactions.edgelist\",\n",
    "                  data=False)"
   ]
  },
  {
   "cell_type": "code",
   "execution_count": null,
   "metadata": {},
   "outputs": [],
   "source": [
    "# import pickle\n",
    "# with open('moge/data/LMN_only_directed/lmn_miRTarBase_edges10_train.pickle', 'rb') as file:\n",
    "#     network = pickle.load(file)\n",
    "\n",
    "# WRITE Edgelist\n",
    "nx.write_edgelist(network.get_subgraph([\"GE\"]), \n",
    "                  \"moge/data/LMN_only_directed/lmn_starBaseFull_GE_edges50_train.edgelist\", \n",
    "                  data=False)"
   ]
  },
  {
   "cell_type": "markdown",
   "metadata": {},
   "source": [
    "## Network Info & Visualizations"
   ]
  },
  {
   "cell_type": "code",
   "execution_count": null,
   "metadata": {},
   "outputs": [],
   "source": [
    "print(len(network.G.nodes()))\n",
    "print(len(network.G.edges()))"
   ]
  },
  {
   "cell_type": "code",
   "execution_count": null,
   "metadata": {},
   "outputs": [],
   "source": [
    "csr_un = network.get_adjacency_matrix(edge_types=[\"u_n\"], node_list=network.node_list)\n",
    "csr_u = network.get_adjacency_matrix(edge_types=[\"u\"], node_list=network.node_list)\n",
    "csr_d = network.get_adjacency_matrix(edge_types=[\"d\"], node_list=network.node_list)"
   ]
  },
  {
   "cell_type": "code",
   "execution_count": null,
   "metadata": {},
   "outputs": [],
   "source": [
    "matrix_heatmap(csr_un.toarray())"
   ]
  },
  {
   "cell_type": "code",
   "execution_count": null,
   "metadata": {},
   "outputs": [],
   "source": [
    "matrix_heatmap(csr_u.toarray())"
   ]
  },
  {
   "cell_type": "code",
   "execution_count": null,
   "metadata": {},
   "outputs": [],
   "source": [
    "matrix_heatmap(csr_d.toarray())"
   ]
  }
 ],
 "metadata": {
  "kernelspec": {
   "display_name": "Python 3",
   "language": "python",
   "name": "python3"
  },
  "language_info": {
   "codemirror_mode": {
    "name": "ipython",
    "version": 3
   },
   "file_extension": ".py",
   "mimetype": "text/x-python",
   "name": "python",
   "nbconvert_exporter": "python",
   "pygments_lexer": "ipython3",
   "version": "3.6.8"
  }
 },
 "nbformat": 4,
 "nbformat_minor": 1
}
