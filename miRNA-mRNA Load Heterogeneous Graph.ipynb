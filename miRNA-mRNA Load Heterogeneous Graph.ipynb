{
 "cells": [
  {
   "cell_type": "code",
   "execution_count": 1,
   "metadata": {},
   "outputs": [],
   "source": [
    "# Necessary imports\n",
    "%load_ext autoreload\n",
    "%autoreload 2\n",
    "\n",
    "import networkx as nx\n",
    "import numpy as np\n",
    "import pandas as pd\n",
    "import scipy.sparse as sps\n",
    "\n",
    "from TCGAMultiOmics.multiomics import MultiOmicsData\n",
    "from moge.visualization.plot_data import matrix_heatmap, plot_coo_matrix\n",
    "\n",
    "import seaborn\n",
    "import matplotlib.pyplot as plt\n",
    "from moge.network.omics_distance import *\n"
   ]
  },
  {
   "cell_type": "markdown",
   "metadata": {},
   "source": [
    "# Import the TCGA cancer data"
   ]
  },
  {
   "cell_type": "code",
   "execution_count": 7,
   "metadata": {},
   "outputs": [],
   "source": [
    "import pickle\n",
    "with open('moge/data/luad_data_longest.pickle', 'rb') as file:\n",
    "    luad_data = pickle.load(file)"
   ]
  },
  {
   "cell_type": "code",
   "execution_count": 2,
   "metadata": {},
   "outputs": [
    {
     "name": "stderr",
     "output_type": "stream",
     "text": [
      "/opt/anaconda3/lib/python3.6/site-packages/pandas/core/frame.py:3781: SettingWithCopyWarning: \n",
      "A value is trying to be set on a copy of a slice from a DataFrame\n",
      "\n",
      "See the caveats in the documentation: http://pandas.pydata.org/pandas-docs/stable/indexing.html#indexing-view-versus-copy\n",
      "  return super(DataFrame, self).rename(**kwargs)\n"
     ]
    },
    {
     "name": "stdout",
     "output_type": "stream",
     "text": [
      "Unmatched lncRNAs 12727\n",
      "Unmatched lncRNAs after gencode: 1033\n",
      "Unmatched lncRNAs after lncBase: 812\n",
      "Unmatched lncRNAs after HGNC: 758\n",
      "Unmatched lncRNAs after lncipedia: 622\n",
      "PATIENTS (522, 110)\n",
      "DRUGS (461, 4)\n",
      "GE (576, 20157)\n",
      "MIR (494, 1870)\n",
      "LNC (546, 12727)\n",
      "SAMPLES (599, 111)\n",
      "Processed genes info for  GE\n",
      "Processed genes info for  MIR\n",
      "Processed genes info for  LNC\n"
     ]
    },
    {
     "name": "stderr",
     "output_type": "stream",
     "text": [
      "/opt/anaconda3/lib/python3.6/site-packages/TCGAMultiOmics/genomic.py:948: FutureWarning: 'MiRBase ID' is both an index level and a column label.\n",
      "Defaulting to column, but this will raise an ambiguity error in a future version\n",
      "  self.gene_info = self.gene_info.join(self.targetScan_family_df.groupby(\"MiRBase ID\").first(), on=\"MiRBase ID\", how=\"left\")\n"
     ]
    }
   ],
   "source": [
    "folder_path = \"/data/datasets/Bioinformatics_ExternalData/tcga-assembler/LUAD/\"\n",
    "external_data_path = \"/data/datasets/Bioinformatics_ExternalData/\"\n",
    "luad_data = MultiOmicsData(cancer_type=\"LUAD\", tcga_data_path=folder_path, external_data_path=external_data_path,\n",
    "                           modalities=[\\\n",
    "                                       \"GE\",\n",
    "                                       \"MIR\",\n",
    "                                       \"LNC\",\n",
    "                                       # \"CNV\",\n",
    "                                       # \"SNP\",\n",
    "#                                        \"PRO\",\n",
    "                                       # \"DNA\"\n",
    "                                       ])"
   ]
  },
  {
   "cell_type": "code",
   "execution_count": 5,
   "metadata": {},
   "outputs": [
    {
     "name": "stdout",
     "output_type": "stream",
     "text": [
      "Index(['Transcript ID', 'Gene ID', 'Gene description', '3P-seq tags',\n",
      "       'locus_type', 'location', 'gene_family', 'gene_family_id',\n",
      "       'Transcript sequence', 'GO Terms', 'Disease association', 'Chromosome',\n",
      "       'Chromosome arm', 'Chromosome region', 'Transcript length'],\n",
      "      dtype='object')\n",
      "Index(['miR family', 'Seed+m8', 'Transcript sequence', 'Family Conservation?',\n",
      "       'MiRBase Accession', 'MiRBase ID', 'location', 'ensembl_gene_id',\n",
      "       'Disease association', 'locus_type', 'Transcript length', 'GO Terms',\n",
      "       'Rfams'],\n",
      "      dtype='object')\n",
      "Index(['Gene ID', 'Gene Name', 'HGNC Gene Name', 'Transcript id',\n",
      "       'Transcript name', 'Transcript type', 'tag', 'Chromosome', 'start',\n",
      "       'end', 'Strand', 'locus_type', 'Transcript sequence',\n",
      "       'Disease association', 'GO Terms', 'Rfams'],\n",
      "      dtype='object')\n"
     ]
    }
   ],
   "source": [
    "LNC = luad_data.LNC.get_genes_info()\n",
    "MIR = luad_data.MIR.get_genes_info()\n",
    "GE = luad_data.GE.get_genes_info()\n",
    "print(GE.columns)\n",
    "print(MIR.columns)\n",
    "print(LNC.columns)"
   ]
  },
  {
   "cell_type": "code",
   "execution_count": 21,
   "metadata": {},
   "outputs": [
    {
     "name": "stdout",
     "output_type": "stream",
     "text": [
      "Gower's dissimilarity: Computing GO Terms , dtype: object , shape: (20157,)\n",
      "Dice distance\n"
     ]
    },
    {
     "name": "stderr",
     "output_type": "stream",
     "text": [
      "/home/jonny/.conda/envs/jonny_conda3/lib/python3.6/site-packages/sklearn/utils/validation.py:590: DataConversionWarning: Data with input dtype uint8 was converted to bool by check_pairwise_arrays.\n",
      "  warnings.warn(msg, DataConversionWarning)\n"
     ]
    },
    {
     "name": "stdout",
     "output_type": "stream",
     "text": [
      "Gower's dissimilarity: Computing Disease association , dtype: object , shape: (20157,)\n",
      "Dice distance\n"
     ]
    },
    {
     "name": "stderr",
     "output_type": "stream",
     "text": [
      "/home/jonny/.conda/envs/jonny_conda3/lib/python3.6/site-packages/sklearn/utils/validation.py:590: DataConversionWarning: Data with input dtype int64 was converted to bool by check_pairwise_arrays.\n",
      "  warnings.warn(msg, DataConversionWarning)\n",
      "/home/jonny/PycharmProjects/MultiOmicsGraphEmbedding/moge/network/omics_distance.py:53: RuntimeWarning: Mean of empty slice\n",
      "  agg_func = lambda x: np.nanmean(x, axis=0)\n"
     ]
    }
   ],
   "source": [
    "# node_list = GE[GE[\"gene_family\"].notnull()].index[0:1000]\n",
    "node_list = GE.index\n",
    "# correlation_dist = compute_expression_correlation_dists(luad_data, modalities=[\"GE\"],\n",
    "#                                                         node_list=node_list, absolute_corr=True,\n",
    "#                                                         squareform=False)\n",
    "affinity = compute_annotation_affinities(GE, node_list=node_list,\n",
    "                features=[\"GO Terms\", \"Disease association\"], \n",
    "#                features=[\"Family\", \"tag\", \"Strand\", \"Chromosome\"], \n",
    "#                                          correlation_dist=correlation_dist,\n",
    "                                        nanmean=True, \n",
    "#                                          weights=[1, 1, 0.5, 0.5, 5],\n",
    "                                        )\n"
   ]
  },
  {
   "cell_type": "code",
   "execution_count": 22,
   "metadata": {},
   "outputs": [
    {
     "data": {
      "image/png": "[encoded data removed]",
      "text/plain": [
       "<Figure size 432x288 with 1 Axes>"
      ]
     },
     "metadata": {
      "needs_background": "light"
     },
     "output_type": "display_data"
    }
   ],
   "source": [
    "plt.hist(affinity[np.where(~np.isnan(affinity))].reshape((-1)), bins=500)\n",
    "plt.ylim(top=5000)\n",
    "plt.show()"
   ]
  },
  {
   "cell_type": "code",
   "execution_count": 23,
   "metadata": {},
   "outputs": [
    {
     "name": "stderr",
     "output_type": "stream",
     "text": [
      "/home/jonny/.conda/envs/jonny_conda3/lib/python3.6/site-packages/ipykernel_launcher.py:2: RuntimeWarning: invalid value encountered in greater\n",
      "  \n"
     ]
    },
    {
     "name": "stdout",
     "output_type": "stream",
     "text": [
      "threshold at 0.6 : 119652\n"
     ]
    }
   ],
   "source": [
    "threshold=0.6\n",
    "print(\"threshold at\", threshold,\":\",(affinity > threshold).sum())\n",
    "# print(\"threshold at\", threshold,\":\",(affinity < 0.01).sum())"
   ]
  },
  {
   "cell_type": "code",
   "execution_count": 24,
   "metadata": {
    "scrolled": true
   },
   "outputs": [
    {
     "name": "stderr",
     "output_type": "stream",
     "text": [
      "/home/jonny/.conda/envs/jonny_conda3/lib/python3.6/site-packages/ipykernel_launcher.py:1: RuntimeWarning: invalid value encountered in greater\n",
      "  \"\"\"Entry point for launching an IPython kernel.\n"
     ]
    },
    {
     "data": {
      "image/png": "[encoded data removed]",
      "text/plain": [
       "<Figure size 864x864 with 2 Axes>"
      ]
     },
     "metadata": {
      "needs_background": "light"
     },
     "output_type": "display_data"
    }
   ],
   "source": [
    "matrix_heatmap(np.array(affinity>threshold, dtype=float))"
   ]
  },
  {
   "cell_type": "code",
   "execution_count": null,
   "metadata": {},
   "outputs": [],
   "source": []
  },
  {
   "cell_type": "markdown",
   "metadata": {},
   "source": [
    "# Heterogeneous Network"
   ]
  },
  {
   "cell_type": "code",
   "execution_count": 3,
   "metadata": {},
   "outputs": [
    {
     "name": "stdout",
     "output_type": "stream",
     "text": [
      "MIR  nodes: 1870\n",
      "GE  nodes: 20157\n",
      "LNC  nodes: 12706\n",
      "Total nodes: 34733\n",
      "Genes info columns: ['Transcript sequence', 'Disease association', 'locus_type', 'GO Terms', 'Family']\n",
      "Number of nodes without seq removed: 2153\n",
      "Total nodes (filtered): 32581\n"
     ]
    }
   ],
   "source": [
    "from moge.network.heterogeneous_network import HeterogeneousNetwork\n",
    "\n",
    "network = HeterogeneousNetwork(modalities=[\"MIR\", \"GE\", \"LNC\"], multi_omics_data=luad_data)"
   ]
  },
  {
   "cell_type": "markdown",
   "metadata": {},
   "source": [
    "## Write node labels to file"
   ]
  },
  {
   "cell_type": "code",
   "execution_count": 4,
   "metadata": {
    "scrolled": true
   },
   "outputs": [],
   "source": [
    "from moge.network.file_io import write_node_labels_to_file\n",
    "\n",
    "# write_node_labels_to_file(\"moge/data/lncRNA_miRNA_mRNA/lncRNA-miRNA-mRNA_node_labels_family.tsv\", luad_data, \n",
    "#                           label_cols=[\"family\"],\n",
    "#                           modalities=[\"MIR\", \"GE\", \"LNC\"], \n",
    "#                           get_dummies=False)\n",
    "\n",
    "# write_node_labels_to_file(\"moge/data/lncRNA_miRNA_mRNA/lncRNA-miRNA-mRNA_node_labels_disease_dummies.tsv\", luad_data, \n",
    "#                           label_cols=[\"Disease association\"],\n",
    "#                           modalities=[\"MIR\", \"GE\", \"LNC\"], remove_na=True, sep=\"\\t\",\n",
    "#                           get_dummies=True)"
   ]
  },
  {
   "cell_type": "markdown",
   "metadata": {},
   "source": [
    "# Add Attribute Affinity Positive Edges"
   ]
  },
  {
   "cell_type": "code",
   "execution_count": 5,
   "metadata": {
    "collapsed": true
   },
   "outputs": [
    {
     "name": "stdout",
     "output_type": "stream",
     "text": [
      "Gower's dissimilarity: Computing GO Terms , dtype: object , shape: (20157,)\n",
      "Dice distance\n"
     ]
    },
    {
     "name": "stderr",
     "output_type": "stream",
     "text": [
      "/opt/anaconda3/lib/python3.6/site-packages/sklearn/utils/validation.py:595: DataConversionWarning: Data with input dtype uint8 was converted to bool by check_pairwise_arrays.\n",
      "  warnings.warn(msg, DataConversionWarning)\n"
     ]
    },
    {
     "name": "stdout",
     "output_type": "stream",
     "text": [
      "Gower's dissimilarity: Computing Disease association , dtype: object , shape: (20157,)\n",
      "Dice distance\n"
     ]
    },
    {
     "name": "stderr",
     "output_type": "stream",
     "text": [
      "/opt/anaconda3/lib/python3.6/site-packages/sklearn/utils/validation.py:595: DataConversionWarning: Data with input dtype int64 was converted to bool by check_pairwise_arrays.\n",
      "  warnings.warn(msg, DataConversionWarning)\n"
     ]
    },
    {
     "ename": "KeyboardInterrupt",
     "evalue": "",
     "output_type": "error",
     "traceback": [
      "\u001b[0;31m---------------------------------------------------------------------------\u001b[0m",
      "\u001b[0;31mKeyboardInterrupt\u001b[0m                         Traceback (most recent call last)",
      "\u001b[0;32m<ipython-input-5-9537623461df>\u001b[0m in \u001b[0;36m<module>\u001b[0;34m\u001b[0m\n\u001b[1;32m      3\u001b[0m                                         \u001b[0mnegative_sampling_ratio\u001b[0m\u001b[0;34m=\u001b[0m\u001b[0;36m5.0\u001b[0m\u001b[0;34m,\u001b[0m \u001b[0mnanmean\u001b[0m\u001b[0;34m=\u001b[0m\u001b[0;32mTrue\u001b[0m\u001b[0;34m,\u001b[0m\u001b[0;34m\u001b[0m\u001b[0;34m\u001b[0m\u001b[0m\n\u001b[1;32m      4\u001b[0m                                         \u001b[0mfeatures\u001b[0m\u001b[0;34m=\u001b[0m\u001b[0;34m[\u001b[0m\u001b[0;34m\"GO Terms\"\u001b[0m\u001b[0;34m,\u001b[0m \u001b[0;34m\"Disease association\"\u001b[0m\u001b[0;34m]\u001b[0m\u001b[0;34m,\u001b[0m\u001b[0;34m\u001b[0m\u001b[0;34m\u001b[0m\u001b[0m\n\u001b[0;32m----> 5\u001b[0;31m                                         compute_correlation=False)\n\u001b[0m",
      "\u001b[0;32m~/PycharmProjects/MultiOmicsGraphEmbedding/moge/network/heterogeneous_network.py\u001b[0m in \u001b[0;36madd_edges_from_nodes_similarity\u001b[0;34m(self, modality, node_list, features, weights, nanmean, similarity_threshold, dissimilarity_threshold, negative_sampling_ratio, max_positive_edges, compute_correlation, histological_subtypes, pathologic_stages, epsilon, tag)\u001b[0m\n\u001b[1;32m    204\u001b[0m             data=compute_annotation_affinities(genes_info, node_list=node_list, modality=modality,\n\u001b[1;32m    205\u001b[0m                                                \u001b[0mcorrelation_dist\u001b[0m\u001b[0;34m=\u001b[0m\u001b[0mcorrelation_dist\u001b[0m\u001b[0;34m,\u001b[0m \u001b[0mnanmean\u001b[0m\u001b[0;34m=\u001b[0m\u001b[0mnanmean\u001b[0m\u001b[0;34m,\u001b[0m\u001b[0;34m\u001b[0m\u001b[0;34m\u001b[0m\u001b[0m\n\u001b[0;32m--> 206\u001b[0;31m                                                features=features, weights=weights, squareform=True),\n\u001b[0m\u001b[1;32m    207\u001b[0m             index=node_list)\n\u001b[1;32m    208\u001b[0m \u001b[0;34m\u001b[0m\u001b[0m\n",
      "\u001b[0;32m~/PycharmProjects/MultiOmicsGraphEmbedding/moge/network/omics_distance.py\u001b[0m in \u001b[0;36mcompute_annotation_affinities\u001b[0;34m(genes_info, node_list, modality, correlation_dist, features, weights, squareform, nanmean, multiprocessing)\u001b[0m\n\u001b[1;32m     56\u001b[0m \u001b[0;34m\u001b[0m\u001b[0m\n\u001b[1;32m     57\u001b[0m     gower_dists = gower_distance(genes_info.loc[node_list, features], agg_func=agg_func, correlation_dist=correlation_dist,\n\u001b[0;32m---> 58\u001b[0;31m                                  multiprocessing=multiprocessing)  # Returns a condensed distance matrix\n\u001b[0m\u001b[1;32m     59\u001b[0m \u001b[0;34m\u001b[0m\u001b[0m\n\u001b[1;32m     60\u001b[0m     \u001b[0;32mif\u001b[0m \u001b[0msquareform\u001b[0m\u001b[0;34m:\u001b[0m\u001b[0;34m\u001b[0m\u001b[0;34m\u001b[0m\u001b[0m\n",
      "\u001b[0;32m~/PycharmProjects/MultiOmicsGraphEmbedding/moge/network/omics_distance.py\u001b[0m in \u001b[0;36mgower_distance\u001b[0;34m(X, agg_func, correlation_dist, multiprocessing, n_jobs)\u001b[0m\n\u001b[1;32m    101\u001b[0m         \u001b[0;32melif\u001b[0m \u001b[0mcolumn\u001b[0m \u001b[0;34m==\u001b[0m \u001b[0;34m\"Disease association\"\u001b[0m\u001b[0;34m:\u001b[0m\u001b[0;34m\u001b[0m\u001b[0;34m\u001b[0m\u001b[0m\n\u001b[1;32m    102\u001b[0m             \u001b[0mprint\u001b[0m\u001b[0;34m(\u001b[0m\u001b[0;34m\"Dice distance\"\u001b[0m\u001b[0;34m)\u001b[0m\u001b[0;34m\u001b[0m\u001b[0;34m\u001b[0m\u001b[0m\n\u001b[0;32m--> 103\u001b[0;31m             \u001b[0mfeature_dist\u001b[0m \u001b[0;34m=\u001b[0m \u001b[0mpdist\u001b[0m\u001b[0;34m(\u001b[0m\u001b[0mfeature\u001b[0m\u001b[0;34m.\u001b[0m\u001b[0mstr\u001b[0m\u001b[0;34m.\u001b[0m\u001b[0mget_dummies\u001b[0m\u001b[0;34m(\u001b[0m\u001b[0;34m\"|\"\u001b[0m\u001b[0;34m)\u001b[0m\u001b[0;34m,\u001b[0m \u001b[0;34m'dice'\u001b[0m\u001b[0;34m)\u001b[0m\u001b[0;34m\u001b[0m\u001b[0;34m\u001b[0m\u001b[0m\n\u001b[0m\u001b[1;32m    104\u001b[0m \u001b[0;34m\u001b[0m\u001b[0m\n\u001b[1;32m    105\u001b[0m         \u001b[0;32melif\u001b[0m \u001b[0mcolumn\u001b[0m \u001b[0;32min\u001b[0m \u001b[0;34m[\u001b[0m\u001b[0;34m\"Mature sequence\"\u001b[0m\u001b[0;34m,\u001b[0m \u001b[0;34m\"Transcript sequence\"\u001b[0m\u001b[0;34m]\u001b[0m\u001b[0;34m:\u001b[0m\u001b[0;34m\u001b[0m\u001b[0;34m\u001b[0m\u001b[0m\n",
      "\u001b[0;32m~/PycharmProjects/MultiOmicsGraphEmbedding/moge/network/omics_distance.py\u001b[0m in \u001b[0;36m<lambda>\u001b[0;34m(X, metric)\u001b[0m\n\u001b[1;32m     79\u001b[0m \u001b[0;34m\u001b[0m\u001b[0m\n\u001b[1;32m     80\u001b[0m     \u001b[0;32mif\u001b[0m \u001b[0mmultiprocessing\u001b[0m\u001b[0;34m:\u001b[0m\u001b[0;34m\u001b[0m\u001b[0;34m\u001b[0m\u001b[0m\n\u001b[0;32m---> 81\u001b[0;31m         \u001b[0mpdist\u001b[0m \u001b[0;34m=\u001b[0m \u001b[0;32mlambda\u001b[0m \u001b[0mX\u001b[0m\u001b[0;34m,\u001b[0m \u001b[0mmetric\u001b[0m\u001b[0;34m:\u001b[0m \u001b[0msquareform_\u001b[0m\u001b[0;34m(\u001b[0m\u001b[0mpairwise_distances\u001b[0m\u001b[0;34m(\u001b[0m\u001b[0mX\u001b[0m\u001b[0;34m=\u001b[0m\u001b[0mX\u001b[0m\u001b[0;34m,\u001b[0m \u001b[0mmetric\u001b[0m\u001b[0;34m=\u001b[0m\u001b[0mmetric\u001b[0m\u001b[0;34m,\u001b[0m \u001b[0mn_jobs\u001b[0m\u001b[0;34m=\u001b[0m\u001b[0mn_jobs\u001b[0m\u001b[0;34m)\u001b[0m\u001b[0;34m,\u001b[0m \u001b[0mchecks\u001b[0m\u001b[0;34m=\u001b[0m\u001b[0;32mFalse\u001b[0m\u001b[0;34m)\u001b[0m\u001b[0;34m\u001b[0m\u001b[0;34m\u001b[0m\u001b[0m\n\u001b[0m\u001b[1;32m     82\u001b[0m     \u001b[0;32melse\u001b[0m\u001b[0;34m:\u001b[0m\u001b[0;34m\u001b[0m\u001b[0;34m\u001b[0m\u001b[0m\n\u001b[1;32m     83\u001b[0m         \u001b[0mpdist\u001b[0m \u001b[0;34m=\u001b[0m \u001b[0mscipy_pdist\u001b[0m \u001b[0;31m# returns condensed dist matrix\u001b[0m\u001b[0;34m\u001b[0m\u001b[0;34m\u001b[0m\u001b[0m\n",
      "\u001b[0;32m/opt/anaconda3/lib/python3.6/site-packages/sklearn/metrics/pairwise.py\u001b[0m in \u001b[0;36mpairwise_distances\u001b[0;34m(X, Y, metric, n_jobs, **kwds)\u001b[0m\n\u001b[1;32m   1430\u001b[0m         \u001b[0mfunc\u001b[0m \u001b[0;34m=\u001b[0m \u001b[0mpartial\u001b[0m\u001b[0;34m(\u001b[0m\u001b[0mdistance\u001b[0m\u001b[0;34m.\u001b[0m\u001b[0mcdist\u001b[0m\u001b[0;34m,\u001b[0m \u001b[0mmetric\u001b[0m\u001b[0;34m=\u001b[0m\u001b[0mmetric\u001b[0m\u001b[0;34m,\u001b[0m \u001b[0;34m**\u001b[0m\u001b[0mkwds\u001b[0m\u001b[0;34m)\u001b[0m\u001b[0;34m\u001b[0m\u001b[0;34m\u001b[0m\u001b[0m\n\u001b[1;32m   1431\u001b[0m \u001b[0;34m\u001b[0m\u001b[0m\n\u001b[0;32m-> 1432\u001b[0;31m     \u001b[0;32mreturn\u001b[0m \u001b[0m_parallel_pairwise\u001b[0m\u001b[0;34m(\u001b[0m\u001b[0mX\u001b[0m\u001b[0;34m,\u001b[0m \u001b[0mY\u001b[0m\u001b[0;34m,\u001b[0m \u001b[0mfunc\u001b[0m\u001b[0;34m,\u001b[0m \u001b[0mn_jobs\u001b[0m\u001b[0;34m,\u001b[0m \u001b[0;34m**\u001b[0m\u001b[0mkwds\u001b[0m\u001b[0;34m)\u001b[0m\u001b[0;34m\u001b[0m\u001b[0;34m\u001b[0m\u001b[0m\n\u001b[0m\u001b[1;32m   1433\u001b[0m \u001b[0;34m\u001b[0m\u001b[0m\n\u001b[1;32m   1434\u001b[0m \u001b[0;34m\u001b[0m\u001b[0m\n",
      "\u001b[0;32m/opt/anaconda3/lib/python3.6/site-packages/sklearn/metrics/pairwise.py\u001b[0m in \u001b[0;36m_parallel_pairwise\u001b[0;34m(X, Y, func, n_jobs, **kwds)\u001b[0m\n\u001b[1;32m   1071\u001b[0m     ret = Parallel(n_jobs=n_jobs, verbose=0)(\n\u001b[1;32m   1072\u001b[0m         \u001b[0mfd\u001b[0m\u001b[0;34m(\u001b[0m\u001b[0mX\u001b[0m\u001b[0;34m,\u001b[0m \u001b[0mY\u001b[0m\u001b[0;34m[\u001b[0m\u001b[0ms\u001b[0m\u001b[0;34m]\u001b[0m\u001b[0;34m,\u001b[0m \u001b[0;34m**\u001b[0m\u001b[0mkwds\u001b[0m\u001b[0;34m)\u001b[0m\u001b[0;34m\u001b[0m\u001b[0;34m\u001b[0m\u001b[0m\n\u001b[0;32m-> 1073\u001b[0;31m         for s in gen_even_slices(_num_samples(Y), effective_n_jobs(n_jobs)))\n\u001b[0m\u001b[1;32m   1074\u001b[0m \u001b[0;34m\u001b[0m\u001b[0m\n\u001b[1;32m   1075\u001b[0m     \u001b[0;32mreturn\u001b[0m \u001b[0mnp\u001b[0m\u001b[0;34m.\u001b[0m\u001b[0mhstack\u001b[0m\u001b[0;34m(\u001b[0m\u001b[0mret\u001b[0m\u001b[0;34m)\u001b[0m\u001b[0;34m\u001b[0m\u001b[0;34m\u001b[0m\u001b[0m\n",
      "\u001b[0;32m/opt/anaconda3/lib/python3.6/site-packages/sklearn/externals/joblib/parallel.py\u001b[0m in \u001b[0;36m__call__\u001b[0;34m(self, iterable)\u001b[0m\n\u001b[1;32m    928\u001b[0m \u001b[0;34m\u001b[0m\u001b[0m\n\u001b[1;32m    929\u001b[0m             \u001b[0;32mwith\u001b[0m \u001b[0mself\u001b[0m\u001b[0;34m.\u001b[0m\u001b[0m_backend\u001b[0m\u001b[0;34m.\u001b[0m\u001b[0mretrieval_context\u001b[0m\u001b[0;34m(\u001b[0m\u001b[0;34m)\u001b[0m\u001b[0;34m:\u001b[0m\u001b[0;34m\u001b[0m\u001b[0;34m\u001b[0m\u001b[0m\n\u001b[0;32m--> 930\u001b[0;31m                 \u001b[0mself\u001b[0m\u001b[0;34m.\u001b[0m\u001b[0mretrieve\u001b[0m\u001b[0;34m(\u001b[0m\u001b[0;34m)\u001b[0m\u001b[0;34m\u001b[0m\u001b[0;34m\u001b[0m\u001b[0m\n\u001b[0m\u001b[1;32m    931\u001b[0m             \u001b[0;31m# Make sure that we get a last message telling us we are done\u001b[0m\u001b[0;34m\u001b[0m\u001b[0;34m\u001b[0m\u001b[0;34m\u001b[0m\u001b[0m\n\u001b[1;32m    932\u001b[0m             \u001b[0melapsed_time\u001b[0m \u001b[0;34m=\u001b[0m \u001b[0mtime\u001b[0m\u001b[0;34m.\u001b[0m\u001b[0mtime\u001b[0m\u001b[0;34m(\u001b[0m\u001b[0;34m)\u001b[0m \u001b[0;34m-\u001b[0m \u001b[0mself\u001b[0m\u001b[0;34m.\u001b[0m\u001b[0m_start_time\u001b[0m\u001b[0;34m\u001b[0m\u001b[0;34m\u001b[0m\u001b[0m\n",
      "\u001b[0;32m/opt/anaconda3/lib/python3.6/site-packages/sklearn/externals/joblib/parallel.py\u001b[0m in \u001b[0;36mretrieve\u001b[0;34m(self)\u001b[0m\n\u001b[1;32m    831\u001b[0m             \u001b[0;32mtry\u001b[0m\u001b[0;34m:\u001b[0m\u001b[0;34m\u001b[0m\u001b[0;34m\u001b[0m\u001b[0m\n\u001b[1;32m    832\u001b[0m                 \u001b[0;32mif\u001b[0m \u001b[0mgetattr\u001b[0m\u001b[0;34m(\u001b[0m\u001b[0mself\u001b[0m\u001b[0;34m.\u001b[0m\u001b[0m_backend\u001b[0m\u001b[0;34m,\u001b[0m \u001b[0;34m'supports_timeout'\u001b[0m\u001b[0;34m,\u001b[0m \u001b[0;32mFalse\u001b[0m\u001b[0;34m)\u001b[0m\u001b[0;34m:\u001b[0m\u001b[0;34m\u001b[0m\u001b[0;34m\u001b[0m\u001b[0m\n\u001b[0;32m--> 833\u001b[0;31m                     \u001b[0mself\u001b[0m\u001b[0;34m.\u001b[0m\u001b[0m_output\u001b[0m\u001b[0;34m.\u001b[0m\u001b[0mextend\u001b[0m\u001b[0;34m(\u001b[0m\u001b[0mjob\u001b[0m\u001b[0;34m.\u001b[0m\u001b[0mget\u001b[0m\u001b[0;34m(\u001b[0m\u001b[0mtimeout\u001b[0m\u001b[0;34m=\u001b[0m\u001b[0mself\u001b[0m\u001b[0;34m.\u001b[0m\u001b[0mtimeout\u001b[0m\u001b[0;34m)\u001b[0m\u001b[0;34m)\u001b[0m\u001b[0;34m\u001b[0m\u001b[0;34m\u001b[0m\u001b[0m\n\u001b[0m\u001b[1;32m    834\u001b[0m                 \u001b[0;32melse\u001b[0m\u001b[0;34m:\u001b[0m\u001b[0;34m\u001b[0m\u001b[0;34m\u001b[0m\u001b[0m\n\u001b[1;32m    835\u001b[0m                     \u001b[0mself\u001b[0m\u001b[0;34m.\u001b[0m\u001b[0m_output\u001b[0m\u001b[0;34m.\u001b[0m\u001b[0mextend\u001b[0m\u001b[0;34m(\u001b[0m\u001b[0mjob\u001b[0m\u001b[0;34m.\u001b[0m\u001b[0mget\u001b[0m\u001b[0;34m(\u001b[0m\u001b[0;34m)\u001b[0m\u001b[0;34m)\u001b[0m\u001b[0;34m\u001b[0m\u001b[0;34m\u001b[0m\u001b[0m\n",
      "\u001b[0;32m/opt/anaconda3/lib/python3.6/site-packages/sklearn/externals/joblib/_parallel_backends.py\u001b[0m in \u001b[0;36mwrap_future_result\u001b[0;34m(future, timeout)\u001b[0m\n\u001b[1;32m    519\u001b[0m         AsyncResults.get from multiprocessing.\"\"\"\n\u001b[1;32m    520\u001b[0m         \u001b[0;32mtry\u001b[0m\u001b[0;34m:\u001b[0m\u001b[0;34m\u001b[0m\u001b[0;34m\u001b[0m\u001b[0m\n\u001b[0;32m--> 521\u001b[0;31m             \u001b[0;32mreturn\u001b[0m \u001b[0mfuture\u001b[0m\u001b[0;34m.\u001b[0m\u001b[0mresult\u001b[0m\u001b[0;34m(\u001b[0m\u001b[0mtimeout\u001b[0m\u001b[0;34m=\u001b[0m\u001b[0mtimeout\u001b[0m\u001b[0;34m)\u001b[0m\u001b[0;34m\u001b[0m\u001b[0;34m\u001b[0m\u001b[0m\n\u001b[0m\u001b[1;32m    522\u001b[0m         \u001b[0;32mexcept\u001b[0m \u001b[0mLokyTimeoutError\u001b[0m\u001b[0;34m:\u001b[0m\u001b[0;34m\u001b[0m\u001b[0;34m\u001b[0m\u001b[0m\n\u001b[1;32m    523\u001b[0m             \u001b[0;32mraise\u001b[0m \u001b[0mTimeoutError\u001b[0m\u001b[0;34m(\u001b[0m\u001b[0;34m)\u001b[0m\u001b[0;34m\u001b[0m\u001b[0;34m\u001b[0m\u001b[0m\n",
      "\u001b[0;32m/opt/anaconda3/lib/python3.6/concurrent/futures/_base.py\u001b[0m in \u001b[0;36mresult\u001b[0;34m(self, timeout)\u001b[0m\n\u001b[1;32m    425\u001b[0m                 \u001b[0;32mreturn\u001b[0m \u001b[0mself\u001b[0m\u001b[0;34m.\u001b[0m\u001b[0m__get_result\u001b[0m\u001b[0;34m(\u001b[0m\u001b[0;34m)\u001b[0m\u001b[0;34m\u001b[0m\u001b[0;34m\u001b[0m\u001b[0m\n\u001b[1;32m    426\u001b[0m \u001b[0;34m\u001b[0m\u001b[0m\n\u001b[0;32m--> 427\u001b[0;31m             \u001b[0mself\u001b[0m\u001b[0;34m.\u001b[0m\u001b[0m_condition\u001b[0m\u001b[0;34m.\u001b[0m\u001b[0mwait\u001b[0m\u001b[0;34m(\u001b[0m\u001b[0mtimeout\u001b[0m\u001b[0;34m)\u001b[0m\u001b[0;34m\u001b[0m\u001b[0;34m\u001b[0m\u001b[0m\n\u001b[0m\u001b[1;32m    428\u001b[0m \u001b[0;34m\u001b[0m\u001b[0m\n\u001b[1;32m    429\u001b[0m             \u001b[0;32mif\u001b[0m \u001b[0mself\u001b[0m\u001b[0;34m.\u001b[0m\u001b[0m_state\u001b[0m \u001b[0;32min\u001b[0m \u001b[0;34m[\u001b[0m\u001b[0mCANCELLED\u001b[0m\u001b[0;34m,\u001b[0m \u001b[0mCANCELLED_AND_NOTIFIED\u001b[0m\u001b[0;34m]\u001b[0m\u001b[0;34m:\u001b[0m\u001b[0;34m\u001b[0m\u001b[0;34m\u001b[0m\u001b[0m\n",
      "\u001b[0;32m/opt/anaconda3/lib/python3.6/threading.py\u001b[0m in \u001b[0;36mwait\u001b[0;34m(self, timeout)\u001b[0m\n\u001b[1;32m    293\u001b[0m         \u001b[0;32mtry\u001b[0m\u001b[0;34m:\u001b[0m    \u001b[0;31m# restore state no matter what (e.g., KeyboardInterrupt)\u001b[0m\u001b[0;34m\u001b[0m\u001b[0;34m\u001b[0m\u001b[0m\n\u001b[1;32m    294\u001b[0m             \u001b[0;32mif\u001b[0m \u001b[0mtimeout\u001b[0m \u001b[0;32mis\u001b[0m \u001b[0;32mNone\u001b[0m\u001b[0;34m:\u001b[0m\u001b[0;34m\u001b[0m\u001b[0;34m\u001b[0m\u001b[0m\n\u001b[0;32m--> 295\u001b[0;31m                 \u001b[0mwaiter\u001b[0m\u001b[0;34m.\u001b[0m\u001b[0macquire\u001b[0m\u001b[0;34m(\u001b[0m\u001b[0;34m)\u001b[0m\u001b[0;34m\u001b[0m\u001b[0;34m\u001b[0m\u001b[0m\n\u001b[0m\u001b[1;32m    296\u001b[0m                 \u001b[0mgotit\u001b[0m \u001b[0;34m=\u001b[0m \u001b[0;32mTrue\u001b[0m\u001b[0;34m\u001b[0m\u001b[0;34m\u001b[0m\u001b[0m\n\u001b[1;32m    297\u001b[0m             \u001b[0;32melse\u001b[0m\u001b[0;34m:\u001b[0m\u001b[0;34m\u001b[0m\u001b[0;34m\u001b[0m\u001b[0m\n",
      "\u001b[0;31mKeyboardInterrupt\u001b[0m: "
     ]
    }
   ],
   "source": [
    "affinities_GE = network.add_edges_from_nodes_similarity(modality=\"GE\", node_list=network.nodes[\"GE\"], \n",
    "                                        similarity_threshold=0.70, dissimilarity_threshold=0.01,\n",
    "                                        negative_sampling_ratio=5.0, nanmean=True,\n",
    "                                        features=[\"GO Terms\", \"Disease association\"], \n",
    "                                        compute_correlation=False)"
   ]
  },
  {
   "cell_type": "code",
   "execution_count": null,
   "metadata": {},
   "outputs": [],
   "source": [
    "affinities_GE = network.add_edges_from_nodes_similarity(modality=\"GE\", node_list=network.nodes[\"GE\"], \n",
    "                                        similarity_threshold=0.70, dissimilarity_threshold=0.01,\n",
    "                                        negative_sampling_ratio=5.0, nanmean=False,\n",
    "                                        features=[\"locus_type\", \"gene_family_id\"], \n",
    "                                        compute_correlation=False)"
   ]
  },
  {
   "cell_type": "code",
   "execution_count": null,
   "metadata": {
    "scrolled": true
   },
   "outputs": [],
   "source": [
    "affinities_MIR = network.add_edges_from_nodes_similarity(modality=\"MIR\", node_list=network.nodes[\"MIR\"], \n",
    "                                        similarity_threshold=0.70, dissimilarity_threshold=0.01,\n",
    "                                        negative_sampling_ratio=5.0, nanmean=True,\n",
    "                                        features=[\"GO Terms\", \"Disease association\"], \n",
    "                                        compute_correlation=False)"
   ]
  },
  {
   "cell_type": "code",
   "execution_count": null,
   "metadata": {
    "scrolled": true
   },
   "outputs": [],
   "source": [
    "affinities_MIR = network.add_edges_from_nodes_similarity(modality=\"MIR\", node_list=network.nodes[\"MIR\"], \n",
    "                                        similarity_threshold=0.70, dissimilarity_threshold=0.01,\n",
    "                                        negative_sampling_ratio=5.0, nanmean=True,\n",
    "                                        features=[\"Family\", \"Rfams\"], \n",
    "                                        compute_correlation=False)"
   ]
  },
  {
   "cell_type": "code",
   "execution_count": null,
   "metadata": {
    "scrolled": true
   },
   "outputs": [],
   "source": [
    "affinities_LNC = network.add_edges_from_nodes_similarity(modality=\"LNC\", node_list=network.nodes[\"LNC\"], \n",
    "                                        similarity_threshold=0.70, dissimilarity_threshold=0.3,\n",
    "                                        negative_sampling_ratio=5.0, \n",
    "                                        nanmean=False,\n",
    "                                        features=[\"locus_type\", \"Transcript type\", \"tag\", \"Strand\", \"Chromosome\"],\n",
    "                                        weights=[1, 1, 1, 0.5, 0.5, 5],\n",
    "                                        compute_correlation=True)"
   ]
  },
  {
   "cell_type": "code",
   "execution_count": null,
   "metadata": {},
   "outputs": [],
   "source": [
    "affinities_LNC = network.add_edges_from_nodes_similarity(modality=\"LNC\", node_list=network.nodes[\"LNC\"], \n",
    "                                        similarity_threshold=0.70, dissimilarity_threshold=0.01,\n",
    "                                        negative_sampling_ratio=5.0, nanmean=True,\n",
    "                                        features=[\"GO Terms\", \"Family\", \"Disease association\"], \n",
    "                                        compute_correlation=False)"
   ]
  },
  {
   "cell_type": "code",
   "execution_count": 7,
   "metadata": {
    "collapsed": true
   },
   "outputs": [
    {
     "data": {
      "image/png": "[encoded data removed]",
      "text/plain": [
       "<Figure size 504x504 with 2 Axes>"
      ]
     },
     "metadata": {
      "needs_background": "light"
     },
     "output_type": "display_data"
    }
   ],
   "source": [
    "matrix_heatmap(network.get_adjacency_matrix(edge_types=[\"u\"], node_list=network.nodes[\"GE\"]).todense(),\n",
    "              figsize=(7,7))"
   ]
  },
  {
   "cell_type": "code",
   "execution_count": 8,
   "metadata": {
    "collapsed": true
   },
   "outputs": [
    {
     "data": {
      "image/png": "[encoded data removed]",
      "text/plain": [
       "<Figure size 360x360 with 2 Axes>"
      ]
     },
     "metadata": {
      "needs_background": "light"
     },
     "output_type": "display_data"
    }
   ],
   "source": [
    "matrix_heatmap(network.get_adjacency_matrix(edge_types=[\"u\"], node_list=network.nodes[\"MIR\"]).todense(),\n",
    "              figsize=(5,5))"
   ]
  },
  {
   "cell_type": "code",
   "execution_count": 9,
   "metadata": {},
   "outputs": [
    {
     "data": {
      "image/png": "[encoded data removed]",
      "text/plain": [
       "<Figure size 504x504 with 2 Axes>"
      ]
     },
     "metadata": {
      "needs_background": "light"
     },
     "output_type": "display_data"
    }
   ],
   "source": [
    "matrix_heatmap(network.get_adjacency_matrix(edge_types=[\"u\"], node_list=network.nodes[\"LNC\"]).todense(),\n",
    "              figsize=(7,7))"
   ]
  },
  {
   "cell_type": "code",
   "execution_count": 4,
   "metadata": {},
   "outputs": [],
   "source": [
    "# IMPORT Affinity Edgelist\n",
    "network.G.import_edgelist_file(\"moge/data/LMN_only_directed/affinity/lmn_n70_m70_l70-70_GO_Rfams_Disease_Family_NoExpression_affinity.edgelist\", \n",
    "                               is_directed=False)"
   ]
  },
  {
   "cell_type": "code",
   "execution_count": 18,
   "metadata": {},
   "outputs": [],
   "source": [
    "# WRITE Affinity Edgelist\n",
    "# nx.write_edgelist(network.get_subgraph([\"MIR\", \"GE\", \"LNC\"]), \n",
    "#                   \"moge/data/LMN_only_directed/affinity/lmn_n70_m70_l70-70_GO_Rfams_Disease_Family_GO_affinity.edgelist\", \n",
    "#                   data=True)"
   ]
  },
  {
   "cell_type": "markdown",
   "metadata": {},
   "source": [
    "# Add Attribute Affinity NEGATIVE Edges between cross-modals"
   ]
  },
  {
   "cell_type": "code",
   "execution_count": 11,
   "metadata": {},
   "outputs": [
    {
     "name": "stdout",
     "output_type": "stream",
     "text": [
      "Number of negative sampled edges between ['GE', 'MIR'] added: 10000\n",
      "Number of negative sampled edges between ['GE', 'LNC'] added: 20000\n",
      "Number of negative sampled edges between ['LNC', 'MIR'] added: 10000\n"
     ]
    }
   ],
   "source": [
    "u_n_size = 10000\n",
    "network.add_sampled_negative_edges(u_n_size, modalities=[\"GE\", \"MIR\"])\n",
    "network.add_sampled_negative_edges(u_n_size*2, modalities=[\"GE\", \"LNC\"])\n",
    "network.add_sampled_negative_edges(u_n_size, modalities=[\"LNC\", \"MIR\"])"
   ]
  },
  {
   "cell_type": "markdown",
   "metadata": {},
   "source": [
    "# Add Regulatory Interaction edges"
   ]
  },
  {
   "cell_type": "code",
   "execution_count": 10,
   "metadata": {},
   "outputs": [
    {
     "data": {
      "text/plain": [
       "64749"
      ]
     },
     "execution_count": 10,
     "metadata": {},
     "output_type": "execute_result"
    }
   ],
   "source": [
    "mirtarbase_new = luad_data.MIR.get_miRTarBase_miRNA_target_interaction(use_latest=True, data=False)\n",
    "mirtarbase_old = luad_data.MIR.get_miRTarBase_miRNA_target_interaction(use_latest=False, data=False)\n",
    "mirtarbase_diff = list(set(mirtarbase_new) - set(mirtarbase_old))\n",
    "len(mirtarbase_diff)"
   ]
  },
  {
   "cell_type": "code",
   "execution_count": 12,
   "metadata": {},
   "outputs": [
    {
     "name": "stdout",
     "output_type": "stream",
     "text": [
      "Adding edgelist with 1746 total unique MIR genes (source), but only matching 1615 nodes\n",
      "Adding edgelist with 4740 total unique GE genes (target), but only matching 4616 nodes\n",
      "64749 edges added.\n"
     ]
    }
   ],
   "source": [
    "# Adds miRNA-target interaction network\n",
    "network.add_directed_edges_from_edgelist(edgelist=mirtarbase_diff, # luad_data.MIR.get_miRTarBase_miRNA_target_interaction(use_latest=False), \n",
    "                                        modalities=[\"MIR\", \"GE\"], correlation_weights=False, threshold=0.20,\n",
    "                                        database=\"miRTarBase\")"
   ]
  },
  {
   "cell_type": "code",
   "execution_count": 13,
   "metadata": {},
   "outputs": [
    {
     "data": {
      "text/plain": [
       "1516287"
      ]
     },
     "execution_count": 13,
     "metadata": {},
     "output_type": "execute_result"
    }
   ],
   "source": [
    "starbase_new = luad_data.GE.get_starBase_RNA_RNA_interactions(min_expNum=1, data=False)\n",
    "starbase_old = luad_data.GE.get_starBase_RNA_RNA_interactions(min_expNum=2, data=False)\n",
    "starbase_diff = list(set(starbase_new) - set(starbase_old))\n",
    "len(starbase_diff)"
   ]
  },
  {
   "cell_type": "code",
   "execution_count": 14,
   "metadata": {},
   "outputs": [
    {
     "name": "stdout",
     "output_type": "stream",
     "text": [
      "Adding edgelist with 16044 total unique GE genes (source), but only matching 15866 nodes\n",
      "Adding edgelist with 30955 total unique GE genes (target), but only matching 15484 nodes\n",
      "1516287 edges added.\n"
     ]
    }
   ],
   "source": [
    "# Adds Gene Regulatory Network edges\n",
    "network.add_directed_edges_from_edgelist(edgelist=starbase_diff, #luad_data.GE.get_starBase_RNA_RNA_interactions(min_expNum=2), # unweighted edges\n",
    "                                        modalities=[\"GE\", \"GE\"], correlation_weights=False, threshold=0.2,\n",
    "                                        database=\"starBase\")"
   ]
  },
  {
   "cell_type": "code",
   "execution_count": 15,
   "metadata": {},
   "outputs": [
    {
     "data": {
      "text/plain": [
       "123486"
      ]
     },
     "execution_count": 15,
     "metadata": {},
     "output_type": "execute_result"
    }
   ],
   "source": [
    "npinter_new = luad_data.LNC.get_NPInter_ncRNA_RNA_regulatory_interaction_edgelist(use_latest=True, data=False)\n",
    "npinter_old = luad_data.LNC.get_NPInter_ncRNA_RNA_regulatory_interaction_edgelist(use_latest=False, data=False)\n",
    "npinter_diff = list(set(npinter_new) - set(npinter_old))\n",
    "len(npinter_diff)"
   ]
  },
  {
   "cell_type": "code",
   "execution_count": 16,
   "metadata": {},
   "outputs": [
    {
     "name": "stdout",
     "output_type": "stream",
     "text": [
      "Adding edgelist with 9381 total unique LNC genes (source), but only matching 508 nodes\n",
      "Adding edgelist with 2903 total unique GE genes (target), but only matching 1607 nodes\n",
      "123486 edges added.\n"
     ]
    }
   ],
   "source": [
    "# Adds miRNA-lncRNA interaction network\n",
    "# network.add_directed_edges_from_edgelist(edgelist=luad_data.LNC.get_starBase_lncRNA_miRNA_interactions_edgelist(),\n",
    "#                                         )\n",
    "# network.add_directed_edges_from_edgelist(edgelist=luad_data.LNC.get_lncRNome_miRNA_binding_sites_edgelist(),\n",
    "#                                          modalities=[\"LNC\", \"MIR\"], correlation_weights=False, threshold=0.20,\n",
    "#                                         database=\"lncRNome\")\n",
    "\n",
    "# network.add_directed_edges_from_edgelist(edgelist=luad_data.LNC.get_lncBase_miRNA_lncRNA_interactions_edgelist(),\n",
    "#                                          modalities=[\"MIR\", \"LNC\"], correlation_weights=False, threshold=0.20,\n",
    "#                                         database=\"lncBase\")\n",
    "\n",
    "network.add_directed_edges_from_edgelist(edgelist=npinter_diff, #luad_data.LNC.get_NPInter_ncRNA_RNA_regulatory_interaction_edgelist(use_latest=False),\n",
    "                                         modalities=[\"LNC\", \"GE\"], correlation_weights=False, threshold=0.20,\n",
    "                                        database=\"NPInter\")\n",
    "\n",
    "# network.add_directed_edges_from_edgelist(edgelist=luad_data.LNC.get_LncReg_lncRNA_RNA_regulatory_interactions(),\n",
    "#                                          modalities=[\"LNC\", \"GE\"], correlation_weights=False, threshold=0.20,\n",
    "#                                         database=\"LncReg\")"
   ]
  },
  {
   "cell_type": "code",
   "execution_count": 20,
   "metadata": {},
   "outputs": [
    {
     "name": "stderr",
     "output_type": "stream",
     "text": [
      "/opt/anaconda3/lib/python3.6/site-packages/IPython/core/interactiveshell.py:3185: DtypeWarning: Columns (6) have mixed types. Specify dtype option on import or set low_memory=False.\n",
      "  if (yield from self.run_code(code, result)):\n"
     ]
    },
    {
     "data": {
      "text/plain": [
       "1277"
      ]
     },
     "execution_count": 20,
     "metadata": {},
     "output_type": "execute_result"
    }
   ],
   "source": [
    "lnc2tar_low = luad_data.LNC.get_lncrna2target_low_throughput_interactions(data=False)\n",
    "lnc2tar_high = luad_data.LNC.get_lncrna2target_high_throughput_interactions(data=False)\n",
    "lnc2tar_diff = list(set(lnc2tar_low) - set(lnc2tar_high))\n",
    "len(lnc2tar_diff)"
   ]
  },
  {
   "cell_type": "code",
   "execution_count": 27,
   "metadata": {},
   "outputs": [
    {
     "name": "stdout",
     "output_type": "stream",
     "text": [
      "Adding edgelist with 243 total unique LNC genes (source), but only matching 79 nodes\n",
      "Adding edgelist with 677 total unique GE genes (target), but only matching 454 nodes\n",
      "1277 edges added.\n"
     ]
    }
   ],
   "source": [
    "network.add_directed_edges_from_edgelist(edgelist=lnc2tar_diff, #luad_data.LNC.get_lncrna2target_high_throughput_interactions(),\n",
    "                                         modalities=[\"LNC\", \"GE\"], correlation_weights=False, threshold=0.20,\n",
    "                                        database=\"lncrna2target_high\")\n",
    "\n",
    "# network.add_directed_edges_from_edgelist(edgelist=luad_data.LNC.get_lncrna2target_low_throughput_interactions(),\n",
    "#                                          modalities=[\"LNC\", \"GE\"], correlation_weights=False, threshold=0.20,\n",
    "#                                         database=\"lncrna2target_low\")\n",
    "\n",
    "# network.add_directed_edges_from_edgelist(edgelist=luad_data.LNC.get_lncRInter_interactions(),\n",
    "#                                          modalities=[\"LNC\", \"GE\"], correlation_weights=False, threshold=0.20,\n",
    "#                                         database=\"lncRInter\")"
   ]
  },
  {
   "cell_type": "markdown",
   "metadata": {},
   "source": [
    "# Filter the node_list"
   ]
  },
  {
   "cell_type": "code",
   "execution_count": 28,
   "metadata": {},
   "outputs": [],
   "source": [
    "isolates = list(nx.isolates(network.G))"
   ]
  },
  {
   "cell_type": "code",
   "execution_count": 29,
   "metadata": {},
   "outputs": [],
   "source": [
    "network.nodes[\"GE\"] = [node for node in network.nodes[\"GE\"] if node not in isolates]\n",
    "network.nodes[\"LNC\"] = [node for node in network.nodes[\"LNC\"] if node not in isolates]\n",
    "network.nodes[\"MIR\"] = [node for node in network.nodes[\"MIR\"] if node not in isolates]\n",
    "network.node_list = [node for node in network.node_list if node not in isolates]"
   ]
  },
  {
   "cell_type": "code",
   "execution_count": 30,
   "metadata": {},
   "outputs": [],
   "source": [
    "# network.remove_extra_nodes() # Also makes network unmutable"
   ]
  },
  {
   "cell_type": "code",
   "execution_count": 31,
   "metadata": {},
   "outputs": [
    {
     "data": {
      "text/plain": [
       "38517"
      ]
     },
     "execution_count": 31,
     "metadata": {},
     "output_type": "execute_result"
    }
   ],
   "source": [
    "network.G.number_of_nodes()"
   ]
  },
  {
   "cell_type": "code",
   "execution_count": 32,
   "metadata": {},
   "outputs": [
    {
     "data": {
      "text/plain": [
       "32580"
      ]
     },
     "execution_count": 32,
     "metadata": {},
     "output_type": "execute_result"
    }
   ],
   "source": [
    "len(network.node_list)"
   ]
  },
  {
   "cell_type": "code",
   "execution_count": 33,
   "metadata": {},
   "outputs": [],
   "source": [
    "# WRITE FULL network\n",
    "import pickle\n",
    "with open('moge/data/LMN_future_recall/Predict/Interactions_Affinity/LMN_mirtarbase_starbase_lncbase_npinter_lncrna2target.test.pickle', 'wb') as file:\n",
    "    pickle.dump(network, file)"
   ]
  },
  {
   "cell_type": "markdown",
   "metadata": {},
   "source": [
    "# Split train-test by edges"
   ]
  },
  {
   "cell_type": "code",
   "execution_count": 45,
   "metadata": {},
   "outputs": [],
   "source": [
    "import pickle\n",
    "# WRITE READ network\n",
    "with open('moge/data/LMN_future_recall/Predict/Interactions_Affinity/LMN_mirtarbase_starbase_lncbase_npinter_lncrna2target.test.pickle', 'rb') as file:\n",
    "    network = pickle.load(file)"
   ]
  },
  {
   "cell_type": "code",
   "execution_count": 27,
   "metadata": {},
   "outputs": [
    {
     "name": "stdout",
     "output_type": "stream",
     "text": [
      "preprocessing...\n",
      "edges_to_remove 345875\n",
      "edges_to_remove (after MST) 345875\n",
      "test_edges_size 0\n",
      "val_edges_size 69175\n",
      "Removed 0 test, and 69175 val, type ['d'] edges\n"
     ]
    }
   ],
   "source": [
    "from moge.evaluation.utils import split_train_test_edges\n",
    "\n",
    "network_train, test_edges, val_edges = split_train_test_edges(network, network.node_list, \n",
    "#                                                                            databases=,\n",
    "                                                          test_frac=.00, val_frac=.20, edge_types=[\"d\"], \n",
    "                                                          seed=0, verbose=True)"
   ]
  },
  {
   "cell_type": "code",
   "execution_count": 28,
   "metadata": {},
   "outputs": [
    {
     "name": "stdout",
     "output_type": "stream",
     "text": [
      "MIR  nodes: 1870\n",
      "GE  nodes: 20157\n",
      "LNC  nodes: 12706\n",
      "Total nodes: 34733\n",
      "Genes info columns: ['Transcript sequence', 'Disease association', 'locus_type', 'GO Terms', 'Family']\n",
      "Number of nodes without seq removed: 2153\n",
      "Total nodes (filtered): 32581\n",
      "MIR  nodes: 1870\n",
      "GE  nodes: 20157\n",
      "LNC  nodes: 12706\n",
      "Total nodes: 34733\n",
      "Genes info columns: ['Transcript sequence', 'Disease association', 'locus_type', 'GO Terms', 'Family']\n",
      "Number of nodes without seq removed: 2153\n",
      "Total nodes (filtered): 32581\n"
     ]
    }
   ],
   "source": [
    "from moge.network.heterogeneous_network import HeterogeneousNetwork\n",
    "\n",
    "network_test = HeterogeneousNetwork(modalities=[\"MIR\", \"GE\", \"LNC\"], multi_omics_data=network.multi_omics_data)\n",
    "network_val = HeterogeneousNetwork(modalities=[\"MIR\", \"GE\", \"LNC\"], multi_omics_data=network.multi_omics_data)\n",
    "network_test.G.add_edges_from(test_edges)\n",
    "network_val.G.add_edges_from(val_edges)"
   ]
  },
  {
   "cell_type": "markdown",
   "metadata": {},
   "source": [
    "# Split train-test by nodes"
   ]
  },
  {
   "cell_type": "code",
   "execution_count": null,
   "metadata": {},
   "outputs": [],
   "source": [
    "from moge.evaluation.utils import split_train_test_nodes\n",
    "\n",
    "network_train, test_edges, val_edges, test_nodes, val_nodes = split_train_test_nodes(network, network.nodes[\"LNC\"],\n",
    "                                                          test_frac=.00, val_frac=.10, edge_types=[\"d\"], \n",
    "                                                          seed=0, verbose=True)"
   ]
  },
  {
   "cell_type": "code",
   "execution_count": null,
   "metadata": {},
   "outputs": [],
   "source": [
    "from moge.network.heterogeneous_network import HeterogeneousNetwork\n",
    "\n",
    "network_test = HeterogeneousNetwork(modalities=[\"MIR\", \"GE\", \"LNC\"], multi_omics_data=network.multi_omics_data)\n",
    "network_val = HeterogeneousNetwork(modalities=[\"MIR\", \"GE\", \"LNC\"], multi_omics_data=network.multi_omics_data)\n",
    "network_test.val_node_list = test_nodes\n",
    "network_val.val_node_list = val_nodes\n",
    "network_test.G.add_edges_from(test_edges)\n",
    "network_val.G.add_edges_from(val_edges)\n",
    "len(network_test.node_list), len(network_val.node_list)"
   ]
  },
  {
   "cell_type": "code",
   "execution_count": null,
   "metadata": {},
   "outputs": [],
   "source": [
    "network_train.G.number_of_edges()"
   ]
  },
  {
   "cell_type": "markdown",
   "metadata": {},
   "source": [
    "# Write train-test-val split as separate networks"
   ]
  },
  {
   "cell_type": "code",
   "execution_count": 29,
   "metadata": {},
   "outputs": [],
   "source": [
    "# WRITE\n",
    "import pickle\n",
    "with open('moge/data/LMN_only_directed/lmn_edges20/lmn_edges20_train.pickle', 'wb') as file:\n",
    "    pickle.dump(network_train, file)\n",
    "    \n",
    "with open('moge/data/LMN_only_directed/lmn_edges20/lmn_edges20_test.pickle', 'wb') as file:\n",
    "    pickle.dump(network_test, file)\n",
    "    \n",
    "with open('moge/data/LMN_only_directed/lmn_edges20/lmn_edges20_val.pickle', 'wb') as file:\n",
    "    pickle.dump(network_val, file)"
   ]
  },
  {
   "cell_type": "code",
   "execution_count": 30,
   "metadata": {},
   "outputs": [],
   "source": [
    "# WRITE Edgelist\n",
    "nx.write_edgelist(network_train.get_subgraph([\"MIR\", \"GE\", \"LNC\"]), \n",
    "                  \"moge/data/LMN_only_directed/lmn_edges20/lmn_edges20_train.full.edgelist\", \n",
    "                  data=False)"
   ]
  },
  {
   "cell_type": "code",
   "execution_count": 34,
   "metadata": {},
   "outputs": [],
   "source": [
    "# Write edgelist interactions only\n",
    "nx.write_edgelist(nx.Graph(incoming_graph_data=network.get_edgelist(edge_types=[\"d\"], node_list=network.node_list)),\n",
    "                  \"moge/data/LMN_future_recall/Predict/Interactions_Only/lmn_train.interactions.edgelist\",\n",
    "                  data=False)"
   ]
  },
  {
   "cell_type": "code",
   "execution_count": 39,
   "metadata": {},
   "outputs": [],
   "source": [
    "# Write edgelist interactions only, database specific\n",
    "nx.write_edgelist(nx.Graph(incoming_graph_data=network.get_edgelist(edge_types=[\"d\"], databases=[\"starBase\"], node_list=network.node_list)),\n",
    "                  \"moge/data/LMN_future_recall/Predict/Interactions_Only/GE/lmn_train.starBase.interactions.edgelist\",\n",
    "                  data=False)"
   ]
  },
  {
   "cell_type": "markdown",
   "metadata": {},
   "source": [
    "## Network Info & Visualizations"
   ]
  },
  {
   "cell_type": "code",
   "execution_count": null,
   "metadata": {},
   "outputs": [],
   "source": [
    "print(len(network.G.nodes()))\n",
    "print(len(network.G.edges()))"
   ]
  },
  {
   "cell_type": "code",
   "execution_count": null,
   "metadata": {},
   "outputs": [],
   "source": [
    "csr_un = network.get_adjacency_matrix(edge_types=[\"u_n\"], node_list=network.node_list)\n",
    "csr_u = network.get_adjacency_matrix(edge_types=[\"u\"], node_list=network.node_list)\n",
    "csr_d = network.get_adjacency_matrix(edge_types=[\"d\"], node_list=network.node_list)"
   ]
  },
  {
   "cell_type": "code",
   "execution_count": null,
   "metadata": {},
   "outputs": [],
   "source": [
    "matrix_heatmap(csr_un.toarray())"
   ]
  },
  {
   "cell_type": "code",
   "execution_count": null,
   "metadata": {},
   "outputs": [],
   "source": [
    "matrix_heatmap(csr_u.toarray())"
   ]
  },
  {
   "cell_type": "code",
   "execution_count": null,
   "metadata": {},
   "outputs": [],
   "source": [
    "matrix_heatmap(csr_d.toarray())"
   ]
  }
 ],
 "metadata": {
  "kernelspec": {
   "display_name": "Python 3",
   "language": "python",
   "name": "python3"
  },
  "language_info": {
   "codemirror_mode": {
    "name": "ipython",
    "version": 3
   },
   "file_extension": ".py",
   "mimetype": "text/x-python",
   "name": "python",
   "nbconvert_exporter": "python",
   "pygments_lexer": "ipython3",
   "version": "3.6.8"
  }
 },
 "nbformat": 4,
 "nbformat_minor": 1
}
