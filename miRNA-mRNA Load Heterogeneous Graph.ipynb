{
 "cells": [
  {
   "cell_type": "code",
   "execution_count": 1,
   "metadata": {},
   "outputs": [],
   "source": [
    "# Necessary imports\n",
    "%reload_ext autoreload\n",
    "\n",
    "import networkx as nx\n",
    "import numpy as np\n",
    "import pandas as pd\n",
    "import scipy.sparse as sps\n",
    "\n",
    "from TCGAMultiOmics.multiomics import MultiOmicsData\n",
    "from moge.visualization.plot_data import matrix_heatmap, plot_coo_matrix\n",
    "\n",
    "import seaborn\n",
    "import matplotlib.pyplot as plt"
   ]
  },
  {
   "cell_type": "markdown",
   "metadata": {},
   "source": [
    "# Import the TCGA cancer data"
   ]
  },
  {
   "cell_type": "code",
   "execution_count": 19,
   "metadata": {},
   "outputs": [
    {
     "name": "stderr",
     "output_type": "stream",
     "text": [
      "/home/jonny/.conda/envs/jonny_conda3/lib/python3.6/site-packages/IPython/core/interactiveshell.py:3018: DtypeWarning: Columns (11) have mixed types. Specify dtype option on import or set low_memory=False.\n",
      "  interactivity=interactivity, compiler=compiler, result=result)\n"
     ]
    },
    {
     "data": {
      "text/html": [
       "<div>\n",
       "<style scoped>\n",
       "    .dataframe tbody tr th:only-of-type {\n",
       "        vertical-align: middle;\n",
       "    }\n",
       "\n",
       "    .dataframe tbody tr th {\n",
       "        vertical-align: top;\n",
       "    }\n",
       "\n",
       "    .dataframe thead th {\n",
       "        text-align: right;\n",
       "    }\n",
       "</style>\n",
       "<table border=\"1\" class=\"dataframe\">\n",
       "  <thead>\n",
       "    <tr style=\"text-align: right;\">\n",
       "      <th></th>\n",
       "      <th>ncType</th>\n",
       "      <th>ncIdentifier</th>\n",
       "      <th>ncName</th>\n",
       "      <th>prType</th>\n",
       "      <th>prIdentifier</th>\n",
       "      <th>PubMedID</th>\n",
       "      <th>organism</th>\n",
       "      <th>tag</th>\n",
       "      <th>interClass</th>\n",
       "      <th>interLevel</th>\n",
       "    </tr>\n",
       "  </thead>\n",
       "  <tbody>\n",
       "    <tr>\n",
       "      <th>5</th>\n",
       "      <td>NONCODE</td>\n",
       "      <td>NONHSAG040596</td>\n",
       "      <td>7SK</td>\n",
       "      <td>RefSeq</td>\n",
       "      <td>NM_002467</td>\n",
       "      <td>9018369</td>\n",
       "      <td>Homo sapiens</td>\n",
       "      <td>regulatory;promoter as action site</td>\n",
       "      <td>regulatory</td>\n",
       "      <td>RNA-RNA</td>\n",
       "    </tr>\n",
       "    <tr>\n",
       "      <th>6</th>\n",
       "      <td>NONCODE</td>\n",
       "      <td>NONHSAG040596</td>\n",
       "      <td>7SK</td>\n",
       "      <td>RefSeq</td>\n",
       "      <td>NM_020469</td>\n",
       "      <td>22522162</td>\n",
       "      <td>Homo sapiens</td>\n",
       "      <td>regulatory</td>\n",
       "      <td>regulatory</td>\n",
       "      <td>RNA-RNA</td>\n",
       "    </tr>\n",
       "    <tr>\n",
       "      <th>44</th>\n",
       "      <td>NONCODE</td>\n",
       "      <td>NONHSAG014875</td>\n",
       "      <td>7SL</td>\n",
       "      <td>RefSeq</td>\n",
       "      <td>NM_000636</td>\n",
       "      <td>20951849</td>\n",
       "      <td>Homo sapiens</td>\n",
       "      <td>ncRNA targets mRNA;regulatory</td>\n",
       "      <td>regulatory</td>\n",
       "      <td>RNA-RNA</td>\n",
       "    </tr>\n",
       "    <tr>\n",
       "      <th>51</th>\n",
       "      <td>NONCODE</td>\n",
       "      <td>NaN</td>\n",
       "      <td>ABC12-49244600F4.3</td>\n",
       "      <td>miRBase</td>\n",
       "      <td>MI0000113</td>\n",
       "      <td>25531890</td>\n",
       "      <td>Homo sapiens</td>\n",
       "      <td>miRNA target interaction;RNA-RNA interaction</td>\n",
       "      <td>binding</td>\n",
       "      <td>RNA-RNA</td>\n",
       "    </tr>\n",
       "    <tr>\n",
       "      <th>52</th>\n",
       "      <td>NONCODE</td>\n",
       "      <td>NaN</td>\n",
       "      <td>ABHD11-AS2</td>\n",
       "      <td>miRBase</td>\n",
       "      <td>MI0000113</td>\n",
       "      <td>25531890</td>\n",
       "      <td>Homo sapiens</td>\n",
       "      <td>miRNA target interaction;RNA-RNA interaction</td>\n",
       "      <td>binding</td>\n",
       "      <td>RNA-RNA</td>\n",
       "    </tr>\n",
       "    <tr>\n",
       "      <th>53</th>\n",
       "      <td>NONCODE</td>\n",
       "      <td>NONHSAG048195</td>\n",
       "      <td>AC000120.7</td>\n",
       "      <td>miRBase</td>\n",
       "      <td>MI0000113</td>\n",
       "      <td>25531890</td>\n",
       "      <td>Homo sapiens</td>\n",
       "      <td>miRNA target interaction;RNA-RNA interaction</td>\n",
       "      <td>binding</td>\n",
       "      <td>RNA-RNA</td>\n",
       "    </tr>\n",
       "    <tr>\n",
       "      <th>54</th>\n",
       "      <td>NONCODE</td>\n",
       "      <td>NONHSAG048720</td>\n",
       "      <td>AC000124.1</td>\n",
       "      <td>miRBase</td>\n",
       "      <td>MI0000113</td>\n",
       "      <td>25531890</td>\n",
       "      <td>Homo sapiens</td>\n",
       "      <td>miRNA target interaction;RNA-RNA interaction</td>\n",
       "      <td>binding</td>\n",
       "      <td>RNA-RNA</td>\n",
       "    </tr>\n",
       "    <tr>\n",
       "      <th>55</th>\n",
       "      <td>NONCODE</td>\n",
       "      <td>NaN</td>\n",
       "      <td>AC002115.6</td>\n",
       "      <td>miRBase</td>\n",
       "      <td>MI0000113</td>\n",
       "      <td>25531890</td>\n",
       "      <td>Homo sapiens</td>\n",
       "      <td>miRNA target interaction;RNA-RNA interaction</td>\n",
       "      <td>binding</td>\n",
       "      <td>RNA-RNA</td>\n",
       "    </tr>\n",
       "    <tr>\n",
       "      <th>56</th>\n",
       "      <td>NONCODE</td>\n",
       "      <td>NaN</td>\n",
       "      <td>AC002116.5</td>\n",
       "      <td>miRBase</td>\n",
       "      <td>MI0000113</td>\n",
       "      <td>25531890</td>\n",
       "      <td>Homo sapiens</td>\n",
       "      <td>miRNA target interaction;RNA-RNA interaction</td>\n",
       "      <td>binding</td>\n",
       "      <td>RNA-RNA</td>\n",
       "    </tr>\n",
       "    <tr>\n",
       "      <th>57</th>\n",
       "      <td>NONCODE</td>\n",
       "      <td>NONHSAG048153</td>\n",
       "      <td>AC002127.4</td>\n",
       "      <td>miRBase</td>\n",
       "      <td>MI0000113</td>\n",
       "      <td>25531890</td>\n",
       "      <td>Homo sapiens</td>\n",
       "      <td>miRNA target interaction;RNA-RNA interaction</td>\n",
       "      <td>binding</td>\n",
       "      <td>RNA-RNA</td>\n",
       "    </tr>\n",
       "    <tr>\n",
       "      <th>58</th>\n",
       "      <td>NONCODE</td>\n",
       "      <td>NONHSAG019101</td>\n",
       "      <td>AC002310.12</td>\n",
       "      <td>miRBase</td>\n",
       "      <td>MI0000113</td>\n",
       "      <td>25531890</td>\n",
       "      <td>Homo sapiens</td>\n",
       "      <td>miRNA target interaction;RNA-RNA interaction</td>\n",
       "      <td>binding</td>\n",
       "      <td>RNA-RNA</td>\n",
       "    </tr>\n",
       "    <tr>\n",
       "      <th>59</th>\n",
       "      <td>NONCODE</td>\n",
       "      <td>NaN</td>\n",
       "      <td>AC002467.5</td>\n",
       "      <td>miRBase</td>\n",
       "      <td>MI0000113</td>\n",
       "      <td>25531890</td>\n",
       "      <td>Homo sapiens</td>\n",
       "      <td>miRNA target interaction;RNA-RNA interaction</td>\n",
       "      <td>binding</td>\n",
       "      <td>RNA-RNA</td>\n",
       "    </tr>\n",
       "    <tr>\n",
       "      <th>60</th>\n",
       "      <td>NONCODE</td>\n",
       "      <td>NONHSAG047088</td>\n",
       "      <td>AC002480.2</td>\n",
       "      <td>miRBase</td>\n",
       "      <td>MI0000113</td>\n",
       "      <td>25531890</td>\n",
       "      <td>Homo sapiens</td>\n",
       "      <td>miRNA target interaction;RNA-RNA interaction</td>\n",
       "      <td>binding</td>\n",
       "      <td>RNA-RNA</td>\n",
       "    </tr>\n",
       "    <tr>\n",
       "      <th>61</th>\n",
       "      <td>NONCODE</td>\n",
       "      <td>NONHSAG022057</td>\n",
       "      <td>AC003665.1</td>\n",
       "      <td>miRBase</td>\n",
       "      <td>MI0000113</td>\n",
       "      <td>25531890</td>\n",
       "      <td>Homo sapiens</td>\n",
       "      <td>miRNA target interaction;RNA-RNA interaction</td>\n",
       "      <td>binding</td>\n",
       "      <td>RNA-RNA</td>\n",
       "    </tr>\n",
       "    <tr>\n",
       "      <th>62</th>\n",
       "      <td>NONCODE</td>\n",
       "      <td>NONHSAG038559</td>\n",
       "      <td>AC004069.2</td>\n",
       "      <td>miRBase</td>\n",
       "      <td>MI0000113</td>\n",
       "      <td>25531890</td>\n",
       "      <td>Homo sapiens</td>\n",
       "      <td>miRNA target interaction;RNA-RNA interaction</td>\n",
       "      <td>binding</td>\n",
       "      <td>RNA-RNA</td>\n",
       "    </tr>\n",
       "    <tr>\n",
       "      <th>63</th>\n",
       "      <td>NONCODE</td>\n",
       "      <td>NONHSAG019921</td>\n",
       "      <td>AC004158.2</td>\n",
       "      <td>miRBase</td>\n",
       "      <td>MI0000113</td>\n",
       "      <td>25531890</td>\n",
       "      <td>Homo sapiens</td>\n",
       "      <td>miRNA target interaction;RNA-RNA interaction</td>\n",
       "      <td>binding</td>\n",
       "      <td>RNA-RNA</td>\n",
       "    </tr>\n",
       "    <tr>\n",
       "      <th>64</th>\n",
       "      <td>NONCODE</td>\n",
       "      <td>NONHSAG033266</td>\n",
       "      <td>AC004463.6</td>\n",
       "      <td>miRBase</td>\n",
       "      <td>MI0000113</td>\n",
       "      <td>25531890</td>\n",
       "      <td>Homo sapiens</td>\n",
       "      <td>miRNA target interaction;RNA-RNA interaction</td>\n",
       "      <td>binding</td>\n",
       "      <td>RNA-RNA</td>\n",
       "    </tr>\n",
       "    <tr>\n",
       "      <th>65</th>\n",
       "      <td>NONCODE</td>\n",
       "      <td>NaN</td>\n",
       "      <td>AC004790.2</td>\n",
       "      <td>miRBase</td>\n",
       "      <td>MI0000113</td>\n",
       "      <td>25531890</td>\n",
       "      <td>Homo sapiens</td>\n",
       "      <td>miRNA target interaction;RNA-RNA interaction</td>\n",
       "      <td>binding</td>\n",
       "      <td>RNA-RNA</td>\n",
       "    </tr>\n",
       "    <tr>\n",
       "      <th>66</th>\n",
       "      <td>NONCODE</td>\n",
       "      <td>NONHSAG048302</td>\n",
       "      <td>AC004893.11</td>\n",
       "      <td>miRBase</td>\n",
       "      <td>MI0000113</td>\n",
       "      <td>25531890</td>\n",
       "      <td>Homo sapiens</td>\n",
       "      <td>miRNA target interaction;RNA-RNA interaction</td>\n",
       "      <td>binding</td>\n",
       "      <td>RNA-RNA</td>\n",
       "    </tr>\n",
       "    <tr>\n",
       "      <th>67</th>\n",
       "      <td>NONCODE</td>\n",
       "      <td>NONHSAG047465</td>\n",
       "      <td>AC004951.6</td>\n",
       "      <td>miRBase</td>\n",
       "      <td>MI0000113</td>\n",
       "      <td>25531890</td>\n",
       "      <td>Homo sapiens</td>\n",
       "      <td>miRNA target interaction;RNA-RNA interaction</td>\n",
       "      <td>binding</td>\n",
       "      <td>RNA-RNA</td>\n",
       "    </tr>\n",
       "    <tr>\n",
       "      <th>68</th>\n",
       "      <td>NONCODE</td>\n",
       "      <td>NONHSAG047425</td>\n",
       "      <td>AC004988.1</td>\n",
       "      <td>miRBase</td>\n",
       "      <td>MI0000113</td>\n",
       "      <td>25531890</td>\n",
       "      <td>Homo sapiens</td>\n",
       "      <td>miRNA target interaction;RNA-RNA interaction</td>\n",
       "      <td>binding</td>\n",
       "      <td>RNA-RNA</td>\n",
       "    </tr>\n",
       "    <tr>\n",
       "      <th>69</th>\n",
       "      <td>NONCODE</td>\n",
       "      <td>NONHSAG047260</td>\n",
       "      <td>AC005154.5</td>\n",
       "      <td>miRBase</td>\n",
       "      <td>MI0000113</td>\n",
       "      <td>25531890</td>\n",
       "      <td>Homo sapiens</td>\n",
       "      <td>miRNA target interaction;RNA-RNA interaction</td>\n",
       "      <td>binding</td>\n",
       "      <td>RNA-RNA</td>\n",
       "    </tr>\n",
       "    <tr>\n",
       "      <th>70</th>\n",
       "      <td>NONCODE</td>\n",
       "      <td>NONHSAG020883</td>\n",
       "      <td>AC005224.2</td>\n",
       "      <td>miRBase</td>\n",
       "      <td>MI0000113</td>\n",
       "      <td>25531890</td>\n",
       "      <td>Homo sapiens</td>\n",
       "      <td>miRNA target interaction;RNA-RNA interaction</td>\n",
       "      <td>binding</td>\n",
       "      <td>RNA-RNA</td>\n",
       "    </tr>\n",
       "    <tr>\n",
       "      <th>71</th>\n",
       "      <td>NONCODE</td>\n",
       "      <td>NaN</td>\n",
       "      <td>AC005332.1</td>\n",
       "      <td>miRBase</td>\n",
       "      <td>MI0000113</td>\n",
       "      <td>25531890</td>\n",
       "      <td>Homo sapiens</td>\n",
       "      <td>miRNA target interaction;RNA-RNA interaction</td>\n",
       "      <td>binding</td>\n",
       "      <td>RNA-RNA</td>\n",
       "    </tr>\n",
       "    <tr>\n",
       "      <th>72</th>\n",
       "      <td>NONCODE</td>\n",
       "      <td>NONHSAG041581</td>\n",
       "      <td>AC005355.2</td>\n",
       "      <td>miRBase</td>\n",
       "      <td>MI0000113</td>\n",
       "      <td>25531890</td>\n",
       "      <td>Homo sapiens</td>\n",
       "      <td>miRNA target interaction;RNA-RNA interaction</td>\n",
       "      <td>binding</td>\n",
       "      <td>RNA-RNA</td>\n",
       "    </tr>\n",
       "    <tr>\n",
       "      <th>73</th>\n",
       "      <td>NONCODE</td>\n",
       "      <td>NONHSAG015454</td>\n",
       "      <td>AC005519.4</td>\n",
       "      <td>miRBase</td>\n",
       "      <td>MI0000113</td>\n",
       "      <td>25531890</td>\n",
       "      <td>Homo sapiens</td>\n",
       "      <td>miRNA target interaction;RNA-RNA interaction</td>\n",
       "      <td>binding</td>\n",
       "      <td>RNA-RNA</td>\n",
       "    </tr>\n",
       "    <tr>\n",
       "      <th>74</th>\n",
       "      <td>NONCODE</td>\n",
       "      <td>NONHSAG049274</td>\n",
       "      <td>AC005534.9</td>\n",
       "      <td>miRBase</td>\n",
       "      <td>MI0000113</td>\n",
       "      <td>25531890</td>\n",
       "      <td>Homo sapiens</td>\n",
       "      <td>miRNA target interaction;RNA-RNA interaction</td>\n",
       "      <td>binding</td>\n",
       "      <td>RNA-RNA</td>\n",
       "    </tr>\n",
       "    <tr>\n",
       "      <th>75</th>\n",
       "      <td>NONCODE</td>\n",
       "      <td>NONHSAG030105</td>\n",
       "      <td>AC005540.3</td>\n",
       "      <td>miRBase</td>\n",
       "      <td>MI0000113</td>\n",
       "      <td>25531890</td>\n",
       "      <td>Homo sapiens</td>\n",
       "      <td>miRNA target interaction;RNA-RNA interaction</td>\n",
       "      <td>binding</td>\n",
       "      <td>RNA-RNA</td>\n",
       "    </tr>\n",
       "    <tr>\n",
       "      <th>77</th>\n",
       "      <td>NONCODE</td>\n",
       "      <td>NONHSAG041804</td>\n",
       "      <td>AC005592.3</td>\n",
       "      <td>miRBase</td>\n",
       "      <td>MI0000113</td>\n",
       "      <td>25531890</td>\n",
       "      <td>Homo sapiens</td>\n",
       "      <td>miRNA target interaction;RNA-RNA interaction</td>\n",
       "      <td>binding</td>\n",
       "      <td>RNA-RNA</td>\n",
       "    </tr>\n",
       "    <tr>\n",
       "      <th>78</th>\n",
       "      <td>NONCODE</td>\n",
       "      <td>NONHSAG047097</td>\n",
       "      <td>AC005682.5</td>\n",
       "      <td>miRBase</td>\n",
       "      <td>MI0000113</td>\n",
       "      <td>25531890</td>\n",
       "      <td>Homo sapiens</td>\n",
       "      <td>miRNA target interaction;RNA-RNA interaction</td>\n",
       "      <td>binding</td>\n",
       "      <td>RNA-RNA</td>\n",
       "    </tr>\n",
       "    <tr>\n",
       "      <th>...</th>\n",
       "      <td>...</td>\n",
       "      <td>...</td>\n",
       "      <td>...</td>\n",
       "      <td>...</td>\n",
       "      <td>...</td>\n",
       "      <td>...</td>\n",
       "      <td>...</td>\n",
       "      <td>...</td>\n",
       "      <td>...</td>\n",
       "      <td>...</td>\n",
       "    </tr>\n",
       "    <tr>\n",
       "      <th>483873</th>\n",
       "      <td>NONCODE</td>\n",
       "      <td>NONHSAG048962</td>\n",
       "      <td>NONHSAG048962</td>\n",
       "      <td>miRBase</td>\n",
       "      <td>MI0000101</td>\n",
       "      <td>NaN</td>\n",
       "      <td>Homo sapiens</td>\n",
       "      <td>miRNA;miRNA target interaction;regulatory</td>\n",
       "      <td>binding;regulatory</td>\n",
       "      <td>RNA-RNA</td>\n",
       "    </tr>\n",
       "    <tr>\n",
       "      <th>483874</th>\n",
       "      <td>NONCODE</td>\n",
       "      <td>NONHSAG049733</td>\n",
       "      <td>NONHSAG049733</td>\n",
       "      <td>miRBase</td>\n",
       "      <td>MI0000101</td>\n",
       "      <td>NaN</td>\n",
       "      <td>Homo sapiens</td>\n",
       "      <td>miRNA;miRNA target interaction;regulatory</td>\n",
       "      <td>binding;regulatory</td>\n",
       "      <td>RNA-RNA</td>\n",
       "    </tr>\n",
       "    <tr>\n",
       "      <th>483875</th>\n",
       "      <td>NONCODE</td>\n",
       "      <td>NONHSAG050957</td>\n",
       "      <td>NONHSAG050957</td>\n",
       "      <td>miRBase</td>\n",
       "      <td>MI0000101</td>\n",
       "      <td>NaN</td>\n",
       "      <td>Homo sapiens</td>\n",
       "      <td>miRNA;miRNA target interaction;regulatory</td>\n",
       "      <td>binding;regulatory</td>\n",
       "      <td>RNA-RNA</td>\n",
       "    </tr>\n",
       "    <tr>\n",
       "      <th>483876</th>\n",
       "      <td>NONCODE</td>\n",
       "      <td>NONHSAG000090</td>\n",
       "      <td>CPSF3L</td>\n",
       "      <td>miRBase</td>\n",
       "      <td>MI0000746</td>\n",
       "      <td>NaN</td>\n",
       "      <td>Homo sapiens</td>\n",
       "      <td>miRNA;miRNA target interaction;regulatory</td>\n",
       "      <td>binding;regulatory</td>\n",
       "      <td>RNA-RNA</td>\n",
       "    </tr>\n",
       "    <tr>\n",
       "      <th>483877</th>\n",
       "      <td>NONCODE</td>\n",
       "      <td>NONHSAG002080</td>\n",
       "      <td>MTF2</td>\n",
       "      <td>miRBase</td>\n",
       "      <td>MI0000746</td>\n",
       "      <td>NaN</td>\n",
       "      <td>Homo sapiens</td>\n",
       "      <td>miRNA;miRNA target interaction;regulatory</td>\n",
       "      <td>binding;regulatory</td>\n",
       "      <td>RNA-RNA</td>\n",
       "    </tr>\n",
       "    <tr>\n",
       "      <th>483878</th>\n",
       "      <td>NONCODE</td>\n",
       "      <td>NONHSAG007409</td>\n",
       "      <td>H19</td>\n",
       "      <td>miRBase</td>\n",
       "      <td>MI0000746</td>\n",
       "      <td>NaN</td>\n",
       "      <td>Homo sapiens</td>\n",
       "      <td>miRNA;miRNA target interaction;regulatory</td>\n",
       "      <td>binding;regulatory</td>\n",
       "      <td>RNA-RNA</td>\n",
       "    </tr>\n",
       "    <tr>\n",
       "      <th>483879</th>\n",
       "      <td>NONCODE</td>\n",
       "      <td>NONHSAG007695</td>\n",
       "      <td>LINC00958</td>\n",
       "      <td>miRBase</td>\n",
       "      <td>MI0000746</td>\n",
       "      <td>NaN</td>\n",
       "      <td>Homo sapiens</td>\n",
       "      <td>miRNA;miRNA target interaction;regulatory</td>\n",
       "      <td>binding;regulatory</td>\n",
       "      <td>RNA-RNA</td>\n",
       "    </tr>\n",
       "    <tr>\n",
       "      <th>483880</th>\n",
       "      <td>NONCODE</td>\n",
       "      <td>NONHSAG008858</td>\n",
       "      <td>PPP6R3</td>\n",
       "      <td>miRBase</td>\n",
       "      <td>MI0000746</td>\n",
       "      <td>NaN</td>\n",
       "      <td>Homo sapiens</td>\n",
       "      <td>miRNA;miRNA target interaction;regulatory</td>\n",
       "      <td>binding;regulatory</td>\n",
       "      <td>RNA-RNA</td>\n",
       "    </tr>\n",
       "    <tr>\n",
       "      <th>483881</th>\n",
       "      <td>NONCODE</td>\n",
       "      <td>NONHSAG011246</td>\n",
       "      <td>RP11-793H13.3</td>\n",
       "      <td>miRBase</td>\n",
       "      <td>MI0000746</td>\n",
       "      <td>NaN</td>\n",
       "      <td>Homo sapiens</td>\n",
       "      <td>miRNA;miRNA target interaction;regulatory</td>\n",
       "      <td>binding;regulatory</td>\n",
       "      <td>RNA-RNA</td>\n",
       "    </tr>\n",
       "    <tr>\n",
       "      <th>483882</th>\n",
       "      <td>NONCODE</td>\n",
       "      <td>NONHSAG012814</td>\n",
       "      <td>POLE</td>\n",
       "      <td>miRBase</td>\n",
       "      <td>MI0000746</td>\n",
       "      <td>NaN</td>\n",
       "      <td>Homo sapiens</td>\n",
       "      <td>miRNA;miRNA target interaction;regulatory</td>\n",
       "      <td>binding;regulatory</td>\n",
       "      <td>RNA-RNA</td>\n",
       "    </tr>\n",
       "    <tr>\n",
       "      <th>483883</th>\n",
       "      <td>NONCODE</td>\n",
       "      <td>NONHSAG014678</td>\n",
       "      <td>BAZ1A</td>\n",
       "      <td>miRBase</td>\n",
       "      <td>MI0000746</td>\n",
       "      <td>NaN</td>\n",
       "      <td>Homo sapiens</td>\n",
       "      <td>miRNA;miRNA target interaction;regulatory</td>\n",
       "      <td>binding;regulatory</td>\n",
       "      <td>RNA-RNA</td>\n",
       "    </tr>\n",
       "    <tr>\n",
       "      <th>483884</th>\n",
       "      <td>NONCODE</td>\n",
       "      <td>NONHSAG018338</td>\n",
       "      <td>AMDHD2</td>\n",
       "      <td>miRBase</td>\n",
       "      <td>MI0000746</td>\n",
       "      <td>NaN</td>\n",
       "      <td>Homo sapiens</td>\n",
       "      <td>miRNA;miRNA target interaction;regulatory</td>\n",
       "      <td>binding;regulatory</td>\n",
       "      <td>RNA-RNA</td>\n",
       "    </tr>\n",
       "    <tr>\n",
       "      <th>483885</th>\n",
       "      <td>NONCODE</td>\n",
       "      <td>NONHSAG018864</td>\n",
       "      <td>EEF2K</td>\n",
       "      <td>miRBase</td>\n",
       "      <td>MI0000746</td>\n",
       "      <td>NaN</td>\n",
       "      <td>Homo sapiens</td>\n",
       "      <td>miRNA;miRNA target interaction;regulatory</td>\n",
       "      <td>binding;regulatory</td>\n",
       "      <td>RNA-RNA</td>\n",
       "    </tr>\n",
       "    <tr>\n",
       "      <th>483886</th>\n",
       "      <td>NONCODE</td>\n",
       "      <td>NONHSAG019119</td>\n",
       "      <td>NONHSAG019119</td>\n",
       "      <td>miRBase</td>\n",
       "      <td>MI0000746</td>\n",
       "      <td>NaN</td>\n",
       "      <td>Homo sapiens</td>\n",
       "      <td>miRNA;miRNA target interaction;regulatory</td>\n",
       "      <td>binding;regulatory</td>\n",
       "      <td>RNA-RNA</td>\n",
       "    </tr>\n",
       "    <tr>\n",
       "      <th>483887</th>\n",
       "      <td>NONCODE</td>\n",
       "      <td>NONHSAG019270</td>\n",
       "      <td>NONHSAG019270</td>\n",
       "      <td>miRBase</td>\n",
       "      <td>MI0000746</td>\n",
       "      <td>NaN</td>\n",
       "      <td>Homo sapiens</td>\n",
       "      <td>miRNA;miRNA target interaction;regulatory</td>\n",
       "      <td>binding;regulatory</td>\n",
       "      <td>RNA-RNA</td>\n",
       "    </tr>\n",
       "    <tr>\n",
       "      <th>483888</th>\n",
       "      <td>NONCODE</td>\n",
       "      <td>NONHSAG019342</td>\n",
       "      <td>C16orf87</td>\n",
       "      <td>miRBase</td>\n",
       "      <td>MI0000746</td>\n",
       "      <td>NaN</td>\n",
       "      <td>Homo sapiens</td>\n",
       "      <td>miRNA;miRNA target interaction;regulatory</td>\n",
       "      <td>binding;regulatory</td>\n",
       "      <td>RNA-RNA</td>\n",
       "    </tr>\n",
       "    <tr>\n",
       "      <th>483889</th>\n",
       "      <td>NONCODE</td>\n",
       "      <td>NONHSAG020352</td>\n",
       "      <td>NONHSAG020352</td>\n",
       "      <td>miRBase</td>\n",
       "      <td>MI0000746</td>\n",
       "      <td>NaN</td>\n",
       "      <td>Homo sapiens</td>\n",
       "      <td>miRNA;miRNA target interaction;regulatory</td>\n",
       "      <td>binding;regulatory</td>\n",
       "      <td>RNA-RNA</td>\n",
       "    </tr>\n",
       "    <tr>\n",
       "      <th>483890</th>\n",
       "      <td>NONCODE</td>\n",
       "      <td>NONHSAG024295</td>\n",
       "      <td>NONHSAG024295</td>\n",
       "      <td>miRBase</td>\n",
       "      <td>MI0000746</td>\n",
       "      <td>NaN</td>\n",
       "      <td>Homo sapiens</td>\n",
       "      <td>miRNA;miRNA target interaction;regulatory</td>\n",
       "      <td>binding;regulatory</td>\n",
       "      <td>RNA-RNA</td>\n",
       "    </tr>\n",
       "    <tr>\n",
       "      <th>483891</th>\n",
       "      <td>NONCODE</td>\n",
       "      <td>NONHSAG024355</td>\n",
       "      <td>MUM1</td>\n",
       "      <td>miRBase</td>\n",
       "      <td>MI0000746</td>\n",
       "      <td>NaN</td>\n",
       "      <td>Homo sapiens</td>\n",
       "      <td>miRNA;miRNA target interaction;regulatory</td>\n",
       "      <td>binding;regulatory</td>\n",
       "      <td>RNA-RNA</td>\n",
       "    </tr>\n",
       "    <tr>\n",
       "      <th>483892</th>\n",
       "      <td>NONCODE</td>\n",
       "      <td>NONHSAG024421</td>\n",
       "      <td>NONHSAG024421</td>\n",
       "      <td>miRBase</td>\n",
       "      <td>MI0000746</td>\n",
       "      <td>NaN</td>\n",
       "      <td>Homo sapiens</td>\n",
       "      <td>miRNA;miRNA target interaction;regulatory</td>\n",
       "      <td>binding;regulatory</td>\n",
       "      <td>RNA-RNA</td>\n",
       "    </tr>\n",
       "    <tr>\n",
       "      <th>483893</th>\n",
       "      <td>NONCODE</td>\n",
       "      <td>NONHSAG024523</td>\n",
       "      <td>CTB-50L17.7</td>\n",
       "      <td>miRBase</td>\n",
       "      <td>MI0000746</td>\n",
       "      <td>NaN</td>\n",
       "      <td>Homo sapiens</td>\n",
       "      <td>miRNA;miRNA target interaction;regulatory</td>\n",
       "      <td>binding;regulatory</td>\n",
       "      <td>RNA-RNA</td>\n",
       "    </tr>\n",
       "    <tr>\n",
       "      <th>483894</th>\n",
       "      <td>NONCODE</td>\n",
       "      <td>NONHSAG031696</td>\n",
       "      <td>LINC00657</td>\n",
       "      <td>miRBase</td>\n",
       "      <td>MI0000746</td>\n",
       "      <td>NaN</td>\n",
       "      <td>Homo sapiens</td>\n",
       "      <td>miRNA;miRNA target interaction;regulatory</td>\n",
       "      <td>binding;regulatory</td>\n",
       "      <td>RNA-RNA</td>\n",
       "    </tr>\n",
       "    <tr>\n",
       "      <th>483895</th>\n",
       "      <td>NONCODE</td>\n",
       "      <td>NONHSAG036276</td>\n",
       "      <td>U2SURP</td>\n",
       "      <td>miRBase</td>\n",
       "      <td>MI0000746</td>\n",
       "      <td>NaN</td>\n",
       "      <td>Homo sapiens</td>\n",
       "      <td>miRNA;miRNA target interaction;regulatory</td>\n",
       "      <td>binding;regulatory</td>\n",
       "      <td>RNA-RNA</td>\n",
       "    </tr>\n",
       "    <tr>\n",
       "      <th>483896</th>\n",
       "      <td>NONCODE</td>\n",
       "      <td>NONHSAG036923</td>\n",
       "      <td>EIF4A2</td>\n",
       "      <td>miRBase</td>\n",
       "      <td>MI0000746</td>\n",
       "      <td>NaN</td>\n",
       "      <td>Homo sapiens</td>\n",
       "      <td>miRNA;miRNA target interaction;regulatory</td>\n",
       "      <td>binding;regulatory</td>\n",
       "      <td>RNA-RNA</td>\n",
       "    </tr>\n",
       "    <tr>\n",
       "      <th>483897</th>\n",
       "      <td>NONCODE</td>\n",
       "      <td>NONHSAG037344</td>\n",
       "      <td>NONHSAG037344</td>\n",
       "      <td>miRBase</td>\n",
       "      <td>MI0000746</td>\n",
       "      <td>NaN</td>\n",
       "      <td>Homo sapiens</td>\n",
       "      <td>miRNA;miRNA target interaction;regulatory</td>\n",
       "      <td>binding;regulatory</td>\n",
       "      <td>RNA-RNA</td>\n",
       "    </tr>\n",
       "    <tr>\n",
       "      <th>483898</th>\n",
       "      <td>NONCODE</td>\n",
       "      <td>NONHSAG043627</td>\n",
       "      <td>C6orf1</td>\n",
       "      <td>miRBase</td>\n",
       "      <td>MI0000746</td>\n",
       "      <td>NaN</td>\n",
       "      <td>Homo sapiens</td>\n",
       "      <td>miRNA;miRNA target interaction;regulatory</td>\n",
       "      <td>binding;regulatory</td>\n",
       "      <td>RNA-RNA</td>\n",
       "    </tr>\n",
       "    <tr>\n",
       "      <th>483899</th>\n",
       "      <td>NONCODE</td>\n",
       "      <td>NONHSAG046785</td>\n",
       "      <td>MAD1L1</td>\n",
       "      <td>miRBase</td>\n",
       "      <td>MI0000746</td>\n",
       "      <td>NaN</td>\n",
       "      <td>Homo sapiens</td>\n",
       "      <td>miRNA;miRNA target interaction;regulatory</td>\n",
       "      <td>binding;regulatory</td>\n",
       "      <td>RNA-RNA</td>\n",
       "    </tr>\n",
       "    <tr>\n",
       "      <th>483900</th>\n",
       "      <td>NONCODE</td>\n",
       "      <td>NONHSAG048962</td>\n",
       "      <td>NONHSAG048962</td>\n",
       "      <td>miRBase</td>\n",
       "      <td>MI0000746</td>\n",
       "      <td>NaN</td>\n",
       "      <td>Homo sapiens</td>\n",
       "      <td>miRNA;miRNA target interaction;regulatory</td>\n",
       "      <td>binding;regulatory</td>\n",
       "      <td>RNA-RNA</td>\n",
       "    </tr>\n",
       "    <tr>\n",
       "      <th>483901</th>\n",
       "      <td>NONCODE</td>\n",
       "      <td>NONHSAG049733</td>\n",
       "      <td>NONHSAG049733</td>\n",
       "      <td>miRBase</td>\n",
       "      <td>MI0000746</td>\n",
       "      <td>NaN</td>\n",
       "      <td>Homo sapiens</td>\n",
       "      <td>miRNA;miRNA target interaction;regulatory</td>\n",
       "      <td>binding;regulatory</td>\n",
       "      <td>RNA-RNA</td>\n",
       "    </tr>\n",
       "    <tr>\n",
       "      <th>483902</th>\n",
       "      <td>NONCODE</td>\n",
       "      <td>NONHSAG050957</td>\n",
       "      <td>NONHSAG050957</td>\n",
       "      <td>miRBase</td>\n",
       "      <td>MI0000746</td>\n",
       "      <td>NaN</td>\n",
       "      <td>Homo sapiens</td>\n",
       "      <td>miRNA;miRNA target interaction;regulatory</td>\n",
       "      <td>binding;regulatory</td>\n",
       "      <td>RNA-RNA</td>\n",
       "    </tr>\n",
       "  </tbody>\n",
       "</table>\n",
       "<p>125318 rows × 10 columns</p>\n",
       "</div>"
      ],
      "text/plain": [
       "         ncType   ncIdentifier              ncName   prType prIdentifier  \\\n",
       "5       NONCODE  NONHSAG040596                 7SK   RefSeq    NM_002467   \n",
       "6       NONCODE  NONHSAG040596                 7SK   RefSeq    NM_020469   \n",
       "44      NONCODE  NONHSAG014875                 7SL   RefSeq    NM_000636   \n",
       "51      NONCODE            NaN  ABC12-49244600F4.3  miRBase    MI0000113   \n",
       "52      NONCODE            NaN          ABHD11-AS2  miRBase    MI0000113   \n",
       "53      NONCODE  NONHSAG048195          AC000120.7  miRBase    MI0000113   \n",
       "54      NONCODE  NONHSAG048720          AC000124.1  miRBase    MI0000113   \n",
       "55      NONCODE            NaN          AC002115.6  miRBase    MI0000113   \n",
       "56      NONCODE            NaN          AC002116.5  miRBase    MI0000113   \n",
       "57      NONCODE  NONHSAG048153          AC002127.4  miRBase    MI0000113   \n",
       "58      NONCODE  NONHSAG019101         AC002310.12  miRBase    MI0000113   \n",
       "59      NONCODE            NaN          AC002467.5  miRBase    MI0000113   \n",
       "60      NONCODE  NONHSAG047088          AC002480.2  miRBase    MI0000113   \n",
       "61      NONCODE  NONHSAG022057          AC003665.1  miRBase    MI0000113   \n",
       "62      NONCODE  NONHSAG038559          AC004069.2  miRBase    MI0000113   \n",
       "63      NONCODE  NONHSAG019921          AC004158.2  miRBase    MI0000113   \n",
       "64      NONCODE  NONHSAG033266          AC004463.6  miRBase    MI0000113   \n",
       "65      NONCODE            NaN          AC004790.2  miRBase    MI0000113   \n",
       "66      NONCODE  NONHSAG048302         AC004893.11  miRBase    MI0000113   \n",
       "67      NONCODE  NONHSAG047465          AC004951.6  miRBase    MI0000113   \n",
       "68      NONCODE  NONHSAG047425          AC004988.1  miRBase    MI0000113   \n",
       "69      NONCODE  NONHSAG047260          AC005154.5  miRBase    MI0000113   \n",
       "70      NONCODE  NONHSAG020883          AC005224.2  miRBase    MI0000113   \n",
       "71      NONCODE            NaN          AC005332.1  miRBase    MI0000113   \n",
       "72      NONCODE  NONHSAG041581          AC005355.2  miRBase    MI0000113   \n",
       "73      NONCODE  NONHSAG015454          AC005519.4  miRBase    MI0000113   \n",
       "74      NONCODE  NONHSAG049274          AC005534.9  miRBase    MI0000113   \n",
       "75      NONCODE  NONHSAG030105          AC005540.3  miRBase    MI0000113   \n",
       "77      NONCODE  NONHSAG041804          AC005592.3  miRBase    MI0000113   \n",
       "78      NONCODE  NONHSAG047097          AC005682.5  miRBase    MI0000113   \n",
       "...         ...            ...                 ...      ...          ...   \n",
       "483873  NONCODE  NONHSAG048962       NONHSAG048962  miRBase    MI0000101   \n",
       "483874  NONCODE  NONHSAG049733       NONHSAG049733  miRBase    MI0000101   \n",
       "483875  NONCODE  NONHSAG050957       NONHSAG050957  miRBase    MI0000101   \n",
       "483876  NONCODE  NONHSAG000090              CPSF3L  miRBase    MI0000746   \n",
       "483877  NONCODE  NONHSAG002080                MTF2  miRBase    MI0000746   \n",
       "483878  NONCODE  NONHSAG007409                 H19  miRBase    MI0000746   \n",
       "483879  NONCODE  NONHSAG007695           LINC00958  miRBase    MI0000746   \n",
       "483880  NONCODE  NONHSAG008858              PPP6R3  miRBase    MI0000746   \n",
       "483881  NONCODE  NONHSAG011246       RP11-793H13.3  miRBase    MI0000746   \n",
       "483882  NONCODE  NONHSAG012814                POLE  miRBase    MI0000746   \n",
       "483883  NONCODE  NONHSAG014678               BAZ1A  miRBase    MI0000746   \n",
       "483884  NONCODE  NONHSAG018338              AMDHD2  miRBase    MI0000746   \n",
       "483885  NONCODE  NONHSAG018864               EEF2K  miRBase    MI0000746   \n",
       "483886  NONCODE  NONHSAG019119       NONHSAG019119  miRBase    MI0000746   \n",
       "483887  NONCODE  NONHSAG019270       NONHSAG019270  miRBase    MI0000746   \n",
       "483888  NONCODE  NONHSAG019342            C16orf87  miRBase    MI0000746   \n",
       "483889  NONCODE  NONHSAG020352       NONHSAG020352  miRBase    MI0000746   \n",
       "483890  NONCODE  NONHSAG024295       NONHSAG024295  miRBase    MI0000746   \n",
       "483891  NONCODE  NONHSAG024355                MUM1  miRBase    MI0000746   \n",
       "483892  NONCODE  NONHSAG024421       NONHSAG024421  miRBase    MI0000746   \n",
       "483893  NONCODE  NONHSAG024523         CTB-50L17.7  miRBase    MI0000746   \n",
       "483894  NONCODE  NONHSAG031696           LINC00657  miRBase    MI0000746   \n",
       "483895  NONCODE  NONHSAG036276              U2SURP  miRBase    MI0000746   \n",
       "483896  NONCODE  NONHSAG036923              EIF4A2  miRBase    MI0000746   \n",
       "483897  NONCODE  NONHSAG037344       NONHSAG037344  miRBase    MI0000746   \n",
       "483898  NONCODE  NONHSAG043627              C6orf1  miRBase    MI0000746   \n",
       "483899  NONCODE  NONHSAG046785              MAD1L1  miRBase    MI0000746   \n",
       "483900  NONCODE  NONHSAG048962       NONHSAG048962  miRBase    MI0000746   \n",
       "483901  NONCODE  NONHSAG049733       NONHSAG049733  miRBase    MI0000746   \n",
       "483902  NONCODE  NONHSAG050957       NONHSAG050957  miRBase    MI0000746   \n",
       "\n",
       "        PubMedID      organism                                           tag  \\\n",
       "5        9018369  Homo sapiens            regulatory;promoter as action site   \n",
       "6       22522162  Homo sapiens                                    regulatory   \n",
       "44      20951849  Homo sapiens                 ncRNA targets mRNA;regulatory   \n",
       "51      25531890  Homo sapiens  miRNA target interaction;RNA-RNA interaction   \n",
       "52      25531890  Homo sapiens  miRNA target interaction;RNA-RNA interaction   \n",
       "53      25531890  Homo sapiens  miRNA target interaction;RNA-RNA interaction   \n",
       "54      25531890  Homo sapiens  miRNA target interaction;RNA-RNA interaction   \n",
       "55      25531890  Homo sapiens  miRNA target interaction;RNA-RNA interaction   \n",
       "56      25531890  Homo sapiens  miRNA target interaction;RNA-RNA interaction   \n",
       "57      25531890  Homo sapiens  miRNA target interaction;RNA-RNA interaction   \n",
       "58      25531890  Homo sapiens  miRNA target interaction;RNA-RNA interaction   \n",
       "59      25531890  Homo sapiens  miRNA target interaction;RNA-RNA interaction   \n",
       "60      25531890  Homo sapiens  miRNA target interaction;RNA-RNA interaction   \n",
       "61      25531890  Homo sapiens  miRNA target interaction;RNA-RNA interaction   \n",
       "62      25531890  Homo sapiens  miRNA target interaction;RNA-RNA interaction   \n",
       "63      25531890  Homo sapiens  miRNA target interaction;RNA-RNA interaction   \n",
       "64      25531890  Homo sapiens  miRNA target interaction;RNA-RNA interaction   \n",
       "65      25531890  Homo sapiens  miRNA target interaction;RNA-RNA interaction   \n",
       "66      25531890  Homo sapiens  miRNA target interaction;RNA-RNA interaction   \n",
       "67      25531890  Homo sapiens  miRNA target interaction;RNA-RNA interaction   \n",
       "68      25531890  Homo sapiens  miRNA target interaction;RNA-RNA interaction   \n",
       "69      25531890  Homo sapiens  miRNA target interaction;RNA-RNA interaction   \n",
       "70      25531890  Homo sapiens  miRNA target interaction;RNA-RNA interaction   \n",
       "71      25531890  Homo sapiens  miRNA target interaction;RNA-RNA interaction   \n",
       "72      25531890  Homo sapiens  miRNA target interaction;RNA-RNA interaction   \n",
       "73      25531890  Homo sapiens  miRNA target interaction;RNA-RNA interaction   \n",
       "74      25531890  Homo sapiens  miRNA target interaction;RNA-RNA interaction   \n",
       "75      25531890  Homo sapiens  miRNA target interaction;RNA-RNA interaction   \n",
       "77      25531890  Homo sapiens  miRNA target interaction;RNA-RNA interaction   \n",
       "78      25531890  Homo sapiens  miRNA target interaction;RNA-RNA interaction   \n",
       "...          ...           ...                                           ...   \n",
       "483873       NaN  Homo sapiens     miRNA;miRNA target interaction;regulatory   \n",
       "483874       NaN  Homo sapiens     miRNA;miRNA target interaction;regulatory   \n",
       "483875       NaN  Homo sapiens     miRNA;miRNA target interaction;regulatory   \n",
       "483876       NaN  Homo sapiens     miRNA;miRNA target interaction;regulatory   \n",
       "483877       NaN  Homo sapiens     miRNA;miRNA target interaction;regulatory   \n",
       "483878       NaN  Homo sapiens     miRNA;miRNA target interaction;regulatory   \n",
       "483879       NaN  Homo sapiens     miRNA;miRNA target interaction;regulatory   \n",
       "483880       NaN  Homo sapiens     miRNA;miRNA target interaction;regulatory   \n",
       "483881       NaN  Homo sapiens     miRNA;miRNA target interaction;regulatory   \n",
       "483882       NaN  Homo sapiens     miRNA;miRNA target interaction;regulatory   \n",
       "483883       NaN  Homo sapiens     miRNA;miRNA target interaction;regulatory   \n",
       "483884       NaN  Homo sapiens     miRNA;miRNA target interaction;regulatory   \n",
       "483885       NaN  Homo sapiens     miRNA;miRNA target interaction;regulatory   \n",
       "483886       NaN  Homo sapiens     miRNA;miRNA target interaction;regulatory   \n",
       "483887       NaN  Homo sapiens     miRNA;miRNA target interaction;regulatory   \n",
       "483888       NaN  Homo sapiens     miRNA;miRNA target interaction;regulatory   \n",
       "483889       NaN  Homo sapiens     miRNA;miRNA target interaction;regulatory   \n",
       "483890       NaN  Homo sapiens     miRNA;miRNA target interaction;regulatory   \n",
       "483891       NaN  Homo sapiens     miRNA;miRNA target interaction;regulatory   \n",
       "483892       NaN  Homo sapiens     miRNA;miRNA target interaction;regulatory   \n",
       "483893       NaN  Homo sapiens     miRNA;miRNA target interaction;regulatory   \n",
       "483894       NaN  Homo sapiens     miRNA;miRNA target interaction;regulatory   \n",
       "483895       NaN  Homo sapiens     miRNA;miRNA target interaction;regulatory   \n",
       "483896       NaN  Homo sapiens     miRNA;miRNA target interaction;regulatory   \n",
       "483897       NaN  Homo sapiens     miRNA;miRNA target interaction;regulatory   \n",
       "483898       NaN  Homo sapiens     miRNA;miRNA target interaction;regulatory   \n",
       "483899       NaN  Homo sapiens     miRNA;miRNA target interaction;regulatory   \n",
       "483900       NaN  Homo sapiens     miRNA;miRNA target interaction;regulatory   \n",
       "483901       NaN  Homo sapiens     miRNA;miRNA target interaction;regulatory   \n",
       "483902       NaN  Homo sapiens     miRNA;miRNA target interaction;regulatory   \n",
       "\n",
       "                interClass interLevel  \n",
       "5               regulatory    RNA-RNA  \n",
       "6               regulatory    RNA-RNA  \n",
       "44              regulatory    RNA-RNA  \n",
       "51                 binding    RNA-RNA  \n",
       "52                 binding    RNA-RNA  \n",
       "53                 binding    RNA-RNA  \n",
       "54                 binding    RNA-RNA  \n",
       "55                 binding    RNA-RNA  \n",
       "56                 binding    RNA-RNA  \n",
       "57                 binding    RNA-RNA  \n",
       "58                 binding    RNA-RNA  \n",
       "59                 binding    RNA-RNA  \n",
       "60                 binding    RNA-RNA  \n",
       "61                 binding    RNA-RNA  \n",
       "62                 binding    RNA-RNA  \n",
       "63                 binding    RNA-RNA  \n",
       "64                 binding    RNA-RNA  \n",
       "65                 binding    RNA-RNA  \n",
       "66                 binding    RNA-RNA  \n",
       "67                 binding    RNA-RNA  \n",
       "68                 binding    RNA-RNA  \n",
       "69                 binding    RNA-RNA  \n",
       "70                 binding    RNA-RNA  \n",
       "71                 binding    RNA-RNA  \n",
       "72                 binding    RNA-RNA  \n",
       "73                 binding    RNA-RNA  \n",
       "74                 binding    RNA-RNA  \n",
       "75                 binding    RNA-RNA  \n",
       "77                 binding    RNA-RNA  \n",
       "78                 binding    RNA-RNA  \n",
       "...                    ...        ...  \n",
       "483873  binding;regulatory    RNA-RNA  \n",
       "483874  binding;regulatory    RNA-RNA  \n",
       "483875  binding;regulatory    RNA-RNA  \n",
       "483876  binding;regulatory    RNA-RNA  \n",
       "483877  binding;regulatory    RNA-RNA  \n",
       "483878  binding;regulatory    RNA-RNA  \n",
       "483879  binding;regulatory    RNA-RNA  \n",
       "483880  binding;regulatory    RNA-RNA  \n",
       "483881  binding;regulatory    RNA-RNA  \n",
       "483882  binding;regulatory    RNA-RNA  \n",
       "483883  binding;regulatory    RNA-RNA  \n",
       "483884  binding;regulatory    RNA-RNA  \n",
       "483885  binding;regulatory    RNA-RNA  \n",
       "483886  binding;regulatory    RNA-RNA  \n",
       "483887  binding;regulatory    RNA-RNA  \n",
       "483888  binding;regulatory    RNA-RNA  \n",
       "483889  binding;regulatory    RNA-RNA  \n",
       "483890  binding;regulatory    RNA-RNA  \n",
       "483891  binding;regulatory    RNA-RNA  \n",
       "483892  binding;regulatory    RNA-RNA  \n",
       "483893  binding;regulatory    RNA-RNA  \n",
       "483894  binding;regulatory    RNA-RNA  \n",
       "483895  binding;regulatory    RNA-RNA  \n",
       "483896  binding;regulatory    RNA-RNA  \n",
       "483897  binding;regulatory    RNA-RNA  \n",
       "483898  binding;regulatory    RNA-RNA  \n",
       "483899  binding;regulatory    RNA-RNA  \n",
       "483900  binding;regulatory    RNA-RNA  \n",
       "483901  binding;regulatory    RNA-RNA  \n",
       "483902  binding;regulatory    RNA-RNA  \n",
       "\n",
       "[125318 rows x 10 columns]"
      ]
     },
     "execution_count": 19,
     "metadata": {},
     "output_type": "execute_result"
    }
   ],
   "source": [
    "table = pd.read_table(\"/home/jonny/PycharmProjects/Bioinformatics_ExternalData/NPInter/interaction_NPInter[v3.0].txt\", \n",
    "                     usecols=[\"ncType\", \"ncIdentifier\", \"ncName\", \"prType\", \"prIdentifier\", \"PubMedID\", \"organism\", \"tag\", \"interClass\", \"interLevel\"])\n",
    "table = table[table[\"organism\"] == \"Homo sapiens\"]\n",
    "table = table[table[\"interLevel\"] == \"RNA-RNA\"]\n",
    "table"
   ]
  },
  {
   "cell_type": "code",
   "execution_count": 22,
   "metadata": {},
   "outputs": [
    {
     "data": {
      "text/plain": [
       "miRNA;miRNA target interaction;regulatory                                                                                                                                                       121182\n",
       "miRNA target interaction;RNA-RNA interaction                                                                                                                                                      3790\n",
       "RNA-RNA interaction                                                                                                                                                                                110\n",
       "expression correlation;regulatory                                                                                                                                                                   56\n",
       "expression correlation                                                                                                                                                                              29\n",
       "regulatory                                                                                                                                                                                          16\n",
       "expression correlation;ncRNA-protein binding                                                                                                                                                        15\n",
       "expression correlation;miRNA;miRNA target interaction;ncRNA affects synthesis or function of protein;ncRNA targets mRNA;regulatory;RNA-RNA interaction                                              13\n",
       "miRNA;RNA-RNA interaction                                                                                                                                                                            9\n",
       "expression correlation;genetic interaction;miRNA;ncRNA affects synthesis or function of protein;regulatory                                                                                           8\n",
       "ncRNA targets mRNA;regulatory                                                                                                                                                                        8\n",
       "expression correlation;genetic interaction;indirect;ncRNA affects synthesis or function of protein;ncRNA is regulated;expression, or processing, or function of ncRNA is affected;regulatory         6\n",
       "expression correlation;genetic interaction;miRNA;miRNA target interaction;ncRNA affects synthesis or function of protein;ncRNA targets mRNA;RNA-RNA interaction                                      5\n",
       "expression correlation;miRNA;miRNA target interaction;ncRNA targets mRNA;RNA-RNA interaction                                                                                                         5\n",
       "ncRNA is regulated                                                                                                                                                                                   5\n",
       "ncRNA-protein binding                                                                                                                                                                                4\n",
       "expression correlation;ncRNA-protein binding;ncRNA targets mRNA;regulatory;RNA-RNA interaction                                                                                                       4\n",
       "expression correlation;miRNA target interaction                                                                                                                                                      4\n",
       "expression correlation;miRNA target interaction;ncRNA targets mRNA                                                                                                                                   3\n",
       "expression correlation;genetic interaction;miRNA;expression, or processing, or function of ncRNA is affected;regulatory;RNA-RNA interaction                                                          3\n",
       "miRNA;miRNA target interaction;RNA-RNA interaction                                                                                                                                                   3\n",
       "genetic interaction;indirect;ncRNA affects synthesis or function of protein;regulatory                                                                                                               3\n",
       "expression correlation;miRNA;miRNA target interaction;RNA-RNA interaction                                                                                                                            2\n",
       "expression correlation;genetic interaction;ncRNA is regulated;ncRNA-protein binding;expression, or processing, or function of ncRNA is affected                                                      2\n",
       "genetic interaction                                                                                                                                                                                  2\n",
       "ncRNA affects synthesis or function of protein;ncRNA-protein binding                                                                                                                                 2\n",
       "miRNA;promoter as action site;regulatory                                                                                                                                                             2\n",
       "expression correlation;genetic interaction;miRNA;miRNA target interaction;ncRNA affects synthesis or function of protein;ncRNA-protein binding;regulatory                                            2\n",
       "expression correlation;RNA-RNA interaction                                                                                                                                                           2\n",
       "expression correlation;genetic interaction;promoter as action site                                                                                                                                   2\n",
       "regulatory;promoter as action site                                                                                                                                                                   1\n",
       "expression correlation;ncRNA-protein binding;regulatory                                                                                                                                              1\n",
       "expression correlation;miRNA target interaction;ncRNA-protein binding                                                                                                                                1\n",
       "genetic interaction;ncRNA affects synthesis or function of protein;other linkages                                                                                                                    1\n",
       "expression correlation;miRNA target interaction;ncRNA-protein binding;regulatory                                                                                                                     1\n",
       "ncRNA-protein binding;expression, or processing, or function of ncRNA is affected                                                                                                                    1\n",
       "ncRNA targets mRNA;regulatory;RNA-RNA interaction                                                                                                                                                    1\n",
       "ncRNA is regulated;ncRNA-protein binding;expression, or processing, or function of ncRNA is affected                                                                                                 1\n",
       "genomic location related                                                                                                                                                                             1\n",
       "expression correlation;miRNA target interaction;ncRNA affects synthesis or function of protein;ncRNA targets mRNA;RNA-RNA interaction                                                                1\n",
       "expression correlation;genetic interaction;miRNA;miRNA target interaction;ncRNA targets mRNA;RNA-RNA interaction                                                                                     1\n",
       "expression correlation;miRNA target interaction;ncRNA affects synthesis or function of protein;ncRNA-protein binding                                                                                 1\n",
       "miRNA target interaction                                                                                                                                                                             1\n",
       "expression correlation;genetic interaction;genomic location related;indirect;ncRNA affects synthesis or function of protein;regulatory                                                               1\n",
       "expression correlation;promoter as action site;RNA-RNA interaction                                                                                                                                   1\n",
       "expression correlation;indirect                                                                                                                                                                      1\n",
       "expression correlation;genetic interaction;indirect;miRNA;ncRNA affects synthesis or function of protein;regulatory                                                                                  1\n",
       "expression correlation;indirect;regulatory                                                                                                                                                           1\n",
       "expression correlation;genetic interaction;indirect;ncRNA is regulated;expression, or processing, or function of ncRNA is affected;regulatory                                                        1\n",
       "ncRNA is regulated;ncRNA-protein binding;ncRNA targets mRNA                                                                                                                                          1\n",
       "expression correlation;ncRNA is regulated;promoter as action site                                                                                                                                    1\n",
       "Name: tag, dtype: int64"
      ]
     },
     "execution_count": 22,
     "metadata": {},
     "output_type": "execute_result"
    }
   ],
   "source": [
    "table[\"tag\"].value_counts()"
   ]
  },
  {
   "cell_type": "code",
   "execution_count": null,
   "metadata": {},
   "outputs": [],
   "source": []
  },
  {
   "cell_type": "code",
   "execution_count": 2,
   "metadata": {},
   "outputs": [
    {
     "name": "stderr",
     "output_type": "stream",
     "text": [
      "/home/jonny/.conda/envs/jonny_conda3/lib/python3.6/site-packages/pandas/core/frame.py:3781: SettingWithCopyWarning: \n",
      "A value is trying to be set on a copy of a slice from a DataFrame\n",
      "\n",
      "See the caveats in the documentation: http://pandas.pydata.org/pandas-docs/stable/indexing.html#indexing-view-versus-copy\n",
      "  return super(DataFrame, self).rename(**kwargs)\n",
      "/home/jonny/.conda/envs/jonny_conda3/lib/python3.6/site-packages/TCGAMultiOmics/genomic.py:78: RuntimeWarning: invalid value encountered in log2\n",
      "  return np.log2(x + 1)\n"
     ]
    },
    {
     "name": "stdout",
     "output_type": "stream",
     "text": [
      "PATIENTS (522, 110)\n",
      "DRUGS (461, 4)\n",
      "GE (576, 20284)\n",
      "MIR (494, 1870)\n",
      "LNC (546, 12727)\n",
      "PRO (364, 154)\n",
      "SAMPLES (601, 111)\n",
      "Processed genes info for  GE\n",
      "Processed genes info for  MIR\n"
     ]
    },
    {
     "name": "stderr",
     "output_type": "stream",
     "text": [
      "/home/jonny/.conda/envs/jonny_conda3/lib/python3.6/site-packages/TCGAMultiOmics/genomic.py:661: FutureWarning: 'MiRBase ID' is both an index level and a column label.\n",
      "Defaulting to column, but this will raise an ambiguity error in a future version\n",
      "  self.gene_info = self.gene_info.join(self.targetScan_family_df.groupby(\"MiRBase ID\").first(), on=\"MiRBase ID\",how=\"left\")\n",
      "/home/jonny/.conda/envs/jonny_conda3/lib/python3.6/site-packages/TCGAMultiOmics/genomic.py:336: FutureWarning: 'symbol' is both an index level and a column label.\n",
      "Defaulting to column, but this will raise an ambiguity error in a future version\n",
      "  self.gene_info = self.gene_info.join(self.HGNC_lncrna_info.groupby(\"symbol\").first(), on=\"symbol\",\n",
      "/home/jonny/.conda/envs/jonny_conda3/lib/python3.6/site-packages/pandas/core/frame.py:6336: FutureWarning: 'Gene Name' is both an index level and a column label.\n",
      "Defaulting to column, but this will raise an ambiguity error in a future version\n",
      "  rsuffix=rsuffix, sort=sort)\n"
     ]
    },
    {
     "name": "stdout",
     "output_type": "stream",
     "text": [
      "Processed genes info for  LNC\n"
     ]
    }
   ],
   "source": [
    "folder_path = \"/home/jonny/PycharmProjects/Bioinformatics_ExternalData/tcga-assembler/LUAD/\"\n",
    "external_data_path = \"/home/jonny/PycharmProjects/Bioinformatics_ExternalData/\"\n",
    "luad_data = MultiOmicsData(cancer_type=\"LUAD\", tcga_data_path=folder_path, external_data_path=external_data_path,\n",
    "                           modalities=[\\\n",
    "                                       \"GE\",\n",
    "                                       \"MIR\",\n",
    "                                       \"LNC\",\n",
    "                                       # \"CNV\",\n",
    "                                       # \"SNP\",\n",
    "                                       \"PRO\",\n",
    "                                       # \"DNA\"\n",
    "                                       ])"
   ]
  },
  {
   "cell_type": "markdown",
   "metadata": {},
   "source": [
    "# Heterogeneous Network"
   ]
  },
  {
   "cell_type": "code",
   "execution_count": 3,
   "metadata": {},
   "outputs": [],
   "source": [
    "import pickle\n",
    "with open('moge/data/mirtarbase_lnc-mi/lmn_n08_m08_l08_corr_weighted_full.pickle', 'rb') as file:\n",
    "    network = pickle.load(file)"
   ]
  },
  {
   "cell_type": "code",
   "execution_count": 3,
   "metadata": {},
   "outputs": [
    {
     "name": "stdout",
     "output_type": "stream",
     "text": [
      "MIR  nodes: 1870\n",
      "GE  nodes: 20284\n",
      "LNC  nodes: 12725\n",
      "Total nodes: 34879\n"
     ]
    }
   ],
   "source": [
    "from moge.network.heterogeneous_network import HeterogeneousNetwork\n",
    "\n",
    "network = HeterogeneousNetwork(modalities=[\"MIR\", \"GE\", \"LNC\"], multi_omics_data=luad_data)"
   ]
  },
  {
   "cell_type": "markdown",
   "metadata": {},
   "source": [
    "## Write node labels to file"
   ]
  },
  {
   "cell_type": "code",
   "execution_count": 7,
   "metadata": {},
   "outputs": [],
   "source": [
    "# READ Edgeslist\n",
    "network.import_edgelist_file(file=\"lncRNA-miRNA-mRNA_new-08-14.edgelist\", \n",
    "                             is_directed=True)"
   ]
  },
  {
   "cell_type": "code",
   "execution_count": 16,
   "metadata": {},
   "outputs": [],
   "source": [
    "# WRITE Edgelist\n",
    "nx.write_edgelist(network_train.get_subgraph([\"MIR\", \"GE\", \"LNC\"]), \n",
    "                  \"moge/data/lncRNA_miRNA_mRNA/lmn_network_filtered_directed.edgelist\", \n",
    "                  data=False)"
   ]
  },
  {
   "cell_type": "code",
   "execution_count": 4,
   "metadata": {
    "scrolled": true
   },
   "outputs": [],
   "source": [
    "from moge.network.file_io import write_node_labels_to_file\n",
    "\n",
    "# write_node_labels_to_file(\"moge/data/lncRNA_miRNA_mRNA/lncRNA-miRNA-mRNA_node_labels_family.tsv\", luad_data, \n",
    "#                           label_cols=[\"family\"],\n",
    "#                           modalities=[\"MIR\", \"GE\", \"LNC\"], \n",
    "#                           get_dummies=False)\n",
    "\n",
    "# write_node_labels_to_file(\"moge/data/lncRNA_miRNA_mRNA/lncRNA-miRNA-mRNA_node_labels_disease_dummies.tsv\", luad_data, \n",
    "#                           label_cols=[\"Disease association\"],\n",
    "#                           modalities=[\"MIR\", \"GE\", \"LNC\"], remove_na=True, sep=\"\\t\",\n",
    "#                           get_dummies=True)"
   ]
  },
  {
   "cell_type": "markdown",
   "metadata": {},
   "source": [
    "# Add Attribute Affinity Positive Edges"
   ]
  },
  {
   "cell_type": "code",
   "execution_count": 4,
   "metadata": {},
   "outputs": [
    {
     "name": "stdout",
     "output_type": "stream",
     "text": [
      "Gower's dissimilarity: Computing locus_type , dtype: object , shape: (20284,)\n",
      "Dice distance\n"
     ]
    },
    {
     "name": "stderr",
     "output_type": "stream",
     "text": [
      "/home/jonny/.conda/envs/jonny_conda3/lib/python3.6/site-packages/sklearn/utils/validation.py:590: DataConversionWarning: Data with input dtype int64 was converted to bool by check_pairwise_arrays.\n",
      "  warnings.warn(msg, DataConversionWarning)\n"
     ]
    },
    {
     "name": "stdout",
     "output_type": "stream",
     "text": [
      "Gower's dissimilarity: Computing gene_family_id , dtype: object , shape: (20284,)\n",
      "Dice distance\n"
     ]
    },
    {
     "name": "stderr",
     "output_type": "stream",
     "text": [
      "/home/jonny/.conda/envs/jonny_conda3/lib/python3.6/site-packages/sklearn/utils/validation.py:590: DataConversionWarning: Data with input dtype int64 was converted to bool by check_pairwise_arrays.\n",
      "  warnings.warn(msg, DataConversionWarning)\n"
     ]
    },
    {
     "name": "stdout",
     "output_type": "stream",
     "text": [
      "Gower's dissimilarity: Computing location , dtype: object , shape: (20284,)\n",
      "Location split to Chromosome, arm, region\n",
      "Gower's dissimilarity: Computing Chromosome , dtype: object , shape: (20284,)\n",
      "Dice distance\n"
     ]
    },
    {
     "name": "stderr",
     "output_type": "stream",
     "text": [
      "/home/jonny/.conda/envs/jonny_conda3/lib/python3.6/site-packages/sklearn/utils/validation.py:590: DataConversionWarning: Data with input dtype uint8 was converted to bool by check_pairwise_arrays.\n",
      "  warnings.warn(msg, DataConversionWarning)\n"
     ]
    },
    {
     "name": "stdout",
     "output_type": "stream",
     "text": [
      "Gower's dissimilarity: Computing arm , dtype: object , shape: (20284,)\n",
      "Dice distance\n"
     ]
    },
    {
     "name": "stderr",
     "output_type": "stream",
     "text": [
      "/home/jonny/.conda/envs/jonny_conda3/lib/python3.6/site-packages/sklearn/utils/validation.py:590: DataConversionWarning: Data with input dtype uint8 was converted to bool by check_pairwise_arrays.\n",
      "  warnings.warn(msg, DataConversionWarning)\n"
     ]
    },
    {
     "name": "stdout",
     "output_type": "stream",
     "text": [
      "Gower's dissimilarity: Computing region , dtype: object , shape: (20284,)\n",
      "Dice distance\n"
     ]
    },
    {
     "name": "stderr",
     "output_type": "stream",
     "text": [
      "/home/jonny/.conda/envs/jonny_conda3/lib/python3.6/site-packages/sklearn/utils/validation.py:590: DataConversionWarning: Data with input dtype uint8 was converted to bool by check_pairwise_arrays.\n",
      "  warnings.warn(msg, DataConversionWarning)\n",
      "/home/jonny/PycharmProjects/MultiOmicsGraphEmbedding/moge/network/omics_distance.py:155: RuntimeWarning: invalid value encountered in greater_equal\n",
      "  X[i][np.where(X[i-1] >= X[i])] = X[i-1][np.where(X[i-1] >= X[i])] # the distance of child feature is only as great as distance of parent features\n",
      "/home/jonny/PycharmProjects/MultiOmicsGraphEmbedding/moge/network/omics_distance.py:157: RuntimeWarning: Mean of empty slice\n",
      "  return np.nanmean(X, axis=0)\n",
      "/home/jonny/PycharmProjects/MultiOmicsGraphEmbedding/moge/network/omics_distance.py:144: RuntimeWarning: Mean of empty slice\n",
      "  agg_func = lambda x: np.nanmean(x, axis=0)\n"
     ]
    },
    {
     "name": "stdout",
     "output_type": "stream",
     "text": [
      "124062 undirected positive edges (type='u') added.\n",
      "620310 undirected negative edges (type='u_n') added.\n"
     ]
    }
   ],
   "source": [
    "network.add_edges_from_nodes_similarity(modality=\"GE\", node_list=network.nodes[\"GE\"], \n",
    "                                        similarity_threshold=0.85, dissimilarity_threshold=0.01,\n",
    "                                        negative_sampling_ratio=5.0,\n",
    "                                        features=[\"locus_type\", \"gene_family_id\", \"location\"], \n",
    "                                        compute_correlation=False)"
   ]
  },
  {
   "cell_type": "code",
   "execution_count": 7,
   "metadata": {
    "collapsed": true
   },
   "outputs": [
    {
     "data": {
      "image/png": "[encoded data removed]",
      "text/plain": [
       "<Figure size 720x720 with 2 Axes>"
      ]
     },
     "metadata": {
      "needs_background": "light"
     },
     "output_type": "display_data"
    }
   ],
   "source": [
    "matrix_heatmap(network.get_adjacency_matrix(edge_types=[\"u_n\"], node_list=network.nodes[\"GE\"]).todense(),\n",
    "              figsize=(10,10))"
   ]
  },
  {
   "cell_type": "code",
   "execution_count": 5,
   "metadata": {},
   "outputs": [
    {
     "name": "stdout",
     "output_type": "stream",
     "text": [
      "Gower's dissimilarity: Computing miR family , dtype: object , shape: (1870,)\n",
      "Dice distance\n"
     ]
    },
    {
     "name": "stderr",
     "output_type": "stream",
     "text": [
      "/home/jonny/.conda/envs/jonny_conda3/lib/python3.6/site-packages/sklearn/utils/validation.py:590: DataConversionWarning: Data with input dtype int64 was converted to bool by check_pairwise_arrays.\n",
      "  warnings.warn(msg, DataConversionWarning)\n"
     ]
    },
    {
     "name": "stdout",
     "output_type": "stream",
     "text": [
      "506 undirected positive edges (type='u') added.\n",
      "2530 undirected negative edges (type='u_n') added.\n"
     ]
    },
    {
     "name": "stderr",
     "output_type": "stream",
     "text": [
      "/home/jonny/PycharmProjects/MultiOmicsGraphEmbedding/moge/network/omics_distance.py:144: RuntimeWarning: Mean of empty slice\n",
      "  agg_func = lambda x: np.nanmean(x, axis=0)\n"
     ]
    }
   ],
   "source": [
    "network.add_edges_from_nodes_similarity(modality=\"MIR\", node_list=network.nodes[\"MIR\"], \n",
    "                                        similarity_threshold=0.80, dissimilarity_threshold=0.01,\n",
    "                                        negative_sampling_ratio=5.0,\n",
    "                                        features=[\"miR family\"], \n",
    "                                        compute_correlation=False)"
   ]
  },
  {
   "cell_type": "code",
   "execution_count": 9,
   "metadata": {
    "collapsed": true
   },
   "outputs": [
    {
     "data": {
      "image/png": "[encoded data removed]",
      "text/plain": [
       "<Figure size 720x720 with 2 Axes>"
      ]
     },
     "metadata": {
      "needs_background": "light"
     },
     "output_type": "display_data"
    }
   ],
   "source": [
    "matrix_heatmap(network.get_adjacency_matrix(edge_types=[\"u\"], node_list=network.nodes[\"MIR\"]).todense(),\n",
    "              figsize=(10,10))"
   ]
  },
  {
   "cell_type": "code",
   "execution_count": 6,
   "metadata": {},
   "outputs": [
    {
     "name": "stderr",
     "output_type": "stream",
     "text": [
      "/home/jonny/.conda/envs/jonny_conda3/lib/python3.6/site-packages/sklearn/utils/validation.py:590: DataConversionWarning: Data with input dtype uint8 was converted to bool by check_pairwise_arrays.\n",
      "  warnings.warn(msg, DataConversionWarning)\n"
     ]
    },
    {
     "name": "stdout",
     "output_type": "stream",
     "text": [
      "Gower's dissimilarity: Computing Transcript Type , dtype: object , shape: (12725,)\n",
      "Dice distance\n",
      "Gower's dissimilarity: Computing Strand , dtype: object , shape: (12725,)\n",
      "Dice distance\n"
     ]
    },
    {
     "name": "stderr",
     "output_type": "stream",
     "text": [
      "/home/jonny/.conda/envs/jonny_conda3/lib/python3.6/site-packages/sklearn/utils/validation.py:590: DataConversionWarning: Data with input dtype uint8 was converted to bool by check_pairwise_arrays.\n",
      "  warnings.warn(msg, DataConversionWarning)\n"
     ]
    },
    {
     "name": "stdout",
     "output_type": "stream",
     "text": [
      "Gower's dissimilarity: Computing Location , dtype: object , shape: (12725,)\n",
      "Location split to Chromosome, start, end\n",
      "Gower's dissimilarity: Computing Chromosome , dtype: object , shape: (12725,)\n",
      "Dice distance\n"
     ]
    },
    {
     "name": "stderr",
     "output_type": "stream",
     "text": [
      "/home/jonny/.conda/envs/jonny_conda3/lib/python3.6/site-packages/sklearn/utils/validation.py:590: DataConversionWarning: Data with input dtype uint8 was converted to bool by check_pairwise_arrays.\n",
      "  warnings.warn(msg, DataConversionWarning)\n"
     ]
    },
    {
     "name": "stdout",
     "output_type": "stream",
     "text": [
      "Gower's dissimilarity: Computing start , dtype: float64 , shape: (12725,)\n",
      "Euclidean distance (normalized ptp)\n"
     ]
    },
    {
     "name": "stderr",
     "output_type": "stream",
     "text": [
      "/home/jonny/PycharmProjects/MultiOmicsGraphEmbedding/moge/network/omics_distance.py:155: RuntimeWarning: invalid value encountered in greater_equal\n",
      "  X[i][np.where(X[i-1] >= X[i])] = X[i-1][np.where(X[i-1] >= X[i])] # the distance of child feature is only as great as distance of parent features\n",
      "/home/jonny/PycharmProjects/MultiOmicsGraphEmbedding/moge/network/omics_distance.py:157: RuntimeWarning: Mean of empty slice\n",
      "  return np.nanmean(X, axis=0)\n",
      "/home/jonny/PycharmProjects/MultiOmicsGraphEmbedding/moge/network/omics_distance.py:144: RuntimeWarning: Mean of empty slice\n",
      "  agg_func = lambda x: np.nanmean(x, axis=0)\n"
     ]
    },
    {
     "name": "stdout",
     "output_type": "stream",
     "text": [
      "396972 undirected positive edges (type='u') added.\n",
      "793944 undirected negative edges (type='u_n') added.\n"
     ]
    }
   ],
   "source": [
    "network.add_edges_from_nodes_similarity(modality=\"LNC\", node_list=network.nodes[\"LNC\"], \n",
    "                                        similarity_threshold=0.85, dissimilarity_threshold=0.01,\n",
    "                                        negative_sampling_ratio=2.0,\n",
    "                                        features=[\"Transcript Type\", \"Strand\", \"Location\"], \n",
    "                                        compute_correlation=False)"
   ]
  },
  {
   "cell_type": "code",
   "execution_count": 12,
   "metadata": {
    "collapsed": true
   },
   "outputs": [
    {
     "data": {
      "image/png": "[encoded data removed]",
      "text/plain": [
       "<Figure size 720x720 with 2 Axes>"
      ]
     },
     "metadata": {
      "needs_background": "light"
     },
     "output_type": "display_data"
    }
   ],
   "source": [
    "matrix_heatmap(network.get_adjacency_matrix(edge_types=[\"u_n\"], node_list=network.nodes[\"LNC\"]).todense(),\n",
    "              figsize=(10,10))"
   ]
  },
  {
   "cell_type": "code",
   "execution_count": 13,
   "metadata": {},
   "outputs": [
    {
     "data": {
      "text/plain": [
       "1917502"
      ]
     },
     "execution_count": 13,
     "metadata": {},
     "output_type": "execute_result"
    }
   ],
   "source": [
    "network.G.number_of_edges()"
   ]
  },
  {
   "cell_type": "markdown",
   "metadata": {},
   "source": [
    "# Add Attribute Affinity NEGATIVE Edges between cross-modals"
   ]
  },
  {
   "cell_type": "code",
   "execution_count": 11,
   "metadata": {},
   "outputs": [
    {
     "name": "stdout",
     "output_type": "stream",
     "text": [
      "Number of negative sampled edges between ['GE', 'MIR'] added: 10000\n",
      "Number of negative sampled edges between ['GE', 'LNC'] added: 20000\n",
      "Number of negative sampled edges between ['LNC', 'MIR'] added: 10000\n"
     ]
    }
   ],
   "source": [
    "u_n_size = 10000\n",
    "network.add_sampled_negative_edges(u_n_size, modalities=[\"GE\", \"MIR\"])\n",
    "network.add_sampled_negative_edges(u_n_size*2, modalities=[\"GE\", \"LNC\"])\n",
    "network.add_sampled_negative_edges(u_n_size, modalities=[\"LNC\", \"MIR\"])"
   ]
  },
  {
   "cell_type": "code",
   "execution_count": 31,
   "metadata": {
    "collapsed": true
   },
   "outputs": [
    {
     "data": {
      "image/png": "[encoded data removed]",
      "text/plain": [
       "<Figure size 1080x1080 with 2 Axes>"
      ]
     },
     "metadata": {
      "needs_background": "light"
     },
     "output_type": "display_data"
    }
   ],
   "source": [
    "matrix_heatmap(network.get_adjacency_matrix(edge_types=[\"u_n\"], node_list=network.node_list).todense(),\n",
    "              figsize=(15,15))"
   ]
  },
  {
   "cell_type": "markdown",
   "metadata": {},
   "source": [
    "# Add Regulatory Interaction edges"
   ]
  },
  {
   "cell_type": "code",
   "execution_count": 7,
   "metadata": {},
   "outputs": [
    {
     "name": "stdout",
     "output_type": "stream",
     "text": [
      "Adding edgelist with 1759 total unique MIR genes (source), but only matching 1618 nodes\n",
      "Adding edgelist with 15064 total unique GE genes (target), but only matching 14673 nodes\n",
      "377318 edges added.\n"
     ]
    }
   ],
   "source": [
    "# Adds miRNA-target interaction network\n",
    "network.add_directed_edges_from_edgelist(edgelist=luad_data.MIR.get_miRTarBase_miRNA_target_interaction(), \n",
    "                                        modalities=[\"MIR\", \"GE\"], correlation_weights=False, threshold=0.20)"
   ]
  },
  {
   "cell_type": "code",
   "execution_count": 8,
   "metadata": {},
   "outputs": [
    {
     "name": "stderr",
     "output_type": "stream",
     "text": [
      "/home/jonny/.conda/envs/jonny_conda3/lib/python3.6/site-packages/IPython/core/interactiveshell.py:3189: DtypeWarning: Columns (19,20) have mixed types. Specify dtype option on import or set low_memory=False.\n",
      "  if (yield from self.run_code(code, result)):\n"
     ]
    },
    {
     "name": "stdout",
     "output_type": "stream",
     "text": [
      "Adding edgelist with 13318 total unique GE genes (source), but only matching 12775 nodes\n",
      "Adding edgelist with 19429 total unique GE genes (target), but only matching 14995 nodes\n",
      "313724 edges added.\n"
     ]
    }
   ],
   "source": [
    "# Adds Gene Regulatory Network edges\n",
    "network.add_directed_edges_from_edgelist(edgelist=luad_data.GE.get_BioGRID_GRN_edgelist(), # unweighted edges\n",
    "                                         modalities=[\"GE\", \"GE\"], correlation_weights=False, threshold=0.65)"
   ]
  },
  {
   "cell_type": "code",
   "execution_count": 9,
   "metadata": {},
   "outputs": [
    {
     "name": "stdout",
     "output_type": "stream",
     "text": [
      "Adding edgelist with 66 total unique LNC genes (source), but only matching 31 nodes\n",
      "Adding edgelist with 978 total unique MIR genes (target), but only matching 893 nodes\n",
      "2375 edges added.\n",
      "Adding edgelist with 702 total unique MIR genes (source), but only matching 631 nodes\n",
      "Adding edgelist with 6185 total unique LNC genes (target), but only matching 1760 nodes\n",
      "53926 edges added.\n",
      "Adding edgelist with 137 total unique LNC genes (source), but only matching 19 nodes\n",
      "Adding edgelist with 373 total unique GE genes (target), but only matching 172 nodes\n",
      "554 edges added.\n"
     ]
    }
   ],
   "source": [
    "# Adds miRNA-lncRNA interaction network\n",
    "# network.add_directed_edges_from_edgelist(edgelist=luad_data.LNC.get_starBase_lncRNA_miRNA_interactions_edgelist(),\n",
    "#                                         )\n",
    "network.add_directed_edges_from_edgelist(edgelist=luad_data.LNC.get_lncRNome_miRNA_binding_sites_edgelist(),\n",
    "                                         modalities=[\"LNC\", \"MIR\"], correlation_weights=False, threshold=0.20)\n",
    "\n",
    "network.add_directed_edges_from_edgelist(edgelist=luad_data.LNC.get_lncBase_miRNA_lncRNA_interactions_edgelist(),\n",
    "                                         modalities=[\"MIR\", \"LNC\"], correlation_weights=False, threshold=0.20)\n",
    "\n",
    "network.add_directed_edges_from_edgelist(edgelist=luad_data.LNC.get_LncReg_lncRNA_RNA_regulatory_interactions(),\n",
    "                                         modalities=[\"LNC\", \"GE\"], correlation_weights=False, threshold=0.20)"
   ]
  },
  {
   "cell_type": "markdown",
   "metadata": {},
   "source": [
    "# Filter the node_list"
   ]
  },
  {
   "cell_type": "code",
   "execution_count": 12,
   "metadata": {},
   "outputs": [],
   "source": [
    "isolates = list(nx.isolates(network.G))"
   ]
  },
  {
   "cell_type": "code",
   "execution_count": 13,
   "metadata": {},
   "outputs": [],
   "source": [
    "network.nodes[\"GE\"] = [node for node in network.nodes[\"GE\"] if node not in isolates]\n",
    "network.nodes[\"LNC\"] = [node for node in network.nodes[\"LNC\"] if node not in isolates]\n",
    "network.nodes[\"MIR\"] = [node for node in network.nodes[\"MIR\"] if node not in isolates]\n",
    "network.node_list = [node for node in network.node_list if node not in isolates]"
   ]
  },
  {
   "cell_type": "code",
   "execution_count": 14,
   "metadata": {},
   "outputs": [],
   "source": [
    "# network.remove_extra_nodes() # Also makes network unmutable"
   ]
  },
  {
   "cell_type": "code",
   "execution_count": 15,
   "metadata": {},
   "outputs": [
    {
     "data": {
      "text/plain": [
       "43695"
      ]
     },
     "execution_count": 15,
     "metadata": {},
     "output_type": "execute_result"
    }
   ],
   "source": [
    "network.G.number_of_nodes()"
   ]
  },
  {
   "cell_type": "code",
   "execution_count": 16,
   "metadata": {},
   "outputs": [
    {
     "data": {
      "text/plain": [
       "34631"
      ]
     },
     "execution_count": 16,
     "metadata": {},
     "output_type": "execute_result"
    }
   ],
   "source": [
    "len(network.node_list)"
   ]
  },
  {
   "cell_type": "code",
   "execution_count": 10,
   "metadata": {},
   "outputs": [],
   "source": [
    "import pickle\n",
    "with open('moge/data/LMN_Combined_NoCorr/lmn_n85_m70_l85_type_family_location_full.pickle', 'wb') as file:\n",
    "    pickle.dump(network, file)"
   ]
  },
  {
   "cell_type": "code",
   "execution_count": 18,
   "metadata": {},
   "outputs": [
    {
     "data": {
      "text/plain": [
       "False"
      ]
     },
     "execution_count": 18,
     "metadata": {},
     "output_type": "execute_result"
    }
   ],
   "source": [
    "nx.is_directed_acyclic_graph(network.G)"
   ]
  },
  {
   "cell_type": "markdown",
   "metadata": {},
   "source": [
    "# Split train-test"
   ]
  },
  {
   "cell_type": "code",
   "execution_count": 11,
   "metadata": {},
   "outputs": [
    {
     "data": {
      "text/plain": [
       "2677335"
      ]
     },
     "execution_count": 11,
     "metadata": {},
     "output_type": "execute_result"
    }
   ],
   "source": [
    "network.G.number_of_edges()"
   ]
  },
  {
   "cell_type": "code",
   "execution_count": 12,
   "metadata": {},
   "outputs": [
    {
     "name": "stdout",
     "output_type": "stream",
     "text": [
      "validation edges [('d', 67137)]\n",
      "test edges [('d', 0)]\n"
     ]
    }
   ],
   "source": [
    "from moge.evaluation.utils import split_train_test_edges, split_train_test_nodes\n",
    "\n",
    "network_train, val_edges_dict, test_edges_dict, val_nodes, test_nodes = split_train_test_nodes(network, \n",
    "                                                                                               network.node_list, \n",
    "                                                          test_frac=.00, val_frac=.10, edge_types=[\"d\"], \n",
    "                                                          seed=0, verbose=False)"
   ]
  },
  {
   "cell_type": "code",
   "execution_count": 13,
   "metadata": {},
   "outputs": [
    {
     "data": {
      "text/plain": [
       "2376810"
      ]
     },
     "execution_count": 13,
     "metadata": {},
     "output_type": "execute_result"
    }
   ],
   "source": [
    "network_train.G.number_of_edges()"
   ]
  },
  {
   "cell_type": "code",
   "execution_count": 14,
   "metadata": {},
   "outputs": [
    {
     "name": "stdout",
     "output_type": "stream",
     "text": [
      "MIR  nodes: 1870\n",
      "GE  nodes: 20284\n",
      "LNC  nodes: 12725\n",
      "Total nodes: 34879\n",
      "MIR  nodes: 1870\n",
      "GE  nodes: 20284\n",
      "LNC  nodes: 12725\n",
      "Total nodes: 34879\n"
     ]
    }
   ],
   "source": [
    "network_test = HeterogeneousNetwork(modalities=[\"MIR\", \"GE\", \"LNC\"], multi_omics_data=network.multi_omics_data)\n",
    "network_val = HeterogeneousNetwork(modalities=[\"MIR\", \"GE\", \"LNC\"], multi_omics_data=network.multi_omics_data)\n",
    "network_test.node_list = test_nodes\n",
    "network_val.node_list = val_nodes"
   ]
  },
  {
   "cell_type": "code",
   "execution_count": 15,
   "metadata": {},
   "outputs": [
    {
     "data": {
      "text/plain": [
       "(0, 3485)"
      ]
     },
     "execution_count": 15,
     "metadata": {},
     "output_type": "execute_result"
    }
   ],
   "source": [
    "len(network_test.node_list), len(network_val.node_list)"
   ]
  },
  {
   "cell_type": "code",
   "execution_count": 16,
   "metadata": {},
   "outputs": [
    {
     "name": "stdout",
     "output_type": "stream",
     "text": [
      "0\n",
      "67137\n"
     ]
    }
   ],
   "source": [
    "node_list = network_train.node_list\n",
    "for edge_type, edges in test_edges_dict.items():\n",
    "    for edge in edges:\n",
    "#         network_test.G.add_edge(node_list[edge[0]], node_list[edge[1]], type=edge_type) # for split edges\n",
    "        network_test.G.add_edge(edge[0], edge[1], type=edge_type) # for split nodes\n",
    "print(network_test.G.number_of_edges())\n",
    "\n",
    "for edge_type, edges in val_edges_dict.items():\n",
    "    for edge in edges:\n",
    "#         network_val.G.add_edge(node_list[edge[0]], node_list[edge[1]], type=edge_type) # for split edges\n",
    "        network_val.G.add_edge(edge[0], edge[1], type=edge_type) # For split nodes\n",
    "print(network_val.G.number_of_edges())"
   ]
  },
  {
   "cell_type": "code",
   "execution_count": 17,
   "metadata": {},
   "outputs": [],
   "source": [
    "# WRITE\n",
    "import pickle\n",
    "with open('moge/data/LMN_Combined_NoCorr/lmn_n85_m70_l85_type_family_location_node10_d_train.pickle', 'wb') as file:\n",
    "    pickle.dump(network_train, file)\n",
    "    \n",
    "with open('moge/data/LMN_Combined_NoCorr/lmn_n85_m70_l85_type_family_location_node10_d_test.pickle', 'wb') as file:\n",
    "    pickle.dump(network_test, file)\n",
    "    \n",
    "with open('moge/data/LMN_Combined_NoCorr/lmn_n85_m70_l85_type_family_location_node10_d_val.pickle', 'wb') as file:\n",
    "    pickle.dump(network_val, file)"
   ]
  },
  {
   "cell_type": "markdown",
   "metadata": {},
   "source": [
    "## Network Info & Visualizations"
   ]
  },
  {
   "cell_type": "code",
   "execution_count": 22,
   "metadata": {},
   "outputs": [
    {
     "name": "stdout",
     "output_type": "stream",
     "text": [
      "33120\n",
      "1243116\n"
     ]
    }
   ],
   "source": [
    "print(len(network.G.nodes()))\n",
    "print(len(network.G.edges()))"
   ]
  },
  {
   "cell_type": "code",
   "execution_count": 23,
   "metadata": {},
   "outputs": [],
   "source": [
    "csr_un = network.get_adjacency_matrix(edge_types=[\"u_n\"], node_list=network.node_list)\n",
    "csr_u = network.get_adjacency_matrix(edge_types=[\"u\"], node_list=network.node_list)\n",
    "csr_d = network.get_adjacency_matrix(edge_types=[\"d\"], node_list=network.node_list)"
   ]
  },
  {
   "cell_type": "code",
   "execution_count": 24,
   "metadata": {},
   "outputs": [
    {
     "data": {
      "image/png": "[encoded data removed]",
      "text/plain": [
       "<Figure size 1080x1080 with 2 Axes>"
      ]
     },
     "metadata": {
      "needs_background": "light"
     },
     "output_type": "display_data"
    }
   ],
   "source": [
    "matrix_heatmap(csr_un.toarray())"
   ]
  },
  {
   "cell_type": "code",
   "execution_count": 25,
   "metadata": {},
   "outputs": [
    {
     "data": {
      "image/png": "[encoded data removed]",
      "text/plain": [
       "<Figure size 1080x1080 with 2 Axes>"
      ]
     },
     "metadata": {
      "needs_background": "light"
     },
     "output_type": "display_data"
    }
   ],
   "source": [
    "matrix_heatmap(csr_u.toarray())"
   ]
  },
  {
   "cell_type": "code",
   "execution_count": 26,
   "metadata": {},
   "outputs": [
    {
     "data": {
      "image/png": "[encoded data removed]",
      "text/plain": [
       "<Figure size 1080x1080 with 2 Axes>"
      ]
     },
     "metadata": {
      "needs_background": "light"
     },
     "output_type": "display_data"
    }
   ],
   "source": [
    "matrix_heatmap(csr_d.toarray())"
   ]
  },
  {
   "cell_type": "code",
   "execution_count": null,
   "metadata": {},
   "outputs": [],
   "source": []
  },
  {
   "cell_type": "code",
   "execution_count": null,
   "metadata": {},
   "outputs": [],
   "source": []
  }
 ],
 "metadata": {
  "kernelspec": {
   "display_name": "Python 3",
   "language": "python",
   "name": "python3"
  },
  "language_info": {
   "codemirror_mode": {
    "name": "ipython",
    "version": 3
   },
   "file_extension": ".py",
   "mimetype": "text/x-python",
   "name": "python",
   "nbconvert_exporter": "python",
   "pygments_lexer": "ipython3",
   "version": "3.6.6"
  }
 },
 "nbformat": 4,
 "nbformat_minor": 1
}
