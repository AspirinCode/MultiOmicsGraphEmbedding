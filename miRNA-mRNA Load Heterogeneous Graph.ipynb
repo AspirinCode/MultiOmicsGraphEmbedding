{
 "cells": [
  {
   "cell_type": "code",
   "execution_count": 1,
   "metadata": {},
   "outputs": [],
   "source": [
    "# Necessary imports\n",
    "%load_ext autoreload\n",
    "%autoreload 2\n",
    "\n",
    "import networkx as nx\n",
    "import numpy as np\n",
    "import pandas as pd\n",
    "import scipy.sparse as sps\n",
    "\n",
    "from TCGAMultiOmics.multiomics import MultiOmicsData\n",
    "from moge.visualization.plot_data import matrix_heatmap, plot_coo_matrix\n",
    "\n",
    "import seaborn\n",
    "import matplotlib.pyplot as plt\n",
    "from moge.network.omics_distance import *\n"
   ]
  },
  {
   "cell_type": "markdown",
   "metadata": {},
   "source": [
    "# Import the TCGA cancer data"
   ]
  },
  {
   "cell_type": "code",
   "execution_count": 2,
   "metadata": {},
   "outputs": [],
   "source": [
    "# import pickle\n",
    "# with open('moge/data/luad_data_shortest.pickle', 'wb') as file:\n",
    "# #     luad_data = pickle.load(file)\n",
    "#     pickle.dump(luad_data, file)"
   ]
  },
  {
   "cell_type": "code",
   "execution_count": 3,
   "metadata": {
    "scrolled": true
   },
   "outputs": [
    {
     "name": "stderr",
     "output_type": "stream",
     "text": [
      "/opt/anaconda3/lib/python3.6/site-packages/TCGAMultiOmics/clinical.py:36: FutureWarning: read_table is deprecated, use read_csv instead.\n",
      "  na_values=[\"[Not Available]\", \"[Not Applicable]\"],\n",
      "/opt/anaconda3/lib/python3.6/site-packages/TCGAMultiOmics/clinical.py:61: FutureWarning: read_table is deprecated, use read_csv instead.\n",
      "  usecols=ClinicalData.clinical_drug_colsname\n",
      "/opt/anaconda3/lib/python3.6/site-packages/TCGAMultiOmics/genomic.py:28: FutureWarning: read_table is deprecated, use read_csv instead, passing sep='\\t'.\n",
      "  self.data = self.preprocess_expression_table(pd.read_table(file_path), columns)\n",
      "/opt/anaconda3/lib/python3.6/site-packages/pandas/core/frame.py:4025: SettingWithCopyWarning: \n",
      "A value is trying to be set on a copy of a slice from a DataFrame\n",
      "\n",
      "See the caveats in the documentation: http://pandas.pydata.org/pandas-docs/stable/indexing.html#indexing-view-versus-copy\n",
      "  return super(DataFrame, self).rename(**kwargs)\n",
      "/opt/anaconda3/lib/python3.6/site-packages/TCGAMultiOmics/genomic.py:605: FutureWarning: read_table is deprecated, use read_csv instead, passing sep='\\t'.\n",
      "  \"Gene description\", \"3P-seq tags\"])\n",
      "/opt/anaconda3/lib/python3.6/site-packages/TCGAMultiOmics/genomic.py:618: FutureWarning: read_table is deprecated, use read_csv instead, passing sep='\\t'.\n",
      "  \"location\"])\n",
      "/opt/anaconda3/lib/python3.6/site-packages/TCGAMultiOmics/genomic.py:676: FutureWarning: read_table is deprecated, use read_csv instead, passing sep='\\t'.\n",
      "  usecols=[\"geneSymbol\", \"diseaseName\", \"score\"])\n",
      "/opt/anaconda3/lib/python3.6/site-packages/TCGAMultiOmics/genomic.py:678: FutureWarning: read_table is deprecated, use read_csv instead, passing sep='\\t'.\n",
      "  usecols=[\"geneSymbol\", \"diseaseName\", \"score\"])\n",
      "/opt/anaconda3/lib/python3.6/site-packages/TCGAMultiOmics/genomic.py:840: FutureWarning: read_table is deprecated, use read_csv instead.\n",
      "  targetScan_family_df = pd.read_table(self.targetScan_miR_family_info_path, delimiter='\\t')\n",
      "/opt/anaconda3/lib/python3.6/site-packages/TCGAMultiOmics/genomic.py:863: FutureWarning: read_table is deprecated, use read_csv instead.\n",
      "  targetScan_df = pd.read_table(self.targetScan_predicted_targets_path, delimiter='\\t')\n",
      "/opt/anaconda3/lib/python3.6/site-packages/TCGAMultiOmics/genomic.py:868: FutureWarning: read_table is deprecated, use read_csv instead.\n",
      "  targetScan_family_df = pd.read_table(self.targetScan_miR_family_info_path, delimiter='\\t')\n",
      "/opt/anaconda3/lib/python3.6/site-packages/TCGAMultiOmics/genomic.py:890: FutureWarning: read_table is deprecated, use read_csv instead.\n",
      "  targetScan_context_df = pd.read_table(self.targetScan_predicted_targets_context_score_path, delimiter='\\t')\n",
      "/opt/anaconda3/lib/python3.6/site-packages/TCGAMultiOmics/genomic.py:911: FutureWarning: read_table is deprecated, use read_csv instead.\n",
      "  self.mirnadisease = pd.read_table(self.mirnadisease_association_path, header=None, sep=\"\\t\")\n",
      "/opt/anaconda3/lib/python3.6/site-packages/TCGAMultiOmics/genomic.py:925: FutureWarning: read_table is deprecated, use read_csv instead, passing sep='\\t'.\n",
      "  usecols=[\"alias_symbol\", \"ensembl_gene_id\", \"location\"])\n",
      "/opt/anaconda3/lib/python3.6/site-packages/TCGAMultiOmics/genomic.py:948: FutureWarning: read_table is deprecated, use read_csv instead, passing sep='\\t'.\n",
      "  index_col=\"mirbase id\")\n",
      "/opt/anaconda3/lib/python3.6/site-packages/TCGAMultiOmics/genomic.py:952: FutureWarning: read_table is deprecated, use read_csv instead, passing sep='\\t'.\n",
      "  low_memory=True, header=None, names=[\"mirbase id\", \"miRNA name\"], dtype=\"O\")\n",
      "/opt/anaconda3/lib/python3.6/site-packages/TCGAMultiOmics/genomic.py:958: FutureWarning: read_table is deprecated, use read_csv instead, passing sep='\\t'.\n",
      "  low_memory=True, header=None, names=[\"RNAcentral id\", \"GO terms\", \"Rfams\"])\n",
      "/opt/anaconda3/lib/python3.6/site-packages/TCGAMultiOmics/genomic.py:178: FutureWarning: read_table is deprecated, use read_csv instead, passing sep='\\t'.\n",
      "  table = pd.read_table(os.path.join(self.external_data_path, \"lncBase/LncBasev2_download.csv\"))\n",
      "/opt/anaconda3/lib/python3.6/site-packages/TCGAMultiOmics/genomic.py:255: FutureWarning: read_table is deprecated, use read_csv instead.\n",
      "  usecols=['symbol', 'locus_type', 'ensembl_gene_id', 'name', 'location'])\n"
     ]
    },
    {
     "name": "stdout",
     "output_type": "stream",
     "text": [
      "Unmatched lncRNAs 12727\n",
      "Unmatched lncRNAs after gencode: 1033\n",
      "Unmatched lncRNAs after lncBase: 812\n",
      "Unmatched lncRNAs after HGNC: 758\n",
      "Unmatched lncRNAs after lncipedia: 622\n"
     ]
    },
    {
     "name": "stderr",
     "output_type": "stream",
     "text": [
      "/opt/anaconda3/lib/python3.6/site-packages/TCGAMultiOmics/genomic.py:420: FutureWarning: read_table is deprecated, use read_csv instead, passing sep='\\t'.\n",
      "  usecols=[\"Gene Name\", \"Transcript Name\", \"Transcript Type\", \"Location\", \"Strand\"])\n",
      "/opt/anaconda3/lib/python3.6/site-packages/TCGAMultiOmics/genomic.py:499: FutureWarning: read_table is deprecated, use read_csv instead, passing sep='\\t'.\n",
      "  source_df = pd.read_table(self.noncode_source_path, header=None)\n",
      "/opt/anaconda3/lib/python3.6/site-packages/TCGAMultiOmics/genomic.py:502: FutureWarning: read_table is deprecated, use read_csv instead, passing sep='\\t'.\n",
      "  transcript2gene_df = pd.read_table(self.noncode_transcript2gene_path, header=None)\n",
      "/opt/anaconda3/lib/python3.6/site-packages/TCGAMultiOmics/genomic.py:505: FutureWarning: read_table is deprecated, use read_csv instead, passing sep='\\t'.\n",
      "  self.noncode_func_df = pd.read_table(self.noncode_func_path, header=None)\n",
      "/opt/anaconda3/lib/python3.6/site-packages/TCGAMultiOmics/genomic.py:427: FutureWarning: read_table is deprecated, use read_csv instead.\n",
      "  self.lncrnadisease_info = pd.read_table(self.lncrnadisease_associations_path, header=None, sep=\"\\t\")\n",
      "/opt/anaconda3/lib/python3.6/site-packages/TCGAMultiOmics/genomic.py:526: FutureWarning: read_table is deprecated, use read_csv instead, passing sep='\\t'.\n",
      "  low_memory=True, header=None, names=[\"RNAcentral id\", \"GO terms\", \"Rfams\"])\n",
      "/opt/anaconda3/lib/python3.6/site-packages/TCGAMultiOmics/genomic.py:532: FutureWarning: read_table is deprecated, use read_csv instead, passing sep='\\t'.\n",
      "  \"gene symbol\"])\n"
     ]
    },
    {
     "name": "stdout",
     "output_type": "stream",
     "text": [
      "PATIENTS (522, 110)\n",
      "DRUGS (461, 4)\n",
      "GE (576, 20157)\n",
      "MIR (494, 1870)\n",
      "LNC (546, 12727)\n",
      "SAMPLES (599, 111)\n",
      "Processed genes info for  GE\n",
      "Processed genes info for  MIR\n",
      "Processed genes info for  LNC\n"
     ]
    }
   ],
   "source": [
    "folder_path = \"/data/datasets/Bioinformatics_ExternalData/tcga-assembler/LUAD/\"\n",
    "external_data_path = \"/data/datasets/Bioinformatics_ExternalData/\"\n",
    "luad_data = MultiOmicsData(cancer_type=\"LUAD\", tcga_data_path=folder_path, external_data_path=external_data_path,\n",
    "                           modalities=[\\\n",
    "                                       \"GE\",\n",
    "                                       \"MIR\",\n",
    "                                       \"LNC\",\n",
    "                                       # \"CNV\",\n",
    "                                       # \"SNP\",\n",
    "#                                        \"PRO\",\n",
    "                                       # \"DNA\"\n",
    "                                       ])"
   ]
  },
  {
   "cell_type": "code",
   "execution_count": null,
   "metadata": {},
   "outputs": [],
   "source": []
  },
  {
   "cell_type": "code",
   "execution_count": null,
   "metadata": {},
   "outputs": [],
   "source": []
  },
  {
   "cell_type": "code",
   "execution_count": 3,
   "metadata": {},
   "outputs": [
    {
     "name": "stdout",
     "output_type": "stream",
     "text": [
      "Index(['Transcript ID', 'Gene ID', 'Gene description', '3P-seq tags',\n",
      "       'locus_type', 'location', 'gene_family', 'gene_family_id',\n",
      "       'Transcript sequence', 'GO Terms', 'Disease association', 'Chromosome',\n",
      "       'Chromosome arm', 'Chromosome region', 'Chromosome band',\n",
      "       'Transcript length'],\n",
      "      dtype='object')\n",
      "Index(['miR family', 'Seed+m8', 'Mature sequence', 'Family Conservation?',\n",
      "       'MiRBase Accession', 'MiRBase ID', 'location', 'ensembl_gene_id',\n",
      "       'Disease association', 'locus_type', 'Transcript sequence',\n",
      "       'Transcript length', 'Chromosome', 'Chromosome arm',\n",
      "       'Chromosome region', 'Chromosome band', 'GO Terms', 'Rfams'],\n",
      "      dtype='object')\n",
      "Index(['Gene ID', 'Gene Name', 'HGNC Gene Name', 'Transcript id',\n",
      "       'Transcript name', 'Transcript type', 'tag', 'Chromosome', 'start',\n",
      "       'end', 'Strand', 'locus_type', 'Transcript sequence',\n",
      "       'Disease association', 'GO Terms', 'Rfams'],\n",
      "      dtype='object')\n"
     ]
    }
   ],
   "source": [
    "LNC = luad_data.LNC.get_genes_info()\n",
    "MIR = luad_data.MIR.get_genes_info()\n",
    "GE = luad_data.GE.get_genes_info()\n",
    "print(GE.columns)\n",
    "print(MIR.columns)\n",
    "print(LNC.columns)"
   ]
  },
  {
   "cell_type": "code",
   "execution_count": 6,
   "metadata": {},
   "outputs": [
    {
     "data": {
      "text/html": [
       "<div>\n",
       "<style scoped>\n",
       "    .dataframe tbody tr th:only-of-type {\n",
       "        vertical-align: middle;\n",
       "    }\n",
       "\n",
       "    .dataframe tbody tr th {\n",
       "        vertical-align: top;\n",
       "    }\n",
       "\n",
       "    .dataframe thead th {\n",
       "        text-align: right;\n",
       "    }\n",
       "</style>\n",
       "<table border=\"1\" class=\"dataframe\">\n",
       "  <thead>\n",
       "    <tr style=\"text-align: right;\">\n",
       "      <th></th>\n",
       "      <th>Gene ID</th>\n",
       "      <th>Gene Name</th>\n",
       "      <th>HGNC Gene Name</th>\n",
       "      <th>Transcript id</th>\n",
       "      <th>Transcript name</th>\n",
       "      <th>Transcript type</th>\n",
       "      <th>tag</th>\n",
       "      <th>Chromosome</th>\n",
       "      <th>start</th>\n",
       "      <th>end</th>\n",
       "      <th>Strand</th>\n",
       "      <th>locus_type</th>\n",
       "      <th>Transcript sequence</th>\n",
       "      <th>Disease association</th>\n",
       "      <th>GO Terms</th>\n",
       "      <th>Rfams</th>\n",
       "    </tr>\n",
       "  </thead>\n",
       "  <tbody>\n",
       "    <tr>\n",
       "      <th>ENSG00000005206</th>\n",
       "      <td>ENSG00000005206</td>\n",
       "      <td>NaN</td>\n",
       "      <td>NaN</td>\n",
       "      <td>NaN</td>\n",
       "      <td>NaN</td>\n",
       "      <td>NaN</td>\n",
       "      <td>NaN</td>\n",
       "      <td>NaN</td>\n",
       "      <td>NaN</td>\n",
       "      <td>NaN</td>\n",
       "      <td>NaN</td>\n",
       "      <td>NaN</td>\n",
       "      <td>NaN</td>\n",
       "      <td>NaN</td>\n",
       "      <td>NaN</td>\n",
       "      <td>NaN</td>\n",
       "    </tr>\n",
       "    <tr>\n",
       "      <th>ENSG00000031544</th>\n",
       "      <td>ENSG00000031544</td>\n",
       "      <td>NaN</td>\n",
       "      <td>NaN</td>\n",
       "      <td>NaN</td>\n",
       "      <td>NaN</td>\n",
       "      <td>NaN</td>\n",
       "      <td>NaN</td>\n",
       "      <td>NaN</td>\n",
       "      <td>NaN</td>\n",
       "      <td>NaN</td>\n",
       "      <td>NaN</td>\n",
       "      <td>NaN</td>\n",
       "      <td>NaN</td>\n",
       "      <td>NaN</td>\n",
       "      <td>NaN</td>\n",
       "      <td>NaN</td>\n",
       "    </tr>\n",
       "    <tr>\n",
       "      <th>AC000061.1</th>\n",
       "      <td>ENSG00000083622</td>\n",
       "      <td>AC000061.1</td>\n",
       "      <td>NaN</td>\n",
       "      <td>ENST00000456270</td>\n",
       "      <td>AC000061.1-201</td>\n",
       "      <td>antisense</td>\n",
       "      <td>basic</td>\n",
       "      <td>chr7</td>\n",
       "      <td>117604791.0</td>\n",
       "      <td>117604989.0</td>\n",
       "      <td>-</td>\n",
       "      <td>antisense</td>\n",
       "      <td>TGAAAACTTCCTGAGGCCTCCTCAGAAGCAGATGCTGCTATGCTTC...</td>\n",
       "      <td>NaN</td>\n",
       "      <td>NaN</td>\n",
       "      <td>NaN</td>\n",
       "    </tr>\n",
       "    <tr>\n",
       "      <th>ENSG00000088970</th>\n",
       "      <td>ENSG00000088970</td>\n",
       "      <td>NaN</td>\n",
       "      <td>NaN</td>\n",
       "      <td>NaN</td>\n",
       "      <td>NaN</td>\n",
       "      <td>NaN</td>\n",
       "      <td>NaN</td>\n",
       "      <td>NaN</td>\n",
       "      <td>NaN</td>\n",
       "      <td>NaN</td>\n",
       "      <td>NaN</td>\n",
       "      <td>NaN</td>\n",
       "      <td>NaN</td>\n",
       "      <td>NaN</td>\n",
       "      <td>NaN</td>\n",
       "      <td>NaN</td>\n",
       "    </tr>\n",
       "    <tr>\n",
       "      <th>IGF2-AS</th>\n",
       "      <td>ENSG00000099869</td>\n",
       "      <td>IGF2-AS</td>\n",
       "      <td>IGF2-AS</td>\n",
       "      <td>ENST00000445504|ENST00000381361|ENST00000381363</td>\n",
       "      <td>IGF2-AS-203|IGF2-AS-201|IGF2-AS-202</td>\n",
       "      <td>antisense</td>\n",
       "      <td>basic</td>\n",
       "      <td>chr11</td>\n",
       "      <td>2146245.0</td>\n",
       "      <td>2147807.0</td>\n",
       "      <td>+</td>\n",
       "      <td>antisense</td>\n",
       "      <td>GGCCCGCGGGCTAGAGGCACTTTACCGCCCGGCGGGAGCGCCTCTC...</td>\n",
       "      <td>hepatocellular carcinoma|prostate cancer|type ...</td>\n",
       "      <td>NaN</td>\n",
       "      <td>NaN</td>\n",
       "    </tr>\n",
       "    <tr>\n",
       "      <th>TPTEP1</th>\n",
       "      <td>ENSG00000100181</td>\n",
       "      <td>NaN</td>\n",
       "      <td>NaN</td>\n",
       "      <td>NaN</td>\n",
       "      <td>NaN</td>\n",
       "      <td>NaN</td>\n",
       "      <td>NaN</td>\n",
       "      <td>NaN</td>\n",
       "      <td>NaN</td>\n",
       "      <td>NaN</td>\n",
       "      <td>NaN</td>\n",
       "      <td>NaN</td>\n",
       "      <td>NaN</td>\n",
       "      <td>NaN</td>\n",
       "      <td>NaN</td>\n",
       "      <td>NaN</td>\n",
       "    </tr>\n",
       "    <tr>\n",
       "      <th>ENSG00000104691</th>\n",
       "      <td>ENSG00000104691</td>\n",
       "      <td>NaN</td>\n",
       "      <td>NaN</td>\n",
       "      <td>NaN</td>\n",
       "      <td>NaN</td>\n",
       "      <td>NaN</td>\n",
       "      <td>NaN</td>\n",
       "      <td>NaN</td>\n",
       "      <td>NaN</td>\n",
       "      <td>NaN</td>\n",
       "      <td>NaN</td>\n",
       "      <td>NaN</td>\n",
       "      <td>NaN</td>\n",
       "      <td>NaN</td>\n",
       "      <td>NaN</td>\n",
       "      <td>NaN</td>\n",
       "    </tr>\n",
       "    <tr>\n",
       "      <th>ENSG00000110347</th>\n",
       "      <td>ENSG00000110347</td>\n",
       "      <td>NaN</td>\n",
       "      <td>NaN</td>\n",
       "      <td>NaN</td>\n",
       "      <td>NaN</td>\n",
       "      <td>NaN</td>\n",
       "      <td>NaN</td>\n",
       "      <td>NaN</td>\n",
       "      <td>NaN</td>\n",
       "      <td>NaN</td>\n",
       "      <td>NaN</td>\n",
       "      <td>NaN</td>\n",
       "      <td>NaN</td>\n",
       "      <td>NaN</td>\n",
       "      <td>NaN</td>\n",
       "      <td>NaN</td>\n",
       "    </tr>\n",
       "    <tr>\n",
       "      <th>AC087235.1</th>\n",
       "      <td>ENSG00000115934</td>\n",
       "      <td>AC087235.1</td>\n",
       "      <td>NaN</td>\n",
       "      <td>ENST00000538297</td>\n",
       "      <td>AC087235.1-201</td>\n",
       "      <td>lincRNA</td>\n",
       "      <td>basic</td>\n",
       "      <td>chr12</td>\n",
       "      <td>23181334.0</td>\n",
       "      <td>23182623.0</td>\n",
       "      <td>-</td>\n",
       "      <td>lincRNA</td>\n",
       "      <td>CCCGCCATGATCGTGAGGCCTCCCCAGCGATGTGGAACTGCTGGAG...</td>\n",
       "      <td>NaN</td>\n",
       "      <td>NaN</td>\n",
       "      <td>NaN</td>\n",
       "    </tr>\n",
       "    <tr>\n",
       "      <th>PINK1-AS</th>\n",
       "      <td>ENSG00000117242</td>\n",
       "      <td>PINK1-AS</td>\n",
       "      <td>PINK1-AS</td>\n",
       "      <td>ENST00000451424</td>\n",
       "      <td>PINK1-AS-201</td>\n",
       "      <td>antisense</td>\n",
       "      <td>overlapping_locus|basic</td>\n",
       "      <td>chr1</td>\n",
       "      <td>20642657.0</td>\n",
       "      <td>20643118.0</td>\n",
       "      <td>-</td>\n",
       "      <td>antisense</td>\n",
       "      <td>ACTTTGAATTGCTAAAAGTGGCATTTTTCCTATGTGCAGTCACTCC...</td>\n",
       "      <td>diabetes mellitus|parkinson's disease</td>\n",
       "      <td>NaN</td>\n",
       "      <td>NaN</td>\n",
       "    </tr>\n",
       "    <tr>\n",
       "      <th>ENSG00000118412</th>\n",
       "      <td>ENSG00000118412</td>\n",
       "      <td>NaN</td>\n",
       "      <td>NaN</td>\n",
       "      <td>NaN</td>\n",
       "      <td>NaN</td>\n",
       "      <td>NaN</td>\n",
       "      <td>NaN</td>\n",
       "      <td>NaN</td>\n",
       "      <td>NaN</td>\n",
       "      <td>NaN</td>\n",
       "      <td>NaN</td>\n",
       "      <td>NaN</td>\n",
       "      <td>NaN</td>\n",
       "      <td>NaN</td>\n",
       "      <td>NaN</td>\n",
       "      <td>NaN</td>\n",
       "    </tr>\n",
       "    <tr>\n",
       "      <th>LINC00544</th>\n",
       "      <td>ENSG00000122043</td>\n",
       "      <td>LINC00544</td>\n",
       "      <td>LINC00544</td>\n",
       "      <td>ENST00000400540|ENST00000481738</td>\n",
       "      <td>LINC00544-201|LINC00544-202</td>\n",
       "      <td>lincRNA</td>\n",
       "      <td>exp_conf|basic</td>\n",
       "      <td>chr13</td>\n",
       "      <td>29942097.0</td>\n",
       "      <td>29942567.0</td>\n",
       "      <td>+</td>\n",
       "      <td>lincRNA</td>\n",
       "      <td>ATAGAGGTGTTTGGGGTGTCAGCTCTGAAATGCTAAAAATAAAACC...</td>\n",
       "      <td>NaN</td>\n",
       "      <td>NaN</td>\n",
       "      <td>NaN</td>\n",
       "    </tr>\n",
       "    <tr>\n",
       "      <th>AC105760.1</th>\n",
       "      <td>ENSG00000124835</td>\n",
       "      <td>AC105760.1</td>\n",
       "      <td>NaN</td>\n",
       "      <td>ENST00000244820</td>\n",
       "      <td>AC105760.1-201</td>\n",
       "      <td>antisense</td>\n",
       "      <td>basic</td>\n",
       "      <td>chr2</td>\n",
       "      <td>237048599.0</td>\n",
       "      <td>237048966.0</td>\n",
       "      <td>-</td>\n",
       "      <td>antisense</td>\n",
       "      <td>GCCTTGGCTGGCCATGTGCACCTCATTCCATGCCATTCCAACAGTT...</td>\n",
       "      <td>NaN</td>\n",
       "      <td>NaN</td>\n",
       "      <td>NaN</td>\n",
       "    </tr>\n",
       "    <tr>\n",
       "      <th>DKFZP434K028</th>\n",
       "      <td>ENSG00000124915</td>\n",
       "      <td>DKFZP434K028</td>\n",
       "      <td>NaN</td>\n",
       "      <td>ENST00000536405|ENST00000541891|ENST00000244906</td>\n",
       "      <td>DKFZP434K028-202|DKFZP434K028-203|DKFZP434K028...</td>\n",
       "      <td>lincRNA</td>\n",
       "      <td>basic</td>\n",
       "      <td>chr11</td>\n",
       "      <td>61754029.0</td>\n",
       "      <td>61754445.0</td>\n",
       "      <td>-</td>\n",
       "      <td>lincRNA</td>\n",
       "      <td>AGGTGGGGCGGGCCCCACTGGATGTGCCAGGGACCAGGACCAGGCC...</td>\n",
       "      <td>NaN</td>\n",
       "      <td>NaN</td>\n",
       "      <td>NaN</td>\n",
       "    </tr>\n",
       "    <tr>\n",
       "      <th>LINC00029</th>\n",
       "      <td>ENSG00000125514</td>\n",
       "      <td>LINC00029</td>\n",
       "      <td>LINC00029</td>\n",
       "      <td>ENST00000414668|ENST00000370341|ENST00000456634</td>\n",
       "      <td>LINC00029-202|LINC00029-201|LINC00029-203</td>\n",
       "      <td>lincRNA</td>\n",
       "      <td>basic|non_canonical_polymorphism</td>\n",
       "      <td>chr20</td>\n",
       "      <td>63034383.0</td>\n",
       "      <td>63034709.0</td>\n",
       "      <td>-</td>\n",
       "      <td>lincRNA</td>\n",
       "      <td>AGCAAGTCAAGGGGACCCTCCCCTCCCGCTCCTCCCACACTGCACA...</td>\n",
       "      <td>NaN</td>\n",
       "      <td>NaN</td>\n",
       "      <td>NaN</td>\n",
       "    </tr>\n",
       "    <tr>\n",
       "      <th>FAM182A</th>\n",
       "      <td>ENSG00000125804</td>\n",
       "      <td>FAM182A</td>\n",
       "      <td>FAM182A</td>\n",
       "      <td>ENST00000376398|ENST00000389261|ENST0000043988...</td>\n",
       "      <td>FAM182A-201|FAM182A-202|FAM182A-203|FAM182A-20...</td>\n",
       "      <td>lincRNA|processed_transcript</td>\n",
       "      <td>basic|alternative_5_UTR</td>\n",
       "      <td>chr20</td>\n",
       "      <td>26082894.0</td>\n",
       "      <td>26082948.0</td>\n",
       "      <td>+</td>\n",
       "      <td>processed_transcript</td>\n",
       "      <td>TGAAATAGGAGCCAAGGTATGCTATGAGCCAAGGATTATGAGTAAT...</td>\n",
       "      <td>NaN</td>\n",
       "      <td>NaN</td>\n",
       "      <td>NaN</td>\n",
       "    </tr>\n",
       "    <tr>\n",
       "      <th>MMP24-AS1</th>\n",
       "      <td>ENSG00000126005</td>\n",
       "      <td>NaN</td>\n",
       "      <td>NaN</td>\n",
       "      <td>NaN</td>\n",
       "      <td>NaN</td>\n",
       "      <td>NaN</td>\n",
       "      <td>NaN</td>\n",
       "      <td>NaN</td>\n",
       "      <td>NaN</td>\n",
       "      <td>NaN</td>\n",
       "      <td>NaN</td>\n",
       "      <td>NaN</td>\n",
       "      <td>NaN</td>\n",
       "      <td>NaN</td>\n",
       "      <td>NaN</td>\n",
       "      <td>NaN</td>\n",
       "    </tr>\n",
       "    <tr>\n",
       "      <th>TTTY1B</th>\n",
       "      <td>ENSG00000129816</td>\n",
       "      <td>TTTY1B</td>\n",
       "      <td>TTTY1B</td>\n",
       "      <td>ENST00000250776</td>\n",
       "      <td>TTTY1B-201</td>\n",
       "      <td>lincRNA</td>\n",
       "      <td>basic</td>\n",
       "      <td>chrY</td>\n",
       "      <td>6411307.0</td>\n",
       "      <td>6411564.0</td>\n",
       "      <td>+</td>\n",
       "      <td>lincRNA</td>\n",
       "      <td>TGTCTGTCAGAGCTGTCAGCCTGCTTAAGCAGAGTAAAATGGTACA...</td>\n",
       "      <td>NaN</td>\n",
       "      <td>NaN</td>\n",
       "      <td>NaN</td>\n",
       "    </tr>\n",
       "    <tr>\n",
       "      <th>TTTY1</th>\n",
       "      <td>ENSG00000129845</td>\n",
       "      <td>TTTY1</td>\n",
       "      <td>TTTY1</td>\n",
       "      <td>ENST00000250805</td>\n",
       "      <td>TTTY1-201</td>\n",
       "      <td>lincRNA</td>\n",
       "      <td>basic</td>\n",
       "      <td>chrY</td>\n",
       "      <td>9753156.0</td>\n",
       "      <td>9753413.0</td>\n",
       "      <td>-</td>\n",
       "      <td>lincRNA</td>\n",
       "      <td>TGTCTGTCAGAGCTGTCAGCCTGCTTAAGCAGAGTAAAATGGTACA...</td>\n",
       "      <td>NaN</td>\n",
       "      <td>NaN</td>\n",
       "      <td>NaN</td>\n",
       "    </tr>\n",
       "    <tr>\n",
       "      <th>H19</th>\n",
       "      <td>ENSG00000130600</td>\n",
       "      <td>H19</td>\n",
       "      <td>H19</td>\n",
       "      <td>ENST00000442037|ENST00000417089|ENST0000041186...</td>\n",
       "      <td>H19-210|H19-204|H19-201|H19-209|H19-202|H19-20...</td>\n",
       "      <td>lincRNA|retained_intron</td>\n",
       "      <td>ncRNA_host|basic</td>\n",
       "      <td>chr11</td>\n",
       "      <td>1997076.0</td>\n",
       "      <td>1997514.0</td>\n",
       "      <td>-</td>\n",
       "      <td>processed_transcript</td>\n",
       "      <td>AGTTAGAAAAAGCCCGGGCTAGGACCGAGGAGCAGGGTGAGGGAGG...</td>\n",
       "      <td>adrenocortical carcinoma|atherosclerosis|beckw...</td>\n",
       "      <td>GO:0035068|GO:0035195</td>\n",
       "      <td>Rfam:RF00897</td>\n",
       "    </tr>\n",
       "    <tr>\n",
       "      <th>TTTY9B</th>\n",
       "      <td>ENSG00000131007</td>\n",
       "      <td>TTTY9B</td>\n",
       "      <td>TTTY9B</td>\n",
       "      <td>ENST00000545582|ENST00000433794</td>\n",
       "      <td>TTTY9B-202|TTTY9B-201</td>\n",
       "      <td>antisense</td>\n",
       "      <td>overlapping_locus|basic</td>\n",
       "      <td>chrY</td>\n",
       "      <td>18581206.0</td>\n",
       "      <td>18582348.0</td>\n",
       "      <td>-</td>\n",
       "      <td>antisense</td>\n",
       "      <td>AACAACAGCCCTGCTCTGGTCCCTCCAAAAGCCGACGAATCCACAC...</td>\n",
       "      <td>NaN</td>\n",
       "      <td>NaN</td>\n",
       "      <td>NaN</td>\n",
       "    </tr>\n",
       "    <tr>\n",
       "      <th>AC091132.1</th>\n",
       "      <td>ENSG00000131484</td>\n",
       "      <td>AC091132.1</td>\n",
       "      <td>NaN</td>\n",
       "      <td>ENST00000588189</td>\n",
       "      <td>AC091132.1-201</td>\n",
       "      <td>lincRNA</td>\n",
       "      <td>basic</td>\n",
       "      <td>chr17</td>\n",
       "      <td>45534505.0</td>\n",
       "      <td>45534710.0</td>\n",
       "      <td>+</td>\n",
       "      <td>lincRNA</td>\n",
       "      <td>CTTAAATGTACTGAAATCCTAACAGCTCTAGCTGAAAAAATGTCCA...</td>\n",
       "      <td>NaN</td>\n",
       "      <td>NaN</td>\n",
       "      <td>NaN</td>\n",
       "    </tr>\n",
       "    <tr>\n",
       "      <th>TTTY6</th>\n",
       "      <td>ENSG00000131538</td>\n",
       "      <td>TTTY6</td>\n",
       "      <td>TTTY6</td>\n",
       "      <td>ENST00000253838</td>\n",
       "      <td>TTTY6-201</td>\n",
       "      <td>lincRNA</td>\n",
       "      <td>basic</td>\n",
       "      <td>chrY</td>\n",
       "      <td>22439593.0</td>\n",
       "      <td>22439831.0</td>\n",
       "      <td>-</td>\n",
       "      <td>lincRNA</td>\n",
       "      <td>GATCATGAGACTATCCTGTGTATCCCACAAAGAAGACAGGCAAGAT...</td>\n",
       "      <td>NaN</td>\n",
       "      <td>NaN</td>\n",
       "      <td>NaN</td>\n",
       "    </tr>\n",
       "    <tr>\n",
       "      <th>TTTY6B</th>\n",
       "      <td>ENSG00000131548</td>\n",
       "      <td>TTTY6B</td>\n",
       "      <td>TTTY6B</td>\n",
       "      <td>ENST00000253848</td>\n",
       "      <td>TTTY6B-201</td>\n",
       "      <td>antisense</td>\n",
       "      <td>basic</td>\n",
       "      <td>chrY</td>\n",
       "      <td>22146593.0</td>\n",
       "      <td>22146831.0</td>\n",
       "      <td>+</td>\n",
       "      <td>antisense</td>\n",
       "      <td>GATCATGAGACTATCCTGTGTATCCCACAAAGAAGACAGGCAAGAT...</td>\n",
       "      <td>NaN</td>\n",
       "      <td>NaN</td>\n",
       "      <td>NaN</td>\n",
       "    </tr>\n",
       "    <tr>\n",
       "      <th>LINC00470</th>\n",
       "      <td>ENSG00000132204</td>\n",
       "      <td>LINC00470</td>\n",
       "      <td>LINC00470</td>\n",
       "      <td>ENST00000584090|ENST00000412816|ENST0000057786...</td>\n",
       "      <td>LINC00470-210|LINC00470-201|LINC00470-203|LINC...</td>\n",
       "      <td>lincRNA</td>\n",
       "      <td>overlapping_locus|basic</td>\n",
       "      <td>chr18</td>\n",
       "      <td>1368290.0</td>\n",
       "      <td>1368597.0</td>\n",
       "      <td>-</td>\n",
       "      <td>lincRNA</td>\n",
       "      <td>AATTTTTTGTATTTTTAGCAGAGACGGGGTTTCACCCTGTTAGCCA...</td>\n",
       "      <td>NaN</td>\n",
       "      <td>NaN</td>\n",
       "      <td>NaN</td>\n",
       "    </tr>\n",
       "    <tr>\n",
       "      <th>AL139352.1</th>\n",
       "      <td>ENSG00000132832</td>\n",
       "      <td>AL139352.1</td>\n",
       "      <td>NaN</td>\n",
       "      <td>ENST00000415889</td>\n",
       "      <td>AL139352.1-201</td>\n",
       "      <td>lincRNA</td>\n",
       "      <td>overlapping_locus|readthrough_transcript</td>\n",
       "      <td>chr20</td>\n",
       "      <td>44656451.0</td>\n",
       "      <td>44657051.0</td>\n",
       "      <td>-</td>\n",
       "      <td>lincRNA</td>\n",
       "      <td>GGACACACAGAAGTCACCATCTATAAGAAACAGGCTCCCACCAGAC...</td>\n",
       "      <td>NaN</td>\n",
       "      <td>NaN</td>\n",
       "      <td>NaN</td>\n",
       "    </tr>\n",
       "    <tr>\n",
       "      <th>ENSG00000135253</th>\n",
       "      <td>ENSG00000135253</td>\n",
       "      <td>NaN</td>\n",
       "      <td>NaN</td>\n",
       "      <td>NaN</td>\n",
       "      <td>NaN</td>\n",
       "      <td>NaN</td>\n",
       "      <td>NaN</td>\n",
       "      <td>NaN</td>\n",
       "      <td>NaN</td>\n",
       "      <td>NaN</td>\n",
       "      <td>NaN</td>\n",
       "      <td>NaN</td>\n",
       "      <td>NaN</td>\n",
       "      <td>NaN</td>\n",
       "      <td>NaN</td>\n",
       "      <td>NaN</td>\n",
       "    </tr>\n",
       "    <tr>\n",
       "      <th>AL355922.1</th>\n",
       "      <td>ENSG00000136315</td>\n",
       "      <td>AL355922.1</td>\n",
       "      <td>NaN</td>\n",
       "      <td>ENST00000555624</td>\n",
       "      <td>AL355922.1-201</td>\n",
       "      <td>lincRNA</td>\n",
       "      <td>basic</td>\n",
       "      <td>chr14</td>\n",
       "      <td>20920007.0</td>\n",
       "      <td>20920299.0</td>\n",
       "      <td>+</td>\n",
       "      <td>lincRNA</td>\n",
       "      <td>ACCAGCTGGATCAATTCTCATAGGAGCCACAGCGCGGAGACTGTGT...</td>\n",
       "      <td>NaN</td>\n",
       "      <td>NaN</td>\n",
       "      <td>NaN</td>\n",
       "    </tr>\n",
       "    <tr>\n",
       "      <th>ERVK3-1</th>\n",
       "      <td>ENSG00000142396</td>\n",
       "      <td>NaN</td>\n",
       "      <td>NaN</td>\n",
       "      <td>NaN</td>\n",
       "      <td>NaN</td>\n",
       "      <td>NaN</td>\n",
       "      <td>NaN</td>\n",
       "      <td>NaN</td>\n",
       "      <td>NaN</td>\n",
       "      <td>NaN</td>\n",
       "      <td>NaN</td>\n",
       "      <td>NaN</td>\n",
       "      <td>NaN</td>\n",
       "      <td>NaN</td>\n",
       "      <td>NaN</td>\n",
       "      <td>NaN</td>\n",
       "    </tr>\n",
       "    <tr>\n",
       "      <th>ENSG00000144596</th>\n",
       "      <td>ENSG00000144596</td>\n",
       "      <td>NaN</td>\n",
       "      <td>NaN</td>\n",
       "      <td>NaN</td>\n",
       "      <td>NaN</td>\n",
       "      <td>NaN</td>\n",
       "      <td>NaN</td>\n",
       "      <td>NaN</td>\n",
       "      <td>NaN</td>\n",
       "      <td>NaN</td>\n",
       "      <td>NaN</td>\n",
       "      <td>NaN</td>\n",
       "      <td>NaN</td>\n",
       "      <td>NaN</td>\n",
       "      <td>NaN</td>\n",
       "      <td>NaN</td>\n",
       "    </tr>\n",
       "    <tr>\n",
       "      <th>...</th>\n",
       "      <td>...</td>\n",
       "      <td>...</td>\n",
       "      <td>...</td>\n",
       "      <td>...</td>\n",
       "      <td>...</td>\n",
       "      <td>...</td>\n",
       "      <td>...</td>\n",
       "      <td>...</td>\n",
       "      <td>...</td>\n",
       "      <td>...</td>\n",
       "      <td>...</td>\n",
       "      <td>...</td>\n",
       "      <td>...</td>\n",
       "      <td>...</td>\n",
       "      <td>...</td>\n",
       "      <td>...</td>\n",
       "    </tr>\n",
       "    <tr>\n",
       "      <th>AC004067.1</th>\n",
       "      <td>ENSG00000273447</td>\n",
       "      <td>AC004067.1</td>\n",
       "      <td>NaN</td>\n",
       "      <td>ENST00000608733</td>\n",
       "      <td>AC004067.1-201</td>\n",
       "      <td>antisense</td>\n",
       "      <td>basic</td>\n",
       "      <td>chr4</td>\n",
       "      <td>109692004.0</td>\n",
       "      <td>109692703.0</td>\n",
       "      <td>+</td>\n",
       "      <td>antisense</td>\n",
       "      <td>TCACCCTATACACGAATACAGCCAGCCAATAAGATTCTGTTGTAGC...</td>\n",
       "      <td>NaN</td>\n",
       "      <td>NaN</td>\n",
       "      <td>NaN</td>\n",
       "    </tr>\n",
       "    <tr>\n",
       "      <th>AC006480.2</th>\n",
       "      <td>ENSG00000273448</td>\n",
       "      <td>AC006480.2</td>\n",
       "      <td>NaN</td>\n",
       "      <td>ENST00000609770</td>\n",
       "      <td>AC006480.2-201</td>\n",
       "      <td>lincRNA</td>\n",
       "      <td>overlapping_locus|basic</td>\n",
       "      <td>chr7</td>\n",
       "      <td>67333047.0</td>\n",
       "      <td>67334383.0</td>\n",
       "      <td>+</td>\n",
       "      <td>lincRNA</td>\n",
       "      <td>CCTCAAACTTCACTTTCAGTGGAGTTTGGTAGCACTTCCGGTCTCA...</td>\n",
       "      <td>NaN</td>\n",
       "      <td>NaN</td>\n",
       "      <td>NaN</td>\n",
       "    </tr>\n",
       "    <tr>\n",
       "      <th>AC093788.1</th>\n",
       "      <td>ENSG00000273449</td>\n",
       "      <td>AC093788.1</td>\n",
       "      <td>NaN</td>\n",
       "      <td>ENST00000609356</td>\n",
       "      <td>AC093788.1-201</td>\n",
       "      <td>lincRNA</td>\n",
       "      <td>basic</td>\n",
       "      <td>chr4</td>\n",
       "      <td>163529771.0</td>\n",
       "      <td>163530697.0</td>\n",
       "      <td>+</td>\n",
       "      <td>lincRNA</td>\n",
       "      <td>TTCACAGGCATTTCAGTGACTACAACAGTGAGTATTTAGGCAATAC...</td>\n",
       "      <td>NaN</td>\n",
       "      <td>NaN</td>\n",
       "      <td>NaN</td>\n",
       "    </tr>\n",
       "    <tr>\n",
       "      <th>AL031666.3</th>\n",
       "      <td>ENSG00000273451</td>\n",
       "      <td>AL031666.3</td>\n",
       "      <td>NaN</td>\n",
       "      <td>ENST00000609320</td>\n",
       "      <td>AL031666.3-201</td>\n",
       "      <td>sense_intronic</td>\n",
       "      <td>overlapping_locus|basic</td>\n",
       "      <td>chr20</td>\n",
       "      <td>47348137.0</td>\n",
       "      <td>47349142.0</td>\n",
       "      <td>-</td>\n",
       "      <td>sense_intronic</td>\n",
       "      <td>TCTCCTTATACTAGGGTTCGAGACATGAGGCTGTCTTTTTGGGCCT...</td>\n",
       "      <td>NaN</td>\n",
       "      <td>NaN</td>\n",
       "      <td>NaN</td>\n",
       "    </tr>\n",
       "    <tr>\n",
       "      <th>AC112503.2</th>\n",
       "      <td>ENSG00000273454</td>\n",
       "      <td>AC112503.2</td>\n",
       "      <td>NaN</td>\n",
       "      <td>ENST00000609005</td>\n",
       "      <td>AC112503.2-201</td>\n",
       "      <td>lincRNA</td>\n",
       "      <td>basic</td>\n",
       "      <td>chr3</td>\n",
       "      <td>123277353.0</td>\n",
       "      <td>123277904.0</td>\n",
       "      <td>+</td>\n",
       "      <td>lincRNA</td>\n",
       "      <td>CAGTGTGAACAGATGAAGCAGACAGGAAGGGGGAAATGGCAATGTA...</td>\n",
       "      <td>NaN</td>\n",
       "      <td>NaN</td>\n",
       "      <td>NaN</td>\n",
       "    </tr>\n",
       "    <tr>\n",
       "      <th>AC064836.3</th>\n",
       "      <td>ENSG00000273456</td>\n",
       "      <td>AC064836.3</td>\n",
       "      <td>NaN</td>\n",
       "      <td>ENST00000607928</td>\n",
       "      <td>AC064836.3-201</td>\n",
       "      <td>lincRNA</td>\n",
       "      <td>basic</td>\n",
       "      <td>chr2</td>\n",
       "      <td>202374932.0</td>\n",
       "      <td>202375604.0</td>\n",
       "      <td>-</td>\n",
       "      <td>lincRNA</td>\n",
       "      <td>TTGCAAGGATGCGAAGCCAGAAAAAAAAAAAAGACTTTTAATTCTA...</td>\n",
       "      <td>NaN</td>\n",
       "      <td>NaN</td>\n",
       "      <td>NaN</td>\n",
       "    </tr>\n",
       "    <tr>\n",
       "      <th>AC105265.3</th>\n",
       "      <td>ENSG00000273461</td>\n",
       "      <td>AC105265.3</td>\n",
       "      <td>NaN</td>\n",
       "      <td>ENST00000608555|ENST00000610188</td>\n",
       "      <td>AC105265.3-201|AC105265.3-202</td>\n",
       "      <td>lincRNA</td>\n",
       "      <td>nested_454_RNA_Seq_supported|basic</td>\n",
       "      <td>chr3</td>\n",
       "      <td>72069809.0</td>\n",
       "      <td>72069933.0</td>\n",
       "      <td>+</td>\n",
       "      <td>lincRNA</td>\n",
       "      <td>TGGGATTGCAAGCTAGCTTCAACCAGGCACTTTCCTGTGGGGGAGG...</td>\n",
       "      <td>NaN</td>\n",
       "      <td>NaN</td>\n",
       "      <td>NaN</td>\n",
       "    </tr>\n",
       "    <tr>\n",
       "      <th>AP000238.1</th>\n",
       "      <td>ENSG00000273464</td>\n",
       "      <td>AP000238.1</td>\n",
       "      <td>NaN</td>\n",
       "      <td>ENST00000608759</td>\n",
       "      <td>AP000238.1-201</td>\n",
       "      <td>antisense</td>\n",
       "      <td>basic</td>\n",
       "      <td>chr21</td>\n",
       "      <td>29657406.0</td>\n",
       "      <td>29657831.0</td>\n",
       "      <td>+</td>\n",
       "      <td>antisense</td>\n",
       "      <td>TCATTTGACATGCCTCTCAGCGTTAGGAAAGAGATATTAAAATGCA...</td>\n",
       "      <td>NaN</td>\n",
       "      <td>NaN</td>\n",
       "      <td>NaN</td>\n",
       "    </tr>\n",
       "    <tr>\n",
       "      <th>AC112229.4</th>\n",
       "      <td>ENSG00000273471</td>\n",
       "      <td>AC112229.4</td>\n",
       "      <td>NaN</td>\n",
       "      <td>ENST00000488671</td>\n",
       "      <td>AC112229.4-201</td>\n",
       "      <td>processed_transcript</td>\n",
       "      <td>overlapping_locus|readthrough_transcript</td>\n",
       "      <td>chr2</td>\n",
       "      <td>110386411.0</td>\n",
       "      <td>110387397.0</td>\n",
       "      <td>-</td>\n",
       "      <td>processed_transcript</td>\n",
       "      <td>CACGCAATAAACAGTTATAAAAGGTAATTGTTGAGATCAGGGGAAG...</td>\n",
       "      <td>NaN</td>\n",
       "      <td>NaN</td>\n",
       "      <td>NaN</td>\n",
       "    </tr>\n",
       "    <tr>\n",
       "      <th>AC096733.2</th>\n",
       "      <td>ENSG00000273472</td>\n",
       "      <td>AC096733.2</td>\n",
       "      <td>NaN</td>\n",
       "      <td>ENST00000609937</td>\n",
       "      <td>AC096733.2-201</td>\n",
       "      <td>lincRNA</td>\n",
       "      <td>basic</td>\n",
       "      <td>chr4</td>\n",
       "      <td>140756528.0</td>\n",
       "      <td>140757921.0</td>\n",
       "      <td>+</td>\n",
       "      <td>lincRNA</td>\n",
       "      <td>CTCCCGCGGCGCCGACTGGAGCTCCAGAGCCCCTCCCGTCTCTACC...</td>\n",
       "      <td>NaN</td>\n",
       "      <td>NaN</td>\n",
       "      <td>NaN</td>\n",
       "    </tr>\n",
       "    <tr>\n",
       "      <th>BX649601.1</th>\n",
       "      <td>ENSG00000273473</td>\n",
       "      <td>BX649601.1</td>\n",
       "      <td>NaN</td>\n",
       "      <td>ENST00000608264</td>\n",
       "      <td>BX649601.1-201</td>\n",
       "      <td>lincRNA</td>\n",
       "      <td>basic</td>\n",
       "      <td>chr9</td>\n",
       "      <td>134168769.0</td>\n",
       "      <td>134169340.0</td>\n",
       "      <td>+</td>\n",
       "      <td>lincRNA</td>\n",
       "      <td>AGGAAAACAGTGCAGGTAGGAGAAAAGAGGGGCCTGGGAAGGGAAG...</td>\n",
       "      <td>NaN</td>\n",
       "      <td>NaN</td>\n",
       "      <td>NaN</td>\n",
       "    </tr>\n",
       "    <tr>\n",
       "      <th>AL157392.4</th>\n",
       "      <td>ENSG00000273474</td>\n",
       "      <td>AL157392.4</td>\n",
       "      <td>NaN</td>\n",
       "      <td>ENST00000609756</td>\n",
       "      <td>AL157392.4-201</td>\n",
       "      <td>antisense</td>\n",
       "      <td>basic</td>\n",
       "      <td>chr10</td>\n",
       "      <td>13675646.0</td>\n",
       "      <td>13675990.0</td>\n",
       "      <td>+</td>\n",
       "      <td>antisense</td>\n",
       "      <td>CTGCCTTGGCCTCCCAAAGTGCTGGGATTCCAGGTGTAAGCCACCG...</td>\n",
       "      <td>NaN</td>\n",
       "      <td>NaN</td>\n",
       "      <td>NaN</td>\n",
       "    </tr>\n",
       "    <tr>\n",
       "      <th>AL133215.3</th>\n",
       "      <td>ENSG00000273476</td>\n",
       "      <td>AL133215.3</td>\n",
       "      <td>NaN</td>\n",
       "      <td>ENST00000609801</td>\n",
       "      <td>AL133215.3-201</td>\n",
       "      <td>lincRNA</td>\n",
       "      <td>basic</td>\n",
       "      <td>chr10</td>\n",
       "      <td>100967688.0</td>\n",
       "      <td>100968135.0</td>\n",
       "      <td>+</td>\n",
       "      <td>lincRNA</td>\n",
       "      <td>GACTGGTCTTCCCACCTCAGACGTCCTTACTCAGTCCATCATCTCT...</td>\n",
       "      <td>NaN</td>\n",
       "      <td>NaN</td>\n",
       "      <td>NaN</td>\n",
       "    </tr>\n",
       "    <tr>\n",
       "      <th>AL391069.4</th>\n",
       "      <td>ENSG00000273481</td>\n",
       "      <td>AL391069.4</td>\n",
       "      <td>NaN</td>\n",
       "      <td>ENST00000609583</td>\n",
       "      <td>AL391069.4-201</td>\n",
       "      <td>lincRNA</td>\n",
       "      <td>basic</td>\n",
       "      <td>chr1</td>\n",
       "      <td>151327949.0</td>\n",
       "      <td>151328429.0</td>\n",
       "      <td>+</td>\n",
       "      <td>lincRNA</td>\n",
       "      <td>TGTAAACGACCGTTTGAGTAACTAACCAAATTACCGTAATTGCAAT...</td>\n",
       "      <td>NaN</td>\n",
       "      <td>NaN</td>\n",
       "      <td>NaN</td>\n",
       "    </tr>\n",
       "    <tr>\n",
       "      <th>AL354760.1</th>\n",
       "      <td>ENSG00000273483</td>\n",
       "      <td>AL354760.1</td>\n",
       "      <td>NaN</td>\n",
       "      <td>ENST00000608357</td>\n",
       "      <td>AL354760.1-201</td>\n",
       "      <td>antisense</td>\n",
       "      <td>basic</td>\n",
       "      <td>chr1</td>\n",
       "      <td>112517799.0</td>\n",
       "      <td>112518441.0</td>\n",
       "      <td>-</td>\n",
       "      <td>antisense</td>\n",
       "      <td>ACTCCAAGCCACTTGACTCTTCCAGGAATGACAGTGATGGGTGAAA...</td>\n",
       "      <td>NaN</td>\n",
       "      <td>NaN</td>\n",
       "      <td>NaN</td>\n",
       "    </tr>\n",
       "    <tr>\n",
       "      <th>AC096992.2</th>\n",
       "      <td>ENSG00000273486</td>\n",
       "      <td>AC096992.2</td>\n",
       "      <td>NaN</td>\n",
       "      <td>ENST00000609553</td>\n",
       "      <td>AC096992.2-201</td>\n",
       "      <td>antisense</td>\n",
       "      <td>basic</td>\n",
       "      <td>chr3</td>\n",
       "      <td>136837338.0</td>\n",
       "      <td>136839021.0</td>\n",
       "      <td>-</td>\n",
       "      <td>antisense</td>\n",
       "      <td>AGAAGCAGGAATAAAATGATCTTTTCTATTTCCATGATTTTTTATG...</td>\n",
       "      <td>NaN</td>\n",
       "      <td>NaN</td>\n",
       "      <td>NaN</td>\n",
       "    </tr>\n",
       "    <tr>\n",
       "      <th>AC104836.1</th>\n",
       "      <td>ENSG00000273487</td>\n",
       "      <td>AC104836.1</td>\n",
       "      <td>NaN</td>\n",
       "      <td>ENST00000609675</td>\n",
       "      <td>AC104836.1-201</td>\n",
       "      <td>lincRNA</td>\n",
       "      <td>basic</td>\n",
       "      <td>chr1</td>\n",
       "      <td>92189824.0</td>\n",
       "      <td>92190707.0</td>\n",
       "      <td>+</td>\n",
       "      <td>lincRNA</td>\n",
       "      <td>TCAAAGTGGTGGGATAACAAAAGTTTTTTTTTTGCTTTTTAAAAAA...</td>\n",
       "      <td>NaN</td>\n",
       "      <td>NaN</td>\n",
       "      <td>NaN</td>\n",
       "    </tr>\n",
       "    <tr>\n",
       "      <th>ENSG00000273488</th>\n",
       "      <td>ENSG00000273488</td>\n",
       "      <td>NaN</td>\n",
       "      <td>NaN</td>\n",
       "      <td>NaN</td>\n",
       "      <td>NaN</td>\n",
       "      <td>NaN</td>\n",
       "      <td>NaN</td>\n",
       "      <td>NaN</td>\n",
       "      <td>NaN</td>\n",
       "      <td>NaN</td>\n",
       "      <td>NaN</td>\n",
       "      <td>NaN</td>\n",
       "      <td>NaN</td>\n",
       "      <td>NaN</td>\n",
       "      <td>NaN</td>\n",
       "      <td>NaN</td>\n",
       "    </tr>\n",
       "    <tr>\n",
       "      <th>AP000229.1</th>\n",
       "      <td>ENSG00000273492</td>\n",
       "      <td>AP000229.1</td>\n",
       "      <td>NaN</td>\n",
       "      <td>ENST00000608591|ENST00000609365</td>\n",
       "      <td>AP000229.1-201|AP000229.1-202</td>\n",
       "      <td>lincRNA</td>\n",
       "      <td>overlapping_locus|basic</td>\n",
       "      <td>chr21</td>\n",
       "      <td>26215702.0</td>\n",
       "      <td>26215941.0</td>\n",
       "      <td>+</td>\n",
       "      <td>lincRNA</td>\n",
       "      <td>AACTGCGCCCGCTCGCGCCGGGAGGGGCCCTCGCGCCCCGCGCCCA...</td>\n",
       "      <td>NaN</td>\n",
       "      <td>NaN</td>\n",
       "      <td>NaN</td>\n",
       "    </tr>\n",
       "    <tr>\n",
       "      <th>AC098479.1</th>\n",
       "      <td>ENSG00000273493</td>\n",
       "      <td>AC098479.1</td>\n",
       "      <td>NaN</td>\n",
       "      <td>ENST00000609225</td>\n",
       "      <td>AC098479.1-201</td>\n",
       "      <td>lincRNA</td>\n",
       "      <td>basic</td>\n",
       "      <td>chr3</td>\n",
       "      <td>58329965.0</td>\n",
       "      <td>58330118.0</td>\n",
       "      <td>+</td>\n",
       "      <td>lincRNA</td>\n",
       "      <td>GTGTGAGCCTCTGTACTCAGCCCATATTTTGATATATTTTCTTCTG...</td>\n",
       "      <td>NaN</td>\n",
       "      <td>NaN</td>\n",
       "      <td>NaN</td>\n",
       "    </tr>\n",
       "    <tr>\n",
       "      <th>ENSGR0000185203</th>\n",
       "      <td>ENSGR0000185203</td>\n",
       "      <td>NaN</td>\n",
       "      <td>NaN</td>\n",
       "      <td>NaN</td>\n",
       "      <td>NaN</td>\n",
       "      <td>NaN</td>\n",
       "      <td>NaN</td>\n",
       "      <td>NaN</td>\n",
       "      <td>NaN</td>\n",
       "      <td>NaN</td>\n",
       "      <td>NaN</td>\n",
       "      <td>NaN</td>\n",
       "      <td>NaN</td>\n",
       "      <td>NaN</td>\n",
       "      <td>NaN</td>\n",
       "      <td>NaN</td>\n",
       "    </tr>\n",
       "    <tr>\n",
       "      <th>ENSGR0000223511</th>\n",
       "      <td>ENSGR0000223511</td>\n",
       "      <td>NaN</td>\n",
       "      <td>NaN</td>\n",
       "      <td>NaN</td>\n",
       "      <td>NaN</td>\n",
       "      <td>NaN</td>\n",
       "      <td>NaN</td>\n",
       "      <td>NaN</td>\n",
       "      <td>NaN</td>\n",
       "      <td>NaN</td>\n",
       "      <td>NaN</td>\n",
       "      <td>NaN</td>\n",
       "      <td>NaN</td>\n",
       "      <td>NaN</td>\n",
       "      <td>NaN</td>\n",
       "      <td>NaN</td>\n",
       "    </tr>\n",
       "    <tr>\n",
       "      <th>ENSGR0000223571</th>\n",
       "      <td>ENSGR0000223571</td>\n",
       "      <td>NaN</td>\n",
       "      <td>NaN</td>\n",
       "      <td>NaN</td>\n",
       "      <td>NaN</td>\n",
       "      <td>NaN</td>\n",
       "      <td>NaN</td>\n",
       "      <td>NaN</td>\n",
       "      <td>NaN</td>\n",
       "      <td>NaN</td>\n",
       "      <td>NaN</td>\n",
       "      <td>NaN</td>\n",
       "      <td>NaN</td>\n",
       "      <td>NaN</td>\n",
       "      <td>NaN</td>\n",
       "      <td>NaN</td>\n",
       "    </tr>\n",
       "    <tr>\n",
       "      <th>ENSGR0000226179</th>\n",
       "      <td>ENSGR0000226179</td>\n",
       "      <td>NaN</td>\n",
       "      <td>NaN</td>\n",
       "      <td>NaN</td>\n",
       "      <td>NaN</td>\n",
       "      <td>NaN</td>\n",
       "      <td>NaN</td>\n",
       "      <td>NaN</td>\n",
       "      <td>NaN</td>\n",
       "      <td>NaN</td>\n",
       "      <td>NaN</td>\n",
       "      <td>NaN</td>\n",
       "      <td>NaN</td>\n",
       "      <td>NaN</td>\n",
       "      <td>NaN</td>\n",
       "      <td>NaN</td>\n",
       "    </tr>\n",
       "    <tr>\n",
       "      <th>ENSGR0000230542</th>\n",
       "      <td>ENSGR0000230542</td>\n",
       "      <td>NaN</td>\n",
       "      <td>NaN</td>\n",
       "      <td>NaN</td>\n",
       "      <td>NaN</td>\n",
       "      <td>NaN</td>\n",
       "      <td>NaN</td>\n",
       "      <td>NaN</td>\n",
       "      <td>NaN</td>\n",
       "      <td>NaN</td>\n",
       "      <td>NaN</td>\n",
       "      <td>NaN</td>\n",
       "      <td>NaN</td>\n",
       "      <td>NaN</td>\n",
       "      <td>NaN</td>\n",
       "      <td>NaN</td>\n",
       "    </tr>\n",
       "    <tr>\n",
       "      <th>ENSGR0000234622</th>\n",
       "      <td>ENSGR0000234622</td>\n",
       "      <td>NaN</td>\n",
       "      <td>NaN</td>\n",
       "      <td>NaN</td>\n",
       "      <td>NaN</td>\n",
       "      <td>NaN</td>\n",
       "      <td>NaN</td>\n",
       "      <td>NaN</td>\n",
       "      <td>NaN</td>\n",
       "      <td>NaN</td>\n",
       "      <td>NaN</td>\n",
       "      <td>NaN</td>\n",
       "      <td>NaN</td>\n",
       "      <td>NaN</td>\n",
       "      <td>NaN</td>\n",
       "      <td>NaN</td>\n",
       "    </tr>\n",
       "    <tr>\n",
       "      <th>ENSGR0000236017</th>\n",
       "      <td>ENSGR0000236017</td>\n",
       "      <td>NaN</td>\n",
       "      <td>NaN</td>\n",
       "      <td>NaN</td>\n",
       "      <td>NaN</td>\n",
       "      <td>NaN</td>\n",
       "      <td>NaN</td>\n",
       "      <td>NaN</td>\n",
       "      <td>NaN</td>\n",
       "      <td>NaN</td>\n",
       "      <td>NaN</td>\n",
       "      <td>NaN</td>\n",
       "      <td>NaN</td>\n",
       "      <td>NaN</td>\n",
       "      <td>NaN</td>\n",
       "      <td>NaN</td>\n",
       "    </tr>\n",
       "    <tr>\n",
       "      <th>ENSGR0000236871</th>\n",
       "      <td>ENSGR0000236871</td>\n",
       "      <td>NaN</td>\n",
       "      <td>NaN</td>\n",
       "      <td>NaN</td>\n",
       "      <td>NaN</td>\n",
       "      <td>NaN</td>\n",
       "      <td>NaN</td>\n",
       "      <td>NaN</td>\n",
       "      <td>NaN</td>\n",
       "      <td>NaN</td>\n",
       "      <td>NaN</td>\n",
       "      <td>NaN</td>\n",
       "      <td>NaN</td>\n",
       "      <td>NaN</td>\n",
       "      <td>NaN</td>\n",
       "      <td>NaN</td>\n",
       "    </tr>\n",
       "    <tr>\n",
       "      <th>ENSGR0000237531</th>\n",
       "      <td>ENSGR0000237531</td>\n",
       "      <td>NaN</td>\n",
       "      <td>NaN</td>\n",
       "      <td>NaN</td>\n",
       "      <td>NaN</td>\n",
       "      <td>NaN</td>\n",
       "      <td>NaN</td>\n",
       "      <td>NaN</td>\n",
       "      <td>NaN</td>\n",
       "      <td>NaN</td>\n",
       "      <td>NaN</td>\n",
       "      <td>NaN</td>\n",
       "      <td>NaN</td>\n",
       "      <td>NaN</td>\n",
       "      <td>NaN</td>\n",
       "      <td>NaN</td>\n",
       "    </tr>\n",
       "    <tr>\n",
       "      <th>ENSGR0000270726</th>\n",
       "      <td>ENSGR0000270726</td>\n",
       "      <td>NaN</td>\n",
       "      <td>NaN</td>\n",
       "      <td>NaN</td>\n",
       "      <td>NaN</td>\n",
       "      <td>NaN</td>\n",
       "      <td>NaN</td>\n",
       "      <td>NaN</td>\n",
       "      <td>NaN</td>\n",
       "      <td>NaN</td>\n",
       "      <td>NaN</td>\n",
       "      <td>NaN</td>\n",
       "      <td>NaN</td>\n",
       "      <td>NaN</td>\n",
       "      <td>NaN</td>\n",
       "      <td>NaN</td>\n",
       "    </tr>\n",
       "  </tbody>\n",
       "</table>\n",
       "<p>12706 rows × 16 columns</p>\n",
       "</div>"
      ],
      "text/plain": [
       "                         Gene ID     Gene Name HGNC Gene Name  \\\n",
       "ENSG00000005206  ENSG00000005206           NaN            NaN   \n",
       "ENSG00000031544  ENSG00000031544           NaN            NaN   \n",
       "AC000061.1       ENSG00000083622    AC000061.1            NaN   \n",
       "ENSG00000088970  ENSG00000088970           NaN            NaN   \n",
       "IGF2-AS          ENSG00000099869       IGF2-AS        IGF2-AS   \n",
       "TPTEP1           ENSG00000100181           NaN            NaN   \n",
       "ENSG00000104691  ENSG00000104691           NaN            NaN   \n",
       "ENSG00000110347  ENSG00000110347           NaN            NaN   \n",
       "AC087235.1       ENSG00000115934    AC087235.1            NaN   \n",
       "PINK1-AS         ENSG00000117242      PINK1-AS       PINK1-AS   \n",
       "ENSG00000118412  ENSG00000118412           NaN            NaN   \n",
       "LINC00544        ENSG00000122043     LINC00544      LINC00544   \n",
       "AC105760.1       ENSG00000124835    AC105760.1            NaN   \n",
       "DKFZP434K028     ENSG00000124915  DKFZP434K028            NaN   \n",
       "LINC00029        ENSG00000125514     LINC00029      LINC00029   \n",
       "FAM182A          ENSG00000125804       FAM182A        FAM182A   \n",
       "MMP24-AS1        ENSG00000126005           NaN            NaN   \n",
       "TTTY1B           ENSG00000129816        TTTY1B         TTTY1B   \n",
       "TTTY1            ENSG00000129845         TTTY1          TTTY1   \n",
       "H19              ENSG00000130600           H19            H19   \n",
       "TTTY9B           ENSG00000131007        TTTY9B         TTTY9B   \n",
       "AC091132.1       ENSG00000131484    AC091132.1            NaN   \n",
       "TTTY6            ENSG00000131538         TTTY6          TTTY6   \n",
       "TTTY6B           ENSG00000131548        TTTY6B         TTTY6B   \n",
       "LINC00470        ENSG00000132204     LINC00470      LINC00470   \n",
       "AL139352.1       ENSG00000132832    AL139352.1            NaN   \n",
       "ENSG00000135253  ENSG00000135253           NaN            NaN   \n",
       "AL355922.1       ENSG00000136315    AL355922.1            NaN   \n",
       "ERVK3-1          ENSG00000142396           NaN            NaN   \n",
       "ENSG00000144596  ENSG00000144596           NaN            NaN   \n",
       "...                          ...           ...            ...   \n",
       "AC004067.1       ENSG00000273447    AC004067.1            NaN   \n",
       "AC006480.2       ENSG00000273448    AC006480.2            NaN   \n",
       "AC093788.1       ENSG00000273449    AC093788.1            NaN   \n",
       "AL031666.3       ENSG00000273451    AL031666.3            NaN   \n",
       "AC112503.2       ENSG00000273454    AC112503.2            NaN   \n",
       "AC064836.3       ENSG00000273456    AC064836.3            NaN   \n",
       "AC105265.3       ENSG00000273461    AC105265.3            NaN   \n",
       "AP000238.1       ENSG00000273464    AP000238.1            NaN   \n",
       "AC112229.4       ENSG00000273471    AC112229.4            NaN   \n",
       "AC096733.2       ENSG00000273472    AC096733.2            NaN   \n",
       "BX649601.1       ENSG00000273473    BX649601.1            NaN   \n",
       "AL157392.4       ENSG00000273474    AL157392.4            NaN   \n",
       "AL133215.3       ENSG00000273476    AL133215.3            NaN   \n",
       "AL391069.4       ENSG00000273481    AL391069.4            NaN   \n",
       "AL354760.1       ENSG00000273483    AL354760.1            NaN   \n",
       "AC096992.2       ENSG00000273486    AC096992.2            NaN   \n",
       "AC104836.1       ENSG00000273487    AC104836.1            NaN   \n",
       "ENSG00000273488  ENSG00000273488           NaN            NaN   \n",
       "AP000229.1       ENSG00000273492    AP000229.1            NaN   \n",
       "AC098479.1       ENSG00000273493    AC098479.1            NaN   \n",
       "ENSGR0000185203  ENSGR0000185203           NaN            NaN   \n",
       "ENSGR0000223511  ENSGR0000223511           NaN            NaN   \n",
       "ENSGR0000223571  ENSGR0000223571           NaN            NaN   \n",
       "ENSGR0000226179  ENSGR0000226179           NaN            NaN   \n",
       "ENSGR0000230542  ENSGR0000230542           NaN            NaN   \n",
       "ENSGR0000234622  ENSGR0000234622           NaN            NaN   \n",
       "ENSGR0000236017  ENSGR0000236017           NaN            NaN   \n",
       "ENSGR0000236871  ENSGR0000236871           NaN            NaN   \n",
       "ENSGR0000237531  ENSGR0000237531           NaN            NaN   \n",
       "ENSGR0000270726  ENSGR0000270726           NaN            NaN   \n",
       "\n",
       "                                                     Transcript id  \\\n",
       "ENSG00000005206                                                NaN   \n",
       "ENSG00000031544                                                NaN   \n",
       "AC000061.1                                         ENST00000456270   \n",
       "ENSG00000088970                                                NaN   \n",
       "IGF2-AS            ENST00000445504|ENST00000381361|ENST00000381363   \n",
       "TPTEP1                                                         NaN   \n",
       "ENSG00000104691                                                NaN   \n",
       "ENSG00000110347                                                NaN   \n",
       "AC087235.1                                         ENST00000538297   \n",
       "PINK1-AS                                           ENST00000451424   \n",
       "ENSG00000118412                                                NaN   \n",
       "LINC00544                          ENST00000400540|ENST00000481738   \n",
       "AC105760.1                                         ENST00000244820   \n",
       "DKFZP434K028       ENST00000536405|ENST00000541891|ENST00000244906   \n",
       "LINC00029          ENST00000414668|ENST00000370341|ENST00000456634   \n",
       "FAM182A          ENST00000376398|ENST00000389261|ENST0000043988...   \n",
       "MMP24-AS1                                                      NaN   \n",
       "TTTY1B                                             ENST00000250776   \n",
       "TTTY1                                              ENST00000250805   \n",
       "H19              ENST00000442037|ENST00000417089|ENST0000041186...   \n",
       "TTTY9B                             ENST00000545582|ENST00000433794   \n",
       "AC091132.1                                         ENST00000588189   \n",
       "TTTY6                                              ENST00000253838   \n",
       "TTTY6B                                             ENST00000253848   \n",
       "LINC00470        ENST00000584090|ENST00000412816|ENST0000057786...   \n",
       "AL139352.1                                         ENST00000415889   \n",
       "ENSG00000135253                                                NaN   \n",
       "AL355922.1                                         ENST00000555624   \n",
       "ERVK3-1                                                        NaN   \n",
       "ENSG00000144596                                                NaN   \n",
       "...                                                            ...   \n",
       "AC004067.1                                         ENST00000608733   \n",
       "AC006480.2                                         ENST00000609770   \n",
       "AC093788.1                                         ENST00000609356   \n",
       "AL031666.3                                         ENST00000609320   \n",
       "AC112503.2                                         ENST00000609005   \n",
       "AC064836.3                                         ENST00000607928   \n",
       "AC105265.3                         ENST00000608555|ENST00000610188   \n",
       "AP000238.1                                         ENST00000608759   \n",
       "AC112229.4                                         ENST00000488671   \n",
       "AC096733.2                                         ENST00000609937   \n",
       "BX649601.1                                         ENST00000608264   \n",
       "AL157392.4                                         ENST00000609756   \n",
       "AL133215.3                                         ENST00000609801   \n",
       "AL391069.4                                         ENST00000609583   \n",
       "AL354760.1                                         ENST00000608357   \n",
       "AC096992.2                                         ENST00000609553   \n",
       "AC104836.1                                         ENST00000609675   \n",
       "ENSG00000273488                                                NaN   \n",
       "AP000229.1                         ENST00000608591|ENST00000609365   \n",
       "AC098479.1                                         ENST00000609225   \n",
       "ENSGR0000185203                                                NaN   \n",
       "ENSGR0000223511                                                NaN   \n",
       "ENSGR0000223571                                                NaN   \n",
       "ENSGR0000226179                                                NaN   \n",
       "ENSGR0000230542                                                NaN   \n",
       "ENSGR0000234622                                                NaN   \n",
       "ENSGR0000236017                                                NaN   \n",
       "ENSGR0000236871                                                NaN   \n",
       "ENSGR0000237531                                                NaN   \n",
       "ENSGR0000270726                                                NaN   \n",
       "\n",
       "                                                   Transcript name  \\\n",
       "ENSG00000005206                                                NaN   \n",
       "ENSG00000031544                                                NaN   \n",
       "AC000061.1                                          AC000061.1-201   \n",
       "ENSG00000088970                                                NaN   \n",
       "IGF2-AS                        IGF2-AS-203|IGF2-AS-201|IGF2-AS-202   \n",
       "TPTEP1                                                         NaN   \n",
       "ENSG00000104691                                                NaN   \n",
       "ENSG00000110347                                                NaN   \n",
       "AC087235.1                                          AC087235.1-201   \n",
       "PINK1-AS                                              PINK1-AS-201   \n",
       "ENSG00000118412                                                NaN   \n",
       "LINC00544                              LINC00544-201|LINC00544-202   \n",
       "AC105760.1                                          AC105760.1-201   \n",
       "DKFZP434K028     DKFZP434K028-202|DKFZP434K028-203|DKFZP434K028...   \n",
       "LINC00029                LINC00029-202|LINC00029-201|LINC00029-203   \n",
       "FAM182A          FAM182A-201|FAM182A-202|FAM182A-203|FAM182A-20...   \n",
       "MMP24-AS1                                                      NaN   \n",
       "TTTY1B                                                  TTTY1B-201   \n",
       "TTTY1                                                    TTTY1-201   \n",
       "H19              H19-210|H19-204|H19-201|H19-209|H19-202|H19-20...   \n",
       "TTTY9B                                       TTTY9B-202|TTTY9B-201   \n",
       "AC091132.1                                          AC091132.1-201   \n",
       "TTTY6                                                    TTTY6-201   \n",
       "TTTY6B                                                  TTTY6B-201   \n",
       "LINC00470        LINC00470-210|LINC00470-201|LINC00470-203|LINC...   \n",
       "AL139352.1                                          AL139352.1-201   \n",
       "ENSG00000135253                                                NaN   \n",
       "AL355922.1                                          AL355922.1-201   \n",
       "ERVK3-1                                                        NaN   \n",
       "ENSG00000144596                                                NaN   \n",
       "...                                                            ...   \n",
       "AC004067.1                                          AC004067.1-201   \n",
       "AC006480.2                                          AC006480.2-201   \n",
       "AC093788.1                                          AC093788.1-201   \n",
       "AL031666.3                                          AL031666.3-201   \n",
       "AC112503.2                                          AC112503.2-201   \n",
       "AC064836.3                                          AC064836.3-201   \n",
       "AC105265.3                           AC105265.3-201|AC105265.3-202   \n",
       "AP000238.1                                          AP000238.1-201   \n",
       "AC112229.4                                          AC112229.4-201   \n",
       "AC096733.2                                          AC096733.2-201   \n",
       "BX649601.1                                          BX649601.1-201   \n",
       "AL157392.4                                          AL157392.4-201   \n",
       "AL133215.3                                          AL133215.3-201   \n",
       "AL391069.4                                          AL391069.4-201   \n",
       "AL354760.1                                          AL354760.1-201   \n",
       "AC096992.2                                          AC096992.2-201   \n",
       "AC104836.1                                          AC104836.1-201   \n",
       "ENSG00000273488                                                NaN   \n",
       "AP000229.1                           AP000229.1-201|AP000229.1-202   \n",
       "AC098479.1                                          AC098479.1-201   \n",
       "ENSGR0000185203                                                NaN   \n",
       "ENSGR0000223511                                                NaN   \n",
       "ENSGR0000223571                                                NaN   \n",
       "ENSGR0000226179                                                NaN   \n",
       "ENSGR0000230542                                                NaN   \n",
       "ENSGR0000234622                                                NaN   \n",
       "ENSGR0000236017                                                NaN   \n",
       "ENSGR0000236871                                                NaN   \n",
       "ENSGR0000237531                                                NaN   \n",
       "ENSGR0000270726                                                NaN   \n",
       "\n",
       "                              Transcript type  \\\n",
       "ENSG00000005206                           NaN   \n",
       "ENSG00000031544                           NaN   \n",
       "AC000061.1                          antisense   \n",
       "ENSG00000088970                           NaN   \n",
       "IGF2-AS                             antisense   \n",
       "TPTEP1                                    NaN   \n",
       "ENSG00000104691                           NaN   \n",
       "ENSG00000110347                           NaN   \n",
       "AC087235.1                            lincRNA   \n",
       "PINK1-AS                            antisense   \n",
       "ENSG00000118412                           NaN   \n",
       "LINC00544                             lincRNA   \n",
       "AC105760.1                          antisense   \n",
       "DKFZP434K028                          lincRNA   \n",
       "LINC00029                             lincRNA   \n",
       "FAM182A          lincRNA|processed_transcript   \n",
       "MMP24-AS1                                 NaN   \n",
       "TTTY1B                                lincRNA   \n",
       "TTTY1                                 lincRNA   \n",
       "H19                   lincRNA|retained_intron   \n",
       "TTTY9B                              antisense   \n",
       "AC091132.1                            lincRNA   \n",
       "TTTY6                                 lincRNA   \n",
       "TTTY6B                              antisense   \n",
       "LINC00470                             lincRNA   \n",
       "AL139352.1                            lincRNA   \n",
       "ENSG00000135253                           NaN   \n",
       "AL355922.1                            lincRNA   \n",
       "ERVK3-1                                   NaN   \n",
       "ENSG00000144596                           NaN   \n",
       "...                                       ...   \n",
       "AC004067.1                          antisense   \n",
       "AC006480.2                            lincRNA   \n",
       "AC093788.1                            lincRNA   \n",
       "AL031666.3                     sense_intronic   \n",
       "AC112503.2                            lincRNA   \n",
       "AC064836.3                            lincRNA   \n",
       "AC105265.3                            lincRNA   \n",
       "AP000238.1                          antisense   \n",
       "AC112229.4               processed_transcript   \n",
       "AC096733.2                            lincRNA   \n",
       "BX649601.1                            lincRNA   \n",
       "AL157392.4                          antisense   \n",
       "AL133215.3                            lincRNA   \n",
       "AL391069.4                            lincRNA   \n",
       "AL354760.1                          antisense   \n",
       "AC096992.2                          antisense   \n",
       "AC104836.1                            lincRNA   \n",
       "ENSG00000273488                           NaN   \n",
       "AP000229.1                            lincRNA   \n",
       "AC098479.1                            lincRNA   \n",
       "ENSGR0000185203                           NaN   \n",
       "ENSGR0000223511                           NaN   \n",
       "ENSGR0000223571                           NaN   \n",
       "ENSGR0000226179                           NaN   \n",
       "ENSGR0000230542                           NaN   \n",
       "ENSGR0000234622                           NaN   \n",
       "ENSGR0000236017                           NaN   \n",
       "ENSGR0000236871                           NaN   \n",
       "ENSGR0000237531                           NaN   \n",
       "ENSGR0000270726                           NaN   \n",
       "\n",
       "                                                      tag Chromosome  \\\n",
       "ENSG00000005206                                       NaN        NaN   \n",
       "ENSG00000031544                                       NaN        NaN   \n",
       "AC000061.1                                          basic       chr7   \n",
       "ENSG00000088970                                       NaN        NaN   \n",
       "IGF2-AS                                             basic      chr11   \n",
       "TPTEP1                                                NaN        NaN   \n",
       "ENSG00000104691                                       NaN        NaN   \n",
       "ENSG00000110347                                       NaN        NaN   \n",
       "AC087235.1                                          basic      chr12   \n",
       "PINK1-AS                          overlapping_locus|basic       chr1   \n",
       "ENSG00000118412                                       NaN        NaN   \n",
       "LINC00544                                  exp_conf|basic      chr13   \n",
       "AC105760.1                                          basic       chr2   \n",
       "DKFZP434K028                                        basic      chr11   \n",
       "LINC00029                basic|non_canonical_polymorphism      chr20   \n",
       "FAM182A                           basic|alternative_5_UTR      chr20   \n",
       "MMP24-AS1                                             NaN        NaN   \n",
       "TTTY1B                                              basic       chrY   \n",
       "TTTY1                                               basic       chrY   \n",
       "H19                                      ncRNA_host|basic      chr11   \n",
       "TTTY9B                            overlapping_locus|basic       chrY   \n",
       "AC091132.1                                          basic      chr17   \n",
       "TTTY6                                               basic       chrY   \n",
       "TTTY6B                                              basic       chrY   \n",
       "LINC00470                         overlapping_locus|basic      chr18   \n",
       "AL139352.1       overlapping_locus|readthrough_transcript      chr20   \n",
       "ENSG00000135253                                       NaN        NaN   \n",
       "AL355922.1                                          basic      chr14   \n",
       "ERVK3-1                                               NaN        NaN   \n",
       "ENSG00000144596                                       NaN        NaN   \n",
       "...                                                   ...        ...   \n",
       "AC004067.1                                          basic       chr4   \n",
       "AC006480.2                        overlapping_locus|basic       chr7   \n",
       "AC093788.1                                          basic       chr4   \n",
       "AL031666.3                        overlapping_locus|basic      chr20   \n",
       "AC112503.2                                          basic       chr3   \n",
       "AC064836.3                                          basic       chr2   \n",
       "AC105265.3             nested_454_RNA_Seq_supported|basic       chr3   \n",
       "AP000238.1                                          basic      chr21   \n",
       "AC112229.4       overlapping_locus|readthrough_transcript       chr2   \n",
       "AC096733.2                                          basic       chr4   \n",
       "BX649601.1                                          basic       chr9   \n",
       "AL157392.4                                          basic      chr10   \n",
       "AL133215.3                                          basic      chr10   \n",
       "AL391069.4                                          basic       chr1   \n",
       "AL354760.1                                          basic       chr1   \n",
       "AC096992.2                                          basic       chr3   \n",
       "AC104836.1                                          basic       chr1   \n",
       "ENSG00000273488                                       NaN        NaN   \n",
       "AP000229.1                        overlapping_locus|basic      chr21   \n",
       "AC098479.1                                          basic       chr3   \n",
       "ENSGR0000185203                                       NaN        NaN   \n",
       "ENSGR0000223511                                       NaN        NaN   \n",
       "ENSGR0000223571                                       NaN        NaN   \n",
       "ENSGR0000226179                                       NaN        NaN   \n",
       "ENSGR0000230542                                       NaN        NaN   \n",
       "ENSGR0000234622                                       NaN        NaN   \n",
       "ENSGR0000236017                                       NaN        NaN   \n",
       "ENSGR0000236871                                       NaN        NaN   \n",
       "ENSGR0000237531                                       NaN        NaN   \n",
       "ENSGR0000270726                                       NaN        NaN   \n",
       "\n",
       "                       start          end Strand            locus_type  \\\n",
       "ENSG00000005206          NaN          NaN    NaN                   NaN   \n",
       "ENSG00000031544          NaN          NaN    NaN                   NaN   \n",
       "AC000061.1       117604791.0  117604989.0      -             antisense   \n",
       "ENSG00000088970          NaN          NaN    NaN                   NaN   \n",
       "IGF2-AS            2146245.0    2147807.0      +             antisense   \n",
       "TPTEP1                   NaN          NaN    NaN                   NaN   \n",
       "ENSG00000104691          NaN          NaN    NaN                   NaN   \n",
       "ENSG00000110347          NaN          NaN    NaN                   NaN   \n",
       "AC087235.1        23181334.0   23182623.0      -               lincRNA   \n",
       "PINK1-AS          20642657.0   20643118.0      -             antisense   \n",
       "ENSG00000118412          NaN          NaN    NaN                   NaN   \n",
       "LINC00544         29942097.0   29942567.0      +               lincRNA   \n",
       "AC105760.1       237048599.0  237048966.0      -             antisense   \n",
       "DKFZP434K028      61754029.0   61754445.0      -               lincRNA   \n",
       "LINC00029         63034383.0   63034709.0      -               lincRNA   \n",
       "FAM182A           26082894.0   26082948.0      +  processed_transcript   \n",
       "MMP24-AS1                NaN          NaN    NaN                   NaN   \n",
       "TTTY1B             6411307.0    6411564.0      +               lincRNA   \n",
       "TTTY1              9753156.0    9753413.0      -               lincRNA   \n",
       "H19                1997076.0    1997514.0      -  processed_transcript   \n",
       "TTTY9B            18581206.0   18582348.0      -             antisense   \n",
       "AC091132.1        45534505.0   45534710.0      +               lincRNA   \n",
       "TTTY6             22439593.0   22439831.0      -               lincRNA   \n",
       "TTTY6B            22146593.0   22146831.0      +             antisense   \n",
       "LINC00470          1368290.0    1368597.0      -               lincRNA   \n",
       "AL139352.1        44656451.0   44657051.0      -               lincRNA   \n",
       "ENSG00000135253          NaN          NaN    NaN                   NaN   \n",
       "AL355922.1        20920007.0   20920299.0      +               lincRNA   \n",
       "ERVK3-1                  NaN          NaN    NaN                   NaN   \n",
       "ENSG00000144596          NaN          NaN    NaN                   NaN   \n",
       "...                      ...          ...    ...                   ...   \n",
       "AC004067.1       109692004.0  109692703.0      +             antisense   \n",
       "AC006480.2        67333047.0   67334383.0      +               lincRNA   \n",
       "AC093788.1       163529771.0  163530697.0      +               lincRNA   \n",
       "AL031666.3        47348137.0   47349142.0      -        sense_intronic   \n",
       "AC112503.2       123277353.0  123277904.0      +               lincRNA   \n",
       "AC064836.3       202374932.0  202375604.0      -               lincRNA   \n",
       "AC105265.3        72069809.0   72069933.0      +               lincRNA   \n",
       "AP000238.1        29657406.0   29657831.0      +             antisense   \n",
       "AC112229.4       110386411.0  110387397.0      -  processed_transcript   \n",
       "AC096733.2       140756528.0  140757921.0      +               lincRNA   \n",
       "BX649601.1       134168769.0  134169340.0      +               lincRNA   \n",
       "AL157392.4        13675646.0   13675990.0      +             antisense   \n",
       "AL133215.3       100967688.0  100968135.0      +               lincRNA   \n",
       "AL391069.4       151327949.0  151328429.0      +               lincRNA   \n",
       "AL354760.1       112517799.0  112518441.0      -             antisense   \n",
       "AC096992.2       136837338.0  136839021.0      -             antisense   \n",
       "AC104836.1        92189824.0   92190707.0      +               lincRNA   \n",
       "ENSG00000273488          NaN          NaN    NaN                   NaN   \n",
       "AP000229.1        26215702.0   26215941.0      +               lincRNA   \n",
       "AC098479.1        58329965.0   58330118.0      +               lincRNA   \n",
       "ENSGR0000185203          NaN          NaN    NaN                   NaN   \n",
       "ENSGR0000223511          NaN          NaN    NaN                   NaN   \n",
       "ENSGR0000223571          NaN          NaN    NaN                   NaN   \n",
       "ENSGR0000226179          NaN          NaN    NaN                   NaN   \n",
       "ENSGR0000230542          NaN          NaN    NaN                   NaN   \n",
       "ENSGR0000234622          NaN          NaN    NaN                   NaN   \n",
       "ENSGR0000236017          NaN          NaN    NaN                   NaN   \n",
       "ENSGR0000236871          NaN          NaN    NaN                   NaN   \n",
       "ENSGR0000237531          NaN          NaN    NaN                   NaN   \n",
       "ENSGR0000270726          NaN          NaN    NaN                   NaN   \n",
       "\n",
       "                                               Transcript sequence  \\\n",
       "ENSG00000005206                                                NaN   \n",
       "ENSG00000031544                                                NaN   \n",
       "AC000061.1       TGAAAACTTCCTGAGGCCTCCTCAGAAGCAGATGCTGCTATGCTTC...   \n",
       "ENSG00000088970                                                NaN   \n",
       "IGF2-AS          GGCCCGCGGGCTAGAGGCACTTTACCGCCCGGCGGGAGCGCCTCTC...   \n",
       "TPTEP1                                                         NaN   \n",
       "ENSG00000104691                                                NaN   \n",
       "ENSG00000110347                                                NaN   \n",
       "AC087235.1       CCCGCCATGATCGTGAGGCCTCCCCAGCGATGTGGAACTGCTGGAG...   \n",
       "PINK1-AS         ACTTTGAATTGCTAAAAGTGGCATTTTTCCTATGTGCAGTCACTCC...   \n",
       "ENSG00000118412                                                NaN   \n",
       "LINC00544        ATAGAGGTGTTTGGGGTGTCAGCTCTGAAATGCTAAAAATAAAACC...   \n",
       "AC105760.1       GCCTTGGCTGGCCATGTGCACCTCATTCCATGCCATTCCAACAGTT...   \n",
       "DKFZP434K028     AGGTGGGGCGGGCCCCACTGGATGTGCCAGGGACCAGGACCAGGCC...   \n",
       "LINC00029        AGCAAGTCAAGGGGACCCTCCCCTCCCGCTCCTCCCACACTGCACA...   \n",
       "FAM182A          TGAAATAGGAGCCAAGGTATGCTATGAGCCAAGGATTATGAGTAAT...   \n",
       "MMP24-AS1                                                      NaN   \n",
       "TTTY1B           TGTCTGTCAGAGCTGTCAGCCTGCTTAAGCAGAGTAAAATGGTACA...   \n",
       "TTTY1            TGTCTGTCAGAGCTGTCAGCCTGCTTAAGCAGAGTAAAATGGTACA...   \n",
       "H19              AGTTAGAAAAAGCCCGGGCTAGGACCGAGGAGCAGGGTGAGGGAGG...   \n",
       "TTTY9B           AACAACAGCCCTGCTCTGGTCCCTCCAAAAGCCGACGAATCCACAC...   \n",
       "AC091132.1       CTTAAATGTACTGAAATCCTAACAGCTCTAGCTGAAAAAATGTCCA...   \n",
       "TTTY6            GATCATGAGACTATCCTGTGTATCCCACAAAGAAGACAGGCAAGAT...   \n",
       "TTTY6B           GATCATGAGACTATCCTGTGTATCCCACAAAGAAGACAGGCAAGAT...   \n",
       "LINC00470        AATTTTTTGTATTTTTAGCAGAGACGGGGTTTCACCCTGTTAGCCA...   \n",
       "AL139352.1       GGACACACAGAAGTCACCATCTATAAGAAACAGGCTCCCACCAGAC...   \n",
       "ENSG00000135253                                                NaN   \n",
       "AL355922.1       ACCAGCTGGATCAATTCTCATAGGAGCCACAGCGCGGAGACTGTGT...   \n",
       "ERVK3-1                                                        NaN   \n",
       "ENSG00000144596                                                NaN   \n",
       "...                                                            ...   \n",
       "AC004067.1       TCACCCTATACACGAATACAGCCAGCCAATAAGATTCTGTTGTAGC...   \n",
       "AC006480.2       CCTCAAACTTCACTTTCAGTGGAGTTTGGTAGCACTTCCGGTCTCA...   \n",
       "AC093788.1       TTCACAGGCATTTCAGTGACTACAACAGTGAGTATTTAGGCAATAC...   \n",
       "AL031666.3       TCTCCTTATACTAGGGTTCGAGACATGAGGCTGTCTTTTTGGGCCT...   \n",
       "AC112503.2       CAGTGTGAACAGATGAAGCAGACAGGAAGGGGGAAATGGCAATGTA...   \n",
       "AC064836.3       TTGCAAGGATGCGAAGCCAGAAAAAAAAAAAAGACTTTTAATTCTA...   \n",
       "AC105265.3       TGGGATTGCAAGCTAGCTTCAACCAGGCACTTTCCTGTGGGGGAGG...   \n",
       "AP000238.1       TCATTTGACATGCCTCTCAGCGTTAGGAAAGAGATATTAAAATGCA...   \n",
       "AC112229.4       CACGCAATAAACAGTTATAAAAGGTAATTGTTGAGATCAGGGGAAG...   \n",
       "AC096733.2       CTCCCGCGGCGCCGACTGGAGCTCCAGAGCCCCTCCCGTCTCTACC...   \n",
       "BX649601.1       AGGAAAACAGTGCAGGTAGGAGAAAAGAGGGGCCTGGGAAGGGAAG...   \n",
       "AL157392.4       CTGCCTTGGCCTCCCAAAGTGCTGGGATTCCAGGTGTAAGCCACCG...   \n",
       "AL133215.3       GACTGGTCTTCCCACCTCAGACGTCCTTACTCAGTCCATCATCTCT...   \n",
       "AL391069.4       TGTAAACGACCGTTTGAGTAACTAACCAAATTACCGTAATTGCAAT...   \n",
       "AL354760.1       ACTCCAAGCCACTTGACTCTTCCAGGAATGACAGTGATGGGTGAAA...   \n",
       "AC096992.2       AGAAGCAGGAATAAAATGATCTTTTCTATTTCCATGATTTTTTATG...   \n",
       "AC104836.1       TCAAAGTGGTGGGATAACAAAAGTTTTTTTTTTGCTTTTTAAAAAA...   \n",
       "ENSG00000273488                                                NaN   \n",
       "AP000229.1       AACTGCGCCCGCTCGCGCCGGGAGGGGCCCTCGCGCCCCGCGCCCA...   \n",
       "AC098479.1       GTGTGAGCCTCTGTACTCAGCCCATATTTTGATATATTTTCTTCTG...   \n",
       "ENSGR0000185203                                                NaN   \n",
       "ENSGR0000223511                                                NaN   \n",
       "ENSGR0000223571                                                NaN   \n",
       "ENSGR0000226179                                                NaN   \n",
       "ENSGR0000230542                                                NaN   \n",
       "ENSGR0000234622                                                NaN   \n",
       "ENSGR0000236017                                                NaN   \n",
       "ENSGR0000236871                                                NaN   \n",
       "ENSGR0000237531                                                NaN   \n",
       "ENSGR0000270726                                                NaN   \n",
       "\n",
       "                                               Disease association  \\\n",
       "ENSG00000005206                                                NaN   \n",
       "ENSG00000031544                                                NaN   \n",
       "AC000061.1                                                     NaN   \n",
       "ENSG00000088970                                                NaN   \n",
       "IGF2-AS          hepatocellular carcinoma|prostate cancer|type ...   \n",
       "TPTEP1                                                         NaN   \n",
       "ENSG00000104691                                                NaN   \n",
       "ENSG00000110347                                                NaN   \n",
       "AC087235.1                                                     NaN   \n",
       "PINK1-AS                     diabetes mellitus|parkinson's disease   \n",
       "ENSG00000118412                                                NaN   \n",
       "LINC00544                                                      NaN   \n",
       "AC105760.1                                                     NaN   \n",
       "DKFZP434K028                                                   NaN   \n",
       "LINC00029                                                      NaN   \n",
       "FAM182A                                                        NaN   \n",
       "MMP24-AS1                                                      NaN   \n",
       "TTTY1B                                                         NaN   \n",
       "TTTY1                                                          NaN   \n",
       "H19              adrenocortical carcinoma|atherosclerosis|beckw...   \n",
       "TTTY9B                                                         NaN   \n",
       "AC091132.1                                                     NaN   \n",
       "TTTY6                                                          NaN   \n",
       "TTTY6B                                                         NaN   \n",
       "LINC00470                                                      NaN   \n",
       "AL139352.1                                                     NaN   \n",
       "ENSG00000135253                                                NaN   \n",
       "AL355922.1                                                     NaN   \n",
       "ERVK3-1                                                        NaN   \n",
       "ENSG00000144596                                                NaN   \n",
       "...                                                            ...   \n",
       "AC004067.1                                                     NaN   \n",
       "AC006480.2                                                     NaN   \n",
       "AC093788.1                                                     NaN   \n",
       "AL031666.3                                                     NaN   \n",
       "AC112503.2                                                     NaN   \n",
       "AC064836.3                                                     NaN   \n",
       "AC105265.3                                                     NaN   \n",
       "AP000238.1                                                     NaN   \n",
       "AC112229.4                                                     NaN   \n",
       "AC096733.2                                                     NaN   \n",
       "BX649601.1                                                     NaN   \n",
       "AL157392.4                                                     NaN   \n",
       "AL133215.3                                                     NaN   \n",
       "AL391069.4                                                     NaN   \n",
       "AL354760.1                                                     NaN   \n",
       "AC096992.2                                                     NaN   \n",
       "AC104836.1                                                     NaN   \n",
       "ENSG00000273488                                                NaN   \n",
       "AP000229.1                                                     NaN   \n",
       "AC098479.1                                                     NaN   \n",
       "ENSGR0000185203                                                NaN   \n",
       "ENSGR0000223511                                                NaN   \n",
       "ENSGR0000223571                                                NaN   \n",
       "ENSGR0000226179                                                NaN   \n",
       "ENSGR0000230542                                                NaN   \n",
       "ENSGR0000234622                                                NaN   \n",
       "ENSGR0000236017                                                NaN   \n",
       "ENSGR0000236871                                                NaN   \n",
       "ENSGR0000237531                                                NaN   \n",
       "ENSGR0000270726                                                NaN   \n",
       "\n",
       "                              GO Terms         Rfams  \n",
       "ENSG00000005206                    NaN           NaN  \n",
       "ENSG00000031544                    NaN           NaN  \n",
       "AC000061.1                         NaN           NaN  \n",
       "ENSG00000088970                    NaN           NaN  \n",
       "IGF2-AS                            NaN           NaN  \n",
       "TPTEP1                             NaN           NaN  \n",
       "ENSG00000104691                    NaN           NaN  \n",
       "ENSG00000110347                    NaN           NaN  \n",
       "AC087235.1                         NaN           NaN  \n",
       "PINK1-AS                           NaN           NaN  \n",
       "ENSG00000118412                    NaN           NaN  \n",
       "LINC00544                          NaN           NaN  \n",
       "AC105760.1                         NaN           NaN  \n",
       "DKFZP434K028                       NaN           NaN  \n",
       "LINC00029                          NaN           NaN  \n",
       "FAM182A                            NaN           NaN  \n",
       "MMP24-AS1                          NaN           NaN  \n",
       "TTTY1B                             NaN           NaN  \n",
       "TTTY1                              NaN           NaN  \n",
       "H19              GO:0035068|GO:0035195  Rfam:RF00897  \n",
       "TTTY9B                             NaN           NaN  \n",
       "AC091132.1                         NaN           NaN  \n",
       "TTTY6                              NaN           NaN  \n",
       "TTTY6B                             NaN           NaN  \n",
       "LINC00470                          NaN           NaN  \n",
       "AL139352.1                         NaN           NaN  \n",
       "ENSG00000135253                    NaN           NaN  \n",
       "AL355922.1                         NaN           NaN  \n",
       "ERVK3-1                            NaN           NaN  \n",
       "ENSG00000144596                    NaN           NaN  \n",
       "...                                ...           ...  \n",
       "AC004067.1                         NaN           NaN  \n",
       "AC006480.2                         NaN           NaN  \n",
       "AC093788.1                         NaN           NaN  \n",
       "AL031666.3                         NaN           NaN  \n",
       "AC112503.2                         NaN           NaN  \n",
       "AC064836.3                         NaN           NaN  \n",
       "AC105265.3                         NaN           NaN  \n",
       "AP000238.1                         NaN           NaN  \n",
       "AC112229.4                         NaN           NaN  \n",
       "AC096733.2                         NaN           NaN  \n",
       "BX649601.1                         NaN           NaN  \n",
       "AL157392.4                         NaN           NaN  \n",
       "AL133215.3                         NaN           NaN  \n",
       "AL391069.4                         NaN           NaN  \n",
       "AL354760.1                         NaN           NaN  \n",
       "AC096992.2                         NaN           NaN  \n",
       "AC104836.1                         NaN           NaN  \n",
       "ENSG00000273488                    NaN           NaN  \n",
       "AP000229.1                         NaN           NaN  \n",
       "AC098479.1                         NaN           NaN  \n",
       "ENSGR0000185203                    NaN           NaN  \n",
       "ENSGR0000223511                    NaN           NaN  \n",
       "ENSGR0000223571                    NaN           NaN  \n",
       "ENSGR0000226179                    NaN           NaN  \n",
       "ENSGR0000230542                    NaN           NaN  \n",
       "ENSGR0000234622                    NaN           NaN  \n",
       "ENSGR0000236017                    NaN           NaN  \n",
       "ENSGR0000236871                    NaN           NaN  \n",
       "ENSGR0000237531                    NaN           NaN  \n",
       "ENSGR0000270726                    NaN           NaN  \n",
       "\n",
       "[12706 rows x 16 columns]"
      ]
     },
     "execution_count": 6,
     "metadata": {},
     "output_type": "execute_result"
    }
   ],
   "source": [
    "LNC"
   ]
  },
  {
   "cell_type": "code",
   "execution_count": null,
   "metadata": {},
   "outputs": [],
   "source": []
  },
  {
   "cell_type": "code",
   "execution_count": 20,
   "metadata": {
    "collapsed": true
   },
   "outputs": [
    {
     "name": "stdout",
     "output_type": "stream",
     "text": [
      "Gower's dissimilarity: Computing location , dtype: object , shape: (20157,)\n",
      "['19q13.43', '10q11.23', '12p13.31', '12p13.31', '22q13.2']\n",
      "Location split to Chromosome, arm, region\n",
      "Gower's dissimilarity: Computing Chromosome , dtype: object , shape: (20157,)\n",
      "['19', '10', '12', '12', '22']\n",
      "Dice distance\n"
     ]
    },
    {
     "name": "stderr",
     "output_type": "stream",
     "text": [
      "/opt/anaconda3/lib/python3.6/site-packages/sklearn/utils/validation.py:595: DataConversionWarning: Data with input dtype uint8 was converted to bool by check_pairwise_arrays.\n",
      "  warnings.warn(msg, DataConversionWarning)\n"
     ]
    },
    {
     "name": "stdout",
     "output_type": "stream",
     "text": [
      "Gower's dissimilarity: Computing arm , dtype: object , shape: (20157,)\n",
      "['q', 'q', 'p', 'p', 'q']\n",
      "Dice distance\n"
     ]
    },
    {
     "name": "stderr",
     "output_type": "stream",
     "text": [
      "/opt/anaconda3/lib/python3.6/site-packages/sklearn/utils/validation.py:595: DataConversionWarning: Data with input dtype uint8 was converted to bool by check_pairwise_arrays.\n",
      "  warnings.warn(msg, DataConversionWarning)\n"
     ]
    },
    {
     "name": "stdout",
     "output_type": "stream",
     "text": [
      "Gower's dissimilarity: Computing region , dtype: object , shape: (20157,)\n",
      "['13', '11', '13', '13', '13']\n",
      "Dice distance\n"
     ]
    },
    {
     "name": "stderr",
     "output_type": "stream",
     "text": [
      "/opt/anaconda3/lib/python3.6/site-packages/sklearn/utils/validation.py:595: DataConversionWarning: Data with input dtype uint8 was converted to bool by check_pairwise_arrays.\n",
      "  warnings.warn(msg, DataConversionWarning)\n"
     ]
    },
    {
     "name": "stdout",
     "output_type": "stream",
     "text": [
      "Gower's dissimilarity: Computing band , dtype: object , shape: (20157,)\n",
      "['43', '23', '31', '31', '2']\n",
      "Dice distance\n"
     ]
    },
    {
     "name": "stderr",
     "output_type": "stream",
     "text": [
      "/opt/anaconda3/lib/python3.6/site-packages/sklearn/utils/validation.py:595: DataConversionWarning: Data with input dtype uint8 was converted to bool by check_pairwise_arrays.\n",
      "  warnings.warn(msg, DataConversionWarning)\n",
      "/home/jonny/PycharmProjects/MultiOmicsGraphEmbedding/moge/network/omics_distance.py:166: RuntimeWarning: invalid value encountered in greater_equal\n",
      "  \n",
      "/home/jonny/PycharmProjects/MultiOmicsGraphEmbedding/moge/network/omics_distance.py:168: RuntimeWarning: Mean of empty slice\n",
      "  \n"
     ]
    }
   ],
   "source": [
    "# node_list = GE[GE[\"gene_family\"].notnull()].index[0:1000]\n",
    "node_list = GE.index\n",
    "# correlation_dist = compute_expression_correlation_dists(luad_data, modalities=[\"GE\"],\n",
    "#                                                         node_list=node_list, absolute_corr=True,\n",
    "#                                                         squareform=False)\n",
    "affinity = compute_annotation_affinities(GE, node_list=node_list,\n",
    "                features=[\"location\"], \n",
    "#                features=[\"Family\", \"tag\", \"Strand\", \"Chromosome\"], \n",
    "#                                          correlation_dist=correlation_dist,\n",
    "                                        nanmean=False, \n",
    "#                                          weights=[1, 1, 0.5, 0.5, 5],\n",
    "                                        )\n"
   ]
  },
  {
   "cell_type": "code",
   "execution_count": 34,
   "metadata": {
    "collapsed": true
   },
   "outputs": [
    {
     "name": "stdout",
     "output_type": "stream",
     "text": [
      "(203142246,)\n"
     ]
    },
    {
     "name": "stderr",
     "output_type": "stream",
     "text": [
      "/home/jonny/PycharmProjects/MultiOmicsGraphEmbedding/moge/evaluation/utils.py:17: RuntimeWarning: divide by zero encountered in log10\n",
      "  c = np.log10(np.power(degrees, k_power))\n",
      "/home/jonny/PycharmProjects/MultiOmicsGraphEmbedding/moge/evaluation/utils.py:18: RuntimeWarning: divide by zero encountered in log10\n",
      "  d = np.log10(cosine_adj_hist_dist.pdf(np.power(degrees, k_power)))\n"
     ]
    },
    {
     "data": {
      "image/png": "[encoded data removed]",
      "text/plain": [
       "<Figure size 432x288 with 1 Axes>"
      ]
     },
     "metadata": {
      "needs_background": "light"
     },
     "output_type": "display_data"
    },
    {
     "data": {
      "text/plain": [
       "0.05761450686541157"
      ]
     },
     "execution_count": 34,
     "metadata": {},
     "output_type": "execute_result"
    }
   ],
   "source": [
    "from moge.evaluation.utils import get_scalefree_fit_score\n",
    "from scipy.sparse import triu\n",
    "from scipy.spatial.distance import squareform\n",
    "\n",
    "\n",
    "affinities = squareform(affinity, checks=False)\n",
    "print(affinities.shape)\n",
    "adj_list = np.nansum(affinity, axis=1)\n",
    "# adj_list = affinities[np.where(~np.isnan(affinities.data))].reshape((-1))\n",
    "\n",
    "get_scalefree_fit_score(adj_list, plot=True)"
   ]
  },
  {
   "cell_type": "code",
   "execution_count": 35,
   "metadata": {
    "collapsed": true
   },
   "outputs": [
    {
     "data": {
      "image/png": "[encoded data removed]",
      "text/plain": [
       "<Figure size 432x288 with 1 Axes>"
      ]
     },
     "metadata": {
      "needs_background": "light"
     },
     "output_type": "display_data"
    }
   ],
   "source": [
    "plt.hist(affinity[np.where(~np.isnan(affinity))].reshape((-1)), bins=500)\n",
    "plt.ylim(top=5000)\n",
    "plt.show()"
   ]
  },
  {
   "cell_type": "code",
   "execution_count": 23,
   "metadata": {},
   "outputs": [
    {
     "name": "stderr",
     "output_type": "stream",
     "text": [
      "/opt/anaconda3/lib/python3.6/site-packages/ipykernel_launcher.py:2: RuntimeWarning: invalid value encountered in greater\n",
      "  \n"
     ]
    },
    {
     "name": "stdout",
     "output_type": "stream",
     "text": [
      "threshold at 0.7 : 2735238\n"
     ]
    }
   ],
   "source": [
    "threshold=0.70\n",
    "print(\"threshold at\", threshold,\":\",(affinity > threshold).sum())\n",
    "# print(\"threshold at\", threshold,\":\",(affinity < 0.01).sum())"
   ]
  },
  {
   "cell_type": "code",
   "execution_count": 30,
   "metadata": {
    "collapsed": true
   },
   "outputs": [
    {
     "data": {
      "image/png": "[encoded data removed]",
      "text/plain": [
       "<Figure size 864x864 with 2 Axes>"
      ]
     },
     "metadata": {
      "needs_background": "light"
     },
     "output_type": "display_data"
    }
   ],
   "source": [
    "# matrix_heatmap(np.array(affinity>threshold, dtype=float))\n",
    "matrix_heatmap(affinity)"
   ]
  },
  {
   "cell_type": "code",
   "execution_count": 25,
   "metadata": {
    "collapsed": true
   },
   "outputs": [
    {
     "name": "stderr",
     "output_type": "stream",
     "text": [
      "/opt/anaconda3/lib/python3.6/site-packages/ipykernel_launcher.py:1: RuntimeWarning: invalid value encountered in less\n",
      "  \"\"\"Entry point for launching an IPython kernel.\n"
     ]
    },
    {
     "data": {
      "image/png": "[encoded data removed]",
      "text/plain": [
       "<Figure size 864x864 with 2 Axes>"
      ]
     },
     "metadata": {
      "needs_background": "light"
     },
     "output_type": "display_data"
    }
   ],
   "source": [
    "matrix_heatmap(np.array(affinity<0.01, dtype=float))"
   ]
  },
  {
   "cell_type": "markdown",
   "metadata": {},
   "source": [
    "# Heterogeneous Network"
   ]
  },
  {
   "cell_type": "code",
   "execution_count": 11,
   "metadata": {},
   "outputs": [],
   "source": [
    "import pickle\n",
    "with open('moge/data/luad_data_shortest.pickle', 'rb') as file:\n",
    "    luad_data = pickle.load(file)\n",
    "#     pickle.dump(luad_data, file)"
   ]
  },
  {
   "cell_type": "code",
   "execution_count": 4,
   "metadata": {},
   "outputs": [
    {
     "name": "stdout",
     "output_type": "stream",
     "text": [
      "MIR  nodes: 1870\n",
      "GE  nodes: 20157\n",
      "LNC  nodes: 12706\n",
      "Total nodes: 34733\n",
      "Genes info columns: ['Disease association', 'locus_type', 'Transcript sequence', 'Chromosome', 'GO Terms', 'Family']\n",
      "Number of nodes without seq removed: 1992\n",
      "Total nodes (filtered): 32742\n"
     ]
    }
   ],
   "source": [
    "from moge.network.heterogeneous_network import HeterogeneousNetwork\n",
    "\n",
    "network = HeterogeneousNetwork(modalities=[\"MIR\", \"GE\", \"LNC\"], multi_omics_data=luad_data)"
   ]
  },
  {
   "cell_type": "markdown",
   "metadata": {},
   "source": [
    "## Write node labels to file"
   ]
  },
  {
   "cell_type": "code",
   "execution_count": 4,
   "metadata": {
    "scrolled": true
   },
   "outputs": [],
   "source": [
    "from moge.network.file_io import write_node_labels_to_file\n",
    "\n",
    "# write_node_labels_to_file(\"moge/data/lncRNA_miRNA_mRNA/lncRNA-miRNA-mRNA_node_labels_family.tsv\", luad_data, \n",
    "#                           label_cols=[\"family\"],\n",
    "#                           modalities=[\"MIR\", \"GE\", \"LNC\"], \n",
    "#                           get_dummies=False)\n",
    "\n",
    "# write_node_labels_to_file(\"moge/data/lncRNA_miRNA_mRNA/lncRNA-miRNA-mRNA_node_labels_disease_dummies.tsv\", luad_data, \n",
    "#                           label_cols=[\"Disease association\"],\n",
    "#                           modalities=[\"MIR\", \"GE\", \"LNC\"], remove_na=True, sep=\"\\t\",\n",
    "#                           get_dummies=True)"
   ]
  },
  {
   "cell_type": "markdown",
   "metadata": {},
   "source": [
    "# Add Attribute Affinity Positive Edges"
   ]
  },
  {
   "cell_type": "code",
   "execution_count": 37,
   "metadata": {
    "scrolled": true
   },
   "outputs": [
    {
     "name": "stdout",
     "output_type": "stream",
     "text": [
      "Gower's dissimilarity: Computing GO Terms , dtype: object , shape: (20157,)\n",
      "['GO:0002576|GO:0003674|GO:0005576|GO:0005615|GO:0008150|GO:0031093|GO:0034774|GO:0043312|GO:0062023|GO:0070062|GO:0072562|GO:1904813', 'GO:0003723|GO:0003727|GO:0005515|GO:0005654|GO:0005737|GO:0005783|GO:0006397|GO:0016554|GO:0016556|GO:0030895|GO:0050821|GO:0003725', 'GO:0001869|GO:0002020|GO:0002576|GO:0004867|GO:0005096|GO:0005102|GO:0005515|GO:0005576|GO:0005829|GO:0007597|GO:0010951|GO:0019838|GO:0019899|GO:0019959|GO:0019966|GO:0022617|GO:0031093|GO:0043120|GO:0043547|GO:0048306|GO:0048863|GO:0051056|GO:0062023|GO:0070062|GO:0072562', 'GO:0004867|GO:0005615|GO:0010951|GO:0030414|GO:0052548|GO:0070062', 'GO:0001576|GO:0006486|GO:0006688|GO:0007009|GO:0008378|GO:0015643|GO:0016020|GO:0030173|GO:0050512']\n",
      "Dice distance\n"
     ]
    },
    {
     "name": "stderr",
     "output_type": "stream",
     "text": [
      "/opt/anaconda3/lib/python3.6/site-packages/sklearn/utils/validation.py:595: DataConversionWarning: Data with input dtype uint8 was converted to bool by check_pairwise_arrays.\n",
      "  warnings.warn(msg, DataConversionWarning)\n"
     ]
    },
    {
     "name": "stdout",
     "output_type": "stream",
     "text": [
      "Gower's dissimilarity: Computing Disease association , dtype: object , shape: (20157,)\n",
      "[nan, nan, \"alzheimer's disease|colonic neoplasms|mental depression|depressive disorder|hepatolenticular degeneration|liver cirrhosis|liver cirrhosis, experimental|lung diseases|lung neoplasms|nephrotic syndrome|hepatocellular adenoma|liver carcinoma|acute kidney injury\", 'noonan syndrome|otitis media', 'burkitt lymphoma|blood group antigen abnormality']\n",
      "Dice distance\n"
     ]
    },
    {
     "name": "stderr",
     "output_type": "stream",
     "text": [
      "/opt/anaconda3/lib/python3.6/site-packages/sklearn/utils/validation.py:595: DataConversionWarning: Data with input dtype int64 was converted to bool by check_pairwise_arrays.\n",
      "  warnings.warn(msg, DataConversionWarning)\n",
      "/home/jonny/PycharmProjects/MultiOmicsGraphEmbedding/moge/network/omics_distance.py:53: RuntimeWarning: Mean of empty slice\n",
      "  agg_func = lambda x: np.nanmean(x, axis=0)\n"
     ]
    },
    {
     "name": "stdout",
     "output_type": "stream",
     "text": [
      "59821 undirected positive edges (type='u') added.\n",
      "299105 undirected negative edges (type='u_n') added.\n"
     ]
    }
   ],
   "source": [
    "affinities_GE = network.add_edges_from_nodes_similarity(modality=\"GE\", node_list=network.nodes[\"GE\"], \n",
    "    similarity_threshold=0.70, dissimilarity_threshold=0.01,\n",
    "    negative_sampling_ratio=5.0, nanmean=True,\n",
    "    features=[\"GO Terms\", \"Disease association\"], \n",
    "    compute_correlation=False)"
   ]
  },
  {
   "cell_type": "code",
   "execution_count": 38,
   "metadata": {
    "scrolled": true
   },
   "outputs": [
    {
     "name": "stdout",
     "output_type": "stream",
     "text": [
      "Gower's dissimilarity: Computing locus_type , dtype: object , shape: (20157,)\n",
      "['protein_coding', 'protein_coding', 'processed_transcript', 'nonsense_mediated_decay', 'processed_transcript']\n",
      "Dice distance\n"
     ]
    },
    {
     "name": "stderr",
     "output_type": "stream",
     "text": [
      "/opt/anaconda3/lib/python3.6/site-packages/sklearn/utils/validation.py:595: DataConversionWarning: Data with input dtype int64 was converted to bool by check_pairwise_arrays.\n",
      "  warnings.warn(msg, DataConversionWarning)\n"
     ]
    },
    {
     "name": "stdout",
     "output_type": "stream",
     "text": [
      "Gower's dissimilarity: Computing gene_family_id , dtype: object , shape: (20157,)\n",
      "['594', '725', '1234', '1234', '442|454']\n",
      "Dice distance\n"
     ]
    },
    {
     "name": "stderr",
     "output_type": "stream",
     "text": [
      "/opt/anaconda3/lib/python3.6/site-packages/sklearn/utils/validation.py:595: DataConversionWarning: Data with input dtype int64 was converted to bool by check_pairwise_arrays.\n",
      "  warnings.warn(msg, DataConversionWarning)\n"
     ]
    },
    {
     "name": "stdout",
     "output_type": "stream",
     "text": [
      "Gower's dissimilarity: Computing location , dtype: object , shape: (20157,)\n",
      "['19q13.43', '10q11.23', '12p13.31', '12p13.31', '22q13.2']\n",
      "Location split to Chromosome, arm, region\n",
      "Gower's dissimilarity: Computing Chromosome , dtype: object , shape: (20157,)\n",
      "['19', '10', '12', '12', '22']\n",
      "Dice distance\n"
     ]
    },
    {
     "name": "stderr",
     "output_type": "stream",
     "text": [
      "/opt/anaconda3/lib/python3.6/site-packages/sklearn/utils/validation.py:595: DataConversionWarning: Data with input dtype uint8 was converted to bool by check_pairwise_arrays.\n",
      "  warnings.warn(msg, DataConversionWarning)\n"
     ]
    },
    {
     "name": "stdout",
     "output_type": "stream",
     "text": [
      "Gower's dissimilarity: Computing arm , dtype: object , shape: (20157,)\n",
      "['q', 'q', 'p', 'p', 'q']\n",
      "Dice distance\n"
     ]
    },
    {
     "name": "stderr",
     "output_type": "stream",
     "text": [
      "/opt/anaconda3/lib/python3.6/site-packages/sklearn/utils/validation.py:595: DataConversionWarning: Data with input dtype uint8 was converted to bool by check_pairwise_arrays.\n",
      "  warnings.warn(msg, DataConversionWarning)\n"
     ]
    },
    {
     "name": "stdout",
     "output_type": "stream",
     "text": [
      "Gower's dissimilarity: Computing region , dtype: object , shape: (20157,)\n",
      "['13', '11', '13', '13', '13']\n",
      "Dice distance\n"
     ]
    },
    {
     "name": "stderr",
     "output_type": "stream",
     "text": [
      "/opt/anaconda3/lib/python3.6/site-packages/sklearn/utils/validation.py:595: DataConversionWarning: Data with input dtype uint8 was converted to bool by check_pairwise_arrays.\n",
      "  warnings.warn(msg, DataConversionWarning)\n"
     ]
    },
    {
     "name": "stdout",
     "output_type": "stream",
     "text": [
      "Gower's dissimilarity: Computing band , dtype: object , shape: (20157,)\n",
      "['43', '23', '31', '31', '2']\n",
      "Dice distance\n"
     ]
    },
    {
     "name": "stderr",
     "output_type": "stream",
     "text": [
      "/opt/anaconda3/lib/python3.6/site-packages/sklearn/utils/validation.py:595: DataConversionWarning: Data with input dtype uint8 was converted to bool by check_pairwise_arrays.\n",
      "  warnings.warn(msg, DataConversionWarning)\n",
      "/home/jonny/PycharmProjects/MultiOmicsGraphEmbedding/moge/network/omics_distance.py:166: RuntimeWarning: invalid value encountered in greater_equal\n",
      "  \n",
      "/home/jonny/PycharmProjects/MultiOmicsGraphEmbedding/moge/network/omics_distance.py:168: RuntimeWarning: Mean of empty slice\n",
      "  \n"
     ]
    },
    {
     "name": "stdout",
     "output_type": "stream",
     "text": [
      "23598 undirected positive edges (type='u') added.\n",
      "117990 undirected negative edges (type='u_n') added.\n"
     ]
    }
   ],
   "source": [
    "affinities_GE = network.add_edges_from_nodes_similarity(modality=\"GE\", node_list=network.nodes[\"GE\"], \n",
    "    similarity_threshold=0.85, dissimilarity_threshold=0.01,\n",
    "    negative_sampling_ratio=5.0, nanmean=False,\n",
    "    features=[\"locus_type\", \"gene_family_id\", \"location\"], \n",
    "    weights=[1, 3, 1],\n",
    "    compute_correlation=False)"
   ]
  },
  {
   "cell_type": "code",
   "execution_count": 39,
   "metadata": {
    "scrolled": true
   },
   "outputs": [
    {
     "name": "stdout",
     "output_type": "stream",
     "text": [
      "Gower's dissimilarity: Computing GO Terms , dtype: object , shape: (1870,)\n",
      "['GO:0035068|GO:0035195', nan, 'GO:0035068|GO:0035195', nan, nan]\n",
      "Dice distance\n",
      "Gower's dissimilarity: Computing Disease association , dtype: object , shape: (1870,)\n",
      "[\"colonic neoplasms|heart failure|lung neoplasms|lung neoplasms|lung neoplasms|lung neoplasms|lung neoplasms|lung neoplasms|lung neoplasms|neoplasms|neoplasms|neoplasms|neoplasms|acth-secreting pituitary adenoma|neoplasms|neoplasms|digestive system neoplasms|head and neck neoplasms|hodgkin disease|neoplasms|sarcoma, kaposi|lung neoplasms|lupus vulgaris|melanoma|pancreatic neoplasms|pituitary neoplasms|salivary gland neoplasms|lymphoma, primary effusion|adrenocortical carcinoma|neoplasms|neoplasms|carcinoma, hepatocellular|lung neoplasms|neoplasms|retinoblastoma|adenocarcinoma|asthma|carcinoma|carcinoma|carcinoma, hepatocellular|leukemia, myeloid, acute|neoplasms|ovarian neoplasms|spinal cord injuries|spinal cord injuries|prostatic neoplasms|hypertrophy|carcinoma, renal cell|head and neck neoplasms|myelodysplastic syndromes|gastrointestinal neoplasms|breast neoplasms|nasopharyngeal neoplasms|barrett esophagus|pancreatic neoplasms|carcinoma, non-small-cell lung|ovarian neoplasms|carcinoma, non-small-cell lung|ovarian neoplasms|myelodysplastic syndromes|inflammation|colorectal neoplasms|sarcoma, ewing's|mesothelioma|carcinoma, hepatocellular|mycosis fungoides|endometrial neoplasms|colorectal neoplasms|carcinoma, hepatocellular|glioblastoma|breast neoplasms|pancreatic neoplasms|colorectal neoplasms|periodontitis|breast neoplasms|breast neoplasms|cholesteatoma|lung neoplasms|endometriosis|esophageal neoplasms|stomach neoplasms|breast neoplasms|breast neoplasms|carcinoma, renal cell|colorectal neoplasms|breast neoplasms|carcinoma, non-small-cell lung|melanoma\", \"breast neoplasms|colonic neoplasms|heart failure|lung neoplasms|lung neoplasms|lung neoplasms|lung neoplasms|lung neoplasms|lung neoplasms|lung neoplasms|neoplasms|neoplasms|neoplasms|acth-secreting pituitary adenoma|neoplasms|neoplasms|digestive system neoplasms|head and neck neoplasms|hodgkin disease|neoplasms|sarcoma, kaposi|lung neoplasms|lupus vulgaris|melanoma|pancreatic neoplasms|pituitary neoplasms|salivary gland neoplasms|lymphoma, primary effusion|adrenocortical carcinoma|neoplasms|neoplasms|carcinoma, hepatocellular|lung neoplasms|neoplasms|retinoblastoma|adenocarcinoma|asthma|carcinoma|carcinoma|carcinoma, hepatocellular|leukemia, myeloid, acute|neoplasms|ovarian neoplasms|spinal cord injuries|spinal cord injuries|hypertrophy|carcinoma, renal cell|head and neck neoplasms|myelodysplastic syndromes|lung neoplasms|breast neoplasms|nasopharyngeal neoplasms|barrett esophagus|pancreatic neoplasms|carcinoma, non-small-cell lung|ovarian neoplasms|carcinoma, non-small-cell lung|myelodysplastic syndromes|inflammation|colorectal neoplasms|sarcoma, ewing's|mycosis fungoides|endometrial neoplasms|colorectal neoplasms|carcinoma, hepatocellular|glioblastoma|breast neoplasms|pancreatic neoplasms|colorectal neoplasms|periodontitis|breast neoplasms|breast neoplasms|cholesteatoma|lung neoplasms|endometriosis|esophageal neoplasms|stomach neoplasms|breast neoplasms|breast neoplasms|carcinoma, renal cell|colorectal neoplasms|breast neoplasms|carcinoma, non-small-cell lung|melanoma\", \"breast neoplasms|colonic neoplasms|lung neoplasms|lung neoplasms|lung neoplasms|lung neoplasms|lung neoplasms|lung neoplasms|lung neoplasms|neoplasms|neoplasms|neoplasms|ovarian neoplasms|acth-secreting pituitary adenoma|neoplasms|neoplasms|digestive system neoplasms|head and neck neoplasms|hodgkin disease|neoplasms|sarcoma, kaposi|lung neoplasms|lupus vulgaris|melanoma|pancreatic neoplasms|pituitary neoplasms|salivary gland neoplasms|lymphoma, primary effusion|adrenocortical carcinoma|neoplasms|neoplasms|carcinoma, hepatocellular|lung neoplasms|neoplasms|retinoblastoma|adenocarcinoma|asthma|carcinoma|carcinoma|carcinoma, hepatocellular|leukemia, myeloid, acute|neoplasms|ovarian neoplasms|spinal cord injuries|spinal cord injuries|hypertrophy|carcinoma, renal cell|head and neck neoplasms|myelodysplastic syndromes|breast neoplasms|nasopharyngeal neoplasms|barrett esophagus|pancreatic neoplasms|carcinoma, non-small-cell lung|ovarian neoplasms|carcinoma, non-small-cell lung|myelodysplastic syndromes|inflammation|colorectal neoplasms|sarcoma, ewing's|mesothelioma|mycosis fungoides|endometrial neoplasms|colorectal neoplasms|carcinoma, hepatocellular|glioblastoma|breast neoplasms|pancreatic neoplasms|colorectal neoplasms|periodontitis|breast neoplasms|breast neoplasms|cholesteatoma|lung neoplasms|endometriosis|esophageal neoplasms|stomach neoplasms|breast neoplasms|breast neoplasms|carcinoma, renal cell|colorectal neoplasms|breast neoplasms|carcinoma, non-small-cell lung|melanoma\", 'colonic neoplasms|heart failure|lung neoplasms|lung neoplasms|lung neoplasms|lung neoplasms|lung neoplasms|lung neoplasms|lung neoplasms|neoplasms|neoplasms|neoplasms|ovarian neoplasms|neoplasms|digestive system neoplasms|head and neck neoplasms|neoplasms|sarcoma, kaposi|lung neoplasms|melanoma|pancreatic neoplasms|pituitary neoplasms|lymphoma, primary effusion|adrenocortical carcinoma|neurodegenerative diseases|neoplasms|carcinoma, hepatocellular|mouth neoplasms|neoplasms|retinoblastoma|asthma|carcinoma, hepatocellular|leukemia, myeloid, acute|mouth neoplasms|ovarian neoplasms|hypertrophy|carcinoma, renal cell|precursor cell lymphoblastic leukemia-lymphoma|pre-eclampsia|myelodysplastic syndromes|nasopharyngeal neoplasms|liposarcoma|pancreatic neoplasms|carcinoma, non-small-cell lung|inflammation|colorectal neoplasms|endometrial neoplasms|pancreatic neoplasms|breast neoplasms|lung neoplasms|endometriosis|cataract|breast neoplasms|hepatitis c|breast neoplasms|liver neoplasms|prostatic neoplasms|breast neoplasms|esophageal neoplasms|sarcoma, ewing|precursor cell lymphoblastic leukemia-lymphoma|carcinoma, hepatocellular|carcinoma, non-small-cell lung|carcinoma, non-small-cell lung|melanoma', 'colonic neoplasms|heart failure|lung neoplasms|lung neoplasms|lung neoplasms|lung neoplasms|lung neoplasms|lung neoplasms|lung neoplasms|muscular disorders, atrophic|neoplasms|neoplasms|neoplasms|neoplasms|digestive system neoplasms|head and neck neoplasms|neoplasms|sarcoma, kaposi|lung neoplasms|melanoma|pancreatic neoplasms|pituitary neoplasms|lymphoma, primary effusion|adrenocortical carcinoma|neoplasms|carcinoma, hepatocellular|neoplasms|retinoblastoma|carcinoma, hepatocellular|asthma|carcinoma, hepatocellular|leukemia, myeloid, acute|ovarian neoplasms|nevus, pigmented|hypertrophy|carcinoma, renal cell|myelodysplastic syndromes|nasopharyngeal neoplasms|breast neoplasms|pancreatic neoplasms|inflammation|prostatic neoplasms|ovarian neoplasms|retinoblastoma|colorectal neoplasms|endometrial neoplasms|breast neoplasms|prostatic neoplasms|periodontitis|pancreatic neoplasms|carcinoma, hepatocellular|lung neoplasms|endometriosis|carcinoma, hepatocellular|breast neoplasms|eosinophilic esophagitis|hepatitis b|breast neoplasms|carcinoma, hepatocellular|carcinoma, small cell|influenza, human|prostatic neoplasms|esophageal neoplasms|pancreatic neoplasms|leiomyoma']\n",
      "Dice distance\n"
     ]
    },
    {
     "name": "stderr",
     "output_type": "stream",
     "text": [
      "/opt/anaconda3/lib/python3.6/site-packages/sklearn/utils/validation.py:595: DataConversionWarning: Data with input dtype uint8 was converted to bool by check_pairwise_arrays.\n",
      "  warnings.warn(msg, DataConversionWarning)\n",
      "/opt/anaconda3/lib/python3.6/site-packages/sklearn/utils/validation.py:595: DataConversionWarning: Data with input dtype int64 was converted to bool by check_pairwise_arrays.\n",
      "  warnings.warn(msg, DataConversionWarning)\n",
      "/home/jonny/PycharmProjects/MultiOmicsGraphEmbedding/moge/network/omics_distance.py:53: RuntimeWarning: Mean of empty slice\n",
      "  agg_func = lambda x: np.nanmean(x, axis=0)\n"
     ]
    },
    {
     "name": "stdout",
     "output_type": "stream",
     "text": [
      "701 undirected positive edges (type='u') added.\n",
      "3505 undirected negative edges (type='u_n') added.\n"
     ]
    }
   ],
   "source": [
    "affinities_MIR = network.add_edges_from_nodes_similarity(modality=\"MIR\", node_list=network.nodes[\"MIR\"], \n",
    "    similarity_threshold=0.70, dissimilarity_threshold=0.01,\n",
    "    negative_sampling_ratio=5.0, nanmean=True,\n",
    "    features=[\"GO Terms\", \"Disease association\"], \n",
    "    compute_correlation=False)"
   ]
  },
  {
   "cell_type": "code",
   "execution_count": 40,
   "metadata": {
    "scrolled": true
   },
   "outputs": [
    {
     "name": "stdout",
     "output_type": "stream",
     "text": [
      "Gower's dissimilarity: Computing Family , dtype: object , shape: (1870,)\n",
      "[nan, 'let-7a-2-3p/let-7g-3p', nan, 'let-7-5p/98-5p', 'let-7-5p/98-5p']\n",
      "Dice distance\n"
     ]
    },
    {
     "name": "stderr",
     "output_type": "stream",
     "text": [
      "/opt/anaconda3/lib/python3.6/site-packages/sklearn/utils/validation.py:595: DataConversionWarning: Data with input dtype int64 was converted to bool by check_pairwise_arrays.\n",
      "  warnings.warn(msg, DataConversionWarning)\n"
     ]
    },
    {
     "name": "stdout",
     "output_type": "stream",
     "text": [
      "Gower's dissimilarity: Computing Rfams , dtype: object , shape: (1870,)\n",
      "['Rfam:RF00027', nan, 'Rfam:RF00027', nan, nan]\n",
      "Dice distance\n"
     ]
    },
    {
     "name": "stderr",
     "output_type": "stream",
     "text": [
      "/opt/anaconda3/lib/python3.6/site-packages/sklearn/utils/validation.py:595: DataConversionWarning: Data with input dtype int64 was converted to bool by check_pairwise_arrays.\n",
      "  warnings.warn(msg, DataConversionWarning)\n",
      "/home/jonny/PycharmProjects/MultiOmicsGraphEmbedding/moge/network/omics_distance.py:53: RuntimeWarning: Mean of empty slice\n",
      "  agg_func = lambda x: np.nanmean(x, axis=0)\n"
     ]
    },
    {
     "name": "stdout",
     "output_type": "stream",
     "text": [
      "683 undirected positive edges (type='u') added.\n",
      "3415 undirected negative edges (type='u_n') added.\n"
     ]
    }
   ],
   "source": [
    "affinities_MIR = network.add_edges_from_nodes_similarity(modality=\"MIR\", node_list=network.nodes[\"MIR\"], \n",
    "    similarity_threshold=0.70, dissimilarity_threshold=0.01,\n",
    "    negative_sampling_ratio=5.0, nanmean=True,\n",
    "    features=[\"Family\", \"Rfams\"], \n",
    "    compute_correlation=False)"
   ]
  },
  {
   "cell_type": "code",
   "execution_count": 90,
   "metadata": {},
   "outputs": [
    {
     "data": {
      "text/plain": [
       "438917"
      ]
     },
     "execution_count": 90,
     "metadata": {},
     "output_type": "execute_result"
    }
   ],
   "source": [
    "edges = network.G.edges(nbunch=network.nodes[\"LNC\"])\n",
    "# network.G.remove_edges_from(set(edges))\n",
    "len(edges)"
   ]
  },
  {
   "cell_type": "code",
   "execution_count": 89,
   "metadata": {
    "scrolled": true
   },
   "outputs": [
    {
     "name": "stdout",
     "output_type": "stream",
     "text": [
      "Gower's dissimilarity: Computing locus_type , dtype: object , shape: (12706,)\n",
      "Dice distance\n"
     ]
    },
    {
     "name": "stderr",
     "output_type": "stream",
     "text": [
      "/opt/anaconda3/lib/python3.6/site-packages/sklearn/utils/validation.py:595: DataConversionWarning: Data with input dtype int64 was converted to bool by check_pairwise_arrays.\n",
      "  warnings.warn(msg, DataConversionWarning)\n"
     ]
    },
    {
     "name": "stdout",
     "output_type": "stream",
     "text": [
      "Gower's dissimilarity: Computing Transcript type , dtype: object , shape: (12706,)\n",
      "Dice distance\n"
     ]
    },
    {
     "name": "stderr",
     "output_type": "stream",
     "text": [
      "/opt/anaconda3/lib/python3.6/site-packages/sklearn/utils/validation.py:595: DataConversionWarning: Data with input dtype int64 was converted to bool by check_pairwise_arrays.\n",
      "  warnings.warn(msg, DataConversionWarning)\n"
     ]
    },
    {
     "name": "stdout",
     "output_type": "stream",
     "text": [
      "Gower's dissimilarity: Computing tag , dtype: object , shape: (12706,)\n",
      "Dice distance\n"
     ]
    },
    {
     "name": "stderr",
     "output_type": "stream",
     "text": [
      "/opt/anaconda3/lib/python3.6/site-packages/sklearn/utils/validation.py:595: DataConversionWarning: Data with input dtype int64 was converted to bool by check_pairwise_arrays.\n",
      "  warnings.warn(msg, DataConversionWarning)\n"
     ]
    },
    {
     "name": "stdout",
     "output_type": "stream",
     "text": [
      "Gower's dissimilarity: Computing Strand , dtype: object , shape: (12706,)\n",
      "Dice distance\n"
     ]
    },
    {
     "name": "stderr",
     "output_type": "stream",
     "text": [
      "/opt/anaconda3/lib/python3.6/site-packages/sklearn/utils/validation.py:595: DataConversionWarning: Data with input dtype uint8 was converted to bool by check_pairwise_arrays.\n",
      "  warnings.warn(msg, DataConversionWarning)\n"
     ]
    },
    {
     "name": "stdout",
     "output_type": "stream",
     "text": [
      "Gower's dissimilarity: Computing Chromosome , dtype: object , shape: (12706,)\n",
      "Dice distance\n"
     ]
    },
    {
     "name": "stderr",
     "output_type": "stream",
     "text": [
      "/opt/anaconda3/lib/python3.6/site-packages/sklearn/utils/validation.py:595: DataConversionWarning: Data with input dtype uint8 was converted to bool by check_pairwise_arrays.\n",
      "  warnings.warn(msg, DataConversionWarning)\n"
     ]
    },
    {
     "name": "stdout",
     "output_type": "stream",
     "text": [
      "Gower's dissimilarity: Computing start , dtype: float64 , shape: (12706,)\n",
      "Euclidean distance (normalized ptp)\n",
      "Gower's dissimilarity: Computing end , dtype: float64 , shape: (12706,)\n",
      "Euclidean distance (normalized ptp)\n",
      "1 undirected positive edges (type='u') added.\n",
      "350980 undirected negative edges (type='u_n') added.\n"
     ]
    }
   ],
   "source": [
    "affinities_LNC = network.add_edges_from_nodes_similarity(modality=\"LNC\", node_list=network.nodes[\"LNC\"], \n",
    "    similarity_threshold=0.90, dissimilarity_threshold=0.1,\n",
    "    negative_sampling_ratio=5.0, \n",
    "    nanmean=False,\n",
    "    features=[\"locus_type\", \"Transcript type\", \"tag\", \"Strand\", \"Chromosome\", \"start\", \"end\", \"Transcript sequence\"],\n",
    "    weights=[0.5, 0.5, 1, 1, 0.5, 0.2, 0.2, 1],\n",
    "    compute_correlation=False)"
   ]
  },
  {
   "cell_type": "code",
   "execution_count": 87,
   "metadata": {},
   "outputs": [
    {
     "name": "stdout",
     "output_type": "stream",
     "text": [
      "Gower's dissimilarity: Computing GO Terms , dtype: object , shape: (12706,)\n",
      "Dice distance\n"
     ]
    },
    {
     "name": "stderr",
     "output_type": "stream",
     "text": [
      "/opt/anaconda3/lib/python3.6/site-packages/sklearn/utils/validation.py:595: DataConversionWarning: Data with input dtype uint8 was converted to bool by check_pairwise_arrays.\n",
      "  warnings.warn(msg, DataConversionWarning)\n"
     ]
    },
    {
     "name": "stdout",
     "output_type": "stream",
     "text": [
      "Gower's dissimilarity: Computing Family , dtype: object , shape: (12706,)\n",
      "Dice distance\n"
     ]
    },
    {
     "name": "stderr",
     "output_type": "stream",
     "text": [
      "/opt/anaconda3/lib/python3.6/site-packages/sklearn/utils/validation.py:595: DataConversionWarning: Data with input dtype int64 was converted to bool by check_pairwise_arrays.\n",
      "  warnings.warn(msg, DataConversionWarning)\n"
     ]
    },
    {
     "name": "stdout",
     "output_type": "stream",
     "text": [
      "Gower's dissimilarity: Computing Disease association , dtype: object , shape: (12706,)\n",
      "Dice distance\n"
     ]
    },
    {
     "name": "stderr",
     "output_type": "stream",
     "text": [
      "/opt/anaconda3/lib/python3.6/site-packages/sklearn/utils/validation.py:595: DataConversionWarning: Data with input dtype int64 was converted to bool by check_pairwise_arrays.\n",
      "  warnings.warn(msg, DataConversionWarning)\n",
      "/home/jonny/PycharmProjects/MultiOmicsGraphEmbedding/moge/network/omics_distance.py:53: RuntimeWarning: Mean of empty slice\n",
      "  agg_func = lambda x: np.nanmean(x, axis=0)\n"
     ]
    },
    {
     "name": "stdout",
     "output_type": "stream",
     "text": [
      "463 undirected positive edges (type='u') added.\n",
      "2315 undirected negative edges (type='u_n') added.\n"
     ]
    }
   ],
   "source": [
    "affinities_LNC = network.add_edges_from_nodes_similarity(modality=\"LNC\", node_list=network.nodes[\"LNC\"], \n",
    "    similarity_threshold=0.70, dissimilarity_threshold=0.01,\n",
    "    negative_sampling_ratio=5.0, nanmean=True,\n",
    "    features=[\"GO Terms\", \"Family\", \"Disease association\"], \n",
    "    compute_correlation=False)"
   ]
  },
  {
   "cell_type": "code",
   "execution_count": 43,
   "metadata": {},
   "outputs": [
    {
     "data": {
      "image/png": "[encoded data removed]",
      "text/plain": [
       "<Figure size 504x504 with 2 Axes>"
      ]
     },
     "metadata": {
      "needs_background": "light"
     },
     "output_type": "display_data"
    }
   ],
   "source": [
    "matrix_heatmap(network.get_adjacency_matrix(edge_types=[\"u\"], node_list=network.nodes[\"GE\"]).todense(),\n",
    "              figsize=(7,7))"
   ]
  },
  {
   "cell_type": "code",
   "execution_count": 44,
   "metadata": {},
   "outputs": [
    {
     "data": {
      "image/png": "[encoded data removed]",
      "text/plain": [
       "<Figure size 360x360 with 2 Axes>"
      ]
     },
     "metadata": {
      "needs_background": "light"
     },
     "output_type": "display_data"
    }
   ],
   "source": [
    "matrix_heatmap(network.get_adjacency_matrix(edge_types=[\"u\"], node_list=network.nodes[\"MIR\"]).todense(),\n",
    "              figsize=(5,5))"
   ]
  },
  {
   "cell_type": "code",
   "execution_count": 91,
   "metadata": {},
   "outputs": [
    {
     "data": {
      "image/png": "[encoded data removed]",
      "text/plain": [
       "<Figure size 504x504 with 2 Axes>"
      ]
     },
     "metadata": {
      "needs_background": "light"
     },
     "output_type": "display_data"
    }
   ],
   "source": [
    "matrix_heatmap(network.get_adjacency_matrix(edge_types=[\"u\"], node_list=network.nodes[\"LNC\"]).todense(),\n",
    "              figsize=(7,7))"
   ]
  },
  {
   "cell_type": "code",
   "execution_count": 5,
   "metadata": {},
   "outputs": [],
   "source": [
    "# IMPORT Affinity Edgelist\n",
    "network.import_edgelist_file(\n",
    "#     file=\"moge/data/LMN_only_directed/affinity/lmn_n70_m70_l70-70_GO_Rfams_Disease_Family_NoExpression_affinity.edgelist\", \n",
    "    file=\"moge/data/LMN_future_recall/TRAIN/Interactions_Affinity/lmn_n70_m70_l70-70_GO_Rfams_Disease_Family_GO_affinity.edgelist\", \n",
    "    is_directed=False)"
   ]
  },
  {
   "cell_type": "code",
   "execution_count": 92,
   "metadata": {},
   "outputs": [],
   "source": [
    "# WRITE Affinity Edgelist\n",
    "nx.write_edgelist(network.get_subgraph([\"MIR\", \"GE\", \"LNC\"]), \n",
    "                  \"moge/data/LMN_future_recall/TRAIN/Interactions_Affinity/lmn_n70_m70_l70-70_GO_Rfams_Disease_Family_GO_affinity.edgelist\", \n",
    "                  data=True)"
   ]
  },
  {
   "cell_type": "markdown",
   "metadata": {},
   "source": [
    "# Add Attribute Affinity NEGATIVE Edges between cross-modals"
   ]
  },
  {
   "cell_type": "code",
   "execution_count": 11,
   "metadata": {},
   "outputs": [
    {
     "name": "stdout",
     "output_type": "stream",
     "text": [
      "Number of negative sampled edges between ['GE', 'MIR'] added: 10000\n",
      "Number of negative sampled edges between ['GE', 'LNC'] added: 20000\n",
      "Number of negative sampled edges between ['LNC', 'MIR'] added: 10000\n"
     ]
    }
   ],
   "source": [
    "u_n_size = 10000\n",
    "network.add_sampled_negative_edges(u_n_size, modalities=[\"GE\", \"MIR\"])\n",
    "network.add_sampled_negative_edges(u_n_size*2, modalities=[\"GE\", \"LNC\"])\n",
    "network.add_sampled_negative_edges(u_n_size, modalities=[\"LNC\", \"MIR\"])"
   ]
  },
  {
   "cell_type": "markdown",
   "metadata": {},
   "source": [
    "# MiRTarBase"
   ]
  },
  {
   "cell_type": "code",
   "execution_count": 5,
   "metadata": {},
   "outputs": [
    {
     "data": {
      "text/plain": [
       "64749"
      ]
     },
     "execution_count": 5,
     "metadata": {},
     "output_type": "execute_result"
    }
   ],
   "source": [
    "mirtarbase_new = luad_data.MIR.get_miRTarBase_miRNA_target_interaction(use_latest=True, data=False)\n",
    "mirtarbase_old = luad_data.MIR.get_miRTarBase_miRNA_target_interaction(use_latest=False, data=False)\n",
    "mirtarbase_diff = list(set(mirtarbase_new) - set(mirtarbase_old))\n",
    "len(mirtarbase_diff)"
   ]
  },
  {
   "cell_type": "code",
   "execution_count": 6,
   "metadata": {},
   "outputs": [
    {
     "name": "stdout",
     "output_type": "stream",
     "text": [
      "Adding edgelist with 1746 total unique MIR genes (source), but only matching 1615 nodes\n",
      "Adding edgelist with 4740 total unique GE genes (target), but only matching 4616 nodes\n",
      "64749 edges added.\n"
     ]
    }
   ],
   "source": [
    "# Adds miRNA-target interaction network\n",
    "network.add_directed_edges_from_edgelist(edgelist=mirtarbase_diff, #luad_data.MIR.get_miRTarBase_miRNA_target_interaction(use_latest=False), \n",
    "                                        modalities=[\"MIR\", \"GE\"], correlation_weights=False, threshold=0.20,\n",
    "                                        database=\"miRTarBase\")"
   ]
  },
  {
   "cell_type": "markdown",
   "metadata": {},
   "source": [
    "# StarBase mRNA-RNA"
   ]
  },
  {
   "cell_type": "code",
   "execution_count": 13,
   "metadata": {},
   "outputs": [
    {
     "data": {
      "text/plain": [
       "1516287"
      ]
     },
     "execution_count": 13,
     "metadata": {},
     "output_type": "execute_result"
    }
   ],
   "source": [
    "starbase_new = luad_data.GE.get_starBase_RNA_RNA_interactions(min_expNum=1, data=False)\n",
    "starbase_old = luad_data.GE.get_starBase_RNA_RNA_interactions(min_expNum=2, data=False)\n",
    "starbase_diff = list(set(starbase_new) - set(starbase_old))\n",
    "len(starbase_diff)"
   ]
  },
  {
   "cell_type": "code",
   "execution_count": 8,
   "metadata": {},
   "outputs": [
    {
     "name": "stdout",
     "output_type": "stream",
     "text": [
      "Adding edgelist with 359 total unique LNC genes (source), but only matching 295 nodes\n",
      "Adding edgelist with 10016 total unique GE genes (target), but only matching 6470 nodes\n",
      "20600 edges added.\n"
     ]
    },
    {
     "name": "stderr",
     "output_type": "stream",
     "text": [
      "/opt/anaconda3/lib/python3.6/site-packages/TCGAMultiOmics/genomic.py:301: FutureWarning: read_table is deprecated, use read_csv instead.\n",
      "  \"pairGeneType\", \"interactionNum\", 'expNum', \"FreeEnergy\"])\n"
     ]
    }
   ],
   "source": [
    "# Adds Gene Regulatory Network edges\n",
    "network.add_directed_edges_from_edgelist(edgelist=luad_data.LNC.get_starBase_lncRNA_RNA_interactions(),\n",
    "                                        modalities=[\"LNC\", \"GE\"], correlation_weights=False, threshold=0.2,\n",
    "                                        database=\"starBase\")"
   ]
  },
  {
   "cell_type": "markdown",
   "metadata": {},
   "source": [
    "# BioGRID"
   ]
  },
  {
   "cell_type": "code",
   "execution_count": 7,
   "metadata": {},
   "outputs": [
    {
     "name": "stderr",
     "output_type": "stream",
     "text": [
      "/opt/anaconda3/lib/python3.6/site-packages/TCGAMultiOmics/genomic.py:747: FutureWarning: read_table is deprecated, use read_csv instead, passing sep='\\t'.\n",
      "  low_memory=True)\n",
      "/opt/anaconda3/lib/python3.6/site-packages/IPython/core/interactiveshell.py:3214: DtypeWarning: Columns (19,20) have mixed types. Specify dtype option on import or set low_memory=False.\n",
      "  if (yield from self.run_code(code, result)):\n"
     ]
    },
    {
     "data": {
      "text/plain": [
       "33522"
      ]
     },
     "execution_count": 7,
     "metadata": {},
     "output_type": "execute_result"
    }
   ],
   "source": [
    "biogrid_new = luad_data.GE.get_BioGRID_GRN_edgelist(data=False, \n",
    "                biogrid_interactions_file_path='/data/datasets/Bioinformatics_ExternalData/BioGRID/BIOGRID-ALL-3.5.169.tab2.txt')\n",
    "biogrid_old = luad_data.GE.get_BioGRID_GRN_edgelist(data=False, \n",
    "                biogrid_interactions_file_path='/data/datasets/Bioinformatics_ExternalData/BioGRID/BIOGRID-ALL-3.4.162.tab2.txt')\n",
    "biogrid_diff = list(set(biogrid_new) - set(biogrid_old))\n",
    "len(biogrid_diff)"
   ]
  },
  {
   "cell_type": "code",
   "execution_count": 8,
   "metadata": {},
   "outputs": [
    {
     "name": "stdout",
     "output_type": "stream",
     "text": [
      "Adding edgelist with 2238 total unique GE genes (source), but only matching 2183 nodes\n",
      "Adding edgelist with 7736 total unique GE genes (target), but only matching 7278 nodes\n",
      "33522 edges added.\n"
     ]
    }
   ],
   "source": [
    "# Adds Gene Regulatory Network edges\n",
    "network.add_directed_edges_from_edgelist(edgelist=biogrid_diff, #luad_data.GE.get_BioGRID_GRN_edgelist(biogrid_interactions_file_path='/data/datasets/Bioinformatics_ExternalData/BioGRID/BIOGRID-ALL-3.4.162.tab2.txt'),\n",
    "                                        modalities=[\"GE\", \"GE\"], correlation_weights=False, threshold=0.2,\n",
    "                                        database=\"BioGRID\")"
   ]
  },
  {
   "cell_type": "markdown",
   "metadata": {},
   "source": [
    "# NPInter"
   ]
  },
  {
   "cell_type": "code",
   "execution_count": 9,
   "metadata": {},
   "outputs": [
    {
     "name": "stderr",
     "output_type": "stream",
     "text": [
      "/opt/anaconda3/lib/python3.6/site-packages/TCGAMultiOmics/genomic.py:376: FutureWarning: read_table is deprecated, use read_csv instead, passing sep='\\t'.\n",
      "  \"InteractionPartner\", \"organism\", \"tag\", \"interClass\", \"interLevel\"])\n"
     ]
    },
    {
     "data": {
      "text/plain": [
       "123486"
      ]
     },
     "execution_count": 9,
     "metadata": {},
     "output_type": "execute_result"
    }
   ],
   "source": [
    "# npinter_new = luad_data.LNC.get_NPInter_ncRNA_RNA_regulatory_interaction_edgelist(use_latest=True, data=False)\n",
    "# npinter_old = luad_data.LNC.get_NPInter_ncRNA_RNA_regulatory_interaction_edgelist(use_latest=False, data=False)\n",
    "# npinter_diff = list(set(npinter_new) - set(npinter_old))\n",
    "# len(npinter_diff)"
   ]
  },
  {
   "cell_type": "markdown",
   "metadata": {},
   "source": [
    "# lncBase"
   ]
  },
  {
   "cell_type": "code",
   "execution_count": 9,
   "metadata": {},
   "outputs": [],
   "source": [
    "from moge.network.heterogeneous_network import get_rename_dict\n",
    "lncbase_rename_dict = get_rename_dict(luad_data.LNC.get_genes_info(), \"Gene ID\")"
   ]
  },
  {
   "cell_type": "code",
   "execution_count": 10,
   "metadata": {},
   "outputs": [
    {
     "name": "stderr",
     "output_type": "stream",
     "text": [
      "/opt/anaconda3/lib/python3.6/site-packages/TCGAMultiOmics/genomic.py:335: FutureWarning: read_table is deprecated, use read_csv instead, passing sep='\\t'.\n",
      "  lncbase_df = pd.read_table(self.lncBase_interactions_file_path)\n"
     ]
    },
    {
     "name": "stdout",
     "output_type": "stream",
     "text": [
      "340018 60186 337031\n"
     ]
    }
   ],
   "source": [
    "lncbase_new = luad_data.LNC.get_lncBase_miRNA_lncRNA_predicted_interactions_edgelist(rename_dict=lncbase_rename_dict,\n",
    "                                                                                     data=False)\n",
    "lncbase_old = luad_data.LNC.get_lncBase_miRNA_lncRNA_interactions_edgelist(rename_dict=lncbase_rename_dict, \n",
    "                                                                           data=False)\n",
    "lncbase_diff = list(set(lncbase_new) - set(lncbase_old))\n",
    "print(len(lncbase_diff))"
   ]
  },
  {
   "cell_type": "code",
   "execution_count": 11,
   "metadata": {},
   "outputs": [
    {
     "name": "stdout",
     "output_type": "stream",
     "text": [
      "Adding edgelist with 1746 total unique MIR genes (source), but only matching 1615 nodes\n",
      "Adding edgelist with 20412 total unique LNC genes (target), but only matching 11692 nodes\n",
      "337031 edges added.\n",
      "Adding edgelist with 137 total unique LNC genes (source), but only matching 22 nodes\n",
      "Adding edgelist with 373 total unique GE genes (target), but only matching 172 nodes\n",
      "554 edges added.\n"
     ]
    }
   ],
   "source": [
    "# Adds miRNA-lncRNA interaction network\n",
    "# network.add_directed_edges_from_edgelist(edgelist=luad_data.LNC.get_starBase_lncRNA_miRNA_interactions_edgelist(),\n",
    "#                                         )\n",
    "# network.add_directed_edges_from_edgelist(edgelist=luad_data.LNC.get_lncRNome_miRNA_binding_sites_edgelist(),\n",
    "#                                          modalities=[\"LNC\", \"MIR\"], correlation_weights=False, threshold=0.20,\n",
    "#                                         database=\"lncRNome\")\n",
    "\n",
    "network.add_directed_edges_from_edgelist(edgelist=lncbase_diff, #luad_data.LNC.get_lncBase_miRNA_lncRNA_interactions_edgelist(rename_dict=lncbase_rename_dict),\n",
    "                                         modalities=[\"MIR\", \"LNC\"], correlation_weights=False, threshold=0.20,\n",
    "                                        database=\"lncBase\")\n",
    "\n",
    "# network.add_directed_edges_from_edgelist(edgelist=npinter_diff, #luad_data.LNC.get_NPInter_ncRNA_RNA_regulatory_interaction_edgelist(use_latest=False),\n",
    "#                                          modalities=[\"LNC\", \"GE\"], correlation_weights=False, threshold=0.20,\n",
    "#                                         database=\"NPInter\")\n",
    "\n",
    "network.add_directed_edges_from_edgelist(edgelist=luad_data.LNC.get_LncReg_lncRNA_RNA_regulatory_interactions(),\n",
    "                                         modalities=[\"LNC\", \"GE\"], correlation_weights=False, threshold=0.20,\n",
    "                                        database=\"LncReg\")"
   ]
  },
  {
   "cell_type": "markdown",
   "metadata": {},
   "source": [
    "# lncrna2target"
   ]
  },
  {
   "cell_type": "code",
   "execution_count": 12,
   "metadata": {},
   "outputs": [
    {
     "name": "stderr",
     "output_type": "stream",
     "text": [
      "/opt/anaconda3/lib/python3.6/site-packages/TCGAMultiOmics/genomic.py:443: FutureWarning: read_table is deprecated, use read_csv instead, passing sep='\\t'.\n",
      "  table = pd.read_table(self.lncrna2target_high_throughput_table_path, low_memory=True)\n",
      "/opt/anaconda3/lib/python3.6/site-packages/IPython/core/interactiveshell.py:3214: DtypeWarning: Columns (6) have mixed types. Specify dtype option on import or set low_memory=False.\n",
      "  if (yield from self.run_code(code, result)):\n"
     ]
    },
    {
     "data": {
      "text/plain": [
       "1277"
      ]
     },
     "execution_count": 12,
     "metadata": {},
     "output_type": "execute_result"
    }
   ],
   "source": [
    "lnc2tar_low = luad_data.LNC.get_lncrna2target_low_throughput_interactions(data=False)\n",
    "lnc2tar_high = luad_data.LNC.get_lncrna2target_high_throughput_interactions(data=False)\n",
    "lnc2tar_diff = list(set(lnc2tar_low) - set(lnc2tar_high))\n",
    "len(lnc2tar_diff)"
   ]
  },
  {
   "cell_type": "code",
   "execution_count": 13,
   "metadata": {},
   "outputs": [
    {
     "name": "stdout",
     "output_type": "stream",
     "text": [
      "Adding edgelist with 243 total unique LNC genes (source), but only matching 79 nodes\n",
      "Adding edgelist with 677 total unique GE genes (target), but only matching 454 nodes\n",
      "1277 edges added.\n"
     ]
    },
    {
     "name": "stderr",
     "output_type": "stream",
     "text": [
      "/opt/anaconda3/lib/python3.6/site-packages/TCGAMultiOmics/genomic.py:475: FutureWarning: read_table is deprecated, use read_csv instead, passing sep='\\t'.\n",
      "  table = pd.read_table(self.lncRInter_table_path)\n",
      "/opt/anaconda3/lib/python3.6/site-packages/TCGAMultiOmics/genomic.py:483: SettingWithCopyWarning: \n",
      "A value is trying to be set on a copy of a slice from a DataFrame\n",
      "\n",
      "See the caveats in the documentation: http://pandas.pydata.org/pandas-docs/stable/indexing.html#indexing-view-versus-copy\n",
      "  lambda x: x[:-1] + \"-\" + x[-1])\n"
     ]
    },
    {
     "name": "stdout",
     "output_type": "stream",
     "text": [
      "Adding edgelist with 170 total unique LNC genes (source), but only matching 83 nodes\n",
      "Adding edgelist with 315 total unique GE genes (target), but only matching 252 nodes\n",
      "522 edges added.\n"
     ]
    }
   ],
   "source": [
    "network.add_directed_edges_from_edgelist(edgelist=lnc2tar_diff, # luad_data.LNC.get_lncrna2target_high_throughput_interactions(),\n",
    "                                         modalities=[\"LNC\", \"GE\"], correlation_weights=False, threshold=0.20,\n",
    "                                        database=\"lncrna2target\")\n",
    "\n",
    "# network.add_directed_edges_from_edgelist(edgelist=luad_data.LNC.get_lncrna2target_low_throughput_interactions(),\n",
    "#                                          modalities=[\"LNC\", \"GE\"], correlation_weights=False, threshold=0.20,\n",
    "#                                         database=\"lncrna2target_low\")\n",
    "\n",
    "network.add_directed_edges_from_edgelist(edgelist=luad_data.LNC.get_lncRInter_interactions(),\n",
    "                                         modalities=[\"LNC\", \"GE\"], correlation_weights=False, threshold=0.20,\n",
    "                                        database=\"lncRInter\")"
   ]
  },
  {
   "cell_type": "markdown",
   "metadata": {},
   "source": [
    "# Filter the node_list"
   ]
  },
  {
   "cell_type": "code",
   "execution_count": 14,
   "metadata": {},
   "outputs": [
    {
     "data": {
      "text/plain": [
       "11308"
      ]
     },
     "execution_count": 14,
     "metadata": {},
     "output_type": "execute_result"
    }
   ],
   "source": [
    "isolates = list(nx.isolates(network.G))\n",
    "len(isolates)"
   ]
  },
  {
   "cell_type": "code",
   "execution_count": 15,
   "metadata": {},
   "outputs": [],
   "source": [
    "network.nodes[\"GE\"] = [node for node in network.nodes[\"GE\"] if node not in isolates]\n",
    "network.nodes[\"LNC\"] = [node for node in network.nodes[\"LNC\"] if node not in isolates]\n",
    "network.nodes[\"MIR\"] = [node for node in network.nodes[\"MIR\"] if node not in isolates]\n",
    "network.node_list = [node for node in network.node_list if node not in isolates]"
   ]
  },
  {
   "cell_type": "code",
   "execution_count": 16,
   "metadata": {},
   "outputs": [],
   "source": [
    "# network.remove_extra_nodes() # Also makes network unmutable"
   ]
  },
  {
   "cell_type": "code",
   "execution_count": 17,
   "metadata": {},
   "outputs": [
    {
     "data": {
      "text/plain": [
       "44670"
      ]
     },
     "execution_count": 17,
     "metadata": {},
     "output_type": "execute_result"
    }
   ],
   "source": [
    "network.G.number_of_nodes()"
   ]
  },
  {
   "cell_type": "code",
   "execution_count": 18,
   "metadata": {},
   "outputs": [
    {
     "data": {
      "text/plain": [
       "22648"
      ]
     },
     "execution_count": 18,
     "metadata": {},
     "output_type": "execute_result"
    }
   ],
   "source": [
    "len(network.node_list)"
   ]
  },
  {
   "cell_type": "code",
   "execution_count": 19,
   "metadata": {},
   "outputs": [],
   "source": [
    "# WRITE/READ FULL network\n",
    "import pickle\n",
    "with open('moge/data/LMN_future_recall/TEST/Interactions_Affinity/LMN_mirtarbase_biogrid_starbase_lncrna2target_lncrinter.test.pickle', \n",
    "          'wb') as file:\n",
    "    pickle.dump(network, file)\n",
    "#     network = pickle.load(file)"
   ]
  },
  {
   "cell_type": "code",
   "execution_count": 20,
   "metadata": {},
   "outputs": [
    {
     "data": {
      "text/plain": [
       "244874"
      ]
     },
     "execution_count": 20,
     "metadata": {},
     "output_type": "execute_result"
    }
   ],
   "source": [
    "len(network.get_edgelist(edge_types=\"d\", node_list=network.node_list))"
   ]
  },
  {
   "cell_type": "markdown",
   "metadata": {},
   "source": [
    "# Split train-test by edges"
   ]
  },
  {
   "cell_type": "code",
   "execution_count": 45,
   "metadata": {},
   "outputs": [],
   "source": [
    "import pickle\n",
    "# WRITE READ network\n",
    "with open('moge/data/LMN_future_recall/Predict/Interactions_Affinity/LMN_mirtarbase_starbase_lncbase_npinter_lncrna2target.test.pickle', 'rb') as file:\n",
    "    network = pickle.load(file)"
   ]
  },
  {
   "cell_type": "code",
   "execution_count": 27,
   "metadata": {},
   "outputs": [
    {
     "name": "stdout",
     "output_type": "stream",
     "text": [
      "preprocessing...\n",
      "edges_to_remove 345875\n",
      "edges_to_remove (after MST) 345875\n",
      "test_edges_size 0\n",
      "val_edges_size 69175\n",
      "Removed 0 test, and 69175 val, type ['d'] edges\n"
     ]
    }
   ],
   "source": [
    "from moge.evaluation.utils import split_train_test_edges\n",
    "\n",
    "network_train, test_edges, val_edges = split_train_test_edges(network, network.node_list, \n",
    "#                                                                            databases=,\n",
    "                                                          test_frac=.00, val_frac=.20, edge_types=[\"d\"], \n",
    "                                                          seed=0, verbose=True)"
   ]
  },
  {
   "cell_type": "code",
   "execution_count": 28,
   "metadata": {},
   "outputs": [
    {
     "name": "stdout",
     "output_type": "stream",
     "text": [
      "MIR  nodes: 1870\n",
      "GE  nodes: 20157\n",
      "LNC  nodes: 12706\n",
      "Total nodes: 34733\n",
      "Genes info columns: ['Transcript sequence', 'Disease association', 'locus_type', 'GO Terms', 'Family']\n",
      "Number of nodes without seq removed: 2153\n",
      "Total nodes (filtered): 32581\n",
      "MIR  nodes: 1870\n",
      "GE  nodes: 20157\n",
      "LNC  nodes: 12706\n",
      "Total nodes: 34733\n",
      "Genes info columns: ['Transcript sequence', 'Disease association', 'locus_type', 'GO Terms', 'Family']\n",
      "Number of nodes without seq removed: 2153\n",
      "Total nodes (filtered): 32581\n"
     ]
    }
   ],
   "source": [
    "from moge.network.heterogeneous_network import HeterogeneousNetwork\n",
    "\n",
    "network_test = HeterogeneousNetwork(modalities=[\"MIR\", \"GE\", \"LNC\"], multi_omics_data=network.multi_omics_data)\n",
    "network_val = HeterogeneousNetwork(modalities=[\"MIR\", \"GE\", \"LNC\"], multi_omics_data=network.multi_omics_data)\n",
    "network_test.G.add_edges_from(test_edges)\n",
    "network_val.G.add_edges_from(val_edges)"
   ]
  },
  {
   "cell_type": "markdown",
   "metadata": {},
   "source": [
    "# Split train-test by nodes"
   ]
  },
  {
   "cell_type": "code",
   "execution_count": null,
   "metadata": {},
   "outputs": [],
   "source": [
    "from moge.evaluation.utils import split_train_test_nodes\n",
    "\n",
    "network_train, test_edges, val_edges, test_nodes, val_nodes = split_train_test_nodes(network, network.nodes[\"LNC\"],\n",
    "                                                          test_frac=.00, val_frac=.10, edge_types=[\"d\"], \n",
    "                                                          seed=0, verbose=True)"
   ]
  },
  {
   "cell_type": "code",
   "execution_count": null,
   "metadata": {},
   "outputs": [],
   "source": [
    "from moge.network.heterogeneous_network import HeterogeneousNetwork\n",
    "\n",
    "network_test = HeterogeneousNetwork(modalities=[\"MIR\", \"GE\", \"LNC\"], multi_omics_data=network.multi_omics_data)\n",
    "network_val = HeterogeneousNetwork(modalities=[\"MIR\", \"GE\", \"LNC\"], multi_omics_data=network.multi_omics_data)\n",
    "network_test.val_node_list = test_nodes\n",
    "network_val.val_node_list = val_nodes\n",
    "network_test.G.add_edges_from(test_edges)\n",
    "network_val.G.add_edges_from(val_edges)\n",
    "len(network_test.node_list), len(network_val.node_list)"
   ]
  },
  {
   "cell_type": "code",
   "execution_count": null,
   "metadata": {},
   "outputs": [],
   "source": [
    "network_train.G.number_of_edges()"
   ]
  },
  {
   "cell_type": "markdown",
   "metadata": {},
   "source": [
    "# Write train-test-val split as separate networks"
   ]
  },
  {
   "cell_type": "code",
   "execution_count": 29,
   "metadata": {},
   "outputs": [],
   "source": [
    "# WRITE\n",
    "import pickle\n",
    "with open('moge/data/LMN_only_directed/lmn_edges20/lmn_edges20_train.pickle', 'wb') as file:\n",
    "    pickle.dump(network_train, file)\n",
    "    \n",
    "with open('moge/data/LMN_only_directed/lmn_edges20/lmn_edges20_test.pickle', 'wb') as file:\n",
    "    pickle.dump(network_test, file)\n",
    "    \n",
    "with open('moge/data/LMN_only_directed/lmn_edges20/lmn_edges20_val.pickle', 'wb') as file:\n",
    "    pickle.dump(network_val, file)"
   ]
  },
  {
   "cell_type": "code",
   "execution_count": 30,
   "metadata": {},
   "outputs": [],
   "source": [
    "# WRITE Edgelist\n",
    "nx.write_edgelist(network_train.get_subgraph([\"MIR\", \"GE\", \"LNC\"]), \n",
    "                  \"moge/data/LMN_only_directed/lmn_edges20/lmn_edges20_train.full.edgelist\", \n",
    "                  data=False)"
   ]
  },
  {
   "cell_type": "code",
   "execution_count": 6,
   "metadata": {},
   "outputs": [],
   "source": [
    "# Write edgelist interactions only\n",
    "nx.write_edgelist(nx.Graph(incoming_graph_data=network.get_edgelist(edge_types=[\"d\"], node_list=network.node_list)),\n",
    "                  \"moge/data/LMN_future_recall/TRAIN/Interactions_Only/lmn_train.interactions.edgelist\",\n",
    "                  data=False)"
   ]
  },
  {
   "cell_type": "code",
   "execution_count": null,
   "metadata": {
    "collapsed": true
   },
   "outputs": [
    {
     "name": "stderr",
     "output_type": "stream",
     "text": [
      "[autoreload of IPython.core.ultratb failed: Traceback (most recent call last):\n",
      "  File \"/opt/anaconda3/lib/python3.6/site-packages/IPython/extensions/autoreload.py\", line 244, in check\n",
      "    superreload(m, reload, self.old_objects)\n",
      "  File \"/opt/anaconda3/lib/python3.6/site-packages/IPython/extensions/autoreload.py\", line 376, in superreload\n",
      "  File \"/opt/anaconda3/lib/python3.6/imp.py\", line 315, in reload\n",
      "    return importlib.reload(module)\n",
      "  File \"/opt/anaconda3/lib/python3.6/importlib/__init__.py\", line 166, in reload\n",
      "    _bootstrap._exec(spec, module)\n",
      "  File \"<frozen importlib._bootstrap>\", line 618, in _exec\n",
      "  File \"<frozen importlib._bootstrap_external>\", line 678, in exec_module\n",
      "  File \"<frozen importlib._bootstrap>\", line 219, in _call_with_frames_removed\n",
      "  File \"/opt/anaconda3/lib/python3.6/site-packages/IPython/core/ultratb.py\", line 128, in <module>\n",
      "    import IPython.utils.colorable as colorable\n",
      "AttributeError: module 'IPython' has no attribute 'utils'\n",
      "]\n",
      "[autoreload of prompt_toolkit.layout.containers failed: Traceback (most recent call last):\n",
      "  File \"/opt/anaconda3/lib/python3.6/site-packages/IPython/extensions/autoreload.py\", line 244, in check\n",
      "    superreload(m, reload, self.old_objects)\n",
      "  File \"/opt/anaconda3/lib/python3.6/site-packages/IPython/extensions/autoreload.py\", line 376, in superreload\n",
      "  File \"/opt/anaconda3/lib/python3.6/imp.py\", line 315, in reload\n",
      "    return importlib.reload(module)\n",
      "  File \"/opt/anaconda3/lib/python3.6/importlib/__init__.py\", line 166, in reload\n",
      "    _bootstrap._exec(spec, module)\n",
      "  File \"<frozen importlib._bootstrap>\", line 618, in _exec\n",
      "  File \"<frozen importlib._bootstrap_external>\", line 678, in exec_module\n",
      "  File \"<frozen importlib._bootstrap>\", line 219, in _call_with_frames_removed\n",
      "  File \"/opt/anaconda3/lib/python3.6/site-packages/prompt_toolkit/layout/containers.py\", line 1145, in <module>\n",
      "    _in_insert_mode = vi_insert_mode | emacs_insert_mode\n",
      "  File \"/opt/anaconda3/lib/python3.6/site-packages/prompt_toolkit/filters/base.py\", line 39, in __or__\n",
      "    return _or_cache[self, other]\n",
      "  File \"/opt/anaconda3/lib/python3.6/site-packages/prompt_toolkit/filters/base.py\", line 90, in __missing__\n",
      "    assert isinstance(b, Filter), 'Expecting filter, got %r' % b\n",
      "AssertionError: Expecting filter, got Condition(<function emacs_insert_mode at 0x7f6d412129d8>)\n",
      "]\n",
      "[autoreload of IPython.lib.clipboard failed: Traceback (most recent call last):\n",
      "  File \"/opt/anaconda3/lib/python3.6/site-packages/IPython/extensions/autoreload.py\", line 244, in check\n",
      "    superreload(m, reload, self.old_objects)\n",
      "  File \"/opt/anaconda3/lib/python3.6/site-packages/IPython/extensions/autoreload.py\", line 376, in superreload\n",
      "  File \"/opt/anaconda3/lib/python3.6/imp.py\", line 315, in reload\n",
      "    return importlib.reload(module)\n",
      "  File \"/opt/anaconda3/lib/python3.6/importlib/__init__.py\", line 166, in reload\n",
      "    _bootstrap._exec(spec, module)\n",
      "  File \"<frozen importlib._bootstrap>\", line 618, in _exec\n",
      "  File \"<frozen importlib._bootstrap_external>\", line 678, in exec_module\n",
      "  File \"<frozen importlib._bootstrap>\", line 219, in _call_with_frames_removed\n",
      "  File \"/opt/anaconda3/lib/python3.6/site-packages/IPython/lib/clipboard.py\", line 7, in <module>\n",
      "    import IPython.utils.py3compat as py3compat\n",
      "AttributeError: module 'IPython' has no attribute 'utils'\n",
      "]\n",
      "[autoreload of dateutil.tz._common failed: Traceback (most recent call last):\n",
      "  File \"/opt/anaconda3/lib/python3.6/site-packages/IPython/extensions/autoreload.py\", line 244, in check\n",
      "    superreload(m, reload, self.old_objects)\n",
      "  File \"/opt/anaconda3/lib/python3.6/site-packages/IPython/extensions/autoreload.py\", line 392, in superreload\n",
      "    if old_obj is None: continue\n",
      "  File \"/opt/anaconda3/lib/python3.6/site-packages/IPython/extensions/autoreload.py\", line 329, in update_generic\n",
      "    for type_check, update in UPDATE_RULES:\n",
      "  File \"/opt/anaconda3/lib/python3.6/site-packages/IPython/extensions/autoreload.py\", line 287, in update_class\n",
      "    continue\n",
      "  File \"/opt/anaconda3/lib/python3.6/site-packages/IPython/extensions/autoreload.py\", line 329, in update_generic\n",
      "    for type_check, update in UPDATE_RULES:\n",
      "  File \"/opt/anaconda3/lib/python3.6/site-packages/IPython/extensions/autoreload.py\", line 265, in update_function\n",
      "    setattr(old, name, getattr(new, name))\n",
      "ValueError: adjust_encoding() requires a code object with 1 free vars, not 0\n",
      "]\n",
      "[autoreload of pkg_resources.extern.six failed: Traceback (most recent call last):\n",
      "  File \"/opt/anaconda3/lib/python3.6/site-packages/IPython/extensions/autoreload.py\", line 244, in check\n",
      "    superreload(m, reload, self.old_objects)\n",
      "  File \"/opt/anaconda3/lib/python3.6/site-packages/IPython/extensions/autoreload.py\", line 376, in superreload\n",
      "  File \"/opt/anaconda3/lib/python3.6/imp.py\", line 315, in reload\n",
      "    return importlib.reload(module)\n",
      "  File \"/opt/anaconda3/lib/python3.6/importlib/__init__.py\", line 147, in reload\n",
      "    raise ImportError(msg.format(name), name=name)\n",
      "ImportError: module pkg_resources._vendor.six not in sys.modules\n",
      "]\n",
      "[autoreload of pkg_resources.extern.appdirs failed: Traceback (most recent call last):\n",
      "  File \"/opt/anaconda3/lib/python3.6/site-packages/IPython/extensions/autoreload.py\", line 244, in check\n",
      "    superreload(m, reload, self.old_objects)\n",
      "  File \"/opt/anaconda3/lib/python3.6/site-packages/IPython/extensions/autoreload.py\", line 376, in superreload\n",
      "  File \"/opt/anaconda3/lib/python3.6/imp.py\", line 315, in reload\n",
      "    return importlib.reload(module)\n",
      "  File \"/opt/anaconda3/lib/python3.6/importlib/__init__.py\", line 147, in reload\n",
      "    raise ImportError(msg.format(name), name=name)\n",
      "ImportError: module pkg_resources._vendor.appdirs not in sys.modules\n",
      "]\n",
      "[autoreload of pkg_resources._vendor.packaging.__about__ failed: Traceback (most recent call last):\n",
      "  File \"/opt/anaconda3/lib/python3.6/site-packages/IPython/extensions/autoreload.py\", line 244, in check\n",
      "    superreload(m, reload, self.old_objects)\n",
      "  File \"/opt/anaconda3/lib/python3.6/site-packages/IPython/extensions/autoreload.py\", line 376, in superreload\n",
      "  File \"/opt/anaconda3/lib/python3.6/imp.py\", line 315, in reload\n",
      "    return importlib.reload(module)\n",
      "  File \"/opt/anaconda3/lib/python3.6/importlib/__init__.py\", line 159, in reload\n",
      "    name=parent_name) from None\n",
      "ImportError: parent 'pkg_resources._vendor.packaging' not in sys.modules\n",
      "]\n",
      "[autoreload of pkg_resources.extern.packaging failed: Traceback (most recent call last):\n",
      "  File \"/opt/anaconda3/lib/python3.6/site-packages/IPython/extensions/autoreload.py\", line 244, in check\n",
      "    superreload(m, reload, self.old_objects)\n",
      "  File \"/opt/anaconda3/lib/python3.6/site-packages/IPython/extensions/autoreload.py\", line 376, in superreload\n",
      "  File \"/opt/anaconda3/lib/python3.6/imp.py\", line 315, in reload\n",
      "    return importlib.reload(module)\n",
      "  File \"/opt/anaconda3/lib/python3.6/importlib/__init__.py\", line 147, in reload\n",
      "    raise ImportError(msg.format(name), name=name)\n",
      "ImportError: module pkg_resources._vendor.packaging not in sys.modules\n",
      "]\n",
      "[autoreload of pkg_resources.extern.pyparsing failed: Traceback (most recent call last):\n",
      "  File \"/opt/anaconda3/lib/python3.6/site-packages/IPython/extensions/autoreload.py\", line 244, in check\n",
      "    superreload(m, reload, self.old_objects)\n",
      "  File \"/opt/anaconda3/lib/python3.6/site-packages/IPython/extensions/autoreload.py\", line 376, in superreload\n",
      "  File \"/opt/anaconda3/lib/python3.6/imp.py\", line 315, in reload\n",
      "    return importlib.reload(module)\n",
      "  File \"/opt/anaconda3/lib/python3.6/importlib/__init__.py\", line 147, in reload\n",
      "    raise ImportError(msg.format(name), name=name)\n",
      "ImportError: module pkg_resources._vendor.pyparsing not in sys.modules\n",
      "]\n",
      "[autoreload of cffi failed: Traceback (most recent call last):\n",
      "  File \"/opt/anaconda3/lib/python3.6/site-packages/IPython/extensions/autoreload.py\", line 244, in check\n",
      "    superreload(m, reload, self.old_objects)\n",
      "  File \"/opt/anaconda3/lib/python3.6/site-packages/IPython/extensions/autoreload.py\", line 376, in superreload\n",
      "  File \"/opt/anaconda3/lib/python3.6/imp.py\", line 315, in reload\n",
      "    return importlib.reload(module)\n",
      "  File \"/opt/anaconda3/lib/python3.6/importlib/__init__.py\", line 166, in reload\n",
      "    _bootstrap._exec(spec, module)\n",
      "  File \"<frozen importlib._bootstrap>\", line 618, in _exec\n",
      "  File \"<frozen importlib._bootstrap_external>\", line 678, in exec_module\n",
      "  File \"<frozen importlib._bootstrap>\", line 219, in _call_with_frames_removed\n",
      "  File \"/opt/anaconda3/lib/python3.6/site-packages/cffi/__init__.py\", line 6, in <module>\n",
      "    from .error import PkgConfigError\n",
      "ImportError: cannot import name 'PkgConfigError'\n",
      "]\n",
      "[autoreload of psutil failed: Traceback (most recent call last):\n",
      "  File \"/opt/anaconda3/lib/python3.6/site-packages/IPython/extensions/autoreload.py\", line 244, in check\n",
      "    superreload(m, reload, self.old_objects)\n",
      "  File \"/opt/anaconda3/lib/python3.6/site-packages/IPython/extensions/autoreload.py\", line 376, in superreload\n",
      "  File \"/opt/anaconda3/lib/python3.6/imp.py\", line 315, in reload\n",
      "    return importlib.reload(module)\n",
      "  File \"/opt/anaconda3/lib/python3.6/importlib/__init__.py\", line 166, in reload\n",
      "    _bootstrap._exec(spec, module)\n",
      "  File \"<frozen importlib._bootstrap>\", line 618, in _exec\n",
      "  File \"<frozen importlib._bootstrap_external>\", line 678, in exec_module\n",
      "  File \"<frozen importlib._bootstrap>\", line 219, in _call_with_frames_removed\n",
      "  File \"/opt/anaconda3/lib/python3.6/site-packages/psutil/__init__.py\", line 252, in <module>\n",
      "    raise ImportError(msg)\n",
      "ImportError: version conflict: '/opt/anaconda3/lib/python3.6/site-packages/psutil/_psutil_linux.cpython-36m-x86_64-linux-gnu.so' C extension module was built for another version of psutil (5.4.8 instead of 5.5.0); you may try to 'pip uninstall psutil', manually remove /opt/anaconda3/lib/python3.6/site-packages/psutil/_psutil_linux.cpython-36m-x86_64-linux-gnu.so or clean the virtual env somehow, then reinstall\n",
      "]\n",
      "[autoreload of psutil._pslinux failed: Traceback (most recent call last):\n",
      "  File \"/opt/anaconda3/lib/python3.6/site-packages/IPython/extensions/autoreload.py\", line 244, in check\n",
      "    superreload(m, reload, self.old_objects)\n",
      "  File \"/opt/anaconda3/lib/python3.6/site-packages/IPython/extensions/autoreload.py\", line 392, in superreload\n",
      "    if old_obj is None: continue\n",
      "  File \"/opt/anaconda3/lib/python3.6/site-packages/IPython/extensions/autoreload.py\", line 329, in update_generic\n",
      "    for type_check, update in UPDATE_RULES:\n",
      "  File \"/opt/anaconda3/lib/python3.6/site-packages/IPython/extensions/autoreload.py\", line 287, in update_class\n",
      "    continue\n",
      "  File \"/opt/anaconda3/lib/python3.6/site-packages/IPython/extensions/autoreload.py\", line 329, in update_generic\n",
      "    for type_check, update in UPDATE_RULES:\n",
      "  File \"/opt/anaconda3/lib/python3.6/site-packages/IPython/extensions/autoreload.py\", line 265, in update_function\n",
      "    setattr(old, name, getattr(new, name))\n",
      "ValueError: _parse_stat_file() requires a code object with 3 free vars, not 1\n",
      "]\n",
      "[autoreload of py failed: Traceback (most recent call last):\n",
      "  File \"/opt/anaconda3/lib/python3.6/site-packages/IPython/extensions/autoreload.py\", line 244, in check\n",
      "    superreload(m, reload, self.old_objects)\n",
      "  File \"/opt/anaconda3/lib/python3.6/site-packages/IPython/extensions/autoreload.py\", line 370, in superreload\n",
      "    old_name = module.__name__\n",
      "  File \"/opt/anaconda3/lib/python3.6/site-packages/py/_vendored_packages/apipkg.py\", line 165, in __dict__\n",
      "    hasattr(self, 'some')\n",
      "  File \"/opt/anaconda3/lib/python3.6/site-packages/py/_vendored_packages/apipkg.py\", line 137, in __makeattr\n",
      "    if '__onfirstaccess__' in self.__map__:\n",
      "  File \"/opt/anaconda3/lib/python3.6/site-packages/py/_vendored_packages/apipkg.py\", line 137, in __makeattr\n",
      "    if '__onfirstaccess__' in self.__map__:\n",
      "  File \"/opt/anaconda3/lib/python3.6/site-packages/py/_vendored_packages/apipkg.py\", line 137, in __makeattr\n",
      "    if '__onfirstaccess__' in self.__map__:\n",
      "  [Previous line repeated 4 more times]\n",
      "RecursionError: maximum recursion depth exceeded\n",
      "]\n",
      "[autoreload of py._error failed: Traceback (most recent call last):\n",
      "  File \"/opt/anaconda3/lib/python3.6/site-packages/IPython/extensions/autoreload.py\", line 244, in check\n",
      "    superreload(m, reload, self.old_objects)\n",
      "  File \"/opt/anaconda3/lib/python3.6/site-packages/IPython/extensions/autoreload.py\", line 376, in superreload\n",
      "  File \"/opt/anaconda3/lib/python3.6/imp.py\", line 315, in reload\n",
      "    return importlib.reload(module)\n",
      "  File \"/opt/anaconda3/lib/python3.6/importlib/__init__.py\", line 161, in reload\n",
      "    pkgpath = parent.__path__\n",
      "  File \"/opt/anaconda3/lib/python3.6/site-packages/py/_vendored_packages/apipkg.py\", line 137, in __makeattr\n",
      "    if '__onfirstaccess__' in self.__map__:\n",
      "  File \"/opt/anaconda3/lib/python3.6/site-packages/py/_vendored_packages/apipkg.py\", line 137, in __makeattr\n",
      "    if '__onfirstaccess__' in self.__map__:\n",
      "  File \"/opt/anaconda3/lib/python3.6/site-packages/py/_vendored_packages/apipkg.py\", line 137, in __makeattr\n",
      "    if '__onfirstaccess__' in self.__map__:\n",
      "  [Previous line repeated 3 more times]\n",
      "RecursionError: maximum recursion depth exceeded while calling a Python object\n",
      "]\n",
      "[autoreload of py._vendored_packages failed: Traceback (most recent call last):\n",
      "  File \"/opt/anaconda3/lib/python3.6/site-packages/IPython/extensions/autoreload.py\", line 244, in check\n",
      "    superreload(m, reload, self.old_objects)\n",
      "  File \"/opt/anaconda3/lib/python3.6/site-packages/IPython/extensions/autoreload.py\", line 376, in superreload\n",
      "  File \"/opt/anaconda3/lib/python3.6/imp.py\", line 315, in reload\n",
      "    return importlib.reload(module)\n",
      "  File \"/opt/anaconda3/lib/python3.6/importlib/__init__.py\", line 161, in reload\n",
      "    pkgpath = parent.__path__\n",
      "  File \"/opt/anaconda3/lib/python3.6/site-packages/py/_vendored_packages/apipkg.py\", line 137, in __makeattr\n",
      "    if '__onfirstaccess__' in self.__map__:\n",
      "  File \"/opt/anaconda3/lib/python3.6/site-packages/py/_vendored_packages/apipkg.py\", line 137, in __makeattr\n",
      "    if '__onfirstaccess__' in self.__map__:\n",
      "  File \"/opt/anaconda3/lib/python3.6/site-packages/py/_vendored_packages/apipkg.py\", line 137, in __makeattr\n",
      "    if '__onfirstaccess__' in self.__map__:\n",
      "  [Previous line repeated 3 more times]\n",
      "RecursionError: maximum recursion depth exceeded while calling a Python object\n",
      "]\n",
      "[autoreload of py._version failed: Traceback (most recent call last):\n",
      "  File \"/opt/anaconda3/lib/python3.6/site-packages/IPython/extensions/autoreload.py\", line 244, in check\n",
      "    superreload(m, reload, self.old_objects)\n",
      "  File \"/opt/anaconda3/lib/python3.6/site-packages/IPython/extensions/autoreload.py\", line 376, in superreload\n",
      "  File \"/opt/anaconda3/lib/python3.6/imp.py\", line 315, in reload\n",
      "    return importlib.reload(module)\n",
      "  File \"/opt/anaconda3/lib/python3.6/importlib/__init__.py\", line 161, in reload\n",
      "    pkgpath = parent.__path__\n",
      "  File \"/opt/anaconda3/lib/python3.6/site-packages/py/_vendored_packages/apipkg.py\", line 137, in __makeattr\n",
      "    if '__onfirstaccess__' in self.__map__:\n",
      "  File \"/opt/anaconda3/lib/python3.6/site-packages/py/_vendored_packages/apipkg.py\", line 137, in __makeattr\n",
      "    if '__onfirstaccess__' in self.__map__:\n",
      "  File \"/opt/anaconda3/lib/python3.6/site-packages/py/_vendored_packages/apipkg.py\", line 137, in __makeattr\n",
      "    if '__onfirstaccess__' in self.__map__:\n",
      "  [Previous line repeated 3 more times]\n",
      "RecursionError: maximum recursion depth exceeded while calling a Python object\n",
      "]\n",
      "[autoreload of py.test failed: Traceback (most recent call last):\n",
      "  File \"/opt/anaconda3/lib/python3.6/site-packages/IPython/extensions/autoreload.py\", line 244, in check\n",
      "    superreload(m, reload, self.old_objects)\n",
      "  File \"/opt/anaconda3/lib/python3.6/site-packages/IPython/extensions/autoreload.py\", line 376, in superreload\n",
      "  File \"/opt/anaconda3/lib/python3.6/imp.py\", line 315, in reload\n",
      "    return importlib.reload(module)\n",
      "  File \"/opt/anaconda3/lib/python3.6/importlib/__init__.py\", line 147, in reload\n",
      "    raise ImportError(msg.format(name), name=name)\n",
      "ImportError: module pytest not in sys.modules\n",
      "]\n",
      "[autoreload of _pytest._code.code failed: Traceback (most recent call last):\n",
      "  File \"/opt/anaconda3/lib/python3.6/site-packages/IPython/extensions/autoreload.py\", line 244, in check\n",
      "    superreload(m, reload, self.old_objects)\n",
      "  File \"/opt/anaconda3/lib/python3.6/site-packages/IPython/extensions/autoreload.py\", line 376, in superreload\n",
      "  File \"/opt/anaconda3/lib/python3.6/imp.py\", line 315, in reload\n",
      "    return importlib.reload(module)\n",
      "  File \"/opt/anaconda3/lib/python3.6/importlib/__init__.py\", line 166, in reload\n",
      "    _bootstrap._exec(spec, module)\n",
      "  File \"<frozen importlib._bootstrap>\", line 618, in _exec\n",
      "  File \"<frozen importlib._bootstrap_external>\", line 678, in exec_module\n",
      "  File \"<frozen importlib._bootstrap>\", line 219, in _call_with_frames_removed\n",
      "  File \"/opt/anaconda3/lib/python3.6/site-packages/_pytest/_code/code.py\", line 1069, in <module>\n",
      "    _PLUGGY_DIR = py.path.local(pluggy.__file__.rstrip(\"oc\"))\n",
      "  File \"/opt/anaconda3/lib/python3.6/site-packages/py/_vendored_packages/apipkg.py\", line 137, in __makeattr\n",
      "    if '__onfirstaccess__' in self.__map__:\n",
      "  File \"/opt/anaconda3/lib/python3.6/site-packages/py/_vendored_packages/apipkg.py\", line 137, in __makeattr\n",
      "    if '__onfirstaccess__' in self.__map__:\n",
      "RecursionError: maximum recursion depth exceeded\n",
      "]\n"
     ]
    },
    {
     "name": "stderr",
     "output_type": "stream",
     "text": [
      "[autoreload of _pytest.outcomes failed: Traceback (most recent call last):\n",
      "  File \"/opt/anaconda3/lib/python3.6/site-packages/IPython/extensions/autoreload.py\", line 244, in check\n",
      "    superreload(m, reload, self.old_objects)\n",
      "  File \"/opt/anaconda3/lib/python3.6/site-packages/IPython/extensions/autoreload.py\", line 392, in superreload\n",
      "    if old_obj is None: continue\n",
      "  File \"/opt/anaconda3/lib/python3.6/site-packages/IPython/extensions/autoreload.py\", line 329, in update_generic\n",
      "    for type_check, update in UPDATE_RULES:\n",
      "  File \"/opt/anaconda3/lib/python3.6/site-packages/IPython/extensions/autoreload.py\", line 287, in update_class\n",
      "    continue\n",
      "  File \"/opt/anaconda3/lib/python3.6/site-packages/IPython/extensions/autoreload.py\", line 329, in update_generic\n",
      "    for type_check, update in UPDATE_RULES:\n",
      "  File \"/opt/anaconda3/lib/python3.6/site-packages/IPython/extensions/autoreload.py\", line 265, in update_function\n",
      "    setattr(old, name, getattr(new, name))\n",
      "ValueError: __init__() requires a code object with 0 free vars, not 1\n",
      "]\n",
      "[autoreload of py._path failed: Traceback (most recent call last):\n",
      "  File \"/opt/anaconda3/lib/python3.6/site-packages/IPython/extensions/autoreload.py\", line 244, in check\n",
      "    superreload(m, reload, self.old_objects)\n",
      "  File \"/opt/anaconda3/lib/python3.6/site-packages/IPython/extensions/autoreload.py\", line 376, in superreload\n",
      "  File \"/opt/anaconda3/lib/python3.6/imp.py\", line 315, in reload\n",
      "    return importlib.reload(module)\n",
      "  File \"/opt/anaconda3/lib/python3.6/importlib/__init__.py\", line 161, in reload\n",
      "    pkgpath = parent.__path__\n",
      "  File \"/opt/anaconda3/lib/python3.6/site-packages/py/_vendored_packages/apipkg.py\", line 137, in __makeattr\n",
      "    if '__onfirstaccess__' in self.__map__:\n",
      "  File \"/opt/anaconda3/lib/python3.6/site-packages/py/_vendored_packages/apipkg.py\", line 137, in __makeattr\n",
      "    if '__onfirstaccess__' in self.__map__:\n",
      "  File \"/opt/anaconda3/lib/python3.6/site-packages/py/_vendored_packages/apipkg.py\", line 137, in __makeattr\n",
      "    if '__onfirstaccess__' in self.__map__:\n",
      "  [Previous line repeated 3 more times]\n",
      "RecursionError: maximum recursion depth exceeded while calling a Python object\n",
      "]\n",
      "[autoreload of py._code failed: Traceback (most recent call last):\n",
      "  File \"/opt/anaconda3/lib/python3.6/site-packages/IPython/extensions/autoreload.py\", line 244, in check\n",
      "    superreload(m, reload, self.old_objects)\n",
      "  File \"/opt/anaconda3/lib/python3.6/site-packages/IPython/extensions/autoreload.py\", line 376, in superreload\n",
      "  File \"/opt/anaconda3/lib/python3.6/imp.py\", line 315, in reload\n",
      "    return importlib.reload(module)\n",
      "  File \"/opt/anaconda3/lib/python3.6/importlib/__init__.py\", line 161, in reload\n",
      "    pkgpath = parent.__path__\n",
      "  File \"/opt/anaconda3/lib/python3.6/site-packages/py/_vendored_packages/apipkg.py\", line 137, in __makeattr\n",
      "    if '__onfirstaccess__' in self.__map__:\n",
      "  File \"/opt/anaconda3/lib/python3.6/site-packages/py/_vendored_packages/apipkg.py\", line 137, in __makeattr\n",
      "    if '__onfirstaccess__' in self.__map__:\n",
      "  File \"/opt/anaconda3/lib/python3.6/site-packages/py/_vendored_packages/apipkg.py\", line 137, in __makeattr\n",
      "    if '__onfirstaccess__' in self.__map__:\n",
      "  [Previous line repeated 3 more times]\n",
      "RecursionError: maximum recursion depth exceeded while calling a Python object\n",
      "]\n",
      "[autoreload of py._code.code failed: Traceback (most recent call last):\n",
      "  File \"/opt/anaconda3/lib/python3.6/site-packages/IPython/extensions/autoreload.py\", line 244, in check\n",
      "    superreload(m, reload, self.old_objects)\n",
      "  File \"/opt/anaconda3/lib/python3.6/site-packages/IPython/extensions/autoreload.py\", line 376, in superreload\n",
      "  File \"/opt/anaconda3/lib/python3.6/imp.py\", line 315, in reload\n",
      "    return importlib.reload(module)\n",
      "  File \"/opt/anaconda3/lib/python3.6/importlib/__init__.py\", line 166, in reload\n",
      "    _bootstrap._exec(spec, module)\n",
      "  File \"<frozen importlib._bootstrap>\", line 618, in _exec\n",
      "  File \"<frozen importlib._bootstrap_external>\", line 678, in exec_module\n",
      "  File \"<frozen importlib._bootstrap>\", line 219, in _call_with_frames_removed\n",
      "  File \"/opt/anaconda3/lib/python3.6/site-packages/py/_code/code.py\", line 7, in <module>\n",
      "    reprlib = py.builtin._tryimport('repr', 'reprlib')\n",
      "  File \"/opt/anaconda3/lib/python3.6/site-packages/py/_vendored_packages/apipkg.py\", line 137, in __makeattr\n",
      "    if '__onfirstaccess__' in self.__map__:\n",
      "  File \"/opt/anaconda3/lib/python3.6/site-packages/py/_vendored_packages/apipkg.py\", line 137, in __makeattr\n",
      "    if '__onfirstaccess__' in self.__map__:\n",
      "RecursionError: maximum recursion depth exceeded\n",
      "]\n",
      "[autoreload of py._builtin failed: Traceback (most recent call last):\n",
      "  File \"/opt/anaconda3/lib/python3.6/site-packages/IPython/extensions/autoreload.py\", line 244, in check\n",
      "    superreload(m, reload, self.old_objects)\n",
      "  File \"/opt/anaconda3/lib/python3.6/site-packages/IPython/extensions/autoreload.py\", line 376, in superreload\n",
      "  File \"/opt/anaconda3/lib/python3.6/imp.py\", line 315, in reload\n",
      "    return importlib.reload(module)\n",
      "  File \"/opt/anaconda3/lib/python3.6/importlib/__init__.py\", line 161, in reload\n",
      "    pkgpath = parent.__path__\n",
      "  File \"/opt/anaconda3/lib/python3.6/site-packages/py/_vendored_packages/apipkg.py\", line 137, in __makeattr\n",
      "    if '__onfirstaccess__' in self.__map__:\n",
      "  File \"/opt/anaconda3/lib/python3.6/site-packages/py/_vendored_packages/apipkg.py\", line 137, in __makeattr\n",
      "    if '__onfirstaccess__' in self.__map__:\n",
      "  File \"/opt/anaconda3/lib/python3.6/site-packages/py/_vendored_packages/apipkg.py\", line 137, in __makeattr\n",
      "    if '__onfirstaccess__' in self.__map__:\n",
      "  [Previous line repeated 3 more times]\n",
      "RecursionError: maximum recursion depth exceeded while calling a Python object\n",
      "]\n",
      "[autoreload of _pytest.nodes failed: Traceback (most recent call last):\n",
      "  File \"/opt/anaconda3/lib/python3.6/site-packages/IPython/extensions/autoreload.py\", line 244, in check\n",
      "    superreload(m, reload, self.old_objects)\n",
      "  File \"/opt/anaconda3/lib/python3.6/site-packages/IPython/extensions/autoreload.py\", line 376, in superreload\n",
      "  File \"/opt/anaconda3/lib/python3.6/imp.py\", line 315, in reload\n",
      "    return importlib.reload(module)\n",
      "  File \"/opt/anaconda3/lib/python3.6/importlib/__init__.py\", line 166, in reload\n",
      "    _bootstrap._exec(spec, module)\n",
      "  File \"<frozen importlib._bootstrap>\", line 618, in _exec\n",
      "  File \"<frozen importlib._bootstrap_external>\", line 678, in exec_module\n",
      "  File \"<frozen importlib._bootstrap>\", line 219, in _call_with_frames_removed\n",
      "  File \"/opt/anaconda3/lib/python3.6/site-packages/_pytest/nodes.py\", line 18, in <module>\n",
      "    tracebackcutdir = py.path.local(_pytest.__file__).dirpath()\n",
      "  File \"/opt/anaconda3/lib/python3.6/site-packages/py/_vendored_packages/apipkg.py\", line 137, in __makeattr\n",
      "    if '__onfirstaccess__' in self.__map__:\n",
      "  File \"/opt/anaconda3/lib/python3.6/site-packages/py/_vendored_packages/apipkg.py\", line 137, in __makeattr\n",
      "    if '__onfirstaccess__' in self.__map__:\n",
      "RecursionError: maximum recursion depth exceeded\n",
      "]\n"
     ]
    }
   ],
   "source": [
    "# Write edgelist interactions only, database specific\n",
    "nx.write_edgelist(nx.Graph(incoming_graph_data=network.get_edgelist(edge_types=[\"d\"], databases=[\"miRTarBase\"], node_list=network.node_list)),\n",
    "                  \"moge/data/LMN_future_recall/TRAIN/Interactions_Only/MIR/lmn_train.miRTarBase.interactions.edgelist\",\n",
    "                  data=False)"
   ]
  },
  {
   "cell_type": "markdown",
   "metadata": {},
   "source": [
    "## Network Info & Visualizations"
   ]
  },
  {
   "cell_type": "code",
   "execution_count": null,
   "metadata": {},
   "outputs": [],
   "source": [
    "print(len(network.G.nodes()))\n",
    "print(len(network.G.edges()))"
   ]
  },
  {
   "cell_type": "code",
   "execution_count": null,
   "metadata": {},
   "outputs": [],
   "source": [
    "csr_un = network.get_adjacency_matrix(edge_types=[\"u_n\"], node_list=network.node_list)\n",
    "csr_u = network.get_adjacency_matrix(edge_types=[\"u\"], node_list=network.node_list)\n",
    "csr_d = network.get_adjacency_matrix(edge_types=[\"d\"], node_list=network.node_list)"
   ]
  },
  {
   "cell_type": "code",
   "execution_count": null,
   "metadata": {},
   "outputs": [],
   "source": [
    "matrix_heatmap(csr_un.toarray())"
   ]
  },
  {
   "cell_type": "code",
   "execution_count": null,
   "metadata": {},
   "outputs": [],
   "source": [
    "matrix_heatmap(csr_u.toarray())"
   ]
  },
  {
   "cell_type": "code",
   "execution_count": null,
   "metadata": {},
   "outputs": [],
   "source": [
    "matrix_heatmap(csr_d.toarray())"
   ]
  }
 ],
 "metadata": {
  "kernelspec": {
   "display_name": "Python 3",
   "language": "python",
   "name": "python3"
  },
  "language_info": {
   "codemirror_mode": {
    "name": "ipython",
    "version": 3
   },
   "file_extension": ".py",
   "mimetype": "text/x-python",
   "name": "python",
   "nbconvert_exporter": "python",
   "pygments_lexer": "ipython3",
   "version": "3.6.8"
  }
 },
 "nbformat": 4,
 "nbformat_minor": 1
}
