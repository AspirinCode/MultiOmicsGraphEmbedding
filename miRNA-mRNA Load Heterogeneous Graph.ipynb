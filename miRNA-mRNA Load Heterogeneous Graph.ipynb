{
 "cells": [
  {
   "cell_type": "code",
   "execution_count": 1,
   "metadata": {},
   "outputs": [],
   "source": [
    "# Necessary imports\n",
    "%load_ext autoreload\n",
    "%autoreload 2\n",
    "\n",
    "import networkx as nx\n",
    "import numpy as np\n",
    "import pandas as pd\n",
    "import scipy.sparse as sps\n",
    "import pickle\n",
    "\n",
    "\n",
    "from TCGAMultiOmics.multiomics import MultiOmicsData\n",
    "from moge.visualization.plot_data import matrix_heatmap, plot_coo_matrix\n",
    "\n",
    "import seaborn\n",
    "import matplotlib.pyplot as plt\n",
    "from moge.network.omics_distance import *\n"
   ]
  },
  {
   "cell_type": "markdown",
   "metadata": {},
   "source": [
    "# Import the TCGA cancer data"
   ]
  },
  {
   "cell_type": "code",
   "execution_count": 7,
   "metadata": {},
   "outputs": [],
   "source": [
    "# import pickle\n",
    "# with open('moge/data/luad_data_multi_U-T.pickle', 'wb') as file:\n",
    "# #     luad_data = pickle.load(file)\n",
    "#     pickle.dump(luad_data, file)"
   ]
  },
  {
   "cell_type": "code",
   "execution_count": 6,
   "metadata": {
    "scrolled": true
   },
   "outputs": [
    {
     "name": "stderr",
     "output_type": "stream",
     "text": [
      "/opt/anaconda3/lib/python3.6/site-packages/TCGAMultiOmics/clinical.py:36: FutureWarning: read_table is deprecated, use read_csv instead.\n",
      "  na_values=[\"[Not Available]\", \"[Not Applicable]\"],\n",
      "/opt/anaconda3/lib/python3.6/site-packages/TCGAMultiOmics/clinical.py:61: FutureWarning: read_table is deprecated, use read_csv instead.\n",
      "  usecols=ClinicalData.clinical_drug_colsname\n",
      "/opt/anaconda3/lib/python3.6/site-packages/TCGAMultiOmics/genomic.py:30: FutureWarning: read_table is deprecated, use read_csv instead, passing sep='\\t'.\n",
      "  self.data = self.preprocess_expression_table(pd.read_table(file_path), columns)\n",
      "/opt/anaconda3/lib/python3.6/site-packages/pandas/core/frame.py:4025: SettingWithCopyWarning: \n",
      "A value is trying to be set on a copy of a slice from a DataFrame\n",
      "\n",
      "See the caveats in the documentation: http://pandas.pydata.org/pandas-docs/stable/indexing.html#indexing-view-versus-copy\n",
      "  return super(DataFrame, self).rename(**kwargs)\n",
      "/opt/anaconda3/lib/python3.6/site-packages/TCGAMultiOmics/genomic.py:618: FutureWarning: read_table is deprecated, use read_csv instead, passing sep='\\t'.\n",
      "  \"Gene description\", \"3P-seq tags\"])\n",
      "/opt/anaconda3/lib/python3.6/site-packages/TCGAMultiOmics/genomic.py:631: FutureWarning: read_table is deprecated, use read_csv instead, passing sep='\\t'.\n",
      "  \"location\"])\n",
      "/opt/anaconda3/lib/python3.6/site-packages/TCGAMultiOmics/genomic.py:698: FutureWarning: read_table is deprecated, use read_csv instead, passing sep='\\t'.\n",
      "  usecols=[\"geneSymbol\", \"diseaseName\", \"score\"])\n",
      "/opt/anaconda3/lib/python3.6/site-packages/TCGAMultiOmics/genomic.py:700: FutureWarning: read_table is deprecated, use read_csv instead, passing sep='\\t'.\n",
      "  usecols=[\"geneSymbol\", \"diseaseName\", \"score\"])\n",
      "/opt/anaconda3/lib/python3.6/site-packages/TCGAMultiOmics/genomic.py:874: FutureWarning: read_table is deprecated, use read_csv instead.\n",
      "  targetScan_family_df = pd.read_table(self.targetScan_miR_family_info_path, delimiter='\\t')\n",
      "/opt/anaconda3/lib/python3.6/site-packages/TCGAMultiOmics/genomic.py:897: FutureWarning: read_table is deprecated, use read_csv instead.\n",
      "  targetScan_df = pd.read_table(self.targetScan_predicted_targets_path, delimiter='\\t')\n",
      "/opt/anaconda3/lib/python3.6/site-packages/TCGAMultiOmics/genomic.py:902: FutureWarning: read_table is deprecated, use read_csv instead.\n",
      "  targetScan_family_df = pd.read_table(self.targetScan_miR_family_info_path, delimiter='\\t')\n",
      "/opt/anaconda3/lib/python3.6/site-packages/TCGAMultiOmics/genomic.py:924: FutureWarning: read_table is deprecated, use read_csv instead.\n",
      "  targetScan_context_df = pd.read_table(self.targetScan_predicted_targets_context_score_path, delimiter='\\t')\n",
      "/opt/anaconda3/lib/python3.6/site-packages/TCGAMultiOmics/genomic.py:945: FutureWarning: read_table is deprecated, use read_csv instead.\n",
      "  self.mirnadisease = pd.read_table(self.mirnadisease_association_path, header=None, sep=\"\\t\")\n",
      "/opt/anaconda3/lib/python3.6/site-packages/TCGAMultiOmics/genomic.py:959: FutureWarning: read_table is deprecated, use read_csv instead, passing sep='\\t'.\n",
      "  usecols=[\"alias_symbol\", \"ensembl_gene_id\", \"location\"])\n",
      "/opt/anaconda3/lib/python3.6/site-packages/TCGAMultiOmics/genomic.py:982: FutureWarning: read_table is deprecated, use read_csv instead, passing sep='\\t'.\n",
      "  index_col=\"mirbase id\")\n",
      "/opt/anaconda3/lib/python3.6/site-packages/TCGAMultiOmics/genomic.py:986: FutureWarning: read_table is deprecated, use read_csv instead, passing sep='\\t'.\n",
      "  low_memory=True, header=None, names=[\"mirbase id\", \"miRNA name\"], dtype=\"O\")\n",
      "/opt/anaconda3/lib/python3.6/site-packages/TCGAMultiOmics/genomic.py:992: FutureWarning: read_table is deprecated, use read_csv instead, passing sep='\\t'.\n",
      "  low_memory=True, header=None, names=[\"RNAcentral id\", \"GO terms\", \"Rfams\"])\n",
      "/opt/anaconda3/lib/python3.6/site-packages/TCGAMultiOmics/genomic.py:182: FutureWarning: read_table is deprecated, use read_csv instead, passing sep='\\t'.\n",
      "  table = pd.read_table(os.path.join(self.external_data_path, \"lncBase/LncBasev2_download.csv\"))\n",
      "/opt/anaconda3/lib/python3.6/site-packages/TCGAMultiOmics/genomic.py:259: FutureWarning: read_table is deprecated, use read_csv instead.\n",
      "  usecols=['symbol', 'locus_type', 'ensembl_gene_id', 'name', 'location'])\n"
     ]
    },
    {
     "name": "stdout",
     "output_type": "stream",
     "text": [
      "Unmatched lncRNAs 12727\n",
      "Unmatched lncRNAs after gencode: 1033\n",
      "Unmatched lncRNAs after lncBase: 812\n",
      "Unmatched lncRNAs after HGNC: 758\n",
      "Unmatched lncRNAs after lncipedia: 622\n"
     ]
    },
    {
     "name": "stderr",
     "output_type": "stream",
     "text": [
      "/opt/anaconda3/lib/python3.6/site-packages/TCGAMultiOmics/genomic.py:424: FutureWarning: read_table is deprecated, use read_csv instead, passing sep='\\t'.\n",
      "  usecols=[\"Gene Name\", \"Transcript Name\", \"Transcript Type\", \"Location\", \"Strand\"])\n",
      "/opt/anaconda3/lib/python3.6/site-packages/TCGAMultiOmics/genomic.py:503: FutureWarning: read_table is deprecated, use read_csv instead, passing sep='\\t'.\n",
      "  source_df = pd.read_table(self.noncode_source_path, header=None)\n",
      "/opt/anaconda3/lib/python3.6/site-packages/TCGAMultiOmics/genomic.py:506: FutureWarning: read_table is deprecated, use read_csv instead, passing sep='\\t'.\n",
      "  transcript2gene_df = pd.read_table(self.noncode_transcript2gene_path, header=None)\n",
      "/opt/anaconda3/lib/python3.6/site-packages/TCGAMultiOmics/genomic.py:509: FutureWarning: read_table is deprecated, use read_csv instead, passing sep='\\t'.\n",
      "  self.noncode_func_df = pd.read_table(self.noncode_func_path, header=None)\n",
      "/opt/anaconda3/lib/python3.6/site-packages/TCGAMultiOmics/genomic.py:431: FutureWarning: read_table is deprecated, use read_csv instead.\n",
      "  self.lncrnadisease_info = pd.read_table(self.lncrnadisease_associations_path, header=None, sep=\"\\t\")\n",
      "/opt/anaconda3/lib/python3.6/site-packages/TCGAMultiOmics/genomic.py:530: FutureWarning: read_table is deprecated, use read_csv instead, passing sep='\\t'.\n",
      "  low_memory=True, header=None, names=[\"RNAcentral id\", \"GO terms\", \"Rfams\"])\n",
      "/opt/anaconda3/lib/python3.6/site-packages/TCGAMultiOmics/genomic.py:536: FutureWarning: read_table is deprecated, use read_csv instead, passing sep='\\t'.\n",
      "  \"gene symbol\"])\n"
     ]
    },
    {
     "name": "stdout",
     "output_type": "stream",
     "text": [
      "PATIENTS (522, 110)\n",
      "DRUGS (461, 4)\n",
      "GE (576, 20157)\n",
      "MIR (494, 1870)\n",
      "LNC (546, 12727)\n",
      "SAMPLES (599, 111)\n",
      "Processed genes info for  GE\n",
      "Processed genes info for  MIR\n",
      "Processed genes info for  LNC\n"
     ]
    }
   ],
   "source": [
    "folder_path = \"/data/datasets/Bioinformatics_ExternalData/tcga-assembler/LUAD/\"\n",
    "external_data_path = \"/data/datasets/Bioinformatics_ExternalData/\"\n",
    "luad_data = MultiOmicsData(cancer_type=\"LUAD\", tcga_data_path=folder_path, external_data_path=external_data_path,\n",
    "                           import_sequences=\"multi\", replace_U2T=True,\n",
    "                           modalities=[\\\n",
    "                                       \"GE\",\n",
    "                                       \"MIR\",\n",
    "                                       \"LNC\",\n",
    "                                       # \"CNV\",\n",
    "                                       # \"SNP\",\n",
    "#                                        \"PRO\",\n",
    "                                       # \"DNA\"\n",
    "                                       ])"
   ]
  },
  {
   "cell_type": "code",
   "execution_count": null,
   "metadata": {},
   "outputs": [],
   "source": []
  },
  {
   "cell_type": "code",
   "execution_count": null,
   "metadata": {},
   "outputs": [],
   "source": []
  },
  {
   "cell_type": "code",
   "execution_count": 3,
   "metadata": {},
   "outputs": [
    {
     "name": "stdout",
     "output_type": "stream",
     "text": [
      "Index(['Transcript ID', 'Gene ID', 'Gene description', '3P-seq tags',\n",
      "       'locus_type', 'location', 'gene_family', 'gene_family_id',\n",
      "       'Transcript sequence', 'GO Terms', 'Disease association', 'Chromosome',\n",
      "       'Chromosome arm', 'Chromosome region', 'Chromosome band',\n",
      "       'Transcript length'],\n",
      "      dtype='object')\n",
      "Index(['miR family', 'Seed+m8', 'Mature sequence', 'Family Conservation?',\n",
      "       'MiRBase Accession', 'MiRBase ID', 'location', 'ensembl_gene_id',\n",
      "       'Disease association', 'locus_type', 'Transcript sequence',\n",
      "       'Transcript length', 'Chromosome', 'Chromosome arm',\n",
      "       'Chromosome region', 'Chromosome band', 'GO Terms', 'Rfams'],\n",
      "      dtype='object')\n",
      "Index(['Gene ID', 'Gene Name', 'HGNC Gene Name', 'Transcript id',\n",
      "       'Transcript name', 'Transcript type', 'tag', 'Chromosome', 'start',\n",
      "       'end', 'Strand', 'locus_type', 'Transcript sequence',\n",
      "       'Disease association', 'GO Terms', 'Rfams'],\n",
      "      dtype='object')\n"
     ]
    }
   ],
   "source": [
    "LNC = luad_data.LNC.get_genes_info()\n",
    "MIR = luad_data.MIR.get_genes_info()\n",
    "GE = luad_data.GE.get_genes_info()\n",
    "print(GE.columns)\n",
    "print(MIR.columns)\n",
    "print(LNC.columns)"
   ]
  },
  {
   "cell_type": "code",
   "execution_count": 20,
   "metadata": {
    "collapsed": true
   },
   "outputs": [
    {
     "name": "stdout",
     "output_type": "stream",
     "text": [
      "Gower's dissimilarity: Computing location , dtype: object , shape: (20157,)\n",
      "['19q13.43', '10q11.23', '12p13.31', '12p13.31', '22q13.2']\n",
      "Location split to Chromosome, arm, region\n",
      "Gower's dissimilarity: Computing Chromosome , dtype: object , shape: (20157,)\n",
      "['19', '10', '12', '12', '22']\n",
      "Dice distance\n"
     ]
    },
    {
     "name": "stderr",
     "output_type": "stream",
     "text": [
      "/opt/anaconda3/lib/python3.6/site-packages/sklearn/utils/validation.py:595: DataConversionWarning: Data with input dtype uint8 was converted to bool by check_pairwise_arrays.\n",
      "  warnings.warn(msg, DataConversionWarning)\n"
     ]
    },
    {
     "name": "stdout",
     "output_type": "stream",
     "text": [
      "Gower's dissimilarity: Computing arm , dtype: object , shape: (20157,)\n",
      "['q', 'q', 'p', 'p', 'q']\n",
      "Dice distance\n"
     ]
    },
    {
     "name": "stderr",
     "output_type": "stream",
     "text": [
      "/opt/anaconda3/lib/python3.6/site-packages/sklearn/utils/validation.py:595: DataConversionWarning: Data with input dtype uint8 was converted to bool by check_pairwise_arrays.\n",
      "  warnings.warn(msg, DataConversionWarning)\n"
     ]
    },
    {
     "name": "stdout",
     "output_type": "stream",
     "text": [
      "Gower's dissimilarity: Computing region , dtype: object , shape: (20157,)\n",
      "['13', '11', '13', '13', '13']\n",
      "Dice distance\n"
     ]
    },
    {
     "name": "stderr",
     "output_type": "stream",
     "text": [
      "/opt/anaconda3/lib/python3.6/site-packages/sklearn/utils/validation.py:595: DataConversionWarning: Data with input dtype uint8 was converted to bool by check_pairwise_arrays.\n",
      "  warnings.warn(msg, DataConversionWarning)\n"
     ]
    },
    {
     "name": "stdout",
     "output_type": "stream",
     "text": [
      "Gower's dissimilarity: Computing band , dtype: object , shape: (20157,)\n",
      "['43', '23', '31', '31', '2']\n",
      "Dice distance\n"
     ]
    },
    {
     "name": "stderr",
     "output_type": "stream",
     "text": [
      "/opt/anaconda3/lib/python3.6/site-packages/sklearn/utils/validation.py:595: DataConversionWarning: Data with input dtype uint8 was converted to bool by check_pairwise_arrays.\n",
      "  warnings.warn(msg, DataConversionWarning)\n",
      "/home/jonny/PycharmProjects/MultiOmicsGraphEmbedding/moge/network/omics_distance.py:166: RuntimeWarning: invalid value encountered in greater_equal\n",
      "  \n",
      "/home/jonny/PycharmProjects/MultiOmicsGraphEmbedding/moge/network/omics_distance.py:168: RuntimeWarning: Mean of empty slice\n",
      "  \n"
     ]
    }
   ],
   "source": [
    "# node_list = GE[GE[\"gene_family\"].notnull()].index[0:1000]\n",
    "node_list = GE.index\n",
    "# correlation_dist = compute_expression_correlation_dists(luad_data, modalities=[\"GE\"],\n",
    "#                                                         node_list=node_list, absolute_corr=True,\n",
    "#                                                         squareform=False)\n",
    "affinity = compute_annotation_affinities(GE, node_list=node_list,\n",
    "                features=[\"location\"], \n",
    "#                features=[\"Family\", \"tag\", \"Strand\", \"Chromosome\"], \n",
    "#                                          correlation_dist=correlation_dist,\n",
    "                                        nanmean=False, \n",
    "#                                          weights=[1, 1, 0.5, 0.5, 5],\n",
    "                                        )\n"
   ]
  },
  {
   "cell_type": "code",
   "execution_count": 34,
   "metadata": {
    "collapsed": true
   },
   "outputs": [
    {
     "name": "stdout",
     "output_type": "stream",
     "text": [
      "(203142246,)\n"
     ]
    },
    {
     "name": "stderr",
     "output_type": "stream",
     "text": [
      "/home/jonny/PycharmProjects/MultiOmicsGraphEmbedding/moge/evaluation/utils.py:17: RuntimeWarning: divide by zero encountered in log10\n",
      "  c = np.log10(np.power(degrees, k_power))\n",
      "/home/jonny/PycharmProjects/MultiOmicsGraphEmbedding/moge/evaluation/utils.py:18: RuntimeWarning: divide by zero encountered in log10\n",
      "  d = np.log10(cosine_adj_hist_dist.pdf(np.power(degrees, k_power)))\n"
     ]
    },
    {
     "data": {
      "image/png": "[encoded data removed]",
      "text/plain": [
       "<Figure size 432x288 with 1 Axes>"
      ]
     },
     "metadata": {
      "needs_background": "light"
     },
     "output_type": "display_data"
    },
    {
     "data": {
      "text/plain": [
       "0.05761450686541157"
      ]
     },
     "execution_count": 34,
     "metadata": {},
     "output_type": "execute_result"
    }
   ],
   "source": [
    "from moge.evaluation.utils import get_scalefree_fit_score\n",
    "from scipy.sparse import triu\n",
    "from scipy.spatial.distance import squareform\n",
    "\n",
    "\n",
    "affinities = squareform(affinity, checks=False)\n",
    "print(affinities.shape)\n",
    "adj_list = np.nansum(affinity, axis=1)\n",
    "# adj_list = affinities[np.where(~np.isnan(affinities.data))].reshape((-1))\n",
    "\n",
    "get_scalefree_fit_score(adj_list, plot=True)"
   ]
  },
  {
   "cell_type": "code",
   "execution_count": 35,
   "metadata": {
    "collapsed": true
   },
   "outputs": [
    {
     "data": {
      "image/png": "[encoded data removed]",
      "text/plain": [
       "<Figure size 432x288 with 1 Axes>"
      ]
     },
     "metadata": {
      "needs_background": "light"
     },
     "output_type": "display_data"
    }
   ],
   "source": [
    "plt.hist(affinity[np.where(~np.isnan(affinity))].reshape((-1)), bins=500)\n",
    "plt.ylim(top=5000)\n",
    "plt.show()"
   ]
  },
  {
   "cell_type": "code",
   "execution_count": 23,
   "metadata": {},
   "outputs": [
    {
     "name": "stderr",
     "output_type": "stream",
     "text": [
      "/opt/anaconda3/lib/python3.6/site-packages/ipykernel_launcher.py:2: RuntimeWarning: invalid value encountered in greater\n",
      "  \n"
     ]
    },
    {
     "name": "stdout",
     "output_type": "stream",
     "text": [
      "threshold at 0.7 : 2735238\n"
     ]
    }
   ],
   "source": [
    "threshold=0.70\n",
    "print(\"threshold at\", threshold,\":\",(affinity > threshold).sum())\n",
    "# print(\"threshold at\", threshold,\":\",(affinity < 0.01).sum())"
   ]
  },
  {
   "cell_type": "code",
   "execution_count": 30,
   "metadata": {
    "collapsed": true
   },
   "outputs": [
    {
     "data": {
      "image/png": "[encoded data removed]",
      "text/plain": [
       "<Figure size 864x864 with 2 Axes>"
      ]
     },
     "metadata": {
      "needs_background": "light"
     },
     "output_type": "display_data"
    }
   ],
   "source": [
    "# matrix_heatmap(np.array(affinity>threshold, dtype=float))\n",
    "matrix_heatmap(affinity)"
   ]
  },
  {
   "cell_type": "code",
   "execution_count": 25,
   "metadata": {
    "collapsed": true
   },
   "outputs": [
    {
     "name": "stderr",
     "output_type": "stream",
     "text": [
      "/opt/anaconda3/lib/python3.6/site-packages/ipykernel_launcher.py:1: RuntimeWarning: invalid value encountered in less\n",
      "  \"\"\"Entry point for launching an IPython kernel.\n"
     ]
    },
    {
     "data": {
      "image/png": "[encoded data removed]",
      "text/plain": [
       "<Figure size 864x864 with 2 Axes>"
      ]
     },
     "metadata": {
      "needs_background": "light"
     },
     "output_type": "display_data"
    }
   ],
   "source": [
    "matrix_heatmap(np.array(affinity<0.01, dtype=float))"
   ]
  },
  {
   "cell_type": "markdown",
   "metadata": {},
   "source": [
    "# Heterogeneous Network"
   ]
  },
  {
   "cell_type": "code",
   "execution_count": 2,
   "metadata": {},
   "outputs": [],
   "source": [
    "import pickle\n",
    "with open('moge/data/luad_data_shortest.pickle', 'rb') as file:\n",
    "    luad_data = pickle.load(file)\n",
    "#     pickle.dump(luad_data, file)"
   ]
  },
  {
   "cell_type": "code",
   "execution_count": 3,
   "metadata": {},
   "outputs": [
    {
     "name": "stdout",
     "output_type": "stream",
     "text": [
      "MIR  nodes: 1870\n",
      "GE  nodes: 20157\n",
      "LNC  nodes: 12706\n",
      "Total nodes: 34733\n",
      "Genes info columns: ['Disease association', 'locus_type', 'Transcript sequence', 'Chromosome', 'GO Terms', 'Family']\n",
      "Number of nodes without seq removed: 1992\n",
      "Total nodes (filtered): 32742\n"
     ]
    }
   ],
   "source": [
    "from moge.network.heterogeneous_network import HeterogeneousNetwork\n",
    "\n",
    "network = HeterogeneousNetwork(modalities=[\"MIR\", \"GE\", \"LNC\"], multi_omics_data=luad_data)"
   ]
  },
  {
   "cell_type": "markdown",
   "metadata": {},
   "source": [
    "## Write node labels to file"
   ]
  },
  {
   "cell_type": "code",
   "execution_count": 4,
   "metadata": {
    "scrolled": true
   },
   "outputs": [],
   "source": [
    "from moge.network.file_io import write_node_labels_to_file\n",
    "\n",
    "# write_node_labels_to_file(\"moge/data/lncRNA_miRNA_mRNA/lncRNA-miRNA-mRNA_node_labels_family.tsv\", luad_data, \n",
    "#                           label_cols=[\"family\"],\n",
    "#                           modalities=[\"MIR\", \"GE\", \"LNC\"], \n",
    "#                           get_dummies=False)\n",
    "\n",
    "# write_node_labels_to_file(\"moge/data/lncRNA_miRNA_mRNA/lncRNA-miRNA-mRNA_node_labels_disease_dummies.tsv\", luad_data, \n",
    "#                           label_cols=[\"Disease association\"],\n",
    "#                           modalities=[\"MIR\", \"GE\", \"LNC\"], remove_na=True, sep=\"\\t\",\n",
    "#                           get_dummies=True)"
   ]
  },
  {
   "cell_type": "markdown",
   "metadata": {},
   "source": [
    "# Add Attribute Affinity Positive Edges"
   ]
  },
  {
   "cell_type": "code",
   "execution_count": 37,
   "metadata": {
    "scrolled": true
   },
   "outputs": [
    {
     "name": "stdout",
     "output_type": "stream",
     "text": [
      "Gower's dissimilarity: Computing GO Terms , dtype: object , shape: (20157,)\n",
      "['GO:0002576|GO:0003674|GO:0005576|GO:0005615|GO:0008150|GO:0031093|GO:0034774|GO:0043312|GO:0062023|GO:0070062|GO:0072562|GO:1904813', 'GO:0003723|GO:0003727|GO:0005515|GO:0005654|GO:0005737|GO:0005783|GO:0006397|GO:0016554|GO:0016556|GO:0030895|GO:0050821|GO:0003725', 'GO:0001869|GO:0002020|GO:0002576|GO:0004867|GO:0005096|GO:0005102|GO:0005515|GO:0005576|GO:0005829|GO:0007597|GO:0010951|GO:0019838|GO:0019899|GO:0019959|GO:0019966|GO:0022617|GO:0031093|GO:0043120|GO:0043547|GO:0048306|GO:0048863|GO:0051056|GO:0062023|GO:0070062|GO:0072562', 'GO:0004867|GO:0005615|GO:0010951|GO:0030414|GO:0052548|GO:0070062', 'GO:0001576|GO:0006486|GO:0006688|GO:0007009|GO:0008378|GO:0015643|GO:0016020|GO:0030173|GO:0050512']\n",
      "Dice distance\n"
     ]
    },
    {
     "name": "stderr",
     "output_type": "stream",
     "text": [
      "/opt/anaconda3/lib/python3.6/site-packages/sklearn/utils/validation.py:595: DataConversionWarning: Data with input dtype uint8 was converted to bool by check_pairwise_arrays.\n",
      "  warnings.warn(msg, DataConversionWarning)\n"
     ]
    },
    {
     "name": "stdout",
     "output_type": "stream",
     "text": [
      "Gower's dissimilarity: Computing Disease association , dtype: object , shape: (20157,)\n",
      "[nan, nan, \"alzheimer's disease|colonic neoplasms|mental depression|depressive disorder|hepatolenticular degeneration|liver cirrhosis|liver cirrhosis, experimental|lung diseases|lung neoplasms|nephrotic syndrome|hepatocellular adenoma|liver carcinoma|acute kidney injury\", 'noonan syndrome|otitis media', 'burkitt lymphoma|blood group antigen abnormality']\n",
      "Dice distance\n"
     ]
    },
    {
     "name": "stderr",
     "output_type": "stream",
     "text": [
      "/opt/anaconda3/lib/python3.6/site-packages/sklearn/utils/validation.py:595: DataConversionWarning: Data with input dtype int64 was converted to bool by check_pairwise_arrays.\n",
      "  warnings.warn(msg, DataConversionWarning)\n",
      "/home/jonny/PycharmProjects/MultiOmicsGraphEmbedding/moge/network/omics_distance.py:53: RuntimeWarning: Mean of empty slice\n",
      "  agg_func = lambda x: np.nanmean(x, axis=0)\n"
     ]
    },
    {
     "name": "stdout",
     "output_type": "stream",
     "text": [
      "59821 undirected positive edges (type='u') added.\n",
      "299105 undirected negative edges (type='u_n') added.\n"
     ]
    }
   ],
   "source": [
    "affinities_GE = network.add_edges_from_nodes_similarity(modality=\"GE\", node_list=network.nodes[\"GE\"], \n",
    "    similarity_threshold=0.70, dissimilarity_threshold=0.01,\n",
    "    negative_sampling_ratio=5.0, nanmean=True,\n",
    "    features=[\"GO Terms\", \"Disease association\"], \n",
    "    compute_correlation=False)"
   ]
  },
  {
   "cell_type": "code",
   "execution_count": 38,
   "metadata": {
    "scrolled": true
   },
   "outputs": [
    {
     "name": "stdout",
     "output_type": "stream",
     "text": [
      "Gower's dissimilarity: Computing locus_type , dtype: object , shape: (20157,)\n",
      "['protein_coding', 'protein_coding', 'processed_transcript', 'nonsense_mediated_decay', 'processed_transcript']\n",
      "Dice distance\n"
     ]
    },
    {
     "name": "stderr",
     "output_type": "stream",
     "text": [
      "/opt/anaconda3/lib/python3.6/site-packages/sklearn/utils/validation.py:595: DataConversionWarning: Data with input dtype int64 was converted to bool by check_pairwise_arrays.\n",
      "  warnings.warn(msg, DataConversionWarning)\n"
     ]
    },
    {
     "name": "stdout",
     "output_type": "stream",
     "text": [
      "Gower's dissimilarity: Computing gene_family_id , dtype: object , shape: (20157,)\n",
      "['594', '725', '1234', '1234', '442|454']\n",
      "Dice distance\n"
     ]
    },
    {
     "name": "stderr",
     "output_type": "stream",
     "text": [
      "/opt/anaconda3/lib/python3.6/site-packages/sklearn/utils/validation.py:595: DataConversionWarning: Data with input dtype int64 was converted to bool by check_pairwise_arrays.\n",
      "  warnings.warn(msg, DataConversionWarning)\n"
     ]
    },
    {
     "name": "stdout",
     "output_type": "stream",
     "text": [
      "Gower's dissimilarity: Computing location , dtype: object , shape: (20157,)\n",
      "['19q13.43', '10q11.23', '12p13.31', '12p13.31', '22q13.2']\n",
      "Location split to Chromosome, arm, region\n",
      "Gower's dissimilarity: Computing Chromosome , dtype: object , shape: (20157,)\n",
      "['19', '10', '12', '12', '22']\n",
      "Dice distance\n"
     ]
    },
    {
     "name": "stderr",
     "output_type": "stream",
     "text": [
      "/opt/anaconda3/lib/python3.6/site-packages/sklearn/utils/validation.py:595: DataConversionWarning: Data with input dtype uint8 was converted to bool by check_pairwise_arrays.\n",
      "  warnings.warn(msg, DataConversionWarning)\n"
     ]
    },
    {
     "name": "stdout",
     "output_type": "stream",
     "text": [
      "Gower's dissimilarity: Computing arm , dtype: object , shape: (20157,)\n",
      "['q', 'q', 'p', 'p', 'q']\n",
      "Dice distance\n"
     ]
    },
    {
     "name": "stderr",
     "output_type": "stream",
     "text": [
      "/opt/anaconda3/lib/python3.6/site-packages/sklearn/utils/validation.py:595: DataConversionWarning: Data with input dtype uint8 was converted to bool by check_pairwise_arrays.\n",
      "  warnings.warn(msg, DataConversionWarning)\n"
     ]
    },
    {
     "name": "stdout",
     "output_type": "stream",
     "text": [
      "Gower's dissimilarity: Computing region , dtype: object , shape: (20157,)\n",
      "['13', '11', '13', '13', '13']\n",
      "Dice distance\n"
     ]
    },
    {
     "name": "stderr",
     "output_type": "stream",
     "text": [
      "/opt/anaconda3/lib/python3.6/site-packages/sklearn/utils/validation.py:595: DataConversionWarning: Data with input dtype uint8 was converted to bool by check_pairwise_arrays.\n",
      "  warnings.warn(msg, DataConversionWarning)\n"
     ]
    },
    {
     "name": "stdout",
     "output_type": "stream",
     "text": [
      "Gower's dissimilarity: Computing band , dtype: object , shape: (20157,)\n",
      "['43', '23', '31', '31', '2']\n",
      "Dice distance\n"
     ]
    },
    {
     "name": "stderr",
     "output_type": "stream",
     "text": [
      "/opt/anaconda3/lib/python3.6/site-packages/sklearn/utils/validation.py:595: DataConversionWarning: Data with input dtype uint8 was converted to bool by check_pairwise_arrays.\n",
      "  warnings.warn(msg, DataConversionWarning)\n",
      "/home/jonny/PycharmProjects/MultiOmicsGraphEmbedding/moge/network/omics_distance.py:166: RuntimeWarning: invalid value encountered in greater_equal\n",
      "  \n",
      "/home/jonny/PycharmProjects/MultiOmicsGraphEmbedding/moge/network/omics_distance.py:168: RuntimeWarning: Mean of empty slice\n",
      "  \n"
     ]
    },
    {
     "name": "stdout",
     "output_type": "stream",
     "text": [
      "23598 undirected positive edges (type='u') added.\n",
      "117990 undirected negative edges (type='u_n') added.\n"
     ]
    }
   ],
   "source": [
    "affinities_GE = network.add_edges_from_nodes_similarity(modality=\"GE\", node_list=network.nodes[\"GE\"], \n",
    "    similarity_threshold=0.85, dissimilarity_threshold=0.01,\n",
    "    negative_sampling_ratio=5.0, nanmean=False,\n",
    "    features=[\"locus_type\", \"gene_family_id\", \"location\"], \n",
    "    weights=[1, 3, 1],\n",
    "    compute_correlation=False)"
   ]
  },
  {
   "cell_type": "code",
   "execution_count": 39,
   "metadata": {
    "scrolled": true
   },
   "outputs": [
    {
     "name": "stdout",
     "output_type": "stream",
     "text": [
      "Gower's dissimilarity: Computing GO Terms , dtype: object , shape: (1870,)\n",
      "['GO:0035068|GO:0035195', nan, 'GO:0035068|GO:0035195', nan, nan]\n",
      "Dice distance\n",
      "Gower's dissimilarity: Computing Disease association , dtype: object , shape: (1870,)\n",
      "[\"colonic neoplasms|heart failure|lung neoplasms|lung neoplasms|lung neoplasms|lung neoplasms|lung neoplasms|lung neoplasms|lung neoplasms|neoplasms|neoplasms|neoplasms|neoplasms|acth-secreting pituitary adenoma|neoplasms|neoplasms|digestive system neoplasms|head and neck neoplasms|hodgkin disease|neoplasms|sarcoma, kaposi|lung neoplasms|lupus vulgaris|melanoma|pancreatic neoplasms|pituitary neoplasms|salivary gland neoplasms|lymphoma, primary effusion|adrenocortical carcinoma|neoplasms|neoplasms|carcinoma, hepatocellular|lung neoplasms|neoplasms|retinoblastoma|adenocarcinoma|asthma|carcinoma|carcinoma|carcinoma, hepatocellular|leukemia, myeloid, acute|neoplasms|ovarian neoplasms|spinal cord injuries|spinal cord injuries|prostatic neoplasms|hypertrophy|carcinoma, renal cell|head and neck neoplasms|myelodysplastic syndromes|gastrointestinal neoplasms|breast neoplasms|nasopharyngeal neoplasms|barrett esophagus|pancreatic neoplasms|carcinoma, non-small-cell lung|ovarian neoplasms|carcinoma, non-small-cell lung|ovarian neoplasms|myelodysplastic syndromes|inflammation|colorectal neoplasms|sarcoma, ewing's|mesothelioma|carcinoma, hepatocellular|mycosis fungoides|endometrial neoplasms|colorectal neoplasms|carcinoma, hepatocellular|glioblastoma|breast neoplasms|pancreatic neoplasms|colorectal neoplasms|periodontitis|breast neoplasms|breast neoplasms|cholesteatoma|lung neoplasms|endometriosis|esophageal neoplasms|stomach neoplasms|breast neoplasms|breast neoplasms|carcinoma, renal cell|colorectal neoplasms|breast neoplasms|carcinoma, non-small-cell lung|melanoma\", \"breast neoplasms|colonic neoplasms|heart failure|lung neoplasms|lung neoplasms|lung neoplasms|lung neoplasms|lung neoplasms|lung neoplasms|lung neoplasms|neoplasms|neoplasms|neoplasms|acth-secreting pituitary adenoma|neoplasms|neoplasms|digestive system neoplasms|head and neck neoplasms|hodgkin disease|neoplasms|sarcoma, kaposi|lung neoplasms|lupus vulgaris|melanoma|pancreatic neoplasms|pituitary neoplasms|salivary gland neoplasms|lymphoma, primary effusion|adrenocortical carcinoma|neoplasms|neoplasms|carcinoma, hepatocellular|lung neoplasms|neoplasms|retinoblastoma|adenocarcinoma|asthma|carcinoma|carcinoma|carcinoma, hepatocellular|leukemia, myeloid, acute|neoplasms|ovarian neoplasms|spinal cord injuries|spinal cord injuries|hypertrophy|carcinoma, renal cell|head and neck neoplasms|myelodysplastic syndromes|lung neoplasms|breast neoplasms|nasopharyngeal neoplasms|barrett esophagus|pancreatic neoplasms|carcinoma, non-small-cell lung|ovarian neoplasms|carcinoma, non-small-cell lung|myelodysplastic syndromes|inflammation|colorectal neoplasms|sarcoma, ewing's|mycosis fungoides|endometrial neoplasms|colorectal neoplasms|carcinoma, hepatocellular|glioblastoma|breast neoplasms|pancreatic neoplasms|colorectal neoplasms|periodontitis|breast neoplasms|breast neoplasms|cholesteatoma|lung neoplasms|endometriosis|esophageal neoplasms|stomach neoplasms|breast neoplasms|breast neoplasms|carcinoma, renal cell|colorectal neoplasms|breast neoplasms|carcinoma, non-small-cell lung|melanoma\", \"breast neoplasms|colonic neoplasms|lung neoplasms|lung neoplasms|lung neoplasms|lung neoplasms|lung neoplasms|lung neoplasms|lung neoplasms|neoplasms|neoplasms|neoplasms|ovarian neoplasms|acth-secreting pituitary adenoma|neoplasms|neoplasms|digestive system neoplasms|head and neck neoplasms|hodgkin disease|neoplasms|sarcoma, kaposi|lung neoplasms|lupus vulgaris|melanoma|pancreatic neoplasms|pituitary neoplasms|salivary gland neoplasms|lymphoma, primary effusion|adrenocortical carcinoma|neoplasms|neoplasms|carcinoma, hepatocellular|lung neoplasms|neoplasms|retinoblastoma|adenocarcinoma|asthma|carcinoma|carcinoma|carcinoma, hepatocellular|leukemia, myeloid, acute|neoplasms|ovarian neoplasms|spinal cord injuries|spinal cord injuries|hypertrophy|carcinoma, renal cell|head and neck neoplasms|myelodysplastic syndromes|breast neoplasms|nasopharyngeal neoplasms|barrett esophagus|pancreatic neoplasms|carcinoma, non-small-cell lung|ovarian neoplasms|carcinoma, non-small-cell lung|myelodysplastic syndromes|inflammation|colorectal neoplasms|sarcoma, ewing's|mesothelioma|mycosis fungoides|endometrial neoplasms|colorectal neoplasms|carcinoma, hepatocellular|glioblastoma|breast neoplasms|pancreatic neoplasms|colorectal neoplasms|periodontitis|breast neoplasms|breast neoplasms|cholesteatoma|lung neoplasms|endometriosis|esophageal neoplasms|stomach neoplasms|breast neoplasms|breast neoplasms|carcinoma, renal cell|colorectal neoplasms|breast neoplasms|carcinoma, non-small-cell lung|melanoma\", 'colonic neoplasms|heart failure|lung neoplasms|lung neoplasms|lung neoplasms|lung neoplasms|lung neoplasms|lung neoplasms|lung neoplasms|neoplasms|neoplasms|neoplasms|ovarian neoplasms|neoplasms|digestive system neoplasms|head and neck neoplasms|neoplasms|sarcoma, kaposi|lung neoplasms|melanoma|pancreatic neoplasms|pituitary neoplasms|lymphoma, primary effusion|adrenocortical carcinoma|neurodegenerative diseases|neoplasms|carcinoma, hepatocellular|mouth neoplasms|neoplasms|retinoblastoma|asthma|carcinoma, hepatocellular|leukemia, myeloid, acute|mouth neoplasms|ovarian neoplasms|hypertrophy|carcinoma, renal cell|precursor cell lymphoblastic leukemia-lymphoma|pre-eclampsia|myelodysplastic syndromes|nasopharyngeal neoplasms|liposarcoma|pancreatic neoplasms|carcinoma, non-small-cell lung|inflammation|colorectal neoplasms|endometrial neoplasms|pancreatic neoplasms|breast neoplasms|lung neoplasms|endometriosis|cataract|breast neoplasms|hepatitis c|breast neoplasms|liver neoplasms|prostatic neoplasms|breast neoplasms|esophageal neoplasms|sarcoma, ewing|precursor cell lymphoblastic leukemia-lymphoma|carcinoma, hepatocellular|carcinoma, non-small-cell lung|carcinoma, non-small-cell lung|melanoma', 'colonic neoplasms|heart failure|lung neoplasms|lung neoplasms|lung neoplasms|lung neoplasms|lung neoplasms|lung neoplasms|lung neoplasms|muscular disorders, atrophic|neoplasms|neoplasms|neoplasms|neoplasms|digestive system neoplasms|head and neck neoplasms|neoplasms|sarcoma, kaposi|lung neoplasms|melanoma|pancreatic neoplasms|pituitary neoplasms|lymphoma, primary effusion|adrenocortical carcinoma|neoplasms|carcinoma, hepatocellular|neoplasms|retinoblastoma|carcinoma, hepatocellular|asthma|carcinoma, hepatocellular|leukemia, myeloid, acute|ovarian neoplasms|nevus, pigmented|hypertrophy|carcinoma, renal cell|myelodysplastic syndromes|nasopharyngeal neoplasms|breast neoplasms|pancreatic neoplasms|inflammation|prostatic neoplasms|ovarian neoplasms|retinoblastoma|colorectal neoplasms|endometrial neoplasms|breast neoplasms|prostatic neoplasms|periodontitis|pancreatic neoplasms|carcinoma, hepatocellular|lung neoplasms|endometriosis|carcinoma, hepatocellular|breast neoplasms|eosinophilic esophagitis|hepatitis b|breast neoplasms|carcinoma, hepatocellular|carcinoma, small cell|influenza, human|prostatic neoplasms|esophageal neoplasms|pancreatic neoplasms|leiomyoma']\n",
      "Dice distance\n"
     ]
    },
    {
     "name": "stderr",
     "output_type": "stream",
     "text": [
      "/opt/anaconda3/lib/python3.6/site-packages/sklearn/utils/validation.py:595: DataConversionWarning: Data with input dtype uint8 was converted to bool by check_pairwise_arrays.\n",
      "  warnings.warn(msg, DataConversionWarning)\n",
      "/opt/anaconda3/lib/python3.6/site-packages/sklearn/utils/validation.py:595: DataConversionWarning: Data with input dtype int64 was converted to bool by check_pairwise_arrays.\n",
      "  warnings.warn(msg, DataConversionWarning)\n",
      "/home/jonny/PycharmProjects/MultiOmicsGraphEmbedding/moge/network/omics_distance.py:53: RuntimeWarning: Mean of empty slice\n",
      "  agg_func = lambda x: np.nanmean(x, axis=0)\n"
     ]
    },
    {
     "name": "stdout",
     "output_type": "stream",
     "text": [
      "701 undirected positive edges (type='u') added.\n",
      "3505 undirected negative edges (type='u_n') added.\n"
     ]
    }
   ],
   "source": [
    "affinities_MIR = network.add_edges_from_nodes_similarity(modality=\"MIR\", node_list=network.nodes[\"MIR\"], \n",
    "    similarity_threshold=0.70, dissimilarity_threshold=0.01,\n",
    "    negative_sampling_ratio=5.0, nanmean=True,\n",
    "    features=[\"GO Terms\", \"Disease association\"], \n",
    "    compute_correlation=False)"
   ]
  },
  {
   "cell_type": "code",
   "execution_count": 40,
   "metadata": {
    "scrolled": true
   },
   "outputs": [
    {
     "name": "stdout",
     "output_type": "stream",
     "text": [
      "Gower's dissimilarity: Computing Family , dtype: object , shape: (1870,)\n",
      "[nan, 'let-7a-2-3p/let-7g-3p', nan, 'let-7-5p/98-5p', 'let-7-5p/98-5p']\n",
      "Dice distance\n"
     ]
    },
    {
     "name": "stderr",
     "output_type": "stream",
     "text": [
      "/opt/anaconda3/lib/python3.6/site-packages/sklearn/utils/validation.py:595: DataConversionWarning: Data with input dtype int64 was converted to bool by check_pairwise_arrays.\n",
      "  warnings.warn(msg, DataConversionWarning)\n"
     ]
    },
    {
     "name": "stdout",
     "output_type": "stream",
     "text": [
      "Gower's dissimilarity: Computing Rfams , dtype: object , shape: (1870,)\n",
      "['Rfam:RF00027', nan, 'Rfam:RF00027', nan, nan]\n",
      "Dice distance\n"
     ]
    },
    {
     "name": "stderr",
     "output_type": "stream",
     "text": [
      "/opt/anaconda3/lib/python3.6/site-packages/sklearn/utils/validation.py:595: DataConversionWarning: Data with input dtype int64 was converted to bool by check_pairwise_arrays.\n",
      "  warnings.warn(msg, DataConversionWarning)\n",
      "/home/jonny/PycharmProjects/MultiOmicsGraphEmbedding/moge/network/omics_distance.py:53: RuntimeWarning: Mean of empty slice\n",
      "  agg_func = lambda x: np.nanmean(x, axis=0)\n"
     ]
    },
    {
     "name": "stdout",
     "output_type": "stream",
     "text": [
      "683 undirected positive edges (type='u') added.\n",
      "3415 undirected negative edges (type='u_n') added.\n"
     ]
    }
   ],
   "source": [
    "affinities_MIR = network.add_edges_from_nodes_similarity(modality=\"MIR\", node_list=network.nodes[\"MIR\"], \n",
    "    similarity_threshold=0.70, dissimilarity_threshold=0.01,\n",
    "    negative_sampling_ratio=5.0, nanmean=True,\n",
    "    features=[\"Family\", \"Rfams\"], \n",
    "    compute_correlation=False)"
   ]
  },
  {
   "cell_type": "code",
   "execution_count": 90,
   "metadata": {},
   "outputs": [
    {
     "data": {
      "text/plain": [
       "438917"
      ]
     },
     "execution_count": 90,
     "metadata": {},
     "output_type": "execute_result"
    }
   ],
   "source": [
    "edges = network.G.edges(nbunch=network.nodes[\"LNC\"])\n",
    "# network.G.remove_edges_from(set(edges))\n",
    "len(edges)"
   ]
  },
  {
   "cell_type": "code",
   "execution_count": 89,
   "metadata": {
    "scrolled": true
   },
   "outputs": [
    {
     "name": "stdout",
     "output_type": "stream",
     "text": [
      "Gower's dissimilarity: Computing locus_type , dtype: object , shape: (12706,)\n",
      "Dice distance\n"
     ]
    },
    {
     "name": "stderr",
     "output_type": "stream",
     "text": [
      "/opt/anaconda3/lib/python3.6/site-packages/sklearn/utils/validation.py:595: DataConversionWarning: Data with input dtype int64 was converted to bool by check_pairwise_arrays.\n",
      "  warnings.warn(msg, DataConversionWarning)\n"
     ]
    },
    {
     "name": "stdout",
     "output_type": "stream",
     "text": [
      "Gower's dissimilarity: Computing Transcript type , dtype: object , shape: (12706,)\n",
      "Dice distance\n"
     ]
    },
    {
     "name": "stderr",
     "output_type": "stream",
     "text": [
      "/opt/anaconda3/lib/python3.6/site-packages/sklearn/utils/validation.py:595: DataConversionWarning: Data with input dtype int64 was converted to bool by check_pairwise_arrays.\n",
      "  warnings.warn(msg, DataConversionWarning)\n"
     ]
    },
    {
     "name": "stdout",
     "output_type": "stream",
     "text": [
      "Gower's dissimilarity: Computing tag , dtype: object , shape: (12706,)\n",
      "Dice distance\n"
     ]
    },
    {
     "name": "stderr",
     "output_type": "stream",
     "text": [
      "/opt/anaconda3/lib/python3.6/site-packages/sklearn/utils/validation.py:595: DataConversionWarning: Data with input dtype int64 was converted to bool by check_pairwise_arrays.\n",
      "  warnings.warn(msg, DataConversionWarning)\n"
     ]
    },
    {
     "name": "stdout",
     "output_type": "stream",
     "text": [
      "Gower's dissimilarity: Computing Strand , dtype: object , shape: (12706,)\n",
      "Dice distance\n"
     ]
    },
    {
     "name": "stderr",
     "output_type": "stream",
     "text": [
      "/opt/anaconda3/lib/python3.6/site-packages/sklearn/utils/validation.py:595: DataConversionWarning: Data with input dtype uint8 was converted to bool by check_pairwise_arrays.\n",
      "  warnings.warn(msg, DataConversionWarning)\n"
     ]
    },
    {
     "name": "stdout",
     "output_type": "stream",
     "text": [
      "Gower's dissimilarity: Computing Chromosome , dtype: object , shape: (12706,)\n",
      "Dice distance\n"
     ]
    },
    {
     "name": "stderr",
     "output_type": "stream",
     "text": [
      "/opt/anaconda3/lib/python3.6/site-packages/sklearn/utils/validation.py:595: DataConversionWarning: Data with input dtype uint8 was converted to bool by check_pairwise_arrays.\n",
      "  warnings.warn(msg, DataConversionWarning)\n"
     ]
    },
    {
     "name": "stdout",
     "output_type": "stream",
     "text": [
      "Gower's dissimilarity: Computing start , dtype: float64 , shape: (12706,)\n",
      "Euclidean distance (normalized ptp)\n",
      "Gower's dissimilarity: Computing end , dtype: float64 , shape: (12706,)\n",
      "Euclidean distance (normalized ptp)\n",
      "1 undirected positive edges (type='u') added.\n",
      "350980 undirected negative edges (type='u_n') added.\n"
     ]
    }
   ],
   "source": [
    "affinities_LNC = network.add_edges_from_nodes_similarity(modality=\"LNC\", node_list=network.nodes[\"LNC\"], \n",
    "    similarity_threshold=0.90, dissimilarity_threshold=0.1,\n",
    "    negative_sampling_ratio=5.0, \n",
    "    nanmean=False,\n",
    "    features=[\"locus_type\", \"Transcript type\", \"tag\", \"Strand\", \"Chromosome\", \"start\", \"end\", \"Transcript sequence\"],\n",
    "    weights=[0.5, 0.5, 1, 1, 0.5, 0.2, 0.2, 1],\n",
    "    compute_correlation=False)"
   ]
  },
  {
   "cell_type": "code",
   "execution_count": 87,
   "metadata": {},
   "outputs": [
    {
     "name": "stdout",
     "output_type": "stream",
     "text": [
      "Gower's dissimilarity: Computing GO Terms , dtype: object , shape: (12706,)\n",
      "Dice distance\n"
     ]
    },
    {
     "name": "stderr",
     "output_type": "stream",
     "text": [
      "/opt/anaconda3/lib/python3.6/site-packages/sklearn/utils/validation.py:595: DataConversionWarning: Data with input dtype uint8 was converted to bool by check_pairwise_arrays.\n",
      "  warnings.warn(msg, DataConversionWarning)\n"
     ]
    },
    {
     "name": "stdout",
     "output_type": "stream",
     "text": [
      "Gower's dissimilarity: Computing Family , dtype: object , shape: (12706,)\n",
      "Dice distance\n"
     ]
    },
    {
     "name": "stderr",
     "output_type": "stream",
     "text": [
      "/opt/anaconda3/lib/python3.6/site-packages/sklearn/utils/validation.py:595: DataConversionWarning: Data with input dtype int64 was converted to bool by check_pairwise_arrays.\n",
      "  warnings.warn(msg, DataConversionWarning)\n"
     ]
    },
    {
     "name": "stdout",
     "output_type": "stream",
     "text": [
      "Gower's dissimilarity: Computing Disease association , dtype: object , shape: (12706,)\n",
      "Dice distance\n"
     ]
    },
    {
     "name": "stderr",
     "output_type": "stream",
     "text": [
      "/opt/anaconda3/lib/python3.6/site-packages/sklearn/utils/validation.py:595: DataConversionWarning: Data with input dtype int64 was converted to bool by check_pairwise_arrays.\n",
      "  warnings.warn(msg, DataConversionWarning)\n",
      "/home/jonny/PycharmProjects/MultiOmicsGraphEmbedding/moge/network/omics_distance.py:53: RuntimeWarning: Mean of empty slice\n",
      "  agg_func = lambda x: np.nanmean(x, axis=0)\n"
     ]
    },
    {
     "name": "stdout",
     "output_type": "stream",
     "text": [
      "463 undirected positive edges (type='u') added.\n",
      "2315 undirected negative edges (type='u_n') added.\n"
     ]
    }
   ],
   "source": [
    "affinities_LNC = network.add_edges_from_nodes_similarity(modality=\"LNC\", node_list=network.nodes[\"LNC\"], \n",
    "    similarity_threshold=0.70, dissimilarity_threshold=0.01,\n",
    "    negative_sampling_ratio=5.0, nanmean=True,\n",
    "    features=[\"GO Terms\", \"Family\", \"Disease association\"], \n",
    "    compute_correlation=False)"
   ]
  },
  {
   "cell_type": "code",
   "execution_count": 19,
   "metadata": {
    "collapsed": true
   },
   "outputs": [
    {
     "name": "stdout",
     "output_type": "stream",
     "text": [
      "edge_list 416907 [('A1BG', 'DNAJA3', {'type': 'u_n', 'tag': 'affinity', 'weight': 1e-16}), ('A1BG', 'NABP1', {'type': 'u_n', 'tag': 'affinity', 'weight': 1e-16}), ('A1BG', 'BBS4', {'type': 'u_n', 'tag': 'affinity', 'weight': 1e-16}), ('A1BG', 'ATOX1', {'type': 'u_n', 'tag': 'affinity', 'weight': 1e-16}), ('A1BG', 'CHCHD6', {'type': 'u_n', 'tag': 'affinity', 'weight': 1e-16})]\n"
     ]
    },
    {
     "data": {
      "image/png": "[encoded data removed]",
      "text/plain": [
       "<Figure size 504x504 with 2 Axes>"
      ]
     },
     "metadata": {
      "needs_background": "light"
     },
     "output_type": "display_data"
    }
   ],
   "source": [
    "matrix_heatmap(network.get_adjacency_matrix(edge_types=[\"u_n\"], node_list=network.nodes[\"GE\"]).todense(),\n",
    "              figsize=(7,7))"
   ]
  },
  {
   "cell_type": "code",
   "execution_count": 18,
   "metadata": {
    "collapsed": true
   },
   "outputs": [
    {
     "name": "stdout",
     "output_type": "stream",
     "text": [
      "edge_list 6953 [('hsa-let-7a-1', 'hsa-mir-6882', {'type': 'u_n', 'tag': 'affinity', 'weight': 1e-16}), ('hsa-let-7a-1', 'hsa-mir-4490', {'type': 'u_n', 'tag': 'affinity', 'weight': 1e-16}), ('hsa-let-7a-1', 'hsa-mir-4646', {'type': 'u_n', 'tag': 'affinity', 'weight': 1e-16}), ('hsa-let-7a-1', 'hsa-mir-5011', {'type': 'u_n', 'tag': 'affinity', 'weight': 1e-16}), ('hsa-let-7a-1', 'hsa-mir-6742', {'type': 'u_n', 'tag': 'affinity', 'weight': 1e-16})]\n"
     ]
    },
    {
     "data": {
      "image/png": "[encoded data removed]",
      "text/plain": [
       "<Figure size 360x360 with 2 Axes>"
      ]
     },
     "metadata": {
      "needs_background": "light"
     },
     "output_type": "display_data"
    }
   ],
   "source": [
    "matrix_heatmap(network.get_adjacency_matrix(edge_types=[\"u_n\"], node_list=network.nodes[\"MIR\"]).todense(),\n",
    "              figsize=(5,5))"
   ]
  },
  {
   "cell_type": "code",
   "execution_count": 21,
   "metadata": {
    "collapsed": true
   },
   "outputs": [
    {
     "name": "stdout",
     "output_type": "stream",
     "text": [
      "edge_list 368264 [('ENSG00000005206', 'LINC00629', {'type': 'u_n', 'tag': 'affinity', 'weight': 1e-16}), ('ENSG00000031544', 'PTPRG-AS1', {'type': 'u_n', 'tag': 'affinity', 'weight': 1e-16}), ('AC000061.1', 'AC103831.1', {'type': 'u_n', 'tag': 'affinity', 'weight': 0.07564933532328243}), ('AC000061.1', 'AC010768.4', {'type': 'u_n', 'tag': 'affinity', 'weight': 0.0724215115881248}), ('AC000061.1', 'AP003469.1', {'type': 'u_n', 'tag': 'affinity', 'weight': 0.09577535725337015})]\n"
     ]
    },
    {
     "data": {
      "image/png": "[encoded data removed]",
      "text/plain": [
       "<Figure size 504x504 with 2 Axes>"
      ]
     },
     "metadata": {
      "needs_background": "light"
     },
     "output_type": "display_data"
    }
   ],
   "source": [
    "matrix_heatmap(network.get_adjacency_matrix(edge_types=[\"u_n\"], node_list=network.nodes[\"LNC\"]).todense(),\n",
    "              figsize=(7,7))"
   ]
  },
  {
   "cell_type": "code",
   "execution_count": 4,
   "metadata": {},
   "outputs": [],
   "source": [
    "# IMPORT Affinity Edgelist\n",
    "network.import_edgelist_file(\n",
    "#     file=\"moge/data/LMN_only_directed/affinity/lmn_n70_m70_l70-70_GO_Rfams_Disease_Family_NoExpression_affinity.edgelist\", \n",
    "    file=\"moge/data/LMN_future_recall/TRAIN/Interactions_Affinity/lmn_n70_m70_l70-70_GO_Rfams_Disease_Family_GO_affinity.edgelist\", \n",
    "    is_directed=False)"
   ]
  },
  {
   "cell_type": "code",
   "execution_count": 92,
   "metadata": {},
   "outputs": [],
   "source": [
    "# WRITE Affinity Edgelist\n",
    "# nx.write_edgelist(network.get_subgraph([\"MIR\", \"GE\", \"LNC\"]), \n",
    "#                   \"moge/data/LMN_future_recall/TRAIN/Interactions_Affinity/lmn_n70_m70_l70-70_GO_Rfams_Disease_Family_GO_affinity.edgelist\", \n",
    "#                   data=True)"
   ]
  },
  {
   "cell_type": "markdown",
   "metadata": {},
   "source": [
    "# Add Attribute Affinity NEGATIVE Edges between cross-modals"
   ]
  },
  {
   "cell_type": "code",
   "execution_count": 11,
   "metadata": {},
   "outputs": [
    {
     "name": "stdout",
     "output_type": "stream",
     "text": [
      "Number of negative sampled edges between ['GE', 'MIR'] added: 10000\n",
      "Number of negative sampled edges between ['GE', 'LNC'] added: 20000\n",
      "Number of negative sampled edges between ['LNC', 'MIR'] added: 10000\n"
     ]
    }
   ],
   "source": [
    "u_n_size = 10000\n",
    "network.add_sampled_negative_edges(u_n_size, modalities=[\"GE\", \"MIR\"])\n",
    "network.add_sampled_negative_edges(u_n_size*2, modalities=[\"GE\", \"LNC\"])\n",
    "network.add_sampled_negative_edges(u_n_size, modalities=[\"LNC\", \"MIR\"])"
   ]
  },
  {
   "cell_type": "markdown",
   "metadata": {},
   "source": [
    "# miRTarBase"
   ]
  },
  {
   "cell_type": "code",
   "execution_count": 4,
   "metadata": {},
   "outputs": [
    {
     "data": {
      "text/plain": [
       "64749"
      ]
     },
     "execution_count": 4,
     "metadata": {},
     "output_type": "execute_result"
    }
   ],
   "source": [
    "mirtarbase_new = luad_data.MIR.get_miRTarBase_miRNA_target_interaction(use_latest=True, data=False)\n",
    "mirtarbase_old = luad_data.MIR.get_miRTarBase_miRNA_target_interaction(use_latest=False, data=False)\n",
    "mirtarbase_diff = list(set(mirtarbase_new) - set(mirtarbase_old))\n",
    "len(mirtarbase_diff)"
   ]
  },
  {
   "cell_type": "code",
   "execution_count": 5,
   "metadata": {},
   "outputs": [
    {
     "name": "stdout",
     "output_type": "stream",
     "text": [
      "Adding edgelist with 1746 total unique MIR genes (source), but only matching 1615 nodes\n",
      "Adding edgelist with 4740 total unique GE genes (target), but only matching 4616 nodes\n",
      "64749 edges added.\n"
     ]
    }
   ],
   "source": [
    "# Adds miRNA-target interaction network\n",
    "network.add_directed_edges_from_edgelist(edgelist=mirtarbase_diff, #luad_data.MIR.get_miRTarBase_miRNA_target_interaction(use_latest=False), \n",
    "                                        modalities=[\"MIR\", \"GE\"], correlation_weights=False, threshold=0.20,\n",
    "                                        database=\"miRTarBase\")"
   ]
  },
  {
   "cell_type": "markdown",
   "metadata": {},
   "source": [
    "# StarBase mRNA-RNA"
   ]
  },
  {
   "cell_type": "code",
   "execution_count": 13,
   "metadata": {},
   "outputs": [
    {
     "data": {
      "text/plain": [
       "1516287"
      ]
     },
     "execution_count": 13,
     "metadata": {},
     "output_type": "execute_result"
    }
   ],
   "source": [
    "starbase_new = luad_data.GE.get_starBase_RNA_RNA_interactions(min_expNum=1, data=False)\n",
    "starbase_old = luad_data.GE.get_starBase_RNA_RNA_interactions(min_expNum=2, data=False)\n",
    "starbase_diff = list(set(starbase_new) - set(starbase_old))\n",
    "len(starbase_diff)"
   ]
  },
  {
   "cell_type": "code",
   "execution_count": 8,
   "metadata": {},
   "outputs": [
    {
     "name": "stdout",
     "output_type": "stream",
     "text": [
      "Adding edgelist with 359 total unique LNC genes (source), but only matching 295 nodes\n",
      "Adding edgelist with 10016 total unique GE genes (target), but only matching 6470 nodes\n",
      "20600 edges added.\n"
     ]
    },
    {
     "name": "stderr",
     "output_type": "stream",
     "text": [
      "/opt/anaconda3/lib/python3.6/site-packages/TCGAMultiOmics/genomic.py:301: FutureWarning: read_table is deprecated, use read_csv instead.\n",
      "  \"pairGeneType\", \"interactionNum\", 'expNum', \"FreeEnergy\"])\n"
     ]
    }
   ],
   "source": [
    "# Adds Gene Regulatory Network edges\n",
    "network.add_directed_edges_from_edgelist(edgelist=luad_data.LNC.get_starBase_lncRNA_RNA_interactions(),\n",
    "                                        modalities=[\"LNC\", \"GE\"], correlation_weights=False, threshold=0.2,\n",
    "                                        database=\"starBase\")"
   ]
  },
  {
   "cell_type": "markdown",
   "metadata": {},
   "source": [
    "# BioGRID"
   ]
  },
  {
   "cell_type": "code",
   "execution_count": 6,
   "metadata": {},
   "outputs": [
    {
     "name": "stderr",
     "output_type": "stream",
     "text": [
      "/opt/anaconda3/lib/python3.6/site-packages/TCGAMultiOmics/genomic.py:769: FutureWarning: read_table is deprecated, use read_csv instead, passing sep='\\t'.\n",
      "  low_memory=True)\n",
      "/opt/anaconda3/lib/python3.6/site-packages/IPython/core/interactiveshell.py:3214: DtypeWarning: Columns (19,20) have mixed types. Specify dtype option on import or set low_memory=False.\n",
      "  if (yield from self.run_code(code, result)):\n"
     ]
    },
    {
     "data": {
      "text/plain": [
       "33522"
      ]
     },
     "execution_count": 6,
     "metadata": {},
     "output_type": "execute_result"
    }
   ],
   "source": [
    "biogrid_new = luad_data.GE.get_BioGRID_GRN_edgelist(data=False, \n",
    "                biogrid_interactions_file_path='/data/datasets/Bioinformatics_ExternalData/BioGRID/BIOGRID-ALL-3.5.169.tab2.txt')\n",
    "biogrid_old = luad_data.GE.get_BioGRID_GRN_edgelist(data=False, \n",
    "                biogrid_interactions_file_path='/data/datasets/Bioinformatics_ExternalData/BioGRID/BIOGRID-ALL-3.4.162.tab2.txt')\n",
    "biogrid_diff = list(set(biogrid_new) - set(biogrid_old))\n",
    "len(biogrid_diff)"
   ]
  },
  {
   "cell_type": "code",
   "execution_count": 8,
   "metadata": {},
   "outputs": [
    {
     "name": "stdout",
     "output_type": "stream",
     "text": [
      "Adding edgelist with 2238 total unique GE genes (source), but only matching 2183 nodes\n",
      "Adding edgelist with 7736 total unique GE genes (target), but only matching 7278 nodes\n",
      "33522 edges added.\n"
     ]
    }
   ],
   "source": [
    "# Adds Gene Regulatory Network edges\n",
    "network.add_directed_edges_from_edgelist(edgelist=biogrid_diff, # luad_data.GE.get_BioGRID_GRN_edgelist(biogrid_interactions_file_path='/data/datasets/Bioinformatics_ExternalData/BioGRID/BIOGRID-ALL-3.4.162.tab2.txt'),\n",
    "                                        modalities=[\"GE\", \"GE\"], correlation_weights=False, threshold=0.2,\n",
    "                                        database=\"BioGRID\")"
   ]
  },
  {
   "cell_type": "markdown",
   "metadata": {},
   "source": [
    "# NPInter"
   ]
  },
  {
   "cell_type": "code",
   "execution_count": 4,
   "metadata": {},
   "outputs": [
    {
     "data": {
      "text/plain": [
       "123486"
      ]
     },
     "execution_count": 4,
     "metadata": {},
     "output_type": "execute_result"
    }
   ],
   "source": [
    "npinter_new = luad_data.LNC.get_NPInter_ncRNA_RNA_regulatory_interaction_edgelist(use_latest=True, data=False)\n",
    "npinter_old = luad_data.LNC.get_NPInter_ncRNA_RNA_regulatory_interaction_edgelist(use_latest=False, data=False)\n",
    "npinter_diff = list(set(npinter_new) - set(npinter_old))\n",
    "len(npinter_diff)"
   ]
  },
  {
   "cell_type": "code",
   "execution_count": 11,
   "metadata": {},
   "outputs": [
    {
     "name": "stdout",
     "output_type": "stream",
     "text": [
      "Adding edgelist with 727 total unique LNC genes (source), but only matching 12 nodes\n",
      "Adding edgelist with 5659 total unique LNC genes (target), but only matching 4 nodes\n",
      "85335 edges added.\n"
     ]
    }
   ],
   "source": [
    "network.add_directed_edges_from_edgelist(edgelist=luad_data.LNC.get_NPInter_ncRNA_RNA_regulatory_interaction_edgelist(use_latest=False),\n",
    "                                         modalities=[\"LNC\", \"LNC\"], correlation_weights=False, threshold=0.20,\n",
    "                                        database=\"NPInter\")"
   ]
  },
  {
   "cell_type": "code",
   "execution_count": 4,
   "metadata": {},
   "outputs": [
    {
     "name": "stderr",
     "output_type": "stream",
     "text": [
      "/opt/anaconda3/lib/python3.6/site-packages/ipykernel_launcher.py:2: FutureWarning: read_table is deprecated, use read_csv instead, passing sep='\\t'.\n",
      "  \n",
      "/opt/anaconda3/lib/python3.6/site-packages/IPython/core/interactiveshell.py:3049: DtypeWarning: Columns (11) have mixed types. Specify dtype option on import or set low_memory=False.\n",
      "  interactivity=interactivity, compiler=compiler, result=result)\n"
     ]
    },
    {
     "data": {
      "text/html": [
       "<div>\n",
       "<style scoped>\n",
       "    .dataframe tbody tr th:only-of-type {\n",
       "        vertical-align: middle;\n",
       "    }\n",
       "\n",
       "    .dataframe tbody tr th {\n",
       "        vertical-align: top;\n",
       "    }\n",
       "\n",
       "    .dataframe thead th {\n",
       "        text-align: right;\n",
       "    }\n",
       "</style>\n",
       "<table border=\"1\" class=\"dataframe\">\n",
       "  <thead>\n",
       "    <tr style=\"text-align: right;\">\n",
       "      <th></th>\n",
       "      <th>interID</th>\n",
       "      <th>ncID</th>\n",
       "      <th>ncType</th>\n",
       "      <th>ncIdentifier</th>\n",
       "      <th>ncName</th>\n",
       "      <th>PartnerID</th>\n",
       "      <th>prType</th>\n",
       "      <th>prIdentifier</th>\n",
       "      <th>InteractionPartner</th>\n",
       "      <th>interDescription</th>\n",
       "      <th>experiment</th>\n",
       "      <th>PubMedID</th>\n",
       "      <th>organism</th>\n",
       "      <th>tag</th>\n",
       "      <th>interClass</th>\n",
       "      <th>interLevel</th>\n",
       "    </tr>\n",
       "  </thead>\n",
       "  <tbody>\n",
       "    <tr>\n",
       "      <th>0</th>\n",
       "      <td>ncRI-3000001</td>\n",
       "      <td>127667</td>\n",
       "      <td>NONCODE</td>\n",
       "      <td>NONOTHNOBEDT000074</td>\n",
       "      <td>4.5S</td>\n",
       "      <td>135149</td>\n",
       "      <td>UniProt</td>\n",
       "      <td>P0A6M8</td>\n",
       "      <td>fusA</td>\n",
       "      <td>Following translocation, 4.5S RNA replaces 23S...</td>\n",
       "      <td>EMSA</td>\n",
       "      <td>8662727</td>\n",
       "      <td>Escherichia coli</td>\n",
       "      <td>ncRNA-protein binding</td>\n",
       "      <td>binding</td>\n",
       "      <td>RNA-Protein</td>\n",
       "    </tr>\n",
       "    <tr>\n",
       "      <th>1</th>\n",
       "      <td>ncRI-3000002</td>\n",
       "      <td>127667</td>\n",
       "      <td>NONCODE</td>\n",
       "      <td>NONOTHNOBEDT000074</td>\n",
       "      <td>4.5S</td>\n",
       "      <td>135166</td>\n",
       "      <td>UniProt</td>\n",
       "      <td>P0AGD7</td>\n",
       "      <td>ffh</td>\n",
       "      <td>The 4.5S RNA is associated in vivo with P48. 4...</td>\n",
       "      <td>Immunoprecipitation experiments</td>\n",
       "      <td>1281314</td>\n",
       "      <td>Escherichia coli</td>\n",
       "      <td>ncRNA-protein binding</td>\n",
       "      <td>binding</td>\n",
       "      <td>RNA-Protein</td>\n",
       "    </tr>\n",
       "    <tr>\n",
       "      <th>2</th>\n",
       "      <td>ncRI-3000003</td>\n",
       "      <td>127670</td>\n",
       "      <td>NONCODE</td>\n",
       "      <td>NONOTHNOBEDT000078</td>\n",
       "      <td>6S</td>\n",
       "      <td>134921</td>\n",
       "      <td>UniProt</td>\n",
       "      <td>M1FYN7</td>\n",
       "      <td>rpoB</td>\n",
       "      <td>UV crosslinking experiments revealed that 6S R...</td>\n",
       "      <td>cross-linking</td>\n",
       "      <td>10892648</td>\n",
       "      <td>Escherichia coli</td>\n",
       "      <td>ncRNA-protein binding</td>\n",
       "      <td>binding</td>\n",
       "      <td>RNA-Protein</td>\n",
       "    </tr>\n",
       "    <tr>\n",
       "      <th>3</th>\n",
       "      <td>ncRI-3000004</td>\n",
       "      <td>127670</td>\n",
       "      <td>NONCODE</td>\n",
       "      <td>NONOTHNOBEDT000078</td>\n",
       "      <td>6S</td>\n",
       "      <td>135092</td>\n",
       "      <td>UniProt</td>\n",
       "      <td>P00579</td>\n",
       "      <td>rpoD</td>\n",
       "      <td>The stable association of sigma70 with core en...</td>\n",
       "      <td>cross-linking</td>\n",
       "      <td>10892648</td>\n",
       "      <td>Escherichia coli</td>\n",
       "      <td>ncRNA-protein binding</td>\n",
       "      <td>binding</td>\n",
       "      <td>RNA-Protein</td>\n",
       "    </tr>\n",
       "    <tr>\n",
       "      <th>4</th>\n",
       "      <td>ncRI-3000005</td>\n",
       "      <td>127670</td>\n",
       "      <td>NONCODE</td>\n",
       "      <td>NONOTHNOBEDT000078</td>\n",
       "      <td>6S</td>\n",
       "      <td>135154</td>\n",
       "      <td>UniProt</td>\n",
       "      <td>P0A8T7</td>\n",
       "      <td>rpoC</td>\n",
       "      <td>UV crosslinking experiments revealed that 6S R...</td>\n",
       "      <td>cross-linking</td>\n",
       "      <td>10892648</td>\n",
       "      <td>Escherichia coli</td>\n",
       "      <td>ncRNA-protein binding</td>\n",
       "      <td>binding</td>\n",
       "      <td>RNA-Protein</td>\n",
       "    </tr>\n",
       "    <tr>\n",
       "      <th>5</th>\n",
       "      <td>ncRI-3000006</td>\n",
       "      <td>60587</td>\n",
       "      <td>NONCODE</td>\n",
       "      <td>NONHSAG040596</td>\n",
       "      <td>7SK</td>\n",
       "      <td>130918</td>\n",
       "      <td>RefSeq</td>\n",
       "      <td>NM_002467</td>\n",
       "      <td>MYC</td>\n",
       "      <td>Electrophoretic mobility shift experiment indi...</td>\n",
       "      <td>EMSA</td>\n",
       "      <td>9018369</td>\n",
       "      <td>Homo sapiens</td>\n",
       "      <td>regulatory;promoter as action site</td>\n",
       "      <td>regulatory</td>\n",
       "      <td>RNA-RNA</td>\n",
       "    </tr>\n",
       "    <tr>\n",
       "      <th>6</th>\n",
       "      <td>ncRI-3000007</td>\n",
       "      <td>60587</td>\n",
       "      <td>NONCODE</td>\n",
       "      <td>NONHSAG040596</td>\n",
       "      <td>7SK</td>\n",
       "      <td>131364</td>\n",
       "      <td>RefSeq</td>\n",
       "      <td>NM_020469</td>\n",
       "      <td>ABO</td>\n",
       "      <td>Promoters pU6 and p7SK proved to express high ...</td>\n",
       "      <td>NaN</td>\n",
       "      <td>22522162</td>\n",
       "      <td>Homo sapiens</td>\n",
       "      <td>regulatory</td>\n",
       "      <td>regulatory</td>\n",
       "      <td>RNA-RNA</td>\n",
       "    </tr>\n",
       "    <tr>\n",
       "      <th>7</th>\n",
       "      <td>ncRI-3000008</td>\n",
       "      <td>60587</td>\n",
       "      <td>NONCODE</td>\n",
       "      <td>NONHSAG040596</td>\n",
       "      <td>7SK</td>\n",
       "      <td>135074</td>\n",
       "      <td>UniProt</td>\n",
       "      <td>O94992</td>\n",
       "      <td>HEXIM1</td>\n",
       "      <td>Binding of the 7SK snRNA turns the HEXIM1 prot...</td>\n",
       "      <td>NaN</td>\n",
       "      <td>15201869</td>\n",
       "      <td>Homo sapiens</td>\n",
       "      <td>ncRNA-protein binding</td>\n",
       "      <td>binding</td>\n",
       "      <td>RNA-Protein</td>\n",
       "    </tr>\n",
       "    <tr>\n",
       "      <th>8</th>\n",
       "      <td>ncRI-3000009</td>\n",
       "      <td>60587</td>\n",
       "      <td>NONCODE</td>\n",
       "      <td>NONHSAG040596</td>\n",
       "      <td>7SK</td>\n",
       "      <td>135074</td>\n",
       "      <td>UniProt</td>\n",
       "      <td>O94992</td>\n",
       "      <td>HEXIM1</td>\n",
       "      <td>When associated with 7SK small nuclear RNA, HE...</td>\n",
       "      <td>NaN</td>\n",
       "      <td>17671421</td>\n",
       "      <td>Homo sapiens</td>\n",
       "      <td>ncRNA-protein binding</td>\n",
       "      <td>binding</td>\n",
       "      <td>RNA-Protein</td>\n",
       "    </tr>\n",
       "    <tr>\n",
       "      <th>9</th>\n",
       "      <td>ncRI-3000010</td>\n",
       "      <td>60587</td>\n",
       "      <td>NONCODE</td>\n",
       "      <td>NONHSAG040596</td>\n",
       "      <td>7SK</td>\n",
       "      <td>135074</td>\n",
       "      <td>UniProt</td>\n",
       "      <td>O94992</td>\n",
       "      <td>HEXIM1</td>\n",
       "      <td>HEXIM1 suppresses transcription elongation via...</td>\n",
       "      <td>NaN</td>\n",
       "      <td>18407829</td>\n",
       "      <td>Homo sapiens</td>\n",
       "      <td>ncRNA-protein binding</td>\n",
       "      <td>binding</td>\n",
       "      <td>RNA-Protein</td>\n",
       "    </tr>\n",
       "    <tr>\n",
       "      <th>10</th>\n",
       "      <td>ncRI-3000011</td>\n",
       "      <td>60587</td>\n",
       "      <td>NONCODE</td>\n",
       "      <td>NONHSAG040596</td>\n",
       "      <td>7SK</td>\n",
       "      <td>135074</td>\n",
       "      <td>UniProt</td>\n",
       "      <td>O94992</td>\n",
       "      <td>HEXIM1</td>\n",
       "      <td>Homo sapiensT-lymphotropic virus type 1 Tax pr...</td>\n",
       "      <td>NaN</td>\n",
       "      <td>20926576</td>\n",
       "      <td>Homo sapiens</td>\n",
       "      <td>ncRNA-protein binding</td>\n",
       "      <td>binding</td>\n",
       "      <td>RNA-Protein</td>\n",
       "    </tr>\n",
       "    <tr>\n",
       "      <th>11</th>\n",
       "      <td>ncRI-3000012</td>\n",
       "      <td>60587</td>\n",
       "      <td>NONCODE</td>\n",
       "      <td>NONHSAG040596</td>\n",
       "      <td>7SK</td>\n",
       "      <td>135074</td>\n",
       "      <td>UniProt</td>\n",
       "      <td>O94992</td>\n",
       "      <td>HEXIM1</td>\n",
       "      <td>7SK RNA binding to a HEXIM1 multimer promotes ...</td>\n",
       "      <td>NaN</td>\n",
       "      <td>15994294</td>\n",
       "      <td>Homo sapiens</td>\n",
       "      <td>ncRNA-protein binding</td>\n",
       "      <td>binding</td>\n",
       "      <td>RNA-Protein</td>\n",
       "    </tr>\n",
       "    <tr>\n",
       "      <th>12</th>\n",
       "      <td>ncRI-3000013</td>\n",
       "      <td>60587</td>\n",
       "      <td>NONCODE</td>\n",
       "      <td>NONHSAG040596</td>\n",
       "      <td>7SK</td>\n",
       "      <td>135074</td>\n",
       "      <td>UniProt</td>\n",
       "      <td>O94992</td>\n",
       "      <td>HEXIM1</td>\n",
       "      <td>The activity of P-TEFb is negatively regulated...</td>\n",
       "      <td>NaN</td>\n",
       "      <td>22609015</td>\n",
       "      <td>Homo sapiens</td>\n",
       "      <td>ncRNA-protein binding</td>\n",
       "      <td>binding</td>\n",
       "      <td>RNA-Protein</td>\n",
       "    </tr>\n",
       "    <tr>\n",
       "      <th>13</th>\n",
       "      <td>ncRI-3000014</td>\n",
       "      <td>60587</td>\n",
       "      <td>NONCODE</td>\n",
       "      <td>NONHSAG040596</td>\n",
       "      <td>7SK</td>\n",
       "      <td>135074</td>\n",
       "      <td>UniProt</td>\n",
       "      <td>O94992</td>\n",
       "      <td>HEXIM1</td>\n",
       "      <td>HEXIM1 targets a repeated GAUC motif in the ri...</td>\n",
       "      <td>NaN</td>\n",
       "      <td>20675720</td>\n",
       "      <td>Homo sapiens</td>\n",
       "      <td>ncRNA-protein binding</td>\n",
       "      <td>binding</td>\n",
       "      <td>RNA-Protein</td>\n",
       "    </tr>\n",
       "    <tr>\n",
       "      <th>14</th>\n",
       "      <td>ncRI-3000015</td>\n",
       "      <td>60587</td>\n",
       "      <td>NONCODE</td>\n",
       "      <td>NONHSAG040596</td>\n",
       "      <td>7SK</td>\n",
       "      <td>135074</td>\n",
       "      <td>UniProt</td>\n",
       "      <td>O94992</td>\n",
       "      <td>HEXIM1</td>\n",
       "      <td>The Hexim1 binding site is located in the 24-8...</td>\n",
       "      <td>NaN</td>\n",
       "      <td>19244621</td>\n",
       "      <td>Homo sapiens</td>\n",
       "      <td>ncRNA-protein binding</td>\n",
       "      <td>binding</td>\n",
       "      <td>RNA-Protein</td>\n",
       "    </tr>\n",
       "    <tr>\n",
       "      <th>15</th>\n",
       "      <td>ncRI-3000016</td>\n",
       "      <td>60587</td>\n",
       "      <td>NONCODE</td>\n",
       "      <td>NONHSAG040596</td>\n",
       "      <td>7SK</td>\n",
       "      <td>135074</td>\n",
       "      <td>UniProt</td>\n",
       "      <td>O94992</td>\n",
       "      <td>HEXIM1</td>\n",
       "      <td>Dissociation of 7SK and HEXIM1 from P-TEFb pro...</td>\n",
       "      <td>NaN</td>\n",
       "      <td>19239885</td>\n",
       "      <td>Homo sapiens</td>\n",
       "      <td>ncRNA-protein binding</td>\n",
       "      <td>binding</td>\n",
       "      <td>RNA-Protein</td>\n",
       "    </tr>\n",
       "    <tr>\n",
       "      <th>16</th>\n",
       "      <td>ncRI-3000017</td>\n",
       "      <td>60587</td>\n",
       "      <td>NONCODE</td>\n",
       "      <td>NONHSAG040596</td>\n",
       "      <td>7SK</td>\n",
       "      <td>135074</td>\n",
       "      <td>UniProt</td>\n",
       "      <td>O94992</td>\n",
       "      <td>HEXIM1</td>\n",
       "      <td>Although HEXIM1 binds tightly to 7SK RNA in vi...</td>\n",
       "      <td>NaN</td>\n",
       "      <td>20808803</td>\n",
       "      <td>Homo sapiens</td>\n",
       "      <td>ncRNA-protein binding</td>\n",
       "      <td>binding</td>\n",
       "      <td>RNA-Protein</td>\n",
       "    </tr>\n",
       "    <tr>\n",
       "      <th>17</th>\n",
       "      <td>ncRI-3000018</td>\n",
       "      <td>60587</td>\n",
       "      <td>NONCODE</td>\n",
       "      <td>NONHSAG040596</td>\n",
       "      <td>7SK</td>\n",
       "      <td>135245</td>\n",
       "      <td>UniProt</td>\n",
       "      <td>P20263</td>\n",
       "      <td>Oct1</td>\n",
       "      <td>PTF and Oct-1 enhance transcription from the 7...</td>\n",
       "      <td>NaN</td>\n",
       "      <td>1535687</td>\n",
       "      <td>Homo sapiens</td>\n",
       "      <td>ncRNA is regulated</td>\n",
       "      <td>regulatory</td>\n",
       "      <td>DNA-TF</td>\n",
       "    </tr>\n",
       "    <tr>\n",
       "      <th>18</th>\n",
       "      <td>ncRI-3000019</td>\n",
       "      <td>60587</td>\n",
       "      <td>NONCODE</td>\n",
       "      <td>NONHSAG040596</td>\n",
       "      <td>7SK</td>\n",
       "      <td>135220</td>\n",
       "      <td>UniProt</td>\n",
       "      <td>P17735</td>\n",
       "      <td>Tat</td>\n",
       "      <td>Tat efficiently replaces HEXIM1 on the 7SK snR...</td>\n",
       "      <td>NaN</td>\n",
       "      <td>20976203</td>\n",
       "      <td>Homo sapiens</td>\n",
       "      <td>ncRNA-protein binding</td>\n",
       "      <td>binding</td>\n",
       "      <td>RNA-Protein</td>\n",
       "    </tr>\n",
       "    <tr>\n",
       "      <th>19</th>\n",
       "      <td>ncRI-3000020</td>\n",
       "      <td>60587</td>\n",
       "      <td>NONCODE</td>\n",
       "      <td>NONHSAG040596</td>\n",
       "      <td>7SK</td>\n",
       "      <td>135220</td>\n",
       "      <td>UniProt</td>\n",
       "      <td>P17735</td>\n",
       "      <td>Tat</td>\n",
       "      <td>HIV-1 Tat assembles a multifunctional transcri...</td>\n",
       "      <td>NaN</td>\n",
       "      <td>20471949</td>\n",
       "      <td>Homo sapiens</td>\n",
       "      <td>ncRNA-protein binding</td>\n",
       "      <td>binding</td>\n",
       "      <td>RNA-Protein</td>\n",
       "    </tr>\n",
       "    <tr>\n",
       "      <th>20</th>\n",
       "      <td>ncRI-3000021</td>\n",
       "      <td>60587</td>\n",
       "      <td>NONCODE</td>\n",
       "      <td>NONHSAG040596</td>\n",
       "      <td>7SK</td>\n",
       "      <td>135454</td>\n",
       "      <td>UniProt</td>\n",
       "      <td>P50750</td>\n",
       "      <td>CDK9</td>\n",
       "      <td>Northern hybridization was performed to confir...</td>\n",
       "      <td>Northern Blot</td>\n",
       "      <td>11713532</td>\n",
       "      <td>Homo sapiens</td>\n",
       "      <td>ncRNA-protein binding</td>\n",
       "      <td>binding</td>\n",
       "      <td>RNA-Protein</td>\n",
       "    </tr>\n",
       "    <tr>\n",
       "      <th>21</th>\n",
       "      <td>ncRI-3000022</td>\n",
       "      <td>60587</td>\n",
       "      <td>NONCODE</td>\n",
       "      <td>NONHSAG040596</td>\n",
       "      <td>7SK</td>\n",
       "      <td>135454</td>\n",
       "      <td>UniProt</td>\n",
       "      <td>P50750</td>\n",
       "      <td>CDK9</td>\n",
       "      <td>Stable expression of cdNIPP1 increased CDK9 ph...</td>\n",
       "      <td>NaN</td>\n",
       "      <td>21098020</td>\n",
       "      <td>Homo sapiens</td>\n",
       "      <td>regulatory</td>\n",
       "      <td>regulatory</td>\n",
       "      <td>RNA-Protein</td>\n",
       "    </tr>\n",
       "    <tr>\n",
       "      <th>22</th>\n",
       "      <td>ncRI-3000023</td>\n",
       "      <td>60587</td>\n",
       "      <td>NONCODE</td>\n",
       "      <td>NONHSAG040596</td>\n",
       "      <td>7SK</td>\n",
       "      <td>135519</td>\n",
       "      <td>UniProt</td>\n",
       "      <td>P62136</td>\n",
       "      <td>PP1a</td>\n",
       "      <td>PP2B and PP1alpha cooperatively disrupt 7SK sn...</td>\n",
       "      <td>NaN</td>\n",
       "      <td>18483222</td>\n",
       "      <td>Homo sapiens</td>\n",
       "      <td>regulatory</td>\n",
       "      <td>regulatory</td>\n",
       "      <td>RNA-Protein</td>\n",
       "    </tr>\n",
       "    <tr>\n",
       "      <th>23</th>\n",
       "      <td>ncRI-3000024</td>\n",
       "      <td>60587</td>\n",
       "      <td>NONCODE</td>\n",
       "      <td>NONHSAG040596</td>\n",
       "      <td>7SK</td>\n",
       "      <td>135521</td>\n",
       "      <td>UniProt</td>\n",
       "      <td>P62140</td>\n",
       "      <td>PP2B</td>\n",
       "      <td>PP2B and PP1alpha cooperatively disrupt 7SK sn...</td>\n",
       "      <td>NaN</td>\n",
       "      <td>18483222</td>\n",
       "      <td>Homo sapiens</td>\n",
       "      <td>regulatory</td>\n",
       "      <td>regulatory</td>\n",
       "      <td>RNA-Protein</td>\n",
       "    </tr>\n",
       "    <tr>\n",
       "      <th>24</th>\n",
       "      <td>ncRI-3000025</td>\n",
       "      <td>60587</td>\n",
       "      <td>NONCODE</td>\n",
       "      <td>NONHSAG040596</td>\n",
       "      <td>7SK</td>\n",
       "      <td>135806</td>\n",
       "      <td>UniProt</td>\n",
       "      <td>Q4G0J3</td>\n",
       "      <td>hLARP7</td>\n",
       "      <td>7SK snRNP assembly by hLARP7/PIP7S</td>\n",
       "      <td>NaN</td>\n",
       "      <td>20138158</td>\n",
       "      <td>Homo sapiens</td>\n",
       "      <td>ncRNA-protein binding</td>\n",
       "      <td>binding</td>\n",
       "      <td>RNA-Protein</td>\n",
       "    </tr>\n",
       "    <tr>\n",
       "      <th>25</th>\n",
       "      <td>ncRI-3000026</td>\n",
       "      <td>60587</td>\n",
       "      <td>NONCODE</td>\n",
       "      <td>NONHSAG040596</td>\n",
       "      <td>7SK</td>\n",
       "      <td>135809</td>\n",
       "      <td>UniProt</td>\n",
       "      <td>Q4G0J3</td>\n",
       "      <td>P-TEFb</td>\n",
       "      <td>Dissociation of 7SK and HEXIM1 from P-TEFb pro...</td>\n",
       "      <td>NaN</td>\n",
       "      <td>19239885</td>\n",
       "      <td>Homo sapiens</td>\n",
       "      <td>regulatory</td>\n",
       "      <td>regulatory</td>\n",
       "      <td>RNA-Protein</td>\n",
       "    </tr>\n",
       "    <tr>\n",
       "      <th>26</th>\n",
       "      <td>ncRI-3000027</td>\n",
       "      <td>60587</td>\n",
       "      <td>NONCODE</td>\n",
       "      <td>NONHSAG040596</td>\n",
       "      <td>7SK</td>\n",
       "      <td>135809</td>\n",
       "      <td>UniProt</td>\n",
       "      <td>Q4G0J3</td>\n",
       "      <td>P-TEFb</td>\n",
       "      <td>We provide evidence for 7SK RNA complexes cont...</td>\n",
       "      <td>NaN</td>\n",
       "      <td>21957495</td>\n",
       "      <td>Homo sapiens</td>\n",
       "      <td>ncRNA-protein binding</td>\n",
       "      <td>binding</td>\n",
       "      <td>RNA-Protein</td>\n",
       "    </tr>\n",
       "    <tr>\n",
       "      <th>27</th>\n",
       "      <td>ncRI-3000028</td>\n",
       "      <td>60587</td>\n",
       "      <td>NONCODE</td>\n",
       "      <td>NONHSAG040596</td>\n",
       "      <td>7SK</td>\n",
       "      <td>135809</td>\n",
       "      <td>UniProt</td>\n",
       "      <td>Q4G0J3</td>\n",
       "      <td>P-TEFb</td>\n",
       "      <td>Together with the HEXIM proteins, 7SK RNA asso...</td>\n",
       "      <td>NaN</td>\n",
       "      <td>22377309</td>\n",
       "      <td>Homo sapiens</td>\n",
       "      <td>ncRNA-protein binding</td>\n",
       "      <td>binding</td>\n",
       "      <td>RNA-Protein</td>\n",
       "    </tr>\n",
       "    <tr>\n",
       "      <th>28</th>\n",
       "      <td>ncRI-3000029</td>\n",
       "      <td>60587</td>\n",
       "      <td>NONCODE</td>\n",
       "      <td>NONHSAG040596</td>\n",
       "      <td>7SK</td>\n",
       "      <td>135808</td>\n",
       "      <td>UniProt</td>\n",
       "      <td>Q4G0J3</td>\n",
       "      <td>PIP7S</td>\n",
       "      <td>7SK snRNP assembly by hLARP7/PIP7S</td>\n",
       "      <td>NaN</td>\n",
       "      <td>20138158</td>\n",
       "      <td>Homo sapiens</td>\n",
       "      <td>ncRNA-protein binding</td>\n",
       "      <td>binding</td>\n",
       "      <td>RNA-Protein</td>\n",
       "    </tr>\n",
       "    <tr>\n",
       "      <th>29</th>\n",
       "      <td>ncRI-3000030</td>\n",
       "      <td>60587</td>\n",
       "      <td>NONCODE</td>\n",
       "      <td>NONHSAG040596</td>\n",
       "      <td>7SK</td>\n",
       "      <td>135809</td>\n",
       "      <td>UniProt</td>\n",
       "      <td>Q4G0J3</td>\n",
       "      <td>P-TEFb</td>\n",
       "      <td>TCR signaling led to the rapid dissociation of...</td>\n",
       "      <td>NaN</td>\n",
       "      <td>21763495</td>\n",
       "      <td>Homo sapiens</td>\n",
       "      <td>ncRNA-protein binding</td>\n",
       "      <td>binding</td>\n",
       "      <td>RNA-Protein</td>\n",
       "    </tr>\n",
       "    <tr>\n",
       "      <th>...</th>\n",
       "      <td>...</td>\n",
       "      <td>...</td>\n",
       "      <td>...</td>\n",
       "      <td>...</td>\n",
       "      <td>...</td>\n",
       "      <td>...</td>\n",
       "      <td>...</td>\n",
       "      <td>...</td>\n",
       "      <td>...</td>\n",
       "      <td>...</td>\n",
       "      <td>...</td>\n",
       "      <td>...</td>\n",
       "      <td>...</td>\n",
       "      <td>...</td>\n",
       "      <td>...</td>\n",
       "      <td>...</td>\n",
       "    </tr>\n",
       "    <tr>\n",
       "      <th>491386</th>\n",
       "      <td>ncRI-3491387</td>\n",
       "      <td>101504</td>\n",
       "      <td>NONCODE</td>\n",
       "      <td>NONMMUG020604</td>\n",
       "      <td>Kdm2a</td>\n",
       "      <td>1953</td>\n",
       "      <td>miRBase</td>\n",
       "      <td>MI0000583</td>\n",
       "      <td>mmu-miR-96-5p</td>\n",
       "      <td>interactions between ncRNAs and miRNAs</td>\n",
       "      <td>Conserved miRNAs target sites predicted by Tar...</td>\n",
       "      <td>NaN</td>\n",
       "      <td>Mus musculus</td>\n",
       "      <td>miRNA;miRNA target interaction;regulatory</td>\n",
       "      <td>binding;regulatory</td>\n",
       "      <td>RNA-RNA</td>\n",
       "    </tr>\n",
       "    <tr>\n",
       "      <th>491387</th>\n",
       "      <td>ncRI-3491388</td>\n",
       "      <td>101607</td>\n",
       "      <td>NONCODE</td>\n",
       "      <td>NONMMUG020673</td>\n",
       "      <td>Neat1</td>\n",
       "      <td>1953</td>\n",
       "      <td>miRBase</td>\n",
       "      <td>MI0000583</td>\n",
       "      <td>mmu-miR-96-5p</td>\n",
       "      <td>interactions between ncRNAs and miRNAs</td>\n",
       "      <td>Conserved miRNAs target sites predicted by Tar...</td>\n",
       "      <td>NaN</td>\n",
       "      <td>Mus musculus</td>\n",
       "      <td>miRNA;miRNA target interaction;regulatory</td>\n",
       "      <td>binding;regulatory</td>\n",
       "      <td>RNA-RNA</td>\n",
       "    </tr>\n",
       "    <tr>\n",
       "      <th>491388</th>\n",
       "      <td>ncRI-3491389</td>\n",
       "      <td>103917</td>\n",
       "      <td>NONCODE</td>\n",
       "      <td>NONMMUG022800</td>\n",
       "      <td>Gm16523</td>\n",
       "      <td>1953</td>\n",
       "      <td>miRBase</td>\n",
       "      <td>MI0000583</td>\n",
       "      <td>mmu-miR-96-5p</td>\n",
       "      <td>interactions between ncRNAs and miRNAs</td>\n",
       "      <td>Conserved miRNAs target sites predicted by Tar...</td>\n",
       "      <td>NaN</td>\n",
       "      <td>Mus musculus</td>\n",
       "      <td>miRNA;miRNA target interaction;regulatory</td>\n",
       "      <td>binding;regulatory</td>\n",
       "      <td>RNA-RNA</td>\n",
       "    </tr>\n",
       "    <tr>\n",
       "      <th>491389</th>\n",
       "      <td>ncRI-3491390</td>\n",
       "      <td>110142</td>\n",
       "      <td>NONCODE</td>\n",
       "      <td>NONMMUG028981</td>\n",
       "      <td>Gm12407</td>\n",
       "      <td>1953</td>\n",
       "      <td>miRBase</td>\n",
       "      <td>MI0000583</td>\n",
       "      <td>mmu-miR-96-5p</td>\n",
       "      <td>interactions between ncRNAs and miRNAs</td>\n",
       "      <td>Conserved miRNAs target sites predicted by Tar...</td>\n",
       "      <td>NaN</td>\n",
       "      <td>Mus musculus</td>\n",
       "      <td>miRNA;miRNA target interaction;regulatory</td>\n",
       "      <td>binding;regulatory</td>\n",
       "      <td>RNA-RNA</td>\n",
       "    </tr>\n",
       "    <tr>\n",
       "      <th>491390</th>\n",
       "      <td>ncRI-3491391</td>\n",
       "      <td>111446</td>\n",
       "      <td>NONCODE</td>\n",
       "      <td>NONMMUG030368</td>\n",
       "      <td>Ptch2</td>\n",
       "      <td>1953</td>\n",
       "      <td>miRBase</td>\n",
       "      <td>MI0000583</td>\n",
       "      <td>mmu-miR-96-5p</td>\n",
       "      <td>interactions between ncRNAs and miRNAs</td>\n",
       "      <td>Conserved miRNAs target sites predicted by Tar...</td>\n",
       "      <td>NaN</td>\n",
       "      <td>Mus musculus</td>\n",
       "      <td>miRNA;miRNA target interaction;regulatory</td>\n",
       "      <td>binding;regulatory</td>\n",
       "      <td>RNA-RNA</td>\n",
       "    </tr>\n",
       "    <tr>\n",
       "      <th>491391</th>\n",
       "      <td>ncRI-3491392</td>\n",
       "      <td>111942</td>\n",
       "      <td>NONCODE</td>\n",
       "      <td>NONMMUG030824</td>\n",
       "      <td>NONMMUG030824</td>\n",
       "      <td>1953</td>\n",
       "      <td>miRBase</td>\n",
       "      <td>MI0000583</td>\n",
       "      <td>mmu-miR-96-5p</td>\n",
       "      <td>interactions between ncRNAs and miRNAs</td>\n",
       "      <td>Conserved miRNAs target sites predicted by Tar...</td>\n",
       "      <td>NaN</td>\n",
       "      <td>Mus musculus</td>\n",
       "      <td>miRNA;miRNA target interaction;regulatory</td>\n",
       "      <td>binding;regulatory</td>\n",
       "      <td>RNA-RNA</td>\n",
       "    </tr>\n",
       "    <tr>\n",
       "      <th>491392</th>\n",
       "      <td>ncRI-3491393</td>\n",
       "      <td>113301</td>\n",
       "      <td>NONCODE</td>\n",
       "      <td>NONMMUG032078</td>\n",
       "      <td>Gm9899</td>\n",
       "      <td>1953</td>\n",
       "      <td>miRBase</td>\n",
       "      <td>MI0000583</td>\n",
       "      <td>mmu-miR-96-5p</td>\n",
       "      <td>interactions between ncRNAs and miRNAs</td>\n",
       "      <td>Conserved miRNAs target sites predicted by Tar...</td>\n",
       "      <td>NaN</td>\n",
       "      <td>Mus musculus</td>\n",
       "      <td>miRNA;miRNA target interaction;regulatory</td>\n",
       "      <td>binding;regulatory</td>\n",
       "      <td>RNA-RNA</td>\n",
       "    </tr>\n",
       "    <tr>\n",
       "      <th>491393</th>\n",
       "      <td>ncRI-3491394</td>\n",
       "      <td>118530</td>\n",
       "      <td>NONCODE</td>\n",
       "      <td>NONMMUG037052</td>\n",
       "      <td>Gm15781</td>\n",
       "      <td>1953</td>\n",
       "      <td>miRBase</td>\n",
       "      <td>MI0000583</td>\n",
       "      <td>mmu-miR-96-5p</td>\n",
       "      <td>interactions between ncRNAs and miRNAs</td>\n",
       "      <td>Conserved miRNAs target sites predicted by Tar...</td>\n",
       "      <td>NaN</td>\n",
       "      <td>Mus musculus</td>\n",
       "      <td>miRNA;miRNA target interaction;regulatory</td>\n",
       "      <td>binding;regulatory</td>\n",
       "      <td>RNA-RNA</td>\n",
       "    </tr>\n",
       "    <tr>\n",
       "      <th>491394</th>\n",
       "      <td>ncRI-3491395</td>\n",
       "      <td>119615</td>\n",
       "      <td>NONCODE</td>\n",
       "      <td>NONMMUG038174</td>\n",
       "      <td>NONMMUG038174</td>\n",
       "      <td>1953</td>\n",
       "      <td>miRBase</td>\n",
       "      <td>MI0000583</td>\n",
       "      <td>mmu-miR-96-5p</td>\n",
       "      <td>interactions between ncRNAs and miRNAs</td>\n",
       "      <td>Conserved miRNAs target sites predicted by Tar...</td>\n",
       "      <td>NaN</td>\n",
       "      <td>Mus musculus</td>\n",
       "      <td>miRNA;miRNA target interaction;regulatory</td>\n",
       "      <td>binding;regulatory</td>\n",
       "      <td>RNA-RNA</td>\n",
       "    </tr>\n",
       "    <tr>\n",
       "      <th>491395</th>\n",
       "      <td>ncRI-3491396</td>\n",
       "      <td>120065</td>\n",
       "      <td>NONCODE</td>\n",
       "      <td>NONMMUG038646</td>\n",
       "      <td>NONMMUG038646</td>\n",
       "      <td>1953</td>\n",
       "      <td>miRBase</td>\n",
       "      <td>MI0000583</td>\n",
       "      <td>mmu-miR-96-5p</td>\n",
       "      <td>interactions between ncRNAs and miRNAs</td>\n",
       "      <td>Conserved miRNAs target sites predicted by Tar...</td>\n",
       "      <td>NaN</td>\n",
       "      <td>Mus musculus</td>\n",
       "      <td>miRNA;miRNA target interaction;regulatory</td>\n",
       "      <td>binding;regulatory</td>\n",
       "      <td>RNA-RNA</td>\n",
       "    </tr>\n",
       "    <tr>\n",
       "      <th>491396</th>\n",
       "      <td>ncRI-3491397</td>\n",
       "      <td>122709</td>\n",
       "      <td>NONCODE</td>\n",
       "      <td>NONMMUG041139</td>\n",
       "      <td>NONMMUG041139</td>\n",
       "      <td>1953</td>\n",
       "      <td>miRBase</td>\n",
       "      <td>MI0000583</td>\n",
       "      <td>mmu-miR-96-5p</td>\n",
       "      <td>interactions between ncRNAs and miRNAs</td>\n",
       "      <td>Conserved miRNAs target sites predicted by Tar...</td>\n",
       "      <td>NaN</td>\n",
       "      <td>Mus musculus</td>\n",
       "      <td>miRNA;miRNA target interaction;regulatory</td>\n",
       "      <td>binding;regulatory</td>\n",
       "      <td>RNA-RNA</td>\n",
       "    </tr>\n",
       "    <tr>\n",
       "      <th>491397</th>\n",
       "      <td>ncRI-3491398</td>\n",
       "      <td>125706</td>\n",
       "      <td>NONCODE</td>\n",
       "      <td>NONMMUG043967</td>\n",
       "      <td>NONMMUG043967</td>\n",
       "      <td>1953</td>\n",
       "      <td>miRBase</td>\n",
       "      <td>MI0000583</td>\n",
       "      <td>mmu-miR-96-5p</td>\n",
       "      <td>interactions between ncRNAs and miRNAs</td>\n",
       "      <td>Conserved miRNAs target sites predicted by Tar...</td>\n",
       "      <td>NaN</td>\n",
       "      <td>Mus musculus</td>\n",
       "      <td>miRNA;miRNA target interaction;regulatory</td>\n",
       "      <td>binding;regulatory</td>\n",
       "      <td>RNA-RNA</td>\n",
       "    </tr>\n",
       "    <tr>\n",
       "      <th>491398</th>\n",
       "      <td>ncRI-3491399</td>\n",
       "      <td>125737</td>\n",
       "      <td>NONCODE</td>\n",
       "      <td>NONMMUG043999</td>\n",
       "      <td>NONMMUG043999</td>\n",
       "      <td>1953</td>\n",
       "      <td>miRBase</td>\n",
       "      <td>MI0000583</td>\n",
       "      <td>mmu-miR-96-5p</td>\n",
       "      <td>interactions between ncRNAs and miRNAs</td>\n",
       "      <td>Conserved miRNAs target sites predicted by Tar...</td>\n",
       "      <td>NaN</td>\n",
       "      <td>Mus musculus</td>\n",
       "      <td>miRNA;miRNA target interaction;regulatory</td>\n",
       "      <td>binding;regulatory</td>\n",
       "      <td>RNA-RNA</td>\n",
       "    </tr>\n",
       "    <tr>\n",
       "      <th>491399</th>\n",
       "      <td>ncRI-3491400</td>\n",
       "      <td>126087</td>\n",
       "      <td>NONCODE</td>\n",
       "      <td>NONMMUG044358</td>\n",
       "      <td>NONMMUG044358</td>\n",
       "      <td>1953</td>\n",
       "      <td>miRBase</td>\n",
       "      <td>MI0000583</td>\n",
       "      <td>mmu-miR-96-5p</td>\n",
       "      <td>interactions between ncRNAs and miRNAs</td>\n",
       "      <td>Conserved miRNAs target sites predicted by Tar...</td>\n",
       "      <td>NaN</td>\n",
       "      <td>Mus musculus</td>\n",
       "      <td>miRNA;miRNA target interaction;regulatory</td>\n",
       "      <td>binding;regulatory</td>\n",
       "      <td>RNA-RNA</td>\n",
       "    </tr>\n",
       "    <tr>\n",
       "      <th>491400</th>\n",
       "      <td>ncRI-3491401</td>\n",
       "      <td>97313</td>\n",
       "      <td>NONCODE</td>\n",
       "      <td>NONMMUG016631</td>\n",
       "      <td>NONMMUG016631</td>\n",
       "      <td>1956</td>\n",
       "      <td>miRBase</td>\n",
       "      <td>MI0000586</td>\n",
       "      <td>mmu-miR-98-5p</td>\n",
       "      <td>interactions between ncRNAs and miRNAs</td>\n",
       "      <td>Conserved miRNAs target sites predicted by Tar...</td>\n",
       "      <td>NaN</td>\n",
       "      <td>Mus musculus</td>\n",
       "      <td>miRNA;miRNA target interaction;regulatory</td>\n",
       "      <td>binding;regulatory</td>\n",
       "      <td>RNA-RNA</td>\n",
       "    </tr>\n",
       "    <tr>\n",
       "      <th>491401</th>\n",
       "      <td>ncRI-3491402</td>\n",
       "      <td>101601</td>\n",
       "      <td>NONCODE</td>\n",
       "      <td>NONMMUG020672</td>\n",
       "      <td>Gm20417</td>\n",
       "      <td>1956</td>\n",
       "      <td>miRBase</td>\n",
       "      <td>MI0000586</td>\n",
       "      <td>mmu-miR-98-5p</td>\n",
       "      <td>interactions between ncRNAs and miRNAs</td>\n",
       "      <td>Conserved miRNAs target sites predicted by Tar...</td>\n",
       "      <td>NaN</td>\n",
       "      <td>Mus musculus</td>\n",
       "      <td>miRNA;miRNA target interaction;regulatory</td>\n",
       "      <td>binding;regulatory</td>\n",
       "      <td>RNA-RNA</td>\n",
       "    </tr>\n",
       "    <tr>\n",
       "      <th>491402</th>\n",
       "      <td>ncRI-3491403</td>\n",
       "      <td>103551</td>\n",
       "      <td>NONCODE</td>\n",
       "      <td>NONMMUG022497</td>\n",
       "      <td>Tbc1d13</td>\n",
       "      <td>1956</td>\n",
       "      <td>miRBase</td>\n",
       "      <td>MI0000586</td>\n",
       "      <td>mmu-miR-98-5p</td>\n",
       "      <td>interactions between ncRNAs and miRNAs</td>\n",
       "      <td>Conserved miRNAs target sites predicted by Tar...</td>\n",
       "      <td>NaN</td>\n",
       "      <td>Mus musculus</td>\n",
       "      <td>miRNA;miRNA target interaction;regulatory</td>\n",
       "      <td>binding;regulatory</td>\n",
       "      <td>RNA-RNA</td>\n",
       "    </tr>\n",
       "    <tr>\n",
       "      <th>491403</th>\n",
       "      <td>ncRI-3491404</td>\n",
       "      <td>103688</td>\n",
       "      <td>NONCODE</td>\n",
       "      <td>NONMMUG022612</td>\n",
       "      <td>NONMMUG022612</td>\n",
       "      <td>1956</td>\n",
       "      <td>miRBase</td>\n",
       "      <td>MI0000586</td>\n",
       "      <td>mmu-miR-98-5p</td>\n",
       "      <td>interactions between ncRNAs and miRNAs</td>\n",
       "      <td>Conserved miRNAs target sites predicted by Tar...</td>\n",
       "      <td>NaN</td>\n",
       "      <td>Mus musculus</td>\n",
       "      <td>miRNA;miRNA target interaction;regulatory</td>\n",
       "      <td>binding;regulatory</td>\n",
       "      <td>RNA-RNA</td>\n",
       "    </tr>\n",
       "    <tr>\n",
       "      <th>491404</th>\n",
       "      <td>ncRI-3491405</td>\n",
       "      <td>106745</td>\n",
       "      <td>NONCODE</td>\n",
       "      <td>NONMMUG025556</td>\n",
       "      <td>NONMMUG025556</td>\n",
       "      <td>1956</td>\n",
       "      <td>miRBase</td>\n",
       "      <td>MI0000586</td>\n",
       "      <td>mmu-miR-98-5p</td>\n",
       "      <td>interactions between ncRNAs and miRNAs</td>\n",
       "      <td>Conserved miRNAs target sites predicted by Tar...</td>\n",
       "      <td>NaN</td>\n",
       "      <td>Mus musculus</td>\n",
       "      <td>miRNA;miRNA target interaction;regulatory</td>\n",
       "      <td>binding;regulatory</td>\n",
       "      <td>RNA-RNA</td>\n",
       "    </tr>\n",
       "    <tr>\n",
       "      <th>491405</th>\n",
       "      <td>ncRI-3491406</td>\n",
       "      <td>111988</td>\n",
       "      <td>NONCODE</td>\n",
       "      <td>NONMMUG030864</td>\n",
       "      <td>Trnau1ap</td>\n",
       "      <td>1956</td>\n",
       "      <td>miRBase</td>\n",
       "      <td>MI0000586</td>\n",
       "      <td>mmu-miR-98-5p</td>\n",
       "      <td>interactions between ncRNAs and miRNAs</td>\n",
       "      <td>Conserved miRNAs target sites predicted by Tar...</td>\n",
       "      <td>NaN</td>\n",
       "      <td>Mus musculus</td>\n",
       "      <td>miRNA;miRNA target interaction;regulatory</td>\n",
       "      <td>binding;regulatory</td>\n",
       "      <td>RNA-RNA</td>\n",
       "    </tr>\n",
       "    <tr>\n",
       "      <th>491406</th>\n",
       "      <td>ncRI-3491407</td>\n",
       "      <td>119704</td>\n",
       "      <td>NONCODE</td>\n",
       "      <td>NONMMUG038253</td>\n",
       "      <td>NONMMUG038253</td>\n",
       "      <td>1956</td>\n",
       "      <td>miRBase</td>\n",
       "      <td>MI0000586</td>\n",
       "      <td>mmu-miR-98-5p</td>\n",
       "      <td>interactions between ncRNAs and miRNAs</td>\n",
       "      <td>Conserved miRNAs target sites predicted by Tar...</td>\n",
       "      <td>NaN</td>\n",
       "      <td>Mus musculus</td>\n",
       "      <td>miRNA;miRNA target interaction;regulatory</td>\n",
       "      <td>binding;regulatory</td>\n",
       "      <td>RNA-RNA</td>\n",
       "    </tr>\n",
       "    <tr>\n",
       "      <th>491407</th>\n",
       "      <td>ncRI-3491408</td>\n",
       "      <td>93440</td>\n",
       "      <td>NONCODE</td>\n",
       "      <td>NONMMUG013006</td>\n",
       "      <td>NONMMUG013006</td>\n",
       "      <td>1781</td>\n",
       "      <td>miRBase</td>\n",
       "      <td>MI0000146</td>\n",
       "      <td>mmu-miR-99a-5p</td>\n",
       "      <td>interactions between ncRNAs and miRNAs</td>\n",
       "      <td>Conserved miRNAs target sites predicted by Tar...</td>\n",
       "      <td>NaN</td>\n",
       "      <td>Mus musculus</td>\n",
       "      <td>miRNA;miRNA target interaction;regulatory</td>\n",
       "      <td>binding;regulatory</td>\n",
       "      <td>RNA-RNA</td>\n",
       "    </tr>\n",
       "    <tr>\n",
       "      <th>491408</th>\n",
       "      <td>ncRI-3491409</td>\n",
       "      <td>98535</td>\n",
       "      <td>NONCODE</td>\n",
       "      <td>NONMMUG017778</td>\n",
       "      <td>NONMMUG017778</td>\n",
       "      <td>1781</td>\n",
       "      <td>miRBase</td>\n",
       "      <td>MI0000146</td>\n",
       "      <td>mmu-miR-99a-5p</td>\n",
       "      <td>interactions between ncRNAs and miRNAs</td>\n",
       "      <td>Conserved miRNAs target sites predicted by Tar...</td>\n",
       "      <td>NaN</td>\n",
       "      <td>Mus musculus</td>\n",
       "      <td>miRNA;miRNA target interaction;regulatory</td>\n",
       "      <td>binding;regulatory</td>\n",
       "      <td>RNA-RNA</td>\n",
       "    </tr>\n",
       "    <tr>\n",
       "      <th>491409</th>\n",
       "      <td>ncRI-3491410</td>\n",
       "      <td>99663</td>\n",
       "      <td>NONCODE</td>\n",
       "      <td>NONMMUG018874</td>\n",
       "      <td>NONMMUG018874</td>\n",
       "      <td>1781</td>\n",
       "      <td>miRBase</td>\n",
       "      <td>MI0000146</td>\n",
       "      <td>mmu-miR-99a-5p</td>\n",
       "      <td>interactions between ncRNAs and miRNAs</td>\n",
       "      <td>Conserved miRNAs target sites predicted by Tar...</td>\n",
       "      <td>NaN</td>\n",
       "      <td>Mus musculus</td>\n",
       "      <td>miRNA;miRNA target interaction;regulatory</td>\n",
       "      <td>binding;regulatory</td>\n",
       "      <td>RNA-RNA</td>\n",
       "    </tr>\n",
       "    <tr>\n",
       "      <th>491410</th>\n",
       "      <td>ncRI-3491411</td>\n",
       "      <td>115297</td>\n",
       "      <td>NONCODE</td>\n",
       "      <td>NONMMUG033973</td>\n",
       "      <td>NONMMUG033973</td>\n",
       "      <td>1781</td>\n",
       "      <td>miRBase</td>\n",
       "      <td>MI0000146</td>\n",
       "      <td>mmu-miR-99a-5p</td>\n",
       "      <td>interactions between ncRNAs and miRNAs</td>\n",
       "      <td>Conserved miRNAs target sites predicted by Tar...</td>\n",
       "      <td>NaN</td>\n",
       "      <td>Mus musculus</td>\n",
       "      <td>miRNA;miRNA target interaction;regulatory</td>\n",
       "      <td>binding;regulatory</td>\n",
       "      <td>RNA-RNA</td>\n",
       "    </tr>\n",
       "    <tr>\n",
       "      <th>491411</th>\n",
       "      <td>ncRI-3491412</td>\n",
       "      <td>93440</td>\n",
       "      <td>NONCODE</td>\n",
       "      <td>NONMMUG013006</td>\n",
       "      <td>NONMMUG013006</td>\n",
       "      <td>1782</td>\n",
       "      <td>miRBase</td>\n",
       "      <td>MI0000147</td>\n",
       "      <td>mmu-miR-99b-5p</td>\n",
       "      <td>interactions between ncRNAs and miRNAs</td>\n",
       "      <td>Conserved miRNAs target sites predicted by Tar...</td>\n",
       "      <td>NaN</td>\n",
       "      <td>Mus musculus</td>\n",
       "      <td>miRNA;miRNA target interaction;regulatory</td>\n",
       "      <td>binding;regulatory</td>\n",
       "      <td>RNA-RNA</td>\n",
       "    </tr>\n",
       "    <tr>\n",
       "      <th>491412</th>\n",
       "      <td>ncRI-3491413</td>\n",
       "      <td>98535</td>\n",
       "      <td>NONCODE</td>\n",
       "      <td>NONMMUG017778</td>\n",
       "      <td>NONMMUG017778</td>\n",
       "      <td>1782</td>\n",
       "      <td>miRBase</td>\n",
       "      <td>MI0000147</td>\n",
       "      <td>mmu-miR-99b-5p</td>\n",
       "      <td>interactions between ncRNAs and miRNAs</td>\n",
       "      <td>Conserved miRNAs target sites predicted by Tar...</td>\n",
       "      <td>NaN</td>\n",
       "      <td>Mus musculus</td>\n",
       "      <td>miRNA;miRNA target interaction;regulatory</td>\n",
       "      <td>binding;regulatory</td>\n",
       "      <td>RNA-RNA</td>\n",
       "    </tr>\n",
       "    <tr>\n",
       "      <th>491413</th>\n",
       "      <td>ncRI-3491414</td>\n",
       "      <td>99663</td>\n",
       "      <td>NONCODE</td>\n",
       "      <td>NONMMUG018874</td>\n",
       "      <td>NONMMUG018874</td>\n",
       "      <td>1782</td>\n",
       "      <td>miRBase</td>\n",
       "      <td>MI0000147</td>\n",
       "      <td>mmu-miR-99b-5p</td>\n",
       "      <td>interactions between ncRNAs and miRNAs</td>\n",
       "      <td>Conserved miRNAs target sites predicted by Tar...</td>\n",
       "      <td>NaN</td>\n",
       "      <td>Mus musculus</td>\n",
       "      <td>miRNA;miRNA target interaction;regulatory</td>\n",
       "      <td>binding;regulatory</td>\n",
       "      <td>RNA-RNA</td>\n",
       "    </tr>\n",
       "    <tr>\n",
       "      <th>491414</th>\n",
       "      <td>ncRI-3491415</td>\n",
       "      <td>101607</td>\n",
       "      <td>NONCODE</td>\n",
       "      <td>NONMMUG020673</td>\n",
       "      <td>Neat1</td>\n",
       "      <td>1782</td>\n",
       "      <td>miRBase</td>\n",
       "      <td>MI0000147</td>\n",
       "      <td>mmu-miR-99b-5p</td>\n",
       "      <td>interactions between ncRNAs and miRNAs</td>\n",
       "      <td>Conserved miRNAs target sites predicted by Tar...</td>\n",
       "      <td>NaN</td>\n",
       "      <td>Mus musculus</td>\n",
       "      <td>miRNA;miRNA target interaction;regulatory</td>\n",
       "      <td>binding;regulatory</td>\n",
       "      <td>RNA-RNA</td>\n",
       "    </tr>\n",
       "    <tr>\n",
       "      <th>491415</th>\n",
       "      <td>ncRI-3491416</td>\n",
       "      <td>115297</td>\n",
       "      <td>NONCODE</td>\n",
       "      <td>NONMMUG033973</td>\n",
       "      <td>NONMMUG033973</td>\n",
       "      <td>1782</td>\n",
       "      <td>miRBase</td>\n",
       "      <td>MI0000147</td>\n",
       "      <td>mmu-miR-99b-5p</td>\n",
       "      <td>interactions between ncRNAs and miRNAs</td>\n",
       "      <td>Conserved miRNAs target sites predicted by Tar...</td>\n",
       "      <td>NaN</td>\n",
       "      <td>Mus musculus</td>\n",
       "      <td>miRNA;miRNA target interaction;regulatory</td>\n",
       "      <td>binding;regulatory</td>\n",
       "      <td>RNA-RNA</td>\n",
       "    </tr>\n",
       "  </tbody>\n",
       "</table>\n",
       "<p>491416 rows × 16 columns</p>\n",
       "</div>"
      ],
      "text/plain": [
       "             interID    ncID   ncType        ncIdentifier         ncName  \\\n",
       "0       ncRI-3000001  127667  NONCODE  NONOTHNOBEDT000074           4.5S   \n",
       "1       ncRI-3000002  127667  NONCODE  NONOTHNOBEDT000074           4.5S   \n",
       "2       ncRI-3000003  127670  NONCODE  NONOTHNOBEDT000078             6S   \n",
       "3       ncRI-3000004  127670  NONCODE  NONOTHNOBEDT000078             6S   \n",
       "4       ncRI-3000005  127670  NONCODE  NONOTHNOBEDT000078             6S   \n",
       "5       ncRI-3000006   60587  NONCODE       NONHSAG040596            7SK   \n",
       "6       ncRI-3000007   60587  NONCODE       NONHSAG040596            7SK   \n",
       "7       ncRI-3000008   60587  NONCODE       NONHSAG040596            7SK   \n",
       "8       ncRI-3000009   60587  NONCODE       NONHSAG040596            7SK   \n",
       "9       ncRI-3000010   60587  NONCODE       NONHSAG040596            7SK   \n",
       "10      ncRI-3000011   60587  NONCODE       NONHSAG040596            7SK   \n",
       "11      ncRI-3000012   60587  NONCODE       NONHSAG040596            7SK   \n",
       "12      ncRI-3000013   60587  NONCODE       NONHSAG040596            7SK   \n",
       "13      ncRI-3000014   60587  NONCODE       NONHSAG040596            7SK   \n",
       "14      ncRI-3000015   60587  NONCODE       NONHSAG040596            7SK   \n",
       "15      ncRI-3000016   60587  NONCODE       NONHSAG040596            7SK   \n",
       "16      ncRI-3000017   60587  NONCODE       NONHSAG040596            7SK   \n",
       "17      ncRI-3000018   60587  NONCODE       NONHSAG040596            7SK   \n",
       "18      ncRI-3000019   60587  NONCODE       NONHSAG040596            7SK   \n",
       "19      ncRI-3000020   60587  NONCODE       NONHSAG040596            7SK   \n",
       "20      ncRI-3000021   60587  NONCODE       NONHSAG040596            7SK   \n",
       "21      ncRI-3000022   60587  NONCODE       NONHSAG040596            7SK   \n",
       "22      ncRI-3000023   60587  NONCODE       NONHSAG040596            7SK   \n",
       "23      ncRI-3000024   60587  NONCODE       NONHSAG040596            7SK   \n",
       "24      ncRI-3000025   60587  NONCODE       NONHSAG040596            7SK   \n",
       "25      ncRI-3000026   60587  NONCODE       NONHSAG040596            7SK   \n",
       "26      ncRI-3000027   60587  NONCODE       NONHSAG040596            7SK   \n",
       "27      ncRI-3000028   60587  NONCODE       NONHSAG040596            7SK   \n",
       "28      ncRI-3000029   60587  NONCODE       NONHSAG040596            7SK   \n",
       "29      ncRI-3000030   60587  NONCODE       NONHSAG040596            7SK   \n",
       "...              ...     ...      ...                 ...            ...   \n",
       "491386  ncRI-3491387  101504  NONCODE       NONMMUG020604          Kdm2a   \n",
       "491387  ncRI-3491388  101607  NONCODE       NONMMUG020673          Neat1   \n",
       "491388  ncRI-3491389  103917  NONCODE       NONMMUG022800        Gm16523   \n",
       "491389  ncRI-3491390  110142  NONCODE       NONMMUG028981        Gm12407   \n",
       "491390  ncRI-3491391  111446  NONCODE       NONMMUG030368          Ptch2   \n",
       "491391  ncRI-3491392  111942  NONCODE       NONMMUG030824  NONMMUG030824   \n",
       "491392  ncRI-3491393  113301  NONCODE       NONMMUG032078         Gm9899   \n",
       "491393  ncRI-3491394  118530  NONCODE       NONMMUG037052        Gm15781   \n",
       "491394  ncRI-3491395  119615  NONCODE       NONMMUG038174  NONMMUG038174   \n",
       "491395  ncRI-3491396  120065  NONCODE       NONMMUG038646  NONMMUG038646   \n",
       "491396  ncRI-3491397  122709  NONCODE       NONMMUG041139  NONMMUG041139   \n",
       "491397  ncRI-3491398  125706  NONCODE       NONMMUG043967  NONMMUG043967   \n",
       "491398  ncRI-3491399  125737  NONCODE       NONMMUG043999  NONMMUG043999   \n",
       "491399  ncRI-3491400  126087  NONCODE       NONMMUG044358  NONMMUG044358   \n",
       "491400  ncRI-3491401   97313  NONCODE       NONMMUG016631  NONMMUG016631   \n",
       "491401  ncRI-3491402  101601  NONCODE       NONMMUG020672        Gm20417   \n",
       "491402  ncRI-3491403  103551  NONCODE       NONMMUG022497        Tbc1d13   \n",
       "491403  ncRI-3491404  103688  NONCODE       NONMMUG022612  NONMMUG022612   \n",
       "491404  ncRI-3491405  106745  NONCODE       NONMMUG025556  NONMMUG025556   \n",
       "491405  ncRI-3491406  111988  NONCODE       NONMMUG030864       Trnau1ap   \n",
       "491406  ncRI-3491407  119704  NONCODE       NONMMUG038253  NONMMUG038253   \n",
       "491407  ncRI-3491408   93440  NONCODE       NONMMUG013006  NONMMUG013006   \n",
       "491408  ncRI-3491409   98535  NONCODE       NONMMUG017778  NONMMUG017778   \n",
       "491409  ncRI-3491410   99663  NONCODE       NONMMUG018874  NONMMUG018874   \n",
       "491410  ncRI-3491411  115297  NONCODE       NONMMUG033973  NONMMUG033973   \n",
       "491411  ncRI-3491412   93440  NONCODE       NONMMUG013006  NONMMUG013006   \n",
       "491412  ncRI-3491413   98535  NONCODE       NONMMUG017778  NONMMUG017778   \n",
       "491413  ncRI-3491414   99663  NONCODE       NONMMUG018874  NONMMUG018874   \n",
       "491414  ncRI-3491415  101607  NONCODE       NONMMUG020673          Neat1   \n",
       "491415  ncRI-3491416  115297  NONCODE       NONMMUG033973  NONMMUG033973   \n",
       "\n",
       "        PartnerID   prType prIdentifier InteractionPartner  \\\n",
       "0          135149  UniProt       P0A6M8               fusA   \n",
       "1          135166  UniProt       P0AGD7                ffh   \n",
       "2          134921  UniProt       M1FYN7               rpoB   \n",
       "3          135092  UniProt       P00579               rpoD   \n",
       "4          135154  UniProt       P0A8T7               rpoC   \n",
       "5          130918   RefSeq    NM_002467                MYC   \n",
       "6          131364   RefSeq    NM_020469                ABO   \n",
       "7          135074  UniProt       O94992             HEXIM1   \n",
       "8          135074  UniProt       O94992             HEXIM1   \n",
       "9          135074  UniProt       O94992             HEXIM1   \n",
       "10         135074  UniProt       O94992             HEXIM1   \n",
       "11         135074  UniProt       O94992             HEXIM1   \n",
       "12         135074  UniProt       O94992             HEXIM1   \n",
       "13         135074  UniProt       O94992             HEXIM1   \n",
       "14         135074  UniProt       O94992             HEXIM1   \n",
       "15         135074  UniProt       O94992             HEXIM1   \n",
       "16         135074  UniProt       O94992             HEXIM1   \n",
       "17         135245  UniProt       P20263               Oct1   \n",
       "18         135220  UniProt       P17735                Tat   \n",
       "19         135220  UniProt       P17735                Tat   \n",
       "20         135454  UniProt       P50750               CDK9   \n",
       "21         135454  UniProt       P50750               CDK9   \n",
       "22         135519  UniProt       P62136               PP1a   \n",
       "23         135521  UniProt       P62140               PP2B   \n",
       "24         135806  UniProt       Q4G0J3             hLARP7   \n",
       "25         135809  UniProt       Q4G0J3             P-TEFb   \n",
       "26         135809  UniProt       Q4G0J3             P-TEFb   \n",
       "27         135809  UniProt       Q4G0J3             P-TEFb   \n",
       "28         135808  UniProt       Q4G0J3              PIP7S   \n",
       "29         135809  UniProt       Q4G0J3             P-TEFb   \n",
       "...           ...      ...          ...                ...   \n",
       "491386       1953  miRBase    MI0000583      mmu-miR-96-5p   \n",
       "491387       1953  miRBase    MI0000583      mmu-miR-96-5p   \n",
       "491388       1953  miRBase    MI0000583      mmu-miR-96-5p   \n",
       "491389       1953  miRBase    MI0000583      mmu-miR-96-5p   \n",
       "491390       1953  miRBase    MI0000583      mmu-miR-96-5p   \n",
       "491391       1953  miRBase    MI0000583      mmu-miR-96-5p   \n",
       "491392       1953  miRBase    MI0000583      mmu-miR-96-5p   \n",
       "491393       1953  miRBase    MI0000583      mmu-miR-96-5p   \n",
       "491394       1953  miRBase    MI0000583      mmu-miR-96-5p   \n",
       "491395       1953  miRBase    MI0000583      mmu-miR-96-5p   \n",
       "491396       1953  miRBase    MI0000583      mmu-miR-96-5p   \n",
       "491397       1953  miRBase    MI0000583      mmu-miR-96-5p   \n",
       "491398       1953  miRBase    MI0000583      mmu-miR-96-5p   \n",
       "491399       1953  miRBase    MI0000583      mmu-miR-96-5p   \n",
       "491400       1956  miRBase    MI0000586      mmu-miR-98-5p   \n",
       "491401       1956  miRBase    MI0000586      mmu-miR-98-5p   \n",
       "491402       1956  miRBase    MI0000586      mmu-miR-98-5p   \n",
       "491403       1956  miRBase    MI0000586      mmu-miR-98-5p   \n",
       "491404       1956  miRBase    MI0000586      mmu-miR-98-5p   \n",
       "491405       1956  miRBase    MI0000586      mmu-miR-98-5p   \n",
       "491406       1956  miRBase    MI0000586      mmu-miR-98-5p   \n",
       "491407       1781  miRBase    MI0000146     mmu-miR-99a-5p   \n",
       "491408       1781  miRBase    MI0000146     mmu-miR-99a-5p   \n",
       "491409       1781  miRBase    MI0000146     mmu-miR-99a-5p   \n",
       "491410       1781  miRBase    MI0000146     mmu-miR-99a-5p   \n",
       "491411       1782  miRBase    MI0000147     mmu-miR-99b-5p   \n",
       "491412       1782  miRBase    MI0000147     mmu-miR-99b-5p   \n",
       "491413       1782  miRBase    MI0000147     mmu-miR-99b-5p   \n",
       "491414       1782  miRBase    MI0000147     mmu-miR-99b-5p   \n",
       "491415       1782  miRBase    MI0000147     mmu-miR-99b-5p   \n",
       "\n",
       "                                         interDescription  \\\n",
       "0       Following translocation, 4.5S RNA replaces 23S...   \n",
       "1       The 4.5S RNA is associated in vivo with P48. 4...   \n",
       "2       UV crosslinking experiments revealed that 6S R...   \n",
       "3       The stable association of sigma70 with core en...   \n",
       "4       UV crosslinking experiments revealed that 6S R...   \n",
       "5       Electrophoretic mobility shift experiment indi...   \n",
       "6       Promoters pU6 and p7SK proved to express high ...   \n",
       "7       Binding of the 7SK snRNA turns the HEXIM1 prot...   \n",
       "8       When associated with 7SK small nuclear RNA, HE...   \n",
       "9       HEXIM1 suppresses transcription elongation via...   \n",
       "10      Homo sapiensT-lymphotropic virus type 1 Tax pr...   \n",
       "11      7SK RNA binding to a HEXIM1 multimer promotes ...   \n",
       "12      The activity of P-TEFb is negatively regulated...   \n",
       "13      HEXIM1 targets a repeated GAUC motif in the ri...   \n",
       "14      The Hexim1 binding site is located in the 24-8...   \n",
       "15      Dissociation of 7SK and HEXIM1 from P-TEFb pro...   \n",
       "16      Although HEXIM1 binds tightly to 7SK RNA in vi...   \n",
       "17      PTF and Oct-1 enhance transcription from the 7...   \n",
       "18      Tat efficiently replaces HEXIM1 on the 7SK snR...   \n",
       "19      HIV-1 Tat assembles a multifunctional transcri...   \n",
       "20      Northern hybridization was performed to confir...   \n",
       "21      Stable expression of cdNIPP1 increased CDK9 ph...   \n",
       "22      PP2B and PP1alpha cooperatively disrupt 7SK sn...   \n",
       "23      PP2B and PP1alpha cooperatively disrupt 7SK sn...   \n",
       "24                     7SK snRNP assembly by hLARP7/PIP7S   \n",
       "25      Dissociation of 7SK and HEXIM1 from P-TEFb pro...   \n",
       "26      We provide evidence for 7SK RNA complexes cont...   \n",
       "27      Together with the HEXIM proteins, 7SK RNA asso...   \n",
       "28                     7SK snRNP assembly by hLARP7/PIP7S   \n",
       "29      TCR signaling led to the rapid dissociation of...   \n",
       "...                                                   ...   \n",
       "491386             interactions between ncRNAs and miRNAs   \n",
       "491387             interactions between ncRNAs and miRNAs   \n",
       "491388             interactions between ncRNAs and miRNAs   \n",
       "491389             interactions between ncRNAs and miRNAs   \n",
       "491390             interactions between ncRNAs and miRNAs   \n",
       "491391             interactions between ncRNAs and miRNAs   \n",
       "491392             interactions between ncRNAs and miRNAs   \n",
       "491393             interactions between ncRNAs and miRNAs   \n",
       "491394             interactions between ncRNAs and miRNAs   \n",
       "491395             interactions between ncRNAs and miRNAs   \n",
       "491396             interactions between ncRNAs and miRNAs   \n",
       "491397             interactions between ncRNAs and miRNAs   \n",
       "491398             interactions between ncRNAs and miRNAs   \n",
       "491399             interactions between ncRNAs and miRNAs   \n",
       "491400             interactions between ncRNAs and miRNAs   \n",
       "491401             interactions between ncRNAs and miRNAs   \n",
       "491402             interactions between ncRNAs and miRNAs   \n",
       "491403             interactions between ncRNAs and miRNAs   \n",
       "491404             interactions between ncRNAs and miRNAs   \n",
       "491405             interactions between ncRNAs and miRNAs   \n",
       "491406             interactions between ncRNAs and miRNAs   \n",
       "491407             interactions between ncRNAs and miRNAs   \n",
       "491408             interactions between ncRNAs and miRNAs   \n",
       "491409             interactions between ncRNAs and miRNAs   \n",
       "491410             interactions between ncRNAs and miRNAs   \n",
       "491411             interactions between ncRNAs and miRNAs   \n",
       "491412             interactions between ncRNAs and miRNAs   \n",
       "491413             interactions between ncRNAs and miRNAs   \n",
       "491414             interactions between ncRNAs and miRNAs   \n",
       "491415             interactions between ncRNAs and miRNAs   \n",
       "\n",
       "                                               experiment  PubMedID  \\\n",
       "0                                                    EMSA   8662727   \n",
       "1                         Immunoprecipitation experiments   1281314   \n",
       "2                                           cross-linking  10892648   \n",
       "3                                           cross-linking  10892648   \n",
       "4                                           cross-linking  10892648   \n",
       "5                                                    EMSA   9018369   \n",
       "6                                                     NaN  22522162   \n",
       "7                                                     NaN  15201869   \n",
       "8                                                     NaN  17671421   \n",
       "9                                                     NaN  18407829   \n",
       "10                                                    NaN  20926576   \n",
       "11                                                    NaN  15994294   \n",
       "12                                                    NaN  22609015   \n",
       "13                                                    NaN  20675720   \n",
       "14                                                    NaN  19244621   \n",
       "15                                                    NaN  19239885   \n",
       "16                                                    NaN  20808803   \n",
       "17                                                    NaN   1535687   \n",
       "18                                                    NaN  20976203   \n",
       "19                                                    NaN  20471949   \n",
       "20                                          Northern Blot  11713532   \n",
       "21                                                    NaN  21098020   \n",
       "22                                                    NaN  18483222   \n",
       "23                                                    NaN  18483222   \n",
       "24                                                    NaN  20138158   \n",
       "25                                                    NaN  19239885   \n",
       "26                                                    NaN  21957495   \n",
       "27                                                    NaN  22377309   \n",
       "28                                                    NaN  20138158   \n",
       "29                                                    NaN  21763495   \n",
       "...                                                   ...       ...   \n",
       "491386  Conserved miRNAs target sites predicted by Tar...       NaN   \n",
       "491387  Conserved miRNAs target sites predicted by Tar...       NaN   \n",
       "491388  Conserved miRNAs target sites predicted by Tar...       NaN   \n",
       "491389  Conserved miRNAs target sites predicted by Tar...       NaN   \n",
       "491390  Conserved miRNAs target sites predicted by Tar...       NaN   \n",
       "491391  Conserved miRNAs target sites predicted by Tar...       NaN   \n",
       "491392  Conserved miRNAs target sites predicted by Tar...       NaN   \n",
       "491393  Conserved miRNAs target sites predicted by Tar...       NaN   \n",
       "491394  Conserved miRNAs target sites predicted by Tar...       NaN   \n",
       "491395  Conserved miRNAs target sites predicted by Tar...       NaN   \n",
       "491396  Conserved miRNAs target sites predicted by Tar...       NaN   \n",
       "491397  Conserved miRNAs target sites predicted by Tar...       NaN   \n",
       "491398  Conserved miRNAs target sites predicted by Tar...       NaN   \n",
       "491399  Conserved miRNAs target sites predicted by Tar...       NaN   \n",
       "491400  Conserved miRNAs target sites predicted by Tar...       NaN   \n",
       "491401  Conserved miRNAs target sites predicted by Tar...       NaN   \n",
       "491402  Conserved miRNAs target sites predicted by Tar...       NaN   \n",
       "491403  Conserved miRNAs target sites predicted by Tar...       NaN   \n",
       "491404  Conserved miRNAs target sites predicted by Tar...       NaN   \n",
       "491405  Conserved miRNAs target sites predicted by Tar...       NaN   \n",
       "491406  Conserved miRNAs target sites predicted by Tar...       NaN   \n",
       "491407  Conserved miRNAs target sites predicted by Tar...       NaN   \n",
       "491408  Conserved miRNAs target sites predicted by Tar...       NaN   \n",
       "491409  Conserved miRNAs target sites predicted by Tar...       NaN   \n",
       "491410  Conserved miRNAs target sites predicted by Tar...       NaN   \n",
       "491411  Conserved miRNAs target sites predicted by Tar...       NaN   \n",
       "491412  Conserved miRNAs target sites predicted by Tar...       NaN   \n",
       "491413  Conserved miRNAs target sites predicted by Tar...       NaN   \n",
       "491414  Conserved miRNAs target sites predicted by Tar...       NaN   \n",
       "491415  Conserved miRNAs target sites predicted by Tar...       NaN   \n",
       "\n",
       "                organism                                        tag  \\\n",
       "0       Escherichia coli                      ncRNA-protein binding   \n",
       "1       Escherichia coli                      ncRNA-protein binding   \n",
       "2       Escherichia coli                      ncRNA-protein binding   \n",
       "3       Escherichia coli                      ncRNA-protein binding   \n",
       "4       Escherichia coli                      ncRNA-protein binding   \n",
       "5           Homo sapiens         regulatory;promoter as action site   \n",
       "6           Homo sapiens                                 regulatory   \n",
       "7           Homo sapiens                      ncRNA-protein binding   \n",
       "8           Homo sapiens                      ncRNA-protein binding   \n",
       "9           Homo sapiens                      ncRNA-protein binding   \n",
       "10          Homo sapiens                      ncRNA-protein binding   \n",
       "11          Homo sapiens                      ncRNA-protein binding   \n",
       "12          Homo sapiens                      ncRNA-protein binding   \n",
       "13          Homo sapiens                      ncRNA-protein binding   \n",
       "14          Homo sapiens                      ncRNA-protein binding   \n",
       "15          Homo sapiens                      ncRNA-protein binding   \n",
       "16          Homo sapiens                      ncRNA-protein binding   \n",
       "17          Homo sapiens                         ncRNA is regulated   \n",
       "18          Homo sapiens                      ncRNA-protein binding   \n",
       "19          Homo sapiens                      ncRNA-protein binding   \n",
       "20          Homo sapiens                      ncRNA-protein binding   \n",
       "21          Homo sapiens                                 regulatory   \n",
       "22          Homo sapiens                                 regulatory   \n",
       "23          Homo sapiens                                 regulatory   \n",
       "24          Homo sapiens                      ncRNA-protein binding   \n",
       "25          Homo sapiens                                 regulatory   \n",
       "26          Homo sapiens                      ncRNA-protein binding   \n",
       "27          Homo sapiens                      ncRNA-protein binding   \n",
       "28          Homo sapiens                      ncRNA-protein binding   \n",
       "29          Homo sapiens                      ncRNA-protein binding   \n",
       "...                  ...                                        ...   \n",
       "491386      Mus musculus  miRNA;miRNA target interaction;regulatory   \n",
       "491387      Mus musculus  miRNA;miRNA target interaction;regulatory   \n",
       "491388      Mus musculus  miRNA;miRNA target interaction;regulatory   \n",
       "491389      Mus musculus  miRNA;miRNA target interaction;regulatory   \n",
       "491390      Mus musculus  miRNA;miRNA target interaction;regulatory   \n",
       "491391      Mus musculus  miRNA;miRNA target interaction;regulatory   \n",
       "491392      Mus musculus  miRNA;miRNA target interaction;regulatory   \n",
       "491393      Mus musculus  miRNA;miRNA target interaction;regulatory   \n",
       "491394      Mus musculus  miRNA;miRNA target interaction;regulatory   \n",
       "491395      Mus musculus  miRNA;miRNA target interaction;regulatory   \n",
       "491396      Mus musculus  miRNA;miRNA target interaction;regulatory   \n",
       "491397      Mus musculus  miRNA;miRNA target interaction;regulatory   \n",
       "491398      Mus musculus  miRNA;miRNA target interaction;regulatory   \n",
       "491399      Mus musculus  miRNA;miRNA target interaction;regulatory   \n",
       "491400      Mus musculus  miRNA;miRNA target interaction;regulatory   \n",
       "491401      Mus musculus  miRNA;miRNA target interaction;regulatory   \n",
       "491402      Mus musculus  miRNA;miRNA target interaction;regulatory   \n",
       "491403      Mus musculus  miRNA;miRNA target interaction;regulatory   \n",
       "491404      Mus musculus  miRNA;miRNA target interaction;regulatory   \n",
       "491405      Mus musculus  miRNA;miRNA target interaction;regulatory   \n",
       "491406      Mus musculus  miRNA;miRNA target interaction;regulatory   \n",
       "491407      Mus musculus  miRNA;miRNA target interaction;regulatory   \n",
       "491408      Mus musculus  miRNA;miRNA target interaction;regulatory   \n",
       "491409      Mus musculus  miRNA;miRNA target interaction;regulatory   \n",
       "491410      Mus musculus  miRNA;miRNA target interaction;regulatory   \n",
       "491411      Mus musculus  miRNA;miRNA target interaction;regulatory   \n",
       "491412      Mus musculus  miRNA;miRNA target interaction;regulatory   \n",
       "491413      Mus musculus  miRNA;miRNA target interaction;regulatory   \n",
       "491414      Mus musculus  miRNA;miRNA target interaction;regulatory   \n",
       "491415      Mus musculus  miRNA;miRNA target interaction;regulatory   \n",
       "\n",
       "                interClass   interLevel  \n",
       "0                  binding  RNA-Protein  \n",
       "1                  binding  RNA-Protein  \n",
       "2                  binding  RNA-Protein  \n",
       "3                  binding  RNA-Protein  \n",
       "4                  binding  RNA-Protein  \n",
       "5               regulatory      RNA-RNA  \n",
       "6               regulatory      RNA-RNA  \n",
       "7                  binding  RNA-Protein  \n",
       "8                  binding  RNA-Protein  \n",
       "9                  binding  RNA-Protein  \n",
       "10                 binding  RNA-Protein  \n",
       "11                 binding  RNA-Protein  \n",
       "12                 binding  RNA-Protein  \n",
       "13                 binding  RNA-Protein  \n",
       "14                 binding  RNA-Protein  \n",
       "15                 binding  RNA-Protein  \n",
       "16                 binding  RNA-Protein  \n",
       "17              regulatory       DNA-TF  \n",
       "18                 binding  RNA-Protein  \n",
       "19                 binding  RNA-Protein  \n",
       "20                 binding  RNA-Protein  \n",
       "21              regulatory  RNA-Protein  \n",
       "22              regulatory  RNA-Protein  \n",
       "23              regulatory  RNA-Protein  \n",
       "24                 binding  RNA-Protein  \n",
       "25              regulatory  RNA-Protein  \n",
       "26                 binding  RNA-Protein  \n",
       "27                 binding  RNA-Protein  \n",
       "28                 binding  RNA-Protein  \n",
       "29                 binding  RNA-Protein  \n",
       "...                    ...          ...  \n",
       "491386  binding;regulatory      RNA-RNA  \n",
       "491387  binding;regulatory      RNA-RNA  \n",
       "491388  binding;regulatory      RNA-RNA  \n",
       "491389  binding;regulatory      RNA-RNA  \n",
       "491390  binding;regulatory      RNA-RNA  \n",
       "491391  binding;regulatory      RNA-RNA  \n",
       "491392  binding;regulatory      RNA-RNA  \n",
       "491393  binding;regulatory      RNA-RNA  \n",
       "491394  binding;regulatory      RNA-RNA  \n",
       "491395  binding;regulatory      RNA-RNA  \n",
       "491396  binding;regulatory      RNA-RNA  \n",
       "491397  binding;regulatory      RNA-RNA  \n",
       "491398  binding;regulatory      RNA-RNA  \n",
       "491399  binding;regulatory      RNA-RNA  \n",
       "491400  binding;regulatory      RNA-RNA  \n",
       "491401  binding;regulatory      RNA-RNA  \n",
       "491402  binding;regulatory      RNA-RNA  \n",
       "491403  binding;regulatory      RNA-RNA  \n",
       "491404  binding;regulatory      RNA-RNA  \n",
       "491405  binding;regulatory      RNA-RNA  \n",
       "491406  binding;regulatory      RNA-RNA  \n",
       "491407  binding;regulatory      RNA-RNA  \n",
       "491408  binding;regulatory      RNA-RNA  \n",
       "491409  binding;regulatory      RNA-RNA  \n",
       "491410  binding;regulatory      RNA-RNA  \n",
       "491411  binding;regulatory      RNA-RNA  \n",
       "491412  binding;regulatory      RNA-RNA  \n",
       "491413  binding;regulatory      RNA-RNA  \n",
       "491414  binding;regulatory      RNA-RNA  \n",
       "491415  binding;regulatory      RNA-RNA  \n",
       "\n",
       "[491416 rows x 16 columns]"
      ]
     },
     "execution_count": 4,
     "metadata": {},
     "output_type": "execute_result"
    }
   ],
   "source": [
    "import pandas as pd\n",
    "df = pd.read_table(luad_data.LNC.NPInter_interactions_file_path)\n",
    "df"
   ]
  },
  {
   "cell_type": "code",
   "execution_count": 17,
   "metadata": {},
   "outputs": [
    {
     "data": {
      "text/plain": [
       "RNA-Protein    335026\n",
       "RNA-RNA        152521\n",
       "RNA-DNA          3822\n",
       "DNA-TF             36\n",
       "DNA-DNA             9\n",
       "DNA-Protein         2\n",
       "Name: interLevel, dtype: int64"
      ]
     },
     "execution_count": 17,
     "metadata": {},
     "output_type": "execute_result"
    }
   ],
   "source": [
    "df[\"interLevel\"].value_counts()"
   ]
  },
  {
   "cell_type": "markdown",
   "metadata": {},
   "source": [
    "# lncBase"
   ]
  },
  {
   "cell_type": "code",
   "execution_count": 9,
   "metadata": {},
   "outputs": [],
   "source": [
    "from moge.network.heterogeneous_network import get_rename_dict\n",
    "lncbase_rename_dict = get_rename_dict(luad_data.LNC.get_genes_info(), \"Gene ID\")"
   ]
  },
  {
   "cell_type": "code",
   "execution_count": 10,
   "metadata": {},
   "outputs": [
    {
     "name": "stderr",
     "output_type": "stream",
     "text": [
      "/opt/anaconda3/lib/python3.6/site-packages/TCGAMultiOmics/genomic.py:339: FutureWarning: read_table is deprecated, use read_csv instead, passing sep='\\t'.\n",
      "  lncbase_df = pd.read_table(self.lncBase_interactions_file_path)\n"
     ]
    },
    {
     "name": "stdout",
     "output_type": "stream",
     "text": [
      "337031\n"
     ]
    }
   ],
   "source": [
    "lncbase_new = luad_data.LNC.get_lncBase_miRNA_lncRNA_predicted_interactions_edgelist(rename_dict=lncbase_rename_dict,\n",
    "                                                                                     data=False)\n",
    "lncbase_old = luad_data.LNC.get_lncBase_miRNA_lncRNA_interactions_edgelist(rename_dict=lncbase_rename_dict, \n",
    "                                                                           data=False)\n",
    "lncbase_diff = list(set(lncbase_new) - set(lncbase_old))\n",
    "print(len(lncbase_diff))"
   ]
  },
  {
   "cell_type": "code",
   "execution_count": 11,
   "metadata": {},
   "outputs": [
    {
     "name": "stdout",
     "output_type": "stream",
     "text": [
      "Adding edgelist with 1746 total unique MIR genes (source), but only matching 1615 nodes\n",
      "Adding edgelist with 20412 total unique LNC genes (target), but only matching 11692 nodes\n",
      "337031 edges added.\n",
      "Adding edgelist with 137 total unique LNC genes (source), but only matching 22 nodes\n",
      "Adding edgelist with 373 total unique GE genes (target), but only matching 172 nodes\n",
      "554 edges added.\n"
     ]
    }
   ],
   "source": [
    "# Adds miRNA-lncRNA interaction network\n",
    "# network.add_directed_edges_from_edgelist(edgelist=luad_data.LNC.get_starBase_lncRNA_miRNA_interactions_edgelist(),\n",
    "#                                         )\n",
    "# network.add_directed_edges_from_edgelist(edgelist=luad_data.LNC.get_lncRNome_miRNA_binding_sites_edgelist(),\n",
    "#                                          modalities=[\"LNC\", \"MIR\"], correlation_weights=False, threshold=0.20,\n",
    "#                                         database=\"lncRNome\")\n",
    "\n",
    "network.add_directed_edges_from_edgelist(edgelist=lncbase_diff, #luad_data.LNC.get_lncBase_miRNA_lncRNA_interactions_edgelist(rename_dict=lncbase_rename_dict),\n",
    "                                         modalities=[\"MIR\", \"LNC\"], correlation_weights=False, threshold=0.20,\n",
    "                                        database=\"lncBase\")\n",
    "\n",
    "\n",
    "network.add_directed_edges_from_edgelist(edgelist=luad_data.LNC.get_LncReg_lncRNA_RNA_regulatory_interactions(),\n",
    "                                         modalities=[\"LNC\", \"GE\"], correlation_weights=False, threshold=0.20,\n",
    "                                        database=\"LncReg\")"
   ]
  },
  {
   "cell_type": "markdown",
   "metadata": {},
   "source": [
    "# lncrna2target"
   ]
  },
  {
   "cell_type": "code",
   "execution_count": 12,
   "metadata": {},
   "outputs": [
    {
     "name": "stderr",
     "output_type": "stream",
     "text": [
      "/opt/anaconda3/lib/python3.6/site-packages/TCGAMultiOmics/genomic.py:447: FutureWarning: read_table is deprecated, use read_csv instead, passing sep='\\t'.\n",
      "  table = pd.read_table(self.lncrna2target_high_throughput_table_path, low_memory=True)\n",
      "/opt/anaconda3/lib/python3.6/site-packages/IPython/core/interactiveshell.py:3214: DtypeWarning: Columns (6) have mixed types. Specify dtype option on import or set low_memory=False.\n",
      "  if (yield from self.run_code(code, result)):\n"
     ]
    },
    {
     "data": {
      "text/plain": [
       "1277"
      ]
     },
     "execution_count": 12,
     "metadata": {},
     "output_type": "execute_result"
    }
   ],
   "source": [
    "lnc2tar_low = luad_data.LNC.get_lncrna2target_low_throughput_interactions(data=False)\n",
    "lnc2tar_high = luad_data.LNC.get_lncrna2target_high_throughput_interactions(data=False)\n",
    "lnc2tar_diff = list(set(lnc2tar_low) - set(lnc2tar_high))\n",
    "len(lnc2tar_diff)"
   ]
  },
  {
   "cell_type": "code",
   "execution_count": 13,
   "metadata": {},
   "outputs": [
    {
     "name": "stdout",
     "output_type": "stream",
     "text": [
      "Adding edgelist with 243 total unique LNC genes (source), but only matching 79 nodes\n",
      "Adding edgelist with 677 total unique GE genes (target), but only matching 454 nodes\n",
      "1277 edges added.\n"
     ]
    },
    {
     "name": "stderr",
     "output_type": "stream",
     "text": [
      "/opt/anaconda3/lib/python3.6/site-packages/TCGAMultiOmics/genomic.py:479: FutureWarning: read_table is deprecated, use read_csv instead, passing sep='\\t'.\n",
      "  table = pd.read_table(self.lncRInter_table_path)\n",
      "/opt/anaconda3/lib/python3.6/site-packages/TCGAMultiOmics/genomic.py:487: SettingWithCopyWarning: \n",
      "A value is trying to be set on a copy of a slice from a DataFrame\n",
      "\n",
      "See the caveats in the documentation: http://pandas.pydata.org/pandas-docs/stable/indexing.html#indexing-view-versus-copy\n",
      "  lambda x: x[:-1] + \"-\" + x[-1])\n"
     ]
    },
    {
     "name": "stdout",
     "output_type": "stream",
     "text": [
      "Adding edgelist with 170 total unique LNC genes (source), but only matching 83 nodes\n",
      "Adding edgelist with 315 total unique GE genes (target), but only matching 252 nodes\n",
      "522 edges added.\n"
     ]
    }
   ],
   "source": [
    "network.add_directed_edges_from_edgelist(edgelist=lnc2tar_diff, #luad_data.LNC.get_lncrna2target_high_throughput_interactions(),\n",
    "                                         modalities=[\"LNC\", \"GE\"], correlation_weights=False, threshold=0.20,\n",
    "                                        database=\"lncrna2target\")\n",
    "\n",
    "# network.add_directed_edges_from_edgelist(edgelist=luad_data.LNC.get_lncrna2target_low_throughput_interactions(),\n",
    "#                                          modalities=[\"LNC\", \"GE\"], correlation_weights=False, threshold=0.20,\n",
    "#                                         database=\"lncrna2target_low\")\n",
    "\n",
    "network.add_directed_edges_from_edgelist(edgelist=luad_data.LNC.get_lncRInter_interactions(),\n",
    "                                         modalities=[\"LNC\", \"GE\"], correlation_weights=False, threshold=0.20,\n",
    "                                        database=\"lncRInter\")"
   ]
  },
  {
   "cell_type": "markdown",
   "metadata": {},
   "source": [
    "# Filter the edges"
   ]
  },
  {
   "cell_type": "code",
   "execution_count": 35,
   "metadata": {},
   "outputs": [],
   "source": [
    "with open('moge/data/LMN_future_recall/TRAIN/Interactions_Affinity/LMN_mirtarbase_biogrid_starbase_lncrna2target_lncrinter.train.pickle', 'rb') as file:\n",
    "    network = pickle.load(file)"
   ]
  },
  {
   "cell_type": "code",
   "execution_count": 36,
   "metadata": {},
   "outputs": [
    {
     "name": "stdout",
     "output_type": "stream",
     "text": [
      "319246\n"
     ]
    }
   ],
   "source": [
    "edges_bunch = [(u,v,d) for u,v,d in network.G.edges(data=True) if (\"database\" in d and \n",
    "                                                                   d[\"database\"]==\"miRTarBase\")]\n",
    "print(len(edges_bunch))"
   ]
  },
  {
   "cell_type": "code",
   "execution_count": 37,
   "metadata": {},
   "outputs": [
    {
     "data": {
      "text/plain": [
       "16695"
      ]
     },
     "execution_count": 37,
     "metadata": {},
     "output_type": "execute_result"
    }
   ],
   "source": [
    "database_nodes = nx.DiGraph(incoming_graph_data=edges_bunch).nodes()\n",
    "database_nodes = list(database_nodes)\n",
    "len(database_nodes)"
   ]
  },
  {
   "cell_type": "code",
   "execution_count": 38,
   "metadata": {},
   "outputs": [
    {
     "name": "stdout",
     "output_type": "stream",
     "text": [
      "664279\n"
     ]
    }
   ],
   "source": [
    "edges_bunch = [(u,v,d) for u,v,d in network.G.edges(nbunch=database_nodes, data=True) \\\n",
    "               if d[\"type\"] == 'u' or d[\"type\"] == \"u_n\" or (\"database\" in d and d[\"database\"]==\"miRTarBase\")]\n",
    "print(len(edges_bunch))"
   ]
  },
  {
   "cell_type": "code",
   "execution_count": 39,
   "metadata": {},
   "outputs": [],
   "source": [
    "network.G.clear()\n",
    "network.G.add_edges_from(edges_bunch)"
   ]
  },
  {
   "cell_type": "markdown",
   "metadata": {},
   "source": [
    "# Filter the node_list"
   ]
  },
  {
   "cell_type": "code",
   "execution_count": 15,
   "metadata": {},
   "outputs": [
    {
     "data": {
      "text/plain": [
       "11308"
      ]
     },
     "execution_count": 15,
     "metadata": {},
     "output_type": "execute_result"
    }
   ],
   "source": [
    "isolates = list(nx.isolates(network.G))\n",
    "len(isolates)"
   ]
  },
  {
   "cell_type": "code",
   "execution_count": 16,
   "metadata": {},
   "outputs": [],
   "source": [
    "network.nodes[\"GE\"] = [node for node in network.nodes[\"GE\"] if node not in isolates and node in network.G.nodes()]\n",
    "network.nodes[\"LNC\"] = [node for node in network.nodes[\"LNC\"] if node not in isolates and node in network.G.nodes()]\n",
    "network.nodes[\"MIR\"] = [node for node in network.nodes[\"MIR\"] if node not in isolates and node in network.G.nodes()]\n",
    "network.node_list = [node for node in network.node_list if node not in isolates and node in network.G.nodes()]"
   ]
  },
  {
   "cell_type": "code",
   "execution_count": 31,
   "metadata": {},
   "outputs": [],
   "source": [
    "# network.remove_extra_nodes() # Also makes network unmutable"
   ]
  },
  {
   "cell_type": "code",
   "execution_count": 17,
   "metadata": {},
   "outputs": [
    {
     "data": {
      "text/plain": [
       "44670"
      ]
     },
     "execution_count": 17,
     "metadata": {},
     "output_type": "execute_result"
    }
   ],
   "source": [
    "network.G.number_of_nodes()"
   ]
  },
  {
   "cell_type": "code",
   "execution_count": 18,
   "metadata": {},
   "outputs": [
    {
     "data": {
      "text/plain": [
       "22648"
      ]
     },
     "execution_count": 18,
     "metadata": {},
     "output_type": "execute_result"
    }
   ],
   "source": [
    "len(network.node_list)"
   ]
  },
  {
   "cell_type": "code",
   "execution_count": 20,
   "metadata": {},
   "outputs": [],
   "source": [
    "# WRITE/READ FULL network\n",
    "import pickle\n",
    "with open('moge/data/LMN_future_recall/TEST/Interactions_Affinity/LMN_mirtarbase_biogrid_starbase_lncrna2target_lncrinter.test.pickle', \n",
    "          'wb') as file:\n",
    "    pickle.dump(network, file)\n",
    "#     network = pickle.load(file)"
   ]
  },
  {
   "cell_type": "code",
   "execution_count": 28,
   "metadata": {},
   "outputs": [
    {
     "data": {
      "text/plain": [
       "55891"
      ]
     },
     "execution_count": 28,
     "metadata": {},
     "output_type": "execute_result"
    }
   ],
   "source": [
    "len(network.get_edgelist(edge_types=\"d\", node_list=network.node_list))"
   ]
  },
  {
   "cell_type": "markdown",
   "metadata": {},
   "source": [
    "# Split train-test by edges"
   ]
  },
  {
   "cell_type": "code",
   "execution_count": 45,
   "metadata": {},
   "outputs": [],
   "source": [
    "import pickle\n",
    "# WRITE READ network\n",
    "with open('moge/data/LMN_future_recall/Predict/Interactions_Affinity/LMN_mirtarbase_starbase_lncbase_npinter_lncrna2target.test.pickle', 'rb') as file:\n",
    "    network = pickle.load(file)"
   ]
  },
  {
   "cell_type": "code",
   "execution_count": 27,
   "metadata": {},
   "outputs": [
    {
     "name": "stdout",
     "output_type": "stream",
     "text": [
      "preprocessing...\n",
      "edges_to_remove 345875\n",
      "edges_to_remove (after MST) 345875\n",
      "test_edges_size 0\n",
      "val_edges_size 69175\n",
      "Removed 0 test, and 69175 val, type ['d'] edges\n"
     ]
    }
   ],
   "source": [
    "from moge.evaluation.utils import split_train_test_edges\n",
    "\n",
    "network_train, test_edges, val_edges = split_train_test_edges(network, network.node_list, \n",
    "#                                                                            databases=,\n",
    "                                                          test_frac=.00, val_frac=.20, edge_types=[\"d\"], \n",
    "                                                          seed=0, verbose=True)"
   ]
  },
  {
   "cell_type": "code",
   "execution_count": 28,
   "metadata": {},
   "outputs": [
    {
     "name": "stdout",
     "output_type": "stream",
     "text": [
      "MIR  nodes: 1870\n",
      "GE  nodes: 20157\n",
      "LNC  nodes: 12706\n",
      "Total nodes: 34733\n",
      "Genes info columns: ['Transcript sequence', 'Disease association', 'locus_type', 'GO Terms', 'Family']\n",
      "Number of nodes without seq removed: 2153\n",
      "Total nodes (filtered): 32581\n",
      "MIR  nodes: 1870\n",
      "GE  nodes: 20157\n",
      "LNC  nodes: 12706\n",
      "Total nodes: 34733\n",
      "Genes info columns: ['Transcript sequence', 'Disease association', 'locus_type', 'GO Terms', 'Family']\n",
      "Number of nodes without seq removed: 2153\n",
      "Total nodes (filtered): 32581\n"
     ]
    }
   ],
   "source": [
    "from moge.network.heterogeneous_network import HeterogeneousNetwork\n",
    "\n",
    "network_test = HeterogeneousNetwork(modalities=[\"MIR\", \"GE\", \"LNC\"], multi_omics_data=network.multi_omics_data)\n",
    "network_val = HeterogeneousNetwork(modalities=[\"MIR\", \"GE\", \"LNC\"], multi_omics_data=network.multi_omics_data)\n",
    "network_test.G.add_edges_from(test_edges)\n",
    "network_val.G.add_edges_from(val_edges)"
   ]
  },
  {
   "cell_type": "markdown",
   "metadata": {},
   "source": [
    "# Split train-test by nodes"
   ]
  },
  {
   "cell_type": "code",
   "execution_count": null,
   "metadata": {},
   "outputs": [],
   "source": [
    "from moge.evaluation.utils import split_train_test_nodes\n",
    "\n",
    "network_train, test_edges, val_edges, test_nodes, val_nodes = split_train_test_nodes(network, network.nodes[\"LNC\"],\n",
    "                                                          test_frac=.00, val_frac=.10, edge_types=[\"d\"], \n",
    "                                                          seed=0, verbose=True)"
   ]
  },
  {
   "cell_type": "code",
   "execution_count": null,
   "metadata": {},
   "outputs": [],
   "source": [
    "from moge.network.heterogeneous_network import HeterogeneousNetwork\n",
    "\n",
    "network_test = HeterogeneousNetwork(modalities=[\"MIR\", \"GE\", \"LNC\"], multi_omics_data=network.multi_omics_data)\n",
    "network_val = HeterogeneousNetwork(modalities=[\"MIR\", \"GE\", \"LNC\"], multi_omics_data=network.multi_omics_data)\n",
    "network_test.val_node_list = test_nodes\n",
    "network_val.val_node_list = val_nodes\n",
    "network_test.G.add_edges_from(test_edges)\n",
    "network_val.G.add_edges_from(val_edges)\n",
    "len(network_test.node_list), len(network_val.node_list)"
   ]
  },
  {
   "cell_type": "code",
   "execution_count": null,
   "metadata": {},
   "outputs": [],
   "source": [
    "network_train.G.number_of_edges()"
   ]
  },
  {
   "cell_type": "markdown",
   "metadata": {},
   "source": [
    "# Write train-test-val split as separate networks"
   ]
  },
  {
   "cell_type": "code",
   "execution_count": 29,
   "metadata": {},
   "outputs": [],
   "source": [
    "# WRITE\n",
    "import pickle\n",
    "with open('moge/data/LMN_only_directed/lmn_edges20/lmn_edges20_train.pickle', 'wb') as file:\n",
    "    pickle.dump(network_train, file)\n",
    "    \n",
    "with open('moge/data/LMN_only_directed/lmn_edges20/lmn_edges20_test.pickle', 'wb') as file:\n",
    "    pickle.dump(network_test, file)\n",
    "    \n",
    "with open('moge/data/LMN_only_directed/lmn_edges20/lmn_edges20_val.pickle', 'wb') as file:\n",
    "    pickle.dump(network_val, file)"
   ]
  },
  {
   "cell_type": "code",
   "execution_count": 30,
   "metadata": {},
   "outputs": [],
   "source": [
    "# WRITE Edgelist\n",
    "nx.write_edgelist(network_train.get_subgraph([\"MIR\", \"GE\", \"LNC\"]), \n",
    "                  \"moge/data/LMN_only_directed/lmn_edges20/lmn_edges20_train.full.edgelist\", \n",
    "                  data=False)"
   ]
  },
  {
   "cell_type": "code",
   "execution_count": 6,
   "metadata": {},
   "outputs": [],
   "source": [
    "# Write edgelist interactions only\n",
    "nx.write_edgelist(nx.Graph(incoming_graph_data=network.get_edgelist(edge_types=[\"d\"], node_list=network.node_list)),\n",
    "                  \"moge/data/LMN_future_recall/TRAIN/Interactions_Only/lmn_train.interactions.edgelist\",\n",
    "                  data=False)"
   ]
  },
  {
   "cell_type": "code",
   "execution_count": 11,
   "metadata": {},
   "outputs": [],
   "source": [
    "# Write edgelist interactions only, database specific\n",
    "nx.write_edgelist(nx.Graph(incoming_graph_data=network.get_edgelist(edge_types=[\"d\"], \n",
    "                                                                    databases=[\"BioGRID\"], \n",
    "                                                                    node_list=network.node_list)),\n",
    "                  \"moge/data/LMN_future_recall/TRAIN/Interactions_Only/GE/lmn_train.BioGRID.interactions.edgelist\",\n",
    "                  data=False)"
   ]
  },
  {
   "cell_type": "markdown",
   "metadata": {},
   "source": [
    "## Network Info & Visualizations"
   ]
  },
  {
   "cell_type": "code",
   "execution_count": null,
   "metadata": {},
   "outputs": [],
   "source": [
    "print(len(network.G.nodes()))\n",
    "print(len(network.G.edges()))"
   ]
  },
  {
   "cell_type": "code",
   "execution_count": null,
   "metadata": {},
   "outputs": [],
   "source": [
    "csr_un = network.get_adjacency_matrix(edge_types=[\"u_n\"], node_list=network.node_list)\n",
    "csr_u = network.get_adjacency_matrix(edge_types=[\"u\"], node_list=network.node_list)\n",
    "csr_d = network.get_adjacency_matrix(edge_types=[\"d\"], node_list=network.node_list)"
   ]
  },
  {
   "cell_type": "code",
   "execution_count": null,
   "metadata": {},
   "outputs": [],
   "source": [
    "matrix_heatmap(csr_un.toarray())"
   ]
  },
  {
   "cell_type": "code",
   "execution_count": null,
   "metadata": {},
   "outputs": [],
   "source": [
    "matrix_heatmap(csr_u.toarray())"
   ]
  },
  {
   "cell_type": "code",
   "execution_count": null,
   "metadata": {},
   "outputs": [],
   "source": [
    "matrix_heatmap(csr_d.toarray())"
   ]
  }
 ],
 "metadata": {
  "kernelspec": {
   "display_name": "Python 3",
   "language": "python",
   "name": "python3"
  },
  "language_info": {
   "codemirror_mode": {
    "name": "ipython",
    "version": 3
   },
   "file_extension": ".py",
   "mimetype": "text/x-python",
   "name": "python",
   "nbconvert_exporter": "python",
   "pygments_lexer": "ipython3",
   "version": "3.6.8"
  }
 },
 "nbformat": 4,
 "nbformat_minor": 1
}
