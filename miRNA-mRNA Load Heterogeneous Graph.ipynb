{
 "cells": [
  {
   "cell_type": "code",
   "execution_count": 1,
   "metadata": {},
   "outputs": [],
   "source": [
    "import networkx as nx\n",
    "import numpy as np\n",
    "import pandas as pd\n",
    "import scipy.sparse as sps\n",
    "import pickle\n",
    "import seaborn\n",
    "import matplotlib.pyplot as plt\n",
    "\n",
    "from openomics.multiomics import MultiOmics\n",
    "from openomics.database import *\n",
    "from openomics.transcriptomics import *\n",
    "from openomics.genomics import *\n",
    "\n",
    "from moge.visualization.plot_data import matrix_heatmap, plot_coo_matrix\n",
    "from moge.visualization.visualize_embedding import visualize_embedding, plot_bokeh_graph\n",
    "from moge.network.omics_distance import *"
   ]
  },
  {
   "cell_type": "markdown",
   "metadata": {},
   "source": [
    "# Import the TCGA cancer data"
   ]
  },
  {
   "cell_type": "code",
   "execution_count": 2,
   "metadata": {},
   "outputs": [],
   "source": [
    "pd.set_option('mode.chained_assignment','raise')"
   ]
  },
  {
   "cell_type": "code",
   "execution_count": 3,
   "metadata": {},
   "outputs": [
    {
     "name": "stderr",
     "output_type": "stream",
     "text": [
      "/opt/anaconda3/lib/python3.6/site-packages/openomics/transcriptomics.py:52: ParserWarning:\n",
      "\n",
      "Falling back to the 'python' engine because the 'c' engine does not support sep=None with delim_whitespace=False; you can avoid this warning by specifying engine='python'.\n",
      "\n"
     ]
    },
    {
     "name": "stdout",
     "output_type": "stream",
     "text": [
      "MessengerRNA (576, 20472) , indexed by: gene_name\n",
      "MicroRNA (494, 1870) , indexed by: gene_name\n",
      "LncRNA (546, 12727) , indexed by: gene_id\n"
     ]
    }
   ],
   "source": [
    "cohort_folder = \"/data/datasets/Bioinformatics_ExternalData/tcga-assembler/LUAD/\"\n",
    "cohort_name = \"LUAD\"\n",
    "luad_data = MultiOmics(cohort_name)\n",
    "luad_data.add_clinical_data(clinical_data=\"/data/datasets/Bioinformatics_ExternalData/tcga-assembler/LUAD/clinical/nationwidechildrens.org_clinical_patient.txt\")\n",
    "\n",
    "luad_data.add_omic(MessengerRNA(cohort_name, file_path=os.path.join(cohort_folder, \"gene_exp\", \"geneExp.txt\"), \n",
    "                                gene_index_by=\"gene_name\",\n",
    "                                columns=\"GeneSymbol|TCGA\", genes_col_name=\"GeneSymbol\"))\n",
    "\n",
    "luad_data.add_omic(MicroRNA(cohort_name, file_path=os.path.join(cohort_folder, \"mirna/\", \"miRNAExp__RPM.txt\"), \n",
    "                            gene_index_by=\"gene_name\",\n",
    "                            columns=\"GeneSymbol|TCGA\", genes_col_name=\"GeneSymbol\"))\n",
    "\n",
    "luad_data.add_omic(LncRNA(cohort_name, file_path=os.path.join(cohort_folder, \"lncrna\", \"TCGA-rnaexpr.tsv\"), \n",
    "                          gene_index_by=\"gene_id\",\n",
    "                          columns=\"Gene_ID|TCGA\", genes_col_name=\"Gene_ID\"))\n",
    "luad_data.MicroRNA.expressions.index = luad_data.MicroRNA.expressions.index.str.replace(\"mir\", \"miR\")\n",
    "luad_data.MicroRNA.annotations.index = luad_data.MicroRNA.annotations.index.str.replace(\"mir\", \"miR\")\n",
    "luad_data.build_samples()"
   ]
  },
  {
   "cell_type": "code",
   "execution_count": 4,
   "metadata": {},
   "outputs": [
    {
     "name": "stdout",
     "output_type": "stream",
     "text": [
      "Fetching file from URL: ftp://ftp.ebi.ac.uk/pub/databases/RNAcentral/current_release/ go_annotations/rnacentral_rfam_annotations.tsv.gz\n",
      "Fetching file from URL: ftp://ftp.ebi.ac.uk/pub/databases/RNAcentral/current_release/ id_mapping/database_mappings/gencode.tsv\n",
      "RNAcentral: ['index', 'RNAcentral id', 'database', 'transcript_id', 'species', 'RNA type', 'gene_name', 'go_id', 'Rfams']\n",
      "Fetching file from URL: ftp://mirbase.org/pub/mirbase/CURRENT/ aliases.txt.gz\n",
      "Fetching file from URL: ftp://mirbase.org/pub/mirbase/CURRENT/ mature.fa.gz\n",
      "Fetching file from URL: ftp://ftp.ebi.ac.uk/pub/databases/RNAcentral/current_release/id_mapping/database_mappings/ mirbase.tsv\n",
      "MirBase: ['mirbase id', 'RNAcentral id', 'database', 'species', 'RNA type', 'gene name', 'gene_name']\n"
     ]
    },
    {
     "name": "stderr",
     "output_type": "stream",
     "text": [
      "/opt/anaconda3/lib/python3.6/site-packages/ipykernel_launcher.py:7: DtypeWarning:\n",
      "\n",
      "Columns (10) have mixed types. Specify dtype option on import or set low_memory=False.\n",
      "\n"
     ]
    },
    {
     "name": "stdout",
     "output_type": "stream",
     "text": [
      "EnsemblGenes ['gene_id', 'gene_name', 'transcript_id', 'transcript_name', 'chromosome_name', 'transcript_start', 'transcript_end', 'transcript_length', 'gene_biotype', 'transcript_biotype', 'Rfams', 'go_id']\n",
      "Fetching file from URL: ftp://ftp.ebi.ac.uk/pub/databases/gencode/Gencode_human/release_32/ gencode.v32.long_noncoding_RNAs.gtf.gz\n",
      "Fetching file from URL: ftp://ftp.ebi.ac.uk/pub/databases/gencode/Gencode_human/release_32/ gencode.v32.lncRNA_transcripts.fa.gz\n",
      "Fetching file from URL: ftp://ftp.ebi.ac.uk/pub/databases/gencode/Gencode_human/release_32/ gencode.v32.transcripts.fa.gz\n"
     ]
    },
    {
     "name": "stderr",
     "output_type": "stream",
     "text": [
      "INFO:root:Extracted GTF attributes: ['gene_id', 'gene_type', 'gene_name', 'level', 'hgnc_id', 'tag', 'havana_gene', 'transcript_id', 'transcript_type', 'transcript_name', 'transcript_support_level', 'havana_transcript', 'exon_number', 'exon_id', 'ont']\n"
     ]
    },
    {
     "name": "stdout",
     "output_type": "stream",
     "text": [
      "GENCODE: ['index', 'seqname', 'source', 'feature', 'start', 'end', 'score', 'strand', 'frame', 'gene_id', 'gene_type', 'gene_name', 'level', 'hgnc_id', 'tag', 'havana_gene', 'transcript_id', 'transcript_type', 'transcript_name', 'transcript_support_level', 'havana_transcript', 'exon_number', 'exon_id', 'ont']\n",
      "Fetching file from URL: https://storage.googleapis.com/gtex_analysis_v8/rna_seq_data/ GTEx_Analysis_2017-06-05_v8_RNASeQCv1.1.9_gene_median_tpm.gct.gz\n",
      "Fetching file from URL: https://storage.googleapis.com/gtex_analysis_v8/annotations/ GTEx_Analysis_v8_Annotations_SampleAttributesDS.txt\n",
      "Fetching file from URL: https://storage.googleapis.com/gtex_analysis_v8/rna_seq_data/ GTEx_Analysis_2017-06-05_v8_RSEMv1.3.0_transcript_tpm.gct.gz\n",
      "GTEx: ['gene_id', 'gene_name', 'Adipose - Subcutaneous', 'Adipose - Visceral (Omentum)', 'Adrenal Gland', 'Artery - Aorta', 'Artery - Coronary', 'Artery - Tibial', 'Bladder', 'Brain - Amygdala', 'Brain - Anterior cingulate cortex (BA24)', 'Brain - Caudate (basal ganglia)', 'Brain - Cerebellar Hemisphere', 'Brain - Cerebellum', 'Brain - Cortex', 'Brain - Frontal Cortex (BA9)', 'Brain - Hippocampus', 'Brain - Hypothalamus', 'Brain - Nucleus accumbens (basal ganglia)', 'Brain - Putamen (basal ganglia)', 'Brain - Spinal cord (cervical c-1)', 'Brain - Substantia nigra', 'Breast - Mammary Tissue', 'Cells - Cultured fibroblasts', 'Cells - EBV-transformed lymphocytes', 'Cervix - Ectocervix', 'Cervix - Endocervix', 'Colon - Sigmoid', 'Colon - Transverse', 'Esophagus - Gastroesophageal Junction', 'Esophagus - Mucosa', 'Esophagus - Muscularis', 'Fallopian Tube', 'Heart - Atrial Appendage', 'Heart - Left Ventricle', 'Kidney - Cortex', 'Kidney - Medulla', 'Liver', 'Lung', 'Minor Salivary Gland', 'Muscle - Skeletal', 'Nerve - Tibial', 'Ovary', 'Pancreas', 'Pituitary', 'Prostate', 'Skin - Not Sun Exposed (Suprapubic)', 'Skin - Sun Exposed (Lower leg)', 'Small Intestine - Terminal Ileum', 'Spleen', 'Stomach', 'Testis', 'Thyroid', 'Uterus', 'Vagina', 'Whole Blood']\n"
     ]
    }
   ],
   "source": [
    "rnacentral = RNAcentral(path=\"ftp://ftp.ebi.ac.uk/pub/databases/RNAcentral/current_release/\",\n",
    "                       file_resources={\"rnacentral_rfam_annotations.tsv\":\"go_annotations/rnacentral_rfam_annotations.tsv.gz\",\n",
    "                                      \"gencode.tsv\":\"id_mapping/database_mappings/gencode.tsv\"},\n",
    "                       )\n",
    "\n",
    "mirbase = MirBase(path=\"ftp://mirbase.org/pub/mirbase/CURRENT/\")\n",
    "ensembl = EnsemblGenes()\n",
    "gencode = GENCODE(path=\"ftp://ftp.ebi.ac.uk/pub/databases/gencode/Gencode_human/release_32/\",\n",
    "                  file_resources={\"long_noncoding_RNAs.gtf\": \"gencode.v32.long_noncoding_RNAs.gtf.gz\",\n",
    "                                  \"lncRNA_transcripts.fa\": \"gencode.v32.lncRNA_transcripts.fa.gz\",\n",
    "                                  \"transcripts.fa\": \"gencode.v32.transcripts.fa.gz\"},\n",
    "                  import_sequences=\"shortest\")\n",
    "gtex = GTEx(path=\"https://storage.googleapis.com/gtex_analysis_v8/rna_seq_data/\")\n",
    "# interaction datasets\n",
    "# lncbase = LncBase(\"/data/datasets/Bioinformatics_ExternalData/lncBase/\", )\n",
    "\n",
    "# targetscan = TargetScan(\"/data/datasets/Bioinformatics_ExternalData/TargetScan/\", )\n",
    "# mirtarbase = MiRTarBase(\"/data/datasets/Bioinformatics_ExternalData/miRTarBase/\", target_index=\"Target Gene\")"
   ]
  },
  {
   "cell_type": "code",
   "execution_count": 5,
   "metadata": {},
   "outputs": [
    {
     "name": "stdout",
     "output_type": "stream",
     "text": [
      "Fetching file from URL: https://www.disgenet.org/static/disgenet_ap1/files/downloads/ curated_gene_disease_associations.tsv.gz\n",
      "Fetching file from URL: https://www.disgenet.org/static/disgenet_ap1/files/downloads/ all_gene_disease_associations.tsv.gz\n",
      "DisGeNet: ['index', 'gene_name', 'disease_associations', 'score']\n",
      "Fetching file from URL: http://www.cuilab.cn/static/hmdd3/data/ alldata.txt\n",
      "HMDD: ['index', 'category', 'gene_name', 'disease_associations', 'pmid', 'description']\n",
      "Fetching file from URL: http://www.cuilab.cn/files/images/ldd/ data_v2017.txt\n",
      "LncRNADisease: ['index', 'gene_name', 'disease_associations', 'Dysfunction type', 'Description', 'Chr', 'Start', 'End', 'Strand', 'Species', 'Alias', 'Sequence', 'Reference']\n"
     ]
    }
   ],
   "source": [
    "disgenet = DisGeNet(path=\"https://www.disgenet.org/static/disgenet_ap1/files/downloads/\", curated=True)\n",
    "hmdd = HMDD(path=\"http://www.cuilab.cn/static/hmdd3/data/\")\n",
    "lncrnadisease = LncRNADisease(path=\"http://www.cuilab.cn/files/images/ldd/\", species=\"Human\")"
   ]
  },
  {
   "cell_type": "code",
   "execution_count": 7,
   "metadata": {},
   "outputs": [],
   "source": [
    "import difflib\n",
    "miRNA_index = luad_data.MicroRNA.annotations.index.map(lambda x: difflib.get_close_matches(x, mirbase.df[\"gene_name\"])[0])\n",
    "luad_data.MicroRNA.annotations.index = miRNA_index\n",
    "luad_data.MicroRNA.annotations.index & mirbase.df[\"gene_name\"]"
   ]
  },
  {
   "cell_type": "code",
   "execution_count": 9,
   "metadata": {
    "scrolled": true
   },
   "outputs": [
    {
     "name": "stdout",
     "output_type": "stream",
     "text": [
      "<class 'pandas.core.frame.DataFrame'>\n",
      "Index: 12727 entries, ENSG00000005206 to ENSGR0000270726\n",
      "Data columns (total 19 columns):\n",
      "gene_name               11848 non-null object\n",
      "feature                 11586 non-null object\n",
      "start                   11586 non-null object\n",
      "end                     11586 non-null object\n",
      "strand                  11586 non-null object\n",
      "tag                     11586 non-null object\n",
      "havana_gene             11586 non-null object\n",
      "transcript_id           11848 non-null object\n",
      "transcript_name         11848 non-null object\n",
      "chromosome_name         11848 non-null object\n",
      "transcript_start        11848 non-null object\n",
      "transcript_end          11848 non-null object\n",
      "transcript_length       11848 non-null object\n",
      "Rfams                   150 non-null object\n",
      "go_id                   216 non-null object\n",
      "gene_biotype            11848 non-null object\n",
      "transcript_biotype      11848 non-null object\n",
      "Transcript sequence     11586 non-null object\n",
      "disease_associations    13 non-null object\n",
      "dtypes: object(19)\n",
      "memory usage: 1.9+ MB\n",
      "<class 'pandas.core.frame.DataFrame'>\n",
      "Index: 1870 entries, hsa-let-7a-1 to hsa-miR-99b\n",
      "Data columns (total 16 columns):\n",
      "RNAcentral id           1870 non-null object\n",
      "mirbase id              1870 non-null object\n",
      "database                1870 non-null object\n",
      "transcript_id           78 non-null object\n",
      "RNA type                78 non-null object\n",
      "go_id                   78 non-null object\n",
      "Rfams                   78 non-null object\n",
      "transcript_name         0 non-null object\n",
      "chromosome_name         0 non-null object\n",
      "transcript_start        0 non-null object\n",
      "transcript_end          0 non-null object\n",
      "transcript_length       0 non-null object\n",
      "gene_biotype            0 non-null object\n",
      "transcript_biotype      0 non-null object\n",
      "Transcript sequence     914 non-null object\n",
      "disease_associations    130 non-null object\n",
      "dtypes: object(16)\n",
      "memory usage: 248.4+ KB\n",
      "<class 'pandas.core.frame.DataFrame'>\n",
      "Index: 20472 entries, A1BG to tAKR\n",
      "Data columns (total 14 columns):\n",
      "transcript_id           19443 non-null object\n",
      "RNA type                374 non-null object\n",
      "go_id                   18242 non-null object\n",
      "Rfams                   386 non-null object\n",
      "gene_id                 19443 non-null object\n",
      "transcript_name         19443 non-null object\n",
      "chromosome_name         19443 non-null object\n",
      "transcript_start        19443 non-null object\n",
      "transcript_end          19443 non-null object\n",
      "transcript_length       19443 non-null object\n",
      "gene_biotype            19443 non-null object\n",
      "transcript_biotype      19443 non-null object\n",
      "Transcript sequence     19443 non-null object\n",
      "disease_associations    8883 non-null object\n",
      "dtypes: object(14)\n",
      "memory usage: 2.3+ MB\n"
     ]
    }
   ],
   "source": [
    "luad_data.LncRNA.annotate_genomics(gencode, index=\"gene_id\", \n",
    "                                columns=['feature', 'start', 'end', 'strand', 'tag', 'havana_gene'])\n",
    "luad_data.LncRNA.annotate_genomics(database=ensembl, index='gene_id', \n",
    "                                columns=['gene_name', 'transcript_id', 'transcript_name', \n",
    "                                         'chromosome_name', 'transcript_start', 'transcript_end', 'transcript_length',\n",
    "                                         'Rfams', 'go_id', 'gene_biotype', 'transcript_biotype'])\n",
    "luad_data.LncRNA.annotate_genomics(database=rnacentral, index='gene_name',\n",
    "                                columns=['Rfams', 'go_id', 'gene_name'])\n",
    "luad_data.LncRNA.annotate_sequences(gencode, index=\"gene_id\", omic=\"LncRNA\")\n",
    "luad_data.LncRNA.annotate_diseases(lncrnadisease, index=\"gene_name\", )\n",
    "luad_data.LncRNA.annotations.info()\n",
    "\n",
    "luad_data.MicroRNA.annotate_genomics(\n",
    "    database=mirbase, \n",
    "    index=\"gene_name\", \n",
    "    columns=['mirbase id', 'RNAcentral id', 'database'],)\n",
    "luad_data.MicroRNA.annotate_genomics(\n",
    "    database=rnacentral, \n",
    "    index=\"RNAcentral id\",\n",
    "    columns=['transcript_id', 'RNA type', 'go_id', 'Rfams']\n",
    ")\n",
    "luad_data.MicroRNA.annotate_genomics(\n",
    "    database=ensembl, \n",
    "    index='gene_name',\n",
    "    columns=['gene_name', 'transcript_id', 'transcript_name', \n",
    "             'chromosome_name', 'transcript_start', 'transcript_end', 'transcript_length',\n",
    "             'Rfams', 'go_id', 'gene_biotype', 'transcript_biotype'])\n",
    "luad_data.MicroRNA.annotate_sequences(mirbase, index=\"gene_name\", omic=\"MicroRNA\")\n",
    "luad_data.MicroRNA.annotate_diseases(hmdd, index=\"gene_name\", )\n",
    "luad_data.MicroRNA.annotations.info()\n",
    "\n",
    "luad_data.MessengerRNA.annotate_genomics(database=rnacentral, index=\"gene_name\",\n",
    "                                columns=['gene_name', 'transcript_id', 'RNA type', 'go_id', 'Rfams'])\n",
    "luad_data.MessengerRNA.annotate_genomics(database=ensembl, index='gene_name',\n",
    "                                columns=['gene_id', 'transcript_id', 'transcript_name', \n",
    "                                         'chromosome_name', 'transcript_start', 'transcript_end', 'transcript_length',\n",
    "                                         'Rfams', 'go_id', 'gene_biotype', 'transcript_biotype'])\n",
    "luad_data.MessengerRNA.annotate_sequences(gencode, index=\"gene_name\", omic=\"MessengerRNA\")\n",
    "luad_data.MessengerRNA.annotate_diseases(disgenet, index=\"gene_name\", )\n",
    "luad_data.MessengerRNA.annotations.info()"
   ]
  },
  {
   "cell_type": "code",
   "execution_count": 16,
   "metadata": {},
   "outputs": [],
   "source": [
    "luad_data.MessengerRNA.annotate_expressions(database=gtex, index=\"gene_name\")\n",
    "# luad_data.LncRNA.annotate_expressions(database=gtex, index=\"gene_id\")\n",
    "# luad_data.MicroRNA.annotate_expressions(database=gtex, index=\"gene_name\")"
   ]
  },
  {
   "cell_type": "code",
   "execution_count": 17,
   "metadata": {},
   "outputs": [
    {
     "data": {
      "text/html": [
       "<div>\n",
       "<style scoped>\n",
       "    .dataframe tbody tr th:only-of-type {\n",
       "        vertical-align: middle;\n",
       "    }\n",
       "\n",
       "    .dataframe tbody tr th {\n",
       "        vertical-align: top;\n",
       "    }\n",
       "\n",
       "    .dataframe thead th {\n",
       "        text-align: right;\n",
       "    }\n",
       "</style>\n",
       "<table border=\"1\" class=\"dataframe\">\n",
       "  <thead>\n",
       "    <tr style=\"text-align: right;\">\n",
       "      <th></th>\n",
       "      <th>Adipose - Subcutaneous</th>\n",
       "      <th>Adipose - Visceral (Omentum)</th>\n",
       "      <th>Adrenal Gland</th>\n",
       "      <th>Artery - Aorta</th>\n",
       "      <th>Artery - Coronary</th>\n",
       "      <th>Artery - Tibial</th>\n",
       "      <th>Bladder</th>\n",
       "      <th>Brain - Amygdala</th>\n",
       "      <th>Brain - Anterior cingulate cortex (BA24)</th>\n",
       "      <th>Brain - Caudate (basal ganglia)</th>\n",
       "      <th>...</th>\n",
       "      <th>Skin - Not Sun Exposed (Suprapubic)</th>\n",
       "      <th>Skin - Sun Exposed (Lower leg)</th>\n",
       "      <th>Small Intestine - Terminal Ileum</th>\n",
       "      <th>Spleen</th>\n",
       "      <th>Stomach</th>\n",
       "      <th>Testis</th>\n",
       "      <th>Thyroid</th>\n",
       "      <th>Uterus</th>\n",
       "      <th>Vagina</th>\n",
       "      <th>Whole Blood</th>\n",
       "    </tr>\n",
       "    <tr>\n",
       "      <th>gene_name</th>\n",
       "      <th></th>\n",
       "      <th></th>\n",
       "      <th></th>\n",
       "      <th></th>\n",
       "      <th></th>\n",
       "      <th></th>\n",
       "      <th></th>\n",
       "      <th></th>\n",
       "      <th></th>\n",
       "      <th></th>\n",
       "      <th></th>\n",
       "      <th></th>\n",
       "      <th></th>\n",
       "      <th></th>\n",
       "      <th></th>\n",
       "      <th></th>\n",
       "      <th></th>\n",
       "      <th></th>\n",
       "      <th></th>\n",
       "      <th></th>\n",
       "      <th></th>\n",
       "    </tr>\n",
       "  </thead>\n",
       "  <tbody>\n",
       "    <tr>\n",
       "      <th>A1BG</th>\n",
       "      <td>3.109560</td>\n",
       "      <td>3.278810</td>\n",
       "      <td>1.405660</td>\n",
       "      <td>3.371560</td>\n",
       "      <td>7.405130</td>\n",
       "      <td>6.438560</td>\n",
       "      <td>2.171510</td>\n",
       "      <td>4.02207</td>\n",
       "      <td>3.555730</td>\n",
       "      <td>4.193790</td>\n",
       "      <td>...</td>\n",
       "      <td>2.340100</td>\n",
       "      <td>2.192790</td>\n",
       "      <td>2.804740</td>\n",
       "      <td>6.324840</td>\n",
       "      <td>1.350860</td>\n",
       "      <td>1.542190</td>\n",
       "      <td>4.536520</td>\n",
       "      <td>7.846930</td>\n",
       "      <td>5.491580</td>\n",
       "      <td>1.691720</td>\n",
       "    </tr>\n",
       "    <tr>\n",
       "      <th>A1BG-AS1</th>\n",
       "      <td>1.613390</td>\n",
       "      <td>1.959340</td>\n",
       "      <td>1.024820</td>\n",
       "      <td>2.109530</td>\n",
       "      <td>5.085090</td>\n",
       "      <td>3.536230</td>\n",
       "      <td>1.258740</td>\n",
       "      <td>1.00217</td>\n",
       "      <td>1.863250</td>\n",
       "      <td>1.452590</td>\n",
       "      <td>...</td>\n",
       "      <td>1.505240</td>\n",
       "      <td>1.257310</td>\n",
       "      <td>2.505390</td>\n",
       "      <td>5.426820</td>\n",
       "      <td>1.006890</td>\n",
       "      <td>0.640786</td>\n",
       "      <td>3.716960</td>\n",
       "      <td>6.283290</td>\n",
       "      <td>3.273600</td>\n",
       "      <td>1.280710</td>\n",
       "    </tr>\n",
       "    <tr>\n",
       "      <th>A1CF</th>\n",
       "      <td>0.007384</td>\n",
       "      <td>0.005619</td>\n",
       "      <td>0.018703</td>\n",
       "      <td>0.016388</td>\n",
       "      <td>0.012284</td>\n",
       "      <td>0.015893</td>\n",
       "      <td>0.008841</td>\n",
       "      <td>0.00000</td>\n",
       "      <td>0.004687</td>\n",
       "      <td>0.004386</td>\n",
       "      <td>...</td>\n",
       "      <td>0.011234</td>\n",
       "      <td>0.014398</td>\n",
       "      <td>6.028670</td>\n",
       "      <td>0.009638</td>\n",
       "      <td>0.239152</td>\n",
       "      <td>0.047557</td>\n",
       "      <td>0.016392</td>\n",
       "      <td>0.007013</td>\n",
       "      <td>0.010876</td>\n",
       "      <td>0.005726</td>\n",
       "    </tr>\n",
       "    <tr>\n",
       "      <th>A2M</th>\n",
       "      <td>692.432000</td>\n",
       "      <td>683.165000</td>\n",
       "      <td>157.053000</td>\n",
       "      <td>1643.760000</td>\n",
       "      <td>1279.810000</td>\n",
       "      <td>1311.630000</td>\n",
       "      <td>839.501000</td>\n",
       "      <td>52.79900</td>\n",
       "      <td>45.778700</td>\n",
       "      <td>66.294100</td>\n",
       "      <td>...</td>\n",
       "      <td>79.867700</td>\n",
       "      <td>119.502000</td>\n",
       "      <td>278.726000</td>\n",
       "      <td>286.536000</td>\n",
       "      <td>176.050000</td>\n",
       "      <td>65.231800</td>\n",
       "      <td>457.219000</td>\n",
       "      <td>637.325000</td>\n",
       "      <td>259.814000</td>\n",
       "      <td>1.261570</td>\n",
       "    </tr>\n",
       "    <tr>\n",
       "      <th>A2ML1</th>\n",
       "      <td>0.115811</td>\n",
       "      <td>0.099195</td>\n",
       "      <td>0.126896</td>\n",
       "      <td>0.173203</td>\n",
       "      <td>0.170873</td>\n",
       "      <td>0.135677</td>\n",
       "      <td>0.416320</td>\n",
       "      <td>1.36667</td>\n",
       "      <td>1.452340</td>\n",
       "      <td>1.813800</td>\n",
       "      <td>...</td>\n",
       "      <td>85.963400</td>\n",
       "      <td>81.979000</td>\n",
       "      <td>0.121853</td>\n",
       "      <td>0.132588</td>\n",
       "      <td>0.129857</td>\n",
       "      <td>8.122970</td>\n",
       "      <td>0.145466</td>\n",
       "      <td>0.330162</td>\n",
       "      <td>234.742000</td>\n",
       "      <td>0.046193</td>\n",
       "    </tr>\n",
       "    <tr>\n",
       "      <th>...</th>\n",
       "      <td>...</td>\n",
       "      <td>...</td>\n",
       "      <td>...</td>\n",
       "      <td>...</td>\n",
       "      <td>...</td>\n",
       "      <td>...</td>\n",
       "      <td>...</td>\n",
       "      <td>...</td>\n",
       "      <td>...</td>\n",
       "      <td>...</td>\n",
       "      <td>...</td>\n",
       "      <td>...</td>\n",
       "      <td>...</td>\n",
       "      <td>...</td>\n",
       "      <td>...</td>\n",
       "      <td>...</td>\n",
       "      <td>...</td>\n",
       "      <td>...</td>\n",
       "      <td>...</td>\n",
       "      <td>...</td>\n",
       "      <td>...</td>\n",
       "    </tr>\n",
       "    <tr>\n",
       "      <th>ZYX</th>\n",
       "      <td>264.034000</td>\n",
       "      <td>235.912000</td>\n",
       "      <td>70.748400</td>\n",
       "      <td>570.868000</td>\n",
       "      <td>416.840000</td>\n",
       "      <td>508.046000</td>\n",
       "      <td>400.830000</td>\n",
       "      <td>26.52500</td>\n",
       "      <td>41.943100</td>\n",
       "      <td>25.347800</td>\n",
       "      <td>...</td>\n",
       "      <td>113.264000</td>\n",
       "      <td>143.671000</td>\n",
       "      <td>145.308000</td>\n",
       "      <td>239.367000</td>\n",
       "      <td>87.356600</td>\n",
       "      <td>153.602000</td>\n",
       "      <td>132.050000</td>\n",
       "      <td>743.002000</td>\n",
       "      <td>248.278000</td>\n",
       "      <td>685.078000</td>\n",
       "    </tr>\n",
       "    <tr>\n",
       "      <th>ZZEF1</th>\n",
       "      <td>19.892300</td>\n",
       "      <td>14.695600</td>\n",
       "      <td>15.821000</td>\n",
       "      <td>23.267400</td>\n",
       "      <td>20.339000</td>\n",
       "      <td>24.895800</td>\n",
       "      <td>21.470000</td>\n",
       "      <td>4.96975</td>\n",
       "      <td>6.044240</td>\n",
       "      <td>6.155440</td>\n",
       "      <td>...</td>\n",
       "      <td>20.582600</td>\n",
       "      <td>22.154200</td>\n",
       "      <td>37.807800</td>\n",
       "      <td>25.619800</td>\n",
       "      <td>16.345900</td>\n",
       "      <td>20.717600</td>\n",
       "      <td>25.892000</td>\n",
       "      <td>25.629500</td>\n",
       "      <td>17.664600</td>\n",
       "      <td>9.162160</td>\n",
       "    </tr>\n",
       "    <tr>\n",
       "      <th>ZZZ3</th>\n",
       "      <td>10.986500</td>\n",
       "      <td>8.607600</td>\n",
       "      <td>9.063640</td>\n",
       "      <td>9.843830</td>\n",
       "      <td>11.112600</td>\n",
       "      <td>12.894200</td>\n",
       "      <td>12.289500</td>\n",
       "      <td>4.04317</td>\n",
       "      <td>3.985290</td>\n",
       "      <td>4.046860</td>\n",
       "      <td>...</td>\n",
       "      <td>10.813400</td>\n",
       "      <td>11.453800</td>\n",
       "      <td>7.666690</td>\n",
       "      <td>7.493900</td>\n",
       "      <td>6.135160</td>\n",
       "      <td>6.293300</td>\n",
       "      <td>14.359900</td>\n",
       "      <td>15.325900</td>\n",
       "      <td>11.913300</td>\n",
       "      <td>0.844963</td>\n",
       "    </tr>\n",
       "    <tr>\n",
       "      <th>psiTPTE22</th>\n",
       "      <td>NaN</td>\n",
       "      <td>NaN</td>\n",
       "      <td>NaN</td>\n",
       "      <td>NaN</td>\n",
       "      <td>NaN</td>\n",
       "      <td>NaN</td>\n",
       "      <td>NaN</td>\n",
       "      <td>NaN</td>\n",
       "      <td>NaN</td>\n",
       "      <td>NaN</td>\n",
       "      <td>...</td>\n",
       "      <td>NaN</td>\n",
       "      <td>NaN</td>\n",
       "      <td>NaN</td>\n",
       "      <td>NaN</td>\n",
       "      <td>NaN</td>\n",
       "      <td>NaN</td>\n",
       "      <td>NaN</td>\n",
       "      <td>NaN</td>\n",
       "      <td>NaN</td>\n",
       "      <td>NaN</td>\n",
       "    </tr>\n",
       "    <tr>\n",
       "      <th>tAKR</th>\n",
       "      <td>NaN</td>\n",
       "      <td>NaN</td>\n",
       "      <td>NaN</td>\n",
       "      <td>NaN</td>\n",
       "      <td>NaN</td>\n",
       "      <td>NaN</td>\n",
       "      <td>NaN</td>\n",
       "      <td>NaN</td>\n",
       "      <td>NaN</td>\n",
       "      <td>NaN</td>\n",
       "      <td>...</td>\n",
       "      <td>NaN</td>\n",
       "      <td>NaN</td>\n",
       "      <td>NaN</td>\n",
       "      <td>NaN</td>\n",
       "      <td>NaN</td>\n",
       "      <td>NaN</td>\n",
       "      <td>NaN</td>\n",
       "      <td>NaN</td>\n",
       "      <td>NaN</td>\n",
       "      <td>NaN</td>\n",
       "    </tr>\n",
       "  </tbody>\n",
       "</table>\n",
       "<p>20472 rows × 54 columns</p>\n",
       "</div>"
      ],
      "text/plain": [
       "           Adipose - Subcutaneous  Adipose - Visceral (Omentum)  \\\n",
       "gene_name                                                         \n",
       "A1BG                     3.109560                      3.278810   \n",
       "A1BG-AS1                 1.613390                      1.959340   \n",
       "A1CF                     0.007384                      0.005619   \n",
       "A2M                    692.432000                    683.165000   \n",
       "A2ML1                    0.115811                      0.099195   \n",
       "...                           ...                           ...   \n",
       "ZYX                    264.034000                    235.912000   \n",
       "ZZEF1                   19.892300                     14.695600   \n",
       "ZZZ3                    10.986500                      8.607600   \n",
       "psiTPTE22                     NaN                           NaN   \n",
       "tAKR                          NaN                           NaN   \n",
       "\n",
       "           Adrenal Gland  Artery - Aorta  Artery - Coronary  Artery - Tibial  \\\n",
       "gene_name                                                                      \n",
       "A1BG            1.405660        3.371560           7.405130         6.438560   \n",
       "A1BG-AS1        1.024820        2.109530           5.085090         3.536230   \n",
       "A1CF            0.018703        0.016388           0.012284         0.015893   \n",
       "A2M           157.053000     1643.760000        1279.810000      1311.630000   \n",
       "A2ML1           0.126896        0.173203           0.170873         0.135677   \n",
       "...                  ...             ...                ...              ...   \n",
       "ZYX            70.748400      570.868000         416.840000       508.046000   \n",
       "ZZEF1          15.821000       23.267400          20.339000        24.895800   \n",
       "ZZZ3            9.063640        9.843830          11.112600        12.894200   \n",
       "psiTPTE22            NaN             NaN                NaN              NaN   \n",
       "tAKR                 NaN             NaN                NaN              NaN   \n",
       "\n",
       "              Bladder  Brain - Amygdala  \\\n",
       "gene_name                                 \n",
       "A1BG         2.171510           4.02207   \n",
       "A1BG-AS1     1.258740           1.00217   \n",
       "A1CF         0.008841           0.00000   \n",
       "A2M        839.501000          52.79900   \n",
       "A2ML1        0.416320           1.36667   \n",
       "...               ...               ...   \n",
       "ZYX        400.830000          26.52500   \n",
       "ZZEF1       21.470000           4.96975   \n",
       "ZZZ3        12.289500           4.04317   \n",
       "psiTPTE22         NaN               NaN   \n",
       "tAKR              NaN               NaN   \n",
       "\n",
       "           Brain - Anterior cingulate cortex (BA24)  \\\n",
       "gene_name                                             \n",
       "A1BG                                       3.555730   \n",
       "A1BG-AS1                                   1.863250   \n",
       "A1CF                                       0.004687   \n",
       "A2M                                       45.778700   \n",
       "A2ML1                                      1.452340   \n",
       "...                                             ...   \n",
       "ZYX                                       41.943100   \n",
       "ZZEF1                                      6.044240   \n",
       "ZZZ3                                       3.985290   \n",
       "psiTPTE22                                       NaN   \n",
       "tAKR                                            NaN   \n",
       "\n",
       "           Brain - Caudate (basal ganglia)  ...  \\\n",
       "gene_name                                   ...   \n",
       "A1BG                              4.193790  ...   \n",
       "A1BG-AS1                          1.452590  ...   \n",
       "A1CF                              0.004386  ...   \n",
       "A2M                              66.294100  ...   \n",
       "A2ML1                             1.813800  ...   \n",
       "...                                    ...  ...   \n",
       "ZYX                              25.347800  ...   \n",
       "ZZEF1                             6.155440  ...   \n",
       "ZZZ3                              4.046860  ...   \n",
       "psiTPTE22                              NaN  ...   \n",
       "tAKR                                   NaN  ...   \n",
       "\n",
       "           Skin - Not Sun Exposed (Suprapubic)  \\\n",
       "gene_name                                        \n",
       "A1BG                                  2.340100   \n",
       "A1BG-AS1                              1.505240   \n",
       "A1CF                                  0.011234   \n",
       "A2M                                  79.867700   \n",
       "A2ML1                                85.963400   \n",
       "...                                        ...   \n",
       "ZYX                                 113.264000   \n",
       "ZZEF1                                20.582600   \n",
       "ZZZ3                                 10.813400   \n",
       "psiTPTE22                                  NaN   \n",
       "tAKR                                       NaN   \n",
       "\n",
       "           Skin - Sun Exposed (Lower leg)  Small Intestine - Terminal Ileum  \\\n",
       "gene_name                                                                     \n",
       "A1BG                             2.192790                          2.804740   \n",
       "A1BG-AS1                         1.257310                          2.505390   \n",
       "A1CF                             0.014398                          6.028670   \n",
       "A2M                            119.502000                        278.726000   \n",
       "A2ML1                           81.979000                          0.121853   \n",
       "...                                   ...                               ...   \n",
       "ZYX                            143.671000                        145.308000   \n",
       "ZZEF1                           22.154200                         37.807800   \n",
       "ZZZ3                            11.453800                          7.666690   \n",
       "psiTPTE22                             NaN                               NaN   \n",
       "tAKR                                  NaN                               NaN   \n",
       "\n",
       "               Spleen     Stomach      Testis     Thyroid      Uterus  \\\n",
       "gene_name                                                               \n",
       "A1BG         6.324840    1.350860    1.542190    4.536520    7.846930   \n",
       "A1BG-AS1     5.426820    1.006890    0.640786    3.716960    6.283290   \n",
       "A1CF         0.009638    0.239152    0.047557    0.016392    0.007013   \n",
       "A2M        286.536000  176.050000   65.231800  457.219000  637.325000   \n",
       "A2ML1        0.132588    0.129857    8.122970    0.145466    0.330162   \n",
       "...               ...         ...         ...         ...         ...   \n",
       "ZYX        239.367000   87.356600  153.602000  132.050000  743.002000   \n",
       "ZZEF1       25.619800   16.345900   20.717600   25.892000   25.629500   \n",
       "ZZZ3         7.493900    6.135160    6.293300   14.359900   15.325900   \n",
       "psiTPTE22         NaN         NaN         NaN         NaN         NaN   \n",
       "tAKR              NaN         NaN         NaN         NaN         NaN   \n",
       "\n",
       "               Vagina  Whole Blood  \n",
       "gene_name                           \n",
       "A1BG         5.491580     1.691720  \n",
       "A1BG-AS1     3.273600     1.280710  \n",
       "A1CF         0.010876     0.005726  \n",
       "A2M        259.814000     1.261570  \n",
       "A2ML1      234.742000     0.046193  \n",
       "...               ...          ...  \n",
       "ZYX        248.278000   685.078000  \n",
       "ZZEF1       17.664600     9.162160  \n",
       "ZZZ3        11.913300     0.844963  \n",
       "psiTPTE22         NaN          NaN  \n",
       "tAKR              NaN          NaN  \n",
       "\n",
       "[20472 rows x 54 columns]"
      ]
     },
     "execution_count": 17,
     "metadata": {},
     "output_type": "execute_result"
    }
   ],
   "source": [
    "luad_data.MessengerRNA.get_annotation_expressions()"
   ]
  },
  {
   "cell_type": "code",
   "execution_count": 18,
   "metadata": {},
   "outputs": [
    {
     "name": "stdout",
     "output_type": "stream",
     "text": [
      "Index(['transcript_id', 'RNA type', 'go_id', 'Rfams', 'gene_id',\n",
      "       'transcript_name', 'chromosome_name', 'transcript_start',\n",
      "       'transcript_end', 'transcript_length', 'gene_biotype',\n",
      "       'transcript_biotype', 'Transcript sequence', 'disease_associations'],\n",
      "      dtype='object')\n",
      "Index(['RNAcentral id', 'mirbase id', 'database', 'transcript_id', 'RNA type',\n",
      "       'go_id', 'Rfams', 'transcript_name', 'chromosome_name',\n",
      "       'transcript_start', 'transcript_end', 'transcript_length',\n",
      "       'gene_biotype', 'transcript_biotype', 'Transcript sequence',\n",
      "       'disease_associations'],\n",
      "      dtype='object')\n",
      "Index(['gene_name', 'feature', 'start', 'end', 'strand', 'tag', 'havana_gene',\n",
      "       'transcript_id', 'transcript_name', 'chromosome_name',\n",
      "       'transcript_start', 'transcript_end', 'transcript_length', 'Rfams',\n",
      "       'go_id', 'gene_biotype', 'transcript_biotype', 'Transcript sequence',\n",
      "       'disease_associations'],\n",
      "      dtype='object')\n"
     ]
    }
   ],
   "source": [
    "LNC = luad_data.LncRNA.get_annotations()\n",
    "MIR = luad_data.MicroRNA.get_annotations()\n",
    "GE = luad_data.MessengerRNA.get_annotations()\n",
    "print(GE.columns)\n",
    "print(MIR.columns)\n",
    "print(LNC.columns)"
   ]
  },
  {
   "cell_type": "code",
   "execution_count": 19,
   "metadata": {},
   "outputs": [],
   "source": [
    "# import pickle\n",
    "# with open('moge/data/luad_data_openomics.pickle', 'wb') as file:\n",
    "# #     luad_data = pickle.load(file)\n",
    "#     pickle.dump(luad_data, file)"
   ]
  },
  {
   "cell_type": "markdown",
   "metadata": {},
   "source": [
    "# Add tissue median gene expressions"
   ]
  },
  {
   "cell_type": "code",
   "execution_count": null,
   "metadata": {
    "scrolled": true
   },
   "outputs": [],
   "source": [
    "gene_exp_medians = pd.read_csv(\"/data/datasets/Bioinformatics_ExternalData/GTEx/GTEx_Analysis_2016-01-15_v7_RNASeQCv1.1.8_gene_median_tpm.gct\", \n",
    "                               sep='\\t', header=1, skiprows=1)\n",
    "gene_exp_medians[\"gene_id\"] = gene_exp_medians[\"gene_id\"].str.replace(\"[.].*\", \"\")\n",
    "gene_exp_medians.set_index(\"gene_id\", inplace=True)\n",
    "gene_exp_medians.drop(\"Description\", axis=1, inplace=True)"
   ]
  },
  {
   "cell_type": "code",
   "execution_count": null,
   "metadata": {
    "scrolled": true
   },
   "outputs": [],
   "source": [
    "transcript_exp_medians = pd.read_csv(\"/data/datasets/Bioinformatics_ExternalData/GTEx/GTEx_Analysis_2016-01-15_v7_RSEMv1.2.22_transcript_max_tpm.tsv\",\n",
    "                                     sep='\\t')\n",
    "transcript_exp_medians[\"gene_id\"] = transcript_exp_medians[\"gene_id\"].str.replace(\"[.].*\", \"\")\n",
    "transcript_exp_medians.set_index(\"gene_id\", inplace=True)\n",
    "transcript_exp_medians\n",
    "# # transcript_exp_medians = transcript_exp_medians.T\n",
    "# transcript_exp_medians.index = transcript_exp_medians.index.str.replace(\"[.].*\", \"\")"
   ]
  },
  {
   "cell_type": "code",
   "execution_count": null,
   "metadata": {},
   "outputs": [],
   "source": [
    "mir_gene_id_to_name = pd.Series(MIR[\"mirbase id\"].values, index=MIR[\"transcript_id\"]).to_dict()\n",
    "lnc_gene_id_to_name = pd.Series(LNC.index.values, index=LNC.index).to_dict()"
   ]
  },
  {
   "cell_type": "code",
   "execution_count": null,
   "metadata": {
    "scrolled": true
   },
   "outputs": [],
   "source": [
    "GE_tissue_exp = gene_exp_medians[gene_exp_medians.index.isin(GE.index)]\n",
    "GE_tissue_exp = GE_tissue_exp[~GE_tissue_exp.index.duplicated(keep=\"first\")]\n",
    "GE_tissue_exp.shape"
   ]
  },
  {
   "cell_type": "code",
   "execution_count": null,
   "metadata": {
    "scrolled": true
   },
   "outputs": [],
   "source": [
    "LNC_tissue_exp = transcript_exp_medians[transcript_exp_medians.index.isin(LNC.index)]\n",
    "# LNC_tissue_exp.index = LNC_tissue_exp.index.map(lnc_gene_id_to_name)\n",
    "LNC_tissue_exp.shape"
   ]
  },
  {
   "cell_type": "code",
   "execution_count": null,
   "metadata": {},
   "outputs": [],
   "source": [
    "pd.concat([GE_tissue_exp, LNC_tissue_exp], join=\"inner\", copy=True)"
   ]
  },
  {
   "cell_type": "code",
   "execution_count": null,
   "metadata": {
    "scrolled": true
   },
   "outputs": [],
   "source": [
    "MIR_tissue_exp = transcript_exp_medians[transcript_exp_medians.index.isin(MIR.index)]\n",
    "MIR_tissue_exp[\"transcript_id\"] = MIR_tissue_exp.index\n",
    "# MIR_tissue_exp[\"transcript_id\"].replace(mir_gene_id_to_name, inplace=True)\n",
    "MIR_tissue_exp.set_index(\"transcript_id\", inplace=True)\n",
    "# MIR_tissue_exp.drop(\"transcript_id\", axis=1, inplace=True)\n",
    "MIR_tissue_exp.shape"
   ]
  },
  {
   "cell_type": "markdown",
   "metadata": {},
   "source": [
    "# Heterogeneous Network"
   ]
  },
  {
   "cell_type": "code",
   "execution_count": 3,
   "metadata": {},
   "outputs": [],
   "source": [
    "import pickle\n",
    "with open('moge/data/luad_data_openomics.pickle', 'rb') as file:\n",
    "    luad_data = pickle.load(file)\n",
    "#     pickle.dump(luad_data, file)"
   ]
  },
  {
   "cell_type": "code",
   "execution_count": null,
   "metadata": {},
   "outputs": [],
   "source": [
    "from moge.network.heterogeneous_network import HeterogeneousNetwork\n",
    "\n",
    "network = HeterogeneousNetwork(modalities=[\"MicroRNA\", \"MessengerRNA\", \"LncRNA\"], multi_omics_data=luad_data)"
   ]
  },
  {
   "cell_type": "markdown",
   "metadata": {},
   "source": [
    "## Write node labels to file"
   ]
  },
  {
   "cell_type": "code",
   "execution_count": null,
   "metadata": {
    "scrolled": true
   },
   "outputs": [],
   "source": [
    "from moge.network.file_io import write_node_labels_to_file\n",
    "\n",
    "# write_node_labels_to_file(\"moge/data/lncRNA_miRNA_mRNA/lncRNA-miRNA-mRNA_node_labels_family.tsv\", luad_data, \n",
    "#                           label_cols=[\"family\"],\n",
    "#                           modalities=[\"MIR\", \"GE\", \"LNC\"], \n",
    "#                           get_dummies=False)\n",
    "\n",
    "# write_node_labels_to_file(\"moge/data/lncRNA_miRNA_mRNA/lncRNA-miRNA-mRNA_node_labels_disease_dummies.tsv\", luad_data, \n",
    "#                           label_cols=[\"Disease association\"],\n",
    "#                           modalities=[\"MIR\", \"GE\", \"LNC\"], remove_na=True, sep=\"\\t\",\n",
    "#                           get_dummies=True)"
   ]
  },
  {
   "cell_type": "markdown",
   "metadata": {},
   "source": [
    "# Add Attribute Affinity Positive Edges"
   ]
  },
  {
   "cell_type": "code",
   "execution_count": null,
   "metadata": {
    "scrolled": true
   },
   "outputs": [],
   "source": [
    "affinities_GE = network.add_edges_from_nodes_similarity(modality=\"GE\", node_list=network.nodes[\"GE\"], \n",
    "    similarity_threshold=0.80, dissimilarity_threshold=0.01,\n",
    "    negative_sampling_ratio=5.0, nanmean=True,\n",
    "    features=[\"GO Terms\", \"Disease association\"],\n",
    "    weights=[1, 1],\n",
    "    compute_correlation=False)"
   ]
  },
  {
   "cell_type": "code",
   "execution_count": null,
   "metadata": {
    "scrolled": true
   },
   "outputs": [],
   "source": [
    "affinities_GE = network.add_edges_from_nodes_similarity(modality=\"GE\", node_list=network.nodes[\"GE\"], \n",
    "    similarity_threshold=0.85, dissimilarity_threshold=0.01,\n",
    "    negative_sampling_ratio=5.0, nanmean=False,\n",
    "    features=[\"locus_type\", \"gene_family_id\", \"location\"], \n",
    "    weights=[0.5, 1, 0.5, 1],\n",
    "    compute_correlation=True, tissue_expression=GE_tissue_exp)"
   ]
  },
  {
   "cell_type": "code",
   "execution_count": null,
   "metadata": {
    "scrolled": true
   },
   "outputs": [],
   "source": [
    "affinities_MIR = network.add_edges_from_nodes_similarity(modality=\"MIR\", node_list=network.nodes[\"MIR\"], \n",
    "    similarity_threshold=0.70, dissimilarity_threshold=0.01,\n",
    "    negative_sampling_ratio=5.0, nanmean=True,\n",
    "    features=[\"GO Terms\", \"Disease association\"], \n",
    "    compute_correlation=False)"
   ]
  },
  {
   "cell_type": "code",
   "execution_count": null,
   "metadata": {
    "scrolled": true
   },
   "outputs": [],
   "source": [
    "affinities_MIR = network.add_edges_from_nodes_similarity(modality=\"MIR\", node_list=network.nodes[\"MIR\"], \n",
    "    similarity_threshold=0.70, dissimilarity_threshold=0.01,\n",
    "    negative_sampling_ratio=5.0, nanmean=True,\n",
    "    features=[\"Family\", \"Rfams\"], \n",
    "    compute_correlation=True, tissue_expression=MIR_tissue_exp)"
   ]
  },
  {
   "cell_type": "code",
   "execution_count": null,
   "metadata": {
    "scrolled": true
   },
   "outputs": [],
   "source": [
    "affinities_LNC = network.add_edges_from_nodes_similarity(modality=\"LNC\", node_list=network.nodes[\"LNC\"], \n",
    "    similarity_threshold=0.90, dissimilarity_threshold=0.1,\n",
    "    negative_sampling_ratio=5.0, \n",
    "    nanmean=False,\n",
    "    features=[\"locus_type\", \"Transcript type\", \"tag\", \"Strand\", \"Chromosome\"],\n",
    "    weights=[1, 1, 0.5, 0.5, 1, 1],\n",
    "    compute_correlation=True, tissue_expression=LNC_tissue_exp)"
   ]
  },
  {
   "cell_type": "code",
   "execution_count": null,
   "metadata": {},
   "outputs": [],
   "source": [
    "affinities_LNC = network.add_edges_from_nodes_similarity(modality=\"LNC\", node_list=network.nodes[\"LNC\"], \n",
    "    similarity_threshold=0.70, dissimilarity_threshold=0.01,\n",
    "    negative_sampling_ratio=5.0, nanmean=True,\n",
    "    features=[\"GO Terms\", \"Family\", \"Disease association\"], \n",
    "    compute_correlation=False)"
   ]
  },
  {
   "cell_type": "code",
   "execution_count": null,
   "metadata": {},
   "outputs": [],
   "source": [
    "matrix_heatmap(network.get_adjacency_matrix(edge_types=[\"u\"], node_list=network.nodes[\"GE\"]).todense(),\n",
    "              figsize=(7,7))"
   ]
  },
  {
   "cell_type": "code",
   "execution_count": null,
   "metadata": {},
   "outputs": [],
   "source": [
    "matrix_heatmap(network.get_adjacency_matrix(edge_types=[\"u\"], node_list=network.nodes[\"MIR\"]).todense(),\n",
    "              figsize=(5,5))"
   ]
  },
  {
   "cell_type": "code",
   "execution_count": null,
   "metadata": {},
   "outputs": [],
   "source": [
    "matrix_heatmap(network.get_adjacency_matrix(edge_types=[\"u\"], node_list=network.nodes[\"LNC\"]).todense(),\n",
    "              figsize=(7,7))"
   ]
  },
  {
   "cell_type": "code",
   "execution_count": null,
   "metadata": {},
   "outputs": [],
   "source": [
    "# IMPORT Affinity Edgelist\n",
    "network.import_edgelist_file(\n",
    "#     file=\"moge/data/LMN_future_recall/TRAIN/Interactions_Affinity/lmn_n70_m70_l70-70_TissueExp_GO_Rfams_Disease_Family_GO_affinity.edgelist\", \n",
    "    file=\"moge/data/LMN_future_recall/TRAIN/Interactions_Only/GE/lmn_train.BioGRID.interactions.edgelist\", \n",
    "    is_directed=True)\n",
    "\n",
    "network.import_edgelist_file(\n",
    "    file=\"moge/data/LMN_future_recall/TRAIN/Interactions_Only/MIR/lmn_train.miRTarBase.interactions.edgelist\", \n",
    "    is_directed=True)\n",
    "\n",
    "network.import_edgelist_file(\n",
    "    file=\"moge/data/LMN_future_recall/TRAIN/Interactions_Only/LNC/lmn_train.lncBase.interactions.edgelist\", \n",
    "    is_directed=True)\n",
    "\n",
    "network.import_edgelist_file(\n",
    "    file=\"moge/data/LMN_future_recall/TRAIN/Interactions_Only/LNC/lmn_train.lncrna2target.interactions.edgelist\", \n",
    "    is_directed=True)"
   ]
  },
  {
   "cell_type": "code",
   "execution_count": null,
   "metadata": {},
   "outputs": [],
   "source": [
    "# WRITE Affinity Edgelist\n",
    "# nx.write_edgelist(network.get_subgraph([\"MIR\", \"GE\", \"LNC\"], edge_type=\"u\"), \n",
    "#                   \"moge/data/LMN_future_recall/TRAIN/Interactions_Affinity/lmn_n70_m70_l70-70_TissueExp_GO_Rfams_Disease_Family_GO_affinity.edgelist\", \n",
    "#                   data=True)"
   ]
  },
  {
   "cell_type": "markdown",
   "metadata": {},
   "source": [
    "# Add Attribute Affinity NEGATIVE Edges between cross-modals"
   ]
  },
  {
   "cell_type": "code",
   "execution_count": null,
   "metadata": {},
   "outputs": [],
   "source": [
    "u_n_size = 10000\n",
    "network.add_sampled_negative_edges(u_n_size, modalities=[\"GE\", \"MIR\"])\n",
    "network.add_sampled_negative_edges(u_n_size*2, modalities=[\"GE\", \"LNC\"])\n",
    "network.add_sampled_negative_edges(u_n_size, modalities=[\"LNC\", \"MIR\"])"
   ]
  },
  {
   "cell_type": "markdown",
   "metadata": {},
   "source": [
    "# miRTarBase"
   ]
  },
  {
   "cell_type": "code",
   "execution_count": null,
   "metadata": {},
   "outputs": [],
   "source": [
    "mirtarbase_new = luad_data.MIR.get_miRTarBase_miRNA_target_interaction(use_latest=True, data=False, rename_dict=case_relabel)\n",
    "mirtarbase_old = luad_data.MIR.get_miRTarBase_miRNA_target_interaction(use_latest=False, data=False, rename_dict=case_relabel)\n",
    "mirtarbase_diff = list(set(mirtarbase_new) - set(mirtarbase_old))\n",
    "len(mirtarbase_diff)"
   ]
  },
  {
   "cell_type": "code",
   "execution_count": null,
   "metadata": {},
   "outputs": [],
   "source": [
    "# Adds miRNA-target interaction network\n",
    "network.add_directed_edges_from_edgelist(edgelist=luad_data.MIR.get_miRTarBase_miRNA_target_interaction(use_latest=False),\n",
    "#                                                                                                        rename_dict=case_relabel), \n",
    "                                        modalities=[\"MIR\", \"GE\"], correlation_weights=False, threshold=0.20,\n",
    "                                        database=\"miRTarBase\")"
   ]
  },
  {
   "cell_type": "markdown",
   "metadata": {},
   "source": [
    "# StarBase mRNA-RNA"
   ]
  },
  {
   "cell_type": "code",
   "execution_count": null,
   "metadata": {},
   "outputs": [],
   "source": [
    "starbase_new = luad_data.GE.get_starBase_RNA_RNA_interactions(min_expNum=1, data=False)\n",
    "starbase_old = luad_data.GE.get_starBase_RNA_RNA_interactions(min_expNum=2, data=False)\n",
    "starbase_diff = list(set(starbase_new) - set(starbase_old))\n",
    "len(starbase_diff)"
   ]
  },
  {
   "cell_type": "code",
   "execution_count": null,
   "metadata": {},
   "outputs": [],
   "source": [
    "# Adds Gene Regulatory Network edges\n",
    "network.add_directed_edges_from_edgelist(edgelist=luad_data.LNC.get_starBase_lncRNA_RNA_interactions(),\n",
    "                                        modalities=[\"LNC\", \"GE\"], correlation_weights=False, threshold=0.2,\n",
    "                                        database=\"starBase\")"
   ]
  },
  {
   "cell_type": "markdown",
   "metadata": {},
   "source": [
    "# BioGRID"
   ]
  },
  {
   "cell_type": "code",
   "execution_count": null,
   "metadata": {},
   "outputs": [],
   "source": [
    "biogrid_new = luad_data.GE.get_BioGRID_GRN_edgelist(data=False, rename_dict=case_relabel,\n",
    "                biogrid_interactions_file_path='/data/datasets/Bioinformatics_ExternalData/BioGRID/BIOGRID-ALL-3.5.169.tab2.txt')\n",
    "biogrid_old = luad_data.GE.get_BioGRID_GRN_edgelist(data=False, rename_dict=case_relabel,\n",
    "                biogrid_interactions_file_path='/data/datasets/Bioinformatics_ExternalData/BioGRID/BIOGRID-ALL-3.4.162.tab2.txt')\n",
    "biogrid_diff = list(set(biogrid_new) - set(biogrid_old))\n",
    "len(biogrid_diff)"
   ]
  },
  {
   "cell_type": "code",
   "execution_count": null,
   "metadata": {},
   "outputs": [],
   "source": [
    "# Adds Gene Regulatory Network edges\n",
    "network.add_directed_edges_from_edgelist(edgelist=luad_data.GE.get_BioGRID_GRN_edgelist(biogrid_interactions_file_path='/data/datasets/Bioinformatics_ExternalData/BioGRID/BIOGRID-ALL-3.4.162.tab2.txt'),\n",
    "#                                                                                        rename_dict=case_relabel),\n",
    "                                        modalities=[\"GE\", \"GE\"], correlation_weights=False, threshold=0.2,\n",
    "                                        database=\"BioGRID\")"
   ]
  },
  {
   "cell_type": "markdown",
   "metadata": {},
   "source": [
    "# NPInter"
   ]
  },
  {
   "cell_type": "code",
   "execution_count": null,
   "metadata": {},
   "outputs": [],
   "source": [
    "from moge.network.heterogeneous_network import get_rename_dict\n",
    "noncode_rename_dict = pd.Series(luad_data.LNC.noncode_func_df[\"Gene Name\"].values,\n",
    "     index=luad_data.LNC.noncode_func_df[\"NONCODE Gene ID\"].str.split(\".\", expand=True)[0]).to_dict()\n",
    "noncode_rename_dict = {k: noncode_rename_dict[k] for k in noncode_rename_dict if type(noncode_rename_dict[k])!=float}\n",
    "\n",
    "lncbase_rename_dict = get_rename_dict(luad_data.LNC.get_genes_info(), \"Gene ID\")\n",
    "lncbase_rename_dict.update(noncode_rename_dict)"
   ]
  },
  {
   "cell_type": "code",
   "execution_count": null,
   "metadata": {},
   "outputs": [],
   "source": [
    "# lncbase_rename_dict.update(case_relabel)"
   ]
  },
  {
   "cell_type": "code",
   "execution_count": null,
   "metadata": {},
   "outputs": [],
   "source": [
    "npinter_new = luad_data.LNC.get_NPInter_ncRNA_RNA_regulatory_interaction_edgelist(use_latest=True, data=False,\n",
    "                                                                                 rename_dict=lncbase_rename_dict)\n",
    "npinter_old = luad_data.LNC.get_NPInter_ncRNA_RNA_regulatory_interaction_edgelist(use_latest=False, data=False,\n",
    "                                                                                 rename_dict=lncbase_rename_dict)\n",
    "npinter_diff = list(set(npinter_new) - set(npinter_old))\n",
    "len(npinter_diff)"
   ]
  },
  {
   "cell_type": "code",
   "execution_count": null,
   "metadata": {},
   "outputs": [],
   "source": [
    "network.add_directed_edges_from_edgelist(edgelist=luad_data.LNC.get_NPInter_ncRNA_RNA_regulatory_interaction_edgelist(use_latest=False), \n",
    "#                                                                                                                       rename_dict=lncbase_rename_dict),\n",
    "                                         modalities=[\"LNC\", \"GE\"], correlation_weights=False, threshold=0.20,\n",
    "                                        database=\"NPInter\")"
   ]
  },
  {
   "cell_type": "markdown",
   "metadata": {},
   "source": [
    "# lncBase"
   ]
  },
  {
   "cell_type": "code",
   "execution_count": null,
   "metadata": {},
   "outputs": [],
   "source": [
    "lncbase_new = luad_data.LNC.get_lncBase_miRNA_lncRNA_predicted_interactions_edgelist(rename_dict=lncbase_rename_dict,\n",
    "                                                                                     data=False)\n",
    "lncbase_old = luad_data.LNC.get_lncBase_miRNA_lncRNA_interactions_edgelist(rename_dict=lncbase_rename_dict, \n",
    "                                                                           data=False)\n",
    "lncbase_diff = list(set(lncbase_new) - set(lncbase_old))\n",
    "print(len(lncbase_diff))"
   ]
  },
  {
   "cell_type": "code",
   "execution_count": null,
   "metadata": {},
   "outputs": [],
   "source": [
    "# Adds miRNA-lncRNA interaction network\n",
    "# network.add_directed_edges_from_edgelist(edgelist=luad_data.LNC.get_starBase_lncRNA_miRNA_interactions_edgelist(),\n",
    "#                                         )\n",
    "# network.add_directed_edges_from_edgelist(edgelist=luad_data.LNC.get_lncRNome_miRNA_binding_sites_edgelist(),\n",
    "#                                          modalities=[\"LNC\", \"MIR\"], correlation_weights=False, threshold=0.20,\n",
    "#                                         database=\"lncRNome\")\n",
    "\n",
    "network.add_directed_edges_from_edgelist(edgelist=luad_data.LNC.get_lncBase_miRNA_lncRNA_interactions_edgelist(rename_dict=lncbase_rename_dict),\n",
    "                                         modalities=[\"MIR\", \"LNC\"], correlation_weights=False, threshold=0.20,\n",
    "                                        database=\"lncBase\")\n",
    "\n",
    "\n",
    "# network.add_directed_edges_from_edgelist(edgelist=luad_data.LNC.get_LncReg_lncRNA_RNA_regulatory_interactions(),\n",
    "#                                          modalities=[\"LNC\", \"GE\"], correlation_weights=False, threshold=0.20,\n",
    "#                                         database=\"LncReg\")"
   ]
  },
  {
   "cell_type": "markdown",
   "metadata": {},
   "source": [
    "# lncrna2target"
   ]
  },
  {
   "cell_type": "code",
   "execution_count": null,
   "metadata": {},
   "outputs": [],
   "source": [
    "lnc2tar_low = luad_data.LNC.get_lncrna2target_low_throughput_interactions(data=False, rename_dict=lncbase_rename_dict)\n",
    "lnc2tar_high = luad_data.LNC.get_lncrna2target_high_throughput_interactions(data=False, rename_dict=lncbase_rename_dict)\n",
    "lnc2tar_diff = list(set(lnc2tar_high) - set(lnc2tar_low))\n",
    "len(lnc2tar_diff)"
   ]
  },
  {
   "cell_type": "code",
   "execution_count": null,
   "metadata": {},
   "outputs": [],
   "source": [
    "network.add_directed_edges_from_edgelist(edgelist=luad_data.LNC.get_lncrna2target_high_throughput_interactions(rename_dict=lncbase_rename_dict),\n",
    "                                         modalities=[\"LNC\", \"GE\"], correlation_weights=False, threshold=0.20,\n",
    "                                        database=\"lncrna2target\")\n",
    "\n",
    "# network.add_directed_edges_from_edgelist(edgelist=luad_data.LNC.get_lncrna2target_low_throughput_interactions(rename_dict=lncbase_rename_dict),\n",
    "#                                          modalities=[\"LNC\", \"GE\"], correlation_weights=False, threshold=0.20,\n",
    "#                                         database=\"lncrna2target\")\n",
    "\n",
    "# network.add_directed_edges_from_edgelist(edgelist=luad_data.LNC.get_lncRInter_interactions(),\n",
    "#                                          modalities=[\"LNC\", \"GE\"], correlation_weights=False, threshold=0.20,\n",
    "#                                         database=\"lncRInter\")"
   ]
  },
  {
   "cell_type": "code",
   "execution_count": null,
   "metadata": {},
   "outputs": [],
   "source": [
    "npinter_val = {(u,v) for u,v,d in network.G.edges(data=True) if \"database\" in d and d[\"database\"]==\"NPInter\"}\n",
    "len(npinter_val)\n",
    "npinter_train = {(u,v) for u,v,d in network.G.edges(data=True) if \"database\" in d and d[\"database\"]==\"NPInter\"}\n",
    "len(npinter_train)\n",
    "len(lncbase_train & l2t_val)"
   ]
  },
  {
   "cell_type": "markdown",
   "metadata": {},
   "source": [
    "# Filter the edges"
   ]
  },
  {
   "cell_type": "code",
   "execution_count": null,
   "metadata": {},
   "outputs": [],
   "source": [
    "with open('moge/data/LMN_future_recall/TRAIN/Interactions_Affinity/LMN_lncbase_mirtarbase_biogrid_npinter_lncrna2target.train_v2.pickle', \n",
    "          'rb') as file:\n",
    "    network = pickle.load(file)"
   ]
  },
  {
   "cell_type": "code",
   "execution_count": null,
   "metadata": {},
   "outputs": [],
   "source": [
    "edges_bunch = [(u,v,d) for u,v,d in network.G.edges(data=True) if (\"database\" in d and \n",
    "                                                                   d[\"database\"]==\"miRTarBase\")]\n",
    "print(len(edges_bunch))"
   ]
  },
  {
   "cell_type": "code",
   "execution_count": null,
   "metadata": {},
   "outputs": [],
   "source": [
    "database_nodes = nx.DiGraph(incoming_graph_data=edges_bunch).nodes()\n",
    "database_nodes = list(database_nodes)\n",
    "len(database_nodes)"
   ]
  },
  {
   "cell_type": "code",
   "execution_count": null,
   "metadata": {},
   "outputs": [],
   "source": [
    "edges_bunch = [(u,v,d) for u,v,d in network.G.edges(nbunch=database_nodes, data=True) \\\n",
    "               if d[\"type\"] == 'u' or d[\"type\"] == \"u_n\" or (\"database\" in d and d[\"database\"]==\"miRTarBase\")]\n",
    "print(len(edges_bunch))"
   ]
  },
  {
   "cell_type": "code",
   "execution_count": null,
   "metadata": {},
   "outputs": [],
   "source": [
    "network.G.clear()\n",
    "network.G.add_edges_from(edges_bunch)"
   ]
  },
  {
   "cell_type": "markdown",
   "metadata": {},
   "source": [
    "# Filter the node_list"
   ]
  },
  {
   "cell_type": "code",
   "execution_count": null,
   "metadata": {},
   "outputs": [],
   "source": [
    "node_pairs = {(node1, node2) for node1 in network.G.nodes for node2 in network.G.nodes if\\\n",
    "              node1!=node2 and node2.lower()==node1.lower()}\n",
    "len(node_pairs)"
   ]
  },
  {
   "cell_type": "code",
   "execution_count": null,
   "metadata": {},
   "outputs": [],
   "source": [
    "case_relabel = {}\n",
    "for u,v in node_pairs:\n",
    "    if v in network.genes_info.index:\n",
    "        case_relabel[u] = v\n",
    "    elif u in network.genes_info.index:\n",
    "        case_relabel[v] = u\n",
    "len(case_relabel)"
   ]
  },
  {
   "cell_type": "code",
   "execution_count": null,
   "metadata": {},
   "outputs": [],
   "source": [
    "len([node for node in network.G.nodes if node not in network.genes_info.index])"
   ]
  },
  {
   "cell_type": "code",
   "execution_count": null,
   "metadata": {},
   "outputs": [],
   "source": [
    "isolates = list(nx.isolates(network.G))\n",
    "len(isolates)"
   ]
  },
  {
   "cell_type": "code",
   "execution_count": null,
   "metadata": {},
   "outputs": [],
   "source": [
    "network.G.remove_nodes_from(isolates)"
   ]
  },
  {
   "cell_type": "code",
   "execution_count": null,
   "metadata": {},
   "outputs": [],
   "source": [
    "network.nodes[\"MessengerRNA\"] = [node for node in network.nodes[\"MessengerRNA\"] if node in network.G.nodes()]\n",
    "network.nodes[\"LncRNA\"] = [node for node in network.nodes[\"LncRNA\"] if node in network.G.nodes()]\n",
    "network.nodes[\"MicroRNA\"] = [node for node in network.nodes[\"MicroRNA\"] if node in network.G.nodes()]"
   ]
  },
  {
   "cell_type": "code",
   "execution_count": null,
   "metadata": {},
   "outputs": [],
   "source": [
    "network.G.number_of_nodes(), network.G.number_of_edges()"
   ]
  },
  {
   "cell_type": "code",
   "execution_count": null,
   "metadata": {},
   "outputs": [],
   "source": [
    "len(network.node_list)"
   ]
  },
  {
   "cell_type": "code",
   "execution_count": null,
   "metadata": {},
   "outputs": [],
   "source": [
    "# WRITE/READ FULL network\n",
    "import pickle\n",
    "with open('moge/data/LMN_future_recall/TRAIN/Interactions_Only/LMN_lncbase_mirtarbase_biogrid_lncrna2target_openomics.train.pickle', \n",
    "          'wb') as file:\n",
    "    pickle.dump(network, file)\n",
    "#     network = pickle.load(file)"
   ]
  },
  {
   "cell_type": "markdown",
   "metadata": {},
   "source": [
    "# Train test split"
   ]
  },
  {
   "cell_type": "code",
   "execution_count": null,
   "metadata": {},
   "outputs": [],
   "source": [
    "network.split_train_test_nodes(node_list=network.node_list, verbose=True,)"
   ]
  },
  {
   "cell_type": "code",
   "execution_count": null,
   "metadata": {},
   "outputs": [],
   "source": [
    "train_generator = network.get_train_generator()"
   ]
  },
  {
   "cell_type": "code",
   "execution_count": null,
   "metadata": {},
   "outputs": [],
   "source": [
    "test_generator = network.get_test_generator()"
   ]
  },
  {
   "cell_type": "markdown",
   "metadata": {},
   "source": [
    "## Network Info & Visualizations"
   ]
  },
  {
   "cell_type": "code",
   "execution_count": null,
   "metadata": {},
   "outputs": [],
   "source": [
    "print(len(network.G.nodes()))\n",
    "print(len(network.G.edges()))"
   ]
  },
  {
   "cell_type": "code",
   "execution_count": null,
   "metadata": {},
   "outputs": [],
   "source": [
    "csr_un = network.get_adjacency_matrix(edge_types=[\"u_n\"], node_list=network.node_list)\n",
    "csr_u = network.get_adjacency_matrix(edge_types=[\"u\"], node_list=network.node_list)\n",
    "csr_d = network.get_adjacency_matrix(edge_types=[\"d\"], node_list=network.node_list)"
   ]
  },
  {
   "cell_type": "code",
   "execution_count": null,
   "metadata": {},
   "outputs": [],
   "source": [
    "matrix_heatmap(csr_un.toarray())"
   ]
  },
  {
   "cell_type": "code",
   "execution_count": null,
   "metadata": {},
   "outputs": [],
   "source": [
    "matrix_heatmap(csr_u.toarray())"
   ]
  },
  {
   "cell_type": "code",
   "execution_count": null,
   "metadata": {},
   "outputs": [],
   "source": [
    "matrix_heatmap(csr_d.toarray())"
   ]
  }
 ],
 "metadata": {
  "kernelspec": {
   "display_name": "Python 3",
   "language": "python",
   "name": "python3"
  },
  "language_info": {
   "codemirror_mode": {
    "name": "ipython",
    "version": 3
   },
   "file_extension": ".py",
   "mimetype": "text/x-python",
   "name": "python",
   "nbconvert_exporter": "python",
   "pygments_lexer": "ipython3",
   "version": "3.6.10"
  }
 },
 "nbformat": 4,
 "nbformat_minor": 4
}
