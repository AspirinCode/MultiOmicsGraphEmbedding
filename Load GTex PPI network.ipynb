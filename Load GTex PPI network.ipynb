{
 "cells": [
  {
   "cell_type": "code",
   "execution_count": 1,
   "metadata": {},
   "outputs": [],
   "source": [
    "%load_ext autoreload\n",
    "%autoreload 2\n",
    "\n",
    "import sys\n",
    "sys.path.insert(0, \"../openTCGA/\")\n",
    "sys.path.insert(0, \"../MultiOmicsGraphEmbedding/\")\n",
    "\n",
    "import networkx as nx\n",
    "import numpy as np\n",
    "import pandas as pd\n",
    "import scipy.sparse as sps\n",
    "import pickle\n",
    "import matplotlib.pyplot as plt\n",
    "\n",
    "from openomics import MultiOmics, Protein, MessengerRNA, MicroRNA, LncRNA\n",
    "from openomics.database import *\n",
    "from openomics.genomics import *\n",
    "\n",
    "from moge.visualization.data import matrix_heatmap, plot_coo_matrix\n",
    "from moge.visualization.embedding import visualize_embedding\n",
    "from moge.network.semantic_similarity import *"
   ]
  },
  {
   "cell_type": "code",
   "execution_count": 2,
   "metadata": {},
   "outputs": [],
   "source": [
    "proteinatlas = ProteinAtlas()\n",
    "protein_expressions = proteinatlas.get_expressions(index=\"protein_name\", type=\"RNA - \")"
   ]
  },
  {
   "cell_type": "code",
   "execution_count": 3,
   "metadata": {},
   "outputs": [
    {
     "name": "stdout",
     "output_type": "stream",
     "text": [
      "Protein (154, 19651) , indexed by: protein_name\n"
     ]
    }
   ],
   "source": [
    "cohort_name = \"ProteinAtlas\"\n",
    "gtex_data = MultiOmics(cohort_name)\n",
    "gtex_data.add_omic(Protein(cohort_name, data=protein_expressions,\n",
    "                             gene_index_by=\"protein_name\", transposed=True,\n",
    "                             columns=None))\n",
    "\n",
    "# luad_data.build_samples()"
   ]
  },
  {
   "cell_type": "code",
   "execution_count": 4,
   "metadata": {
    "scrolled": true
   },
   "outputs": [
    {
     "name": "stdout",
     "output_type": "stream",
     "text": [
      "STRING: ['item_id_a', 'item_id_b', 'mode', 'action', 'is_directional', 'a_is_acting', 'score']\n"
     ]
    },
    {
     "name": "stderr",
     "output_type": "stream",
     "text": [
      "/opt/anaconda3/lib/python3.6/site-packages/ipykernel_launcher.py:2: DtypeWarning:\n",
      "\n",
      "Columns (9,10,19,20) have mixed types.Specify dtype option on import or set low_memory=False.\n",
      "\n"
     ]
    },
    {
     "name": "stdout",
     "output_type": "stream",
     "text": [
      "BioGRID: ['#BioGRID Interaction ID', 'Entrez Gene Interactor A', 'Entrez Gene Interactor B', 'BioGRID ID Interactor A', 'BioGRID ID Interactor B', 'Systematic Name Interactor A', 'Systematic Name Interactor B', 'Official Symbol Interactor A', 'Official Symbol Interactor B', 'Synonyms Interactor A', 'Synonyms Interactor B', 'Experimental System', 'Experimental System Type', 'Author', 'Pubmed ID', 'Organism Interactor A', 'Organism Interactor B', 'Throughput', 'Score', 'Modification', 'Phenotypes', 'Qualifications', 'Tags', 'Source Database']\n"
     ]
    }
   ],
   "source": [
    "string = STRING(edge_attr=[\"score\"])\n",
    "biogrid = BioGRID(edge_attr=['Score', 'Throughput', 'Experimental System', 'Experimental System Type'])\n",
    "disgenet = DisGeNet(path=\"https://www.disgenet.org/static/disgenet_ap1/files/downloads/\", curated=True)\n",
    "go = GeneOntology()"
   ]
  },
  {
   "cell_type": "code",
   "execution_count": 5,
   "metadata": {
    "scrolled": true
   },
   "outputs": [
    {
     "name": "stdout",
     "output_type": "stream",
     "text": [
      "Seq protein_name collisions: 10\n"
     ]
    }
   ],
   "source": [
    "# Protein\n",
    "gtex_data.Protein.annotate_genomics(string, index=\"protein_name\", \n",
    "                                    columns=['protein_size', 'protein_id', 'annotation'])\n",
    "gtex_data.Protein.annotate_sequences(string, index=\"protein_name\")\n",
    "gtex_data.Protein.annotations[\"gene_name\"] = gtex_data.Protein.annotations.index.get_level_values(\"protein_name\")\n",
    "gtex_data.Protein.annotate_genomics(database=go, index=\"gene_name\", columns=['go_id'])\n",
    "gtex_data.Protein.annotate_diseases(database=disgenet, index=\"gene_name\")\n",
    "gtex_data.Protein.annotation_expressions = gtex_data.Protein.expressions.T"
   ]
  },
  {
   "cell_type": "code",
   "execution_count": 6,
   "metadata": {},
   "outputs": [],
   "source": [
    "gtex_data.Protein.annotate_genomics(database=proteinatlas, index=\"protein_name\", \n",
    "                                    columns=['Protein class', 'Uniprot', 'Chromosome', 'Position', 'Antibody',\n",
    "                                             'Subcellular location'])"
   ]
  },
  {
   "cell_type": "code",
   "execution_count": 7,
   "metadata": {},
   "outputs": [
    {
     "data": {
      "text/plain": [
       "protein_name\n",
       "A1BG       [GO:0005576, GO:0002576, GO:0008150, GO:004331...\n",
       "A1CF       [GO:0003725, GO:0005634, GO:0003729, GO:000573...\n",
       "A2M        [GO:0002576, GO:0007597, GO:0002020, GO:000551...\n",
       "A2ML1      [GO:0005576, GO:0004867, GO:0002020, GO:000561...\n",
       "A3GALT2    [GO:0030259, GO:0016757, GO:0032580, GO:004687...\n",
       "                                 ...                        \n",
       "ZXDC       [GO:0005634, GO:0030275, GO:0003700, GO:004687...\n",
       "ZYG11A                                          [GO:0031462]\n",
       "ZYG11B                  [GO:0031462, GO:0006515, GO:0032436]\n",
       "ZYX        [GO:0043149, GO:0005634, GO:0005737, GO:000716...\n",
       "ZZEF1                               [GO:0005509, GO:0008270]\n",
       "Name: go_id, Length: 19651, dtype: object"
      ]
     },
     "execution_count": 7,
     "metadata": {},
     "output_type": "execute_result"
    }
   ],
   "source": [
    "filted_go_annotations = go.filter_annotation(gtex_data.Protein.annotations[\"go_id\"].str.split(\"|\"))\n",
    "filted_go_annotations"
   ]
  },
  {
   "cell_type": "code",
   "execution_count": 8,
   "metadata": {
    "scrolled": true
   },
   "outputs": [
    {
     "data": {
      "text/html": [
       "<div>\n",
       "<style scoped>\n",
       "    .dataframe tbody tr th:only-of-type {\n",
       "        vertical-align: middle;\n",
       "    }\n",
       "\n",
       "    .dataframe tbody tr th {\n",
       "        vertical-align: top;\n",
       "    }\n",
       "\n",
       "    .dataframe thead th {\n",
       "        text-align: right;\n",
       "    }\n",
       "</style>\n",
       "<table border=\"1\" class=\"dataframe\">\n",
       "  <thead>\n",
       "    <tr style=\"text-align: right;\">\n",
       "      <th></th>\n",
       "      <th>gene_name</th>\n",
       "      <th>protein_size</th>\n",
       "      <th>protein_id</th>\n",
       "      <th>annotation</th>\n",
       "      <th>sequence</th>\n",
       "      <th>go_id</th>\n",
       "      <th>disease_associations</th>\n",
       "      <th>Protein class</th>\n",
       "      <th>Uniprot</th>\n",
       "      <th>Chromosome</th>\n",
       "      <th>Position</th>\n",
       "      <th>Antibody</th>\n",
       "      <th>Subcellular location</th>\n",
       "    </tr>\n",
       "    <tr>\n",
       "      <th>protein_name</th>\n",
       "      <th></th>\n",
       "      <th></th>\n",
       "      <th></th>\n",
       "      <th></th>\n",
       "      <th></th>\n",
       "      <th></th>\n",
       "      <th></th>\n",
       "      <th></th>\n",
       "      <th></th>\n",
       "      <th></th>\n",
       "      <th></th>\n",
       "      <th></th>\n",
       "      <th></th>\n",
       "    </tr>\n",
       "  </thead>\n",
       "  <tbody>\n",
       "    <tr>\n",
       "      <th>A1BG</th>\n",
       "      <td>A1BG</td>\n",
       "      <td>495</td>\n",
       "      <td>9606.ENSP00000263100</td>\n",
       "      <td>Alpha-1B-glycoprotein; Immunoglobulin like dom...</td>\n",
       "      <td>MSMLVVFLLLWGVTWGPVTEAAIFYETQPSLWAESESLLKPLANVT...</td>\n",
       "      <td>GO:0005576|GO:0002576|GO:0008150|GO:0043312|GO...</td>\n",
       "      <td>[hepatomegaly, schizophrenia]</td>\n",
       "      <td>Plasma proteins, Predicted intracellular prote...</td>\n",
       "      <td>P04217</td>\n",
       "      <td>19</td>\n",
       "      <td>58345178-58353499</td>\n",
       "      <td>CAB016673, HPA044252</td>\n",
       "      <td>None</td>\n",
       "    </tr>\n",
       "    <tr>\n",
       "      <th>A1CF</th>\n",
       "      <td>A1CF</td>\n",
       "      <td>602</td>\n",
       "      <td>9606.ENSP00000378868</td>\n",
       "      <td>APOBEC1 complementation factor; Essential comp...</td>\n",
       "      <td>MEAVCLGTCPEPEASMSTAIPGLKKGNNALQSIILQTLLEKENGQR...</td>\n",
       "      <td>GO:0003725|GO:0005634|GO:0003729|GO:0005737|GO...</td>\n",
       "      <td>NaN</td>\n",
       "      <td>Predicted intracellular proteins</td>\n",
       "      <td>Q9NQ94</td>\n",
       "      <td>10</td>\n",
       "      <td>50799409-50885675</td>\n",
       "      <td>HPA037779, HPA044079</td>\n",
       "      <td>Nucleoplasm</td>\n",
       "    </tr>\n",
       "    <tr>\n",
       "      <th>A2M</th>\n",
       "      <td>A2M</td>\n",
       "      <td>1474</td>\n",
       "      <td>9606.ENSP00000323929</td>\n",
       "      <td>Alpha-2-macroglobulin; Is able to inhibit all ...</td>\n",
       "      <td>MGKNKLLHPSLVLLLLVLLPTDASVSGKPQYMVLVPSLLHTETTEK...</td>\n",
       "      <td>GO:0002576|GO:0007597|GO:0002020|GO:0005515|GO...</td>\n",
       "      <td>[alzheimer's disease, malignant tumor of colon...</td>\n",
       "      <td>Cancer-related genes, Candidate cardiovascular...</td>\n",
       "      <td>P01023</td>\n",
       "      <td>12</td>\n",
       "      <td>9067664-9116229</td>\n",
       "      <td>HPA002265, CAB017621</td>\n",
       "      <td>None</td>\n",
       "    </tr>\n",
       "    <tr>\n",
       "      <th>A2ML1</th>\n",
       "      <td>A2ML1</td>\n",
       "      <td>1454</td>\n",
       "      <td>9606.ENSP00000299698</td>\n",
       "      <td>Alpha-2-macroglobulin-like protein 1; Is able ...</td>\n",
       "      <td>MWAQLLLGMLALSPAIAEELPNYLVTLPARLNFPSVQKVCLDLSPG...</td>\n",
       "      <td>GO:0005576|GO:0004867|GO:0002020|GO:0005615|GO...</td>\n",
       "      <td>[noonan syndrome, otitis media, intellectual d...</td>\n",
       "      <td>Predicted intracellular proteins, Predicted se...</td>\n",
       "      <td>A8K2U0</td>\n",
       "      <td>12</td>\n",
       "      <td>8822472-8887001</td>\n",
       "      <td>HPA038847, HPA038848</td>\n",
       "      <td>None</td>\n",
       "    </tr>\n",
       "    <tr>\n",
       "      <th>A3GALT2</th>\n",
       "      <td>A3GALT2</td>\n",
       "      <td>340</td>\n",
       "      <td>9606.ENSP00000475261</td>\n",
       "      <td>Alpha-1,3-galactosyltransferase 2; Synthesizes...</td>\n",
       "      <td>MALKEGLRAWKRIFWRQILLTLGLLGLFLYGLPKFRHLEALIPMGV...</td>\n",
       "      <td>GO:0030259|GO:0016757|GO:0032580|GO:0046872|GO...</td>\n",
       "      <td>NaN</td>\n",
       "      <td>Enzymes, Predicted membrane proteins</td>\n",
       "      <td>U3KPV4</td>\n",
       "      <td>1</td>\n",
       "      <td>33306766-33321098</td>\n",
       "      <td>None</td>\n",
       "      <td>None</td>\n",
       "    </tr>\n",
       "    <tr>\n",
       "      <th>...</th>\n",
       "      <td>...</td>\n",
       "      <td>...</td>\n",
       "      <td>...</td>\n",
       "      <td>...</td>\n",
       "      <td>...</td>\n",
       "      <td>...</td>\n",
       "      <td>...</td>\n",
       "      <td>...</td>\n",
       "      <td>...</td>\n",
       "      <td>...</td>\n",
       "      <td>...</td>\n",
       "      <td>...</td>\n",
       "      <td>...</td>\n",
       "    </tr>\n",
       "    <tr>\n",
       "      <th>ZXDC</th>\n",
       "      <td>ZXDC</td>\n",
       "      <td>858</td>\n",
       "      <td>9606.ENSP00000374359</td>\n",
       "      <td>Zinc finger protein ZXDC; Cooperates with CIIT...</td>\n",
       "      <td>MDLPALLPAPTARGGQHGGGPGPLRRAPAPLGASPARRRLLLVRGP...</td>\n",
       "      <td>GO:0005634|GO:0030275|GO:0003700|GO:0046872|GO...</td>\n",
       "      <td>NaN</td>\n",
       "      <td>Predicted intracellular proteins, Transcriptio...</td>\n",
       "      <td>Q2QGD7</td>\n",
       "      <td>3</td>\n",
       "      <td>126437601-126475919</td>\n",
       "      <td>HPA049593</td>\n",
       "      <td>Nucleoli</td>\n",
       "    </tr>\n",
       "    <tr>\n",
       "      <th>ZYG11A</th>\n",
       "      <td>ZYG11A</td>\n",
       "      <td>759</td>\n",
       "      <td>9606.ENSP00000360583</td>\n",
       "      <td>Protein zyg-11 homolog A; Probably acts as tar...</td>\n",
       "      <td>MVHFLHPGHTPRNIVPPDAQKDALGCCVVQEEASPYTLVNICLNVL...</td>\n",
       "      <td>GO:0031462|GO:0031461|GO:1990234|GO:1902494|GO...</td>\n",
       "      <td>NaN</td>\n",
       "      <td>Predicted intracellular proteins</td>\n",
       "      <td>Q6WRX3</td>\n",
       "      <td>1</td>\n",
       "      <td>52842511-52894998</td>\n",
       "      <td>HPA030378, HPA030379</td>\n",
       "      <td>Nucleoplasm</td>\n",
       "    </tr>\n",
       "    <tr>\n",
       "      <th>ZYG11B</th>\n",
       "      <td>ZYG11B</td>\n",
       "      <td>744</td>\n",
       "      <td>9606.ENSP00000294353</td>\n",
       "      <td>Protein zyg-11 homolog B; Probably acts as tar...</td>\n",
       "      <td>MPEDQAGAAMEEASPYSLLDICLNFLTTHLEKFCSARQDGTLCLQE...</td>\n",
       "      <td>GO:0031462|GO:0006515|GO:0032436|GO:1990234|GO...</td>\n",
       "      <td>NaN</td>\n",
       "      <td>Predicted intracellular proteins</td>\n",
       "      <td>Q9C0D3</td>\n",
       "      <td>1</td>\n",
       "      <td>52726467-52827342</td>\n",
       "      <td>HPA028156</td>\n",
       "      <td>Golgi apparatus,Intermediate filaments</td>\n",
       "    </tr>\n",
       "    <tr>\n",
       "      <th>ZYX</th>\n",
       "      <td>ZYX</td>\n",
       "      <td>572</td>\n",
       "      <td>9606.ENSP00000324422</td>\n",
       "      <td>Zyxin; Adhesion plaque protein. Binds alpha-ac...</td>\n",
       "      <td>MAAPRPSPAISVSVSAPAFYAPQKKFGPVVAPKPKVNPFRPGDSEP...</td>\n",
       "      <td>GO:0043149|GO:0005634|GO:0005737|GO:0007165|GO...</td>\n",
       "      <td>NaN</td>\n",
       "      <td>Plasma proteins, Predicted intracellular proteins</td>\n",
       "      <td>Q15942</td>\n",
       "      <td>7</td>\n",
       "      <td>143381080-143391111</td>\n",
       "      <td>HPA004835, CAB009321, HPA073497, CAB075747</td>\n",
       "      <td>Focal adhesion sites</td>\n",
       "    </tr>\n",
       "    <tr>\n",
       "      <th>ZZEF1</th>\n",
       "      <td>ZZEF1</td>\n",
       "      <td>2961</td>\n",
       "      <td>9606.ENSP00000371051</td>\n",
       "      <td>Zinc finger ZZ-type and EF-hand domain contain...</td>\n",
       "      <td>MGNAPSHSSEDEAAAAGGEGWGPHQDWAAVSGTTPGPGVAAPALPP...</td>\n",
       "      <td>GO:0005509|GO:0008270|GO:0046872|GO:0043167|GO...</td>\n",
       "      <td>NaN</td>\n",
       "      <td>Predicted membrane proteins</td>\n",
       "      <td>O43149</td>\n",
       "      <td>17</td>\n",
       "      <td>4004445-4143020</td>\n",
       "      <td>HPA031778, HPA031790</td>\n",
       "      <td>Nucleoplasm,Mitochondria</td>\n",
       "    </tr>\n",
       "  </tbody>\n",
       "</table>\n",
       "<p>19651 rows × 13 columns</p>\n",
       "</div>"
      ],
      "text/plain": [
       "             gene_name protein_size            protein_id  \\\n",
       "protein_name                                                \n",
       "A1BG              A1BG          495  9606.ENSP00000263100   \n",
       "A1CF              A1CF          602  9606.ENSP00000378868   \n",
       "A2M                A2M         1474  9606.ENSP00000323929   \n",
       "A2ML1            A2ML1         1454  9606.ENSP00000299698   \n",
       "A3GALT2        A3GALT2          340  9606.ENSP00000475261   \n",
       "...                ...          ...                   ...   \n",
       "ZXDC              ZXDC          858  9606.ENSP00000374359   \n",
       "ZYG11A          ZYG11A          759  9606.ENSP00000360583   \n",
       "ZYG11B          ZYG11B          744  9606.ENSP00000294353   \n",
       "ZYX                ZYX          572  9606.ENSP00000324422   \n",
       "ZZEF1            ZZEF1         2961  9606.ENSP00000371051   \n",
       "\n",
       "                                                     annotation  \\\n",
       "protein_name                                                      \n",
       "A1BG          Alpha-1B-glycoprotein; Immunoglobulin like dom...   \n",
       "A1CF          APOBEC1 complementation factor; Essential comp...   \n",
       "A2M           Alpha-2-macroglobulin; Is able to inhibit all ...   \n",
       "A2ML1         Alpha-2-macroglobulin-like protein 1; Is able ...   \n",
       "A3GALT2       Alpha-1,3-galactosyltransferase 2; Synthesizes...   \n",
       "...                                                         ...   \n",
       "ZXDC          Zinc finger protein ZXDC; Cooperates with CIIT...   \n",
       "ZYG11A        Protein zyg-11 homolog A; Probably acts as tar...   \n",
       "ZYG11B        Protein zyg-11 homolog B; Probably acts as tar...   \n",
       "ZYX           Zyxin; Adhesion plaque protein. Binds alpha-ac...   \n",
       "ZZEF1         Zinc finger ZZ-type and EF-hand domain contain...   \n",
       "\n",
       "                                                       sequence  \\\n",
       "protein_name                                                      \n",
       "A1BG          MSMLVVFLLLWGVTWGPVTEAAIFYETQPSLWAESESLLKPLANVT...   \n",
       "A1CF          MEAVCLGTCPEPEASMSTAIPGLKKGNNALQSIILQTLLEKENGQR...   \n",
       "A2M           MGKNKLLHPSLVLLLLVLLPTDASVSGKPQYMVLVPSLLHTETTEK...   \n",
       "A2ML1         MWAQLLLGMLALSPAIAEELPNYLVTLPARLNFPSVQKVCLDLSPG...   \n",
       "A3GALT2       MALKEGLRAWKRIFWRQILLTLGLLGLFLYGLPKFRHLEALIPMGV...   \n",
       "...                                                         ...   \n",
       "ZXDC          MDLPALLPAPTARGGQHGGGPGPLRRAPAPLGASPARRRLLLVRGP...   \n",
       "ZYG11A        MVHFLHPGHTPRNIVPPDAQKDALGCCVVQEEASPYTLVNICLNVL...   \n",
       "ZYG11B        MPEDQAGAAMEEASPYSLLDICLNFLTTHLEKFCSARQDGTLCLQE...   \n",
       "ZYX           MAAPRPSPAISVSVSAPAFYAPQKKFGPVVAPKPKVNPFRPGDSEP...   \n",
       "ZZEF1         MGNAPSHSSEDEAAAAGGEGWGPHQDWAAVSGTTPGPGVAAPALPP...   \n",
       "\n",
       "                                                          go_id  \\\n",
       "protein_name                                                      \n",
       "A1BG          GO:0005576|GO:0002576|GO:0008150|GO:0043312|GO...   \n",
       "A1CF          GO:0003725|GO:0005634|GO:0003729|GO:0005737|GO...   \n",
       "A2M           GO:0002576|GO:0007597|GO:0002020|GO:0005515|GO...   \n",
       "A2ML1         GO:0005576|GO:0004867|GO:0002020|GO:0005615|GO...   \n",
       "A3GALT2       GO:0030259|GO:0016757|GO:0032580|GO:0046872|GO...   \n",
       "...                                                         ...   \n",
       "ZXDC          GO:0005634|GO:0030275|GO:0003700|GO:0046872|GO...   \n",
       "ZYG11A        GO:0031462|GO:0031461|GO:1990234|GO:1902494|GO...   \n",
       "ZYG11B        GO:0031462|GO:0006515|GO:0032436|GO:1990234|GO...   \n",
       "ZYX           GO:0043149|GO:0005634|GO:0005737|GO:0007165|GO...   \n",
       "ZZEF1         GO:0005509|GO:0008270|GO:0046872|GO:0043167|GO...   \n",
       "\n",
       "                                           disease_associations  \\\n",
       "protein_name                                                      \n",
       "A1BG                              [hepatomegaly, schizophrenia]   \n",
       "A1CF                                                        NaN   \n",
       "A2M           [alzheimer's disease, malignant tumor of colon...   \n",
       "A2ML1         [noonan syndrome, otitis media, intellectual d...   \n",
       "A3GALT2                                                     NaN   \n",
       "...                                                         ...   \n",
       "ZXDC                                                        NaN   \n",
       "ZYG11A                                                      NaN   \n",
       "ZYG11B                                                      NaN   \n",
       "ZYX                                                         NaN   \n",
       "ZZEF1                                                       NaN   \n",
       "\n",
       "                                                  Protein class Uniprot  \\\n",
       "protein_name                                                              \n",
       "A1BG          Plasma proteins, Predicted intracellular prote...  P04217   \n",
       "A1CF                           Predicted intracellular proteins  Q9NQ94   \n",
       "A2M           Cancer-related genes, Candidate cardiovascular...  P01023   \n",
       "A2ML1         Predicted intracellular proteins, Predicted se...  A8K2U0   \n",
       "A3GALT2                    Enzymes, Predicted membrane proteins  U3KPV4   \n",
       "...                                                         ...     ...   \n",
       "ZXDC          Predicted intracellular proteins, Transcriptio...  Q2QGD7   \n",
       "ZYG11A                         Predicted intracellular proteins  Q6WRX3   \n",
       "ZYG11B                         Predicted intracellular proteins  Q9C0D3   \n",
       "ZYX           Plasma proteins, Predicted intracellular proteins  Q15942   \n",
       "ZZEF1                               Predicted membrane proteins  O43149   \n",
       "\n",
       "             Chromosome             Position  \\\n",
       "protein_name                                   \n",
       "A1BG                 19    58345178-58353499   \n",
       "A1CF                 10    50799409-50885675   \n",
       "A2M                  12      9067664-9116229   \n",
       "A2ML1                12      8822472-8887001   \n",
       "A3GALT2               1    33306766-33321098   \n",
       "...                 ...                  ...   \n",
       "ZXDC                  3  126437601-126475919   \n",
       "ZYG11A                1    52842511-52894998   \n",
       "ZYG11B                1    52726467-52827342   \n",
       "ZYX                   7  143381080-143391111   \n",
       "ZZEF1                17      4004445-4143020   \n",
       "\n",
       "                                                Antibody  \\\n",
       "protein_name                                               \n",
       "A1BG                                CAB016673, HPA044252   \n",
       "A1CF                                HPA037779, HPA044079   \n",
       "A2M                                 HPA002265, CAB017621   \n",
       "A2ML1                               HPA038847, HPA038848   \n",
       "A3GALT2                                             None   \n",
       "...                                                  ...   \n",
       "ZXDC                                           HPA049593   \n",
       "ZYG11A                              HPA030378, HPA030379   \n",
       "ZYG11B                                         HPA028156   \n",
       "ZYX           HPA004835, CAB009321, HPA073497, CAB075747   \n",
       "ZZEF1                               HPA031778, HPA031790   \n",
       "\n",
       "                                Subcellular location  \n",
       "protein_name                                          \n",
       "A1BG                                            None  \n",
       "A1CF                                     Nucleoplasm  \n",
       "A2M                                             None  \n",
       "A2ML1                                           None  \n",
       "A3GALT2                                         None  \n",
       "...                                              ...  \n",
       "ZXDC                                        Nucleoli  \n",
       "ZYG11A                                   Nucleoplasm  \n",
       "ZYG11B        Golgi apparatus,Intermediate filaments  \n",
       "ZYX                             Focal adhesion sites  \n",
       "ZZEF1                       Nucleoplasm,Mitochondria  \n",
       "\n",
       "[19651 rows x 13 columns]"
      ]
     },
     "execution_count": 8,
     "metadata": {},
     "output_type": "execute_result"
    }
   ],
   "source": [
    "gtex_data.Protein.annotations[\"go_id\"] = go.add_predecessor_terms(filted_go_annotations, return_str=True)\n",
    "gtex_data.Protein.annotations"
   ]
  },
  {
   "cell_type": "code",
   "execution_count": 9,
   "metadata": {},
   "outputs": [],
   "source": [
    "gtex_data.Protein.annotations[\"disease_associations\"] = gtex_data.Protein.annotations[\"disease_associations\"].map(\n",
    "                lambda x: \"|\".join(x) if isinstance(x, list) else None)"
   ]
  },
  {
   "cell_type": "code",
   "execution_count": 10,
   "metadata": {},
   "outputs": [
    {
     "data": {
      "text/plain": [
       "protein_name\n",
       "A1BG                              hepatomegaly|schizophrenia\n",
       "A1CF                                                    None\n",
       "A2M        alzheimer's disease|malignant tumor of colon|c...\n",
       "A2ML1      noonan syndrome|otitis media|intellectual disa...\n",
       "A3GALT2                                                 None\n",
       "                                 ...                        \n",
       "ZXDC                                                    None\n",
       "ZYG11A                                                  None\n",
       "ZYG11B                                                  None\n",
       "ZYX                                                     None\n",
       "ZZEF1                                                   None\n",
       "Name: disease_associations, Length: 19651, dtype: object"
      ]
     },
     "execution_count": 10,
     "metadata": {},
     "output_type": "execute_result"
    }
   ],
   "source": [
    "gtex_data.Protein.annotations[\"disease_associations\"]"
   ]
  },
  {
   "cell_type": "code",
   "execution_count": 11,
   "metadata": {},
   "outputs": [],
   "source": [
    "import pickle\n",
    "with open('data/proteinatlas_data.pickle', 'wb') as file:\n",
    "#     gtex_data = pickle.load(file)\n",
    "    pickle.dump(gtex_data, file)"
   ]
  },
  {
   "cell_type": "markdown",
   "metadata": {},
   "source": [
    "# Build network"
   ]
  },
  {
   "cell_type": "code",
   "execution_count": 13,
   "metadata": {
    "scrolled": true
   },
   "outputs": [
    {
     "name": "stdout",
     "output_type": "stream",
     "text": [
      "Protein  nodes: 19651\n",
      "Total nodes: 19651\n",
      "Annotation columns: ['gene_name', 'protein_size', 'protein_id', 'annotation', 'sequence', 'go_id', 'disease_associations', 'Protein class', 'Uniprot', 'Chromosome', 'Position', 'Antibody', 'Subcellular location', 'omic']\n"
     ]
    }
   ],
   "source": [
    "from moge.network.heterogeneous import HeterogeneousNetwork\n",
    "network = HeterogeneousNetwork(multiomics=gtex_data, modalities=[\"Protein\"])"
   ]
  },
  {
   "cell_type": "code",
   "execution_count": null,
   "metadata": {},
   "outputs": [],
   "source": [
    "network.annotations"
   ]
  },
  {
   "cell_type": "code",
   "execution_count": null,
   "metadata": {},
   "outputs": [],
   "source": [
    "# network.add_edges(biogrid.get_interactions(network.node_list, data=True, inclusive=True), \n",
    "#                   directed=False, \n",
    "#                   modalities=[\"Protein\", \"Protein\"], database=biogrid.name())"
   ]
  },
  {
   "cell_type": "code",
   "execution_count": 14,
   "metadata": {},
   "outputs": [
    {
     "name": "stdout",
     "output_type": "stream",
     "text": [
      "513817 edges added.\n"
     ]
    }
   ],
   "source": [
    "network.add_edges(string.get_interactions(network.node_list, data=True, inclusive=True), \n",
    "                  directed=False, \n",
    "                  modalities=[\"Protein\", \"Protein\"], database=string.name())"
   ]
  },
  {
   "cell_type": "code",
   "execution_count": 15,
   "metadata": {},
   "outputs": [
    {
     "name": "stdout",
     "output_type": "stream",
     "text": [
      "full_network 19651 513817\n",
      "label go_id filtered: 13576 with min_count=10\n"
     ]
    },
    {
     "name": "stderr",
     "output_type": "stream",
     "text": [
      "/opt/anaconda3/lib/python3.6/site-packages/sklearn/model_selection/_split.py:296: FutureWarning:\n",
      "\n",
      "Setting a random_state has no effect since shuffle is False. This will raise an error in 0.24. You should leave random_state to its default (None), or set shuffle=True.\n",
      "\n"
     ]
    },
    {
     "name": "stdout",
     "output_type": "stream",
     "text": [
      "train 16508 test 1835\n",
      "train 16505 test 1838\n",
      "train 16518 test 1825\n",
      "train 16508 test 1835\n",
      "train 16519 test 1824\n",
      "train 16521 test 1822\n",
      "train 16508 test 1835\n",
      "train 16480 test 1863\n",
      "train 16504 test 1839\n",
      "train 16516 test 1827\n"
     ]
    }
   ],
   "source": [
    "network.split_stratified(stratify_label=\"go_id\", stratify_omic=False, directed=False,\n",
    "                         n_splits=10, dropna=False, seed=42, verbose=True)\n",
    "\n",
    "with open('data/proteinatlas_string_network.pickle', 'wb') as file:\n",
    "#     network = pickle.load(file)\n",
    "    pickle.dump(network, file)"
   ]
  },
  {
   "cell_type": "markdown",
   "metadata": {},
   "source": [
    "# Build Multiplex network"
   ]
  },
  {
   "cell_type": "code",
   "execution_count": 16,
   "metadata": {},
   "outputs": [
    {
     "name": "stdout",
     "output_type": "stream",
     "text": [
      "Protein  nodes: 19651 protein_name\n",
      "Total nodes: 19651\n",
      "All annotation columns (union): {'protein_id', 'annotation', 'Position', 'protein_size', 'Subcellular location', 'omic', 'Chromosome', 'Uniprot', 'sequence', 'Antibody', 'gene_name', 'disease_associations', 'Protein class', 'go_id'}\n"
     ]
    }
   ],
   "source": [
    "from moge.network.multiplex import MultiplexAttributedNetwork\n",
    "from networkx import Graph, DiGraph\n",
    "\n",
    "multi_network = MultiplexAttributedNetwork(multiomics=gtex_data,\n",
    "                                     modalities=[\"Protein\"], \n",
    "                                     layers={\n",
    "                                         (Protein.name(), Protein.name(), \"physical\"): Graph,\n",
    "                                         (Protein.name(), Protein.name(), \"genetic\"): Graph,\n",
    "                                         (Protein.name(), Protein.name(), \"correlation\"): Graph,\n",
    "                                     })"
   ]
  },
  {
   "cell_type": "code",
   "execution_count": 17,
   "metadata": {},
   "outputs": [
    {
     "data": {
      "text/plain": [
       "343404"
      ]
     },
     "execution_count": 17,
     "metadata": {},
     "output_type": "execute_result"
    }
   ],
   "source": [
    "biogrid_edges = biogrid.get_interactions(multi_network.node_list, data=True, inclusive=True)\n",
    "len(biogrid_edges)"
   ]
  },
  {
   "cell_type": "code",
   "execution_count": 18,
   "metadata": {},
   "outputs": [
    {
     "name": "stdout",
     "output_type": "stream",
     "text": [
      "335401 edges added to self.networks[('Protein', 'Protein', 'physical')]\n",
      "8003 edges added to self.networks[('Protein', 'Protein', 'genetic')]\n"
     ]
    }
   ],
   "source": [
    "multi_network.add_edges([(u,v,d) for u,v,d in biogrid_edges if d[\"Experimental System Type\"] == \"physical\"], \n",
    "                  database=biogrid.name(), directed=False,\n",
    "                  layer=(Protein.name(), Protein.name(), \"physical\")\n",
    "                 )\n",
    "multi_network.add_edges([(u,v,d) for u,v,d in biogrid_edges if d[\"Experimental System Type\"] == \"genetic\"], \n",
    "                  database=biogrid.name(), directed=False,\n",
    "                  layer=(Protein.name(), Protein.name(), \"genetic\")\n",
    "                 )"
   ]
  },
  {
   "cell_type": "code",
   "execution_count": 19,
   "metadata": {},
   "outputs": [
    {
     "data": {
      "text/plain": [
       "309436"
      ]
     },
     "execution_count": 19,
     "metadata": {},
     "output_type": "execute_result"
    }
   ],
   "source": [
    "ebunch = multi_network.get_correlation_edges(modality=\"Protein\", node_list=multi_network.node_list, threshold=0.8)\n",
    "len(ebunch)"
   ]
  },
  {
   "cell_type": "code",
   "execution_count": 20,
   "metadata": {},
   "outputs": [
    {
     "name": "stdout",
     "output_type": "stream",
     "text": [
      "309436 edges added to self.networks[('Protein', 'Protein', 'correlation')]\n"
     ]
    }
   ],
   "source": [
    "multi_network.add_edges(ebunch, \n",
    "                  database=\"ProteinAtlas\", directed=False,\n",
    "                  layer=(Protein.name(), Protein.name(), \"correlation\")\n",
    "                 )"
   ]
  },
  {
   "cell_type": "code",
   "execution_count": 21,
   "metadata": {},
   "outputs": [
    {
     "name": "stdout",
     "output_type": "stream",
     "text": [
      "label go_id filtered: 13576 with min_count=10\n"
     ]
    },
    {
     "name": "stderr",
     "output_type": "stream",
     "text": [
      "/opt/anaconda3/lib/python3.6/site-packages/sklearn/model_selection/_split.py:296: FutureWarning:\n",
      "\n",
      "Setting a random_state has no effect since shuffle is False. This will raise an error in 0.24. You should leave random_state to its default (None), or set shuffle=True.\n",
      "\n"
     ]
    },
    {
     "name": "stdout",
     "output_type": "stream",
     "text": [
      "train 16508 test 1835\n",
      "train 16511 test 1832\n",
      "train 16502 test 1841\n",
      "train 16505 test 1838\n",
      "train 16499 test 1844\n",
      "train 16519 test 1824\n",
      "train 16509 test 1834\n",
      "train 16524 test 1819\n",
      "train 16509 test 1834\n",
      "train 16501 test 1842\n"
     ]
    }
   ],
   "source": [
    "multi_network.split_stratified(stratify_label=\"go_id\", stratify_omic=False, \n",
    "                         n_splits=10, dropna=False, seed=42, verbose=True)\n",
    "\n",
    "with open('data/proteinatlas_biogrid_multi_network.pickle', 'wb') as file:\n",
    "#     multi_network = pickle.load(file)\n",
    "    pickle.dump(multi_network, file)"
   ]
  },
  {
   "cell_type": "code",
   "execution_count": null,
   "metadata": {},
   "outputs": [],
   "source": []
  }
 ],
 "metadata": {
  "kernelspec": {
   "display_name": "Python 3",
   "language": "python",
   "name": "python3"
  },
  "language_info": {
   "codemirror_mode": {
    "name": "ipython",
    "version": 3
   },
   "file_extension": ".py",
   "mimetype": "text/x-python",
   "name": "python",
   "nbconvert_exporter": "python",
   "pygments_lexer": "ipython3",
   "version": "3.6.10"
  }
 },
 "nbformat": 4,
 "nbformat_minor": 4
}
